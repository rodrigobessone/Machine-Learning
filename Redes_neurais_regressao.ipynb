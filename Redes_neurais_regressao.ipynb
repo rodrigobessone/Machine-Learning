{
  "nbformat": 4,
  "nbformat_minor": 0,
  "metadata": {
    "colab": {
      "provenance": []
    },
    "kernelspec": {
      "name": "python3",
      "display_name": "Python 3"
    },
    "language_info": {
      "name": "python"
    }
  },
  "cells": [
    {
      "cell_type": "markdown",
      "source": [
        "# **REDES NEURAIS ARTIFICIAIS: REGRESSÃO**"
      ],
      "metadata": {
        "id": "qLYL9vRhOG9c"
      }
    },
    {
      "cell_type": "markdown",
      "metadata": {
        "id": "kXFCCsVHTtTP"
      },
      "source": [
        "Este projeto tem por objetivo desenvolver um algoritmo de Machine Learning para prever o valor do preço médio de casas em Boston. "
      ]
    },
    {
      "cell_type": "markdown",
      "metadata": {
        "id": "5ZQ2nYhQUc3G"
      },
      "source": [
        "Os dados foram extraídos do site do Kaggle:\n",
        "\n",
        "https://www.kaggle.com/schirmerchad/bostonhoustingmlnd"
      ]
    },
    {
      "cell_type": "code",
      "metadata": {
        "id": "nWvIcticlCs2",
        "colab": {
          "base_uri": "https://localhost:8080/"
        },
        "outputId": "3f0323c5-e671-41fa-823e-66cbd2e7aaa9"
      },
      "source": [
        "import numpy as np\n",
        "import pandas as pd\n",
        "from google.colab import drive\n",
        "drive.mount('/content/drive')\n"
      ],
      "execution_count": 5,
      "outputs": [
        {
          "output_type": "stream",
          "name": "stdout",
          "text": [
            "Drive already mounted at /content/drive; to attempt to forcibly remount, call drive.mount(\"/content/drive\", force_remount=True).\n"
          ]
        }
      ]
    },
    {
      "cell_type": "code",
      "metadata": {
        "id": "LRIrwcC8kUhT"
      },
      "source": [
        "df = pd.read_csv('/content/drive/MyDrive/machine_learning/housing.csv',\n",
        "                    sep=',', encoding='iso-8859-1')"
      ],
      "execution_count": 6,
      "outputs": []
    },
    {
      "cell_type": "code",
      "source": [
        "df.head()"
      ],
      "metadata": {
        "id": "QtugliripIyp",
        "colab": {
          "base_uri": "https://localhost:8080/",
          "height": 206
        },
        "outputId": "e46de13b-ad33-46f8-ae88-642f14bd427b"
      },
      "execution_count": 7,
      "outputs": [
        {
          "output_type": "execute_result",
          "data": {
            "text/plain": [
              "      RM  LSTAT  PTRATIO      MEDV\n",
              "0  6.575   4.98     15.3  504000.0\n",
              "1  6.421   9.14     17.8  453600.0\n",
              "2  7.185   4.03     17.8  728700.0\n",
              "3  6.998   2.94     18.7  701400.0\n",
              "4  7.147   5.33     18.7  760200.0"
            ],
            "text/html": [
              "\n",
              "  <div id=\"df-4111ee8a-59ed-4741-b266-e48b20fb95f6\">\n",
              "    <div class=\"colab-df-container\">\n",
              "      <div>\n",
              "<style scoped>\n",
              "    .dataframe tbody tr th:only-of-type {\n",
              "        vertical-align: middle;\n",
              "    }\n",
              "\n",
              "    .dataframe tbody tr th {\n",
              "        vertical-align: top;\n",
              "    }\n",
              "\n",
              "    .dataframe thead th {\n",
              "        text-align: right;\n",
              "    }\n",
              "</style>\n",
              "<table border=\"1\" class=\"dataframe\">\n",
              "  <thead>\n",
              "    <tr style=\"text-align: right;\">\n",
              "      <th></th>\n",
              "      <th>RM</th>\n",
              "      <th>LSTAT</th>\n",
              "      <th>PTRATIO</th>\n",
              "      <th>MEDV</th>\n",
              "    </tr>\n",
              "  </thead>\n",
              "  <tbody>\n",
              "    <tr>\n",
              "      <th>0</th>\n",
              "      <td>6.575</td>\n",
              "      <td>4.98</td>\n",
              "      <td>15.3</td>\n",
              "      <td>504000.0</td>\n",
              "    </tr>\n",
              "    <tr>\n",
              "      <th>1</th>\n",
              "      <td>6.421</td>\n",
              "      <td>9.14</td>\n",
              "      <td>17.8</td>\n",
              "      <td>453600.0</td>\n",
              "    </tr>\n",
              "    <tr>\n",
              "      <th>2</th>\n",
              "      <td>7.185</td>\n",
              "      <td>4.03</td>\n",
              "      <td>17.8</td>\n",
              "      <td>728700.0</td>\n",
              "    </tr>\n",
              "    <tr>\n",
              "      <th>3</th>\n",
              "      <td>6.998</td>\n",
              "      <td>2.94</td>\n",
              "      <td>18.7</td>\n",
              "      <td>701400.0</td>\n",
              "    </tr>\n",
              "    <tr>\n",
              "      <th>4</th>\n",
              "      <td>7.147</td>\n",
              "      <td>5.33</td>\n",
              "      <td>18.7</td>\n",
              "      <td>760200.0</td>\n",
              "    </tr>\n",
              "  </tbody>\n",
              "</table>\n",
              "</div>\n",
              "      <button class=\"colab-df-convert\" onclick=\"convertToInteractive('df-4111ee8a-59ed-4741-b266-e48b20fb95f6')\"\n",
              "              title=\"Convert this dataframe to an interactive table.\"\n",
              "              style=\"display:none;\">\n",
              "        \n",
              "  <svg xmlns=\"http://www.w3.org/2000/svg\" height=\"24px\"viewBox=\"0 0 24 24\"\n",
              "       width=\"24px\">\n",
              "    <path d=\"M0 0h24v24H0V0z\" fill=\"none\"/>\n",
              "    <path d=\"M18.56 5.44l.94 2.06.94-2.06 2.06-.94-2.06-.94-.94-2.06-.94 2.06-2.06.94zm-11 1L8.5 8.5l.94-2.06 2.06-.94-2.06-.94L8.5 2.5l-.94 2.06-2.06.94zm10 10l.94 2.06.94-2.06 2.06-.94-2.06-.94-.94-2.06-.94 2.06-2.06.94z\"/><path d=\"M17.41 7.96l-1.37-1.37c-.4-.4-.92-.59-1.43-.59-.52 0-1.04.2-1.43.59L10.3 9.45l-7.72 7.72c-.78.78-.78 2.05 0 2.83L4 21.41c.39.39.9.59 1.41.59.51 0 1.02-.2 1.41-.59l7.78-7.78 2.81-2.81c.8-.78.8-2.07 0-2.86zM5.41 20L4 18.59l7.72-7.72 1.47 1.35L5.41 20z\"/>\n",
              "  </svg>\n",
              "      </button>\n",
              "      \n",
              "  <style>\n",
              "    .colab-df-container {\n",
              "      display:flex;\n",
              "      flex-wrap:wrap;\n",
              "      gap: 12px;\n",
              "    }\n",
              "\n",
              "    .colab-df-convert {\n",
              "      background-color: #E8F0FE;\n",
              "      border: none;\n",
              "      border-radius: 50%;\n",
              "      cursor: pointer;\n",
              "      display: none;\n",
              "      fill: #1967D2;\n",
              "      height: 32px;\n",
              "      padding: 0 0 0 0;\n",
              "      width: 32px;\n",
              "    }\n",
              "\n",
              "    .colab-df-convert:hover {\n",
              "      background-color: #E2EBFA;\n",
              "      box-shadow: 0px 1px 2px rgba(60, 64, 67, 0.3), 0px 1px 3px 1px rgba(60, 64, 67, 0.15);\n",
              "      fill: #174EA6;\n",
              "    }\n",
              "\n",
              "    [theme=dark] .colab-df-convert {\n",
              "      background-color: #3B4455;\n",
              "      fill: #D2E3FC;\n",
              "    }\n",
              "\n",
              "    [theme=dark] .colab-df-convert:hover {\n",
              "      background-color: #434B5C;\n",
              "      box-shadow: 0px 1px 3px 1px rgba(0, 0, 0, 0.15);\n",
              "      filter: drop-shadow(0px 1px 2px rgba(0, 0, 0, 0.3));\n",
              "      fill: #FFFFFF;\n",
              "    }\n",
              "  </style>\n",
              "\n",
              "      <script>\n",
              "        const buttonEl =\n",
              "          document.querySelector('#df-4111ee8a-59ed-4741-b266-e48b20fb95f6 button.colab-df-convert');\n",
              "        buttonEl.style.display =\n",
              "          google.colab.kernel.accessAllowed ? 'block' : 'none';\n",
              "\n",
              "        async function convertToInteractive(key) {\n",
              "          const element = document.querySelector('#df-4111ee8a-59ed-4741-b266-e48b20fb95f6');\n",
              "          const dataTable =\n",
              "            await google.colab.kernel.invokeFunction('convertToInteractive',\n",
              "                                                     [key], {});\n",
              "          if (!dataTable) return;\n",
              "\n",
              "          const docLinkHtml = 'Like what you see? Visit the ' +\n",
              "            '<a target=\"_blank\" href=https://colab.research.google.com/notebooks/data_table.ipynb>data table notebook</a>'\n",
              "            + ' to learn more about interactive tables.';\n",
              "          element.innerHTML = '';\n",
              "          dataTable['output_type'] = 'display_data';\n",
              "          await google.colab.output.renderOutput(dataTable, element);\n",
              "          const docLink = document.createElement('div');\n",
              "          docLink.innerHTML = docLinkHtml;\n",
              "          element.appendChild(docLink);\n",
              "        }\n",
              "      </script>\n",
              "    </div>\n",
              "  </div>\n",
              "  "
            ]
          },
          "metadata": {},
          "execution_count": 7
        }
      ]
    },
    {
      "cell_type": "markdown",
      "source": [
        "**Atributos previsores**\n",
        "\n",
        "RM: é o número médio de cômodos entre os imóveis no bairro.\n",
        "\n",
        "LSTAT: é a porcentagem de proprietários no bairro considerados de \"classe baixa\" (proletariado).\n",
        "\n",
        "PTRATIO: é a razão entre estudantes e professores nas escolas de ensino fundamental e médio no bairro.\n",
        "\n",
        "**Variável alvo**\n",
        "\n",
        "MEDV: valor médio das casas"
      ],
      "metadata": {
        "id": "BxBX5HD17FZn"
      }
    },
    {
      "cell_type": "code",
      "source": [
        "df.shape"
      ],
      "metadata": {
        "colab": {
          "base_uri": "https://localhost:8080/"
        },
        "id": "-pOctrVgQWpa",
        "outputId": "a97b4b36-74a8-426d-9f2e-0f0856d7fee7"
      },
      "execution_count": 8,
      "outputs": [
        {
          "output_type": "execute_result",
          "data": {
            "text/plain": [
              "(489, 4)"
            ]
          },
          "metadata": {},
          "execution_count": 8
        }
      ]
    },
    {
      "cell_type": "code",
      "metadata": {
        "colab": {
          "base_uri": "https://localhost:8080/"
        },
        "outputId": "1126199f-90bd-4d6a-90f6-64df4525828a",
        "id": "gJxxUoJfLZ3q"
      },
      "source": [
        "independente = df.iloc[:, 0:3].values\n",
        "independente"
      ],
      "execution_count": 9,
      "outputs": [
        {
          "output_type": "execute_result",
          "data": {
            "text/plain": [
              "array([[ 6.575,  4.98 , 15.3  ],\n",
              "       [ 6.421,  9.14 , 17.8  ],\n",
              "       [ 7.185,  4.03 , 17.8  ],\n",
              "       ...,\n",
              "       [ 6.976,  5.64 , 21.   ],\n",
              "       [ 6.794,  6.48 , 21.   ],\n",
              "       [ 6.03 ,  7.88 , 21.   ]])"
            ]
          },
          "metadata": {},
          "execution_count": 9
        }
      ]
    },
    {
      "cell_type": "code",
      "source": [
        "independente.shape"
      ],
      "metadata": {
        "colab": {
          "base_uri": "https://localhost:8080/"
        },
        "outputId": "2dd86c2b-38d8-40cc-ef5f-ba9151a1a64b",
        "id": "X748p6-1LZ3r"
      },
      "execution_count": 10,
      "outputs": [
        {
          "output_type": "execute_result",
          "data": {
            "text/plain": [
              "(489, 3)"
            ]
          },
          "metadata": {},
          "execution_count": 10
        }
      ]
    },
    {
      "cell_type": "code",
      "metadata": {
        "id": "T6PtTe5SLZ3r"
      },
      "source": [
        "dependente = df.iloc[:, 3].values"
      ],
      "execution_count": 11,
      "outputs": []
    },
    {
      "cell_type": "code",
      "source": [
        "dependente.shape"
      ],
      "metadata": {
        "colab": {
          "base_uri": "https://localhost:8080/"
        },
        "outputId": "206d67ba-67e5-4eb1-bee7-05f183974d1b",
        "id": "IVvAP3tJLZ3s"
      },
      "execution_count": 12,
      "outputs": [
        {
          "output_type": "execute_result",
          "data": {
            "text/plain": [
              "(489,)"
            ]
          },
          "metadata": {},
          "execution_count": 12
        }
      ]
    },
    {
      "cell_type": "markdown",
      "source": [
        "## **TREINAMENTO**"
      ],
      "metadata": {
        "id": "1Q1Eu75naWX8"
      }
    },
    {
      "cell_type": "code",
      "metadata": {
        "id": "-R3GlRD8LZ3s"
      },
      "source": [
        "from sklearn.model_selection import train_test_split\n",
        "x_treino, x_teste, y_treino, y_teste = train_test_split(independente, dependente, test_size = 0.3, random_state = 0)"
      ],
      "execution_count": 13,
      "outputs": []
    },
    {
      "cell_type": "code",
      "metadata": {
        "colab": {
          "base_uri": "https://localhost:8080/"
        },
        "outputId": "5dd37c0a-050f-4512-f8e8-be53cc9f8199",
        "id": "2ZOzrZh1LZ3t"
      },
      "source": [
        "x_treino.shape, x_teste.shape"
      ],
      "execution_count": 14,
      "outputs": [
        {
          "output_type": "execute_result",
          "data": {
            "text/plain": [
              "((342, 3), (147, 3))"
            ]
          },
          "metadata": {},
          "execution_count": 14
        }
      ]
    },
    {
      "cell_type": "code",
      "source": [
        "from sklearn.neural_network import MLPRegressor"
      ],
      "metadata": {
        "id": "gXsNjojnEoyA"
      },
      "execution_count": 15,
      "outputs": []
    },
    {
      "cell_type": "code",
      "metadata": {
        "id": "ggIQN7N9LZ3v"
      },
      "source": [
        "redes = MLPRegressor(hidden_layer_sizes=(100, 100), activation='relu', verbose=True, max_iter=2000,\n",
        "                    solver='lbfgs', random_state = 12)"
      ],
      "execution_count": 16,
      "outputs": []
    },
    {
      "cell_type": "code",
      "source": [
        "redes.fit(x_treino, y_treino)"
      ],
      "metadata": {
        "colab": {
          "base_uri": "https://localhost:8080/"
        },
        "id": "KRKO0AVEPP6j",
        "outputId": "a86b9f5c-e390-4bb5-89a3-4f99c4e57c3a"
      },
      "execution_count": 17,
      "outputs": [
        {
          "output_type": "execute_result",
          "data": {
            "text/plain": [
              "MLPRegressor(hidden_layer_sizes=(100, 100), max_iter=2000, random_state=12,\n",
              "             solver='lbfgs', verbose=True)"
            ]
          },
          "metadata": {},
          "execution_count": 17
        }
      ]
    },
    {
      "cell_type": "code",
      "metadata": {
        "id": "2k8wuWqC0kZ9",
        "colab": {
          "base_uri": "https://localhost:8080/"
        },
        "outputId": "45ab98df-cdca-4efe-985a-931abbd655b5"
      },
      "source": [
        "redes.n_layers_"
      ],
      "execution_count": 18,
      "outputs": [
        {
          "output_type": "execute_result",
          "data": {
            "text/plain": [
              "4"
            ]
          },
          "metadata": {},
          "execution_count": 18
        }
      ]
    },
    {
      "cell_type": "code",
      "metadata": {
        "id": "YGYQw_tmXtle",
        "colab": {
          "base_uri": "https://localhost:8080/"
        },
        "outputId": "0eb83858-2ca0-48b1-d2fc-59f7211808ce"
      },
      "source": [
        "redes.score(x_treino, y_treino)"
      ],
      "execution_count": 19,
      "outputs": [
        {
          "output_type": "execute_result",
          "data": {
            "text/plain": [
              "0.8536909521067109"
            ]
          },
          "metadata": {},
          "execution_count": 19
        }
      ]
    },
    {
      "cell_type": "markdown",
      "source": [
        "## **TESTE**"
      ],
      "metadata": {
        "id": "Ag0SWRYdLZ3w"
      }
    },
    {
      "cell_type": "code",
      "metadata": {
        "colab": {
          "base_uri": "https://localhost:8080/"
        },
        "outputId": "b972fe09-e899-49b2-c832-00cc51aa08e3",
        "id": "gPggEGb0LZ3w"
      },
      "source": [
        "redes.score(x_teste, y_teste)"
      ],
      "execution_count": 20,
      "outputs": [
        {
          "output_type": "execute_result",
          "data": {
            "text/plain": [
              "0.8178252425873315"
            ]
          },
          "metadata": {},
          "execution_count": 20
        }
      ]
    },
    {
      "cell_type": "code",
      "metadata": {
        "id": "LZ7WLVF4LZ3x"
      },
      "source": [
        "previsoes_teste = redes.predict(x_teste)"
      ],
      "execution_count": 21,
      "outputs": []
    },
    {
      "cell_type": "markdown",
      "source": [
        "## **MÉTRICAS**"
      ],
      "metadata": {
        "id": "eupiQ6n9LZ3y"
      }
    },
    {
      "cell_type": "code",
      "metadata": {
        "id": "mNFhiP0nLZ3z"
      },
      "source": [
        "from sklearn.metrics import mean_absolute_error, mean_squared_error"
      ],
      "execution_count": 22,
      "outputs": []
    },
    {
      "cell_type": "code",
      "metadata": {
        "colab": {
          "base_uri": "https://localhost:8080/"
        },
        "outputId": "07f895ce-9d4e-48a8-8998-8841f989c229",
        "id": "ptcF4Z3QLZ3z"
      },
      "source": [
        "# Erro médio Absoluto\n",
        "mean_absolute_error(y_teste, previsoes_teste)"
      ],
      "execution_count": 23,
      "outputs": [
        {
          "output_type": "execute_result",
          "data": {
            "text/plain": [
              "54889.90145604481"
            ]
          },
          "metadata": {},
          "execution_count": 23
        }
      ]
    },
    {
      "cell_type": "code",
      "metadata": {
        "colab": {
          "base_uri": "https://localhost:8080/"
        },
        "outputId": "112aa410-51ae-4036-8ace-00616c265af0",
        "id": "UW9rH3WyLZ30"
      },
      "source": [
        "# Raiz do erro quadrático médio (RMSE)\n",
        "np.sqrt(mean_squared_error(y_teste, previsoes_teste))"
      ],
      "execution_count": 24,
      "outputs": [
        {
          "output_type": "execute_result",
          "data": {
            "text/plain": [
              "72702.15789942915"
            ]
          },
          "metadata": {},
          "execution_count": 24
        }
      ]
    },
    {
      "cell_type": "markdown",
      "source": [
        "### **Validação Cruzada**"
      ],
      "metadata": {
        "id": "mopLhYaKLZ31"
      }
    },
    {
      "cell_type": "code",
      "source": [
        "from sklearn.model_selection import KFold\n",
        "from sklearn.model_selection import cross_val_score"
      ],
      "metadata": {
        "id": "EW9FdkEELZ31"
      },
      "execution_count": 25,
      "outputs": []
    },
    {
      "cell_type": "code",
      "source": [
        "# Separando os dados em folds\n",
        "kfold = KFold(n_splits = 12, shuffle=True, random_state = 5)"
      ],
      "metadata": {
        "id": "-duD4L-4LZ32"
      },
      "execution_count": 26,
      "outputs": []
    },
    {
      "cell_type": "code",
      "source": [
        "# Criando o modelo\n",
        "from sklearn.neural_network import MLPRegressor\n",
        "modelo = MLPRegressor(hidden_layer_sizes=(100, 100), activation='relu', verbose=True, max_iter=2000,\n",
        "                    solver='lbfgs', random_state = 12)\n",
        "resultado = cross_val_score(modelo, independente, dependente, cv = kfold)\n",
        "resultado"
      ],
      "metadata": {
        "colab": {
          "base_uri": "https://localhost:8080/"
        },
        "outputId": "7194c00e-d4b3-4bdb-f782-b043f648c414",
        "id": "KTJuA6GpLZ32"
      },
      "execution_count": 27,
      "outputs": [
        {
          "output_type": "stream",
          "name": "stderr",
          "text": [
            "/usr/local/lib/python3.8/dist-packages/sklearn/neural_network/_multilayer_perceptron.py:549: ConvergenceWarning: lbfgs failed to converge (status=1):\n",
            "STOP: TOTAL NO. of ITERATIONS REACHED LIMIT.\n",
            "\n",
            "Increase the number of iterations (max_iter) or scale the data as shown in:\n",
            "    https://scikit-learn.org/stable/modules/preprocessing.html\n",
            "  self.n_iter_ = _check_optimize_result(\"lbfgs\", opt_res, self.max_iter)\n",
            "/usr/local/lib/python3.8/dist-packages/sklearn/neural_network/_multilayer_perceptron.py:549: ConvergenceWarning: lbfgs failed to converge (status=1):\n",
            "STOP: TOTAL NO. of ITERATIONS REACHED LIMIT.\n",
            "\n",
            "Increase the number of iterations (max_iter) or scale the data as shown in:\n",
            "    https://scikit-learn.org/stable/modules/preprocessing.html\n",
            "  self.n_iter_ = _check_optimize_result(\"lbfgs\", opt_res, self.max_iter)\n"
          ]
        },
        {
          "output_type": "execute_result",
          "data": {
            "text/plain": [
              "array([0.89287907, 0.87189736, 0.81416127, 0.78567585, 0.80046946,\n",
              "       0.80653329, 0.56896982, 0.79833847, 0.74399243, 0.68651471,\n",
              "       0.85013494, 0.5445834 ])"
            ]
          },
          "metadata": {},
          "execution_count": 27
        }
      ]
    },
    {
      "cell_type": "code",
      "source": [
        "# Usamos a média e o desvio padrão\n",
        "print(\"Acurácia Média: %.2f%%\" % (resultado.mean() * 100.0))"
      ],
      "metadata": {
        "colab": {
          "base_uri": "https://localhost:8080/"
        },
        "outputId": "d1d6b684-2e39-4f6f-bba5-11c417152dc5",
        "id": "6OLrwVIQLZ33"
      },
      "execution_count": 28,
      "outputs": [
        {
          "output_type": "stream",
          "name": "stdout",
          "text": [
            "Acurácia Média: 76.37%\n"
          ]
        }
      ]
    },
    {
      "cell_type": "markdown",
      "source": [
        "## **RESULTADOS**"
      ],
      "metadata": {
        "id": "B0U27J9MahlK"
      }
    },
    {
      "cell_type": "markdown",
      "source": [
        "**REGRESSÃO LINEAR SIMPLES:** R^2 = 0,57/0,60; RMSE = 99315,5; R^2 Validação Cruzada: 55,97%\n",
        "\n",
        "**REGRESSÃO LINEAR MÚLTIPLA:** R^2 = 0,73/0,68; RMSE = 96087,3; R^2 Validação Cruzada: 69,25%\n",
        "\n",
        "**REGRESSÃO POLINOMIAL:** R^2 = 0,59/0,54; RMSE = 114670,6.\n",
        "\n",
        "**REGRESSÃO SVR:** R^2 = 0,87/0,81; RMSE = 73422,7. R^2 Validação Cruzada: 82,37%.\n",
        "\n",
        "**REGRESSÃO ÁRVORE DE DECISÃO:** R^2 = 0,91/0,83; RMSE = 71114,5. R^2 Validação Cruzada: 74,60%.\n",
        "\n",
        "**REGRESSÃO COM RANDOM FOREST:** R^2 = 0,92/0,85; RMSE = 66729,3. R^2 Validação Cruzada: 82,85%.\n",
        "\n",
        "**REGRESSÃO COM XGBOOST:** R^2 = 0,93/0,84; RMSE = 67788,8. R^2 Validação Cruzada: 83,22%.\n",
        "\n",
        "**REGRESSÃO COM LIGHT GBM:** R^2 = 0,88/0,82; RMSE = 71906,4. R^2 Validação Cruzada: 82,38%.\n",
        "\n",
        "**REGRESSÃO COM CATBOOST:** R^2 = 0,90/0,84; RMSE = 69053,3 R^2 Validação Cruzada: 83,40%.\n",
        "\n",
        "**REGRESSÃO COM REDES NEURAIS:** R^2 = 0,88/0,83; RMSE = 69717,4. R^2 Validação Cruzada: 77,15%. Escalonado."
      ],
      "metadata": {
        "id": "y4gwkctLLZ33"
      }
    },
    {
      "cell_type": "markdown",
      "source": [
        "## **Padronização de escala**"
      ],
      "metadata": {
        "id": "i0tdnZNhxRDj"
      }
    },
    {
      "cell_type": "code",
      "source": [
        "from sklearn.preprocessing import StandardScaler\n",
        "x_scaler = StandardScaler()\n",
        "x_treino_scaler = x_scaler.fit_transform(x_treino)"
      ],
      "metadata": {
        "id": "vIgPmXt8xRtk"
      },
      "execution_count": 29,
      "outputs": []
    },
    {
      "cell_type": "code",
      "source": [
        "x_treino_scaler"
      ],
      "metadata": {
        "colab": {
          "base_uri": "https://localhost:8080/"
        },
        "id": "fc4OD6JdyVks",
        "outputId": "688e2bb1-3f0f-42f3-d6bf-2bda85cb6fdc"
      },
      "execution_count": 30,
      "outputs": [
        {
          "output_type": "execute_result",
          "data": {
            "text/plain": [
              "array([[ 0.05327517, -0.70150711, -0.05467118],\n",
              "       [ 1.12799963, -0.44487061, -0.52922816],\n",
              "       [ 0.60711128, -0.79792304,  0.230063  ],\n",
              "       ...,\n",
              "       [-0.33111532, -0.36121561, -0.33940537],\n",
              "       [-0.31699486,  0.84398345, -0.29194967],\n",
              "       [-0.33268427, -0.38815536, -0.90887374]])"
            ]
          },
          "metadata": {},
          "execution_count": 30
        }
      ]
    },
    {
      "cell_type": "code",
      "source": [
        "y_scaler = StandardScaler()\n",
        "y_treino_scaler = y_scaler.fit_transform(y_treino.reshape(-1,1))"
      ],
      "metadata": {
        "id": "wyKhCzqexRy0"
      },
      "execution_count": 31,
      "outputs": []
    },
    {
      "cell_type": "code",
      "source": [
        "y_treino_scaler"
      ],
      "metadata": {
        "id": "uyOhdquuyb2D",
        "colab": {
          "base_uri": "https://localhost:8080/"
        },
        "outputId": "f08d8dad-d580-4bcd-a0b0-07e0f2720758"
      },
      "execution_count": 32,
      "outputs": [
        {
          "output_type": "execute_result",
          "data": {
            "text/plain": [
              "array([[-1.05925606e-02],\n",
              "       [ 6.46900118e-01],\n",
              "       [ 2.85923746e-01],\n",
              "       [-1.13728667e-01],\n",
              "       [ 1.44111599e-01],\n",
              "       [-7.84113359e-01],\n",
              "       [-1.24822584e+00],\n",
              "       [-2.81324840e-01],\n",
              "       [-1.39512694e-01],\n",
              "       [-1.01616960e+00],\n",
              "       [ 2.00056152e+00],\n",
              "       [ 1.21414870e+00],\n",
              "       [ 1.27860877e+00],\n",
              "       [-1.52404707e-01],\n",
              "       [ 9.04740384e-01],\n",
              "       [ 2.29945267e-03],\n",
              "       [-2.81324840e-01],\n",
              "       [ 2.73031732e-01],\n",
              "       [-2.81324840e-01],\n",
              "       [ 2.73031732e-01],\n",
              "       [ 4.27735892e-01],\n",
              "       [ 2.60139719e-01],\n",
              "       [-1.06773765e+00],\n",
              "       [-1.17087376e+00],\n",
              "       [ 3.49603506e+00],\n",
              "       [ 9.04740384e-01],\n",
              "       [-2.07331469e+00],\n",
              "       [ 1.69895626e-01],\n",
              "       [ 4.27735892e-01],\n",
              "       [ 2.76119030e+00],\n",
              "       [-3.45784907e-01],\n",
              "       [ 2.73031732e-01],\n",
              "       [-1.48028208e+00],\n",
              "       [ 1.57003612e-01],\n",
              "       [-1.91080747e-01],\n",
              "       [-1.01616960e+00],\n",
              "       [ 3.37491799e-01],\n",
              "       [-2.34845740e-02],\n",
              "       [ 1.91031742e+00],\n",
              "       [ 3.37491799e-01],\n",
              "       [-5.26273093e-01],\n",
              "       [ 6.67595192e-02],\n",
              "       [-8.74357452e-01],\n",
              "       [-2.94216853e-01],\n",
              "       [-1.11930571e+00],\n",
              "       [-3.84460947e-01],\n",
              "       [-9.90385572e-01],\n",
              "       [ 6.21116092e-01],\n",
              "       [-1.69944630e+00],\n",
              "       [ 1.67826118e+00],\n",
              "       [-1.82836644e+00],\n",
              "       [-5.39165106e-01],\n",
              "       [-7.84113359e-01],\n",
              "       [ 2.60139719e-01],\n",
              "       [ 1.38174488e+00],\n",
              "       [-1.15798175e+00],\n",
              "       [-4.10244973e-01],\n",
              "       [ 4.01951865e-01],\n",
              "       [-3.07108867e-01],\n",
              "       [-9.77493559e-01],\n",
              "       [-2.15066677e+00],\n",
              "       [ 2.33575386e+00],\n",
              "       [-2.94216853e-01],\n",
              "       [-6.21606139e-02],\n",
              "       [ 1.82787639e-01],\n",
              "       [-1.06773765e+00],\n",
              "       [ 4.09754926e-02],\n",
              "       [ 1.95679652e-01],\n",
              "       [-3.71568933e-01],\n",
              "       [ 7.50036225e-01],\n",
              "       [ 1.42042092e+00],\n",
              "       [ 1.82787639e-01],\n",
              "       [-5.52057120e-01],\n",
              "       [ 1.49777300e+00],\n",
              "       [ 3.11707772e-01],\n",
              "       [ 1.02076850e+00],\n",
              "       [-7.71221346e-01],\n",
              "       [ 1.95679652e-01],\n",
              "       [-2.03972760e-01],\n",
              "       [-1.08062967e+00],\n",
              "       [-1.33846993e+00],\n",
              "       [ 1.31219586e-01],\n",
              "       [-4.23136987e-01],\n",
              "       [-1.10641369e+00],\n",
              "       [ 4.27735892e-01],\n",
              "       [ 4.27735892e-01],\n",
              "       [-1.05484564e+00],\n",
              "       [-6.21606139e-02],\n",
              "       [ 2.19394172e+00],\n",
              "       [ 6.34008105e-01],\n",
              "       [-7.32545306e-01],\n",
              "       [-3.32892893e-01],\n",
              "       [ 3.50383812e-01],\n",
              "       [ 3.76167839e-01],\n",
              "       [ 1.74272125e+00],\n",
              "       [ 9.25435458e-02],\n",
              "       [-4.36029000e-01],\n",
              "       [-9.51709532e-01],\n",
              "       [-4.10244973e-01],\n",
              "       [-2.42648800e-01],\n",
              "       [-1.31268591e+00],\n",
              "       [ 2.05212957e+00],\n",
              "       [-2.16864774e-01],\n",
              "       [-8.61465439e-01],\n",
              "       [ 4.53519919e-01],\n",
              "       [ 1.85874937e+00],\n",
              "       [ 2.21463679e-01],\n",
              "       [-5.90733160e-01],\n",
              "       [-6.21606139e-02],\n",
              "       [-3.58676920e-01],\n",
              "       [ 2.85923746e-01],\n",
              "       [-8.79446405e-02],\n",
              "       [ 2.80834793e-02],\n",
              "       [ 8.01604278e-01],\n",
              "       [-8.35681413e-01],\n",
              "       [ 2.98035453e+00],\n",
              "       [-8.87249466e-01],\n",
              "       [-1.39512694e-01],\n",
              "       [-1.78188734e-01],\n",
              "       [-1.10641369e+00],\n",
              "       [-3.45784907e-01],\n",
              "       [-3.32892893e-01],\n",
              "       [-1.08062967e+00],\n",
              "       [ 1.69895626e-01],\n",
              "       [-2.03972760e-01],\n",
              "       [-4.48921013e-01],\n",
              "       [ 1.57003612e-01],\n",
              "       [-1.39512694e-01],\n",
              "       [ 7.50036225e-01],\n",
              "       [-7.19653293e-01],\n",
              "       [ 9.56308438e-01],\n",
              "       [ 2.29945267e-03],\n",
              "       [-3.07108867e-01],\n",
              "       [ 6.67595192e-02],\n",
              "       [-1.26620680e-01],\n",
              "       [ 4.09754926e-02],\n",
              "       [-7.84113359e-01],\n",
              "       [ 1.08522857e+00],\n",
              "       [ 1.29150078e+00],\n",
              "       [-9.51709532e-01],\n",
              "       [ 1.44111599e-01],\n",
              "       [-5.52057120e-01],\n",
              "       [-1.72523033e+00],\n",
              "       [-1.23533383e+00],\n",
              "       [ 1.70404521e+00],\n",
              "       [ 4.09754926e-02],\n",
              "       [-2.29756787e-01],\n",
              "       [-1.78188734e-01],\n",
              "       [-8.79446405e-02],\n",
              "       [ 1.82787639e-01],\n",
              "       [-1.65296720e-01],\n",
              "       [ 1.05435559e-01],\n",
              "       [-1.45449805e+00],\n",
              "       [-6.29409200e-01],\n",
              "       [ 4.40627905e-01],\n",
              "       [ 1.31219586e-01],\n",
              "       [ 1.57003612e-01],\n",
              "       [ 2.85923746e-01],\n",
              "       [-3.63765873e-02],\n",
              "       [ 2.29945267e-03],\n",
              "       [-8.09897386e-01],\n",
              "       [-8.22789399e-01],\n",
              "       [ 1.82787639e-01],\n",
              "       [ 2.85923746e-01],\n",
              "       [-2.94216853e-01],\n",
              "       [-5.00489066e-01],\n",
              "       [-5.00489066e-01],\n",
              "       [-4.10244973e-01],\n",
              "       [-7.50526272e-02],\n",
              "       [-1.13728667e-01],\n",
              "       [-3.07108867e-01],\n",
              "       [-5.77841146e-01],\n",
              "       [ 2.87721842e+00],\n",
              "       [-1.15798175e+00],\n",
              "       [-4.48921013e-01],\n",
              "       [ 8.40280318e-01],\n",
              "       [ 1.72982924e+00],\n",
              "       [ 9.43416424e-01],\n",
              "       [-1.54474214e+00],\n",
              "       [ 1.51066501e+00],\n",
              "       [ 1.08522857e+00],\n",
              "       [-3.63765873e-02],\n",
              "       [ 2.01345353e+00],\n",
              "       [-1.78188734e-01],\n",
              "       [-1.13728667e-01],\n",
              "       [ 1.70404521e+00],\n",
              "       [-1.66077026e+00],\n",
              "       [ 1.51914660e-02],\n",
              "       [-2.03972760e-01],\n",
              "       [ 8.66064344e-01],\n",
              "       [-1.40293000e+00],\n",
              "       [ 1.33017682e+00],\n",
              "       [-9.77493559e-01],\n",
              "       [ 8.14496291e-01],\n",
              "       [ 1.82787639e-01],\n",
              "       [ 2.81275835e+00],\n",
              "       [-3.58676920e-01],\n",
              "       [-1.39003798e+00],\n",
              "       [ 1.05435559e-01],\n",
              "       [ 1.48488098e+00],\n",
              "       [-2.16864774e-01],\n",
              "       [-3.32892893e-01],\n",
              "       [ 2.08571666e-01],\n",
              "       [ 6.34008105e-01],\n",
              "       [ 3.05770661e+00],\n",
              "       [-2.55540814e-01],\n",
              "       [ 2.08571666e-01],\n",
              "       [-1.55763416e+00],\n",
              "       [-1.69944630e+00],\n",
              "       [-1.28690188e+00],\n",
              "       [-5.64949133e-01],\n",
              "       [ 3.37491799e-01],\n",
              "       [ 6.67595192e-02],\n",
              "       [-1.86704248e+00],\n",
              "       [-3.20000880e-01],\n",
              "       [ 1.89742541e+00],\n",
              "       [-9.25925506e-01],\n",
              "       [ 3.89059852e-01],\n",
              "       [ 2.98815759e-01],\n",
              "       [ 3.50383812e-01],\n",
              "       [-1.28690188e+00],\n",
              "       [ 2.85143439e+00],\n",
              "       [ 4.27735892e-01],\n",
              "       [-7.06761279e-01],\n",
              "       [ 1.51914660e-02],\n",
              "       [ 2.09080561e+00],\n",
              "       [-1.44160604e+00],\n",
              "       [ 1.44111599e-01],\n",
              "       [-1.39512694e-01],\n",
              "       [ 1.95679652e-01],\n",
              "       [ 8.66064344e-01],\n",
              "       [-1.06773765e+00],\n",
              "       [ 2.47247706e-01],\n",
              "       [-1.00836654e-01],\n",
              "       [-5.00489066e-01],\n",
              "       [-9.38817519e-01],\n",
              "       [-3.97352960e-01],\n",
              "       [-8.48573426e-01],\n",
              "       [ 2.60139719e-01],\n",
              "       [ 8.78956358e-01],\n",
              "       [ 2.98815759e-01],\n",
              "       [-5.00489066e-01],\n",
              "       [-7.84113359e-01],\n",
              "       [-5.39165106e-01],\n",
              "       [ 6.08224078e-01],\n",
              "       [-1.01616960e+00],\n",
              "       [-2.68432827e-01],\n",
              "       [-1.15798175e+00],\n",
              "       [ 4.09754926e-02],\n",
              "       [ 3.50383812e-01],\n",
              "       [-7.50526272e-02],\n",
              "       [ 2.29945267e-03],\n",
              "       [ 2.85923746e-01],\n",
              "       [-1.78188734e-01],\n",
              "       [-8.35681413e-01],\n",
              "       [-4.23136987e-01],\n",
              "       [-3.32892893e-01],\n",
              "       [-5.13381080e-01],\n",
              "       [-1.86704248e+00],\n",
              "       [ 4.09754926e-02],\n",
              "       [ 4.01951865e-01],\n",
              "       [ 1.47198897e+00],\n",
              "       [-3.07108867e-01],\n",
              "       [-8.61465439e-01],\n",
              "       [ 6.08224078e-01],\n",
              "       [ 1.27860877e+00],\n",
              "       [-2.94216853e-01],\n",
              "       [ 1.16258065e+00],\n",
              "       [-1.01616960e+00],\n",
              "       [-8.74357452e-01],\n",
              "       [ 4.66411932e-01],\n",
              "       [-2.81324840e-01],\n",
              "       [-2.15066677e+00],\n",
              "       [-2.68432827e-01],\n",
              "       [ 1.35596085e+00],\n",
              "       [-7.19653293e-01],\n",
              "       [ 3.89059852e-01],\n",
              "       [-1.26111785e+00],\n",
              "       [ 2.21463679e-01],\n",
              "       [-1.67366228e+00],\n",
              "       [-1.27400987e+00],\n",
              "       [-4.74705040e-01],\n",
              "       [ 4.09754926e-02],\n",
              "       [-4.23136987e-01],\n",
              "       [ 1.04655253e+00],\n",
              "       [-1.84125845e+00],\n",
              "       [ 2.73031732e-01],\n",
              "       [-2.68432827e-01],\n",
              "       [ 1.02076850e+00],\n",
              "       [-2.16864774e-01],\n",
              "       [-9.25925506e-01],\n",
              "       [-1.09352168e+00],\n",
              "       [-7.06761279e-01],\n",
              "       [ 1.97477749e+00],\n",
              "       [-6.42301213e-01],\n",
              "       [ 9.43416424e-01],\n",
              "       [-1.44160604e+00],\n",
              "       [-1.86704248e+00],\n",
              "       [-1.91080747e-01],\n",
              "       [-9.13033492e-01],\n",
              "       [ 6.98468171e-01],\n",
              "       [ 1.04655253e+00],\n",
              "       [ 1.87164138e+00],\n",
              "       [ 1.48488098e+00],\n",
              "       [ 6.34008105e-01],\n",
              "       [-2.29756787e-01],\n",
              "       [-9.77493559e-01],\n",
              "       [-5.77841146e-01],\n",
              "       [ 3.45735902e+00],\n",
              "       [ 4.01951865e-01],\n",
              "       [-4.36029000e-01],\n",
              "       [-9.64601546e-01],\n",
              "       [ 1.33017682e+00],\n",
              "       [ 1.44111599e-01],\n",
              "       [ 1.22704072e+00],\n",
              "       [-1.00327759e+00],\n",
              "       [ 7.96515325e-02],\n",
              "       [ 3.63275825e-01],\n",
              "       [-1.75101436e+00],\n",
              "       [ 1.05944454e+00],\n",
              "       [-2.03972760e-01],\n",
              "       [ 1.17547266e+00],\n",
              "       [ 1.70404521e+00],\n",
              "       [ 3.76167839e-01],\n",
              "       [-6.93869266e-01],\n",
              "       [ 2.47247706e-01],\n",
              "       [-1.89282650e+00],\n",
              "       [ 3.24599785e-01],\n",
              "       [ 6.67595192e-02],\n",
              "       [ 1.47198897e+00],\n",
              "       [ 3.50383812e-01],\n",
              "       [ 7.96515325e-02],\n",
              "       [-2.34845740e-02],\n",
              "       [-3.58676920e-01],\n",
              "       [-1.00327759e+00],\n",
              "       [ 3.11707772e-01],\n",
              "       [ 1.56223306e+00],\n",
              "       [-1.26620680e-01],\n",
              "       [ 1.66536917e+00],\n",
              "       [-3.20000880e-01],\n",
              "       [-6.55193226e-01],\n",
              "       [ 1.95679652e-01]])"
            ]
          },
          "metadata": {},
          "execution_count": 32
        }
      ]
    },
    {
      "cell_type": "code",
      "source": [
        "x_teste_scaler = x_scaler.transform(x_teste)\n",
        "x_teste_scaler"
      ],
      "metadata": {
        "id": "IsHYG6i7ygdg",
        "colab": {
          "base_uri": "https://localhost:8080/"
        },
        "outputId": "b642c0a7-b540-4236-d4a0-4828e72dc5e5"
      },
      "execution_count": 33,
      "outputs": [
        {
          "output_type": "execute_result",
          "data": {
            "text/plain": [
              "array([[-6.24507256e-01, -6.20687880e-01,  1.17917695e+00],\n",
              "       [ 9.56985082e-01, -8.43295235e-01, -2.61727885e+00],\n",
              "       [-1.30072075e+00,  1.98112421e+00, -1.81053199e+00],\n",
              "       [ 9.72674490e-01,  9.82935809e-01,  7.99531373e-01],\n",
              "       [ 2.90185237e-01, -5.72479917e-01, -3.39405369e-01],\n",
              "       [ 2.72926888e-01,  9.46070896e-01,  7.99531373e-01],\n",
              "       [-2.08519115e+00,  2.33134087e+00, -1.81053199e+00],\n",
              "       [-1.88341711e-01, -2.51777567e-02,  7.99531373e-01],\n",
              "       [-1.08325729e-01, -2.13755962e-01, -2.44493974e-01],\n",
              "       [-4.18976010e-01,  1.39296468e-01,  1.17917695e+00],\n",
              "       [-1.41892805e-02,  1.26651206e+00,  7.99531373e-01],\n",
              "       [-6.19800434e-01,  4.03022379e-01,  7.99531373e-01],\n",
              "       [-2.99736508e-01, -7.29864736e-01,  5.14797187e-01],\n",
              "       [-2.51664988e+00,  3.05162455e+00,  7.99531373e-01],\n",
              "       [ 7.76556889e-01, -4.85989161e-01,  1.13172126e+00],\n",
              "       [-7.45315699e-01,  6.32719141e-01,  1.27408835e+00],\n",
              "       [ 7.36714050e-02, -1.24429444e-01,  8.76959090e-02],\n",
              "       [ 4.36096733e-01, -7.73819054e-01, -1.81053199e+00],\n",
              "       [-6.66868658e-01,  4.51230342e-01,  4.02402114e-02],\n",
              "       [ 7.95384179e-01, -1.15664699e+00, -1.57325351e+00],\n",
              "       [ 1.71792138e+00, -2.26516894e-01, -2.61727885e+00],\n",
              "       [ 1.41668474e+00, -1.19067614e+00, -7.19050950e-01],\n",
              "       [-2.68766442e+00,  3.42169155e+00,  7.99531373e-01],\n",
              "       [-5.99404203e-01, -5.78151442e-01,  3.24974397e-01],\n",
              "       [-1.04027657e+00,  3.19367386e-01,  3.24974397e-01],\n",
              "       [ 2.21684455e+00, -1.39485104e+00, -1.71562060e+00],\n",
              "       [ 1.72733502e+00, -7.17103804e-01, -2.61727885e+00],\n",
              "       [ 2.16193163e+00, -1.38067223e+00, -1.81053199e+00],\n",
              "       [ 2.55668539e-01,  5.98951180e-02,  7.99531373e-01],\n",
              "       [-3.34253206e-01,  1.02692744e-02,  3.24974397e-01],\n",
              "       [ 3.96873212e-01,  8.51072853e-01,  7.99531373e-01],\n",
              "       [-5.38215512e-01,  4.05858142e-01, -1.57325351e+00],\n",
              "       [-9.48245807e-03, -3.82483831e-01,  2.77518699e-01],\n",
              "       [ 1.11544810e+00, -1.17082580e+00, -1.81053199e+00],\n",
              "       [-6.88131935e-05, -7.19678378e-02,  8.76959090e-02],\n",
              "       [ 3.30255160e+00, -1.47141663e+00, -5.29228159e-01],\n",
              "       [-1.38135605e-01, -5.32779243e-01, -7.66506647e-01],\n",
              "       [-9.49278004e-01,  1.42247899e+00,  7.99531373e-01],\n",
              "       [ 2.24289723e-01, -4.91660686e-01,  4.02402114e-02],\n",
              "       [ 2.52530658e-01, -1.08575293e+00, -9.08873740e-01],\n",
              "       [-6.12575049e-02,  1.22964715e+00,  7.99531373e-01],\n",
              "       [ 2.27427605e-01,  1.07793385e+00, -1.57325351e+00],\n",
              "       [-8.22193799e-01, -1.57040713e-01,  5.14797187e-01],\n",
              "       [ 8.46539907e-02, -5.54047461e-01,  8.76959090e-02],\n",
              "       [-1.32111698e+00,  1.17576766e+00,  3.24974397e-01],\n",
              "       [-6.73144422e-01,  2.54144849e-01,  7.99531373e-01],\n",
              "       [ 2.96461000e-01, -5.25689836e-01, -3.39405369e-01],\n",
              "       [-7.38090314e-02,  7.34806591e-01,  7.99531373e-01],\n",
              "       [ 3.18017421e+00, -1.31970333e+00,  2.77518699e-01],\n",
              "       [-4.80164702e-01,  1.05267318e-01,  3.24974397e-01],\n",
              "       [ 1.15467162e+00, -1.17082580e+00, -1.71562060e+00],\n",
              "       [-5.35077630e-01, -2.80396381e-01,  4.02402114e-02],\n",
              "       [ 6.99678789e-01, -9.32621754e-01, -1.19360793e+00],\n",
              "       [ 1.81928321e-01,  6.79509222e-01,  7.99531373e-01],\n",
              "       [ 1.76655854e+00, -1.15097547e+00, -5.29228159e-01],\n",
              "       [ 5.86715051e-01, -7.76654817e-01, -9.08873740e-01],\n",
              "       [-8.14349095e-01,  2.71159424e-01,  7.99531373e-01],\n",
              "       [-4.31527537e-01,  1.10203783e+00,  7.99531373e-01],\n",
              "       [-7.85158538e-02, -4.78899755e-01,  4.02402114e-02],\n",
              "       [-3.16994857e-01, -7.04342873e-01,  1.17917695e+00],\n",
              "       [-8.20624858e-01,  4.17201192e-01, -1.81053199e+00],\n",
              "       [ 6.66731032e-01,  1.18711071e+00,  7.99531373e-01],\n",
              "       [-5.64887506e-01,  3.57650179e-01, -3.39405369e-01],\n",
              "       [-2.19720527e-01,  6.01525754e-01, -3.39405369e-01],\n",
              "       [-1.64807598e-01,  1.76161380e-01,  1.13172126e+00],\n",
              "       [-7.04523238e-01,  7.39060234e-01,  4.02402114e-02],\n",
              "       [-1.11715467e+00,  1.66068304e+00,  7.99531373e-01],\n",
              "       [ 7.62436421e-01, -8.91503198e-01,  2.77518699e-01],\n",
              "       [ 4.83164957e-01, -5.95166017e-01, -1.24106362e+00],\n",
              "       [ 2.32134427e-01,  1.59262474e+00,  7.99531373e-01],\n",
              "       [-1.90319402e+00,  3.05729607e+00,  1.27408835e+00],\n",
              "       [ 3.92166390e-01, -8.02176679e-01, -4.34316764e-01],\n",
              "       [-5.39784453e-01,  2.76830949e-01,  1.22663265e+00],\n",
              "       [ 6.24369630e-01, -1.15522911e+00,  3.24974397e-01],\n",
              "       [ 8.81675923e-01,  1.18994647e+00,  7.99531373e-01],\n",
              "       [ 2.19582900e-01, -2.44949350e-01,  1.27408835e+00],\n",
              "       [ 1.04327683e+00, -2.08084437e-01, -9.08873740e-01],\n",
              "       [ 1.15467162e+00,  6.18540329e-01,  7.99531373e-01],\n",
              "       [ 2.36841249e-01, -1.00351582e+00, -5.76683857e-01],\n",
              "       [-2.36978876e-01,  2.62652136e-01,  7.99531373e-01],\n",
              "       [-7.70418752e-01,  4.28805430e-02,  5.62252885e-01],\n",
              "       [ 2.28117113e+00, -1.26582385e+00, -5.29228159e-01],\n",
              "       [-4.25251773e-01, -4.20766624e-01,  3.24974397e-01],\n",
              "       [ 3.15288290e-01, -4.71810349e-01,  2.77518699e-01],\n",
              "       [-3.45235792e-01, -5.92069066e-02, -1.57325351e+00],\n",
              "       [ 1.00248437e+00, -9.60979379e-01, -1.76307630e+00],\n",
              "       [ 4.45510377e-01, -9.19860823e-01, -2.91949672e-01],\n",
              "       [ 2.87047355e-01, -9.53889972e-01,  5.14797187e-01],\n",
              "       [ 2.71357947e-01, -3.14425531e-01,  1.13172126e+00],\n",
              "       [-9.42052619e-02,  8.93609290e-01, -1.57325351e+00],\n",
              "       [-8.25331680e-01, -5.92069066e-02, -7.66506647e-01],\n",
              "       [-9.43002241e-01,  2.42208527e+00, -1.57325351e+00],\n",
              "       [-4.64475294e-01,  5.80257535e-01,  7.99531373e-01],\n",
              "       [ 7.35764428e-01,  5.06527710e-01,  7.99531373e-01],\n",
              "       [-1.94617474e-01, -8.90085316e-01, -1.00378514e+00],\n",
              "       [-1.72652303e-01, -9.73740310e-01, -5.46711838e-02],\n",
              "       [-1.75790184e-01, -5.34197124e-01,  1.17917695e+00],\n",
              "       [ 4.92578602e-01, -1.06590259e+00, -9.08873740e-01],\n",
              "       [-3.61544519e-02,  5.28057118e-02,  7.99531373e-01],\n",
              "       [-1.26306617e+00,  7.50403284e-01,  7.99531373e-01],\n",
              "       [-1.38544355e+00,  9.81517927e-01,  7.99531373e-01],\n",
              "       [ 2.32134427e-01,  1.53732738e+00,  7.99531373e-01],\n",
              "       [ 5.01992247e-01, -1.28850995e+00, -5.29228159e-01],\n",
              "       [-4.78595761e-01, -5.14346786e-01,  5.62252885e-01],\n",
              "       [ 3.74908041e-01,  6.05779397e-01,  7.99531373e-01],\n",
              "       [-5.96266322e-01,  2.42775680e+00,  7.99531373e-01],\n",
              "       [-1.61669717e-01,  3.22203148e-01, -1.81053199e+00],\n",
              "       [ 1.56205949e-02, -2.98828837e-01,  7.99531373e-01],\n",
              "       [-3.90735075e-01,  7.40478116e-01,  7.52075675e-01],\n",
              "       [ 9.09297539e-02, -1.15948275e+00, -1.14615223e+00],\n",
              "       [ 1.86383287e+00, -9.04264129e-01, -5.46711838e-02],\n",
              "       [-8.62986260e-01, -3.73976543e-01, -2.91949672e-01],\n",
              "       [-1.97536530e+00, -2.94314005e-02, -5.46711838e-02],\n",
              "       [ 1.59554399e+00, -1.13963242e+00, -2.91949672e-01],\n",
              "       [ 5.19250596e-01, -1.01627675e+00, -3.39405369e-01],\n",
              "       [ 1.31722215e-01, -1.01627675e+00,  7.99531373e-01],\n",
              "       [ 9.28744148e-01,  1.40262866e+00,  7.99531373e-01],\n",
              "       [ 1.82147147e+00,  5.51899910e-01,  7.99531373e-01],\n",
              "       [-5.53904920e-01,  6.71001935e-01,  2.77518699e-01],\n",
              "       [ 3.16134692e+00, -1.26157020e+00, -5.29228159e-01],\n",
              "       [ 1.37275440e+00, -6.00837542e-01, -2.80710164e+00],\n",
              "       [-4.71370376e-02,  2.37130274e-01,  7.99531373e-01],\n",
              "       [ 2.71357947e-01,  9.24802678e-01,  7.99531373e-01],\n",
              "       [ 2.80771592e-01,  3.08024336e-01,  7.99531373e-01],\n",
              "       [ 2.81721214e-02, -1.04179861e+00, -1.81053199e+00],\n",
              "       [-1.02049966e-01,  4.88095254e-01,  7.99531373e-01],\n",
              "       [-9.88501525e-01,  4.75334323e-01, -2.91949672e-01],\n",
              "       [-7.06092179e-01,  4.38469410e-01, -5.46711838e-02],\n",
              "       [ 4.37665673e-01, -1.07299200e+00, -8.13962345e-01],\n",
              "       [ 6.42577601e-02, -8.60309810e-01,  8.76959090e-02],\n",
              "       [-6.57455013e-01,  2.78248830e-01,  1.17917695e+00],\n",
              "       [ 1.58394209e-01, -7.80908460e-01, -7.66506647e-01],\n",
              "       [ 1.43551203e+00, -1.06590259e+00,  8.76959090e-02],\n",
              "       [-3.71688960e+00,  6.84024055e-02,  7.99531373e-01],\n",
              "       [ 3.10581468e-01, -1.08291717e+00,  8.76959090e-02],\n",
              "       [-5.13112459e-01, -1.98159269e-01,  7.99531373e-01],\n",
              "       [ 1.61532090e-01,  5.83093297e-01,  1.27408835e+00],\n",
              "       [-5.58611742e-01, -5.10093143e-01, -1.00378514e+00],\n",
              "       [-4.25251773e-01,  7.20627778e-01,  2.77518699e-01],\n",
              "       [-1.41273486e-01,  8.32640397e-01,  1.17917695e+00],\n",
              "       [-1.00105305e+00,  3.43732556e-02,  1.82607304e-01],\n",
              "       [-1.03870763e+00,  1.15875308e+00,  1.17917695e+00],\n",
              "       [-5.85283736e-01, -4.54795774e-01, -9.08873740e-01],\n",
              "       [-2.13444764e-01, -3.66887137e-01,  1.17917695e+00],\n",
              "       [-4.66044234e-01,  3.00199870e+00,  7.99531373e-01],\n",
              "       [ 1.70945735e-01,  7.00777441e-01,  7.99531373e-01],\n",
              "       [ 1.36804757e+00, -6.80238892e-01,  4.02402114e-02]])"
            ]
          },
          "metadata": {},
          "execution_count": 33
        }
      ]
    },
    {
      "cell_type": "code",
      "source": [
        "y_teste_scaler = y_scaler.transform(y_teste.reshape(-1,1))\n",
        "y_teste_scaler"
      ],
      "metadata": {
        "id": "P5QgpoYoy_Vq",
        "colab": {
          "base_uri": "https://localhost:8080/"
        },
        "outputId": "d8c209c5-3ff6-4250-d18e-e5c79b93c602"
      },
      "execution_count": 34,
      "outputs": [
        {
          "output_type": "execute_result",
          "data": {
            "text/plain": [
              "array([[-2.29756787e-01],\n",
              "       [ 1.08522857e+00],\n",
              "       [-1.06773765e+00],\n",
              "       [ 7.50036225e-01],\n",
              "       [ 1.18327572e-01],\n",
              "       [-5.90733160e-01],\n",
              "       [-1.27400987e+00],\n",
              "       [ 1.18327572e-01],\n",
              "       [-3.63765873e-02],\n",
              "       [-2.68432827e-01],\n",
              "       [-1.48028208e+00],\n",
              "       [-1.48028208e+00],\n",
              "       [-1.65296720e-01],\n",
              "       [-4.87597053e-01],\n",
              "       [ 7.50036225e-01],\n",
              "       [-7.84113359e-01],\n",
              "       [-2.16864774e-01],\n",
              "       [ 2.08571666e-01],\n",
              "       [ 9.25435458e-02],\n",
              "       [ 1.13679662e+00],\n",
              "       [ 1.20125669e+00],\n",
              "       [ 1.44620494e+00],\n",
              "       [-1.89282650e+00],\n",
              "       [-8.79446405e-02],\n",
              "       [-5.39165106e-01],\n",
              "       [ 3.13505869e+00],\n",
              "       [ 1.84585736e+00],\n",
              "       [ 2.65805419e+00],\n",
              "       [ 2.29945267e-03],\n",
              "       [-6.21606139e-02],\n",
              "       [-8.09897386e-01],\n",
              "       [ 2.29945267e-03],\n",
              "       [-1.52404707e-01],\n",
              "       [ 2.52913406e+00],\n",
              "       [-6.21606139e-02],\n",
              "       [ 2.58070211e+00],\n",
              "       [-2.42648800e-01],\n",
              "       [-1.14508973e+00],\n",
              "       [ 8.27388305e-01],\n",
              "       [ 2.60139719e-01],\n",
              "       [-1.37714597e+00],\n",
              "       [-8.61465439e-01],\n",
              "       [-4.10244973e-01],\n",
              "       [-3.63765873e-02],\n",
              "       [-2.55540814e-01],\n",
              "       [-6.29409200e-01],\n",
              "       [-1.05925606e-02],\n",
              "       [-9.13033492e-01],\n",
              "       [ 2.72251426e+00],\n",
              "       [ 3.63275825e-01],\n",
              "       [ 1.76850528e+00],\n",
              "       [ 1.18327572e-01],\n",
              "       [ 8.91848371e-01],\n",
              "       [-9.25925506e-01],\n",
              "       [ 1.26571676e+00],\n",
              "       [ 2.08571666e-01],\n",
              "       [-2.03972760e-01],\n",
              "       [-1.66077026e+00],\n",
              "       [ 4.27735892e-01],\n",
              "       [-1.26111785e+00],\n",
              "       [-2.94216853e-01],\n",
              "       [-5.77841146e-01],\n",
              "       [-1.65296720e-01],\n",
              "       [-3.84460947e-01],\n",
              "       [-1.65296720e-01],\n",
              "       [ 1.05435559e-01],\n",
              "       [-1.20954980e+00],\n",
              "       [ 5.82440052e-01],\n",
              "       [-6.68085239e-01],\n",
              "       [-1.57052617e+00],\n",
              "       [-9.38817519e-01],\n",
              "       [ 9.56308438e-01],\n",
              "       [-3.58676920e-01],\n",
              "       [ 8.01604278e-01],\n",
              "       [-1.08062967e+00],\n",
              "       [ 1.69895626e-01],\n",
              "       [ 4.09754926e-02],\n",
              "       [-1.45449805e+00],\n",
              "       [ 3.89059852e-01],\n",
              "       [-2.16864774e-01],\n",
              "       [-3.84460947e-01],\n",
              "       [ 3.22530278e+00],\n",
              "       [ 2.29945267e-03],\n",
              "       [ 3.63275825e-01],\n",
              "       [ 1.57003612e-01],\n",
              "       [ 4.01951865e-01],\n",
              "       [ 1.82787639e-01],\n",
              "       [ 4.27735892e-01],\n",
              "       [-3.97352960e-01],\n",
              "       [ 6.98468171e-01],\n",
              "       [-5.90733160e-01],\n",
              "       [-6.68085239e-01],\n",
              "       [-1.05484564e+00],\n",
              "       [-6.80977253e-01],\n",
              "       [ 2.80834793e-02],\n",
              "       [ 5.38675059e-02],\n",
              "       [-1.39512694e-01],\n",
              "       [ 9.94984478e-01],\n",
              "       [-3.63765873e-02],\n",
              "       [-1.01616960e+00],\n",
              "       [-1.72523033e+00],\n",
              "       [-1.10641369e+00],\n",
              "       [ 1.26571676e+00],\n",
              "       [-2.68432827e-01],\n",
              "       [-1.10641369e+00],\n",
              "       [-1.98307060e+00],\n",
              "       [-6.03625173e-01],\n",
              "       [ 1.69895626e-01],\n",
              "       [-1.04195363e+00],\n",
              "       [ 2.34355692e-01],\n",
              "       [ 1.51066501e+00],\n",
              "       [-3.07108867e-01],\n",
              "       [-7.19653293e-01],\n",
              "       [ 1.76850528e+00],\n",
              "       [ 1.39463689e+00],\n",
              "       [ 6.67595192e-02],\n",
              "       [-1.71233832e+00],\n",
              "       [-5.00489066e-01],\n",
              "       [-3.71568933e-01],\n",
              "       [ 3.43157499e+00],\n",
              "       [ 1.11101260e+00],\n",
              "       [-1.39003798e+00],\n",
              "       [-1.18376577e+00],\n",
              "       [-6.42301213e-01],\n",
              "       [ 6.85576158e-01],\n",
              "       [-2.29756787e-01],\n",
              "       [-2.94216853e-01],\n",
              "       [-2.42648800e-01],\n",
              "       [ 4.27735892e-01],\n",
              "       [ 3.11707772e-01],\n",
              "       [-6.55193226e-01],\n",
              "       [ 1.18327572e-01],\n",
              "       [ 1.87164138e+00],\n",
              "       [ 1.82787639e-01],\n",
              "       [ 9.04740384e-01],\n",
              "       [-1.39512694e-01],\n",
              "       [-4.61813027e-01],\n",
              "       [-1.00836654e-01],\n",
              "       [-1.52404707e-01],\n",
              "       [-8.35681413e-01],\n",
              "       [-5.52057120e-01],\n",
              "       [-1.04195363e+00],\n",
              "       [ 1.18327572e-01],\n",
              "       [-4.48921013e-01],\n",
              "       [-1.71233832e+00],\n",
              "       [-8.74357452e-01],\n",
              "       [ 1.45909696e+00]])"
            ]
          },
          "metadata": {},
          "execution_count": 34
        }
      ]
    },
    {
      "cell_type": "code",
      "metadata": {
        "id": "yLqV2EcBYgii"
      },
      "source": [
        "redes = MLPRegressor(hidden_layer_sizes=(6,6,6), activation='relu', verbose=True, max_iter=1500,\n",
        "                    solver='lbfgs', random_state = 12)"
      ],
      "execution_count": 35,
      "outputs": []
    },
    {
      "cell_type": "code",
      "source": [
        "redes.fit(x_treino_scaler, y_treino_scaler.ravel())"
      ],
      "metadata": {
        "colab": {
          "base_uri": "https://localhost:8080/"
        },
        "outputId": "da0a2657-dbfa-4592-8dfb-d3a3539539a4",
        "id": "3CNJpOG6Ygiw"
      },
      "execution_count": 36,
      "outputs": [
        {
          "output_type": "stream",
          "name": "stderr",
          "text": [
            "/usr/local/lib/python3.8/dist-packages/sklearn/neural_network/_multilayer_perceptron.py:549: ConvergenceWarning: lbfgs failed to converge (status=1):\n",
            "STOP: TOTAL NO. of ITERATIONS REACHED LIMIT.\n",
            "\n",
            "Increase the number of iterations (max_iter) or scale the data as shown in:\n",
            "    https://scikit-learn.org/stable/modules/preprocessing.html\n",
            "  self.n_iter_ = _check_optimize_result(\"lbfgs\", opt_res, self.max_iter)\n"
          ]
        },
        {
          "output_type": "execute_result",
          "data": {
            "text/plain": [
              "MLPRegressor(hidden_layer_sizes=(6, 6, 6), max_iter=1500, random_state=12,\n",
              "             solver='lbfgs', verbose=True)"
            ]
          },
          "metadata": {},
          "execution_count": 36
        }
      ]
    },
    {
      "cell_type": "code",
      "metadata": {
        "colab": {
          "base_uri": "https://localhost:8080/"
        },
        "outputId": "d41471af-830d-4833-bd0c-6aab2e6075c7",
        "id": "p7n6MFkDYgiw"
      },
      "source": [
        "redes.n_layers_"
      ],
      "execution_count": 37,
      "outputs": [
        {
          "output_type": "execute_result",
          "data": {
            "text/plain": [
              "5"
            ]
          },
          "metadata": {},
          "execution_count": 37
        }
      ]
    },
    {
      "cell_type": "code",
      "metadata": {
        "colab": {
          "base_uri": "https://localhost:8080/"
        },
        "outputId": "ea96b888-3c1a-4069-89c8-a502238d885a",
        "id": "DgEas9ZbYgix"
      },
      "source": [
        "redes.score(x_treino_scaler, y_treino_scaler)"
      ],
      "execution_count": 38,
      "outputs": [
        {
          "output_type": "execute_result",
          "data": {
            "text/plain": [
              "0.8878832063281447"
            ]
          },
          "metadata": {},
          "execution_count": 38
        }
      ]
    },
    {
      "cell_type": "markdown",
      "source": [
        "**TESTE**"
      ],
      "metadata": {
        "id": "ww7rXXpmYgiy"
      }
    },
    {
      "cell_type": "code",
      "metadata": {
        "colab": {
          "base_uri": "https://localhost:8080/"
        },
        "outputId": "6aeb8326-2126-4ce2-92ab-9873202e73ac",
        "id": "-22L712oYgiy"
      },
      "source": [
        "redes.score(x_teste_scaler, y_teste_scaler)"
      ],
      "execution_count": 39,
      "outputs": [
        {
          "output_type": "execute_result",
          "data": {
            "text/plain": [
              "0.8253823445831391"
            ]
          },
          "metadata": {},
          "execution_count": 39
        }
      ]
    },
    {
      "cell_type": "code",
      "metadata": {
        "id": "TrJeD7ZNuO-i"
      },
      "source": [
        "previsoes_teste_scaler = redes.predict(x_teste_scaler)"
      ],
      "execution_count": 40,
      "outputs": []
    },
    {
      "cell_type": "code",
      "source": [
        "previsoes_teste_scaler"
      ],
      "metadata": {
        "id": "E29s37Jkumip",
        "colab": {
          "base_uri": "https://localhost:8080/"
        },
        "outputId": "1bd8a361-e80e-4888-988f-606819ebd6bd"
      },
      "execution_count": 41,
      "outputs": [
        {
          "output_type": "execute_result",
          "data": {
            "text/plain": [
              "array([-2.79009165e-01,  1.32394960e+00, -7.67865923e-01, -8.73478907e-01,\n",
              "        1.97571627e-01, -9.28368206e-01, -8.11042827e-01, -2.17872279e-01,\n",
              "       -5.00237481e-02, -4.56693640e-01, -1.17498866e+00, -5.89204783e-01,\n",
              "        6.52844207e-02, -1.29749796e+00,  8.77587620e-02, -7.61596489e-01,\n",
              "       -7.12537690e-02,  6.49821804e-01, -1.13740984e-01,  1.18025811e+00,\n",
              "        1.42467227e+00,  1.62690796e+00, -1.25759132e+00,  1.27222850e-01,\n",
              "        9.77156047e-03,  2.87652159e+00,  1.84662380e+00,  2.82101544e+00,\n",
              "       -3.79894239e-01, -1.30881031e-01, -8.50843275e-01, -2.46670900e-01,\n",
              "        1.09719967e-01,  1.55036148e+00, -8.46596221e-02,  2.96554405e+00,\n",
              "       -2.83467074e-02, -1.54867050e+00,  9.14054942e-02,  5.60368334e-01,\n",
              "       -1.15571763e+00, -2.58440758e-01, -1.13871506e-01,  1.17969245e-01,\n",
              "        5.05797245e-02, -4.32434035e-01,  1.66500867e-01, -8.26679337e-01,\n",
              "        1.18009296e+00, -1.51548367e-01,  1.57464075e+00, -2.57920674e-02,\n",
              "        7.55298472e-01, -7.60692632e-01,  1.75230495e+00,  5.60817128e-01,\n",
              "       -4.35624554e-01, -1.11936624e+00,  4.06066195e-02,  2.20859540e-02,\n",
              "       -3.53013862e-01, -1.04459365e+00, -1.46377173e-01, -1.59938041e-01,\n",
              "       -4.67848107e-01, -1.13221267e-01, -1.76808800e+00,  6.30101211e-01,\n",
              "        4.78424593e-01, -1.36478486e+00, -1.26985692e+00,  4.20016588e-01,\n",
              "       -4.73923618e-01,  6.37695791e-01, -1.02206444e+00, -2.20323951e-01,\n",
              "        4.97937497e-01, -6.09448972e-01,  4.78277105e-01, -5.00315206e-01,\n",
              "       -2.16379726e-01,  2.21789832e+00,  8.45159010e-02,  1.41995467e-01,\n",
              "       -1.12469150e-01,  1.21102485e+00,  5.57204941e-01,  2.98208565e-01,\n",
              "       -1.40910747e-01, -2.71476788e-01, -1.32245460e-01, -8.06971753e-01,\n",
              "       -7.67857611e-01, -5.82242792e-01,  2.50053545e-01,  1.94925512e-01,\n",
              "       -1.50064307e-01,  7.16970261e-01, -3.16893051e-01, -8.38249520e-01,\n",
              "       -1.06404776e+00, -1.32785617e+00,  8.43791208e-01, -1.36063646e-01,\n",
              "       -6.89527164e-01, -1.56065082e+00, -1.35689929e-01, -1.98537335e-01,\n",
              "       -8.78465187e-01,  5.53549906e-01,  1.88203219e+00, -6.90093525e-02,\n",
              "        5.35151182e-03,  1.83418270e+00,  6.78267631e-01,  1.76397906e-01,\n",
              "       -1.15874977e+00, -2.88824625e-01, -2.53794890e-01,  2.98382281e+00,\n",
              "        1.51425593e+00, -4.91290516e-01, -9.14343133e-01, -5.01376561e-01,\n",
              "        5.84338197e-01, -6.65129417e-01,  2.49170035e-03, -8.38448082e-02,\n",
              "        6.82897209e-01,  2.28317946e-01, -4.92195358e-01,  3.25570024e-01,\n",
              "        1.41183547e+00,  2.14674055e-01,  4.09267024e-01, -2.29407221e-01,\n",
              "       -5.86545866e-01, -9.45370799e-02, -2.94314838e-01, -8.03778335e-01,\n",
              "        4.42510906e-02, -1.28699356e+00, -1.03361975e-01, -3.42583760e-01,\n",
              "       -1.41925478e+00, -7.76143866e-01,  9.91138159e-01])"
            ]
          },
          "metadata": {},
          "execution_count": 41
        }
      ]
    },
    {
      "cell_type": "markdown",
      "source": [
        "## **MÉTRICAS**"
      ],
      "metadata": {
        "id": "-3gMP-aLuO-2"
      }
    },
    {
      "cell_type": "markdown",
      "source": [
        "**Revertendo a transformação**"
      ],
      "metadata": {
        "id": "bkj7pP_M0G_r"
      }
    },
    {
      "cell_type": "code",
      "source": [
        "previsoes_teste_scaler"
      ],
      "metadata": {
        "id": "IQjSU2awzSAf",
        "colab": {
          "base_uri": "https://localhost:8080/"
        },
        "outputId": "30a2e15b-9328-43c6-b2ab-8ec220bedccd"
      },
      "execution_count": 42,
      "outputs": [
        {
          "output_type": "execute_result",
          "data": {
            "text/plain": [
              "array([-2.79009165e-01,  1.32394960e+00, -7.67865923e-01, -8.73478907e-01,\n",
              "        1.97571627e-01, -9.28368206e-01, -8.11042827e-01, -2.17872279e-01,\n",
              "       -5.00237481e-02, -4.56693640e-01, -1.17498866e+00, -5.89204783e-01,\n",
              "        6.52844207e-02, -1.29749796e+00,  8.77587620e-02, -7.61596489e-01,\n",
              "       -7.12537690e-02,  6.49821804e-01, -1.13740984e-01,  1.18025811e+00,\n",
              "        1.42467227e+00,  1.62690796e+00, -1.25759132e+00,  1.27222850e-01,\n",
              "        9.77156047e-03,  2.87652159e+00,  1.84662380e+00,  2.82101544e+00,\n",
              "       -3.79894239e-01, -1.30881031e-01, -8.50843275e-01, -2.46670900e-01,\n",
              "        1.09719967e-01,  1.55036148e+00, -8.46596221e-02,  2.96554405e+00,\n",
              "       -2.83467074e-02, -1.54867050e+00,  9.14054942e-02,  5.60368334e-01,\n",
              "       -1.15571763e+00, -2.58440758e-01, -1.13871506e-01,  1.17969245e-01,\n",
              "        5.05797245e-02, -4.32434035e-01,  1.66500867e-01, -8.26679337e-01,\n",
              "        1.18009296e+00, -1.51548367e-01,  1.57464075e+00, -2.57920674e-02,\n",
              "        7.55298472e-01, -7.60692632e-01,  1.75230495e+00,  5.60817128e-01,\n",
              "       -4.35624554e-01, -1.11936624e+00,  4.06066195e-02,  2.20859540e-02,\n",
              "       -3.53013862e-01, -1.04459365e+00, -1.46377173e-01, -1.59938041e-01,\n",
              "       -4.67848107e-01, -1.13221267e-01, -1.76808800e+00,  6.30101211e-01,\n",
              "        4.78424593e-01, -1.36478486e+00, -1.26985692e+00,  4.20016588e-01,\n",
              "       -4.73923618e-01,  6.37695791e-01, -1.02206444e+00, -2.20323951e-01,\n",
              "        4.97937497e-01, -6.09448972e-01,  4.78277105e-01, -5.00315206e-01,\n",
              "       -2.16379726e-01,  2.21789832e+00,  8.45159010e-02,  1.41995467e-01,\n",
              "       -1.12469150e-01,  1.21102485e+00,  5.57204941e-01,  2.98208565e-01,\n",
              "       -1.40910747e-01, -2.71476788e-01, -1.32245460e-01, -8.06971753e-01,\n",
              "       -7.67857611e-01, -5.82242792e-01,  2.50053545e-01,  1.94925512e-01,\n",
              "       -1.50064307e-01,  7.16970261e-01, -3.16893051e-01, -8.38249520e-01,\n",
              "       -1.06404776e+00, -1.32785617e+00,  8.43791208e-01, -1.36063646e-01,\n",
              "       -6.89527164e-01, -1.56065082e+00, -1.35689929e-01, -1.98537335e-01,\n",
              "       -8.78465187e-01,  5.53549906e-01,  1.88203219e+00, -6.90093525e-02,\n",
              "        5.35151182e-03,  1.83418270e+00,  6.78267631e-01,  1.76397906e-01,\n",
              "       -1.15874977e+00, -2.88824625e-01, -2.53794890e-01,  2.98382281e+00,\n",
              "        1.51425593e+00, -4.91290516e-01, -9.14343133e-01, -5.01376561e-01,\n",
              "        5.84338197e-01, -6.65129417e-01,  2.49170035e-03, -8.38448082e-02,\n",
              "        6.82897209e-01,  2.28317946e-01, -4.92195358e-01,  3.25570024e-01,\n",
              "        1.41183547e+00,  2.14674055e-01,  4.09267024e-01, -2.29407221e-01,\n",
              "       -5.86545866e-01, -9.45370799e-02, -2.94314838e-01, -8.03778335e-01,\n",
              "        4.42510906e-02, -1.28699356e+00, -1.03361975e-01, -3.42583760e-01,\n",
              "       -1.41925478e+00, -7.76143866e-01,  9.91138159e-01])"
            ]
          },
          "metadata": {},
          "execution_count": 42
        }
      ]
    },
    {
      "cell_type": "code",
      "source": [
        "previsoes_teste_inverse = y_scaler.inverse_transform(previsoes_teste_scaler.reshape(-1,1))"
      ],
      "metadata": {
        "id": "Im0E-MAczbiP"
      },
      "execution_count": 43,
      "outputs": []
    },
    {
      "cell_type": "code",
      "source": [
        "previsoes_teste_inverse"
      ],
      "metadata": {
        "id": "UPrNMYiwzu0N",
        "colab": {
          "base_uri": "https://localhost:8080/"
        },
        "outputId": "474d2907-748e-426a-cb45-afa34f0951a1"
      },
      "execution_count": 44,
      "outputs": [
        {
          "output_type": "execute_result",
          "data": {
            "text/plain": [
              "array([[409877.20388823],\n",
              "       [670985.63789757],\n",
              "       [330246.57011611],\n",
              "       [313043.10758694],\n",
              "       [487508.18673451],\n",
              "       [304102.10477261],\n",
              "       [323213.41737586],\n",
              "       [419835.88585231],\n",
              "       [447176.99285273],\n",
              "       [380933.90482812],\n",
              "       [263929.71799006],\n",
              "       [359348.95970549],\n",
              "       [465959.7189231 ],\n",
              "       [243973.98731669],\n",
              "       [469620.59915949],\n",
              "       [331267.80781037],\n",
              "       [443718.80188535],\n",
              "       [561175.91787095],\n",
              "       [436797.99364137],\n",
              "       [647579.50817296],\n",
              "       [687392.51015981],\n",
              "       [720334.99374618],\n",
              "       [250474.44252241],\n",
              "       [476048.9655771 ],\n",
              "       [456917.14320416],\n",
              "       [923886.49237391],\n",
              "       [756124.84658509],\n",
              "       [914845.00907664],\n",
              "       [393443.87808465],\n",
              "       [434006.02484127],\n",
              "       [316730.26072148],\n",
              "       [415144.83391841],\n",
              "       [473197.89376288],\n",
              "       [707866.21868829],\n",
              "       [441535.10172826],\n",
              "       [938387.49804902],\n",
              "       [450707.99956037],\n",
              "       [203060.10373119],\n",
              "       [470214.62100053],\n",
              "       [546604.70373504],\n",
              "       [267068.80551842],\n",
              "       [413227.62355375],\n",
              "       [436776.73274121],\n",
              "       [474541.63151777],\n",
              "       [463564.44819586],\n",
              "       [384885.58940933],\n",
              "       [482447.02244351],\n",
              "       [320666.36199158],\n",
              "       [647552.60698401],\n",
              "       [430639.49049002],\n",
              "       [711821.1068454 ],\n",
              "       [451124.12881794],\n",
              "       [578357.175606  ],\n",
              "       [331415.03845546],\n",
              "       [740761.10343227],\n",
              "       [546677.80848213],\n",
              "       [384365.8808251 ],\n",
              "       [272990.1390281 ],\n",
              "       [461939.91369495],\n",
              "       [458923.05381699],\n",
              "       [397822.46432952],\n",
              "       [285169.96154251],\n",
              "       [431481.83434682],\n",
              "       [429272.88363553],\n",
              "       [379116.93641542],\n",
              "       [436882.65111479],\n",
              "       [167318.84871159],\n",
              "       [557963.60000435],\n",
              "       [533256.76102185],\n",
              "       [233013.52075459],\n",
              "       [248476.48041389],\n",
              "       [523742.59060948],\n",
              "       [378127.28706929],\n",
              "       [559200.69296678],\n",
              "       [288839.77991867],\n",
              "       [419436.52916903],\n",
              "       [536435.24803325],\n",
              "       [356051.35230286],\n",
              "       [533232.73646279],\n",
              "       [373828.32039227],\n",
              "       [420079.0102382 ],\n",
              "       [816602.32825878],\n",
              "       [469092.36451518],\n",
              "       [478455.29990956],\n",
              "       [437005.16472239],\n",
              "       [652591.15098039],\n",
              "       [546089.41382415],\n",
              "       [503901.09322919],\n",
              "       [432372.26892748],\n",
              "       [411104.1644533 ],\n",
              "       [433783.77092332],\n",
              "       [323876.56083709],\n",
              "       [330247.92406885],\n",
              "       [360483.00905999],\n",
              "       [496057.04757258],\n",
              "       [487077.15698981],\n",
              "       [430881.23144647],\n",
              "       [572113.83397353],\n",
              "       [403706.23907246],\n",
              "       [318781.67693848],\n",
              "       [282001.05290361],\n",
              "       [239028.892589  ],\n",
              "       [592771.89434215],\n",
              "       [433161.82080249],\n",
              "       [343007.29171581],\n",
              "       [201108.61078033],\n",
              "       [433222.69607491],\n",
              "       [422985.38478468],\n",
              "       [312230.88470866],\n",
              "       [545494.03944039],\n",
              "       [761892.57387106],\n",
              "       [444084.39837304],\n",
              "       [456197.15463853],\n",
              "       [754098.29696874],\n",
              "       [565809.50276881],\n",
              "       [484059.16649583],\n",
              "       [266574.89476295],\n",
              "       [408278.34840643],\n",
              "       [413984.39615987],\n",
              "       [941364.95372247],\n",
              "       [701984.93114705],\n",
              "       [375298.36603934],\n",
              "       [306386.67064559],\n",
              "       [373655.43471707],\n",
              "       [550509.19180444],\n",
              "       [346981.47857451],\n",
              "       [455731.31552211],\n",
              "       [441667.82803554],\n",
              "       [566563.62179784],\n",
              "       [492516.50221268],\n",
              "       [375150.9749821 ],\n",
              "       [508358.0436569 ],\n",
              "       [685301.50395649],\n",
              "       [490294.02764474],\n",
              "       [521991.57756947],\n",
              "       [417956.94134873],\n",
              "       [359782.07478317],\n",
              "       [439926.14734014],\n",
              "       [407384.03909126],\n",
              "       [324396.74162959],\n",
              "       [462533.56722825],\n",
              "       [245685.06570578],\n",
              "       [438488.64650745],\n",
              "       [399521.43971576],\n",
              "       [224140.83130775],\n",
              "       [328898.1631528 ],\n",
              "       [616773.46713298]])"
            ]
          },
          "metadata": {},
          "execution_count": 44
        }
      ]
    },
    {
      "cell_type": "code",
      "source": [
        "y_teste"
      ],
      "metadata": {
        "id": "soMoe3Eez0Er",
        "colab": {
          "base_uri": "https://localhost:8080/"
        },
        "outputId": "52d16069-2604-42bd-cefd-d8cb36c4e6fe"
      },
      "execution_count": 45,
      "outputs": [
        {
          "output_type": "execute_result",
          "data": {
            "text/plain": [
              "array([ 417900.,  632100.,  281400.,  577500.,  474600.,  359100.,\n",
              "        247800.,  474600.,  449400.,  411600.,  214200.,  214200.,\n",
              "        428400.,  375900.,  577500.,  327600.,  420000.,  489300.,\n",
              "        470400.,  640500.,  651000.,  690900.,  147000.,  441000.,\n",
              "        367500.,  966000.,  756000.,  888300.,  455700.,  445200.,\n",
              "        323400.,  455700.,  430500.,  867300.,  445200.,  875700.,\n",
              "        415800.,  268800.,  590100.,  497700.,  231000.,  315000.,\n",
              "        388500.,  449400.,  413700.,  352800.,  453600.,  306600.,\n",
              "        898800.,  514500.,  743400.,  474600.,  600600.,  304500.,\n",
              "        661500.,  489300.,  422100.,  184800.,  525000.,  249900.,\n",
              "        407400.,  361200.,  428400.,  392700.,  428400.,  472500.,\n",
              "        258300.,  550200.,  346500.,  199500.,  302400.,  611100.,\n",
              "        396900.,  585900.,  279300.,  483000.,  462000.,  218400.,\n",
              "        518700.,  420000.,  392700.,  980700.,  455700.,  514500.,\n",
              "        480900.,  520800.,  485100.,  525000.,  390600.,  569100.,\n",
              "        359100.,  346500.,  283500.,  344400.,  459900.,  464100.,\n",
              "        432600.,  617400.,  449400.,  289800.,  174300.,  275100.,\n",
              "        661500.,  411600.,  275100.,  132300.,  357000.,  483000.,\n",
              "        285600.,  493500.,  701400.,  405300.,  338100.,  743400.,\n",
              "        682500.,  466200.,  176400.,  373800.,  394800., 1014300.,\n",
              "        636300.,  228900.,  262500.,  350700.,  567000.,  417900.,\n",
              "        407400.,  415800.,  525000.,  506100.,  348600.,  474600.,\n",
              "        760200.,  485100.,  602700.,  432600.,  380100.,  438900.,\n",
              "        430500.,  319200.,  365400.,  285600.,  474600.,  382200.,\n",
              "        176400.,  312900.,  693000.])"
            ]
          },
          "metadata": {},
          "execution_count": 45
        }
      ]
    },
    {
      "cell_type": "code",
      "metadata": {
        "id": "fTvkHk4JuO-2"
      },
      "source": [
        "from sklearn.metrics import mean_absolute_error, mean_squared_error"
      ],
      "execution_count": 46,
      "outputs": []
    },
    {
      "cell_type": "code",
      "metadata": {
        "colab": {
          "base_uri": "https://localhost:8080/"
        },
        "outputId": "171d79a0-0bab-43ed-984a-1a1ec506e3d0",
        "id": "zQ1JBPZ5uO-3"
      },
      "source": [
        "# Erro médio Absoluto\n",
        "mean_absolute_error(y_teste, previsoes_teste_inverse)"
      ],
      "execution_count": 47,
      "outputs": [
        {
          "output_type": "execute_result",
          "data": {
            "text/plain": [
              "53801.85330918682"
            ]
          },
          "metadata": {},
          "execution_count": 47
        }
      ]
    },
    {
      "cell_type": "code",
      "metadata": {
        "colab": {
          "base_uri": "https://localhost:8080/"
        },
        "outputId": "eb480baf-7baa-4c97-afc1-05ef63c86384",
        "id": "pafOb9YDuO-3"
      },
      "source": [
        "# Raiz do erro quadrático médio (RMSE)\n",
        "np.sqrt(mean_squared_error(y_teste, previsoes_teste_inverse))"
      ],
      "execution_count": 48,
      "outputs": [
        {
          "output_type": "execute_result",
          "data": {
            "text/plain": [
              "71178.24536738635"
            ]
          },
          "metadata": {},
          "execution_count": 48
        }
      ]
    },
    {
      "cell_type": "markdown",
      "source": [
        "**Revertendo a transformação**"
      ],
      "metadata": {
        "id": "qXiWO2g21N4C"
      }
    },
    {
      "cell_type": "code",
      "source": [
        "x_treino_inverse = x_scaler.inverse_transform(x_treino_scaler)"
      ],
      "metadata": {
        "id": "YxYKJhda1QOQ"
      },
      "execution_count": 49,
      "outputs": []
    },
    {
      "cell_type": "code",
      "source": [
        "x_treino_inverse"
      ],
      "metadata": {
        "id": "kPTE_4Tcnwyz",
        "colab": {
          "base_uri": "https://localhost:8080/"
        },
        "outputId": "ff20ad9e-c3c7-45fb-fbe5-54c35be5ccd0"
      },
      "execution_count": 50,
      "outputs": [
        {
          "output_type": "execute_result",
          "data": {
            "text/plain": [
              "array([[ 6.266,  7.9  , 18.4  ],\n",
              "       [ 6.951,  9.71 , 17.4  ],\n",
              "       [ 6.619,  7.22 , 19.   ],\n",
              "       ...,\n",
              "       [ 6.021, 10.3  , 17.8  ],\n",
              "       [ 6.03 , 18.8  , 17.9  ],\n",
              "       [ 6.02 , 10.11 , 16.6  ]])"
            ]
          },
          "metadata": {},
          "execution_count": 50
        }
      ]
    },
    {
      "cell_type": "code",
      "source": [
        "x_treino"
      ],
      "metadata": {
        "id": "yIt3n-xOvBeP",
        "colab": {
          "base_uri": "https://localhost:8080/"
        },
        "outputId": "e3b72e1a-7ec2-49de-bc1b-8b95f959da44"
      },
      "execution_count": 51,
      "outputs": [
        {
          "output_type": "execute_result",
          "data": {
            "text/plain": [
              "array([[ 6.266,  7.9  , 18.4  ],\n",
              "       [ 6.951,  9.71 , 17.4  ],\n",
              "       [ 6.619,  7.22 , 19.   ],\n",
              "       ...,\n",
              "       [ 6.021, 10.3  , 17.8  ],\n",
              "       [ 6.03 , 18.8  , 17.9  ],\n",
              "       [ 6.02 , 10.11 , 16.6  ]])"
            ]
          },
          "metadata": {},
          "execution_count": 51
        }
      ]
    },
    {
      "cell_type": "code",
      "source": [
        "y_treino_inverse = y_scaler.inverse_transform(y_treino_scaler)"
      ],
      "metadata": {
        "id": "QUdHrRrXmykQ"
      },
      "execution_count": 52,
      "outputs": []
    },
    {
      "cell_type": "code",
      "source": [
        "y_treino_inverse"
      ],
      "metadata": {
        "id": "Ars4cnYBn31s",
        "colab": {
          "base_uri": "https://localhost:8080/"
        },
        "outputId": "d306d2ff-f69e-4798-9c6c-1aaa03b1713e"
      },
      "execution_count": 53,
      "outputs": [
        {
          "output_type": "execute_result",
          "data": {
            "text/plain": [
              "array([[ 453600.],\n",
              "       [ 560700.],\n",
              "       [ 501900.],\n",
              "       [ 436800.],\n",
              "       [ 478800.],\n",
              "       [ 327600.],\n",
              "       [ 252000.],\n",
              "       [ 409500.],\n",
              "       [ 432600.],\n",
              "       [ 289800.],\n",
              "       [ 781200.],\n",
              "       [ 653100.],\n",
              "       [ 663600.],\n",
              "       [ 430500.],\n",
              "       [ 602700.],\n",
              "       [ 455700.],\n",
              "       [ 409500.],\n",
              "       [ 499800.],\n",
              "       [ 409500.],\n",
              "       [ 499800.],\n",
              "       [ 525000.],\n",
              "       [ 497700.],\n",
              "       [ 281400.],\n",
              "       [ 264600.],\n",
              "       [1024800.],\n",
              "       [ 602700.],\n",
              "       [ 117600.],\n",
              "       [ 483000.],\n",
              "       [ 525000.],\n",
              "       [ 905100.],\n",
              "       [ 399000.],\n",
              "       [ 499800.],\n",
              "       [ 214200.],\n",
              "       [ 480900.],\n",
              "       [ 424200.],\n",
              "       [ 289800.],\n",
              "       [ 510300.],\n",
              "       [ 451500.],\n",
              "       [ 766500.],\n",
              "       [ 510300.],\n",
              "       [ 369600.],\n",
              "       [ 466200.],\n",
              "       [ 312900.],\n",
              "       [ 407400.],\n",
              "       [ 273000.],\n",
              "       [ 392700.],\n",
              "       [ 294000.],\n",
              "       [ 556500.],\n",
              "       [ 178500.],\n",
              "       [ 728700.],\n",
              "       [ 157500.],\n",
              "       [ 367500.],\n",
              "       [ 327600.],\n",
              "       [ 497700.],\n",
              "       [ 680400.],\n",
              "       [ 266700.],\n",
              "       [ 388500.],\n",
              "       [ 520800.],\n",
              "       [ 405300.],\n",
              "       [ 296100.],\n",
              "       [ 105000.],\n",
              "       [ 835800.],\n",
              "       [ 407400.],\n",
              "       [ 445200.],\n",
              "       [ 485100.],\n",
              "       [ 281400.],\n",
              "       [ 462000.],\n",
              "       [ 487200.],\n",
              "       [ 394800.],\n",
              "       [ 577500.],\n",
              "       [ 686700.],\n",
              "       [ 485100.],\n",
              "       [ 365400.],\n",
              "       [ 699300.],\n",
              "       [ 506100.],\n",
              "       [ 621600.],\n",
              "       [ 329700.],\n",
              "       [ 487200.],\n",
              "       [ 422100.],\n",
              "       [ 279300.],\n",
              "       [ 237300.],\n",
              "       [ 476700.],\n",
              "       [ 386400.],\n",
              "       [ 275100.],\n",
              "       [ 525000.],\n",
              "       [ 525000.],\n",
              "       [ 283500.],\n",
              "       [ 445200.],\n",
              "       [ 812700.],\n",
              "       [ 558600.],\n",
              "       [ 336000.],\n",
              "       [ 401100.],\n",
              "       [ 512400.],\n",
              "       [ 516600.],\n",
              "       [ 739200.],\n",
              "       [ 470400.],\n",
              "       [ 384300.],\n",
              "       [ 300300.],\n",
              "       [ 388500.],\n",
              "       [ 415800.],\n",
              "       [ 241500.],\n",
              "       [ 789600.],\n",
              "       [ 420000.],\n",
              "       [ 315000.],\n",
              "       [ 529200.],\n",
              "       [ 758100.],\n",
              "       [ 491400.],\n",
              "       [ 359100.],\n",
              "       [ 445200.],\n",
              "       [ 396900.],\n",
              "       [ 501900.],\n",
              "       [ 441000.],\n",
              "       [ 459900.],\n",
              "       [ 585900.],\n",
              "       [ 319200.],\n",
              "       [ 940800.],\n",
              "       [ 310800.],\n",
              "       [ 432600.],\n",
              "       [ 426300.],\n",
              "       [ 275100.],\n",
              "       [ 399000.],\n",
              "       [ 401100.],\n",
              "       [ 279300.],\n",
              "       [ 483000.],\n",
              "       [ 422100.],\n",
              "       [ 382200.],\n",
              "       [ 480900.],\n",
              "       [ 432600.],\n",
              "       [ 577500.],\n",
              "       [ 338100.],\n",
              "       [ 611100.],\n",
              "       [ 455700.],\n",
              "       [ 405300.],\n",
              "       [ 466200.],\n",
              "       [ 434700.],\n",
              "       [ 462000.],\n",
              "       [ 327600.],\n",
              "       [ 632100.],\n",
              "       [ 665700.],\n",
              "       [ 300300.],\n",
              "       [ 478800.],\n",
              "       [ 365400.],\n",
              "       [ 174300.],\n",
              "       [ 254100.],\n",
              "       [ 732900.],\n",
              "       [ 462000.],\n",
              "       [ 417900.],\n",
              "       [ 426300.],\n",
              "       [ 441000.],\n",
              "       [ 485100.],\n",
              "       [ 428400.],\n",
              "       [ 472500.],\n",
              "       [ 218400.],\n",
              "       [ 352800.],\n",
              "       [ 527100.],\n",
              "       [ 476700.],\n",
              "       [ 480900.],\n",
              "       [ 501900.],\n",
              "       [ 449400.],\n",
              "       [ 455700.],\n",
              "       [ 323400.],\n",
              "       [ 321300.],\n",
              "       [ 485100.],\n",
              "       [ 501900.],\n",
              "       [ 407400.],\n",
              "       [ 373800.],\n",
              "       [ 373800.],\n",
              "       [ 388500.],\n",
              "       [ 443100.],\n",
              "       [ 436800.],\n",
              "       [ 405300.],\n",
              "       [ 361200.],\n",
              "       [ 924000.],\n",
              "       [ 266700.],\n",
              "       [ 382200.],\n",
              "       [ 592200.],\n",
              "       [ 737100.],\n",
              "       [ 609000.],\n",
              "       [ 203700.],\n",
              "       [ 701400.],\n",
              "       [ 632100.],\n",
              "       [ 449400.],\n",
              "       [ 783300.],\n",
              "       [ 426300.],\n",
              "       [ 436800.],\n",
              "       [ 732900.],\n",
              "       [ 184800.],\n",
              "       [ 457800.],\n",
              "       [ 422100.],\n",
              "       [ 596400.],\n",
              "       [ 226800.],\n",
              "       [ 672000.],\n",
              "       [ 296100.],\n",
              "       [ 588000.],\n",
              "       [ 485100.],\n",
              "       [ 913500.],\n",
              "       [ 396900.],\n",
              "       [ 228900.],\n",
              "       [ 472500.],\n",
              "       [ 697200.],\n",
              "       [ 420000.],\n",
              "       [ 401100.],\n",
              "       [ 489300.],\n",
              "       [ 558600.],\n",
              "       [ 953400.],\n",
              "       [ 413700.],\n",
              "       [ 489300.],\n",
              "       [ 201600.],\n",
              "       [ 178500.],\n",
              "       [ 245700.],\n",
              "       [ 363300.],\n",
              "       [ 510300.],\n",
              "       [ 466200.],\n",
              "       [ 151200.],\n",
              "       [ 403200.],\n",
              "       [ 764400.],\n",
              "       [ 304500.],\n",
              "       [ 518700.],\n",
              "       [ 504000.],\n",
              "       [ 512400.],\n",
              "       [ 245700.],\n",
              "       [ 919800.],\n",
              "       [ 525000.],\n",
              "       [ 340200.],\n",
              "       [ 457800.],\n",
              "       [ 795900.],\n",
              "       [ 220500.],\n",
              "       [ 478800.],\n",
              "       [ 432600.],\n",
              "       [ 487200.],\n",
              "       [ 596400.],\n",
              "       [ 281400.],\n",
              "       [ 495600.],\n",
              "       [ 438900.],\n",
              "       [ 373800.],\n",
              "       [ 302400.],\n",
              "       [ 390600.],\n",
              "       [ 317100.],\n",
              "       [ 497700.],\n",
              "       [ 598500.],\n",
              "       [ 504000.],\n",
              "       [ 373800.],\n",
              "       [ 327600.],\n",
              "       [ 367500.],\n",
              "       [ 554400.],\n",
              "       [ 289800.],\n",
              "       [ 411600.],\n",
              "       [ 266700.],\n",
              "       [ 462000.],\n",
              "       [ 512400.],\n",
              "       [ 443100.],\n",
              "       [ 455700.],\n",
              "       [ 501900.],\n",
              "       [ 426300.],\n",
              "       [ 319200.],\n",
              "       [ 386400.],\n",
              "       [ 401100.],\n",
              "       [ 371700.],\n",
              "       [ 151200.],\n",
              "       [ 462000.],\n",
              "       [ 520800.],\n",
              "       [ 695100.],\n",
              "       [ 405300.],\n",
              "       [ 315000.],\n",
              "       [ 554400.],\n",
              "       [ 663600.],\n",
              "       [ 407400.],\n",
              "       [ 644700.],\n",
              "       [ 289800.],\n",
              "       [ 312900.],\n",
              "       [ 531300.],\n",
              "       [ 409500.],\n",
              "       [ 105000.],\n",
              "       [ 411600.],\n",
              "       [ 676200.],\n",
              "       [ 338100.],\n",
              "       [ 518700.],\n",
              "       [ 249900.],\n",
              "       [ 491400.],\n",
              "       [ 182700.],\n",
              "       [ 247800.],\n",
              "       [ 378000.],\n",
              "       [ 462000.],\n",
              "       [ 386400.],\n",
              "       [ 625800.],\n",
              "       [ 155400.],\n",
              "       [ 499800.],\n",
              "       [ 411600.],\n",
              "       [ 621600.],\n",
              "       [ 420000.],\n",
              "       [ 304500.],\n",
              "       [ 277200.],\n",
              "       [ 340200.],\n",
              "       [ 777000.],\n",
              "       [ 350700.],\n",
              "       [ 609000.],\n",
              "       [ 220500.],\n",
              "       [ 151200.],\n",
              "       [ 424200.],\n",
              "       [ 306600.],\n",
              "       [ 569100.],\n",
              "       [ 625800.],\n",
              "       [ 760200.],\n",
              "       [ 697200.],\n",
              "       [ 558600.],\n",
              "       [ 417900.],\n",
              "       [ 296100.],\n",
              "       [ 361200.],\n",
              "       [1018500.],\n",
              "       [ 520800.],\n",
              "       [ 384300.],\n",
              "       [ 298200.],\n",
              "       [ 672000.],\n",
              "       [ 478800.],\n",
              "       [ 655200.],\n",
              "       [ 291900.],\n",
              "       [ 468300.],\n",
              "       [ 514500.],\n",
              "       [ 170100.],\n",
              "       [ 627900.],\n",
              "       [ 422100.],\n",
              "       [ 646800.],\n",
              "       [ 732900.],\n",
              "       [ 516600.],\n",
              "       [ 342300.],\n",
              "       [ 495600.],\n",
              "       [ 147000.],\n",
              "       [ 508200.],\n",
              "       [ 466200.],\n",
              "       [ 695100.],\n",
              "       [ 512400.],\n",
              "       [ 468300.],\n",
              "       [ 451500.],\n",
              "       [ 396900.],\n",
              "       [ 291900.],\n",
              "       [ 506100.],\n",
              "       [ 709800.],\n",
              "       [ 434700.],\n",
              "       [ 726600.],\n",
              "       [ 403200.],\n",
              "       [ 348600.],\n",
              "       [ 487200.]])"
            ]
          },
          "metadata": {},
          "execution_count": 53
        }
      ]
    },
    {
      "cell_type": "code",
      "source": [
        "x_teste_inverse = x_scaler.inverse_transform(x_teste_scaler)"
      ],
      "metadata": {
        "id": "h5UWcx7U2O4R"
      },
      "execution_count": 54,
      "outputs": []
    },
    {
      "cell_type": "code",
      "source": [
        "x_teste_inverse"
      ],
      "metadata": {
        "id": "-4opN-gQn-CU",
        "colab": {
          "base_uri": "https://localhost:8080/"
        },
        "outputId": "eb4b81e1-a3ee-43b6-9bc0-2230c5eb49c7"
      },
      "execution_count": 55,
      "outputs": [
        {
          "output_type": "execute_result",
          "data": {
            "text/plain": [
              "array([[ 5.834,  8.47 , 21.   ],\n",
              "       [ 6.842,  6.9  , 13.   ],\n",
              "       [ 5.403, 26.82 , 14.7  ],\n",
              "       [ 6.852, 19.78 , 20.2  ],\n",
              "       [ 6.417,  8.81 , 17.8  ],\n",
              "       [ 6.406, 19.52 , 20.2  ],\n",
              "       [ 4.903, 29.29 , 14.7  ],\n",
              "       [ 6.112, 12.67 , 20.2  ],\n",
              "       [ 6.163, 11.34 , 18.   ],\n",
              "       [ 5.965, 13.83 , 21.   ],\n",
              "       [ 6.223, 21.78 , 20.2  ],\n",
              "       [ 5.837, 15.69 , 20.2  ],\n",
              "       [ 6.041,  7.7  , 19.6  ],\n",
              "       [ 4.628, 34.37 , 20.2  ],\n",
              "       [ 6.727,  9.42 , 20.9  ],\n",
              "       [ 5.757, 17.31 , 21.2  ],\n",
              "       [ 6.279, 11.97 , 18.7  ],\n",
              "       [ 6.51 ,  7.39 , 14.7  ],\n",
              "       [ 5.807, 16.03 , 18.6  ],\n",
              "       [ 6.739,  4.69 , 15.2  ],\n",
              "       [ 7.327, 11.25 , 13.   ],\n",
              "       [ 7.135,  4.45 , 17.   ],\n",
              "       [ 4.519, 36.98 , 20.2  ],\n",
              "       [ 5.85 ,  8.77 , 19.2  ],\n",
              "       [ 5.569, 15.1  , 19.2  ],\n",
              "       [ 7.645,  3.01 , 14.9  ],\n",
              "       [ 7.333,  7.79 , 13.   ],\n",
              "       [ 7.61 ,  3.11 , 14.7  ],\n",
              "       [ 6.395, 13.27 , 20.2  ],\n",
              "       [ 6.019, 12.92 , 19.2  ],\n",
              "       [ 6.485, 18.85 , 20.2  ],\n",
              "       [ 5.889, 15.71 , 15.2  ],\n",
              "       [ 6.226, 10.15 , 19.1  ],\n",
              "       [ 6.943,  4.59 , 14.7  ],\n",
              "       [ 6.232, 12.34 , 18.7  ],\n",
              "       [ 8.337,  2.47 , 17.4  ],\n",
              "       [ 6.144,  9.09 , 16.9  ],\n",
              "       [ 5.627, 22.88 , 20.2  ],\n",
              "       [ 6.375,  9.38 , 18.6  ],\n",
              "       [ 6.393,  5.19 , 16.6  ],\n",
              "       [ 6.193, 21.52 , 20.2  ],\n",
              "       [ 6.377, 20.45 , 15.2  ],\n",
              "       [ 5.708, 11.74 , 19.6  ],\n",
              "       [ 6.286,  8.94 , 18.7  ],\n",
              "       [ 5.39 , 21.14 , 19.2  ],\n",
              "       [ 5.803, 14.64 , 20.2  ],\n",
              "       [ 6.421,  9.14 , 17.8  ],\n",
              "       [ 6.185, 18.03 , 20.2  ],\n",
              "       [ 8.259,  3.54 , 19.1  ],\n",
              "       [ 5.926, 13.59 , 19.2  ],\n",
              "       [ 6.968,  4.59 , 14.9  ],\n",
              "       [ 5.891, 10.87 , 18.6  ],\n",
              "       [ 6.678,  6.27 , 16.   ],\n",
              "       [ 6.348, 17.64 , 20.2  ],\n",
              "       [ 7.358,  4.73 , 17.4  ],\n",
              "       [ 6.606,  7.37 , 16.6  ],\n",
              "       [ 5.713, 14.76 , 20.2  ],\n",
              "       [ 5.957, 20.62 , 20.2  ],\n",
              "       [ 6.182,  9.47 , 18.6  ],\n",
              "       [ 6.03 ,  7.88 , 21.   ],\n",
              "       [ 5.709, 15.79 , 14.7  ],\n",
              "       [ 6.657, 21.22 , 20.2  ],\n",
              "       [ 5.872, 15.37 , 17.8  ],\n",
              "       [ 6.092, 17.09 , 17.8  ],\n",
              "       [ 6.127, 14.09 , 20.9  ],\n",
              "       [ 5.783, 18.06 , 18.6  ],\n",
              "       [ 5.52 , 24.56 , 20.2  ],\n",
              "       [ 6.718,  6.56 , 19.1  ],\n",
              "       [ 6.54 ,  8.65 , 15.9  ],\n",
              "       [ 6.38 , 24.08 , 20.2  ],\n",
              "       [ 5.019, 34.41 , 21.2  ],\n",
              "       [ 6.482,  7.19 , 17.6  ],\n",
              "       [ 5.888, 14.8  , 21.1  ],\n",
              "       [ 6.63 ,  4.7  , 19.2  ],\n",
              "       [ 6.794, 21.24 , 20.2  ],\n",
              "       [ 6.372, 11.12 , 21.2  ],\n",
              "       [ 6.897, 11.38 , 16.6  ],\n",
              "       [ 6.968, 17.21 , 20.2  ],\n",
              "       [ 6.383,  5.77 , 17.3  ],\n",
              "       [ 6.081, 14.7  , 20.2  ],\n",
              "       [ 5.741, 13.15 , 19.7  ],\n",
              "       [ 7.686,  3.92 , 17.4  ],\n",
              "       [ 5.961,  9.88 , 19.2  ],\n",
              "       [ 6.433,  9.52 , 19.1  ],\n",
              "       [ 6.012, 12.43 , 15.2  ],\n",
              "       [ 6.871,  6.07 , 14.8  ],\n",
              "       [ 6.516,  6.36 , 17.9  ],\n",
              "       [ 6.415,  6.12 , 19.6  ],\n",
              "       [ 6.405, 10.63 , 20.9  ],\n",
              "       [ 6.172, 19.15 , 15.2  ],\n",
              "       [ 5.706, 12.43 , 16.9  ],\n",
              "       [ 5.631, 29.93 , 15.2  ],\n",
              "       [ 5.936, 16.94 , 20.2  ],\n",
              "       [ 6.701, 16.42 , 20.2  ],\n",
              "       [ 6.108,  6.57 , 16.4  ],\n",
              "       [ 6.122,  5.98 , 18.4  ],\n",
              "       [ 6.12 ,  9.08 , 21.   ],\n",
              "       [ 6.546,  5.33 , 16.6  ],\n",
              "       [ 6.209, 13.22 , 20.2  ],\n",
              "       [ 5.427, 18.14 , 20.2  ],\n",
              "       [ 5.349, 19.77 , 20.2  ],\n",
              "       [ 6.38 , 23.69 , 20.2  ],\n",
              "       [ 6.552,  3.76 , 17.4  ],\n",
              "       [ 5.927,  9.22 , 19.7  ],\n",
              "       [ 6.471, 17.12 , 20.2  ],\n",
              "       [ 5.852, 29.97 , 20.2  ],\n",
              "       [ 6.129, 15.12 , 14.7  ],\n",
              "       [ 6.242, 10.74 , 20.2  ],\n",
              "       [ 5.983, 18.07 , 20.1  ],\n",
              "       [ 6.29 ,  4.67 , 16.1  ],\n",
              "       [ 7.42 ,  6.47 , 18.4  ],\n",
              "       [ 5.682, 10.21 , 17.9  ],\n",
              "       [ 4.973, 12.64 , 18.4  ],\n",
              "       [ 7.249,  4.81 , 17.9  ],\n",
              "       [ 6.563,  5.68 , 17.8  ],\n",
              "       [ 6.316,  5.68 , 20.2  ],\n",
              "       [ 6.824, 22.74 , 20.2  ],\n",
              "       [ 7.393, 16.74 , 20.2  ],\n",
              "       [ 5.879, 17.58 , 19.1  ],\n",
              "       [ 8.247,  3.95 , 17.4  ],\n",
              "       [ 7.107,  8.61 , 12.6  ],\n",
              "       [ 6.202, 14.52 , 20.2  ],\n",
              "       [ 6.405, 19.37 , 20.2  ],\n",
              "       [ 6.411, 15.02 , 20.2  ],\n",
              "       [ 6.25 ,  5.5  , 14.7  ],\n",
              "       [ 6.167, 16.29 , 20.2  ],\n",
              "       [ 5.602, 16.2  , 17.9  ],\n",
              "       [ 5.782, 15.94 , 18.4  ],\n",
              "       [ 6.511,  5.28 , 16.8  ],\n",
              "       [ 6.273,  6.78 , 18.7  ],\n",
              "       [ 5.813, 14.81 , 21.   ],\n",
              "       [ 6.333,  7.34 , 16.9  ],\n",
              "       [ 7.147,  5.33 , 18.7  ],\n",
              "       [ 3.863, 13.33 , 20.2  ],\n",
              "       [ 6.43 ,  5.21 , 18.7  ],\n",
              "       [ 5.905, 11.45 , 20.2  ],\n",
              "       [ 6.335, 16.96 , 21.2  ],\n",
              "       [ 5.876,  9.25 , 16.4  ],\n",
              "       [ 5.961, 17.93 , 19.1  ],\n",
              "       [ 6.142, 18.72 , 21.   ],\n",
              "       [ 5.594, 13.09 , 18.9  ],\n",
              "       [ 5.57 , 21.02 , 21.   ],\n",
              "       [ 5.859,  9.64 , 16.6  ],\n",
              "       [ 6.096, 10.26 , 21.   ],\n",
              "       [ 5.935, 34.02 , 20.2  ],\n",
              "       [ 6.341, 17.79 , 20.2  ],\n",
              "       [ 7.104,  8.05 , 18.6  ]])"
            ]
          },
          "metadata": {},
          "execution_count": 55
        }
      ]
    },
    {
      "cell_type": "code",
      "source": [
        "y_teste_inverse = y_scaler.inverse_transform(y_teste_scaler)"
      ],
      "metadata": {
        "id": "gzk4dY8b2RaH"
      },
      "execution_count": 56,
      "outputs": []
    },
    {
      "cell_type": "code",
      "source": [
        "y_teste_inverse"
      ],
      "metadata": {
        "id": "AKQyAROpoCXa",
        "colab": {
          "base_uri": "https://localhost:8080/"
        },
        "outputId": "13c83139-015e-445d-bc95-fab4aeebb9e2"
      },
      "execution_count": 57,
      "outputs": [
        {
          "output_type": "execute_result",
          "data": {
            "text/plain": [
              "array([[ 417900.],\n",
              "       [ 632100.],\n",
              "       [ 281400.],\n",
              "       [ 577500.],\n",
              "       [ 474600.],\n",
              "       [ 359100.],\n",
              "       [ 247800.],\n",
              "       [ 474600.],\n",
              "       [ 449400.],\n",
              "       [ 411600.],\n",
              "       [ 214200.],\n",
              "       [ 214200.],\n",
              "       [ 428400.],\n",
              "       [ 375900.],\n",
              "       [ 577500.],\n",
              "       [ 327600.],\n",
              "       [ 420000.],\n",
              "       [ 489300.],\n",
              "       [ 470400.],\n",
              "       [ 640500.],\n",
              "       [ 651000.],\n",
              "       [ 690900.],\n",
              "       [ 147000.],\n",
              "       [ 441000.],\n",
              "       [ 367500.],\n",
              "       [ 966000.],\n",
              "       [ 756000.],\n",
              "       [ 888300.],\n",
              "       [ 455700.],\n",
              "       [ 445200.],\n",
              "       [ 323400.],\n",
              "       [ 455700.],\n",
              "       [ 430500.],\n",
              "       [ 867300.],\n",
              "       [ 445200.],\n",
              "       [ 875700.],\n",
              "       [ 415800.],\n",
              "       [ 268800.],\n",
              "       [ 590100.],\n",
              "       [ 497700.],\n",
              "       [ 231000.],\n",
              "       [ 315000.],\n",
              "       [ 388500.],\n",
              "       [ 449400.],\n",
              "       [ 413700.],\n",
              "       [ 352800.],\n",
              "       [ 453600.],\n",
              "       [ 306600.],\n",
              "       [ 898800.],\n",
              "       [ 514500.],\n",
              "       [ 743400.],\n",
              "       [ 474600.],\n",
              "       [ 600600.],\n",
              "       [ 304500.],\n",
              "       [ 661500.],\n",
              "       [ 489300.],\n",
              "       [ 422100.],\n",
              "       [ 184800.],\n",
              "       [ 525000.],\n",
              "       [ 249900.],\n",
              "       [ 407400.],\n",
              "       [ 361200.],\n",
              "       [ 428400.],\n",
              "       [ 392700.],\n",
              "       [ 428400.],\n",
              "       [ 472500.],\n",
              "       [ 258300.],\n",
              "       [ 550200.],\n",
              "       [ 346500.],\n",
              "       [ 199500.],\n",
              "       [ 302400.],\n",
              "       [ 611100.],\n",
              "       [ 396900.],\n",
              "       [ 585900.],\n",
              "       [ 279300.],\n",
              "       [ 483000.],\n",
              "       [ 462000.],\n",
              "       [ 218400.],\n",
              "       [ 518700.],\n",
              "       [ 420000.],\n",
              "       [ 392700.],\n",
              "       [ 980700.],\n",
              "       [ 455700.],\n",
              "       [ 514500.],\n",
              "       [ 480900.],\n",
              "       [ 520800.],\n",
              "       [ 485100.],\n",
              "       [ 525000.],\n",
              "       [ 390600.],\n",
              "       [ 569100.],\n",
              "       [ 359100.],\n",
              "       [ 346500.],\n",
              "       [ 283500.],\n",
              "       [ 344400.],\n",
              "       [ 459900.],\n",
              "       [ 464100.],\n",
              "       [ 432600.],\n",
              "       [ 617400.],\n",
              "       [ 449400.],\n",
              "       [ 289800.],\n",
              "       [ 174300.],\n",
              "       [ 275100.],\n",
              "       [ 661500.],\n",
              "       [ 411600.],\n",
              "       [ 275100.],\n",
              "       [ 132300.],\n",
              "       [ 357000.],\n",
              "       [ 483000.],\n",
              "       [ 285600.],\n",
              "       [ 493500.],\n",
              "       [ 701400.],\n",
              "       [ 405300.],\n",
              "       [ 338100.],\n",
              "       [ 743400.],\n",
              "       [ 682500.],\n",
              "       [ 466200.],\n",
              "       [ 176400.],\n",
              "       [ 373800.],\n",
              "       [ 394800.],\n",
              "       [1014300.],\n",
              "       [ 636300.],\n",
              "       [ 228900.],\n",
              "       [ 262500.],\n",
              "       [ 350700.],\n",
              "       [ 567000.],\n",
              "       [ 417900.],\n",
              "       [ 407400.],\n",
              "       [ 415800.],\n",
              "       [ 525000.],\n",
              "       [ 506100.],\n",
              "       [ 348600.],\n",
              "       [ 474600.],\n",
              "       [ 760200.],\n",
              "       [ 485100.],\n",
              "       [ 602700.],\n",
              "       [ 432600.],\n",
              "       [ 380100.],\n",
              "       [ 438900.],\n",
              "       [ 430500.],\n",
              "       [ 319200.],\n",
              "       [ 365400.],\n",
              "       [ 285600.],\n",
              "       [ 474600.],\n",
              "       [ 382200.],\n",
              "       [ 176400.],\n",
              "       [ 312900.],\n",
              "       [ 693000.]])"
            ]
          },
          "metadata": {},
          "execution_count": 57
        }
      ]
    },
    {
      "cell_type": "code",
      "source": [
        "y_teste"
      ],
      "metadata": {
        "id": "loN9hECp4XX1",
        "colab": {
          "base_uri": "https://localhost:8080/"
        },
        "outputId": "f6c27a1a-26d2-4eef-e074-6c4cc22d64d9"
      },
      "execution_count": 58,
      "outputs": [
        {
          "output_type": "execute_result",
          "data": {
            "text/plain": [
              "array([ 417900.,  632100.,  281400.,  577500.,  474600.,  359100.,\n",
              "        247800.,  474600.,  449400.,  411600.,  214200.,  214200.,\n",
              "        428400.,  375900.,  577500.,  327600.,  420000.,  489300.,\n",
              "        470400.,  640500.,  651000.,  690900.,  147000.,  441000.,\n",
              "        367500.,  966000.,  756000.,  888300.,  455700.,  445200.,\n",
              "        323400.,  455700.,  430500.,  867300.,  445200.,  875700.,\n",
              "        415800.,  268800.,  590100.,  497700.,  231000.,  315000.,\n",
              "        388500.,  449400.,  413700.,  352800.,  453600.,  306600.,\n",
              "        898800.,  514500.,  743400.,  474600.,  600600.,  304500.,\n",
              "        661500.,  489300.,  422100.,  184800.,  525000.,  249900.,\n",
              "        407400.,  361200.,  428400.,  392700.,  428400.,  472500.,\n",
              "        258300.,  550200.,  346500.,  199500.,  302400.,  611100.,\n",
              "        396900.,  585900.,  279300.,  483000.,  462000.,  218400.,\n",
              "        518700.,  420000.,  392700.,  980700.,  455700.,  514500.,\n",
              "        480900.,  520800.,  485100.,  525000.,  390600.,  569100.,\n",
              "        359100.,  346500.,  283500.,  344400.,  459900.,  464100.,\n",
              "        432600.,  617400.,  449400.,  289800.,  174300.,  275100.,\n",
              "        661500.,  411600.,  275100.,  132300.,  357000.,  483000.,\n",
              "        285600.,  493500.,  701400.,  405300.,  338100.,  743400.,\n",
              "        682500.,  466200.,  176400.,  373800.,  394800., 1014300.,\n",
              "        636300.,  228900.,  262500.,  350700.,  567000.,  417900.,\n",
              "        407400.,  415800.,  525000.,  506100.,  348600.,  474600.,\n",
              "        760200.,  485100.,  602700.,  432600.,  380100.,  438900.,\n",
              "        430500.,  319200.,  365400.,  285600.,  474600.,  382200.,\n",
              "        176400.,  312900.,  693000.])"
            ]
          },
          "metadata": {},
          "execution_count": 58
        }
      ]
    }
  ]
}