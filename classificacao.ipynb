{
  "nbformat": 4,
  "nbformat_minor": 0,
  "metadata": {
    "colab": {
      "provenance": [],
      "collapsed_sections": [
        "_NBxZCLzC8Bl",
        "Xw6d4rM0C9ZD",
        "HU3ZNfuI0BaL",
        "lPObOxwx0Qy5",
        "PIqEAMoH52Og",
        "YWlyb9T-Fk1I",
        "kW700Sj9Fk1O",
        "S3Kl3wySKBEw",
        "6OurC4GyUoak",
        "2UhdSgBmUtJ6",
        "u3jQ6H1S-HtG",
        "w-W634n0I_Db"
      ]
    },
    "kernelspec": {
      "name": "python3",
      "display_name": "Python 3"
    },
    "language_info": {
      "name": "python"
    },
    "widgets": {
      "application/vnd.jupyter.widget-state+json": {
        "cb11d15cf95643deab21f98ad6c67b65": {
          "model_module": "catboost-widget",
          "model_name": "CatboostWidgetModel",
          "model_module_version": "^1.0.0",
          "state": {
            "_dom_classes": [],
            "_model_module": "catboost-widget",
            "_model_module_version": "^1.0.0",
            "_model_name": "CatboostWidgetModel",
            "_view_count": null,
            "_view_module": "catboost-widget",
            "_view_module_version": "^1.0.0",
            "_view_name": "CatboostWidgetView",
            "data": {
              "catboost_info": {
                "path": "catboost_info",
                "name": "catboost_info",
                "content": {
                  "passed_iterations": 99,
                  "total_iterations": 100,
                  "data": {
                    "iterations": [
                      {
                        "learn": [
                          0.8861154446,
                          0.6626826072
                        ],
                        "iteration": 0,
                        "passed_time": 0.06759496477,
                        "remaining_time": 6.691901512,
                        "test": [
                          0.7789855072,
                          0.6675048102
                        ]
                      },
                      {
                        "learn": [
                          0.8689547582,
                          0.6275769096
                        ],
                        "iteration": 1,
                        "passed_time": 0.08735858533,
                        "remaining_time": 4.280570681,
                        "test": [
                          0.7934782609,
                          0.6349051355
                        ]
                      },
                      {
                        "learn": [
                          0.8471138846,
                          0.5982421891
                        ],
                        "iteration": 2,
                        "passed_time": 0.09119559371,
                        "remaining_time": 2.94865753,
                        "test": [
                          0.7971014493,
                          0.6093358462
                        ]
                      },
                      {
                        "learn": [
                          0.8549141966,
                          0.5748694569
                        ],
                        "iteration": 3,
                        "passed_time": 0.1019303424,
                        "remaining_time": 2.446328217,
                        "test": [
                          0.8043478261,
                          0.5897324919
                        ]
                      },
                      {
                        "learn": [
                          0.8517940718,
                          0.5520917676
                        ],
                        "iteration": 4,
                        "passed_time": 0.1124857134,
                        "remaining_time": 2.137228554,
                        "test": [
                          0.8043478261,
                          0.5691018549
                        ]
                      },
                      {
                        "learn": [
                          0.848673947,
                          0.5326351804
                        ],
                        "iteration": 5,
                        "passed_time": 0.1227815062,
                        "remaining_time": 1.92357693,
                        "test": [
                          0.8043478261,
                          0.5529096713
                        ]
                      },
                      {
                        "learn": [
                          0.8580343214,
                          0.5160505132
                        ],
                        "iteration": 6,
                        "passed_time": 0.1331381567,
                        "remaining_time": 1.76883551,
                        "test": [
                          0.8115942029,
                          0.5378075361
                        ]
                      },
                      {
                        "learn": [
                          0.864274571,
                          0.5007304758
                        ],
                        "iteration": 7,
                        "passed_time": 0.1469079671,
                        "remaining_time": 1.689441621,
                        "test": [
                          0.8043478261,
                          0.5251715252
                        ]
                      },
                      {
                        "learn": [
                          0.8533541342,
                          0.4860348072
                        ],
                        "iteration": 8,
                        "passed_time": 0.156889923,
                        "remaining_time": 1.586331444,
                        "test": [
                          0.8043478261,
                          0.5134922093
                        ]
                      },
                      {
                        "learn": [
                          0.8611544462,
                          0.47137833
                        ],
                        "iteration": 9,
                        "passed_time": 0.1644703809,
                        "remaining_time": 1.480233429,
                        "test": [
                          0.8115942029,
                          0.5018339467
                        ]
                      },
                      {
                        "learn": [
                          0.864274571,
                          0.4597555989
                        ],
                        "iteration": 10,
                        "passed_time": 0.1745470976,
                        "remaining_time": 1.412244699,
                        "test": [
                          0.8079710145,
                          0.4919852604
                        ]
                      },
                      {
                        "learn": [
                          0.8658346334,
                          0.4482594614
                        ],
                        "iteration": 11,
                        "passed_time": 0.1846657746,
                        "remaining_time": 1.35421568,
                        "test": [
                          0.8043478261,
                          0.4835940967
                        ]
                      },
                      {
                        "learn": [
                          0.8689547582,
                          0.4388331706
                        ],
                        "iteration": 12,
                        "passed_time": 0.1949617983,
                        "remaining_time": 1.304744342,
                        "test": [
                          0.8043478261,
                          0.4764189132
                        ]
                      },
                      {
                        "learn": [
                          0.8611544462,
                          0.4308307991
                        ],
                        "iteration": 13,
                        "passed_time": 0.1964777101,
                        "remaining_time": 1.206934505,
                        "test": [
                          0.8007246377,
                          0.4703767828
                        ]
                      },
                      {
                        "learn": [
                          0.8611544462,
                          0.4223421156
                        ],
                        "iteration": 14,
                        "passed_time": 0.2025705555,
                        "remaining_time": 1.147899814,
                        "test": [
                          0.8007246377,
                          0.4641384607
                        ]
                      },
                      {
                        "learn": [
                          0.8658346334,
                          0.4137269863
                        ],
                        "iteration": 15,
                        "passed_time": 0.2136404711,
                        "remaining_time": 1.121612473,
                        "test": [
                          0.7971014493,
                          0.4574870021
                        ]
                      },
                      {
                        "learn": [
                          0.8673946958,
                          0.4069773542
                        ],
                        "iteration": 16,
                        "passed_time": 0.2220494849,
                        "remaining_time": 1.084123956,
                        "test": [
                          0.7971014493,
                          0.4529477525
                        ]
                      },
                      {
                        "learn": [
                          0.8689547582,
                          0.3987977771
                        ],
                        "iteration": 17,
                        "passed_time": 0.2328512313,
                        "remaining_time": 1.060766721,
                        "test": [
                          0.8007246377,
                          0.4453656732
                        ]
                      },
                      {
                        "learn": [
                          0.872074883,
                          0.3913511925
                        ],
                        "iteration": 18,
                        "passed_time": 0.2448877375,
                        "remaining_time": 1.043995091,
                        "test": [
                          0.8007246377,
                          0.4391245485
                        ]
                      },
                      {
                        "learn": [
                          0.8767550702,
                          0.3843707693
                        ],
                        "iteration": 19,
                        "passed_time": 0.2647388778,
                        "remaining_time": 1.058955511,
                        "test": [
                          0.8007246377,
                          0.4347392958
                        ]
                      },
                      {
                        "learn": [
                          0.8767550702,
                          0.3779007129
                        ],
                        "iteration": 20,
                        "passed_time": 0.2866095389,
                        "remaining_time": 1.078197789,
                        "test": [
                          0.8079710145,
                          0.4305103987
                        ]
                      },
                      {
                        "learn": [
                          0.879875195,
                          0.3709417258
                        ],
                        "iteration": 21,
                        "passed_time": 0.2944638851,
                        "remaining_time": 1.04400832,
                        "test": [
                          0.8079710145,
                          0.4243822961
                        ]
                      },
                      {
                        "learn": [
                          0.8814352574,
                          0.3639934051
                        ],
                        "iteration": 22,
                        "passed_time": 0.330130985,
                        "remaining_time": 1.105221124,
                        "test": [
                          0.8079710145,
                          0.4177587811
                        ]
                      },
                      {
                        "learn": [
                          0.8814352574,
                          0.3583287866
                        ],
                        "iteration": 23,
                        "passed_time": 0.3486940197,
                        "remaining_time": 1.104197729,
                        "test": [
                          0.8079710145,
                          0.4137979066
                        ]
                      },
                      {
                        "learn": [
                          0.8814352574,
                          0.3520073217
                        ],
                        "iteration": 24,
                        "passed_time": 0.3686767063,
                        "remaining_time": 1.106030119,
                        "test": [
                          0.8079710145,
                          0.4068056454
                        ]
                      },
                      {
                        "learn": [
                          0.8829953198,
                          0.3461088183
                        ],
                        "iteration": 25,
                        "passed_time": 0.3870984127,
                        "remaining_time": 1.101741636,
                        "test": [
                          0.8115942029,
                          0.402050749
                        ]
                      },
                      {
                        "learn": [
                          0.8845553822,
                          0.3410872652
                        ],
                        "iteration": 26,
                        "passed_time": 0.4007496186,
                        "remaining_time": 1.083508228,
                        "test": [
                          0.8152173913,
                          0.3980344479
                        ]
                      },
                      {
                        "learn": [
                          0.8829953198,
                          0.3362208985
                        ],
                        "iteration": 27,
                        "passed_time": 0.4085404335,
                        "remaining_time": 1.050532543,
                        "test": [
                          0.8152173913,
                          0.3936701533
                        ]
                      },
                      {
                        "learn": [
                          0.8861154446,
                          0.3324571127
                        ],
                        "iteration": 28,
                        "passed_time": 0.4260539334,
                        "remaining_time": 1.043097561,
                        "test": [
                          0.8115942029,
                          0.3920888706
                        ]
                      },
                      {
                        "learn": [
                          0.8939157566,
                          0.3279842954
                        ],
                        "iteration": 29,
                        "passed_time": 0.4343194635,
                        "remaining_time": 1.013412081,
                        "test": [
                          0.8115942029,
                          0.3898455071
                        ]
                      },
                      {
                        "learn": [
                          0.895475819,
                          0.3240224419
                        ],
                        "iteration": 30,
                        "passed_time": 0.4544171837,
                        "remaining_time": 1.011444699,
                        "test": [
                          0.8115942029,
                          0.3862380151
                        ]
                      },
                      {
                        "learn": [
                          0.895475819,
                          0.3202221632
                        ],
                        "iteration": 31,
                        "passed_time": 0.4656139257,
                        "remaining_time": 0.9894295921,
                        "test": [
                          0.8152173913,
                          0.3821803703
                        ]
                      },
                      {
                        "learn": [
                          0.8970358814,
                          0.3148840518
                        ],
                        "iteration": 32,
                        "passed_time": 0.4784218155,
                        "remaining_time": 0.9713412619,
                        "test": [
                          0.8115942029,
                          0.3774935687
                        ]
                      },
                      {
                        "learn": [
                          0.9001560062,
                          0.3108740643
                        ],
                        "iteration": 33,
                        "passed_time": 0.4914561279,
                        "remaining_time": 0.9540030719,
                        "test": [
                          0.8152173913,
                          0.3761316017
                        ]
                      },
                      {
                        "learn": [
                          0.9048361934,
                          0.3069658534
                        ],
                        "iteration": 34,
                        "passed_time": 0.4951326524,
                        "remaining_time": 0.9195320688,
                        "test": [
                          0.8188405797,
                          0.3741827307
                        ]
                      },
                      {
                        "learn": [
                          0.9095163807,
                          0.3037930252
                        ],
                        "iteration": 35,
                        "passed_time": 0.5041534406,
                        "remaining_time": 0.8962727834,
                        "test": [
                          0.8297101449,
                          0.3706273161
                        ]
                      },
                      {
                        "learn": [
                          0.9110764431,
                          0.30025225
                        ],
                        "iteration": 36,
                        "passed_time": 0.5105291999,
                        "remaining_time": 0.8692794485,
                        "test": [
                          0.8224637681,
                          0.3696544242
                        ]
                      },
                      {
                        "learn": [
                          0.9157566303,
                          0.2968983012
                        ],
                        "iteration": 37,
                        "passed_time": 0.5213815576,
                        "remaining_time": 0.8506751729,
                        "test": [
                          0.8260869565,
                          0.3685536583
                        ]
                      },
                      {
                        "learn": [
                          0.9157566303,
                          0.2945919334
                        ],
                        "iteration": 38,
                        "passed_time": 0.52248396,
                        "remaining_time": 0.8172185016,
                        "test": [
                          0.8333333333,
                          0.3653830634
                        ]
                      },
                      {
                        "learn": [
                          0.9173166927,
                          0.2913767476
                        ],
                        "iteration": 39,
                        "passed_time": 0.5406585256,
                        "remaining_time": 0.8109877884,
                        "test": [
                          0.8333333333,
                          0.3641227319
                        ]
                      },
                      {
                        "learn": [
                          0.9141965679,
                          0.289456751
                        ],
                        "iteration": 40,
                        "passed_time": 0.5464323924,
                        "remaining_time": 0.7863295403,
                        "test": [
                          0.8369565217,
                          0.3622697342
                        ]
                      },
                      {
                        "learn": [
                          0.9141965679,
                          0.2869442964
                        ],
                        "iteration": 41,
                        "passed_time": 0.5551251891,
                        "remaining_time": 0.7666014517,
                        "test": [
                          0.8405797101,
                          0.3609339224
                        ]
                      },
                      {
                        "learn": [
                          0.9173166927,
                          0.2837698917
                        ],
                        "iteration": 42,
                        "passed_time": 0.5603838386,
                        "remaining_time": 0.7428343907,
                        "test": [
                          0.8442028986,
                          0.3595109943
                        ]
                      },
                      {
                        "learn": [
                          0.9173166927,
                          0.2813903101
                        ],
                        "iteration": 43,
                        "passed_time": 0.564400711,
                        "remaining_time": 0.7183281776,
                        "test": [
                          0.8514492754,
                          0.3579255733
                        ]
                      },
                      {
                        "learn": [
                          0.9173166927,
                          0.2788097285
                        ],
                        "iteration": 44,
                        "passed_time": 0.5691596505,
                        "remaining_time": 0.6956395729,
                        "test": [
                          0.847826087,
                          0.3557611056
                        ]
                      },
                      {
                        "learn": [
                          0.9188767551,
                          0.2769328753
                        ],
                        "iteration": 45,
                        "passed_time": 0.5761155003,
                        "remaining_time": 0.6763095004,
                        "test": [
                          0.847826087,
                          0.3546031439
                        ]
                      },
                      {
                        "learn": [
                          0.9204368175,
                          0.2751872661
                        ],
                        "iteration": 46,
                        "passed_time": 0.5881392764,
                        "remaining_time": 0.6632208861,
                        "test": [
                          0.8514492754,
                          0.3539126123
                        ]
                      },
                      {
                        "learn": [
                          0.9204368175,
                          0.272481878
                        ],
                        "iteration": 47,
                        "passed_time": 0.593121772,
                        "remaining_time": 0.6425485864,
                        "test": [
                          0.8550724638,
                          0.3529759988
                        ]
                      },
                      {
                        "learn": [
                          0.9219968799,
                          0.2705831712
                        ],
                        "iteration": 48,
                        "passed_time": 0.5974429975,
                        "remaining_time": 0.621828426,
                        "test": [
                          0.8623188406,
                          0.3524249728
                        ]
                      },
                      {
                        "learn": [
                          0.9188767551,
                          0.2700574144
                        ],
                        "iteration": 49,
                        "passed_time": 0.5993837187,
                        "remaining_time": 0.5993837187,
                        "test": [
                          0.8623188406,
                          0.3521626989
                        ]
                      },
                      {
                        "learn": [
                          0.9204368175,
                          0.2681586854
                        ],
                        "iteration": 50,
                        "passed_time": 0.6036764694,
                        "remaining_time": 0.5800028824,
                        "test": [
                          0.865942029,
                          0.3511197818
                        ]
                      },
                      {
                        "learn": [
                          0.9235569423,
                          0.2666719073
                        ],
                        "iteration": 51,
                        "passed_time": 0.605501857,
                        "remaining_time": 0.5589247911,
                        "test": [
                          0.865942029,
                          0.349340156
                        ]
                      },
                      {
                        "learn": [
                          0.9235569423,
                          0.2666036054
                        ],
                        "iteration": 52,
                        "passed_time": 0.6062294095,
                        "remaining_time": 0.537599665,
                        "test": [
                          0.865942029,
                          0.3493595959
                        ]
                      },
                      {
                        "learn": [
                          0.9251170047,
                          0.2645592762
                        ],
                        "iteration": 53,
                        "passed_time": 0.6104327096,
                        "remaining_time": 0.5199982341,
                        "test": [
                          0.865942029,
                          0.3490459842
                        ]
                      },
                      {
                        "learn": [
                          0.9235569423,
                          0.2627439721
                        ],
                        "iteration": 54,
                        "passed_time": 0.61467477,
                        "remaining_time": 0.5029157209,
                        "test": [
                          0.8695652174,
                          0.3477167567
                        ]
                      },
                      {
                        "learn": [
                          0.9204368175,
                          0.2604398393
                        ],
                        "iteration": 55,
                        "passed_time": 0.6189750617,
                        "remaining_time": 0.4863375484,
                        "test": [
                          0.8695652174,
                          0.3454843825
                        ]
                      },
                      {
                        "learn": [
                          0.9219968799,
                          0.2582866023
                        ],
                        "iteration": 56,
                        "passed_time": 0.6231035003,
                        "remaining_time": 0.4700605353,
                        "test": [
                          0.8695652174,
                          0.3450239524
                        ]
                      },
                      {
                        "learn": [
                          0.9251170047,
                          0.2562807224
                        ],
                        "iteration": 57,
                        "passed_time": 0.6277980657,
                        "remaining_time": 0.4546123924,
                        "test": [
                          0.8695652174,
                          0.3444577176
                        ]
                      },
                      {
                        "learn": [
                          0.9266770671,
                          0.2542834902
                        ],
                        "iteration": 58,
                        "passed_time": 0.6397843179,
                        "remaining_time": 0.4445958819,
                        "test": [
                          0.8695652174,
                          0.343915083
                        ]
                      },
                      {
                        "learn": [
                          0.9282371295,
                          0.2523660925
                        ],
                        "iteration": 59,
                        "passed_time": 0.644699844,
                        "remaining_time": 0.429799896,
                        "test": [
                          0.8695652174,
                          0.3436779511
                        ]
                      },
                      {
                        "learn": [
                          0.9282371295,
                          0.2509960139
                        ],
                        "iteration": 60,
                        "passed_time": 0.6490562061,
                        "remaining_time": 0.4149703613,
                        "test": [
                          0.8695652174,
                          0.3436278122
                        ]
                      },
                      {
                        "learn": [
                          0.9282371295,
                          0.250405833
                        ],
                        "iteration": 61,
                        "passed_time": 0.653252647,
                        "remaining_time": 0.4003806546,
                        "test": [
                          0.8695652174,
                          0.3435450069
                        ]
                      },
                      {
                        "learn": [
                          0.9251170047,
                          0.2498773615
                        ],
                        "iteration": 62,
                        "passed_time": 0.6573246616,
                        "remaining_time": 0.3860478171,
                        "test": [
                          0.8695652174,
                          0.3427716822
                        ]
                      },
                      {
                        "learn": [
                          0.9251170047,
                          0.2486703651
                        ],
                        "iteration": 63,
                        "passed_time": 0.6614360474,
                        "remaining_time": 0.3720577767,
                        "test": [
                          0.8695652174,
                          0.3430008534
                        ]
                      },
                      {
                        "learn": [
                          0.9251170047,
                          0.2486372614
                        ],
                        "iteration": 64,
                        "passed_time": 0.6620906548,
                        "remaining_time": 0.3565103526,
                        "test": [
                          0.8695652174,
                          0.3430531021
                        ]
                      },
                      {
                        "learn": [
                          0.9251170047,
                          0.2484863439
                        ],
                        "iteration": 65,
                        "passed_time": 0.6663903247,
                        "remaining_time": 0.3432919855,
                        "test": [
                          0.8695652174,
                          0.34309368
                        ]
                      },
                      {
                        "learn": [
                          0.9251170047,
                          0.2471594192
                        ],
                        "iteration": 66,
                        "passed_time": 0.6707966344,
                        "remaining_time": 0.3303923722,
                        "test": [
                          0.8695652174,
                          0.3427357656
                        ]
                      },
                      {
                        "learn": [
                          0.9266770671,
                          0.2465195216
                        ],
                        "iteration": 67,
                        "passed_time": 0.6717268529,
                        "remaining_time": 0.3161067543,
                        "test": [
                          0.8695652174,
                          0.3414682848
                        ]
                      },
                      {
                        "learn": [
                          0.9266770671,
                          0.2464607174
                        ],
                        "iteration": 68,
                        "passed_time": 0.6725031094,
                        "remaining_time": 0.3021390781,
                        "test": [
                          0.8695652174,
                          0.3415529189
                        ]
                      },
                      {
                        "learn": [
                          0.9266770671,
                          0.2463911279
                        ],
                        "iteration": 69,
                        "passed_time": 0.6736264501,
                        "remaining_time": 0.2886970501,
                        "test": [
                          0.8695652174,
                          0.3416145452
                        ]
                      },
                      {
                        "learn": [
                          0.9266770671,
                          0.2462418598
                        ],
                        "iteration": 70,
                        "passed_time": 0.6777684061,
                        "remaining_time": 0.2768349828,
                        "test": [
                          0.8695652174,
                          0.3416493773
                        ]
                      },
                      {
                        "learn": [
                          0.9266770671,
                          0.2461348353
                        ],
                        "iteration": 71,
                        "passed_time": 0.6794567555,
                        "remaining_time": 0.2642331827,
                        "test": [
                          0.8695652174,
                          0.341582727
                        ]
                      },
                      {
                        "learn": [
                          0.9266770671,
                          0.246063961
                        ],
                        "iteration": 72,
                        "passed_time": 0.681467549,
                        "remaining_time": 0.2520496414,
                        "test": [
                          0.8695652174,
                          0.3415979886
                        ]
                      },
                      {
                        "learn": [
                          0.9251170047,
                          0.2446729501
                        ],
                        "iteration": 73,
                        "passed_time": 0.689197607,
                        "remaining_time": 0.2421505106,
                        "test": [
                          0.8695652174,
                          0.3411563289
                        ]
                      },
                      {
                        "learn": [
                          0.9251170047,
                          0.2446120814
                        ],
                        "iteration": 74,
                        "passed_time": 0.6917419471,
                        "remaining_time": 0.230580649,
                        "test": [
                          0.8695652174,
                          0.3412076031
                        ]
                      },
                      {
                        "learn": [
                          0.9266770671,
                          0.2444639576
                        ],
                        "iteration": 75,
                        "passed_time": 0.6962618103,
                        "remaining_time": 0.2198721506,
                        "test": [
                          0.8695652174,
                          0.3412676102
                        ]
                      },
                      {
                        "learn": [
                          0.9266770671,
                          0.2442533077
                        ],
                        "iteration": 76,
                        "passed_time": 0.7034737838,
                        "remaining_time": 0.2101285328,
                        "test": [
                          0.8695652174,
                          0.34140487
                        ]
                      },
                      {
                        "learn": [
                          0.9266770671,
                          0.243853084
                        ],
                        "iteration": 77,
                        "passed_time": 0.7119406626,
                        "remaining_time": 0.2008037766,
                        "test": [
                          0.8695652174,
                          0.3415578693
                        ]
                      },
                      {
                        "learn": [
                          0.9266770671,
                          0.2430663779
                        ],
                        "iteration": 78,
                        "passed_time": 0.7197295838,
                        "remaining_time": 0.1913205223,
                        "test": [
                          0.865942029,
                          0.3410432328
                        ]
                      },
                      {
                        "learn": [
                          0.9266770671,
                          0.2430122927
                        ],
                        "iteration": 79,
                        "passed_time": 0.722193636,
                        "remaining_time": 0.180548409,
                        "test": [
                          0.865942029,
                          0.3411383277
                        ]
                      },
                      {
                        "learn": [
                          0.9266770671,
                          0.2426571315
                        ],
                        "iteration": 80,
                        "passed_time": 0.7316135134,
                        "remaining_time": 0.1716130464,
                        "test": [
                          0.865942029,
                          0.3413636675
                        ]
                      },
                      {
                        "learn": [
                          0.9266770671,
                          0.2425607465
                        ],
                        "iteration": 81,
                        "passed_time": 0.7351481569,
                        "remaining_time": 0.1613739857,
                        "test": [
                          0.865942029,
                          0.3414556138
                        ]
                      },
                      {
                        "learn": [
                          0.9266770671,
                          0.2412987363
                        ],
                        "iteration": 82,
                        "passed_time": 0.7452104653,
                        "remaining_time": 0.1526334688,
                        "test": [
                          0.865942029,
                          0.3405980585
                        ]
                      },
                      {
                        "learn": [
                          0.9266770671,
                          0.2407483933
                        ],
                        "iteration": 83,
                        "passed_time": 0.7529111222,
                        "remaining_time": 0.1434116423,
                        "test": [
                          0.865942029,
                          0.3397418284
                        ]
                      },
                      {
                        "learn": [
                          0.9297971919,
                          0.2400541061
                        ],
                        "iteration": 84,
                        "passed_time": 0.767801287,
                        "remaining_time": 0.1354943448,
                        "test": [
                          0.865942029,
                          0.3386435517
                        ]
                      },
                      {
                        "learn": [
                          0.9297971919,
                          0.2399235032
                        ],
                        "iteration": 85,
                        "passed_time": 0.7758540992,
                        "remaining_time": 0.1263018301,
                        "test": [
                          0.865942029,
                          0.3387265422
                        ]
                      },
                      {
                        "learn": [
                          0.9282371295,
                          0.2391622568
                        ],
                        "iteration": 86,
                        "passed_time": 0.78409897,
                        "remaining_time": 0.1171642139,
                        "test": [
                          0.865942029,
                          0.3382546427
                        ]
                      },
                      {
                        "learn": [
                          0.9282371295,
                          0.2390988161
                        ],
                        "iteration": 87,
                        "passed_time": 0.792955517,
                        "remaining_time": 0.1081302978,
                        "test": [
                          0.865942029,
                          0.3382788494
                        ]
                      },
                      {
                        "learn": [
                          0.9282371295,
                          0.2379011404
                        ],
                        "iteration": 88,
                        "passed_time": 0.8080723125,
                        "remaining_time": 0.09987410604,
                        "test": [
                          0.865942029,
                          0.3377672164
                        ]
                      },
                      {
                        "learn": [
                          0.9282371295,
                          0.2378485222
                        ],
                        "iteration": 89,
                        "passed_time": 0.8110231073,
                        "remaining_time": 0.09011367859,
                        "test": [
                          0.865942029,
                          0.3377713275
                        ]
                      },
                      {
                        "learn": [
                          0.9282371295,
                          0.237400346
                        ],
                        "iteration": 90,
                        "passed_time": 0.8222502667,
                        "remaining_time": 0.08132145495,
                        "test": [
                          0.865942029,
                          0.3376571222
                        ]
                      },
                      {
                        "learn": [
                          0.9282371295,
                          0.2372635123
                        ],
                        "iteration": 91,
                        "passed_time": 0.828784479,
                        "remaining_time": 0.07206821556,
                        "test": [
                          0.865942029,
                          0.3377060683
                        ]
                      },
                      {
                        "learn": [
                          0.9282371295,
                          0.2371493264
                        ],
                        "iteration": 92,
                        "passed_time": 0.8361504762,
                        "remaining_time": 0.06293605735,
                        "test": [
                          0.865942029,
                          0.337797211
                        ]
                      },
                      {
                        "learn": [
                          0.9282371295,
                          0.2366078482
                        ],
                        "iteration": 93,
                        "passed_time": 0.8498670708,
                        "remaining_time": 0.05424683431,
                        "test": [
                          0.865942029,
                          0.3370061555
                        ]
                      },
                      {
                        "learn": [
                          0.9282371295,
                          0.2364829455
                        ],
                        "iteration": 94,
                        "passed_time": 0.8558308498,
                        "remaining_time": 0.04504372894,
                        "test": [
                          0.865942029,
                          0.3370555219
                        ]
                      },
                      {
                        "learn": [
                          0.9282371295,
                          0.2363571049
                        ],
                        "iteration": 95,
                        "passed_time": 0.8699838148,
                        "remaining_time": 0.03624932562,
                        "test": [
                          0.865942029,
                          0.3369962948
                        ]
                      },
                      {
                        "learn": [
                          0.9282371295,
                          0.2361979614
                        ],
                        "iteration": 96,
                        "passed_time": 0.873663232,
                        "remaining_time": 0.02702051233,
                        "test": [
                          0.865942029,
                          0.3371264494
                        ]
                      },
                      {
                        "learn": [
                          0.9282371295,
                          0.2361089913
                        ],
                        "iteration": 97,
                        "passed_time": 0.8771751872,
                        "remaining_time": 0.01790153443,
                        "test": [
                          0.865942029,
                          0.3372409168
                        ]
                      },
                      {
                        "learn": [
                          0.9282371295,
                          0.2359693352
                        ],
                        "iteration": 98,
                        "passed_time": 0.8808572244,
                        "remaining_time": 0.008897547722,
                        "test": [
                          0.865942029,
                          0.3374328376
                        ]
                      },
                      {
                        "learn": [
                          0.9297971919,
                          0.2357508896
                        ],
                        "iteration": 99,
                        "passed_time": 0.8845110233,
                        "remaining_time": 0,
                        "test": [
                          0.865942029,
                          0.3374773929
                        ]
                      }
                    ],
                    "meta": {
                      "test_sets": [
                        "test"
                      ],
                      "test_metrics": [
                        {
                          "best_value": "Max",
                          "name": "Accuracy"
                        },
                        {
                          "best_value": "Min",
                          "name": "Logloss"
                        }
                      ],
                      "learn_metrics": [
                        {
                          "best_value": "Max",
                          "name": "Accuracy"
                        },
                        {
                          "best_value": "Min",
                          "name": "Logloss"
                        }
                      ],
                      "launch_mode": "Train",
                      "parameters": "",
                      "iteration_count": 100,
                      "learn_sets": [
                        "learn"
                      ],
                      "name": "experiment"
                    }
                  }
                }
              }
            },
            "layout": "IPY_MODEL_512d558120f84c0ca1c3e7404fc13a94"
          }
        }
      }
    }
  },
  "cells": [
    {
      "cell_type": "markdown",
      "metadata": {
        "id": "fQJ5CYV9Te0X"
      },
      "source": [
        "# **APRENDIZAGEM SUPERVISIONADA: CLASSIFICAÇÃO**"
      ]
    },
    {
      "cell_type": "markdown",
      "metadata": {
        "id": "kXFCCsVHTtTP"
      },
      "source": [
        "Este projeto tem por objetivo desenvolver um algoritmo de Machine Learning para prever a tendência de uma pessoa desenvolver algum tipo de doença cardíaca com base em alguns fatores clínicos e laboratoriais. "
      ]
    },
    {
      "cell_type": "markdown",
      "metadata": {
        "id": "5ZQ2nYhQUc3G"
      },
      "source": [
        "Os dados foram extraídos do site do Kaggle:\n",
        "\n",
        "https://www.kaggle.com/fedesoriano/heart-failure-prediction/version/1"
      ]
    },
    {
      "cell_type": "markdown",
      "source": [
        "# **PRÉ-PROCESSAMENTO**"
      ],
      "metadata": {
        "id": "gczjMn0YIb6s"
      }
    },
    {
      "cell_type": "code",
      "metadata": {
        "id": "nWvIcticlCs2"
      },
      "source": [
        "import numpy as np\n",
        "import pandas as pd"
      ],
      "execution_count": 1,
      "outputs": []
    },
    {
      "cell_type": "code",
      "metadata": {
        "id": "LRIrwcC8kUhT"
      },
      "source": [
        "df = pd.read_csv('heart_tratado.csv', sep=';', encoding='utf-8')"
      ],
      "execution_count": 2,
      "outputs": []
    },
    {
      "cell_type": "code",
      "source": [
        "df.head()"
      ],
      "metadata": {
        "id": "QtugliripIyp",
        "outputId": "ef5d3d46-5595-4ff5-fd2a-9c8504d68991",
        "colab": {
          "base_uri": "https://localhost:8080/",
          "height": 206
        }
      },
      "execution_count": 3,
      "outputs": [
        {
          "output_type": "execute_result",
          "data": {
            "text/plain": [
              "   Age Sex ChestPainType  RestingBP  Cholesterol  FastingBS RestingECG  MaxHR  \\\n",
              "0   40   M           ATA        140        289.0          0     Normal    172   \n",
              "1   49   F           NAP        160        180.0          0     Normal    156   \n",
              "2   37   M           ATA        130        283.0          0         ST     98   \n",
              "3   48   F           ASY        138        214.0          0     Normal    108   \n",
              "4   54   M           NAP        150        195.0          0     Normal    122   \n",
              "\n",
              "  ExerciseAngina  Oldpeak ST_Slope  HeartDisease  \n",
              "0              N      0.0       Up             0  \n",
              "1              N      1.0     Flat             1  \n",
              "2              N      0.0       Up             0  \n",
              "3              Y      1.5     Flat             1  \n",
              "4              N      0.0       Up             0  "
            ],
            "text/html": [
              "\n",
              "  <div id=\"df-187f2064-a652-4a2b-8606-14b68b5bf0e9\">\n",
              "    <div class=\"colab-df-container\">\n",
              "      <div>\n",
              "<style scoped>\n",
              "    .dataframe tbody tr th:only-of-type {\n",
              "        vertical-align: middle;\n",
              "    }\n",
              "\n",
              "    .dataframe tbody tr th {\n",
              "        vertical-align: top;\n",
              "    }\n",
              "\n",
              "    .dataframe thead th {\n",
              "        text-align: right;\n",
              "    }\n",
              "</style>\n",
              "<table border=\"1\" class=\"dataframe\">\n",
              "  <thead>\n",
              "    <tr style=\"text-align: right;\">\n",
              "      <th></th>\n",
              "      <th>Age</th>\n",
              "      <th>Sex</th>\n",
              "      <th>ChestPainType</th>\n",
              "      <th>RestingBP</th>\n",
              "      <th>Cholesterol</th>\n",
              "      <th>FastingBS</th>\n",
              "      <th>RestingECG</th>\n",
              "      <th>MaxHR</th>\n",
              "      <th>ExerciseAngina</th>\n",
              "      <th>Oldpeak</th>\n",
              "      <th>ST_Slope</th>\n",
              "      <th>HeartDisease</th>\n",
              "    </tr>\n",
              "  </thead>\n",
              "  <tbody>\n",
              "    <tr>\n",
              "      <th>0</th>\n",
              "      <td>40</td>\n",
              "      <td>M</td>\n",
              "      <td>ATA</td>\n",
              "      <td>140</td>\n",
              "      <td>289.0</td>\n",
              "      <td>0</td>\n",
              "      <td>Normal</td>\n",
              "      <td>172</td>\n",
              "      <td>N</td>\n",
              "      <td>0.0</td>\n",
              "      <td>Up</td>\n",
              "      <td>0</td>\n",
              "    </tr>\n",
              "    <tr>\n",
              "      <th>1</th>\n",
              "      <td>49</td>\n",
              "      <td>F</td>\n",
              "      <td>NAP</td>\n",
              "      <td>160</td>\n",
              "      <td>180.0</td>\n",
              "      <td>0</td>\n",
              "      <td>Normal</td>\n",
              "      <td>156</td>\n",
              "      <td>N</td>\n",
              "      <td>1.0</td>\n",
              "      <td>Flat</td>\n",
              "      <td>1</td>\n",
              "    </tr>\n",
              "    <tr>\n",
              "      <th>2</th>\n",
              "      <td>37</td>\n",
              "      <td>M</td>\n",
              "      <td>ATA</td>\n",
              "      <td>130</td>\n",
              "      <td>283.0</td>\n",
              "      <td>0</td>\n",
              "      <td>ST</td>\n",
              "      <td>98</td>\n",
              "      <td>N</td>\n",
              "      <td>0.0</td>\n",
              "      <td>Up</td>\n",
              "      <td>0</td>\n",
              "    </tr>\n",
              "    <tr>\n",
              "      <th>3</th>\n",
              "      <td>48</td>\n",
              "      <td>F</td>\n",
              "      <td>ASY</td>\n",
              "      <td>138</td>\n",
              "      <td>214.0</td>\n",
              "      <td>0</td>\n",
              "      <td>Normal</td>\n",
              "      <td>108</td>\n",
              "      <td>Y</td>\n",
              "      <td>1.5</td>\n",
              "      <td>Flat</td>\n",
              "      <td>1</td>\n",
              "    </tr>\n",
              "    <tr>\n",
              "      <th>4</th>\n",
              "      <td>54</td>\n",
              "      <td>M</td>\n",
              "      <td>NAP</td>\n",
              "      <td>150</td>\n",
              "      <td>195.0</td>\n",
              "      <td>0</td>\n",
              "      <td>Normal</td>\n",
              "      <td>122</td>\n",
              "      <td>N</td>\n",
              "      <td>0.0</td>\n",
              "      <td>Up</td>\n",
              "      <td>0</td>\n",
              "    </tr>\n",
              "  </tbody>\n",
              "</table>\n",
              "</div>\n",
              "      <button class=\"colab-df-convert\" onclick=\"convertToInteractive('df-187f2064-a652-4a2b-8606-14b68b5bf0e9')\"\n",
              "              title=\"Convert this dataframe to an interactive table.\"\n",
              "              style=\"display:none;\">\n",
              "        \n",
              "  <svg xmlns=\"http://www.w3.org/2000/svg\" height=\"24px\"viewBox=\"0 0 24 24\"\n",
              "       width=\"24px\">\n",
              "    <path d=\"M0 0h24v24H0V0z\" fill=\"none\"/>\n",
              "    <path d=\"M18.56 5.44l.94 2.06.94-2.06 2.06-.94-2.06-.94-.94-2.06-.94 2.06-2.06.94zm-11 1L8.5 8.5l.94-2.06 2.06-.94-2.06-.94L8.5 2.5l-.94 2.06-2.06.94zm10 10l.94 2.06.94-2.06 2.06-.94-2.06-.94-.94-2.06-.94 2.06-2.06.94z\"/><path d=\"M17.41 7.96l-1.37-1.37c-.4-.4-.92-.59-1.43-.59-.52 0-1.04.2-1.43.59L10.3 9.45l-7.72 7.72c-.78.78-.78 2.05 0 2.83L4 21.41c.39.39.9.59 1.41.59.51 0 1.02-.2 1.41-.59l7.78-7.78 2.81-2.81c.8-.78.8-2.07 0-2.86zM5.41 20L4 18.59l7.72-7.72 1.47 1.35L5.41 20z\"/>\n",
              "  </svg>\n",
              "      </button>\n",
              "      \n",
              "  <style>\n",
              "    .colab-df-container {\n",
              "      display:flex;\n",
              "      flex-wrap:wrap;\n",
              "      gap: 12px;\n",
              "    }\n",
              "\n",
              "    .colab-df-convert {\n",
              "      background-color: #E8F0FE;\n",
              "      border: none;\n",
              "      border-radius: 50%;\n",
              "      cursor: pointer;\n",
              "      display: none;\n",
              "      fill: #1967D2;\n",
              "      height: 32px;\n",
              "      padding: 0 0 0 0;\n",
              "      width: 32px;\n",
              "    }\n",
              "\n",
              "    .colab-df-convert:hover {\n",
              "      background-color: #E2EBFA;\n",
              "      box-shadow: 0px 1px 2px rgba(60, 64, 67, 0.3), 0px 1px 3px 1px rgba(60, 64, 67, 0.15);\n",
              "      fill: #174EA6;\n",
              "    }\n",
              "\n",
              "    [theme=dark] .colab-df-convert {\n",
              "      background-color: #3B4455;\n",
              "      fill: #D2E3FC;\n",
              "    }\n",
              "\n",
              "    [theme=dark] .colab-df-convert:hover {\n",
              "      background-color: #434B5C;\n",
              "      box-shadow: 0px 1px 3px 1px rgba(0, 0, 0, 0.15);\n",
              "      filter: drop-shadow(0px 1px 2px rgba(0, 0, 0, 0.3));\n",
              "      fill: #FFFFFF;\n",
              "    }\n",
              "  </style>\n",
              "\n",
              "      <script>\n",
              "        const buttonEl =\n",
              "          document.querySelector('#df-187f2064-a652-4a2b-8606-14b68b5bf0e9 button.colab-df-convert');\n",
              "        buttonEl.style.display =\n",
              "          google.colab.kernel.accessAllowed ? 'block' : 'none';\n",
              "\n",
              "        async function convertToInteractive(key) {\n",
              "          const element = document.querySelector('#df-187f2064-a652-4a2b-8606-14b68b5bf0e9');\n",
              "          const dataTable =\n",
              "            await google.colab.kernel.invokeFunction('convertToInteractive',\n",
              "                                                     [key], {});\n",
              "          if (!dataTable) return;\n",
              "\n",
              "          const docLinkHtml = 'Like what you see? Visit the ' +\n",
              "            '<a target=\"_blank\" href=https://colab.research.google.com/notebooks/data_table.ipynb>data table notebook</a>'\n",
              "            + ' to learn more about interactive tables.';\n",
              "          element.innerHTML = '';\n",
              "          dataTable['output_type'] = 'display_data';\n",
              "          await google.colab.output.renderOutput(dataTable, element);\n",
              "          const docLink = document.createElement('div');\n",
              "          docLink.innerHTML = docLinkHtml;\n",
              "          element.appendChild(docLink);\n",
              "        }\n",
              "      </script>\n",
              "    </div>\n",
              "  </div>\n",
              "  "
            ]
          },
          "metadata": {},
          "execution_count": 3
        }
      ]
    },
    {
      "cell_type": "code",
      "source": [
        "df.shape"
      ],
      "metadata": {
        "id": "NSH5-od1gRAU",
        "outputId": "53942575-39e5-437f-b3ee-6103e521bff8",
        "colab": {
          "base_uri": "https://localhost:8080/"
        }
      },
      "execution_count": 4,
      "outputs": [
        {
          "output_type": "execute_result",
          "data": {
            "text/plain": [
              "(917, 12)"
            ]
          },
          "metadata": {},
          "execution_count": 4
        }
      ]
    },
    {
      "cell_type": "markdown",
      "source": [
        "## **Transformando as variáveis categóricas nominais em variáveis categóricas ordinais**"
      ],
      "metadata": {
        "id": "a-DfpMtio-sq"
      }
    },
    {
      "cell_type": "code",
      "source": [
        "df2 = pd.DataFrame.copy(df)"
      ],
      "metadata": {
        "id": "JntPfMmptEhg"
      },
      "execution_count": 5,
      "outputs": []
    },
    {
      "cell_type": "code",
      "source": [
        "df2['Sex'].replace({'M':0, 'F': 1}, inplace=True)\n",
        "df2['ChestPainType'].replace({'TA':0, 'ATA': 1, 'NAP':2, 'ASY': 3}, inplace=True)\n",
        "df2['RestingECG'].replace({'Normal':0, 'ST': 1, 'LVH':2}, inplace=True)\n",
        "df2['ExerciseAngina'].replace({'N':0, 'Y': 1}, inplace=True)\n",
        "df2['ST_Slope'].replace({'Up':0, 'Flat': 1, 'Down':2}, inplace=True)"
      ],
      "metadata": {
        "id": "KUxPnNEhrsjL"
      },
      "execution_count": 6,
      "outputs": []
    },
    {
      "cell_type": "code",
      "source": [
        "df2.head()"
      ],
      "metadata": {
        "id": "1aTDlfUZpfJi",
        "colab": {
          "base_uri": "https://localhost:8080/",
          "height": 206
        },
        "outputId": "74e980dd-e797-4312-b475-3983e5ececca"
      },
      "execution_count": 7,
      "outputs": [
        {
          "output_type": "execute_result",
          "data": {
            "text/plain": [
              "   Age  Sex  ChestPainType  RestingBP  Cholesterol  FastingBS  RestingECG  \\\n",
              "0   40    0              1        140        289.0          0           0   \n",
              "1   49    1              2        160        180.0          0           0   \n",
              "2   37    0              1        130        283.0          0           1   \n",
              "3   48    1              3        138        214.0          0           0   \n",
              "4   54    0              2        150        195.0          0           0   \n",
              "\n",
              "   MaxHR  ExerciseAngina  Oldpeak  ST_Slope  HeartDisease  \n",
              "0    172               0      0.0         0             0  \n",
              "1    156               0      1.0         1             1  \n",
              "2     98               0      0.0         0             0  \n",
              "3    108               1      1.5         1             1  \n",
              "4    122               0      0.0         0             0  "
            ],
            "text/html": [
              "\n",
              "  <div id=\"df-b277c3d8-466f-462e-ad8b-317ec67575d6\">\n",
              "    <div class=\"colab-df-container\">\n",
              "      <div>\n",
              "<style scoped>\n",
              "    .dataframe tbody tr th:only-of-type {\n",
              "        vertical-align: middle;\n",
              "    }\n",
              "\n",
              "    .dataframe tbody tr th {\n",
              "        vertical-align: top;\n",
              "    }\n",
              "\n",
              "    .dataframe thead th {\n",
              "        text-align: right;\n",
              "    }\n",
              "</style>\n",
              "<table border=\"1\" class=\"dataframe\">\n",
              "  <thead>\n",
              "    <tr style=\"text-align: right;\">\n",
              "      <th></th>\n",
              "      <th>Age</th>\n",
              "      <th>Sex</th>\n",
              "      <th>ChestPainType</th>\n",
              "      <th>RestingBP</th>\n",
              "      <th>Cholesterol</th>\n",
              "      <th>FastingBS</th>\n",
              "      <th>RestingECG</th>\n",
              "      <th>MaxHR</th>\n",
              "      <th>ExerciseAngina</th>\n",
              "      <th>Oldpeak</th>\n",
              "      <th>ST_Slope</th>\n",
              "      <th>HeartDisease</th>\n",
              "    </tr>\n",
              "  </thead>\n",
              "  <tbody>\n",
              "    <tr>\n",
              "      <th>0</th>\n",
              "      <td>40</td>\n",
              "      <td>0</td>\n",
              "      <td>1</td>\n",
              "      <td>140</td>\n",
              "      <td>289.0</td>\n",
              "      <td>0</td>\n",
              "      <td>0</td>\n",
              "      <td>172</td>\n",
              "      <td>0</td>\n",
              "      <td>0.0</td>\n",
              "      <td>0</td>\n",
              "      <td>0</td>\n",
              "    </tr>\n",
              "    <tr>\n",
              "      <th>1</th>\n",
              "      <td>49</td>\n",
              "      <td>1</td>\n",
              "      <td>2</td>\n",
              "      <td>160</td>\n",
              "      <td>180.0</td>\n",
              "      <td>0</td>\n",
              "      <td>0</td>\n",
              "      <td>156</td>\n",
              "      <td>0</td>\n",
              "      <td>1.0</td>\n",
              "      <td>1</td>\n",
              "      <td>1</td>\n",
              "    </tr>\n",
              "    <tr>\n",
              "      <th>2</th>\n",
              "      <td>37</td>\n",
              "      <td>0</td>\n",
              "      <td>1</td>\n",
              "      <td>130</td>\n",
              "      <td>283.0</td>\n",
              "      <td>0</td>\n",
              "      <td>1</td>\n",
              "      <td>98</td>\n",
              "      <td>0</td>\n",
              "      <td>0.0</td>\n",
              "      <td>0</td>\n",
              "      <td>0</td>\n",
              "    </tr>\n",
              "    <tr>\n",
              "      <th>3</th>\n",
              "      <td>48</td>\n",
              "      <td>1</td>\n",
              "      <td>3</td>\n",
              "      <td>138</td>\n",
              "      <td>214.0</td>\n",
              "      <td>0</td>\n",
              "      <td>0</td>\n",
              "      <td>108</td>\n",
              "      <td>1</td>\n",
              "      <td>1.5</td>\n",
              "      <td>1</td>\n",
              "      <td>1</td>\n",
              "    </tr>\n",
              "    <tr>\n",
              "      <th>4</th>\n",
              "      <td>54</td>\n",
              "      <td>0</td>\n",
              "      <td>2</td>\n",
              "      <td>150</td>\n",
              "      <td>195.0</td>\n",
              "      <td>0</td>\n",
              "      <td>0</td>\n",
              "      <td>122</td>\n",
              "      <td>0</td>\n",
              "      <td>0.0</td>\n",
              "      <td>0</td>\n",
              "      <td>0</td>\n",
              "    </tr>\n",
              "  </tbody>\n",
              "</table>\n",
              "</div>\n",
              "      <button class=\"colab-df-convert\" onclick=\"convertToInteractive('df-b277c3d8-466f-462e-ad8b-317ec67575d6')\"\n",
              "              title=\"Convert this dataframe to an interactive table.\"\n",
              "              style=\"display:none;\">\n",
              "        \n",
              "  <svg xmlns=\"http://www.w3.org/2000/svg\" height=\"24px\"viewBox=\"0 0 24 24\"\n",
              "       width=\"24px\">\n",
              "    <path d=\"M0 0h24v24H0V0z\" fill=\"none\"/>\n",
              "    <path d=\"M18.56 5.44l.94 2.06.94-2.06 2.06-.94-2.06-.94-.94-2.06-.94 2.06-2.06.94zm-11 1L8.5 8.5l.94-2.06 2.06-.94-2.06-.94L8.5 2.5l-.94 2.06-2.06.94zm10 10l.94 2.06.94-2.06 2.06-.94-2.06-.94-.94-2.06-.94 2.06-2.06.94z\"/><path d=\"M17.41 7.96l-1.37-1.37c-.4-.4-.92-.59-1.43-.59-.52 0-1.04.2-1.43.59L10.3 9.45l-7.72 7.72c-.78.78-.78 2.05 0 2.83L4 21.41c.39.39.9.59 1.41.59.51 0 1.02-.2 1.41-.59l7.78-7.78 2.81-2.81c.8-.78.8-2.07 0-2.86zM5.41 20L4 18.59l7.72-7.72 1.47 1.35L5.41 20z\"/>\n",
              "  </svg>\n",
              "      </button>\n",
              "      \n",
              "  <style>\n",
              "    .colab-df-container {\n",
              "      display:flex;\n",
              "      flex-wrap:wrap;\n",
              "      gap: 12px;\n",
              "    }\n",
              "\n",
              "    .colab-df-convert {\n",
              "      background-color: #E8F0FE;\n",
              "      border: none;\n",
              "      border-radius: 50%;\n",
              "      cursor: pointer;\n",
              "      display: none;\n",
              "      fill: #1967D2;\n",
              "      height: 32px;\n",
              "      padding: 0 0 0 0;\n",
              "      width: 32px;\n",
              "    }\n",
              "\n",
              "    .colab-df-convert:hover {\n",
              "      background-color: #E2EBFA;\n",
              "      box-shadow: 0px 1px 2px rgba(60, 64, 67, 0.3), 0px 1px 3px 1px rgba(60, 64, 67, 0.15);\n",
              "      fill: #174EA6;\n",
              "    }\n",
              "\n",
              "    [theme=dark] .colab-df-convert {\n",
              "      background-color: #3B4455;\n",
              "      fill: #D2E3FC;\n",
              "    }\n",
              "\n",
              "    [theme=dark] .colab-df-convert:hover {\n",
              "      background-color: #434B5C;\n",
              "      box-shadow: 0px 1px 3px 1px rgba(0, 0, 0, 0.15);\n",
              "      filter: drop-shadow(0px 1px 2px rgba(0, 0, 0, 0.3));\n",
              "      fill: #FFFFFF;\n",
              "    }\n",
              "  </style>\n",
              "\n",
              "      <script>\n",
              "        const buttonEl =\n",
              "          document.querySelector('#df-b277c3d8-466f-462e-ad8b-317ec67575d6 button.colab-df-convert');\n",
              "        buttonEl.style.display =\n",
              "          google.colab.kernel.accessAllowed ? 'block' : 'none';\n",
              "\n",
              "        async function convertToInteractive(key) {\n",
              "          const element = document.querySelector('#df-b277c3d8-466f-462e-ad8b-317ec67575d6');\n",
              "          const dataTable =\n",
              "            await google.colab.kernel.invokeFunction('convertToInteractive',\n",
              "                                                     [key], {});\n",
              "          if (!dataTable) return;\n",
              "\n",
              "          const docLinkHtml = 'Like what you see? Visit the ' +\n",
              "            '<a target=\"_blank\" href=https://colab.research.google.com/notebooks/data_table.ipynb>data table notebook</a>'\n",
              "            + ' to learn more about interactive tables.';\n",
              "          element.innerHTML = '';\n",
              "          dataTable['output_type'] = 'display_data';\n",
              "          await google.colab.output.renderOutput(dataTable, element);\n",
              "          const docLink = document.createElement('div');\n",
              "          docLink.innerHTML = docLinkHtml;\n",
              "          element.appendChild(docLink);\n",
              "        }\n",
              "      </script>\n",
              "    </div>\n",
              "  </div>\n",
              "  "
            ]
          },
          "metadata": {},
          "execution_count": 7
        }
      ]
    },
    {
      "cell_type": "code",
      "source": [
        "df2.dtypes"
      ],
      "metadata": {
        "id": "6kC-deH0giws",
        "colab": {
          "base_uri": "https://localhost:8080/"
        },
        "outputId": "a64380ab-2827-46ef-a297-20053abea11b"
      },
      "execution_count": 8,
      "outputs": [
        {
          "output_type": "execute_result",
          "data": {
            "text/plain": [
              "Age                 int64\n",
              "Sex                 int64\n",
              "ChestPainType       int64\n",
              "RestingBP           int64\n",
              "Cholesterol       float64\n",
              "FastingBS           int64\n",
              "RestingECG          int64\n",
              "MaxHR               int64\n",
              "ExerciseAngina      int64\n",
              "Oldpeak           float64\n",
              "ST_Slope            int64\n",
              "HeartDisease        int64\n",
              "dtype: object"
            ]
          },
          "metadata": {},
          "execution_count": 8
        }
      ]
    },
    {
      "cell_type": "code",
      "source": [
        "df2.shape"
      ],
      "metadata": {
        "id": "e3oELnDctqsq",
        "colab": {
          "base_uri": "https://localhost:8080/"
        },
        "outputId": "457fd2bb-ba54-49b9-f9ae-a968143404c4"
      },
      "execution_count": 9,
      "outputs": [
        {
          "output_type": "execute_result",
          "data": {
            "text/plain": [
              "(917, 12)"
            ]
          },
          "metadata": {},
          "execution_count": 9
        }
      ]
    },
    {
      "cell_type": "markdown",
      "source": [
        "## **LEGENDA**"
      ],
      "metadata": {
        "id": "khuvnjo8ta5k"
      }
    },
    {
      "cell_type": "markdown",
      "source": [
        "Age = idade (anos)\n",
        "\n",
        "Sex = sexo (0=M; 1=F)\n",
        "\n",
        "Chest Pain Type = tipo de dor no peito (0=TA:angina típica; 1=ATA:angina atípica; 2=NAP:dor não anginosa; 3=ASY:assintomático)\n",
        "\n",
        "Resting BP = pressão sanguínea em repouso (mmHg)\n",
        "\n",
        "Cholesterol = colesterol sérico (mg/dl)\n",
        "\n",
        "Fasting BS = açúcar no sangue em jejum (mg/dl)\n",
        "          0: Fasting BS < 120 mg/dl (não diabético)\n",
        "          1: Fasting BS >= 120 mg/dl, (diabético)\n",
        "\n",
        "Resting ECG = eletrocardiograma em repouso (0=Normal; 1=ST:Anormalidade da onda ST-T; 2=LVH: Hipertrofia ventricular esquerda)\n",
        "\n",
        "Max HR = frequência cardíaca máxima\n",
        "\n",
        "Exercise Angina = Angina induzida por exercício (0=Não; 1=Sim)\n",
        "\n",
        "Old Peak = Depressão de ST induzida por exercício em relação ao repouso\n",
        "\n",
        "ST_Slope = Inclinação do segmento ST (0=UP; 1=Flat; 2=Down)\n",
        "\n",
        "Heart Disease = Doença cardíaca (0=Não possui doença cardíaca; 1=Possui doença cardíaca)\n",
        "\n"
      ],
      "metadata": {
        "id": "9Kz8O68wpsY3"
      }
    },
    {
      "cell_type": "markdown",
      "source": [
        "## **ATRIBUTOS PREVISORES E ALVO**"
      ],
      "metadata": {
        "id": "_NBxZCLzC8Bl"
      }
    },
    {
      "cell_type": "code",
      "source": [
        "df2.head()"
      ],
      "metadata": {
        "id": "eLzWunR78ozP",
        "colab": {
          "base_uri": "https://localhost:8080/",
          "height": 0
        },
        "outputId": "22c78b6d-7482-43f2-f61c-c4d4524e08a5"
      },
      "execution_count": 10,
      "outputs": [
        {
          "output_type": "execute_result",
          "data": {
            "text/plain": [
              "   Age  Sex  ChestPainType  RestingBP  Cholesterol  FastingBS  RestingECG  \\\n",
              "0   40    0              1        140        289.0          0           0   \n",
              "1   49    1              2        160        180.0          0           0   \n",
              "2   37    0              1        130        283.0          0           1   \n",
              "3   48    1              3        138        214.0          0           0   \n",
              "4   54    0              2        150        195.0          0           0   \n",
              "\n",
              "   MaxHR  ExerciseAngina  Oldpeak  ST_Slope  HeartDisease  \n",
              "0    172               0      0.0         0             0  \n",
              "1    156               0      1.0         1             1  \n",
              "2     98               0      0.0         0             0  \n",
              "3    108               1      1.5         1             1  \n",
              "4    122               0      0.0         0             0  "
            ],
            "text/html": [
              "\n",
              "  <div id=\"df-1f0f3664-024f-430a-bb17-9f1d353675c2\">\n",
              "    <div class=\"colab-df-container\">\n",
              "      <div>\n",
              "<style scoped>\n",
              "    .dataframe tbody tr th:only-of-type {\n",
              "        vertical-align: middle;\n",
              "    }\n",
              "\n",
              "    .dataframe tbody tr th {\n",
              "        vertical-align: top;\n",
              "    }\n",
              "\n",
              "    .dataframe thead th {\n",
              "        text-align: right;\n",
              "    }\n",
              "</style>\n",
              "<table border=\"1\" class=\"dataframe\">\n",
              "  <thead>\n",
              "    <tr style=\"text-align: right;\">\n",
              "      <th></th>\n",
              "      <th>Age</th>\n",
              "      <th>Sex</th>\n",
              "      <th>ChestPainType</th>\n",
              "      <th>RestingBP</th>\n",
              "      <th>Cholesterol</th>\n",
              "      <th>FastingBS</th>\n",
              "      <th>RestingECG</th>\n",
              "      <th>MaxHR</th>\n",
              "      <th>ExerciseAngina</th>\n",
              "      <th>Oldpeak</th>\n",
              "      <th>ST_Slope</th>\n",
              "      <th>HeartDisease</th>\n",
              "    </tr>\n",
              "  </thead>\n",
              "  <tbody>\n",
              "    <tr>\n",
              "      <th>0</th>\n",
              "      <td>40</td>\n",
              "      <td>0</td>\n",
              "      <td>1</td>\n",
              "      <td>140</td>\n",
              "      <td>289.0</td>\n",
              "      <td>0</td>\n",
              "      <td>0</td>\n",
              "      <td>172</td>\n",
              "      <td>0</td>\n",
              "      <td>0.0</td>\n",
              "      <td>0</td>\n",
              "      <td>0</td>\n",
              "    </tr>\n",
              "    <tr>\n",
              "      <th>1</th>\n",
              "      <td>49</td>\n",
              "      <td>1</td>\n",
              "      <td>2</td>\n",
              "      <td>160</td>\n",
              "      <td>180.0</td>\n",
              "      <td>0</td>\n",
              "      <td>0</td>\n",
              "      <td>156</td>\n",
              "      <td>0</td>\n",
              "      <td>1.0</td>\n",
              "      <td>1</td>\n",
              "      <td>1</td>\n",
              "    </tr>\n",
              "    <tr>\n",
              "      <th>2</th>\n",
              "      <td>37</td>\n",
              "      <td>0</td>\n",
              "      <td>1</td>\n",
              "      <td>130</td>\n",
              "      <td>283.0</td>\n",
              "      <td>0</td>\n",
              "      <td>1</td>\n",
              "      <td>98</td>\n",
              "      <td>0</td>\n",
              "      <td>0.0</td>\n",
              "      <td>0</td>\n",
              "      <td>0</td>\n",
              "    </tr>\n",
              "    <tr>\n",
              "      <th>3</th>\n",
              "      <td>48</td>\n",
              "      <td>1</td>\n",
              "      <td>3</td>\n",
              "      <td>138</td>\n",
              "      <td>214.0</td>\n",
              "      <td>0</td>\n",
              "      <td>0</td>\n",
              "      <td>108</td>\n",
              "      <td>1</td>\n",
              "      <td>1.5</td>\n",
              "      <td>1</td>\n",
              "      <td>1</td>\n",
              "    </tr>\n",
              "    <tr>\n",
              "      <th>4</th>\n",
              "      <td>54</td>\n",
              "      <td>0</td>\n",
              "      <td>2</td>\n",
              "      <td>150</td>\n",
              "      <td>195.0</td>\n",
              "      <td>0</td>\n",
              "      <td>0</td>\n",
              "      <td>122</td>\n",
              "      <td>0</td>\n",
              "      <td>0.0</td>\n",
              "      <td>0</td>\n",
              "      <td>0</td>\n",
              "    </tr>\n",
              "  </tbody>\n",
              "</table>\n",
              "</div>\n",
              "      <button class=\"colab-df-convert\" onclick=\"convertToInteractive('df-1f0f3664-024f-430a-bb17-9f1d353675c2')\"\n",
              "              title=\"Convert this dataframe to an interactive table.\"\n",
              "              style=\"display:none;\">\n",
              "        \n",
              "  <svg xmlns=\"http://www.w3.org/2000/svg\" height=\"24px\"viewBox=\"0 0 24 24\"\n",
              "       width=\"24px\">\n",
              "    <path d=\"M0 0h24v24H0V0z\" fill=\"none\"/>\n",
              "    <path d=\"M18.56 5.44l.94 2.06.94-2.06 2.06-.94-2.06-.94-.94-2.06-.94 2.06-2.06.94zm-11 1L8.5 8.5l.94-2.06 2.06-.94-2.06-.94L8.5 2.5l-.94 2.06-2.06.94zm10 10l.94 2.06.94-2.06 2.06-.94-2.06-.94-.94-2.06-.94 2.06-2.06.94z\"/><path d=\"M17.41 7.96l-1.37-1.37c-.4-.4-.92-.59-1.43-.59-.52 0-1.04.2-1.43.59L10.3 9.45l-7.72 7.72c-.78.78-.78 2.05 0 2.83L4 21.41c.39.39.9.59 1.41.59.51 0 1.02-.2 1.41-.59l7.78-7.78 2.81-2.81c.8-.78.8-2.07 0-2.86zM5.41 20L4 18.59l7.72-7.72 1.47 1.35L5.41 20z\"/>\n",
              "  </svg>\n",
              "      </button>\n",
              "      \n",
              "  <style>\n",
              "    .colab-df-container {\n",
              "      display:flex;\n",
              "      flex-wrap:wrap;\n",
              "      gap: 12px;\n",
              "    }\n",
              "\n",
              "    .colab-df-convert {\n",
              "      background-color: #E8F0FE;\n",
              "      border: none;\n",
              "      border-radius: 50%;\n",
              "      cursor: pointer;\n",
              "      display: none;\n",
              "      fill: #1967D2;\n",
              "      height: 32px;\n",
              "      padding: 0 0 0 0;\n",
              "      width: 32px;\n",
              "    }\n",
              "\n",
              "    .colab-df-convert:hover {\n",
              "      background-color: #E2EBFA;\n",
              "      box-shadow: 0px 1px 2px rgba(60, 64, 67, 0.3), 0px 1px 3px 1px rgba(60, 64, 67, 0.15);\n",
              "      fill: #174EA6;\n",
              "    }\n",
              "\n",
              "    [theme=dark] .colab-df-convert {\n",
              "      background-color: #3B4455;\n",
              "      fill: #D2E3FC;\n",
              "    }\n",
              "\n",
              "    [theme=dark] .colab-df-convert:hover {\n",
              "      background-color: #434B5C;\n",
              "      box-shadow: 0px 1px 3px 1px rgba(0, 0, 0, 0.15);\n",
              "      filter: drop-shadow(0px 1px 2px rgba(0, 0, 0, 0.3));\n",
              "      fill: #FFFFFF;\n",
              "    }\n",
              "  </style>\n",
              "\n",
              "      <script>\n",
              "        const buttonEl =\n",
              "          document.querySelector('#df-1f0f3664-024f-430a-bb17-9f1d353675c2 button.colab-df-convert');\n",
              "        buttonEl.style.display =\n",
              "          google.colab.kernel.accessAllowed ? 'block' : 'none';\n",
              "\n",
              "        async function convertToInteractive(key) {\n",
              "          const element = document.querySelector('#df-1f0f3664-024f-430a-bb17-9f1d353675c2');\n",
              "          const dataTable =\n",
              "            await google.colab.kernel.invokeFunction('convertToInteractive',\n",
              "                                                     [key], {});\n",
              "          if (!dataTable) return;\n",
              "\n",
              "          const docLinkHtml = 'Like what you see? Visit the ' +\n",
              "            '<a target=\"_blank\" href=https://colab.research.google.com/notebooks/data_table.ipynb>data table notebook</a>'\n",
              "            + ' to learn more about interactive tables.';\n",
              "          element.innerHTML = '';\n",
              "          dataTable['output_type'] = 'display_data';\n",
              "          await google.colab.output.renderOutput(dataTable, element);\n",
              "          const docLink = document.createElement('div');\n",
              "          docLink.innerHTML = docLinkHtml;\n",
              "          element.appendChild(docLink);\n",
              "        }\n",
              "      </script>\n",
              "    </div>\n",
              "  </div>\n",
              "  "
            ]
          },
          "metadata": {},
          "execution_count": 10
        }
      ]
    },
    {
      "cell_type": "code",
      "source": [
        "previsores = df2.iloc[:, 0:11].values\n"
      ],
      "metadata": {
        "id": "alp9Gsx8z6f3"
      },
      "execution_count": 11,
      "outputs": []
    },
    {
      "cell_type": "code",
      "source": [
        "previsores"
      ],
      "metadata": {
        "id": "ZJjs6cWq-9Bn",
        "colab": {
          "base_uri": "https://localhost:8080/"
        },
        "outputId": "3c1ca1fe-3533-4333-fcc4-e138e74f60da"
      },
      "execution_count": 12,
      "outputs": [
        {
          "output_type": "execute_result",
          "data": {
            "text/plain": [
              "array([[40. ,  0. ,  1. , ...,  0. ,  0. ,  0. ],\n",
              "       [49. ,  1. ,  2. , ...,  0. ,  1. ,  1. ],\n",
              "       [37. ,  0. ,  1. , ...,  0. ,  0. ,  0. ],\n",
              "       ...,\n",
              "       [57. ,  0. ,  3. , ...,  1. ,  1.2,  1. ],\n",
              "       [57. ,  1. ,  1. , ...,  0. ,  0. ,  1. ],\n",
              "       [38. ,  0. ,  2. , ...,  0. ,  0. ,  0. ]])"
            ]
          },
          "metadata": {},
          "execution_count": 12
        }
      ]
    },
    {
      "cell_type": "code",
      "source": [
        "previsores.shape"
      ],
      "metadata": {
        "id": "KrtsyKXXAxTL",
        "colab": {
          "base_uri": "https://localhost:8080/"
        },
        "outputId": "22d7bdce-1d0f-48b4-f3f4-3144019eae5c"
      },
      "execution_count": 13,
      "outputs": [
        {
          "output_type": "execute_result",
          "data": {
            "text/plain": [
              "(917, 11)"
            ]
          },
          "metadata": {},
          "execution_count": 13
        }
      ]
    },
    {
      "cell_type": "code",
      "source": [
        "alvo = df2.iloc[:, 11].values"
      ],
      "metadata": {
        "id": "wdXWRjHMBAFo"
      },
      "execution_count": 14,
      "outputs": []
    },
    {
      "cell_type": "code",
      "source": [
        "alvo"
      ],
      "metadata": {
        "id": "wK163BWgBJg2",
        "colab": {
          "base_uri": "https://localhost:8080/"
        },
        "outputId": "7b762460-6f72-423d-a2cb-939e3e2929c2"
      },
      "execution_count": 15,
      "outputs": [
        {
          "output_type": "execute_result",
          "data": {
            "text/plain": [
              "array([0, 1, 0, 1, 0, 0, 0, 0, 1, 0, 0, 1, 0, 1, 0, 0, 1, 0, 1, 1, 0, 0,\n",
              "       0, 1, 0, 0, 0, 0, 0, 0, 1, 0, 1, 1, 0, 0, 1, 0, 0, 0, 0, 1, 0, 0,\n",
              "       1, 0, 0, 0, 0, 1, 1, 1, 0, 0, 0, 0, 1, 1, 0, 1, 0, 0, 0, 1, 0, 0,\n",
              "       0, 0, 1, 0, 1, 0, 1, 0, 1, 0, 1, 0, 0, 1, 0, 0, 1, 0, 1, 1, 1, 0,\n",
              "       1, 0, 0, 0, 0, 1, 0, 1, 0, 0, 0, 0, 1, 0, 1, 1, 1, 0, 0, 0, 0, 0,\n",
              "       0, 1, 0, 0, 0, 1, 1, 1, 0, 1, 1, 0, 0, 1, 0, 0, 0, 0, 0, 0, 0, 1,\n",
              "       1, 1, 0, 1, 0, 0, 1, 1, 1, 1, 1, 0, 1, 0, 0, 0, 0, 1, 0, 0, 0, 0,\n",
              "       0, 1, 1, 0, 1, 0, 1, 1, 0, 0, 0, 1, 1, 0, 0, 0, 0, 0, 0, 0, 1, 1,\n",
              "       1, 0, 0, 0, 1, 0, 1, 0, 0, 1, 0, 1, 0, 1, 0, 0, 0, 0, 0, 0, 0, 0,\n",
              "       1, 0, 0, 0, 0, 0, 0, 0, 0, 1, 0, 1, 1, 1, 0, 0, 1, 0, 1, 0, 0, 0,\n",
              "       1, 1, 0, 0, 0, 1, 0, 1, 0, 0, 0, 0, 0, 0, 0, 0, 1, 1, 1, 1, 0, 1,\n",
              "       1, 0, 1, 0, 1, 1, 1, 1, 1, 1, 0, 0, 1, 0, 0, 0, 0, 0, 0, 0, 1, 1,\n",
              "       1, 0, 1, 0, 1, 0, 0, 0, 1, 0, 0, 0, 1, 1, 0, 0, 0, 1, 0, 0, 0, 0,\n",
              "       0, 0, 0, 0, 0, 0, 0, 1, 1, 1, 1, 1, 1, 1, 1, 0, 1, 1, 1, 1, 1, 0,\n",
              "       1, 1, 0, 1, 1, 1, 0, 1, 1, 1, 1, 1, 1, 1, 1, 1, 1, 1, 0, 1, 1, 1,\n",
              "       1, 1, 0, 1, 1, 1, 0, 1, 1, 1, 1, 1, 1, 1, 1, 1, 1, 1, 1, 1, 1, 1,\n",
              "       1, 1, 1, 1, 1, 1, 1, 1, 1, 1, 1, 1, 0, 1, 1, 1, 1, 1, 1, 1, 1, 1,\n",
              "       1, 1, 1, 1, 1, 1, 1, 1, 1, 1, 1, 1, 1, 1, 1, 1, 1, 1, 1, 1, 1, 1,\n",
              "       1, 1, 1, 1, 1, 1, 1, 1, 1, 1, 1, 1, 1, 1, 1, 1, 1, 1, 1, 1, 1, 0,\n",
              "       1, 1, 0, 0, 1, 0, 1, 1, 0, 1, 1, 1, 1, 0, 1, 1, 0, 0, 1, 1, 1, 0,\n",
              "       1, 1, 1, 1, 1, 1, 1, 1, 1, 1, 1, 1, 0, 1, 0, 1, 1, 1, 0, 1, 1, 1,\n",
              "       0, 1, 0, 1, 0, 1, 0, 1, 1, 1, 1, 0, 1, 0, 1, 1, 1, 1, 1, 1, 1, 1,\n",
              "       1, 0, 1, 0, 1, 1, 1, 1, 1, 1, 1, 0, 1, 1, 1, 1, 1, 1, 0, 1, 1, 1,\n",
              "       0, 1, 1, 0, 1, 0, 1, 1, 0, 1, 1, 1, 1, 0, 1, 1, 1, 0, 0, 1, 0, 1,\n",
              "       1, 1, 1, 1, 1, 1, 1, 1, 1, 1, 0, 1, 1, 1, 1, 0, 0, 1, 1, 1, 0, 1,\n",
              "       0, 1, 1, 0, 1, 0, 1, 1, 1, 0, 0, 0, 1, 1, 1, 0, 1, 1, 1, 1, 1, 1,\n",
              "       1, 1, 1, 1, 1, 1, 1, 1, 1, 1, 0, 1, 1, 1, 0, 1, 1, 0, 0, 1, 1, 1,\n",
              "       1, 1, 0, 1, 1, 0, 1, 1, 1, 0, 0, 1, 1, 1, 1, 1, 0, 1, 0, 1, 1, 0,\n",
              "       1, 0, 0, 0, 1, 1, 1, 1, 0, 0, 0, 1, 0, 0, 1, 1, 0, 0, 1, 0, 0, 0,\n",
              "       0, 0, 0, 0, 1, 0, 1, 0, 0, 1, 1, 1, 1, 1, 0, 0, 1, 0, 0, 0, 1, 0,\n",
              "       1, 1, 1, 1, 1, 0, 0, 0, 0, 0, 1, 0, 1, 1, 0, 1, 0, 0, 0, 1, 0, 1,\n",
              "       0, 1, 1, 0, 0, 0, 0, 1, 0, 0, 0, 0, 1, 1, 1, 0, 0, 0, 0, 0, 0, 1,\n",
              "       0, 1, 1, 1, 1, 1, 0, 1, 0, 0, 0, 1, 0, 1, 1, 1, 0, 1, 1, 0, 1, 0,\n",
              "       1, 0, 0, 0, 1, 1, 0, 1, 1, 1, 1, 0, 0, 0, 1, 0, 0, 1, 1, 1, 0, 1,\n",
              "       0, 0, 0, 1, 0, 0, 1, 0, 1, 0, 1, 1, 1, 1, 1, 0, 0, 0, 0, 0, 0, 0,\n",
              "       1, 0, 0, 1, 1, 1, 0, 1, 0, 0, 0, 0, 0, 1, 0, 1, 1, 0, 0, 1, 1, 1,\n",
              "       1, 0, 0, 1, 1, 0, 0, 0, 1, 0, 0, 1, 0, 1, 0, 1, 0, 0, 0, 0, 0, 1,\n",
              "       0, 1, 1, 1, 1, 0, 0, 0, 1, 0, 1, 0, 0, 1, 0, 0, 0, 0, 0, 0, 1, 1,\n",
              "       0, 1, 0, 0, 1, 1, 0, 0, 1, 1, 0, 1, 0, 1, 0, 1, 0, 0, 1, 0, 0, 1,\n",
              "       0, 1, 1, 0, 1, 1, 1, 0, 1, 0, 0, 0, 0, 1, 1, 0, 0, 1, 1, 0, 1, 0,\n",
              "       0, 0, 0, 1, 0, 0, 1, 1, 1, 0, 0, 0, 1, 0, 1, 0, 1, 0, 1, 1, 1, 0,\n",
              "       0, 0, 1, 0, 1, 1, 1, 0, 1, 1, 1, 1, 1, 1, 0])"
            ]
          },
          "metadata": {},
          "execution_count": 15
        }
      ]
    },
    {
      "cell_type": "code",
      "source": [
        "alvo.shape"
      ],
      "metadata": {
        "id": "RoSOdYF3BaOf",
        "colab": {
          "base_uri": "https://localhost:8080/"
        },
        "outputId": "651ed1a9-d1cf-4142-ba0f-8d4d33e540b2"
      },
      "execution_count": 16,
      "outputs": [
        {
          "output_type": "execute_result",
          "data": {
            "text/plain": [
              "(917,)"
            ]
          },
          "metadata": {},
          "execution_count": 16
        }
      ]
    },
    {
      "cell_type": "markdown",
      "source": [
        "## **Análise das escalas dos atributos (Escalonamento)**"
      ],
      "metadata": {
        "id": "Xw6d4rM0C9ZD"
      }
    },
    {
      "cell_type": "code",
      "source": [
        "df2.describe()"
      ],
      "metadata": {
        "id": "JzYfrEIxDHIL",
        "colab": {
          "base_uri": "https://localhost:8080/",
          "height": 0
        },
        "outputId": "b50ffb0e-de39-464e-de00-f72a1a4bfef6"
      },
      "execution_count": 17,
      "outputs": [
        {
          "output_type": "execute_result",
          "data": {
            "text/plain": [
              "              Age         Sex  ChestPainType   RestingBP  Cholesterol  \\\n",
              "count  917.000000  917.000000     917.000000  917.000000   917.000000   \n",
              "mean    53.509269    0.210469       2.251908  132.540894   244.635389   \n",
              "std      9.437636    0.407864       0.931502   17.999749    53.347125   \n",
              "min     28.000000    0.000000       0.000000   80.000000    85.000000   \n",
              "25%     47.000000    0.000000       2.000000  120.000000   214.000000   \n",
              "50%     54.000000    0.000000       3.000000  130.000000   244.635389   \n",
              "75%     60.000000    0.000000       3.000000  140.000000   267.000000   \n",
              "max     77.000000    1.000000       3.000000  200.000000   603.000000   \n",
              "\n",
              "        FastingBS  RestingECG       MaxHR  ExerciseAngina     Oldpeak  \\\n",
              "count  917.000000  917.000000  917.000000      917.000000  917.000000   \n",
              "mean     0.233370    0.604144  136.789531        0.404580    0.886696   \n",
              "std      0.423206    0.806161   25.467129        0.491078    1.066960   \n",
              "min      0.000000    0.000000   60.000000        0.000000   -2.600000   \n",
              "25%      0.000000    0.000000  120.000000        0.000000    0.000000   \n",
              "50%      0.000000    0.000000  138.000000        0.000000    0.600000   \n",
              "75%      0.000000    1.000000  156.000000        1.000000    1.500000   \n",
              "max      1.000000    2.000000  202.000000        1.000000    6.200000   \n",
              "\n",
              "        ST_Slope  HeartDisease  \n",
              "count  917.00000    917.000000  \n",
              "mean     0.63795      0.552890  \n",
              "std      0.60727      0.497466  \n",
              "min      0.00000      0.000000  \n",
              "25%      0.00000      0.000000  \n",
              "50%      1.00000      1.000000  \n",
              "75%      1.00000      1.000000  \n",
              "max      2.00000      1.000000  "
            ],
            "text/html": [
              "\n",
              "  <div id=\"df-f8dc9a03-45f7-4a43-98c1-238d3247fde5\">\n",
              "    <div class=\"colab-df-container\">\n",
              "      <div>\n",
              "<style scoped>\n",
              "    .dataframe tbody tr th:only-of-type {\n",
              "        vertical-align: middle;\n",
              "    }\n",
              "\n",
              "    .dataframe tbody tr th {\n",
              "        vertical-align: top;\n",
              "    }\n",
              "\n",
              "    .dataframe thead th {\n",
              "        text-align: right;\n",
              "    }\n",
              "</style>\n",
              "<table border=\"1\" class=\"dataframe\">\n",
              "  <thead>\n",
              "    <tr style=\"text-align: right;\">\n",
              "      <th></th>\n",
              "      <th>Age</th>\n",
              "      <th>Sex</th>\n",
              "      <th>ChestPainType</th>\n",
              "      <th>RestingBP</th>\n",
              "      <th>Cholesterol</th>\n",
              "      <th>FastingBS</th>\n",
              "      <th>RestingECG</th>\n",
              "      <th>MaxHR</th>\n",
              "      <th>ExerciseAngina</th>\n",
              "      <th>Oldpeak</th>\n",
              "      <th>ST_Slope</th>\n",
              "      <th>HeartDisease</th>\n",
              "    </tr>\n",
              "  </thead>\n",
              "  <tbody>\n",
              "    <tr>\n",
              "      <th>count</th>\n",
              "      <td>917.000000</td>\n",
              "      <td>917.000000</td>\n",
              "      <td>917.000000</td>\n",
              "      <td>917.000000</td>\n",
              "      <td>917.000000</td>\n",
              "      <td>917.000000</td>\n",
              "      <td>917.000000</td>\n",
              "      <td>917.000000</td>\n",
              "      <td>917.000000</td>\n",
              "      <td>917.000000</td>\n",
              "      <td>917.00000</td>\n",
              "      <td>917.000000</td>\n",
              "    </tr>\n",
              "    <tr>\n",
              "      <th>mean</th>\n",
              "      <td>53.509269</td>\n",
              "      <td>0.210469</td>\n",
              "      <td>2.251908</td>\n",
              "      <td>132.540894</td>\n",
              "      <td>244.635389</td>\n",
              "      <td>0.233370</td>\n",
              "      <td>0.604144</td>\n",
              "      <td>136.789531</td>\n",
              "      <td>0.404580</td>\n",
              "      <td>0.886696</td>\n",
              "      <td>0.63795</td>\n",
              "      <td>0.552890</td>\n",
              "    </tr>\n",
              "    <tr>\n",
              "      <th>std</th>\n",
              "      <td>9.437636</td>\n",
              "      <td>0.407864</td>\n",
              "      <td>0.931502</td>\n",
              "      <td>17.999749</td>\n",
              "      <td>53.347125</td>\n",
              "      <td>0.423206</td>\n",
              "      <td>0.806161</td>\n",
              "      <td>25.467129</td>\n",
              "      <td>0.491078</td>\n",
              "      <td>1.066960</td>\n",
              "      <td>0.60727</td>\n",
              "      <td>0.497466</td>\n",
              "    </tr>\n",
              "    <tr>\n",
              "      <th>min</th>\n",
              "      <td>28.000000</td>\n",
              "      <td>0.000000</td>\n",
              "      <td>0.000000</td>\n",
              "      <td>80.000000</td>\n",
              "      <td>85.000000</td>\n",
              "      <td>0.000000</td>\n",
              "      <td>0.000000</td>\n",
              "      <td>60.000000</td>\n",
              "      <td>0.000000</td>\n",
              "      <td>-2.600000</td>\n",
              "      <td>0.00000</td>\n",
              "      <td>0.000000</td>\n",
              "    </tr>\n",
              "    <tr>\n",
              "      <th>25%</th>\n",
              "      <td>47.000000</td>\n",
              "      <td>0.000000</td>\n",
              "      <td>2.000000</td>\n",
              "      <td>120.000000</td>\n",
              "      <td>214.000000</td>\n",
              "      <td>0.000000</td>\n",
              "      <td>0.000000</td>\n",
              "      <td>120.000000</td>\n",
              "      <td>0.000000</td>\n",
              "      <td>0.000000</td>\n",
              "      <td>0.00000</td>\n",
              "      <td>0.000000</td>\n",
              "    </tr>\n",
              "    <tr>\n",
              "      <th>50%</th>\n",
              "      <td>54.000000</td>\n",
              "      <td>0.000000</td>\n",
              "      <td>3.000000</td>\n",
              "      <td>130.000000</td>\n",
              "      <td>244.635389</td>\n",
              "      <td>0.000000</td>\n",
              "      <td>0.000000</td>\n",
              "      <td>138.000000</td>\n",
              "      <td>0.000000</td>\n",
              "      <td>0.600000</td>\n",
              "      <td>1.00000</td>\n",
              "      <td>1.000000</td>\n",
              "    </tr>\n",
              "    <tr>\n",
              "      <th>75%</th>\n",
              "      <td>60.000000</td>\n",
              "      <td>0.000000</td>\n",
              "      <td>3.000000</td>\n",
              "      <td>140.000000</td>\n",
              "      <td>267.000000</td>\n",
              "      <td>0.000000</td>\n",
              "      <td>1.000000</td>\n",
              "      <td>156.000000</td>\n",
              "      <td>1.000000</td>\n",
              "      <td>1.500000</td>\n",
              "      <td>1.00000</td>\n",
              "      <td>1.000000</td>\n",
              "    </tr>\n",
              "    <tr>\n",
              "      <th>max</th>\n",
              "      <td>77.000000</td>\n",
              "      <td>1.000000</td>\n",
              "      <td>3.000000</td>\n",
              "      <td>200.000000</td>\n",
              "      <td>603.000000</td>\n",
              "      <td>1.000000</td>\n",
              "      <td>2.000000</td>\n",
              "      <td>202.000000</td>\n",
              "      <td>1.000000</td>\n",
              "      <td>6.200000</td>\n",
              "      <td>2.00000</td>\n",
              "      <td>1.000000</td>\n",
              "    </tr>\n",
              "  </tbody>\n",
              "</table>\n",
              "</div>\n",
              "      <button class=\"colab-df-convert\" onclick=\"convertToInteractive('df-f8dc9a03-45f7-4a43-98c1-238d3247fde5')\"\n",
              "              title=\"Convert this dataframe to an interactive table.\"\n",
              "              style=\"display:none;\">\n",
              "        \n",
              "  <svg xmlns=\"http://www.w3.org/2000/svg\" height=\"24px\"viewBox=\"0 0 24 24\"\n",
              "       width=\"24px\">\n",
              "    <path d=\"M0 0h24v24H0V0z\" fill=\"none\"/>\n",
              "    <path d=\"M18.56 5.44l.94 2.06.94-2.06 2.06-.94-2.06-.94-.94-2.06-.94 2.06-2.06.94zm-11 1L8.5 8.5l.94-2.06 2.06-.94-2.06-.94L8.5 2.5l-.94 2.06-2.06.94zm10 10l.94 2.06.94-2.06 2.06-.94-2.06-.94-.94-2.06-.94 2.06-2.06.94z\"/><path d=\"M17.41 7.96l-1.37-1.37c-.4-.4-.92-.59-1.43-.59-.52 0-1.04.2-1.43.59L10.3 9.45l-7.72 7.72c-.78.78-.78 2.05 0 2.83L4 21.41c.39.39.9.59 1.41.59.51 0 1.02-.2 1.41-.59l7.78-7.78 2.81-2.81c.8-.78.8-2.07 0-2.86zM5.41 20L4 18.59l7.72-7.72 1.47 1.35L5.41 20z\"/>\n",
              "  </svg>\n",
              "      </button>\n",
              "      \n",
              "  <style>\n",
              "    .colab-df-container {\n",
              "      display:flex;\n",
              "      flex-wrap:wrap;\n",
              "      gap: 12px;\n",
              "    }\n",
              "\n",
              "    .colab-df-convert {\n",
              "      background-color: #E8F0FE;\n",
              "      border: none;\n",
              "      border-radius: 50%;\n",
              "      cursor: pointer;\n",
              "      display: none;\n",
              "      fill: #1967D2;\n",
              "      height: 32px;\n",
              "      padding: 0 0 0 0;\n",
              "      width: 32px;\n",
              "    }\n",
              "\n",
              "    .colab-df-convert:hover {\n",
              "      background-color: #E2EBFA;\n",
              "      box-shadow: 0px 1px 2px rgba(60, 64, 67, 0.3), 0px 1px 3px 1px rgba(60, 64, 67, 0.15);\n",
              "      fill: #174EA6;\n",
              "    }\n",
              "\n",
              "    [theme=dark] .colab-df-convert {\n",
              "      background-color: #3B4455;\n",
              "      fill: #D2E3FC;\n",
              "    }\n",
              "\n",
              "    [theme=dark] .colab-df-convert:hover {\n",
              "      background-color: #434B5C;\n",
              "      box-shadow: 0px 1px 3px 1px rgba(0, 0, 0, 0.15);\n",
              "      filter: drop-shadow(0px 1px 2px rgba(0, 0, 0, 0.3));\n",
              "      fill: #FFFFFF;\n",
              "    }\n",
              "  </style>\n",
              "\n",
              "      <script>\n",
              "        const buttonEl =\n",
              "          document.querySelector('#df-f8dc9a03-45f7-4a43-98c1-238d3247fde5 button.colab-df-convert');\n",
              "        buttonEl.style.display =\n",
              "          google.colab.kernel.accessAllowed ? 'block' : 'none';\n",
              "\n",
              "        async function convertToInteractive(key) {\n",
              "          const element = document.querySelector('#df-f8dc9a03-45f7-4a43-98c1-238d3247fde5');\n",
              "          const dataTable =\n",
              "            await google.colab.kernel.invokeFunction('convertToInteractive',\n",
              "                                                     [key], {});\n",
              "          if (!dataTable) return;\n",
              "\n",
              "          const docLinkHtml = 'Like what you see? Visit the ' +\n",
              "            '<a target=\"_blank\" href=https://colab.research.google.com/notebooks/data_table.ipynb>data table notebook</a>'\n",
              "            + ' to learn more about interactive tables.';\n",
              "          element.innerHTML = '';\n",
              "          dataTable['output_type'] = 'display_data';\n",
              "          await google.colab.output.renderOutput(dataTable, element);\n",
              "          const docLink = document.createElement('div');\n",
              "          docLink.innerHTML = docLinkHtml;\n",
              "          element.appendChild(docLink);\n",
              "        }\n",
              "      </script>\n",
              "    </div>\n",
              "  </div>\n",
              "  "
            ]
          },
          "metadata": {},
          "execution_count": 17
        }
      ]
    },
    {
      "cell_type": "markdown",
      "source": [
        "Padronização (utiliza a média e o desvio padrão como referência).\n",
        "\n",
        "Normalização (utiliza os valores máximo e mínimo como referência)."
      ],
      "metadata": {
        "id": "XcSAxyqTD4dw"
      }
    },
    {
      "cell_type": "code",
      "source": [
        "from sklearn.preprocessing import StandardScaler"
      ],
      "metadata": {
        "id": "eMoVJG5kEJSG"
      },
      "execution_count": 18,
      "outputs": []
    },
    {
      "cell_type": "code",
      "source": [
        "previsores_esc = StandardScaler().fit_transform(previsores)"
      ],
      "metadata": {
        "id": "0DpkgD9REQ7m"
      },
      "execution_count": 19,
      "outputs": []
    },
    {
      "cell_type": "code",
      "source": [
        "previsores_esc"
      ],
      "metadata": {
        "id": "qmoQSiWMEr0k",
        "colab": {
          "base_uri": "https://localhost:8080/"
        },
        "outputId": "8cbe515f-839b-4cef-9de8-c26495bae6ad"
      },
      "execution_count": 20,
      "outputs": [
        {
          "output_type": "execute_result",
          "data": {
            "text/plain": [
              "array([[-1.43220634, -0.51630861, -1.34470119, ..., -0.82431012,\n",
              "        -0.83150225, -1.05109458],\n",
              "       [-0.47805725,  1.9368261 , -0.27058012, ..., -0.82431012,\n",
              "         0.10625149,  0.59651863],\n",
              "       [-1.75025603, -0.51630861, -1.34470119, ..., -0.82431012,\n",
              "        -0.83150225, -1.05109458],\n",
              "       ...,\n",
              "       [ 0.37007527, -0.51630861,  0.80354095, ...,  1.21313565,\n",
              "         0.29380223,  0.59651863],\n",
              "       [ 0.37007527,  1.9368261 , -1.34470119, ..., -0.82431012,\n",
              "        -0.83150225,  0.59651863],\n",
              "       [-1.64423947, -0.51630861, -0.27058012, ..., -0.82431012,\n",
              "        -0.83150225, -1.05109458]])"
            ]
          },
          "metadata": {},
          "execution_count": 20
        }
      ]
    },
    {
      "cell_type": "code",
      "source": [
        "previsoresdf = pd.DataFrame(previsores_esc)\n",
        "previsoresdf"
      ],
      "metadata": {
        "id": "aFabOc6kFLMu",
        "colab": {
          "base_uri": "https://localhost:8080/",
          "height": 0
        },
        "outputId": "e1103f1b-2bb3-4c34-c5b7-e3bdfb37aff5"
      },
      "execution_count": 21,
      "outputs": [
        {
          "output_type": "execute_result",
          "data": {
            "text/plain": [
              "           0         1         2         3         4         5         6   \\\n",
              "0   -1.432206 -0.516309 -1.344701  0.414627  0.832075 -0.551733 -0.749818   \n",
              "1   -0.478057  1.936826 -0.270580  1.526360 -1.212261 -0.551733 -0.749818   \n",
              "2   -1.750256 -0.516309 -1.344701 -0.141240  0.719543 -0.551733  0.491306   \n",
              "3   -0.584074  1.936826  0.803541  0.303453 -0.574578 -0.551733 -0.749818   \n",
              "4    0.052026 -0.516309 -0.270580  0.970493 -0.930931 -0.551733 -0.749818   \n",
              "..        ...       ...       ...       ...       ...       ...       ...   \n",
              "912 -0.902124 -0.516309 -2.418822 -1.252973  0.363191 -0.551733 -0.749818   \n",
              "913  1.536257 -0.516309  0.803541  0.636973 -0.968441  1.812470 -0.749818   \n",
              "914  0.370075 -0.516309  0.803541 -0.141240 -2.131275 -0.551733 -0.749818   \n",
              "915  0.370075  1.936826 -1.344701 -0.141240 -0.161960 -0.551733  1.732430   \n",
              "916 -1.644239 -0.516309 -0.270580  0.303453 -1.306038 -0.551733 -0.749818   \n",
              "\n",
              "           7         8         9         10  \n",
              "0    1.383339 -0.824310 -0.831502 -1.051095  \n",
              "1    0.754736 -0.824310  0.106251  0.596519  \n",
              "2   -1.523953 -0.824310 -0.831502 -1.051095  \n",
              "3   -1.131075  1.213136  0.575128  0.596519  \n",
              "4   -0.581047 -0.824310 -0.831502 -1.051095  \n",
              "..        ...       ...       ...       ...  \n",
              "912 -0.188170 -0.824310  0.293802  0.596519  \n",
              "913  0.165420 -0.824310  2.356860  0.596519  \n",
              "914 -0.856061  1.213136  0.293802  0.596519  \n",
              "915  1.461915 -0.824310 -0.831502  0.596519  \n",
              "916  1.422627 -0.824310 -0.831502 -1.051095  \n",
              "\n",
              "[917 rows x 11 columns]"
            ],
            "text/html": [
              "\n",
              "  <div id=\"df-5351da59-44da-4464-be6f-4f538d83fa8d\">\n",
              "    <div class=\"colab-df-container\">\n",
              "      <div>\n",
              "<style scoped>\n",
              "    .dataframe tbody tr th:only-of-type {\n",
              "        vertical-align: middle;\n",
              "    }\n",
              "\n",
              "    .dataframe tbody tr th {\n",
              "        vertical-align: top;\n",
              "    }\n",
              "\n",
              "    .dataframe thead th {\n",
              "        text-align: right;\n",
              "    }\n",
              "</style>\n",
              "<table border=\"1\" class=\"dataframe\">\n",
              "  <thead>\n",
              "    <tr style=\"text-align: right;\">\n",
              "      <th></th>\n",
              "      <th>0</th>\n",
              "      <th>1</th>\n",
              "      <th>2</th>\n",
              "      <th>3</th>\n",
              "      <th>4</th>\n",
              "      <th>5</th>\n",
              "      <th>6</th>\n",
              "      <th>7</th>\n",
              "      <th>8</th>\n",
              "      <th>9</th>\n",
              "      <th>10</th>\n",
              "    </tr>\n",
              "  </thead>\n",
              "  <tbody>\n",
              "    <tr>\n",
              "      <th>0</th>\n",
              "      <td>-1.432206</td>\n",
              "      <td>-0.516309</td>\n",
              "      <td>-1.344701</td>\n",
              "      <td>0.414627</td>\n",
              "      <td>0.832075</td>\n",
              "      <td>-0.551733</td>\n",
              "      <td>-0.749818</td>\n",
              "      <td>1.383339</td>\n",
              "      <td>-0.824310</td>\n",
              "      <td>-0.831502</td>\n",
              "      <td>-1.051095</td>\n",
              "    </tr>\n",
              "    <tr>\n",
              "      <th>1</th>\n",
              "      <td>-0.478057</td>\n",
              "      <td>1.936826</td>\n",
              "      <td>-0.270580</td>\n",
              "      <td>1.526360</td>\n",
              "      <td>-1.212261</td>\n",
              "      <td>-0.551733</td>\n",
              "      <td>-0.749818</td>\n",
              "      <td>0.754736</td>\n",
              "      <td>-0.824310</td>\n",
              "      <td>0.106251</td>\n",
              "      <td>0.596519</td>\n",
              "    </tr>\n",
              "    <tr>\n",
              "      <th>2</th>\n",
              "      <td>-1.750256</td>\n",
              "      <td>-0.516309</td>\n",
              "      <td>-1.344701</td>\n",
              "      <td>-0.141240</td>\n",
              "      <td>0.719543</td>\n",
              "      <td>-0.551733</td>\n",
              "      <td>0.491306</td>\n",
              "      <td>-1.523953</td>\n",
              "      <td>-0.824310</td>\n",
              "      <td>-0.831502</td>\n",
              "      <td>-1.051095</td>\n",
              "    </tr>\n",
              "    <tr>\n",
              "      <th>3</th>\n",
              "      <td>-0.584074</td>\n",
              "      <td>1.936826</td>\n",
              "      <td>0.803541</td>\n",
              "      <td>0.303453</td>\n",
              "      <td>-0.574578</td>\n",
              "      <td>-0.551733</td>\n",
              "      <td>-0.749818</td>\n",
              "      <td>-1.131075</td>\n",
              "      <td>1.213136</td>\n",
              "      <td>0.575128</td>\n",
              "      <td>0.596519</td>\n",
              "    </tr>\n",
              "    <tr>\n",
              "      <th>4</th>\n",
              "      <td>0.052026</td>\n",
              "      <td>-0.516309</td>\n",
              "      <td>-0.270580</td>\n",
              "      <td>0.970493</td>\n",
              "      <td>-0.930931</td>\n",
              "      <td>-0.551733</td>\n",
              "      <td>-0.749818</td>\n",
              "      <td>-0.581047</td>\n",
              "      <td>-0.824310</td>\n",
              "      <td>-0.831502</td>\n",
              "      <td>-1.051095</td>\n",
              "    </tr>\n",
              "    <tr>\n",
              "      <th>...</th>\n",
              "      <td>...</td>\n",
              "      <td>...</td>\n",
              "      <td>...</td>\n",
              "      <td>...</td>\n",
              "      <td>...</td>\n",
              "      <td>...</td>\n",
              "      <td>...</td>\n",
              "      <td>...</td>\n",
              "      <td>...</td>\n",
              "      <td>...</td>\n",
              "      <td>...</td>\n",
              "    </tr>\n",
              "    <tr>\n",
              "      <th>912</th>\n",
              "      <td>-0.902124</td>\n",
              "      <td>-0.516309</td>\n",
              "      <td>-2.418822</td>\n",
              "      <td>-1.252973</td>\n",
              "      <td>0.363191</td>\n",
              "      <td>-0.551733</td>\n",
              "      <td>-0.749818</td>\n",
              "      <td>-0.188170</td>\n",
              "      <td>-0.824310</td>\n",
              "      <td>0.293802</td>\n",
              "      <td>0.596519</td>\n",
              "    </tr>\n",
              "    <tr>\n",
              "      <th>913</th>\n",
              "      <td>1.536257</td>\n",
              "      <td>-0.516309</td>\n",
              "      <td>0.803541</td>\n",
              "      <td>0.636973</td>\n",
              "      <td>-0.968441</td>\n",
              "      <td>1.812470</td>\n",
              "      <td>-0.749818</td>\n",
              "      <td>0.165420</td>\n",
              "      <td>-0.824310</td>\n",
              "      <td>2.356860</td>\n",
              "      <td>0.596519</td>\n",
              "    </tr>\n",
              "    <tr>\n",
              "      <th>914</th>\n",
              "      <td>0.370075</td>\n",
              "      <td>-0.516309</td>\n",
              "      <td>0.803541</td>\n",
              "      <td>-0.141240</td>\n",
              "      <td>-2.131275</td>\n",
              "      <td>-0.551733</td>\n",
              "      <td>-0.749818</td>\n",
              "      <td>-0.856061</td>\n",
              "      <td>1.213136</td>\n",
              "      <td>0.293802</td>\n",
              "      <td>0.596519</td>\n",
              "    </tr>\n",
              "    <tr>\n",
              "      <th>915</th>\n",
              "      <td>0.370075</td>\n",
              "      <td>1.936826</td>\n",
              "      <td>-1.344701</td>\n",
              "      <td>-0.141240</td>\n",
              "      <td>-0.161960</td>\n",
              "      <td>-0.551733</td>\n",
              "      <td>1.732430</td>\n",
              "      <td>1.461915</td>\n",
              "      <td>-0.824310</td>\n",
              "      <td>-0.831502</td>\n",
              "      <td>0.596519</td>\n",
              "    </tr>\n",
              "    <tr>\n",
              "      <th>916</th>\n",
              "      <td>-1.644239</td>\n",
              "      <td>-0.516309</td>\n",
              "      <td>-0.270580</td>\n",
              "      <td>0.303453</td>\n",
              "      <td>-1.306038</td>\n",
              "      <td>-0.551733</td>\n",
              "      <td>-0.749818</td>\n",
              "      <td>1.422627</td>\n",
              "      <td>-0.824310</td>\n",
              "      <td>-0.831502</td>\n",
              "      <td>-1.051095</td>\n",
              "    </tr>\n",
              "  </tbody>\n",
              "</table>\n",
              "<p>917 rows × 11 columns</p>\n",
              "</div>\n",
              "      <button class=\"colab-df-convert\" onclick=\"convertToInteractive('df-5351da59-44da-4464-be6f-4f538d83fa8d')\"\n",
              "              title=\"Convert this dataframe to an interactive table.\"\n",
              "              style=\"display:none;\">\n",
              "        \n",
              "  <svg xmlns=\"http://www.w3.org/2000/svg\" height=\"24px\"viewBox=\"0 0 24 24\"\n",
              "       width=\"24px\">\n",
              "    <path d=\"M0 0h24v24H0V0z\" fill=\"none\"/>\n",
              "    <path d=\"M18.56 5.44l.94 2.06.94-2.06 2.06-.94-2.06-.94-.94-2.06-.94 2.06-2.06.94zm-11 1L8.5 8.5l.94-2.06 2.06-.94-2.06-.94L8.5 2.5l-.94 2.06-2.06.94zm10 10l.94 2.06.94-2.06 2.06-.94-2.06-.94-.94-2.06-.94 2.06-2.06.94z\"/><path d=\"M17.41 7.96l-1.37-1.37c-.4-.4-.92-.59-1.43-.59-.52 0-1.04.2-1.43.59L10.3 9.45l-7.72 7.72c-.78.78-.78 2.05 0 2.83L4 21.41c.39.39.9.59 1.41.59.51 0 1.02-.2 1.41-.59l7.78-7.78 2.81-2.81c.8-.78.8-2.07 0-2.86zM5.41 20L4 18.59l7.72-7.72 1.47 1.35L5.41 20z\"/>\n",
              "  </svg>\n",
              "      </button>\n",
              "      \n",
              "  <style>\n",
              "    .colab-df-container {\n",
              "      display:flex;\n",
              "      flex-wrap:wrap;\n",
              "      gap: 12px;\n",
              "    }\n",
              "\n",
              "    .colab-df-convert {\n",
              "      background-color: #E8F0FE;\n",
              "      border: none;\n",
              "      border-radius: 50%;\n",
              "      cursor: pointer;\n",
              "      display: none;\n",
              "      fill: #1967D2;\n",
              "      height: 32px;\n",
              "      padding: 0 0 0 0;\n",
              "      width: 32px;\n",
              "    }\n",
              "\n",
              "    .colab-df-convert:hover {\n",
              "      background-color: #E2EBFA;\n",
              "      box-shadow: 0px 1px 2px rgba(60, 64, 67, 0.3), 0px 1px 3px 1px rgba(60, 64, 67, 0.15);\n",
              "      fill: #174EA6;\n",
              "    }\n",
              "\n",
              "    [theme=dark] .colab-df-convert {\n",
              "      background-color: #3B4455;\n",
              "      fill: #D2E3FC;\n",
              "    }\n",
              "\n",
              "    [theme=dark] .colab-df-convert:hover {\n",
              "      background-color: #434B5C;\n",
              "      box-shadow: 0px 1px 3px 1px rgba(0, 0, 0, 0.15);\n",
              "      filter: drop-shadow(0px 1px 2px rgba(0, 0, 0, 0.3));\n",
              "      fill: #FFFFFF;\n",
              "    }\n",
              "  </style>\n",
              "\n",
              "      <script>\n",
              "        const buttonEl =\n",
              "          document.querySelector('#df-5351da59-44da-4464-be6f-4f538d83fa8d button.colab-df-convert');\n",
              "        buttonEl.style.display =\n",
              "          google.colab.kernel.accessAllowed ? 'block' : 'none';\n",
              "\n",
              "        async function convertToInteractive(key) {\n",
              "          const element = document.querySelector('#df-5351da59-44da-4464-be6f-4f538d83fa8d');\n",
              "          const dataTable =\n",
              "            await google.colab.kernel.invokeFunction('convertToInteractive',\n",
              "                                                     [key], {});\n",
              "          if (!dataTable) return;\n",
              "\n",
              "          const docLinkHtml = 'Like what you see? Visit the ' +\n",
              "            '<a target=\"_blank\" href=https://colab.research.google.com/notebooks/data_table.ipynb>data table notebook</a>'\n",
              "            + ' to learn more about interactive tables.';\n",
              "          element.innerHTML = '';\n",
              "          dataTable['output_type'] = 'display_data';\n",
              "          await google.colab.output.renderOutput(dataTable, element);\n",
              "          const docLink = document.createElement('div');\n",
              "          docLink.innerHTML = docLinkHtml;\n",
              "          element.appendChild(docLink);\n",
              "        }\n",
              "      </script>\n",
              "    </div>\n",
              "  </div>\n",
              "  "
            ]
          },
          "metadata": {},
          "execution_count": 21
        }
      ]
    },
    {
      "cell_type": "code",
      "source": [
        "previsoresdf.describe()"
      ],
      "metadata": {
        "id": "cXVXsyAtFWSo",
        "colab": {
          "base_uri": "https://localhost:8080/",
          "height": 0
        },
        "outputId": "d616874d-3c1a-48d7-e39d-b8ce33a0f482"
      },
      "execution_count": 22,
      "outputs": [
        {
          "output_type": "execute_result",
          "data": {
            "text/plain": [
              "                 0             1             2             3             4   \\\n",
              "count  9.170000e+02  9.170000e+02  9.170000e+02  9.170000e+02  9.170000e+02   \n",
              "mean   1.859654e-16  7.748558e-18  1.046055e-16  7.767929e-16 -1.869340e-16   \n",
              "std    1.000546e+00  1.000546e+00  1.000546e+00  1.000546e+00  1.000546e+00   \n",
              "min   -2.704405e+00 -5.163086e-01 -2.418822e+00 -2.920572e+00 -2.994023e+00   \n",
              "25%   -6.900904e-01 -5.163086e-01 -2.705801e-01 -6.971063e-01 -5.745784e-01   \n",
              "50%    5.202558e-02 -5.163086e-01  8.035410e-01 -1.412398e-01  0.000000e+00   \n",
              "75%    6.881250e-01 -5.163086e-01  8.035410e-01  4.146267e-01  4.194568e-01   \n",
              "max    2.490407e+00  1.936826e+00  8.035410e-01  3.749826e+00  6.721265e+00   \n",
              "\n",
              "                 5           6             7             8             9   \\\n",
              "count  9.170000e+02  917.000000  9.170000e+02  9.170000e+02  9.170000e+02   \n",
              "mean   4.649135e-17    0.000000 -5.114048e-16 -1.046055e-16  7.748558e-17   \n",
              "std    1.000546e+00    1.000546  1.000546e+00  1.000546e+00  1.000546e+00   \n",
              "min   -5.517333e-01   -0.749818 -3.016886e+00 -8.243101e-01 -3.269662e+00   \n",
              "25%   -5.517333e-01   -0.749818 -6.596226e-01 -8.243101e-01 -8.315022e-01   \n",
              "50%   -5.517333e-01   -0.749818  4.755658e-02 -8.243101e-01 -2.688500e-01   \n",
              "75%   -5.517333e-01    0.491306  7.547357e-01  1.213136e+00  5.751284e-01   \n",
              "max    1.812470e+00    1.732430  2.561971e+00  1.213136e+00  4.982571e+00   \n",
              "\n",
              "                 10  \n",
              "count  9.170000e+02  \n",
              "mean  -3.874279e-17  \n",
              "std    1.000546e+00  \n",
              "min   -1.051095e+00  \n",
              "25%   -1.051095e+00  \n",
              "50%    5.965186e-01  \n",
              "75%    5.965186e-01  \n",
              "max    2.244132e+00  "
            ],
            "text/html": [
              "\n",
              "  <div id=\"df-6a66d447-a18d-4a16-9b02-36f4fde6d232\">\n",
              "    <div class=\"colab-df-container\">\n",
              "      <div>\n",
              "<style scoped>\n",
              "    .dataframe tbody tr th:only-of-type {\n",
              "        vertical-align: middle;\n",
              "    }\n",
              "\n",
              "    .dataframe tbody tr th {\n",
              "        vertical-align: top;\n",
              "    }\n",
              "\n",
              "    .dataframe thead th {\n",
              "        text-align: right;\n",
              "    }\n",
              "</style>\n",
              "<table border=\"1\" class=\"dataframe\">\n",
              "  <thead>\n",
              "    <tr style=\"text-align: right;\">\n",
              "      <th></th>\n",
              "      <th>0</th>\n",
              "      <th>1</th>\n",
              "      <th>2</th>\n",
              "      <th>3</th>\n",
              "      <th>4</th>\n",
              "      <th>5</th>\n",
              "      <th>6</th>\n",
              "      <th>7</th>\n",
              "      <th>8</th>\n",
              "      <th>9</th>\n",
              "      <th>10</th>\n",
              "    </tr>\n",
              "  </thead>\n",
              "  <tbody>\n",
              "    <tr>\n",
              "      <th>count</th>\n",
              "      <td>9.170000e+02</td>\n",
              "      <td>9.170000e+02</td>\n",
              "      <td>9.170000e+02</td>\n",
              "      <td>9.170000e+02</td>\n",
              "      <td>9.170000e+02</td>\n",
              "      <td>9.170000e+02</td>\n",
              "      <td>917.000000</td>\n",
              "      <td>9.170000e+02</td>\n",
              "      <td>9.170000e+02</td>\n",
              "      <td>9.170000e+02</td>\n",
              "      <td>9.170000e+02</td>\n",
              "    </tr>\n",
              "    <tr>\n",
              "      <th>mean</th>\n",
              "      <td>1.859654e-16</td>\n",
              "      <td>7.748558e-18</td>\n",
              "      <td>1.046055e-16</td>\n",
              "      <td>7.767929e-16</td>\n",
              "      <td>-1.869340e-16</td>\n",
              "      <td>4.649135e-17</td>\n",
              "      <td>0.000000</td>\n",
              "      <td>-5.114048e-16</td>\n",
              "      <td>-1.046055e-16</td>\n",
              "      <td>7.748558e-17</td>\n",
              "      <td>-3.874279e-17</td>\n",
              "    </tr>\n",
              "    <tr>\n",
              "      <th>std</th>\n",
              "      <td>1.000546e+00</td>\n",
              "      <td>1.000546e+00</td>\n",
              "      <td>1.000546e+00</td>\n",
              "      <td>1.000546e+00</td>\n",
              "      <td>1.000546e+00</td>\n",
              "      <td>1.000546e+00</td>\n",
              "      <td>1.000546</td>\n",
              "      <td>1.000546e+00</td>\n",
              "      <td>1.000546e+00</td>\n",
              "      <td>1.000546e+00</td>\n",
              "      <td>1.000546e+00</td>\n",
              "    </tr>\n",
              "    <tr>\n",
              "      <th>min</th>\n",
              "      <td>-2.704405e+00</td>\n",
              "      <td>-5.163086e-01</td>\n",
              "      <td>-2.418822e+00</td>\n",
              "      <td>-2.920572e+00</td>\n",
              "      <td>-2.994023e+00</td>\n",
              "      <td>-5.517333e-01</td>\n",
              "      <td>-0.749818</td>\n",
              "      <td>-3.016886e+00</td>\n",
              "      <td>-8.243101e-01</td>\n",
              "      <td>-3.269662e+00</td>\n",
              "      <td>-1.051095e+00</td>\n",
              "    </tr>\n",
              "    <tr>\n",
              "      <th>25%</th>\n",
              "      <td>-6.900904e-01</td>\n",
              "      <td>-5.163086e-01</td>\n",
              "      <td>-2.705801e-01</td>\n",
              "      <td>-6.971063e-01</td>\n",
              "      <td>-5.745784e-01</td>\n",
              "      <td>-5.517333e-01</td>\n",
              "      <td>-0.749818</td>\n",
              "      <td>-6.596226e-01</td>\n",
              "      <td>-8.243101e-01</td>\n",
              "      <td>-8.315022e-01</td>\n",
              "      <td>-1.051095e+00</td>\n",
              "    </tr>\n",
              "    <tr>\n",
              "      <th>50%</th>\n",
              "      <td>5.202558e-02</td>\n",
              "      <td>-5.163086e-01</td>\n",
              "      <td>8.035410e-01</td>\n",
              "      <td>-1.412398e-01</td>\n",
              "      <td>0.000000e+00</td>\n",
              "      <td>-5.517333e-01</td>\n",
              "      <td>-0.749818</td>\n",
              "      <td>4.755658e-02</td>\n",
              "      <td>-8.243101e-01</td>\n",
              "      <td>-2.688500e-01</td>\n",
              "      <td>5.965186e-01</td>\n",
              "    </tr>\n",
              "    <tr>\n",
              "      <th>75%</th>\n",
              "      <td>6.881250e-01</td>\n",
              "      <td>-5.163086e-01</td>\n",
              "      <td>8.035410e-01</td>\n",
              "      <td>4.146267e-01</td>\n",
              "      <td>4.194568e-01</td>\n",
              "      <td>-5.517333e-01</td>\n",
              "      <td>0.491306</td>\n",
              "      <td>7.547357e-01</td>\n",
              "      <td>1.213136e+00</td>\n",
              "      <td>5.751284e-01</td>\n",
              "      <td>5.965186e-01</td>\n",
              "    </tr>\n",
              "    <tr>\n",
              "      <th>max</th>\n",
              "      <td>2.490407e+00</td>\n",
              "      <td>1.936826e+00</td>\n",
              "      <td>8.035410e-01</td>\n",
              "      <td>3.749826e+00</td>\n",
              "      <td>6.721265e+00</td>\n",
              "      <td>1.812470e+00</td>\n",
              "      <td>1.732430</td>\n",
              "      <td>2.561971e+00</td>\n",
              "      <td>1.213136e+00</td>\n",
              "      <td>4.982571e+00</td>\n",
              "      <td>2.244132e+00</td>\n",
              "    </tr>\n",
              "  </tbody>\n",
              "</table>\n",
              "</div>\n",
              "      <button class=\"colab-df-convert\" onclick=\"convertToInteractive('df-6a66d447-a18d-4a16-9b02-36f4fde6d232')\"\n",
              "              title=\"Convert this dataframe to an interactive table.\"\n",
              "              style=\"display:none;\">\n",
              "        \n",
              "  <svg xmlns=\"http://www.w3.org/2000/svg\" height=\"24px\"viewBox=\"0 0 24 24\"\n",
              "       width=\"24px\">\n",
              "    <path d=\"M0 0h24v24H0V0z\" fill=\"none\"/>\n",
              "    <path d=\"M18.56 5.44l.94 2.06.94-2.06 2.06-.94-2.06-.94-.94-2.06-.94 2.06-2.06.94zm-11 1L8.5 8.5l.94-2.06 2.06-.94-2.06-.94L8.5 2.5l-.94 2.06-2.06.94zm10 10l.94 2.06.94-2.06 2.06-.94-2.06-.94-.94-2.06-.94 2.06-2.06.94z\"/><path d=\"M17.41 7.96l-1.37-1.37c-.4-.4-.92-.59-1.43-.59-.52 0-1.04.2-1.43.59L10.3 9.45l-7.72 7.72c-.78.78-.78 2.05 0 2.83L4 21.41c.39.39.9.59 1.41.59.51 0 1.02-.2 1.41-.59l7.78-7.78 2.81-2.81c.8-.78.8-2.07 0-2.86zM5.41 20L4 18.59l7.72-7.72 1.47 1.35L5.41 20z\"/>\n",
              "  </svg>\n",
              "      </button>\n",
              "      \n",
              "  <style>\n",
              "    .colab-df-container {\n",
              "      display:flex;\n",
              "      flex-wrap:wrap;\n",
              "      gap: 12px;\n",
              "    }\n",
              "\n",
              "    .colab-df-convert {\n",
              "      background-color: #E8F0FE;\n",
              "      border: none;\n",
              "      border-radius: 50%;\n",
              "      cursor: pointer;\n",
              "      display: none;\n",
              "      fill: #1967D2;\n",
              "      height: 32px;\n",
              "      padding: 0 0 0 0;\n",
              "      width: 32px;\n",
              "    }\n",
              "\n",
              "    .colab-df-convert:hover {\n",
              "      background-color: #E2EBFA;\n",
              "      box-shadow: 0px 1px 2px rgba(60, 64, 67, 0.3), 0px 1px 3px 1px rgba(60, 64, 67, 0.15);\n",
              "      fill: #174EA6;\n",
              "    }\n",
              "\n",
              "    [theme=dark] .colab-df-convert {\n",
              "      background-color: #3B4455;\n",
              "      fill: #D2E3FC;\n",
              "    }\n",
              "\n",
              "    [theme=dark] .colab-df-convert:hover {\n",
              "      background-color: #434B5C;\n",
              "      box-shadow: 0px 1px 3px 1px rgba(0, 0, 0, 0.15);\n",
              "      filter: drop-shadow(0px 1px 2px rgba(0, 0, 0, 0.3));\n",
              "      fill: #FFFFFF;\n",
              "    }\n",
              "  </style>\n",
              "\n",
              "      <script>\n",
              "        const buttonEl =\n",
              "          document.querySelector('#df-6a66d447-a18d-4a16-9b02-36f4fde6d232 button.colab-df-convert');\n",
              "        buttonEl.style.display =\n",
              "          google.colab.kernel.accessAllowed ? 'block' : 'none';\n",
              "\n",
              "        async function convertToInteractive(key) {\n",
              "          const element = document.querySelector('#df-6a66d447-a18d-4a16-9b02-36f4fde6d232');\n",
              "          const dataTable =\n",
              "            await google.colab.kernel.invokeFunction('convertToInteractive',\n",
              "                                                     [key], {});\n",
              "          if (!dataTable) return;\n",
              "\n",
              "          const docLinkHtml = 'Like what you see? Visit the ' +\n",
              "            '<a target=\"_blank\" href=https://colab.research.google.com/notebooks/data_table.ipynb>data table notebook</a>'\n",
              "            + ' to learn more about interactive tables.';\n",
              "          element.innerHTML = '';\n",
              "          dataTable['output_type'] = 'display_data';\n",
              "          await google.colab.output.renderOutput(dataTable, element);\n",
              "          const docLink = document.createElement('div');\n",
              "          docLink.innerHTML = docLinkHtml;\n",
              "          element.appendChild(docLink);\n",
              "        }\n",
              "      </script>\n",
              "    </div>\n",
              "  </div>\n",
              "  "
            ]
          },
          "metadata": {},
          "execution_count": 22
        }
      ]
    },
    {
      "cell_type": "markdown",
      "source": [
        "## **Codificação de variáveis categóricas**"
      ],
      "metadata": {
        "id": "HU3ZNfuI0BaL"
      }
    },
    {
      "cell_type": "markdown",
      "source": [
        "### **LabelEncoder: transformação de variáveis categóricas em numéricas**\n"
      ],
      "metadata": {
        "id": "lPObOxwx0Qy5"
      }
    },
    {
      "cell_type": "code",
      "source": [
        "from sklearn.preprocessing import LabelEncoder"
      ],
      "metadata": {
        "id": "oLt4fZ620l-5"
      },
      "execution_count": 23,
      "outputs": []
    },
    {
      "cell_type": "code",
      "source": [
        "df.head()"
      ],
      "metadata": {
        "id": "oJc1Q36h1Ls_",
        "colab": {
          "base_uri": "https://localhost:8080/",
          "height": 0
        },
        "outputId": "2daf92cc-733c-4ee6-c178-427ac3dc4090"
      },
      "execution_count": 24,
      "outputs": [
        {
          "output_type": "execute_result",
          "data": {
            "text/plain": [
              "   Age Sex ChestPainType  RestingBP  Cholesterol  FastingBS RestingECG  MaxHR  \\\n",
              "0   40   M           ATA        140        289.0          0     Normal    172   \n",
              "1   49   F           NAP        160        180.0          0     Normal    156   \n",
              "2   37   M           ATA        130        283.0          0         ST     98   \n",
              "3   48   F           ASY        138        214.0          0     Normal    108   \n",
              "4   54   M           NAP        150        195.0          0     Normal    122   \n",
              "\n",
              "  ExerciseAngina  Oldpeak ST_Slope  HeartDisease  \n",
              "0              N      0.0       Up             0  \n",
              "1              N      1.0     Flat             1  \n",
              "2              N      0.0       Up             0  \n",
              "3              Y      1.5     Flat             1  \n",
              "4              N      0.0       Up             0  "
            ],
            "text/html": [
              "\n",
              "  <div id=\"df-f323d297-9494-4838-b142-c6e797ac2b31\">\n",
              "    <div class=\"colab-df-container\">\n",
              "      <div>\n",
              "<style scoped>\n",
              "    .dataframe tbody tr th:only-of-type {\n",
              "        vertical-align: middle;\n",
              "    }\n",
              "\n",
              "    .dataframe tbody tr th {\n",
              "        vertical-align: top;\n",
              "    }\n",
              "\n",
              "    .dataframe thead th {\n",
              "        text-align: right;\n",
              "    }\n",
              "</style>\n",
              "<table border=\"1\" class=\"dataframe\">\n",
              "  <thead>\n",
              "    <tr style=\"text-align: right;\">\n",
              "      <th></th>\n",
              "      <th>Age</th>\n",
              "      <th>Sex</th>\n",
              "      <th>ChestPainType</th>\n",
              "      <th>RestingBP</th>\n",
              "      <th>Cholesterol</th>\n",
              "      <th>FastingBS</th>\n",
              "      <th>RestingECG</th>\n",
              "      <th>MaxHR</th>\n",
              "      <th>ExerciseAngina</th>\n",
              "      <th>Oldpeak</th>\n",
              "      <th>ST_Slope</th>\n",
              "      <th>HeartDisease</th>\n",
              "    </tr>\n",
              "  </thead>\n",
              "  <tbody>\n",
              "    <tr>\n",
              "      <th>0</th>\n",
              "      <td>40</td>\n",
              "      <td>M</td>\n",
              "      <td>ATA</td>\n",
              "      <td>140</td>\n",
              "      <td>289.0</td>\n",
              "      <td>0</td>\n",
              "      <td>Normal</td>\n",
              "      <td>172</td>\n",
              "      <td>N</td>\n",
              "      <td>0.0</td>\n",
              "      <td>Up</td>\n",
              "      <td>0</td>\n",
              "    </tr>\n",
              "    <tr>\n",
              "      <th>1</th>\n",
              "      <td>49</td>\n",
              "      <td>F</td>\n",
              "      <td>NAP</td>\n",
              "      <td>160</td>\n",
              "      <td>180.0</td>\n",
              "      <td>0</td>\n",
              "      <td>Normal</td>\n",
              "      <td>156</td>\n",
              "      <td>N</td>\n",
              "      <td>1.0</td>\n",
              "      <td>Flat</td>\n",
              "      <td>1</td>\n",
              "    </tr>\n",
              "    <tr>\n",
              "      <th>2</th>\n",
              "      <td>37</td>\n",
              "      <td>M</td>\n",
              "      <td>ATA</td>\n",
              "      <td>130</td>\n",
              "      <td>283.0</td>\n",
              "      <td>0</td>\n",
              "      <td>ST</td>\n",
              "      <td>98</td>\n",
              "      <td>N</td>\n",
              "      <td>0.0</td>\n",
              "      <td>Up</td>\n",
              "      <td>0</td>\n",
              "    </tr>\n",
              "    <tr>\n",
              "      <th>3</th>\n",
              "      <td>48</td>\n",
              "      <td>F</td>\n",
              "      <td>ASY</td>\n",
              "      <td>138</td>\n",
              "      <td>214.0</td>\n",
              "      <td>0</td>\n",
              "      <td>Normal</td>\n",
              "      <td>108</td>\n",
              "      <td>Y</td>\n",
              "      <td>1.5</td>\n",
              "      <td>Flat</td>\n",
              "      <td>1</td>\n",
              "    </tr>\n",
              "    <tr>\n",
              "      <th>4</th>\n",
              "      <td>54</td>\n",
              "      <td>M</td>\n",
              "      <td>NAP</td>\n",
              "      <td>150</td>\n",
              "      <td>195.0</td>\n",
              "      <td>0</td>\n",
              "      <td>Normal</td>\n",
              "      <td>122</td>\n",
              "      <td>N</td>\n",
              "      <td>0.0</td>\n",
              "      <td>Up</td>\n",
              "      <td>0</td>\n",
              "    </tr>\n",
              "  </tbody>\n",
              "</table>\n",
              "</div>\n",
              "      <button class=\"colab-df-convert\" onclick=\"convertToInteractive('df-f323d297-9494-4838-b142-c6e797ac2b31')\"\n",
              "              title=\"Convert this dataframe to an interactive table.\"\n",
              "              style=\"display:none;\">\n",
              "        \n",
              "  <svg xmlns=\"http://www.w3.org/2000/svg\" height=\"24px\"viewBox=\"0 0 24 24\"\n",
              "       width=\"24px\">\n",
              "    <path d=\"M0 0h24v24H0V0z\" fill=\"none\"/>\n",
              "    <path d=\"M18.56 5.44l.94 2.06.94-2.06 2.06-.94-2.06-.94-.94-2.06-.94 2.06-2.06.94zm-11 1L8.5 8.5l.94-2.06 2.06-.94-2.06-.94L8.5 2.5l-.94 2.06-2.06.94zm10 10l.94 2.06.94-2.06 2.06-.94-2.06-.94-.94-2.06-.94 2.06-2.06.94z\"/><path d=\"M17.41 7.96l-1.37-1.37c-.4-.4-.92-.59-1.43-.59-.52 0-1.04.2-1.43.59L10.3 9.45l-7.72 7.72c-.78.78-.78 2.05 0 2.83L4 21.41c.39.39.9.59 1.41.59.51 0 1.02-.2 1.41-.59l7.78-7.78 2.81-2.81c.8-.78.8-2.07 0-2.86zM5.41 20L4 18.59l7.72-7.72 1.47 1.35L5.41 20z\"/>\n",
              "  </svg>\n",
              "      </button>\n",
              "      \n",
              "  <style>\n",
              "    .colab-df-container {\n",
              "      display:flex;\n",
              "      flex-wrap:wrap;\n",
              "      gap: 12px;\n",
              "    }\n",
              "\n",
              "    .colab-df-convert {\n",
              "      background-color: #E8F0FE;\n",
              "      border: none;\n",
              "      border-radius: 50%;\n",
              "      cursor: pointer;\n",
              "      display: none;\n",
              "      fill: #1967D2;\n",
              "      height: 32px;\n",
              "      padding: 0 0 0 0;\n",
              "      width: 32px;\n",
              "    }\n",
              "\n",
              "    .colab-df-convert:hover {\n",
              "      background-color: #E2EBFA;\n",
              "      box-shadow: 0px 1px 2px rgba(60, 64, 67, 0.3), 0px 1px 3px 1px rgba(60, 64, 67, 0.15);\n",
              "      fill: #174EA6;\n",
              "    }\n",
              "\n",
              "    [theme=dark] .colab-df-convert {\n",
              "      background-color: #3B4455;\n",
              "      fill: #D2E3FC;\n",
              "    }\n",
              "\n",
              "    [theme=dark] .colab-df-convert:hover {\n",
              "      background-color: #434B5C;\n",
              "      box-shadow: 0px 1px 3px 1px rgba(0, 0, 0, 0.15);\n",
              "      filter: drop-shadow(0px 1px 2px rgba(0, 0, 0, 0.3));\n",
              "      fill: #FFFFFF;\n",
              "    }\n",
              "  </style>\n",
              "\n",
              "      <script>\n",
              "        const buttonEl =\n",
              "          document.querySelector('#df-f323d297-9494-4838-b142-c6e797ac2b31 button.colab-df-convert');\n",
              "        buttonEl.style.display =\n",
              "          google.colab.kernel.accessAllowed ? 'block' : 'none';\n",
              "\n",
              "        async function convertToInteractive(key) {\n",
              "          const element = document.querySelector('#df-f323d297-9494-4838-b142-c6e797ac2b31');\n",
              "          const dataTable =\n",
              "            await google.colab.kernel.invokeFunction('convertToInteractive',\n",
              "                                                     [key], {});\n",
              "          if (!dataTable) return;\n",
              "\n",
              "          const docLinkHtml = 'Like what you see? Visit the ' +\n",
              "            '<a target=\"_blank\" href=https://colab.research.google.com/notebooks/data_table.ipynb>data table notebook</a>'\n",
              "            + ' to learn more about interactive tables.';\n",
              "          element.innerHTML = '';\n",
              "          dataTable['output_type'] = 'display_data';\n",
              "          await google.colab.output.renderOutput(dataTable, element);\n",
              "          const docLink = document.createElement('div');\n",
              "          docLink.innerHTML = docLinkHtml;\n",
              "          element.appendChild(docLink);\n",
              "        }\n",
              "      </script>\n",
              "    </div>\n",
              "  </div>\n",
              "  "
            ]
          },
          "metadata": {},
          "execution_count": 24
        }
      ]
    },
    {
      "cell_type": "code",
      "source": [
        "previsores2 = df.iloc[:, 0:11].values\n",
        "previsores2"
      ],
      "metadata": {
        "id": "0VFq4NJ_181-",
        "colab": {
          "base_uri": "https://localhost:8080/"
        },
        "outputId": "356ab27a-6882-4821-bbc3-b56dff974430"
      },
      "execution_count": 25,
      "outputs": [
        {
          "output_type": "execute_result",
          "data": {
            "text/plain": [
              "array([[40, 'M', 'ATA', ..., 'N', 0.0, 'Up'],\n",
              "       [49, 'F', 'NAP', ..., 'N', 1.0, 'Flat'],\n",
              "       [37, 'M', 'ATA', ..., 'N', 0.0, 'Up'],\n",
              "       ...,\n",
              "       [57, 'M', 'ASY', ..., 'Y', 1.2, 'Flat'],\n",
              "       [57, 'F', 'ATA', ..., 'N', 0.0, 'Flat'],\n",
              "       [38, 'M', 'NAP', ..., 'N', 0.0, 'Up']], dtype=object)"
            ]
          },
          "metadata": {},
          "execution_count": 25
        }
      ]
    },
    {
      "cell_type": "code",
      "source": [
        "previsores2[:,1] = LabelEncoder().fit_transform(previsores2[:,1])"
      ],
      "metadata": {
        "id": "36oIQ8I10nin"
      },
      "execution_count": 26,
      "outputs": []
    },
    {
      "cell_type": "code",
      "source": [
        "previsores2"
      ],
      "metadata": {
        "id": "IZQuLVsb1kMW",
        "colab": {
          "base_uri": "https://localhost:8080/"
        },
        "outputId": "2e2e1a77-666e-414f-8b5d-3c18e2f1258f"
      },
      "execution_count": 27,
      "outputs": [
        {
          "output_type": "execute_result",
          "data": {
            "text/plain": [
              "array([[40, 1, 'ATA', ..., 'N', 0.0, 'Up'],\n",
              "       [49, 0, 'NAP', ..., 'N', 1.0, 'Flat'],\n",
              "       [37, 1, 'ATA', ..., 'N', 0.0, 'Up'],\n",
              "       ...,\n",
              "       [57, 1, 'ASY', ..., 'Y', 1.2, 'Flat'],\n",
              "       [57, 0, 'ATA', ..., 'N', 0.0, 'Flat'],\n",
              "       [38, 1, 'NAP', ..., 'N', 0.0, 'Up']], dtype=object)"
            ]
          },
          "metadata": {},
          "execution_count": 27
        }
      ]
    },
    {
      "cell_type": "code",
      "source": [
        "previsores2[:,2] = LabelEncoder().fit_transform(previsores2[:,2])\n",
        "previsores2[:,6] = LabelEncoder().fit_transform(previsores2[:,6])\n",
        "previsores2[:,8] = LabelEncoder().fit_transform(previsores2[:,8])\n",
        "previsores2[:,10] = LabelEncoder().fit_transform(previsores2[:,10])"
      ],
      "metadata": {
        "id": "VAV6Jrmg00_B"
      },
      "execution_count": 28,
      "outputs": []
    },
    {
      "cell_type": "code",
      "source": [
        "previsores2"
      ],
      "metadata": {
        "id": "6OYCPPGa3EE6",
        "colab": {
          "base_uri": "https://localhost:8080/"
        },
        "outputId": "1a1dd05d-e986-4ea8-a822-f4fc97ba46c6"
      },
      "execution_count": 29,
      "outputs": [
        {
          "output_type": "execute_result",
          "data": {
            "text/plain": [
              "array([[40, 1, 1, ..., 0, 0.0, 2],\n",
              "       [49, 0, 2, ..., 0, 1.0, 1],\n",
              "       [37, 1, 1, ..., 0, 0.0, 2],\n",
              "       ...,\n",
              "       [57, 1, 0, ..., 1, 1.2, 1],\n",
              "       [57, 0, 1, ..., 0, 0.0, 1],\n",
              "       [38, 1, 2, ..., 0, 0.0, 2]], dtype=object)"
            ]
          },
          "metadata": {},
          "execution_count": 29
        }
      ]
    },
    {
      "cell_type": "code",
      "source": [
        "previsores2.shape"
      ],
      "metadata": {
        "id": "SV6SHdiD3i_Z",
        "colab": {
          "base_uri": "https://localhost:8080/"
        },
        "outputId": "863f09c7-4b63-462c-d39a-8a7e54e1a695"
      },
      "execution_count": 30,
      "outputs": [
        {
          "output_type": "execute_result",
          "data": {
            "text/plain": [
              "(917, 11)"
            ]
          },
          "metadata": {},
          "execution_count": 30
        }
      ]
    },
    {
      "cell_type": "markdown",
      "source": [
        "### **OneHotEncoder: Criação de variáveis Dummy (fictícia).**"
      ],
      "metadata": {
        "id": "PIqEAMoH52Og"
      }
    },
    {
      "cell_type": "markdown",
      "source": [
        "Cuidado com a multicolinearidade (variáveis altamente correlacionadas entre si)."
      ],
      "metadata": {
        "id": "Ic1BCbFvGTNL"
      }
    },
    {
      "cell_type": "markdown",
      "source": [
        "![image.png](data:image/png;base64,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)"
      ],
      "metadata": {
        "id": "ruBvkbyn74ly"
      }
    },
    {
      "cell_type": "markdown",
      "metadata": {
        "id": "ZszZwZIBPrQR"
      },
      "source": [
        "A   B   C   D   \n",
        "1   0   0   0   \n",
        "0   1   0   0   \n",
        "0   0   1   0   \n",
        "0   0   0   1\n"
      ]
    },
    {
      "cell_type": "code",
      "source": [
        "from sklearn.preprocessing import OneHotEncoder\n",
        "from sklearn.compose import ColumnTransformer"
      ],
      "metadata": {
        "id": "YeSR7cQC8uCQ"
      },
      "execution_count": 31,
      "outputs": []
    },
    {
      "cell_type": "code",
      "metadata": {
        "id": "qx2UeR9S2Whp"
      },
      "source": [
        "ColumnTransformer?"
      ],
      "execution_count": 32,
      "outputs": []
    },
    {
      "cell_type": "markdown",
      "metadata": {
        "id": "ZT_BjSzytpVX"
      },
      "source": [
        "Parâmetros ColumnTransformer\n",
        "- name: nome dado a transformação.\n",
        "- transformer: tipo de estimador (OneHotEncoder).\n",
        "- columns: colunas que serão transformadas.\n",
        "- remainder: o que acontecerá com o restante das colunas não relacionadas: \n",
        "1) drop = exclui as outras colunas.\n",
        "2) passthrough = mantém as outras colunas. drop é default.  \n",
        "- sparse_threshold: parâmetro de classificação de matrizes esparsas. default é 0.3\n",
        "- n_jobs: número de trabalhos a serem executados em paralelo. default é nenhum\n",
        "- transformer_weights: definição de pesos aos transformadores.\n",
        "-verbose: default é False. se for True a execução é apresentada na tela."
      ]
    },
    {
      "cell_type": "code",
      "source": [
        "previsores3 = ColumnTransformer(transformers=[('OneHot', OneHotEncoder(), [1,2,6,8,10])],\n",
        "                                remainder='passthrough').fit_transform(previsores2)"
      ],
      "metadata": {
        "id": "rXFOyMmd9JEB"
      },
      "execution_count": 33,
      "outputs": []
    },
    {
      "cell_type": "code",
      "source": [
        "previsores3"
      ],
      "metadata": {
        "id": "F_H3hiDD_pfB",
        "colab": {
          "base_uri": "https://localhost:8080/"
        },
        "outputId": "7aec0dea-0264-4917-a65f-7ef003899bfa"
      },
      "execution_count": 34,
      "outputs": [
        {
          "output_type": "execute_result",
          "data": {
            "text/plain": [
              "array([[0.0, 1.0, 0.0, ..., 0, 172, 0.0],\n",
              "       [1.0, 0.0, 0.0, ..., 0, 156, 1.0],\n",
              "       [0.0, 1.0, 0.0, ..., 0, 98, 0.0],\n",
              "       ...,\n",
              "       [0.0, 1.0, 1.0, ..., 0, 115, 1.2],\n",
              "       [1.0, 0.0, 0.0, ..., 0, 174, 0.0],\n",
              "       [0.0, 1.0, 0.0, ..., 0, 173, 0.0]], dtype=object)"
            ]
          },
          "metadata": {},
          "execution_count": 34
        }
      ]
    },
    {
      "cell_type": "code",
      "source": [
        "previsores3.shape"
      ],
      "metadata": {
        "id": "eZ-nG4XEBMXU",
        "colab": {
          "base_uri": "https://localhost:8080/"
        },
        "outputId": "475a1cc8-7172-491f-fa90-111c5835736f"
      },
      "execution_count": 35,
      "outputs": [
        {
          "output_type": "execute_result",
          "data": {
            "text/plain": [
              "(917, 20)"
            ]
          },
          "metadata": {},
          "execution_count": 35
        }
      ]
    },
    {
      "cell_type": "code",
      "source": [
        "previsores3df = pd.DataFrame(previsores3)\n",
        "previsores3df.head()"
      ],
      "metadata": {
        "id": "1iTTX6b0C_0-",
        "colab": {
          "base_uri": "https://localhost:8080/",
          "height": 0
        },
        "outputId": "b2540dd5-cb07-4a45-bbd5-e4a52240333a"
      },
      "execution_count": 36,
      "outputs": [
        {
          "output_type": "execute_result",
          "data": {
            "text/plain": [
              "    0    1    2    3    4    5    6    7    8    9    10   11   12   13  14  \\\n",
              "0  0.0  1.0  0.0  1.0  0.0  0.0  0.0  1.0  0.0  1.0  0.0  0.0  0.0  1.0  40   \n",
              "1  1.0  0.0  0.0  0.0  1.0  0.0  0.0  1.0  0.0  1.0  0.0  0.0  1.0  0.0  49   \n",
              "2  0.0  1.0  0.0  1.0  0.0  0.0  0.0  0.0  1.0  1.0  0.0  0.0  0.0  1.0  37   \n",
              "3  1.0  0.0  1.0  0.0  0.0  0.0  0.0  1.0  0.0  0.0  1.0  0.0  1.0  0.0  48   \n",
              "4  0.0  1.0  0.0  0.0  1.0  0.0  0.0  1.0  0.0  1.0  0.0  0.0  0.0  1.0  54   \n",
              "\n",
              "    15     16 17   18   19  \n",
              "0  140  289.0  0  172  0.0  \n",
              "1  160  180.0  0  156  1.0  \n",
              "2  130  283.0  0   98  0.0  \n",
              "3  138  214.0  0  108  1.5  \n",
              "4  150  195.0  0  122  0.0  "
            ],
            "text/html": [
              "\n",
              "  <div id=\"df-a1bea7e8-00b7-40d9-b627-f468bf6c07b0\">\n",
              "    <div class=\"colab-df-container\">\n",
              "      <div>\n",
              "<style scoped>\n",
              "    .dataframe tbody tr th:only-of-type {\n",
              "        vertical-align: middle;\n",
              "    }\n",
              "\n",
              "    .dataframe tbody tr th {\n",
              "        vertical-align: top;\n",
              "    }\n",
              "\n",
              "    .dataframe thead th {\n",
              "        text-align: right;\n",
              "    }\n",
              "</style>\n",
              "<table border=\"1\" class=\"dataframe\">\n",
              "  <thead>\n",
              "    <tr style=\"text-align: right;\">\n",
              "      <th></th>\n",
              "      <th>0</th>\n",
              "      <th>1</th>\n",
              "      <th>2</th>\n",
              "      <th>3</th>\n",
              "      <th>4</th>\n",
              "      <th>5</th>\n",
              "      <th>6</th>\n",
              "      <th>7</th>\n",
              "      <th>8</th>\n",
              "      <th>9</th>\n",
              "      <th>10</th>\n",
              "      <th>11</th>\n",
              "      <th>12</th>\n",
              "      <th>13</th>\n",
              "      <th>14</th>\n",
              "      <th>15</th>\n",
              "      <th>16</th>\n",
              "      <th>17</th>\n",
              "      <th>18</th>\n",
              "      <th>19</th>\n",
              "    </tr>\n",
              "  </thead>\n",
              "  <tbody>\n",
              "    <tr>\n",
              "      <th>0</th>\n",
              "      <td>0.0</td>\n",
              "      <td>1.0</td>\n",
              "      <td>0.0</td>\n",
              "      <td>1.0</td>\n",
              "      <td>0.0</td>\n",
              "      <td>0.0</td>\n",
              "      <td>0.0</td>\n",
              "      <td>1.0</td>\n",
              "      <td>0.0</td>\n",
              "      <td>1.0</td>\n",
              "      <td>0.0</td>\n",
              "      <td>0.0</td>\n",
              "      <td>0.0</td>\n",
              "      <td>1.0</td>\n",
              "      <td>40</td>\n",
              "      <td>140</td>\n",
              "      <td>289.0</td>\n",
              "      <td>0</td>\n",
              "      <td>172</td>\n",
              "      <td>0.0</td>\n",
              "    </tr>\n",
              "    <tr>\n",
              "      <th>1</th>\n",
              "      <td>1.0</td>\n",
              "      <td>0.0</td>\n",
              "      <td>0.0</td>\n",
              "      <td>0.0</td>\n",
              "      <td>1.0</td>\n",
              "      <td>0.0</td>\n",
              "      <td>0.0</td>\n",
              "      <td>1.0</td>\n",
              "      <td>0.0</td>\n",
              "      <td>1.0</td>\n",
              "      <td>0.0</td>\n",
              "      <td>0.0</td>\n",
              "      <td>1.0</td>\n",
              "      <td>0.0</td>\n",
              "      <td>49</td>\n",
              "      <td>160</td>\n",
              "      <td>180.0</td>\n",
              "      <td>0</td>\n",
              "      <td>156</td>\n",
              "      <td>1.0</td>\n",
              "    </tr>\n",
              "    <tr>\n",
              "      <th>2</th>\n",
              "      <td>0.0</td>\n",
              "      <td>1.0</td>\n",
              "      <td>0.0</td>\n",
              "      <td>1.0</td>\n",
              "      <td>0.0</td>\n",
              "      <td>0.0</td>\n",
              "      <td>0.0</td>\n",
              "      <td>0.0</td>\n",
              "      <td>1.0</td>\n",
              "      <td>1.0</td>\n",
              "      <td>0.0</td>\n",
              "      <td>0.0</td>\n",
              "      <td>0.0</td>\n",
              "      <td>1.0</td>\n",
              "      <td>37</td>\n",
              "      <td>130</td>\n",
              "      <td>283.0</td>\n",
              "      <td>0</td>\n",
              "      <td>98</td>\n",
              "      <td>0.0</td>\n",
              "    </tr>\n",
              "    <tr>\n",
              "      <th>3</th>\n",
              "      <td>1.0</td>\n",
              "      <td>0.0</td>\n",
              "      <td>1.0</td>\n",
              "      <td>0.0</td>\n",
              "      <td>0.0</td>\n",
              "      <td>0.0</td>\n",
              "      <td>0.0</td>\n",
              "      <td>1.0</td>\n",
              "      <td>0.0</td>\n",
              "      <td>0.0</td>\n",
              "      <td>1.0</td>\n",
              "      <td>0.0</td>\n",
              "      <td>1.0</td>\n",
              "      <td>0.0</td>\n",
              "      <td>48</td>\n",
              "      <td>138</td>\n",
              "      <td>214.0</td>\n",
              "      <td>0</td>\n",
              "      <td>108</td>\n",
              "      <td>1.5</td>\n",
              "    </tr>\n",
              "    <tr>\n",
              "      <th>4</th>\n",
              "      <td>0.0</td>\n",
              "      <td>1.0</td>\n",
              "      <td>0.0</td>\n",
              "      <td>0.0</td>\n",
              "      <td>1.0</td>\n",
              "      <td>0.0</td>\n",
              "      <td>0.0</td>\n",
              "      <td>1.0</td>\n",
              "      <td>0.0</td>\n",
              "      <td>1.0</td>\n",
              "      <td>0.0</td>\n",
              "      <td>0.0</td>\n",
              "      <td>0.0</td>\n",
              "      <td>1.0</td>\n",
              "      <td>54</td>\n",
              "      <td>150</td>\n",
              "      <td>195.0</td>\n",
              "      <td>0</td>\n",
              "      <td>122</td>\n",
              "      <td>0.0</td>\n",
              "    </tr>\n",
              "  </tbody>\n",
              "</table>\n",
              "</div>\n",
              "      <button class=\"colab-df-convert\" onclick=\"convertToInteractive('df-a1bea7e8-00b7-40d9-b627-f468bf6c07b0')\"\n",
              "              title=\"Convert this dataframe to an interactive table.\"\n",
              "              style=\"display:none;\">\n",
              "        \n",
              "  <svg xmlns=\"http://www.w3.org/2000/svg\" height=\"24px\"viewBox=\"0 0 24 24\"\n",
              "       width=\"24px\">\n",
              "    <path d=\"M0 0h24v24H0V0z\" fill=\"none\"/>\n",
              "    <path d=\"M18.56 5.44l.94 2.06.94-2.06 2.06-.94-2.06-.94-.94-2.06-.94 2.06-2.06.94zm-11 1L8.5 8.5l.94-2.06 2.06-.94-2.06-.94L8.5 2.5l-.94 2.06-2.06.94zm10 10l.94 2.06.94-2.06 2.06-.94-2.06-.94-.94-2.06-.94 2.06-2.06.94z\"/><path d=\"M17.41 7.96l-1.37-1.37c-.4-.4-.92-.59-1.43-.59-.52 0-1.04.2-1.43.59L10.3 9.45l-7.72 7.72c-.78.78-.78 2.05 0 2.83L4 21.41c.39.39.9.59 1.41.59.51 0 1.02-.2 1.41-.59l7.78-7.78 2.81-2.81c.8-.78.8-2.07 0-2.86zM5.41 20L4 18.59l7.72-7.72 1.47 1.35L5.41 20z\"/>\n",
              "  </svg>\n",
              "      </button>\n",
              "      \n",
              "  <style>\n",
              "    .colab-df-container {\n",
              "      display:flex;\n",
              "      flex-wrap:wrap;\n",
              "      gap: 12px;\n",
              "    }\n",
              "\n",
              "    .colab-df-convert {\n",
              "      background-color: #E8F0FE;\n",
              "      border: none;\n",
              "      border-radius: 50%;\n",
              "      cursor: pointer;\n",
              "      display: none;\n",
              "      fill: #1967D2;\n",
              "      height: 32px;\n",
              "      padding: 0 0 0 0;\n",
              "      width: 32px;\n",
              "    }\n",
              "\n",
              "    .colab-df-convert:hover {\n",
              "      background-color: #E2EBFA;\n",
              "      box-shadow: 0px 1px 2px rgba(60, 64, 67, 0.3), 0px 1px 3px 1px rgba(60, 64, 67, 0.15);\n",
              "      fill: #174EA6;\n",
              "    }\n",
              "\n",
              "    [theme=dark] .colab-df-convert {\n",
              "      background-color: #3B4455;\n",
              "      fill: #D2E3FC;\n",
              "    }\n",
              "\n",
              "    [theme=dark] .colab-df-convert:hover {\n",
              "      background-color: #434B5C;\n",
              "      box-shadow: 0px 1px 3px 1px rgba(0, 0, 0, 0.15);\n",
              "      filter: drop-shadow(0px 1px 2px rgba(0, 0, 0, 0.3));\n",
              "      fill: #FFFFFF;\n",
              "    }\n",
              "  </style>\n",
              "\n",
              "      <script>\n",
              "        const buttonEl =\n",
              "          document.querySelector('#df-a1bea7e8-00b7-40d9-b627-f468bf6c07b0 button.colab-df-convert');\n",
              "        buttonEl.style.display =\n",
              "          google.colab.kernel.accessAllowed ? 'block' : 'none';\n",
              "\n",
              "        async function convertToInteractive(key) {\n",
              "          const element = document.querySelector('#df-a1bea7e8-00b7-40d9-b627-f468bf6c07b0');\n",
              "          const dataTable =\n",
              "            await google.colab.kernel.invokeFunction('convertToInteractive',\n",
              "                                                     [key], {});\n",
              "          if (!dataTable) return;\n",
              "\n",
              "          const docLinkHtml = 'Like what you see? Visit the ' +\n",
              "            '<a target=\"_blank\" href=https://colab.research.google.com/notebooks/data_table.ipynb>data table notebook</a>'\n",
              "            + ' to learn more about interactive tables.';\n",
              "          element.innerHTML = '';\n",
              "          dataTable['output_type'] = 'display_data';\n",
              "          await google.colab.output.renderOutput(dataTable, element);\n",
              "          const docLink = document.createElement('div');\n",
              "          docLink.innerHTML = docLinkHtml;\n",
              "          element.appendChild(docLink);\n",
              "        }\n",
              "      </script>\n",
              "    </div>\n",
              "  </div>\n",
              "  "
            ]
          },
          "metadata": {},
          "execution_count": 36
        }
      ]
    },
    {
      "cell_type": "code",
      "source": [
        "df.head()"
      ],
      "metadata": {
        "id": "KTfczx7EDvwc",
        "colab": {
          "base_uri": "https://localhost:8080/",
          "height": 0
        },
        "outputId": "cbe80ff2-2cc9-45ba-d25c-400675c934f5"
      },
      "execution_count": 37,
      "outputs": [
        {
          "output_type": "execute_result",
          "data": {
            "text/plain": [
              "   Age Sex ChestPainType  RestingBP  Cholesterol  FastingBS RestingECG  MaxHR  \\\n",
              "0   40   M           ATA        140        289.0          0     Normal    172   \n",
              "1   49   F           NAP        160        180.0          0     Normal    156   \n",
              "2   37   M           ATA        130        283.0          0         ST     98   \n",
              "3   48   F           ASY        138        214.0          0     Normal    108   \n",
              "4   54   M           NAP        150        195.0          0     Normal    122   \n",
              "\n",
              "  ExerciseAngina  Oldpeak ST_Slope  HeartDisease  \n",
              "0              N      0.0       Up             0  \n",
              "1              N      1.0     Flat             1  \n",
              "2              N      0.0       Up             0  \n",
              "3              Y      1.5     Flat             1  \n",
              "4              N      0.0       Up             0  "
            ],
            "text/html": [
              "\n",
              "  <div id=\"df-5790e83c-1553-41de-8e45-bf3c016ac146\">\n",
              "    <div class=\"colab-df-container\">\n",
              "      <div>\n",
              "<style scoped>\n",
              "    .dataframe tbody tr th:only-of-type {\n",
              "        vertical-align: middle;\n",
              "    }\n",
              "\n",
              "    .dataframe tbody tr th {\n",
              "        vertical-align: top;\n",
              "    }\n",
              "\n",
              "    .dataframe thead th {\n",
              "        text-align: right;\n",
              "    }\n",
              "</style>\n",
              "<table border=\"1\" class=\"dataframe\">\n",
              "  <thead>\n",
              "    <tr style=\"text-align: right;\">\n",
              "      <th></th>\n",
              "      <th>Age</th>\n",
              "      <th>Sex</th>\n",
              "      <th>ChestPainType</th>\n",
              "      <th>RestingBP</th>\n",
              "      <th>Cholesterol</th>\n",
              "      <th>FastingBS</th>\n",
              "      <th>RestingECG</th>\n",
              "      <th>MaxHR</th>\n",
              "      <th>ExerciseAngina</th>\n",
              "      <th>Oldpeak</th>\n",
              "      <th>ST_Slope</th>\n",
              "      <th>HeartDisease</th>\n",
              "    </tr>\n",
              "  </thead>\n",
              "  <tbody>\n",
              "    <tr>\n",
              "      <th>0</th>\n",
              "      <td>40</td>\n",
              "      <td>M</td>\n",
              "      <td>ATA</td>\n",
              "      <td>140</td>\n",
              "      <td>289.0</td>\n",
              "      <td>0</td>\n",
              "      <td>Normal</td>\n",
              "      <td>172</td>\n",
              "      <td>N</td>\n",
              "      <td>0.0</td>\n",
              "      <td>Up</td>\n",
              "      <td>0</td>\n",
              "    </tr>\n",
              "    <tr>\n",
              "      <th>1</th>\n",
              "      <td>49</td>\n",
              "      <td>F</td>\n",
              "      <td>NAP</td>\n",
              "      <td>160</td>\n",
              "      <td>180.0</td>\n",
              "      <td>0</td>\n",
              "      <td>Normal</td>\n",
              "      <td>156</td>\n",
              "      <td>N</td>\n",
              "      <td>1.0</td>\n",
              "      <td>Flat</td>\n",
              "      <td>1</td>\n",
              "    </tr>\n",
              "    <tr>\n",
              "      <th>2</th>\n",
              "      <td>37</td>\n",
              "      <td>M</td>\n",
              "      <td>ATA</td>\n",
              "      <td>130</td>\n",
              "      <td>283.0</td>\n",
              "      <td>0</td>\n",
              "      <td>ST</td>\n",
              "      <td>98</td>\n",
              "      <td>N</td>\n",
              "      <td>0.0</td>\n",
              "      <td>Up</td>\n",
              "      <td>0</td>\n",
              "    </tr>\n",
              "    <tr>\n",
              "      <th>3</th>\n",
              "      <td>48</td>\n",
              "      <td>F</td>\n",
              "      <td>ASY</td>\n",
              "      <td>138</td>\n",
              "      <td>214.0</td>\n",
              "      <td>0</td>\n",
              "      <td>Normal</td>\n",
              "      <td>108</td>\n",
              "      <td>Y</td>\n",
              "      <td>1.5</td>\n",
              "      <td>Flat</td>\n",
              "      <td>1</td>\n",
              "    </tr>\n",
              "    <tr>\n",
              "      <th>4</th>\n",
              "      <td>54</td>\n",
              "      <td>M</td>\n",
              "      <td>NAP</td>\n",
              "      <td>150</td>\n",
              "      <td>195.0</td>\n",
              "      <td>0</td>\n",
              "      <td>Normal</td>\n",
              "      <td>122</td>\n",
              "      <td>N</td>\n",
              "      <td>0.0</td>\n",
              "      <td>Up</td>\n",
              "      <td>0</td>\n",
              "    </tr>\n",
              "  </tbody>\n",
              "</table>\n",
              "</div>\n",
              "      <button class=\"colab-df-convert\" onclick=\"convertToInteractive('df-5790e83c-1553-41de-8e45-bf3c016ac146')\"\n",
              "              title=\"Convert this dataframe to an interactive table.\"\n",
              "              style=\"display:none;\">\n",
              "        \n",
              "  <svg xmlns=\"http://www.w3.org/2000/svg\" height=\"24px\"viewBox=\"0 0 24 24\"\n",
              "       width=\"24px\">\n",
              "    <path d=\"M0 0h24v24H0V0z\" fill=\"none\"/>\n",
              "    <path d=\"M18.56 5.44l.94 2.06.94-2.06 2.06-.94-2.06-.94-.94-2.06-.94 2.06-2.06.94zm-11 1L8.5 8.5l.94-2.06 2.06-.94-2.06-.94L8.5 2.5l-.94 2.06-2.06.94zm10 10l.94 2.06.94-2.06 2.06-.94-2.06-.94-.94-2.06-.94 2.06-2.06.94z\"/><path d=\"M17.41 7.96l-1.37-1.37c-.4-.4-.92-.59-1.43-.59-.52 0-1.04.2-1.43.59L10.3 9.45l-7.72 7.72c-.78.78-.78 2.05 0 2.83L4 21.41c.39.39.9.59 1.41.59.51 0 1.02-.2 1.41-.59l7.78-7.78 2.81-2.81c.8-.78.8-2.07 0-2.86zM5.41 20L4 18.59l7.72-7.72 1.47 1.35L5.41 20z\"/>\n",
              "  </svg>\n",
              "      </button>\n",
              "      \n",
              "  <style>\n",
              "    .colab-df-container {\n",
              "      display:flex;\n",
              "      flex-wrap:wrap;\n",
              "      gap: 12px;\n",
              "    }\n",
              "\n",
              "    .colab-df-convert {\n",
              "      background-color: #E8F0FE;\n",
              "      border: none;\n",
              "      border-radius: 50%;\n",
              "      cursor: pointer;\n",
              "      display: none;\n",
              "      fill: #1967D2;\n",
              "      height: 32px;\n",
              "      padding: 0 0 0 0;\n",
              "      width: 32px;\n",
              "    }\n",
              "\n",
              "    .colab-df-convert:hover {\n",
              "      background-color: #E2EBFA;\n",
              "      box-shadow: 0px 1px 2px rgba(60, 64, 67, 0.3), 0px 1px 3px 1px rgba(60, 64, 67, 0.15);\n",
              "      fill: #174EA6;\n",
              "    }\n",
              "\n",
              "    [theme=dark] .colab-df-convert {\n",
              "      background-color: #3B4455;\n",
              "      fill: #D2E3FC;\n",
              "    }\n",
              "\n",
              "    [theme=dark] .colab-df-convert:hover {\n",
              "      background-color: #434B5C;\n",
              "      box-shadow: 0px 1px 3px 1px rgba(0, 0, 0, 0.15);\n",
              "      filter: drop-shadow(0px 1px 2px rgba(0, 0, 0, 0.3));\n",
              "      fill: #FFFFFF;\n",
              "    }\n",
              "  </style>\n",
              "\n",
              "      <script>\n",
              "        const buttonEl =\n",
              "          document.querySelector('#df-5790e83c-1553-41de-8e45-bf3c016ac146 button.colab-df-convert');\n",
              "        buttonEl.style.display =\n",
              "          google.colab.kernel.accessAllowed ? 'block' : 'none';\n",
              "\n",
              "        async function convertToInteractive(key) {\n",
              "          const element = document.querySelector('#df-5790e83c-1553-41de-8e45-bf3c016ac146');\n",
              "          const dataTable =\n",
              "            await google.colab.kernel.invokeFunction('convertToInteractive',\n",
              "                                                     [key], {});\n",
              "          if (!dataTable) return;\n",
              "\n",
              "          const docLinkHtml = 'Like what you see? Visit the ' +\n",
              "            '<a target=\"_blank\" href=https://colab.research.google.com/notebooks/data_table.ipynb>data table notebook</a>'\n",
              "            + ' to learn more about interactive tables.';\n",
              "          element.innerHTML = '';\n",
              "          dataTable['output_type'] = 'display_data';\n",
              "          await google.colab.output.renderOutput(dataTable, element);\n",
              "          const docLink = document.createElement('div');\n",
              "          docLink.innerHTML = docLinkHtml;\n",
              "          element.appendChild(docLink);\n",
              "        }\n",
              "      </script>\n",
              "    </div>\n",
              "  </div>\n",
              "  "
            ]
          },
          "metadata": {},
          "execution_count": 37
        }
      ]
    },
    {
      "cell_type": "markdown",
      "source": [
        "## **Escalonamento**"
      ],
      "metadata": {
        "id": "YWlyb9T-Fk1I"
      }
    },
    {
      "cell_type": "code",
      "source": [
        "from sklearn.preprocessing import StandardScaler"
      ],
      "metadata": {
        "id": "x4jzommSFk1L"
      },
      "execution_count": 38,
      "outputs": []
    },
    {
      "cell_type": "code",
      "source": [
        "previsores3_esc = StandardScaler().fit_transform(previsores3)"
      ],
      "metadata": {
        "id": "nvLu4mtDFk1L"
      },
      "execution_count": 39,
      "outputs": []
    },
    {
      "cell_type": "code",
      "source": [
        "previsores3_esc"
      ],
      "metadata": {
        "id": "eFTA8spkFk1M",
        "colab": {
          "base_uri": "https://localhost:8080/"
        },
        "outputId": "dec80eb6-f9a1-4ac6-d7a9-5cedf27fd984"
      },
      "execution_count": 40,
      "outputs": [
        {
          "output_type": "execute_result",
          "data": {
            "text/plain": [
              "array([[-0.51630861,  0.51630861, -1.08542493, ..., -0.55173333,\n",
              "         1.38333943, -0.83150225],\n",
              "       [ 1.9368261 , -1.9368261 , -1.08542493, ..., -0.55173333,\n",
              "         0.75473573,  0.10625149],\n",
              "       [-0.51630861,  0.51630861, -1.08542493, ..., -0.55173333,\n",
              "        -1.52395266, -0.83150225],\n",
              "       ...,\n",
              "       [-0.51630861,  0.51630861,  0.92129817, ..., -0.55173333,\n",
              "        -0.85606123,  0.29380223],\n",
              "       [ 1.9368261 , -1.9368261 , -1.08542493, ..., -0.55173333,\n",
              "         1.46191489, -0.83150225],\n",
              "       [-0.51630861,  0.51630861, -1.08542493, ..., -0.55173333,\n",
              "         1.42262716, -0.83150225]])"
            ]
          },
          "metadata": {},
          "execution_count": 40
        }
      ]
    },
    {
      "cell_type": "code",
      "source": [
        "previsores3df = pd.DataFrame(previsores3_esc)\n",
        "previsores3df"
      ],
      "metadata": {
        "id": "w6JQStnqFk1M",
        "colab": {
          "base_uri": "https://localhost:8080/",
          "height": 0
        },
        "outputId": "a81c3a17-ac8c-498f-a567-88a6b53bd5d6"
      },
      "execution_count": 41,
      "outputs": [
        {
          "output_type": "execute_result",
          "data": {
            "text/plain": [
              "           0         1         2         3         4         5         6   \\\n",
              "0   -0.516309  0.516309 -1.085425  2.073784 -0.531524 -0.229810 -0.507826   \n",
              "1    1.936826 -1.936826 -1.085425 -0.482210  1.881384 -0.229810 -0.507826   \n",
              "2   -0.516309  0.516309 -1.085425  2.073784 -0.531524 -0.229810 -0.507826   \n",
              "3    1.936826 -1.936826  0.921298 -0.482210 -0.531524 -0.229810 -0.507826   \n",
              "4   -0.516309  0.516309 -1.085425 -0.482210  1.881384 -0.229810 -0.507826   \n",
              "..        ...       ...       ...       ...       ...       ...       ...   \n",
              "912 -0.516309  0.516309 -1.085425 -0.482210 -0.531524  4.351412 -0.507826   \n",
              "913 -0.516309  0.516309  0.921298 -0.482210 -0.531524 -0.229810 -0.507826   \n",
              "914 -0.516309  0.516309  0.921298 -0.482210 -0.531524 -0.229810 -0.507826   \n",
              "915  1.936826 -1.936826 -1.085425  2.073784 -0.531524 -0.229810  1.969177   \n",
              "916 -0.516309  0.516309 -1.085425 -0.482210  1.881384 -0.229810 -0.507826   \n",
              "\n",
              "           7         8         9         10        11        12        13  \\\n",
              "0    0.815013 -0.490781  0.824310 -0.824310 -0.271607 -1.001091  1.149573   \n",
              "1    0.815013 -0.490781  0.824310 -0.824310 -0.271607  0.998910 -0.869888   \n",
              "2   -1.226974  2.037569  0.824310 -0.824310 -0.271607 -1.001091  1.149573   \n",
              "3    0.815013 -0.490781 -1.213136  1.213136 -0.271607  0.998910 -0.869888   \n",
              "4    0.815013 -0.490781  0.824310 -0.824310 -0.271607 -1.001091  1.149573   \n",
              "..        ...       ...       ...       ...       ...       ...       ...   \n",
              "912  0.815013 -0.490781  0.824310 -0.824310 -0.271607  0.998910 -0.869888   \n",
              "913  0.815013 -0.490781  0.824310 -0.824310 -0.271607  0.998910 -0.869888   \n",
              "914  0.815013 -0.490781 -1.213136  1.213136 -0.271607  0.998910 -0.869888   \n",
              "915 -1.226974 -0.490781  0.824310 -0.824310 -0.271607  0.998910 -0.869888   \n",
              "916  0.815013 -0.490781  0.824310 -0.824310 -0.271607 -1.001091  1.149573   \n",
              "\n",
              "           14        15        16        17        18        19  \n",
              "0   -1.432206  0.414627  0.832075 -0.551733  1.383339 -0.831502  \n",
              "1   -0.478057  1.526360 -1.212261 -0.551733  0.754736  0.106251  \n",
              "2   -1.750256 -0.141240  0.719543 -0.551733 -1.523953 -0.831502  \n",
              "3   -0.584074  0.303453 -0.574578 -0.551733 -1.131075  0.575128  \n",
              "4    0.052026  0.970493 -0.930931 -0.551733 -0.581047 -0.831502  \n",
              "..        ...       ...       ...       ...       ...       ...  \n",
              "912 -0.902124 -1.252973  0.363191 -0.551733 -0.188170  0.293802  \n",
              "913  1.536257  0.636973 -0.968441  1.812470  0.165420  2.356860  \n",
              "914  0.370075 -0.141240 -2.131275 -0.551733 -0.856061  0.293802  \n",
              "915  0.370075 -0.141240 -0.161960 -0.551733  1.461915 -0.831502  \n",
              "916 -1.644239  0.303453 -1.306038 -0.551733  1.422627 -0.831502  \n",
              "\n",
              "[917 rows x 20 columns]"
            ],
            "text/html": [
              "\n",
              "  <div id=\"df-0b009edb-d7d6-47d6-aeff-a52789e1e8a1\">\n",
              "    <div class=\"colab-df-container\">\n",
              "      <div>\n",
              "<style scoped>\n",
              "    .dataframe tbody tr th:only-of-type {\n",
              "        vertical-align: middle;\n",
              "    }\n",
              "\n",
              "    .dataframe tbody tr th {\n",
              "        vertical-align: top;\n",
              "    }\n",
              "\n",
              "    .dataframe thead th {\n",
              "        text-align: right;\n",
              "    }\n",
              "</style>\n",
              "<table border=\"1\" class=\"dataframe\">\n",
              "  <thead>\n",
              "    <tr style=\"text-align: right;\">\n",
              "      <th></th>\n",
              "      <th>0</th>\n",
              "      <th>1</th>\n",
              "      <th>2</th>\n",
              "      <th>3</th>\n",
              "      <th>4</th>\n",
              "      <th>5</th>\n",
              "      <th>6</th>\n",
              "      <th>7</th>\n",
              "      <th>8</th>\n",
              "      <th>9</th>\n",
              "      <th>10</th>\n",
              "      <th>11</th>\n",
              "      <th>12</th>\n",
              "      <th>13</th>\n",
              "      <th>14</th>\n",
              "      <th>15</th>\n",
              "      <th>16</th>\n",
              "      <th>17</th>\n",
              "      <th>18</th>\n",
              "      <th>19</th>\n",
              "    </tr>\n",
              "  </thead>\n",
              "  <tbody>\n",
              "    <tr>\n",
              "      <th>0</th>\n",
              "      <td>-0.516309</td>\n",
              "      <td>0.516309</td>\n",
              "      <td>-1.085425</td>\n",
              "      <td>2.073784</td>\n",
              "      <td>-0.531524</td>\n",
              "      <td>-0.229810</td>\n",
              "      <td>-0.507826</td>\n",
              "      <td>0.815013</td>\n",
              "      <td>-0.490781</td>\n",
              "      <td>0.824310</td>\n",
              "      <td>-0.824310</td>\n",
              "      <td>-0.271607</td>\n",
              "      <td>-1.001091</td>\n",
              "      <td>1.149573</td>\n",
              "      <td>-1.432206</td>\n",
              "      <td>0.414627</td>\n",
              "      <td>0.832075</td>\n",
              "      <td>-0.551733</td>\n",
              "      <td>1.383339</td>\n",
              "      <td>-0.831502</td>\n",
              "    </tr>\n",
              "    <tr>\n",
              "      <th>1</th>\n",
              "      <td>1.936826</td>\n",
              "      <td>-1.936826</td>\n",
              "      <td>-1.085425</td>\n",
              "      <td>-0.482210</td>\n",
              "      <td>1.881384</td>\n",
              "      <td>-0.229810</td>\n",
              "      <td>-0.507826</td>\n",
              "      <td>0.815013</td>\n",
              "      <td>-0.490781</td>\n",
              "      <td>0.824310</td>\n",
              "      <td>-0.824310</td>\n",
              "      <td>-0.271607</td>\n",
              "      <td>0.998910</td>\n",
              "      <td>-0.869888</td>\n",
              "      <td>-0.478057</td>\n",
              "      <td>1.526360</td>\n",
              "      <td>-1.212261</td>\n",
              "      <td>-0.551733</td>\n",
              "      <td>0.754736</td>\n",
              "      <td>0.106251</td>\n",
              "    </tr>\n",
              "    <tr>\n",
              "      <th>2</th>\n",
              "      <td>-0.516309</td>\n",
              "      <td>0.516309</td>\n",
              "      <td>-1.085425</td>\n",
              "      <td>2.073784</td>\n",
              "      <td>-0.531524</td>\n",
              "      <td>-0.229810</td>\n",
              "      <td>-0.507826</td>\n",
              "      <td>-1.226974</td>\n",
              "      <td>2.037569</td>\n",
              "      <td>0.824310</td>\n",
              "      <td>-0.824310</td>\n",
              "      <td>-0.271607</td>\n",
              "      <td>-1.001091</td>\n",
              "      <td>1.149573</td>\n",
              "      <td>-1.750256</td>\n",
              "      <td>-0.141240</td>\n",
              "      <td>0.719543</td>\n",
              "      <td>-0.551733</td>\n",
              "      <td>-1.523953</td>\n",
              "      <td>-0.831502</td>\n",
              "    </tr>\n",
              "    <tr>\n",
              "      <th>3</th>\n",
              "      <td>1.936826</td>\n",
              "      <td>-1.936826</td>\n",
              "      <td>0.921298</td>\n",
              "      <td>-0.482210</td>\n",
              "      <td>-0.531524</td>\n",
              "      <td>-0.229810</td>\n",
              "      <td>-0.507826</td>\n",
              "      <td>0.815013</td>\n",
              "      <td>-0.490781</td>\n",
              "      <td>-1.213136</td>\n",
              "      <td>1.213136</td>\n",
              "      <td>-0.271607</td>\n",
              "      <td>0.998910</td>\n",
              "      <td>-0.869888</td>\n",
              "      <td>-0.584074</td>\n",
              "      <td>0.303453</td>\n",
              "      <td>-0.574578</td>\n",
              "      <td>-0.551733</td>\n",
              "      <td>-1.131075</td>\n",
              "      <td>0.575128</td>\n",
              "    </tr>\n",
              "    <tr>\n",
              "      <th>4</th>\n",
              "      <td>-0.516309</td>\n",
              "      <td>0.516309</td>\n",
              "      <td>-1.085425</td>\n",
              "      <td>-0.482210</td>\n",
              "      <td>1.881384</td>\n",
              "      <td>-0.229810</td>\n",
              "      <td>-0.507826</td>\n",
              "      <td>0.815013</td>\n",
              "      <td>-0.490781</td>\n",
              "      <td>0.824310</td>\n",
              "      <td>-0.824310</td>\n",
              "      <td>-0.271607</td>\n",
              "      <td>-1.001091</td>\n",
              "      <td>1.149573</td>\n",
              "      <td>0.052026</td>\n",
              "      <td>0.970493</td>\n",
              "      <td>-0.930931</td>\n",
              "      <td>-0.551733</td>\n",
              "      <td>-0.581047</td>\n",
              "      <td>-0.831502</td>\n",
              "    </tr>\n",
              "    <tr>\n",
              "      <th>...</th>\n",
              "      <td>...</td>\n",
              "      <td>...</td>\n",
              "      <td>...</td>\n",
              "      <td>...</td>\n",
              "      <td>...</td>\n",
              "      <td>...</td>\n",
              "      <td>...</td>\n",
              "      <td>...</td>\n",
              "      <td>...</td>\n",
              "      <td>...</td>\n",
              "      <td>...</td>\n",
              "      <td>...</td>\n",
              "      <td>...</td>\n",
              "      <td>...</td>\n",
              "      <td>...</td>\n",
              "      <td>...</td>\n",
              "      <td>...</td>\n",
              "      <td>...</td>\n",
              "      <td>...</td>\n",
              "      <td>...</td>\n",
              "    </tr>\n",
              "    <tr>\n",
              "      <th>912</th>\n",
              "      <td>-0.516309</td>\n",
              "      <td>0.516309</td>\n",
              "      <td>-1.085425</td>\n",
              "      <td>-0.482210</td>\n",
              "      <td>-0.531524</td>\n",
              "      <td>4.351412</td>\n",
              "      <td>-0.507826</td>\n",
              "      <td>0.815013</td>\n",
              "      <td>-0.490781</td>\n",
              "      <td>0.824310</td>\n",
              "      <td>-0.824310</td>\n",
              "      <td>-0.271607</td>\n",
              "      <td>0.998910</td>\n",
              "      <td>-0.869888</td>\n",
              "      <td>-0.902124</td>\n",
              "      <td>-1.252973</td>\n",
              "      <td>0.363191</td>\n",
              "      <td>-0.551733</td>\n",
              "      <td>-0.188170</td>\n",
              "      <td>0.293802</td>\n",
              "    </tr>\n",
              "    <tr>\n",
              "      <th>913</th>\n",
              "      <td>-0.516309</td>\n",
              "      <td>0.516309</td>\n",
              "      <td>0.921298</td>\n",
              "      <td>-0.482210</td>\n",
              "      <td>-0.531524</td>\n",
              "      <td>-0.229810</td>\n",
              "      <td>-0.507826</td>\n",
              "      <td>0.815013</td>\n",
              "      <td>-0.490781</td>\n",
              "      <td>0.824310</td>\n",
              "      <td>-0.824310</td>\n",
              "      <td>-0.271607</td>\n",
              "      <td>0.998910</td>\n",
              "      <td>-0.869888</td>\n",
              "      <td>1.536257</td>\n",
              "      <td>0.636973</td>\n",
              "      <td>-0.968441</td>\n",
              "      <td>1.812470</td>\n",
              "      <td>0.165420</td>\n",
              "      <td>2.356860</td>\n",
              "    </tr>\n",
              "    <tr>\n",
              "      <th>914</th>\n",
              "      <td>-0.516309</td>\n",
              "      <td>0.516309</td>\n",
              "      <td>0.921298</td>\n",
              "      <td>-0.482210</td>\n",
              "      <td>-0.531524</td>\n",
              "      <td>-0.229810</td>\n",
              "      <td>-0.507826</td>\n",
              "      <td>0.815013</td>\n",
              "      <td>-0.490781</td>\n",
              "      <td>-1.213136</td>\n",
              "      <td>1.213136</td>\n",
              "      <td>-0.271607</td>\n",
              "      <td>0.998910</td>\n",
              "      <td>-0.869888</td>\n",
              "      <td>0.370075</td>\n",
              "      <td>-0.141240</td>\n",
              "      <td>-2.131275</td>\n",
              "      <td>-0.551733</td>\n",
              "      <td>-0.856061</td>\n",
              "      <td>0.293802</td>\n",
              "    </tr>\n",
              "    <tr>\n",
              "      <th>915</th>\n",
              "      <td>1.936826</td>\n",
              "      <td>-1.936826</td>\n",
              "      <td>-1.085425</td>\n",
              "      <td>2.073784</td>\n",
              "      <td>-0.531524</td>\n",
              "      <td>-0.229810</td>\n",
              "      <td>1.969177</td>\n",
              "      <td>-1.226974</td>\n",
              "      <td>-0.490781</td>\n",
              "      <td>0.824310</td>\n",
              "      <td>-0.824310</td>\n",
              "      <td>-0.271607</td>\n",
              "      <td>0.998910</td>\n",
              "      <td>-0.869888</td>\n",
              "      <td>0.370075</td>\n",
              "      <td>-0.141240</td>\n",
              "      <td>-0.161960</td>\n",
              "      <td>-0.551733</td>\n",
              "      <td>1.461915</td>\n",
              "      <td>-0.831502</td>\n",
              "    </tr>\n",
              "    <tr>\n",
              "      <th>916</th>\n",
              "      <td>-0.516309</td>\n",
              "      <td>0.516309</td>\n",
              "      <td>-1.085425</td>\n",
              "      <td>-0.482210</td>\n",
              "      <td>1.881384</td>\n",
              "      <td>-0.229810</td>\n",
              "      <td>-0.507826</td>\n",
              "      <td>0.815013</td>\n",
              "      <td>-0.490781</td>\n",
              "      <td>0.824310</td>\n",
              "      <td>-0.824310</td>\n",
              "      <td>-0.271607</td>\n",
              "      <td>-1.001091</td>\n",
              "      <td>1.149573</td>\n",
              "      <td>-1.644239</td>\n",
              "      <td>0.303453</td>\n",
              "      <td>-1.306038</td>\n",
              "      <td>-0.551733</td>\n",
              "      <td>1.422627</td>\n",
              "      <td>-0.831502</td>\n",
              "    </tr>\n",
              "  </tbody>\n",
              "</table>\n",
              "<p>917 rows × 20 columns</p>\n",
              "</div>\n",
              "      <button class=\"colab-df-convert\" onclick=\"convertToInteractive('df-0b009edb-d7d6-47d6-aeff-a52789e1e8a1')\"\n",
              "              title=\"Convert this dataframe to an interactive table.\"\n",
              "              style=\"display:none;\">\n",
              "        \n",
              "  <svg xmlns=\"http://www.w3.org/2000/svg\" height=\"24px\"viewBox=\"0 0 24 24\"\n",
              "       width=\"24px\">\n",
              "    <path d=\"M0 0h24v24H0V0z\" fill=\"none\"/>\n",
              "    <path d=\"M18.56 5.44l.94 2.06.94-2.06 2.06-.94-2.06-.94-.94-2.06-.94 2.06-2.06.94zm-11 1L8.5 8.5l.94-2.06 2.06-.94-2.06-.94L8.5 2.5l-.94 2.06-2.06.94zm10 10l.94 2.06.94-2.06 2.06-.94-2.06-.94-.94-2.06-.94 2.06-2.06.94z\"/><path d=\"M17.41 7.96l-1.37-1.37c-.4-.4-.92-.59-1.43-.59-.52 0-1.04.2-1.43.59L10.3 9.45l-7.72 7.72c-.78.78-.78 2.05 0 2.83L4 21.41c.39.39.9.59 1.41.59.51 0 1.02-.2 1.41-.59l7.78-7.78 2.81-2.81c.8-.78.8-2.07 0-2.86zM5.41 20L4 18.59l7.72-7.72 1.47 1.35L5.41 20z\"/>\n",
              "  </svg>\n",
              "      </button>\n",
              "      \n",
              "  <style>\n",
              "    .colab-df-container {\n",
              "      display:flex;\n",
              "      flex-wrap:wrap;\n",
              "      gap: 12px;\n",
              "    }\n",
              "\n",
              "    .colab-df-convert {\n",
              "      background-color: #E8F0FE;\n",
              "      border: none;\n",
              "      border-radius: 50%;\n",
              "      cursor: pointer;\n",
              "      display: none;\n",
              "      fill: #1967D2;\n",
              "      height: 32px;\n",
              "      padding: 0 0 0 0;\n",
              "      width: 32px;\n",
              "    }\n",
              "\n",
              "    .colab-df-convert:hover {\n",
              "      background-color: #E2EBFA;\n",
              "      box-shadow: 0px 1px 2px rgba(60, 64, 67, 0.3), 0px 1px 3px 1px rgba(60, 64, 67, 0.15);\n",
              "      fill: #174EA6;\n",
              "    }\n",
              "\n",
              "    [theme=dark] .colab-df-convert {\n",
              "      background-color: #3B4455;\n",
              "      fill: #D2E3FC;\n",
              "    }\n",
              "\n",
              "    [theme=dark] .colab-df-convert:hover {\n",
              "      background-color: #434B5C;\n",
              "      box-shadow: 0px 1px 3px 1px rgba(0, 0, 0, 0.15);\n",
              "      filter: drop-shadow(0px 1px 2px rgba(0, 0, 0, 0.3));\n",
              "      fill: #FFFFFF;\n",
              "    }\n",
              "  </style>\n",
              "\n",
              "      <script>\n",
              "        const buttonEl =\n",
              "          document.querySelector('#df-0b009edb-d7d6-47d6-aeff-a52789e1e8a1 button.colab-df-convert');\n",
              "        buttonEl.style.display =\n",
              "          google.colab.kernel.accessAllowed ? 'block' : 'none';\n",
              "\n",
              "        async function convertToInteractive(key) {\n",
              "          const element = document.querySelector('#df-0b009edb-d7d6-47d6-aeff-a52789e1e8a1');\n",
              "          const dataTable =\n",
              "            await google.colab.kernel.invokeFunction('convertToInteractive',\n",
              "                                                     [key], {});\n",
              "          if (!dataTable) return;\n",
              "\n",
              "          const docLinkHtml = 'Like what you see? Visit the ' +\n",
              "            '<a target=\"_blank\" href=https://colab.research.google.com/notebooks/data_table.ipynb>data table notebook</a>'\n",
              "            + ' to learn more about interactive tables.';\n",
              "          element.innerHTML = '';\n",
              "          dataTable['output_type'] = 'display_data';\n",
              "          await google.colab.output.renderOutput(dataTable, element);\n",
              "          const docLink = document.createElement('div');\n",
              "          docLink.innerHTML = docLinkHtml;\n",
              "          element.appendChild(docLink);\n",
              "        }\n",
              "      </script>\n",
              "    </div>\n",
              "  </div>\n",
              "  "
            ]
          },
          "metadata": {},
          "execution_count": 41
        }
      ]
    },
    {
      "cell_type": "code",
      "source": [
        "previsores3df.describe()"
      ],
      "metadata": {
        "id": "e-dcMRS-Fk1N",
        "colab": {
          "base_uri": "https://localhost:8080/",
          "height": 0
        },
        "outputId": "86f00c1a-7b25-4253-d272-2c14c94367f8"
      },
      "execution_count": 42,
      "outputs": [
        {
          "output_type": "execute_result",
          "data": {
            "text/plain": [
              "                 0             1             2             3             4   \\\n",
              "count  9.170000e+02  9.170000e+02  9.170000e+02  9.170000e+02  9.170000e+02   \n",
              "mean   1.084798e-16 -1.472226e-16  1.937139e-17 -3.874279e-17  3.874279e-17   \n",
              "std    1.000546e+00  1.000546e+00  1.000546e+00  1.000546e+00  1.000546e+00   \n",
              "min   -5.163086e-01 -1.936826e+00 -1.085425e+00 -4.822104e-01 -5.315237e-01   \n",
              "25%   -5.163086e-01  5.163086e-01 -1.085425e+00 -4.822104e-01 -5.315237e-01   \n",
              "50%   -5.163086e-01  5.163086e-01  9.212982e-01 -4.822104e-01 -5.315237e-01   \n",
              "75%   -5.163086e-01  5.163086e-01  9.212982e-01 -4.822104e-01 -5.315237e-01   \n",
              "max    1.936826e+00  5.163086e-01  9.212982e-01  2.073784e+00  1.881384e+00   \n",
              "\n",
              "                 5           6             7             8             9   \\\n",
              "count  9.170000e+02  917.000000  9.170000e+02  9.170000e+02  9.170000e+02   \n",
              "mean   6.973702e-17    0.000000 -9.298269e-17  1.549712e-17 -4.261707e-17   \n",
              "std    1.000546e+00    1.000546  1.000546e+00  1.000546e+00  1.000546e+00   \n",
              "min   -2.298105e-01   -0.507826 -1.226974e+00 -4.907810e-01 -1.213136e+00   \n",
              "25%   -2.298105e-01   -0.507826 -1.226974e+00 -4.907810e-01 -1.213136e+00   \n",
              "50%   -2.298105e-01   -0.507826  8.150134e-01 -4.907810e-01  8.243101e-01   \n",
              "75%   -2.298105e-01   -0.507826  8.150134e-01 -4.907810e-01  8.243101e-01   \n",
              "max    4.351412e+00    1.969177  8.150134e-01  2.037569e+00  8.243101e-01   \n",
              "\n",
              "                 10            11          12            13            14  \\\n",
              "count  9.170000e+02  9.170000e+02  917.000000  9.170000e+02  9.170000e+02   \n",
              "mean   4.261707e-17  8.523413e-17    0.000000 -3.874279e-17  1.859654e-16   \n",
              "std    1.000546e+00  1.000546e+00    1.000546  1.000546e+00  1.000546e+00   \n",
              "min   -8.243101e-01 -2.716072e-01   -1.001091 -8.698879e-01 -2.704405e+00   \n",
              "25%   -8.243101e-01 -2.716072e-01   -1.001091 -8.698879e-01 -6.900904e-01   \n",
              "50%   -8.243101e-01 -2.716072e-01    0.998910 -8.698879e-01  5.202558e-02   \n",
              "75%    1.213136e+00 -2.716072e-01    0.998910  1.149573e+00  6.881250e-01   \n",
              "max    1.213136e+00  3.681787e+00    0.998910  1.149573e+00  2.490407e+00   \n",
              "\n",
              "                 15            16            17            18            19  \n",
              "count  9.170000e+02  9.170000e+02  9.170000e+02  9.170000e+02  9.170000e+02  \n",
              "mean   7.884157e-16  3.014189e-15 -1.549712e-17 -5.114048e-16 -1.859654e-16  \n",
              "std    1.000546e+00  1.000546e+00  1.000546e+00  1.000546e+00  1.000546e+00  \n",
              "min   -2.920572e+00 -2.994023e+00 -5.517333e-01 -3.016886e+00 -3.269662e+00  \n",
              "25%   -6.971063e-01 -5.745784e-01 -5.517333e-01 -6.596226e-01 -8.315022e-01  \n",
              "50%   -1.412398e-01  3.198360e-15 -5.517333e-01  4.755658e-02 -2.688500e-01  \n",
              "75%    4.146267e-01  4.194568e-01 -5.517333e-01  7.547357e-01  5.751284e-01  \n",
              "max    3.749826e+00  6.721265e+00  1.812470e+00  2.561971e+00  4.982571e+00  "
            ],
            "text/html": [
              "\n",
              "  <div id=\"df-cf6abf96-5ae0-4381-91fe-d4b113da44a4\">\n",
              "    <div class=\"colab-df-container\">\n",
              "      <div>\n",
              "<style scoped>\n",
              "    .dataframe tbody tr th:only-of-type {\n",
              "        vertical-align: middle;\n",
              "    }\n",
              "\n",
              "    .dataframe tbody tr th {\n",
              "        vertical-align: top;\n",
              "    }\n",
              "\n",
              "    .dataframe thead th {\n",
              "        text-align: right;\n",
              "    }\n",
              "</style>\n",
              "<table border=\"1\" class=\"dataframe\">\n",
              "  <thead>\n",
              "    <tr style=\"text-align: right;\">\n",
              "      <th></th>\n",
              "      <th>0</th>\n",
              "      <th>1</th>\n",
              "      <th>2</th>\n",
              "      <th>3</th>\n",
              "      <th>4</th>\n",
              "      <th>5</th>\n",
              "      <th>6</th>\n",
              "      <th>7</th>\n",
              "      <th>8</th>\n",
              "      <th>9</th>\n",
              "      <th>10</th>\n",
              "      <th>11</th>\n",
              "      <th>12</th>\n",
              "      <th>13</th>\n",
              "      <th>14</th>\n",
              "      <th>15</th>\n",
              "      <th>16</th>\n",
              "      <th>17</th>\n",
              "      <th>18</th>\n",
              "      <th>19</th>\n",
              "    </tr>\n",
              "  </thead>\n",
              "  <tbody>\n",
              "    <tr>\n",
              "      <th>count</th>\n",
              "      <td>9.170000e+02</td>\n",
              "      <td>9.170000e+02</td>\n",
              "      <td>9.170000e+02</td>\n",
              "      <td>9.170000e+02</td>\n",
              "      <td>9.170000e+02</td>\n",
              "      <td>9.170000e+02</td>\n",
              "      <td>917.000000</td>\n",
              "      <td>9.170000e+02</td>\n",
              "      <td>9.170000e+02</td>\n",
              "      <td>9.170000e+02</td>\n",
              "      <td>9.170000e+02</td>\n",
              "      <td>9.170000e+02</td>\n",
              "      <td>917.000000</td>\n",
              "      <td>9.170000e+02</td>\n",
              "      <td>9.170000e+02</td>\n",
              "      <td>9.170000e+02</td>\n",
              "      <td>9.170000e+02</td>\n",
              "      <td>9.170000e+02</td>\n",
              "      <td>9.170000e+02</td>\n",
              "      <td>9.170000e+02</td>\n",
              "    </tr>\n",
              "    <tr>\n",
              "      <th>mean</th>\n",
              "      <td>1.084798e-16</td>\n",
              "      <td>-1.472226e-16</td>\n",
              "      <td>1.937139e-17</td>\n",
              "      <td>-3.874279e-17</td>\n",
              "      <td>3.874279e-17</td>\n",
              "      <td>6.973702e-17</td>\n",
              "      <td>0.000000</td>\n",
              "      <td>-9.298269e-17</td>\n",
              "      <td>1.549712e-17</td>\n",
              "      <td>-4.261707e-17</td>\n",
              "      <td>4.261707e-17</td>\n",
              "      <td>8.523413e-17</td>\n",
              "      <td>0.000000</td>\n",
              "      <td>-3.874279e-17</td>\n",
              "      <td>1.859654e-16</td>\n",
              "      <td>7.884157e-16</td>\n",
              "      <td>3.014189e-15</td>\n",
              "      <td>-1.549712e-17</td>\n",
              "      <td>-5.114048e-16</td>\n",
              "      <td>-1.859654e-16</td>\n",
              "    </tr>\n",
              "    <tr>\n",
              "      <th>std</th>\n",
              "      <td>1.000546e+00</td>\n",
              "      <td>1.000546e+00</td>\n",
              "      <td>1.000546e+00</td>\n",
              "      <td>1.000546e+00</td>\n",
              "      <td>1.000546e+00</td>\n",
              "      <td>1.000546e+00</td>\n",
              "      <td>1.000546</td>\n",
              "      <td>1.000546e+00</td>\n",
              "      <td>1.000546e+00</td>\n",
              "      <td>1.000546e+00</td>\n",
              "      <td>1.000546e+00</td>\n",
              "      <td>1.000546e+00</td>\n",
              "      <td>1.000546</td>\n",
              "      <td>1.000546e+00</td>\n",
              "      <td>1.000546e+00</td>\n",
              "      <td>1.000546e+00</td>\n",
              "      <td>1.000546e+00</td>\n",
              "      <td>1.000546e+00</td>\n",
              "      <td>1.000546e+00</td>\n",
              "      <td>1.000546e+00</td>\n",
              "    </tr>\n",
              "    <tr>\n",
              "      <th>min</th>\n",
              "      <td>-5.163086e-01</td>\n",
              "      <td>-1.936826e+00</td>\n",
              "      <td>-1.085425e+00</td>\n",
              "      <td>-4.822104e-01</td>\n",
              "      <td>-5.315237e-01</td>\n",
              "      <td>-2.298105e-01</td>\n",
              "      <td>-0.507826</td>\n",
              "      <td>-1.226974e+00</td>\n",
              "      <td>-4.907810e-01</td>\n",
              "      <td>-1.213136e+00</td>\n",
              "      <td>-8.243101e-01</td>\n",
              "      <td>-2.716072e-01</td>\n",
              "      <td>-1.001091</td>\n",
              "      <td>-8.698879e-01</td>\n",
              "      <td>-2.704405e+00</td>\n",
              "      <td>-2.920572e+00</td>\n",
              "      <td>-2.994023e+00</td>\n",
              "      <td>-5.517333e-01</td>\n",
              "      <td>-3.016886e+00</td>\n",
              "      <td>-3.269662e+00</td>\n",
              "    </tr>\n",
              "    <tr>\n",
              "      <th>25%</th>\n",
              "      <td>-5.163086e-01</td>\n",
              "      <td>5.163086e-01</td>\n",
              "      <td>-1.085425e+00</td>\n",
              "      <td>-4.822104e-01</td>\n",
              "      <td>-5.315237e-01</td>\n",
              "      <td>-2.298105e-01</td>\n",
              "      <td>-0.507826</td>\n",
              "      <td>-1.226974e+00</td>\n",
              "      <td>-4.907810e-01</td>\n",
              "      <td>-1.213136e+00</td>\n",
              "      <td>-8.243101e-01</td>\n",
              "      <td>-2.716072e-01</td>\n",
              "      <td>-1.001091</td>\n",
              "      <td>-8.698879e-01</td>\n",
              "      <td>-6.900904e-01</td>\n",
              "      <td>-6.971063e-01</td>\n",
              "      <td>-5.745784e-01</td>\n",
              "      <td>-5.517333e-01</td>\n",
              "      <td>-6.596226e-01</td>\n",
              "      <td>-8.315022e-01</td>\n",
              "    </tr>\n",
              "    <tr>\n",
              "      <th>50%</th>\n",
              "      <td>-5.163086e-01</td>\n",
              "      <td>5.163086e-01</td>\n",
              "      <td>9.212982e-01</td>\n",
              "      <td>-4.822104e-01</td>\n",
              "      <td>-5.315237e-01</td>\n",
              "      <td>-2.298105e-01</td>\n",
              "      <td>-0.507826</td>\n",
              "      <td>8.150134e-01</td>\n",
              "      <td>-4.907810e-01</td>\n",
              "      <td>8.243101e-01</td>\n",
              "      <td>-8.243101e-01</td>\n",
              "      <td>-2.716072e-01</td>\n",
              "      <td>0.998910</td>\n",
              "      <td>-8.698879e-01</td>\n",
              "      <td>5.202558e-02</td>\n",
              "      <td>-1.412398e-01</td>\n",
              "      <td>3.198360e-15</td>\n",
              "      <td>-5.517333e-01</td>\n",
              "      <td>4.755658e-02</td>\n",
              "      <td>-2.688500e-01</td>\n",
              "    </tr>\n",
              "    <tr>\n",
              "      <th>75%</th>\n",
              "      <td>-5.163086e-01</td>\n",
              "      <td>5.163086e-01</td>\n",
              "      <td>9.212982e-01</td>\n",
              "      <td>-4.822104e-01</td>\n",
              "      <td>-5.315237e-01</td>\n",
              "      <td>-2.298105e-01</td>\n",
              "      <td>-0.507826</td>\n",
              "      <td>8.150134e-01</td>\n",
              "      <td>-4.907810e-01</td>\n",
              "      <td>8.243101e-01</td>\n",
              "      <td>1.213136e+00</td>\n",
              "      <td>-2.716072e-01</td>\n",
              "      <td>0.998910</td>\n",
              "      <td>1.149573e+00</td>\n",
              "      <td>6.881250e-01</td>\n",
              "      <td>4.146267e-01</td>\n",
              "      <td>4.194568e-01</td>\n",
              "      <td>-5.517333e-01</td>\n",
              "      <td>7.547357e-01</td>\n",
              "      <td>5.751284e-01</td>\n",
              "    </tr>\n",
              "    <tr>\n",
              "      <th>max</th>\n",
              "      <td>1.936826e+00</td>\n",
              "      <td>5.163086e-01</td>\n",
              "      <td>9.212982e-01</td>\n",
              "      <td>2.073784e+00</td>\n",
              "      <td>1.881384e+00</td>\n",
              "      <td>4.351412e+00</td>\n",
              "      <td>1.969177</td>\n",
              "      <td>8.150134e-01</td>\n",
              "      <td>2.037569e+00</td>\n",
              "      <td>8.243101e-01</td>\n",
              "      <td>1.213136e+00</td>\n",
              "      <td>3.681787e+00</td>\n",
              "      <td>0.998910</td>\n",
              "      <td>1.149573e+00</td>\n",
              "      <td>2.490407e+00</td>\n",
              "      <td>3.749826e+00</td>\n",
              "      <td>6.721265e+00</td>\n",
              "      <td>1.812470e+00</td>\n",
              "      <td>2.561971e+00</td>\n",
              "      <td>4.982571e+00</td>\n",
              "    </tr>\n",
              "  </tbody>\n",
              "</table>\n",
              "</div>\n",
              "      <button class=\"colab-df-convert\" onclick=\"convertToInteractive('df-cf6abf96-5ae0-4381-91fe-d4b113da44a4')\"\n",
              "              title=\"Convert this dataframe to an interactive table.\"\n",
              "              style=\"display:none;\">\n",
              "        \n",
              "  <svg xmlns=\"http://www.w3.org/2000/svg\" height=\"24px\"viewBox=\"0 0 24 24\"\n",
              "       width=\"24px\">\n",
              "    <path d=\"M0 0h24v24H0V0z\" fill=\"none\"/>\n",
              "    <path d=\"M18.56 5.44l.94 2.06.94-2.06 2.06-.94-2.06-.94-.94-2.06-.94 2.06-2.06.94zm-11 1L8.5 8.5l.94-2.06 2.06-.94-2.06-.94L8.5 2.5l-.94 2.06-2.06.94zm10 10l.94 2.06.94-2.06 2.06-.94-2.06-.94-.94-2.06-.94 2.06-2.06.94z\"/><path d=\"M17.41 7.96l-1.37-1.37c-.4-.4-.92-.59-1.43-.59-.52 0-1.04.2-1.43.59L10.3 9.45l-7.72 7.72c-.78.78-.78 2.05 0 2.83L4 21.41c.39.39.9.59 1.41.59.51 0 1.02-.2 1.41-.59l7.78-7.78 2.81-2.81c.8-.78.8-2.07 0-2.86zM5.41 20L4 18.59l7.72-7.72 1.47 1.35L5.41 20z\"/>\n",
              "  </svg>\n",
              "      </button>\n",
              "      \n",
              "  <style>\n",
              "    .colab-df-container {\n",
              "      display:flex;\n",
              "      flex-wrap:wrap;\n",
              "      gap: 12px;\n",
              "    }\n",
              "\n",
              "    .colab-df-convert {\n",
              "      background-color: #E8F0FE;\n",
              "      border: none;\n",
              "      border-radius: 50%;\n",
              "      cursor: pointer;\n",
              "      display: none;\n",
              "      fill: #1967D2;\n",
              "      height: 32px;\n",
              "      padding: 0 0 0 0;\n",
              "      width: 32px;\n",
              "    }\n",
              "\n",
              "    .colab-df-convert:hover {\n",
              "      background-color: #E2EBFA;\n",
              "      box-shadow: 0px 1px 2px rgba(60, 64, 67, 0.3), 0px 1px 3px 1px rgba(60, 64, 67, 0.15);\n",
              "      fill: #174EA6;\n",
              "    }\n",
              "\n",
              "    [theme=dark] .colab-df-convert {\n",
              "      background-color: #3B4455;\n",
              "      fill: #D2E3FC;\n",
              "    }\n",
              "\n",
              "    [theme=dark] .colab-df-convert:hover {\n",
              "      background-color: #434B5C;\n",
              "      box-shadow: 0px 1px 3px 1px rgba(0, 0, 0, 0.15);\n",
              "      filter: drop-shadow(0px 1px 2px rgba(0, 0, 0, 0.3));\n",
              "      fill: #FFFFFF;\n",
              "    }\n",
              "  </style>\n",
              "\n",
              "      <script>\n",
              "        const buttonEl =\n",
              "          document.querySelector('#df-cf6abf96-5ae0-4381-91fe-d4b113da44a4 button.colab-df-convert');\n",
              "        buttonEl.style.display =\n",
              "          google.colab.kernel.accessAllowed ? 'block' : 'none';\n",
              "\n",
              "        async function convertToInteractive(key) {\n",
              "          const element = document.querySelector('#df-cf6abf96-5ae0-4381-91fe-d4b113da44a4');\n",
              "          const dataTable =\n",
              "            await google.colab.kernel.invokeFunction('convertToInteractive',\n",
              "                                                     [key], {});\n",
              "          if (!dataTable) return;\n",
              "\n",
              "          const docLinkHtml = 'Like what you see? Visit the ' +\n",
              "            '<a target=\"_blank\" href=https://colab.research.google.com/notebooks/data_table.ipynb>data table notebook</a>'\n",
              "            + ' to learn more about interactive tables.';\n",
              "          element.innerHTML = '';\n",
              "          dataTable['output_type'] = 'display_data';\n",
              "          await google.colab.output.renderOutput(dataTable, element);\n",
              "          const docLink = document.createElement('div');\n",
              "          docLink.innerHTML = docLinkHtml;\n",
              "          element.appendChild(docLink);\n",
              "        }\n",
              "      </script>\n",
              "    </div>\n",
              "  </div>\n",
              "  "
            ]
          },
          "metadata": {},
          "execution_count": 42
        }
      ]
    },
    {
      "cell_type": "markdown",
      "source": [
        "## **RESUMO PRÉ-PROCESSAMENTO**"
      ],
      "metadata": {
        "id": "kW700Sj9Fk1O"
      }
    },
    {
      "cell_type": "markdown",
      "source": [
        "alvo = variável que se pretende atingir (tem ou não doença cardíaca).\n",
        "\n",
        "previsores = conjunto de variáveis previsoras com as variáveis categóricas transformadas em numéricas manualmente, sem escalonar.\n",
        "\n",
        "previsores_esc = conjunto de variáveis previsoras com as variáveis categóricas transformadas em numéricas, escalonada.\n",
        "\n",
        "previsores2 = conjunto de variáveis previsoras com as variáveis categóricas transformadas em numéricas pelo labelencoder.\n",
        "\n",
        "previsores3 = conjunto de variáveis previsoras transformadas pelo labelencoder e onehotencoder, sem escalonar.\n",
        "\n",
        "previsores3_esc = conjunto de variáveis previsoras transformadas pelo labelencoder e onehotencoder escalonada."
      ],
      "metadata": {
        "id": "k-L1kFumG1pO"
      }
    },
    {
      "cell_type": "markdown",
      "source": [
        "## **Redução de dimensionalidade**"
      ],
      "metadata": {
        "id": "S3Kl3wySKBEw"
      }
    },
    {
      "cell_type": "markdown",
      "source": [
        "Objetivo é selecionar os melhores componentes (atributos) para treinamento do algoritmo, através da análise das correlações entre as variáveis."
      ],
      "metadata": {
        "id": "w5fLfwjg8xrw"
      }
    },
    {
      "cell_type": "markdown",
      "metadata": {
        "id": "6OurC4GyUoak"
      },
      "source": [
        "### Análise dos Componentes Principais (PCA)"
      ]
    },
    {
      "cell_type": "markdown",
      "source": [
        "**Seleção de características:** seleciona os melhores atributos e utiliza sem transformações.\n",
        "\n",
        "**Extração de Características:** Encontra os relacionamentos dos melhores atributos e cria novos atributos.\n",
        "\n",
        "É um algoritmo de aprendizagem não supervisionada.\n",
        "\n",
        "Aplica-se em dados linearmente separáveis."
      ],
      "metadata": {
        "id": "iB5XY2Tf9AH5"
      }
    },
    {
      "cell_type": "code",
      "metadata": {
        "id": "j2adDUMyX3d2"
      },
      "source": [
        "from sklearn.decomposition import PCA"
      ],
      "execution_count": 43,
      "outputs": []
    },
    {
      "cell_type": "code",
      "metadata": {
        "id": "ZmpO8urpX8kz"
      },
      "source": [
        "pca = PCA(n_components=3)"
      ],
      "execution_count": 44,
      "outputs": []
    },
    {
      "cell_type": "code",
      "metadata": {
        "id": "zVHnZ8rYYOeL"
      },
      "source": [
        "previsores_pca = pca.fit_transform(previsores2)"
      ],
      "execution_count": 45,
      "outputs": []
    },
    {
      "cell_type": "code",
      "metadata": {
        "id": "5Ouz2wdFYkJh",
        "colab": {
          "base_uri": "https://localhost:8080/"
        },
        "outputId": "88342329-c502-462d-cf61-2ee6f35ce721"
      },
      "source": [
        "previsores_pca.shape"
      ],
      "execution_count": 46,
      "outputs": [
        {
          "output_type": "execute_result",
          "data": {
            "text/plain": [
              "(917, 3)"
            ]
          },
          "metadata": {},
          "execution_count": 46
        }
      ]
    },
    {
      "cell_type": "code",
      "metadata": {
        "id": "i06cyMBkYubR",
        "colab": {
          "base_uri": "https://localhost:8080/"
        },
        "outputId": "86583e57-2a59-43dc-ef95-0bde5d9702a6"
      },
      "source": [
        "# Componentes principais\n",
        "previsores_pca"
      ],
      "execution_count": 47,
      "outputs": [
        {
          "output_type": "execute_result",
          "data": {
            "text/plain": [
              "array([[  44.01218603,  -36.15137592,   10.64727631],\n",
              "       [ -63.9918455 ,  -13.93849233,   31.69212503],\n",
              "       [  38.53844277,   33.91712222,  -12.48837374],\n",
              "       ...,\n",
              "       [-113.3467467 ,   23.48595247,   -2.51064362],\n",
              "       [  -9.1141306 ,  -35.90083188,    4.81814643],\n",
              "       [ -70.01342608,  -35.68741686,   12.10984845]])"
            ]
          },
          "metadata": {},
          "execution_count": 47
        }
      ]
    },
    {
      "cell_type": "code",
      "metadata": {
        "id": "hdBAi-piY28x",
        "colab": {
          "base_uri": "https://localhost:8080/"
        },
        "outputId": "1712821e-6dd8-4a19-b1ff-6eb608669ac1"
      },
      "source": [
        "# razão das variáveis explicativas\n",
        "pca.explained_variance_ratio_"
      ],
      "execution_count": 48,
      "outputs": [
        {
          "output_type": "execute_result",
          "data": {
            "text/plain": [
              "array([0.72847929, 0.17183534, 0.08122019])"
            ]
          },
          "metadata": {},
          "execution_count": 48
        }
      ]
    },
    {
      "cell_type": "code",
      "metadata": {
        "id": "lBxPFP0VZR1I",
        "colab": {
          "base_uri": "https://localhost:8080/"
        },
        "outputId": "330a4d22-4344-4234-8cad-1f2d43ee092e"
      },
      "source": [
        "# Soma das variáveis explicativas\n",
        "pca.explained_variance_ratio_.sum()"
      ],
      "execution_count": 49,
      "outputs": [
        {
          "output_type": "execute_result",
          "data": {
            "text/plain": [
              "0.9815348236774051"
            ]
          },
          "metadata": {},
          "execution_count": 49
        }
      ]
    },
    {
      "cell_type": "markdown",
      "metadata": {
        "id": "2UhdSgBmUtJ6"
      },
      "source": [
        "### Kernel PCA"
      ]
    },
    {
      "cell_type": "markdown",
      "source": [
        "É um algoritmo de aprendizagem não supervisionada.\n",
        "\n",
        "Aplica-se também em dados linearmente não separáveis."
      ],
      "metadata": {
        "id": "1DM-bEoM_JzC"
      }
    },
    {
      "cell_type": "code",
      "metadata": {
        "id": "z4ATtNXscFq2"
      },
      "source": [
        "from sklearn.decomposition import KernelPCA"
      ],
      "execution_count": 50,
      "outputs": []
    },
    {
      "cell_type": "code",
      "metadata": {
        "id": "8kB6ZCIvcNb1"
      },
      "source": [
        "kpca = KernelPCA(n_components=4, kernel='rbf')"
      ],
      "execution_count": 51,
      "outputs": []
    },
    {
      "cell_type": "code",
      "source": [
        "previsores_kernel = kpca.fit_transform(previsores2)"
      ],
      "metadata": {
        "id": "bRAZ06bXPspG"
      },
      "execution_count": 52,
      "outputs": []
    },
    {
      "cell_type": "code",
      "metadata": {
        "id": "tswhvRYtdMvr",
        "colab": {
          "base_uri": "https://localhost:8080/"
        },
        "outputId": "4ccd6126-6e84-4183-f2a8-5b9e5461fe98"
      },
      "source": [
        "previsores_kernel.shape"
      ],
      "execution_count": 53,
      "outputs": [
        {
          "output_type": "execute_result",
          "data": {
            "text/plain": [
              "(917, 4)"
            ]
          },
          "metadata": {},
          "execution_count": 53
        }
      ]
    },
    {
      "cell_type": "code",
      "metadata": {
        "id": "age1iPvsdZg-",
        "colab": {
          "base_uri": "https://localhost:8080/"
        },
        "outputId": "cef6e699-7d0f-4c88-87db-49e0f97340f2"
      },
      "source": [
        "previsores_kernel"
      ],
      "execution_count": 54,
      "outputs": [
        {
          "output_type": "execute_result",
          "data": {
            "text/plain": [
              "array([[-0.00249772, -0.00290225, -0.0027372 , -0.00191636],\n",
              "       [-0.00249877, -0.00290359, -0.00273854, -0.00191743],\n",
              "       [-0.00249785, -0.00290241, -0.00273736, -0.00191649],\n",
              "       ...,\n",
              "       [-0.00249774, -0.00290227, -0.00273723, -0.00191638],\n",
              "       [-0.00249793, -0.00290252, -0.00273748, -0.00191659],\n",
              "       [-0.00249772, -0.00290225, -0.0027372 , -0.00191637]])"
            ]
          },
          "metadata": {},
          "execution_count": 54
        }
      ]
    },
    {
      "cell_type": "markdown",
      "source": [
        "### **Análise do Discriminante Linear (LDA: Linear Discriminant Analysis)**"
      ],
      "metadata": {
        "id": "u3jQ6H1S-HtG"
      }
    },
    {
      "cell_type": "markdown",
      "source": [
        "Algoritmo de aprendizagem supervisionada, pois utiliza a classe como referência para seleção.\n",
        "\n",
        "Aplicado em situações com muitos atributos previsores e também com o atributo alvo com muitas classes."
      ],
      "metadata": {
        "id": "NqO1DSAP-7tT"
      }
    },
    {
      "cell_type": "code",
      "metadata": {
        "id": "3RRYZemLenmT"
      },
      "source": [
        "from sklearn.discriminant_analysis import LinearDiscriminantAnalysis\n",
        "lda = LinearDiscriminantAnalysis(n_components = 1)"
      ],
      "execution_count": 55,
      "outputs": []
    },
    {
      "cell_type": "code",
      "metadata": {
        "id": "onA-GJZafCLU"
      },
      "source": [
        "previsores_lda = lda.fit_transform(previsores2, alvo)"
      ],
      "execution_count": 56,
      "outputs": []
    },
    {
      "cell_type": "code",
      "source": [
        "previsores_lda"
      ],
      "metadata": {
        "id": "Y2qtrFLrBVzr",
        "colab": {
          "base_uri": "https://localhost:8080/"
        },
        "outputId": "932d6cb0-a82e-4b64-b51b-f9f40ef76793"
      },
      "execution_count": 57,
      "outputs": [
        {
          "output_type": "execute_result",
          "data": {
            "text/plain": [
              "array([[-1.47297727],\n",
              "       [-1.41360735],\n",
              "       [-0.96705302],\n",
              "       [ 0.53331037],\n",
              "       [-1.45783427],\n",
              "       [-1.78559221],\n",
              "       [-2.28906835],\n",
              "       [-1.26844095],\n",
              "       [ 1.03044735],\n",
              "       [-1.8033219 ],\n",
              "       [-2.56103248],\n",
              "       [ 1.08833702],\n",
              "       [-1.4298088 ],\n",
              "       [ 1.02172609],\n",
              "       [-2.51881925],\n",
              "       [-0.75582909],\n",
              "       [-0.27447783],\n",
              "       [-2.33841952],\n",
              "       [ 0.50562225],\n",
              "       [ 0.03155735],\n",
              "       [-2.89530718],\n",
              "       [-0.23402029],\n",
              "       [-2.26833719],\n",
              "       [ 0.97019565],\n",
              "       [-1.70998121],\n",
              "       [-2.0730337 ],\n",
              "       [ 1.62722174],\n",
              "       [-0.96486408],\n",
              "       [-1.52502126],\n",
              "       [-1.33460621],\n",
              "       [-0.03948873],\n",
              "       [-1.44459749],\n",
              "       [ 0.63936919],\n",
              "       [ 0.34808635],\n",
              "       [-2.23945383],\n",
              "       [-1.48957548],\n",
              "       [ 2.4746182 ],\n",
              "       [-2.13691975],\n",
              "       [-1.54252555],\n",
              "       [ 0.30741381],\n",
              "       [-1.8748176 ],\n",
              "       [-0.26749988],\n",
              "       [-1.51713745],\n",
              "       [-1.79186716],\n",
              "       [ 1.00348547],\n",
              "       [ 0.64800053],\n",
              "       [-1.22524435],\n",
              "       [-1.47829185],\n",
              "       [-0.77636186],\n",
              "       [-0.12865852],\n",
              "       [ 1.34295208],\n",
              "       [ 0.65422291],\n",
              "       [-0.4557005 ],\n",
              "       [-2.15691729],\n",
              "       [ 0.25536539],\n",
              "       [-2.26417676],\n",
              "       [ 0.86836148],\n",
              "       [-0.60301353],\n",
              "       [-0.38277361],\n",
              "       [ 1.50907547],\n",
              "       [-1.50857567],\n",
              "       [-2.67081271],\n",
              "       [-0.93385381],\n",
              "       [ 1.15581054],\n",
              "       [-2.12436997],\n",
              "       [-2.02566299],\n",
              "       [-1.61128669],\n",
              "       [-1.7825921 ],\n",
              "       [ 2.05082548],\n",
              "       [-0.83570852],\n",
              "       [ 0.70693463],\n",
              "       [-1.27352923],\n",
              "       [-0.02482612],\n",
              "       [-1.55996385],\n",
              "       [ 1.31581706],\n",
              "       [-1.53819264],\n",
              "       [ 0.49380729],\n",
              "       [-1.95231331],\n",
              "       [-0.67889962],\n",
              "       [-0.16066905],\n",
              "       [-1.66499886],\n",
              "       [-1.30296599],\n",
              "       [ 0.45795738],\n",
              "       [-1.42756451],\n",
              "       [ 1.86472923],\n",
              "       [ 1.39491241],\n",
              "       [ 2.33294249],\n",
              "       [ 0.03204149],\n",
              "       [-1.12661004],\n",
              "       [ 1.21970316],\n",
              "       [-2.2425467 ],\n",
              "       [-0.8391131 ],\n",
              "       [-2.10401498],\n",
              "       [ 1.65426173],\n",
              "       [-2.93875944],\n",
              "       [ 1.3176681 ],\n",
              "       [-1.30501623],\n",
              "       [-1.28599933],\n",
              "       [-1.04351704],\n",
              "       [-1.29286266],\n",
              "       [ 1.3983015 ],\n",
              "       [-0.61376488],\n",
              "       [-0.04322651],\n",
              "       [ 1.86713147],\n",
              "       [ 0.12667388],\n",
              "       [-0.42526827],\n",
              "       [-1.42477203],\n",
              "       [-1.63348802],\n",
              "       [-0.96697796],\n",
              "       [-0.97872716],\n",
              "       [-0.71472611],\n",
              "       [ 1.87337251],\n",
              "       [ 0.71098493],\n",
              "       [-1.30594287],\n",
              "       [-2.42439448],\n",
              "       [-0.02367259],\n",
              "       [-0.15644551],\n",
              "       [ 1.30613953],\n",
              "       [-3.41405246],\n",
              "       [-1.57442636],\n",
              "       [-0.96084658],\n",
              "       [-2.30250912],\n",
              "       [-0.9303196 ],\n",
              "       [ 0.48767217],\n",
              "       [-1.23390101],\n",
              "       [-0.9434399 ],\n",
              "       [-2.67333379],\n",
              "       [-1.71885403],\n",
              "       [-1.31052999],\n",
              "       [ 0.1651487 ],\n",
              "       [-1.52484955],\n",
              "       [ 0.65120793],\n",
              "       [ 1.66167923],\n",
              "       [ 1.28137826],\n",
              "       [ 0.56657326],\n",
              "       [-0.87302219],\n",
              "       [-2.42171127],\n",
              "       [-1.05416952],\n",
              "       [ 0.95858464],\n",
              "       [ 1.25165012],\n",
              "       [ 1.85556412],\n",
              "       [ 1.5570952 ],\n",
              "       [ 1.30041712],\n",
              "       [-0.91367757],\n",
              "       [-0.81492644],\n",
              "       [-0.85458961],\n",
              "       [-1.48952001],\n",
              "       [-2.37524388],\n",
              "       [-1.50038603],\n",
              "       [ 2.44483595],\n",
              "       [-1.20312923],\n",
              "       [-1.08524172],\n",
              "       [-1.33407261],\n",
              "       [-0.7573623 ],\n",
              "       [-1.4166922 ],\n",
              "       [ 2.23120635],\n",
              "       [ 0.73115764],\n",
              "       [-0.84762309],\n",
              "       [ 1.54218584],\n",
              "       [-0.98547065],\n",
              "       [ 1.86137596],\n",
              "       [ 1.14317372],\n",
              "       [-1.43919738],\n",
              "       [-1.45331485],\n",
              "       [-1.99282263],\n",
              "       [-0.20427491],\n",
              "       [ 1.70211104],\n",
              "       [-1.05246642],\n",
              "       [-0.47205912],\n",
              "       [-1.75670659],\n",
              "       [-1.58128745],\n",
              "       [-2.05994677],\n",
              "       [-1.22032442],\n",
              "       [-1.92453514],\n",
              "       [ 1.32446452],\n",
              "       [ 1.26569907],\n",
              "       [ 0.69086695],\n",
              "       [-1.12114124],\n",
              "       [-1.86679774],\n",
              "       [-1.27290952],\n",
              "       [ 1.35716728],\n",
              "       [-1.31042056],\n",
              "       [ 1.62385683],\n",
              "       [ 0.93631205],\n",
              "       [-1.73165747],\n",
              "       [ 0.48765751],\n",
              "       [-0.88511655],\n",
              "       [ 1.62097012],\n",
              "       [ 0.60933153],\n",
              "       [ 1.40838981],\n",
              "       [-0.6241705 ],\n",
              "       [-1.05454657],\n",
              "       [-1.38434072],\n",
              "       [-1.47224495],\n",
              "       [-2.49687918],\n",
              "       [-2.48419036],\n",
              "       [ 0.44778238],\n",
              "       [-1.19164147],\n",
              "       [ 1.06848936],\n",
              "       [-1.08627342],\n",
              "       [-2.08200743],\n",
              "       [-1.73528777],\n",
              "       [-1.82633959],\n",
              "       [-2.35721403],\n",
              "       [-0.93253202],\n",
              "       [-0.14330776],\n",
              "       [-1.550762  ],\n",
              "       [-0.3753301 ],\n",
              "       [-1.92633663],\n",
              "       [ 0.13349137],\n",
              "       [ 1.04405064],\n",
              "       [-0.59160027],\n",
              "       [-0.49155109],\n",
              "       [-2.56681625],\n",
              "       [ 1.42069008],\n",
              "       [-3.16014054],\n",
              "       [-0.00455886],\n",
              "       [-1.57713237],\n",
              "       [-1.30484654],\n",
              "       [-1.60395028],\n",
              "       [ 0.29328685],\n",
              "       [ 0.31205856],\n",
              "       [-2.35955308],\n",
              "       [-2.02670304],\n",
              "       [-0.45131542],\n",
              "       [ 0.11734055],\n",
              "       [-1.6455011 ],\n",
              "       [ 0.98223348],\n",
              "       [-1.46223644],\n",
              "       [-2.23048631],\n",
              "       [-0.98729539],\n",
              "       [-1.83301464],\n",
              "       [-1.98424435],\n",
              "       [-0.94861876],\n",
              "       [-1.86629516],\n",
              "       [ 0.31541967],\n",
              "       [ 1.60871922],\n",
              "       [-0.80471512],\n",
              "       [ 1.72846954],\n",
              "       [ 1.62149828],\n",
              "       [-1.1304052 ],\n",
              "       [ 1.24436421],\n",
              "       [ 1.65274078],\n",
              "       [-1.86413969],\n",
              "       [ 1.38226014],\n",
              "       [-1.67398489],\n",
              "       [ 0.31003073],\n",
              "       [ 2.78593696],\n",
              "       [ 0.99935619],\n",
              "       [ 1.33828415],\n",
              "       [ 0.52894479],\n",
              "       [ 0.68866632],\n",
              "       [ 0.22487709],\n",
              "       [-0.95817247],\n",
              "       [ 1.62987478],\n",
              "       [-2.22487019],\n",
              "       [-1.75802244],\n",
              "       [-2.07990393],\n",
              "       [-2.1594062 ],\n",
              "       [-1.95224582],\n",
              "       [-0.66930706],\n",
              "       [-1.8128839 ],\n",
              "       [ 0.98546405],\n",
              "       [ 0.16168507],\n",
              "       [ 0.14853301],\n",
              "       [-1.31301352],\n",
              "       [ 1.3770381 ],\n",
              "       [-1.51803096],\n",
              "       [ 1.4563745 ],\n",
              "       [-1.11876647],\n",
              "       [-0.92490573],\n",
              "       [-2.46651771],\n",
              "       [ 1.45639102],\n",
              "       [-1.5122684 ],\n",
              "       [-2.21473145],\n",
              "       [-1.17162839],\n",
              "       [-0.44931342],\n",
              "       [ 1.26722129],\n",
              "       [ 0.59107024],\n",
              "       [-2.08610147],\n",
              "       [-1.43078248],\n",
              "       [ 0.61858106],\n",
              "       [-1.48987542],\n",
              "       [-1.99465406],\n",
              "       [-0.95323414],\n",
              "       [-2.31154558],\n",
              "       [-0.85639019],\n",
              "       [-1.23027055],\n",
              "       [-1.70856544],\n",
              "       [-1.79504883],\n",
              "       [-1.66405711],\n",
              "       [-1.77445463],\n",
              "       [-0.96810702],\n",
              "       [ 1.35624968],\n",
              "       [-1.26699755],\n",
              "       [ 1.13404434],\n",
              "       [ 1.68887454],\n",
              "       [ 0.89192537],\n",
              "       [ 1.19006114],\n",
              "       [ 0.06388196],\n",
              "       [ 0.95760723],\n",
              "       [-1.21884641],\n",
              "       [ 0.28940391],\n",
              "       [ 2.24447341],\n",
              "       [ 1.29036475],\n",
              "       [ 0.13814178],\n",
              "       [ 0.75544498],\n",
              "       [ 1.03554626],\n",
              "       [ 0.00765534],\n",
              "       [ 1.62368595],\n",
              "       [-0.5946977 ],\n",
              "       [ 0.18926704],\n",
              "       [-0.24907235],\n",
              "       [-0.40058775],\n",
              "       [ 2.15288514],\n",
              "       [ 0.05416492],\n",
              "       [ 0.1036372 ],\n",
              "       [ 1.09454096],\n",
              "       [ 1.86710518],\n",
              "       [ 0.38359443],\n",
              "       [ 0.33808944],\n",
              "       [ 1.00068387],\n",
              "       [-0.79683041],\n",
              "       [ 3.1508434 ],\n",
              "       [ 0.32359031],\n",
              "       [ 2.2450472 ],\n",
              "       [-1.65653801],\n",
              "       [ 0.96279735],\n",
              "       [ 2.11431285],\n",
              "       [ 2.86135322],\n",
              "       [-0.42807523],\n",
              "       [ 0.1395382 ],\n",
              "       [-2.23427119],\n",
              "       [-0.35057846],\n",
              "       [-0.50406329],\n",
              "       [-0.26098473],\n",
              "       [ 0.15728719],\n",
              "       [ 0.50679805],\n",
              "       [ 0.28929007],\n",
              "       [ 1.26798669],\n",
              "       [ 2.10919353],\n",
              "       [ 3.06350319],\n",
              "       [ 1.36605469],\n",
              "       [ 1.00314274],\n",
              "       [ 1.10758215],\n",
              "       [ 0.41357299],\n",
              "       [ 0.41803771],\n",
              "       [ 0.88372537],\n",
              "       [ 1.58852733],\n",
              "       [ 1.67572817],\n",
              "       [ 1.00061797],\n",
              "       [-0.11400685],\n",
              "       [ 1.99928015],\n",
              "       [ 1.40104225],\n",
              "       [-0.39382639],\n",
              "       [-0.65089248],\n",
              "       [ 1.2804095 ],\n",
              "       [ 0.14371283],\n",
              "       [ 0.07314985],\n",
              "       [-0.40659027],\n",
              "       [ 0.79831036],\n",
              "       [ 0.99424132],\n",
              "       [-0.2182558 ],\n",
              "       [ 0.1024341 ],\n",
              "       [-0.21792997],\n",
              "       [ 0.47020931],\n",
              "       [ 1.52241832],\n",
              "       [ 0.18877912],\n",
              "       [ 1.44844604],\n",
              "       [ 1.78583376],\n",
              "       [ 0.67614963],\n",
              "       [ 1.64114833],\n",
              "       [ 0.40163824],\n",
              "       [ 1.32530632],\n",
              "       [ 2.2162147 ],\n",
              "       [-1.9881817 ],\n",
              "       [ 0.46197067],\n",
              "       [ 1.33181571],\n",
              "       [ 1.96051671],\n",
              "       [-0.28514746],\n",
              "       [ 1.37649259],\n",
              "       [ 1.08787029],\n",
              "       [ 1.08736303],\n",
              "       [-0.90238368],\n",
              "       [ 0.05501476],\n",
              "       [ 1.26574074],\n",
              "       [ 1.12531647],\n",
              "       [ 1.13115354],\n",
              "       [ 0.65613811],\n",
              "       [ 1.07719685],\n",
              "       [ 0.79914271],\n",
              "       [ 1.38507027],\n",
              "       [ 0.47611231],\n",
              "       [ 1.72991047],\n",
              "       [ 2.32533712],\n",
              "       [ 0.63891572],\n",
              "       [-0.97855747],\n",
              "       [ 1.91371281],\n",
              "       [ 0.93813356],\n",
              "       [ 0.79181952],\n",
              "       [ 0.3146305 ],\n",
              "       [ 0.62785746],\n",
              "       [ 1.65929899],\n",
              "       [ 2.01090329],\n",
              "       [ 0.89555129],\n",
              "       [ 1.67397512],\n",
              "       [ 1.93416166],\n",
              "       [ 2.0845939 ],\n",
              "       [ 1.25079031],\n",
              "       [ 1.02445415],\n",
              "       [ 1.77828134],\n",
              "       [ 1.10971477],\n",
              "       [ 2.05845141],\n",
              "       [ 0.1083399 ],\n",
              "       [ 2.34145158],\n",
              "       [ 0.61917586],\n",
              "       [ 1.74217189],\n",
              "       [-0.87237704],\n",
              "       [ 2.13328918],\n",
              "       [ 0.25687311],\n",
              "       [ 1.44730953],\n",
              "       [-1.39893279],\n",
              "       [ 1.94266616],\n",
              "       [ 0.50405737],\n",
              "       [ 0.23699838],\n",
              "       [ 0.54644327],\n",
              "       [-1.30822157],\n",
              "       [ 1.28872242],\n",
              "       [ 1.19656229],\n",
              "       [ 0.59946667],\n",
              "       [ 1.69015361],\n",
              "       [-0.37168032],\n",
              "       [ 2.78615351],\n",
              "       [ 1.25380876],\n",
              "       [ 1.64138711],\n",
              "       [ 0.14859618],\n",
              "       [-0.47234942],\n",
              "       [ 1.54049408],\n",
              "       [ 0.43741118],\n",
              "       [-1.11936529],\n",
              "       [-1.38127202],\n",
              "       [ 1.24351547],\n",
              "       [ 1.84915996],\n",
              "       [ 1.60276065],\n",
              "       [ 1.09570752],\n",
              "       [ 0.52013034],\n",
              "       [ 1.29907866],\n",
              "       [ 0.57387893],\n",
              "       [ 2.12852626],\n",
              "       [ 1.68924668],\n",
              "       [ 1.301961  ],\n",
              "       [ 1.43634145],\n",
              "       [ 0.36982331],\n",
              "       [ 1.90183175],\n",
              "       [ 0.30243865],\n",
              "       [ 0.67736167],\n",
              "       [ 0.52774593],\n",
              "       [ 1.59852847],\n",
              "       [-0.74943586],\n",
              "       [ 2.14965361],\n",
              "       [ 1.43343158],\n",
              "       [ 2.3086103 ],\n",
              "       [-0.56642915],\n",
              "       [ 1.62520535],\n",
              "       [-1.81943187],\n",
              "       [ 0.67756253],\n",
              "       [-1.7695649 ],\n",
              "       [ 0.46772558],\n",
              "       [ 0.65473094],\n",
              "       [ 0.43884558],\n",
              "       [ 1.64801971],\n",
              "       [ 1.83418625],\n",
              "       [ 1.42731733],\n",
              "       [-0.99588277],\n",
              "       [ 1.86846878],\n",
              "       [-0.13256577],\n",
              "       [ 3.20503685],\n",
              "       [ 1.9742736 ],\n",
              "       [ 0.81704689],\n",
              "       [ 1.82467517],\n",
              "       [ 1.83727559],\n",
              "       [-0.50312585],\n",
              "       [ 2.46390553],\n",
              "       [ 1.42266861],\n",
              "       [ 1.53480843],\n",
              "       [-0.82601248],\n",
              "       [ 1.18348035],\n",
              "       [-1.6979588 ],\n",
              "       [ 1.39356202],\n",
              "       [ 0.73581795],\n",
              "       [ 1.27254184],\n",
              "       [-0.52560067],\n",
              "       [ 0.68131048],\n",
              "       [ 1.60038916],\n",
              "       [ 0.4502456 ],\n",
              "       [ 2.96219487],\n",
              "       [ 2.42379023],\n",
              "       [ 2.01343704],\n",
              "       [ 1.3194868 ],\n",
              "       [ 2.69980309],\n",
              "       [ 1.45316611],\n",
              "       [ 1.32014624],\n",
              "       [-0.14646919],\n",
              "       [ 3.36134718],\n",
              "       [ 1.10124266],\n",
              "       [ 1.8229923 ],\n",
              "       [-0.52844355],\n",
              "       [ 2.14218391],\n",
              "       [ 0.3612475 ],\n",
              "       [-0.64709104],\n",
              "       [ 2.47039177],\n",
              "       [-2.01519925],\n",
              "       [-0.02613638],\n",
              "       [-0.66480555],\n",
              "       [ 0.54396616],\n",
              "       [ 0.25725793],\n",
              "       [ 1.43380959],\n",
              "       [ 2.10369212],\n",
              "       [ 0.35806895],\n",
              "       [ 0.40184572],\n",
              "       [ 2.70910426],\n",
              "       [ 0.42373062],\n",
              "       [ 1.16096418],\n",
              "       [-1.00260561],\n",
              "       [-1.65832757],\n",
              "       [ 1.66679303],\n",
              "       [-0.93872855],\n",
              "       [ 0.30491454],\n",
              "       [ 1.52303744],\n",
              "       [ 1.10937883],\n",
              "       [ 2.27385138],\n",
              "       [ 1.0361609 ],\n",
              "       [ 1.29685312],\n",
              "       [ 2.36355103],\n",
              "       [ 1.26228272],\n",
              "       [ 1.2585278 ],\n",
              "       [ 3.55004738],\n",
              "       [ 2.08191829],\n",
              "       [-0.52493097],\n",
              "       [ 0.49662546],\n",
              "       [ 1.18452289],\n",
              "       [ 0.71022701],\n",
              "       [ 2.58338502],\n",
              "       [-0.23960695],\n",
              "       [-0.7904523 ],\n",
              "       [-0.17903891],\n",
              "       [ 1.28351519],\n",
              "       [-0.4128116 ],\n",
              "       [-1.149053  ],\n",
              "       [ 1.14941993],\n",
              "       [-1.0670796 ],\n",
              "       [ 0.85966694],\n",
              "       [ 1.12330776],\n",
              "       [-1.0876075 ],\n",
              "       [ 0.31763678],\n",
              "       [ 3.47228584],\n",
              "       [ 1.22916584],\n",
              "       [ 0.52129229],\n",
              "       [ 3.02724212],\n",
              "       [-1.57554087],\n",
              "       [-1.28483531],\n",
              "       [ 1.24657264],\n",
              "       [ 1.8054684 ],\n",
              "       [ 1.83109196],\n",
              "       [ 1.52345993],\n",
              "       [ 1.03899448],\n",
              "       [ 1.19373062],\n",
              "       [ 2.31252409],\n",
              "       [ 1.573519  ],\n",
              "       [ 2.3515015 ],\n",
              "       [ 2.02619492],\n",
              "       [ 1.03641919],\n",
              "       [ 1.24768979],\n",
              "       [ 2.13795128],\n",
              "       [ 1.98655531],\n",
              "       [ 1.52449686],\n",
              "       [ 1.81134466],\n",
              "       [ 2.54433382],\n",
              "       [ 2.33630302],\n",
              "       [ 1.68391717],\n",
              "       [-0.07200154],\n",
              "       [ 2.13432193],\n",
              "       [-1.1545702 ],\n",
              "       [ 2.11176255],\n",
              "       [ 0.91496576],\n",
              "       [ 1.37248845],\n",
              "       [-0.74280147],\n",
              "       [ 1.46045437],\n",
              "       [ 0.6691308 ],\n",
              "       [-1.14051808],\n",
              "       [-0.63441664],\n",
              "       [ 3.06533191],\n",
              "       [ 1.08730252],\n",
              "       [ 1.10541382],\n",
              "       [ 1.65649281],\n",
              "       [ 0.5773584 ],\n",
              "       [-1.58687157],\n",
              "       [ 2.27506925],\n",
              "       [ 1.41163617],\n",
              "       [ 1.36284382],\n",
              "       [ 0.65390639],\n",
              "       [ 0.68315574],\n",
              "       [ 2.68952107],\n",
              "       [-0.08466893],\n",
              "       [-0.37791689],\n",
              "       [ 2.45806342],\n",
              "       [ 2.00516362],\n",
              "       [ 0.87874892],\n",
              "       [ 0.32846032],\n",
              "       [ 0.0806349 ],\n",
              "       [-1.97350112],\n",
              "       [ 1.11831654],\n",
              "       [ 0.27762136],\n",
              "       [ 1.0008783 ],\n",
              "       [ 1.15460179],\n",
              "       [-0.58136427],\n",
              "       [-1.07755132],\n",
              "       [ 1.33231469],\n",
              "       [-0.81107814],\n",
              "       [-0.7401585 ],\n",
              "       [ 0.98281019],\n",
              "       [ 1.13530236],\n",
              "       [ 0.3332688 ],\n",
              "       [ 0.38963788],\n",
              "       [ 0.14447789],\n",
              "       [ 0.14868847],\n",
              "       [-1.93179234],\n",
              "       [-0.46641398],\n",
              "       [-1.58313548],\n",
              "       [-0.21202799],\n",
              "       [ 1.41422951],\n",
              "       [ 2.94792208],\n",
              "       [ 0.10426638],\n",
              "       [-1.45386495],\n",
              "       [ 1.55620898],\n",
              "       [-0.49926973],\n",
              "       [ 0.04294646],\n",
              "       [-0.95509893],\n",
              "       [-0.61265937],\n",
              "       [-2.29479146],\n",
              "       [-0.02276089],\n",
              "       [-2.29095735],\n",
              "       [-0.30181952],\n",
              "       [-1.37302395],\n",
              "       [-0.54424005],\n",
              "       [-0.22442409],\n",
              "       [-2.78737633],\n",
              "       [ 2.72970162],\n",
              "       [ 1.10140375],\n",
              "       [ 0.5063465 ],\n",
              "       [ 0.31329962],\n",
              "       [-1.64460263],\n",
              "       [-1.84136999],\n",
              "       [-1.23423329],\n",
              "       [-1.26033075],\n",
              "       [-1.74880707],\n",
              "       [-1.18229415],\n",
              "       [-0.80436748],\n",
              "       [ 0.54957092],\n",
              "       [-1.03874187],\n",
              "       [-1.48200374],\n",
              "       [-1.25601938],\n",
              "       [ 0.83504232],\n",
              "       [-0.09380739],\n",
              "       [ 1.33814187],\n",
              "       [-0.92223168],\n",
              "       [-1.22344097],\n",
              "       [-2.24293909],\n",
              "       [-1.22033797],\n",
              "       [-2.40410771],\n",
              "       [ 1.62703599],\n",
              "       [-1.36411001],\n",
              "       [ 0.19869353],\n",
              "       [ 0.49758419],\n",
              "       [-1.22687176],\n",
              "       [ 0.37716501],\n",
              "       [-1.91053206],\n",
              "       [-2.71563484],\n",
              "       [ 1.15922115],\n",
              "       [ 1.3547069 ],\n",
              "       [-0.40793628],\n",
              "       [-1.17838292],\n",
              "       [-1.48084206],\n",
              "       [-1.73521054],\n",
              "       [ 1.6104645 ],\n",
              "       [-0.75077928],\n",
              "       [-0.98173637],\n",
              "       [-0.84653896],\n",
              "       [-1.48220199],\n",
              "       [ 0.90186502],\n",
              "       [ 1.21347664],\n",
              "       [-2.89617668],\n",
              "       [-1.79211311],\n",
              "       [-1.3356734 ],\n",
              "       [ 0.82737115],\n",
              "       [ 0.99032875],\n",
              "       [ 0.41699303],\n",
              "       [-0.57963328],\n",
              "       [ 1.20734519],\n",
              "       [-2.1451677 ],\n",
              "       [-0.44821933],\n",
              "       [ 0.91373591],\n",
              "       [-2.16669077],\n",
              "       [ 0.74666642],\n",
              "       [-0.62344748],\n",
              "       [-1.57811889],\n",
              "       [ 1.58325016],\n",
              "       [ 1.09193541],\n",
              "       [-0.9177444 ],\n",
              "       [ 1.23211784],\n",
              "       [ 0.39008135],\n",
              "       [-0.91891988],\n",
              "       [-2.02170125],\n",
              "       [-1.98593211],\n",
              "       [-1.8065775 ],\n",
              "       [ 1.00468248],\n",
              "       [-1.76994383],\n",
              "       [ 1.33513105],\n",
              "       [ 0.50390027],\n",
              "       [ 0.07741209],\n",
              "       [ 0.23567449],\n",
              "       [-0.14672819],\n",
              "       [-0.30345337],\n",
              "       [-1.20104262],\n",
              "       [ 1.06751756],\n",
              "       [-1.43626325],\n",
              "       [-1.53075756],\n",
              "       [-1.78509281],\n",
              "       [-1.38963185],\n",
              "       [-1.14790879],\n",
              "       [-0.74113988],\n",
              "       [ 2.73196784],\n",
              "       [ 0.02847217],\n",
              "       [ 3.23874677],\n",
              "       [-0.35512335],\n",
              "       [ 1.73326062],\n",
              "       [ 1.62156389],\n",
              "       [-1.92244877],\n",
              "       [ 0.47627315],\n",
              "       [-2.54370655],\n",
              "       [ 1.6381938 ],\n",
              "       [-1.62199313],\n",
              "       [-1.25533589],\n",
              "       [ 0.70400916],\n",
              "       [ 0.30036755],\n",
              "       [ 0.06642152],\n",
              "       [-1.22727483],\n",
              "       [ 2.7251934 ],\n",
              "       [-1.42968888],\n",
              "       [ 0.29095888],\n",
              "       [-2.37851954],\n",
              "       [ 1.80432131],\n",
              "       [-2.50233817],\n",
              "       [-0.33157325],\n",
              "       [ 0.68803407],\n",
              "       [-0.99987545],\n",
              "       [-0.68445897],\n",
              "       [-0.89991351],\n",
              "       [-1.44024675],\n",
              "       [ 1.64639125],\n",
              "       [-1.01726181],\n",
              "       [ 1.19969785],\n",
              "       [-1.20803571],\n",
              "       [-1.94945798],\n",
              "       [-1.98932565],\n",
              "       [-1.30043812],\n",
              "       [-2.50571079],\n",
              "       [ 0.08285144],\n",
              "       [-2.29573024],\n",
              "       [-2.37823233],\n",
              "       [ 3.06899875],\n",
              "       [-1.3666765 ],\n",
              "       [-0.82671364],\n",
              "       [ 0.9184909 ],\n",
              "       [-0.07535019],\n",
              "       [ 0.34956372],\n",
              "       [-1.25083598],\n",
              "       [ 1.59014858],\n",
              "       [-1.14398153],\n",
              "       [-0.69213888],\n",
              "       [-1.75014385],\n",
              "       [ 1.15355634],\n",
              "       [-0.00838713],\n",
              "       [-0.07966998],\n",
              "       [ 0.01898824],\n",
              "       [-0.06252445],\n",
              "       [ 1.37689494],\n",
              "       [-0.79296142],\n",
              "       [-2.46599596],\n",
              "       [ 0.84688598],\n",
              "       [ 1.84698599],\n",
              "       [-0.06086432],\n",
              "       [ 0.85175381],\n",
              "       [-1.84295857],\n",
              "       [ 0.67693841],\n",
              "       [ 0.68280366],\n",
              "       [-1.17493682],\n",
              "       [-0.44108234],\n",
              "       [-1.10573122],\n",
              "       [-1.37690055],\n",
              "       [ 1.4949269 ],\n",
              "       [-0.21794342],\n",
              "       [-0.16817031],\n",
              "       [ 1.10783138],\n",
              "       [-0.73916671],\n",
              "       [ 2.51253683],\n",
              "       [-1.21973905],\n",
              "       [-0.30785644],\n",
              "       [-1.18902982],\n",
              "       [-0.84228414],\n",
              "       [-0.24744491],\n",
              "       [-1.28227147],\n",
              "       [-2.32760056],\n",
              "       [ 0.08039122],\n",
              "       [-1.28448873],\n",
              "       [-0.89210846],\n",
              "       [ 1.48223796],\n",
              "       [ 0.0093788 ],\n",
              "       [ 1.14352094],\n",
              "       [-0.25498238],\n",
              "       [-2.34577635],\n",
              "       [ 0.17222734],\n",
              "       [ 0.72919003],\n",
              "       [ 0.50719338],\n",
              "       [-0.86066056],\n",
              "       [ 0.32484783],\n",
              "       [-1.67557319],\n",
              "       [ 1.37303714],\n",
              "       [-1.93565301],\n",
              "       [-2.12308764],\n",
              "       [-2.45040633],\n",
              "       [-1.04170395],\n",
              "       [-0.51259589],\n",
              "       [-1.55343755],\n",
              "       [ 1.46771077],\n",
              "       [ 0.93254394],\n",
              "       [-1.60109671],\n",
              "       [ 1.2260175 ],\n",
              "       [-1.93545863],\n",
              "       [-0.31102129],\n",
              "       [-0.69282769],\n",
              "       [ 1.4302537 ],\n",
              "       [-1.87132154],\n",
              "       [-1.43289725],\n",
              "       [ 0.45432364],\n",
              "       [ 0.19715333],\n",
              "       [-1.20275518],\n",
              "       [-0.25232469],\n",
              "       [-0.24029426],\n",
              "       [ 1.44171531],\n",
              "       [-1.72746895],\n",
              "       [ 1.29698041],\n",
              "       [-1.68122955],\n",
              "       [-1.28974531],\n",
              "       [ 1.29932564],\n",
              "       [-1.85789146],\n",
              "       [-0.5042792 ],\n",
              "       [ 1.00896199],\n",
              "       [-1.96973984],\n",
              "       [ 0.2032225 ],\n",
              "       [-0.7186107 ],\n",
              "       [-2.0771769 ],\n",
              "       [-0.15417225],\n",
              "       [ 1.53689274],\n",
              "       [ 0.54133242],\n",
              "       [-1.65793142],\n",
              "       [-0.91581493],\n",
              "       [-1.46933905],\n",
              "       [-0.6983248 ],\n",
              "       [-1.76702569],\n",
              "       [ 1.11679298],\n",
              "       [ 1.35780969],\n",
              "       [-1.43421774],\n",
              "       [-0.85346494],\n",
              "       [-2.40254279],\n",
              "       [ 1.40583604],\n",
              "       [ 0.0851993 ],\n",
              "       [-1.32252353],\n",
              "       [ 0.63986776],\n",
              "       [-0.99202986],\n",
              "       [-1.50834481],\n",
              "       [-0.71086621],\n",
              "       [ 0.14914618],\n",
              "       [ 1.66797091],\n",
              "       [-2.16283999],\n",
              "       [-1.8170826 ],\n",
              "       [ 1.49998533],\n",
              "       [ 1.54121585],\n",
              "       [-1.96426485],\n",
              "       [-0.80859047],\n",
              "       [-1.22857051],\n",
              "       [-1.61597014],\n",
              "       [-1.29471864],\n",
              "       [-0.4607469 ],\n",
              "       [ 1.55100431],\n",
              "       [-1.90540791],\n",
              "       [ 0.4613423 ],\n",
              "       [-1.71335028],\n",
              "       [-0.93873984],\n",
              "       [ 2.04804177],\n",
              "       [ 1.32024901],\n",
              "       [-0.15770864],\n",
              "       [-1.34298905],\n",
              "       [ 0.5625252 ],\n",
              "       [-0.37654647],\n",
              "       [-1.78093261],\n",
              "       [ 2.11113324],\n",
              "       [ 0.62197504],\n",
              "       [ 0.14855117],\n",
              "       [-1.77738959],\n",
              "       [ 1.44035262],\n",
              "       [ 0.31842344],\n",
              "       [-0.74387089],\n",
              "       [ 1.52212946],\n",
              "       [ 1.1536229 ],\n",
              "       [-1.19989839],\n",
              "       [-2.0591881 ]])"
            ]
          },
          "metadata": {},
          "execution_count": 57
        }
      ]
    },
    {
      "cell_type": "code",
      "source": [
        "lda.explained_variance_ratio_"
      ],
      "metadata": {
        "id": "g5l0JnpGBfn7",
        "colab": {
          "base_uri": "https://localhost:8080/"
        },
        "outputId": "4044ee62-31b7-42d0-aca9-4a6a956616d3"
      },
      "execution_count": 58,
      "outputs": [
        {
          "output_type": "execute_result",
          "data": {
            "text/plain": [
              "array([1.])"
            ]
          },
          "metadata": {},
          "execution_count": 58
        }
      ]
    },
    {
      "cell_type": "markdown",
      "source": [
        "## **Salvando as variáveis (atributos)**"
      ],
      "metadata": {
        "id": "Caf7XRsO4BYE"
      }
    },
    {
      "cell_type": "code",
      "metadata": {
        "id": "Vn6R_DKHhG0u"
      },
      "source": [
        "import pickle"
      ],
      "execution_count": 59,
      "outputs": []
    },
    {
      "cell_type": "code",
      "source": [
        "# Criando arquivo\n",
        "arq1 = open('heart.pkl', 'wb')"
      ],
      "metadata": {
        "id": "DuPE27wl-vBw"
      },
      "execution_count": 60,
      "outputs": []
    },
    {
      "cell_type": "code",
      "source": [
        "# Salvando a variável no arquivo\n",
        "pickle.dump(alvo, arq1)"
      ],
      "metadata": {
        "id": "jTvKGTxnHien"
      },
      "execution_count": 61,
      "outputs": []
    },
    {
      "cell_type": "code",
      "source": [
        "# Fechando arquivo\n",
        "arq1.close()"
      ],
      "metadata": {
        "id": "sle5bDZZIJjt"
      },
      "execution_count": 62,
      "outputs": []
    },
    {
      "cell_type": "code",
      "source": [
        "# Lendo arquivo\n",
        "arq1 = open('heart.pkl', 'rb')"
      ],
      "metadata": {
        "id": "5-HNb-3IISWs"
      },
      "execution_count": 63,
      "outputs": []
    },
    {
      "cell_type": "code",
      "source": [
        "# Chamando a variável\n",
        "alvo = pickle.load(arq1)"
      ],
      "metadata": {
        "id": "poLMbNNvIjlz"
      },
      "execution_count": 64,
      "outputs": []
    },
    {
      "cell_type": "code",
      "source": [
        "alvo"
      ],
      "metadata": {
        "id": "MZHEQpHeKzK_",
        "colab": {
          "base_uri": "https://localhost:8080/"
        },
        "outputId": "c65ac64f-c43e-4c6e-99ab-0c80e63c7138"
      },
      "execution_count": 65,
      "outputs": [
        {
          "output_type": "execute_result",
          "data": {
            "text/plain": [
              "array([0, 1, 0, 1, 0, 0, 0, 0, 1, 0, 0, 1, 0, 1, 0, 0, 1, 0, 1, 1, 0, 0,\n",
              "       0, 1, 0, 0, 0, 0, 0, 0, 1, 0, 1, 1, 0, 0, 1, 0, 0, 0, 0, 1, 0, 0,\n",
              "       1, 0, 0, 0, 0, 1, 1, 1, 0, 0, 0, 0, 1, 1, 0, 1, 0, 0, 0, 1, 0, 0,\n",
              "       0, 0, 1, 0, 1, 0, 1, 0, 1, 0, 1, 0, 0, 1, 0, 0, 1, 0, 1, 1, 1, 0,\n",
              "       1, 0, 0, 0, 0, 1, 0, 1, 0, 0, 0, 0, 1, 0, 1, 1, 1, 0, 0, 0, 0, 0,\n",
              "       0, 1, 0, 0, 0, 1, 1, 1, 0, 1, 1, 0, 0, 1, 0, 0, 0, 0, 0, 0, 0, 1,\n",
              "       1, 1, 0, 1, 0, 0, 1, 1, 1, 1, 1, 0, 1, 0, 0, 0, 0, 1, 0, 0, 0, 0,\n",
              "       0, 1, 1, 0, 1, 0, 1, 1, 0, 0, 0, 1, 1, 0, 0, 0, 0, 0, 0, 0, 1, 1,\n",
              "       1, 0, 0, 0, 1, 0, 1, 0, 0, 1, 0, 1, 0, 1, 0, 0, 0, 0, 0, 0, 0, 0,\n",
              "       1, 0, 0, 0, 0, 0, 0, 0, 0, 1, 0, 1, 1, 1, 0, 0, 1, 0, 1, 0, 0, 0,\n",
              "       1, 1, 0, 0, 0, 1, 0, 1, 0, 0, 0, 0, 0, 0, 0, 0, 1, 1, 1, 1, 0, 1,\n",
              "       1, 0, 1, 0, 1, 1, 1, 1, 1, 1, 0, 0, 1, 0, 0, 0, 0, 0, 0, 0, 1, 1,\n",
              "       1, 0, 1, 0, 1, 0, 0, 0, 1, 0, 0, 0, 1, 1, 0, 0, 0, 1, 0, 0, 0, 0,\n",
              "       0, 0, 0, 0, 0, 0, 0, 1, 1, 1, 1, 1, 1, 1, 1, 0, 1, 1, 1, 1, 1, 0,\n",
              "       1, 1, 0, 1, 1, 1, 0, 1, 1, 1, 1, 1, 1, 1, 1, 1, 1, 1, 0, 1, 1, 1,\n",
              "       1, 1, 0, 1, 1, 1, 0, 1, 1, 1, 1, 1, 1, 1, 1, 1, 1, 1, 1, 1, 1, 1,\n",
              "       1, 1, 1, 1, 1, 1, 1, 1, 1, 1, 1, 1, 0, 1, 1, 1, 1, 1, 1, 1, 1, 1,\n",
              "       1, 1, 1, 1, 1, 1, 1, 1, 1, 1, 1, 1, 1, 1, 1, 1, 1, 1, 1, 1, 1, 1,\n",
              "       1, 1, 1, 1, 1, 1, 1, 1, 1, 1, 1, 1, 1, 1, 1, 1, 1, 1, 1, 1, 1, 0,\n",
              "       1, 1, 0, 0, 1, 0, 1, 1, 0, 1, 1, 1, 1, 0, 1, 1, 0, 0, 1, 1, 1, 0,\n",
              "       1, 1, 1, 1, 1, 1, 1, 1, 1, 1, 1, 1, 0, 1, 0, 1, 1, 1, 0, 1, 1, 1,\n",
              "       0, 1, 0, 1, 0, 1, 0, 1, 1, 1, 1, 0, 1, 0, 1, 1, 1, 1, 1, 1, 1, 1,\n",
              "       1, 0, 1, 0, 1, 1, 1, 1, 1, 1, 1, 0, 1, 1, 1, 1, 1, 1, 0, 1, 1, 1,\n",
              "       0, 1, 1, 0, 1, 0, 1, 1, 0, 1, 1, 1, 1, 0, 1, 1, 1, 0, 0, 1, 0, 1,\n",
              "       1, 1, 1, 1, 1, 1, 1, 1, 1, 1, 0, 1, 1, 1, 1, 0, 0, 1, 1, 1, 0, 1,\n",
              "       0, 1, 1, 0, 1, 0, 1, 1, 1, 0, 0, 0, 1, 1, 1, 0, 1, 1, 1, 1, 1, 1,\n",
              "       1, 1, 1, 1, 1, 1, 1, 1, 1, 1, 0, 1, 1, 1, 0, 1, 1, 0, 0, 1, 1, 1,\n",
              "       1, 1, 0, 1, 1, 0, 1, 1, 1, 0, 0, 1, 1, 1, 1, 1, 0, 1, 0, 1, 1, 0,\n",
              "       1, 0, 0, 0, 1, 1, 1, 1, 0, 0, 0, 1, 0, 0, 1, 1, 0, 0, 1, 0, 0, 0,\n",
              "       0, 0, 0, 0, 1, 0, 1, 0, 0, 1, 1, 1, 1, 1, 0, 0, 1, 0, 0, 0, 1, 0,\n",
              "       1, 1, 1, 1, 1, 0, 0, 0, 0, 0, 1, 0, 1, 1, 0, 1, 0, 0, 0, 1, 0, 1,\n",
              "       0, 1, 1, 0, 0, 0, 0, 1, 0, 0, 0, 0, 1, 1, 1, 0, 0, 0, 0, 0, 0, 1,\n",
              "       0, 1, 1, 1, 1, 1, 0, 1, 0, 0, 0, 1, 0, 1, 1, 1, 0, 1, 1, 0, 1, 0,\n",
              "       1, 0, 0, 0, 1, 1, 0, 1, 1, 1, 1, 0, 0, 0, 1, 0, 0, 1, 1, 1, 0, 1,\n",
              "       0, 0, 0, 1, 0, 0, 1, 0, 1, 0, 1, 1, 1, 1, 1, 0, 0, 0, 0, 0, 0, 0,\n",
              "       1, 0, 0, 1, 1, 1, 0, 1, 0, 0, 0, 0, 0, 1, 0, 1, 1, 0, 0, 1, 1, 1,\n",
              "       1, 0, 0, 1, 1, 0, 0, 0, 1, 0, 0, 1, 0, 1, 0, 1, 0, 0, 0, 0, 0, 1,\n",
              "       0, 1, 1, 1, 1, 0, 0, 0, 1, 0, 1, 0, 0, 1, 0, 0, 0, 0, 0, 0, 1, 1,\n",
              "       0, 1, 0, 0, 1, 1, 0, 0, 1, 1, 0, 1, 0, 1, 0, 1, 0, 0, 1, 0, 0, 1,\n",
              "       0, 1, 1, 0, 1, 1, 1, 0, 1, 0, 0, 0, 0, 1, 1, 0, 0, 1, 1, 0, 1, 0,\n",
              "       0, 0, 0, 1, 0, 0, 1, 1, 1, 0, 0, 0, 1, 0, 1, 0, 1, 0, 1, 1, 1, 0,\n",
              "       0, 0, 1, 0, 1, 1, 1, 0, 1, 1, 1, 1, 1, 1, 0])"
            ]
          },
          "metadata": {},
          "execution_count": 65
        }
      ]
    },
    {
      "cell_type": "code",
      "source": [
        "# Criando arquivos e Salvando as variáveis\n",
        "arq2 = open('heart2.pkl', 'wb')\n",
        "pickle.dump(previsores, arq2)\n",
        "arq3 = open('heart3.pkl', 'wb')\n",
        "pickle.dump(previsores_esc, arq3)\n",
        "arq4 = open('heart4.pkl', 'wb')\n",
        "pickle.dump(previsores2, arq4)\n",
        "arq5 = open('heart5.pkl', 'wb')\n",
        "pickle.dump(previsores3, arq5)\n",
        "arq6 = open('heart6.pkl', 'wb')\n",
        "pickle.dump(previsores3_esc, arq6)"
      ],
      "metadata": {
        "id": "hb4PNxyzQgC1"
      },
      "execution_count": 66,
      "outputs": []
    },
    {
      "cell_type": "code",
      "source": [
        "arq2 = open('heart2.pkl', 'rb')"
      ],
      "metadata": {
        "id": "i7noq9dAEwog"
      },
      "execution_count": 67,
      "outputs": []
    },
    {
      "cell_type": "code",
      "source": [
        "previsores = pickle.load(arq2)"
      ],
      "metadata": {
        "id": "sNSCfClWE0_G"
      },
      "execution_count": 68,
      "outputs": []
    },
    {
      "cell_type": "code",
      "source": [
        "previsores"
      ],
      "metadata": {
        "id": "3rE0rqRXRxR3",
        "colab": {
          "base_uri": "https://localhost:8080/"
        },
        "outputId": "5f9d341e-33ac-4f65-f387-626fbafad02d"
      },
      "execution_count": 69,
      "outputs": [
        {
          "output_type": "execute_result",
          "data": {
            "text/plain": [
              "array([[40. ,  0. ,  1. , ...,  0. ,  0. ,  0. ],\n",
              "       [49. ,  1. ,  2. , ...,  0. ,  1. ,  1. ],\n",
              "       [37. ,  0. ,  1. , ...,  0. ,  0. ,  0. ],\n",
              "       ...,\n",
              "       [57. ,  0. ,  3. , ...,  1. ,  1.2,  1. ],\n",
              "       [57. ,  1. ,  1. , ...,  0. ,  0. ,  1. ],\n",
              "       [38. ,  0. ,  2. , ...,  0. ,  0. ,  0. ]])"
            ]
          },
          "metadata": {},
          "execution_count": 69
        }
      ]
    },
    {
      "cell_type": "markdown",
      "source": [
        "## **BASE DE TREINO E TESTE**"
      ],
      "metadata": {
        "id": "w-W634n0I_Db"
      }
    },
    {
      "cell_type": "code",
      "source": [
        "from sklearn.model_selection import train_test_split"
      ],
      "metadata": {
        "id": "UmjBvEubFG72"
      },
      "execution_count": 70,
      "outputs": []
    },
    {
      "cell_type": "markdown",
      "metadata": {
        "id": "cB1szLDSyfzA"
      },
      "source": [
        "Parâmetros train_test_split:   \n",
        "- arrays: nomes dos atributos previsores e alvo.   \n",
        "- test_size: tamanho em porcentagem dos dados de teste. default é none.   \n",
        "- train_size: tamanho em porcentagem dos dados de treinamento.default é none.  \n",
        "- random_state: nomeação de um estado aleatório.   \n",
        "- shuffle: embaralhamento dos dados aleatórios. Associado com o random_state ocorre o mesmo embaralhamento sempre. Default é True.  \n",
        "- stratify: Possibilidade de dividir os dados de forma estratificada. Default é None (nesse caso é mantido a proporção, isto é, se tem 30% de zeros e 70% de 1 no dataframe, na separação em treinamento e teste se manterá essa proporção)."
      ]
    },
    {
      "cell_type": "code",
      "source": [
        "x_treino, x_teste, y_treino, y_teste = train_test_split(previsores, alvo, test_size = 0.3, random_state = 0)"
      ],
      "metadata": {
        "id": "JFn1OrYtF0m9"
      },
      "execution_count": 71,
      "outputs": []
    },
    {
      "cell_type": "code",
      "metadata": {
        "id": "Xza9uNMgJFD8",
        "colab": {
          "base_uri": "https://localhost:8080/"
        },
        "outputId": "b9e1cd37-1abd-407b-f11b-1c4a5f1474b3"
      },
      "source": [
        "x_treino.shape"
      ],
      "execution_count": 72,
      "outputs": [
        {
          "output_type": "execute_result",
          "data": {
            "text/plain": [
              "(641, 11)"
            ]
          },
          "metadata": {},
          "execution_count": 72
        }
      ]
    },
    {
      "cell_type": "code",
      "metadata": {
        "id": "gM74hUlEJNOZ",
        "colab": {
          "base_uri": "https://localhost:8080/"
        },
        "outputId": "96ac5519-a6a4-421d-fa6a-9178e46a0c1b"
      },
      "source": [
        "x_teste.shape"
      ],
      "execution_count": 73,
      "outputs": [
        {
          "output_type": "execute_result",
          "data": {
            "text/plain": [
              "(276, 11)"
            ]
          },
          "metadata": {},
          "execution_count": 73
        }
      ]
    },
    {
      "cell_type": "code",
      "metadata": {
        "id": "lGzLxpISJeWG",
        "colab": {
          "base_uri": "https://localhost:8080/"
        },
        "outputId": "f0a9dc6d-e701-4d48-94f3-84c06f6f16cf"
      },
      "source": [
        "y_treino.shape"
      ],
      "execution_count": 74,
      "outputs": [
        {
          "output_type": "execute_result",
          "data": {
            "text/plain": [
              "(641,)"
            ]
          },
          "metadata": {},
          "execution_count": 74
        }
      ]
    },
    {
      "cell_type": "code",
      "metadata": {
        "id": "ZUojufPlJnhy",
        "colab": {
          "base_uri": "https://localhost:8080/"
        },
        "outputId": "a7380823-63dc-453f-d08a-42a2647feeff"
      },
      "source": [
        "y_teste.shape"
      ],
      "execution_count": 75,
      "outputs": [
        {
          "output_type": "execute_result",
          "data": {
            "text/plain": [
              "(276,)"
            ]
          },
          "metadata": {},
          "execution_count": 75
        }
      ]
    },
    {
      "cell_type": "markdown",
      "source": [
        "# **NAIVE BAYES**"
      ],
      "metadata": {
        "id": "f6u542_aEj6B"
      }
    },
    {
      "cell_type": "markdown",
      "source": [
        "https://scikit-learn.org/stable/modules/naive_bayes.html"
      ],
      "metadata": {
        "id": "2tnCKM7kcfQl"
      }
    },
    {
      "cell_type": "markdown",
      "source": [
        "Treinamento do algoritmo"
      ],
      "metadata": {
        "id": "-GK8qvcgzWGQ"
      }
    },
    {
      "cell_type": "code",
      "source": [
        "from sklearn.naive_bayes import GaussianNB"
      ],
      "metadata": {
        "id": "YhAnMs4TJRoa"
      },
      "execution_count": 76,
      "outputs": []
    },
    {
      "cell_type": "code",
      "source": [
        "naive = GaussianNB()\n",
        "naive.fit(x_treino, y_treino)"
      ],
      "metadata": {
        "id": "ak0_M56CJheq",
        "colab": {
          "base_uri": "https://localhost:8080/"
        },
        "outputId": "2070ff8e-5cc5-4414-e787-d1ef13fe6faa"
      },
      "execution_count": 77,
      "outputs": [
        {
          "output_type": "execute_result",
          "data": {
            "text/plain": [
              "GaussianNB()"
            ]
          },
          "metadata": {},
          "execution_count": 77
        }
      ]
    },
    {
      "cell_type": "markdown",
      "source": [
        "Avaliação do algoritmo"
      ],
      "metadata": {
        "id": "neBugc1HzbL_"
      }
    },
    {
      "cell_type": "code",
      "source": [
        "previsoes_naive = naive.predict(x_teste)\n",
        "previsoes_naive"
      ],
      "metadata": {
        "id": "ac4kuVBsJ85p",
        "colab": {
          "base_uri": "https://localhost:8080/"
        },
        "outputId": "a023b54b-77ca-46fa-9e94-4c5a5802c9c8"
      },
      "execution_count": 78,
      "outputs": [
        {
          "output_type": "execute_result",
          "data": {
            "text/plain": [
              "array([1, 1, 1, 0, 0, 0, 0, 0, 0, 0, 1, 1, 1, 1, 0, 1, 1, 1, 1, 0, 1, 1,\n",
              "       1, 0, 0, 0, 1, 1, 0, 1, 1, 0, 0, 0, 1, 0, 0, 0, 1, 0, 0, 1, 1, 1,\n",
              "       1, 0, 0, 1, 0, 1, 0, 0, 0, 1, 1, 0, 0, 0, 0, 0, 1, 0, 1, 0, 1, 1,\n",
              "       1, 0, 1, 0, 1, 1, 0, 1, 1, 1, 1, 1, 1, 1, 0, 1, 0, 0, 1, 1, 1, 1,\n",
              "       1, 0, 1, 0, 0, 0, 1, 0, 1, 0, 0, 0, 0, 0, 1, 1, 0, 1, 1, 0, 0, 1,\n",
              "       1, 1, 1, 1, 1, 1, 0, 1, 1, 1, 1, 1, 1, 0, 1, 1, 0, 1, 0, 1, 0, 1,\n",
              "       1, 1, 1, 1, 1, 1, 1, 0, 0, 1, 0, 1, 0, 0, 1, 1, 0, 0, 0, 1, 0, 0,\n",
              "       1, 0, 1, 1, 1, 0, 1, 1, 1, 0, 1, 0, 1, 0, 1, 0, 1, 1, 0, 0, 0, 1,\n",
              "       1, 0, 0, 1, 1, 1, 0, 1, 1, 1, 0, 1, 1, 0, 0, 0, 1, 1, 1, 1, 0, 0,\n",
              "       1, 0, 1, 1, 0, 1, 1, 0, 0, 0, 1, 0, 1, 1, 0, 0, 0, 0, 1, 0, 1, 1,\n",
              "       1, 0, 0, 1, 1, 1, 0, 1, 1, 1, 0, 1, 1, 1, 0, 1, 1, 1, 0, 1, 1, 0,\n",
              "       1, 0, 0, 0, 0, 0, 1, 0, 1, 0, 1, 0, 0, 0, 1, 0, 0, 1, 0, 1, 1, 0,\n",
              "       0, 0, 0, 0, 1, 0, 0, 0, 1, 1, 1, 0])"
            ]
          },
          "metadata": {},
          "execution_count": 78
        }
      ]
    },
    {
      "cell_type": "code",
      "source": [
        "y_teste"
      ],
      "metadata": {
        "id": "aBPvzhRUKLoZ",
        "colab": {
          "base_uri": "https://localhost:8080/"
        },
        "outputId": "b189cf7a-b040-4704-f0c4-ec4c18c3d8a9"
      },
      "execution_count": 79,
      "outputs": [
        {
          "output_type": "execute_result",
          "data": {
            "text/plain": [
              "array([1, 0, 1, 0, 0, 0, 0, 0, 0, 0, 1, 0, 1, 1, 0, 1, 1, 1, 1, 0, 1, 1,\n",
              "       1, 0, 0, 0, 1, 1, 0, 0, 1, 0, 0, 0, 1, 0, 1, 0, 1, 0, 0, 1, 1, 1,\n",
              "       1, 0, 0, 1, 1, 1, 1, 0, 0, 1, 1, 0, 0, 0, 1, 0, 1, 1, 1, 0, 1, 1,\n",
              "       1, 0, 1, 0, 1, 1, 1, 1, 1, 1, 1, 1, 1, 0, 0, 1, 0, 0, 1, 1, 0, 1,\n",
              "       1, 0, 1, 0, 0, 1, 1, 0, 1, 0, 0, 0, 0, 1, 1, 1, 0, 1, 0, 0, 0, 1,\n",
              "       0, 1, 1, 1, 0, 1, 1, 1, 1, 1, 1, 1, 1, 0, 0, 1, 0, 1, 0, 1, 0, 1,\n",
              "       0, 1, 0, 0, 0, 1, 1, 0, 1, 1, 0, 1, 0, 0, 1, 1, 1, 0, 1, 1, 0, 0,\n",
              "       0, 0, 1, 1, 1, 0, 1, 1, 1, 0, 1, 0, 1, 0, 1, 0, 1, 1, 0, 0, 1, 0,\n",
              "       0, 1, 0, 1, 1, 1, 0, 1, 1, 1, 0, 1, 1, 0, 0, 0, 1, 1, 1, 1, 1, 0,\n",
              "       1, 0, 1, 1, 0, 1, 1, 0, 0, 0, 1, 0, 1, 1, 0, 1, 0, 1, 1, 1, 1, 1,\n",
              "       1, 1, 0, 0, 0, 1, 0, 1, 1, 1, 0, 1, 0, 1, 1, 1, 1, 1, 0, 1, 1, 0,\n",
              "       1, 0, 1, 0, 0, 0, 1, 0, 1, 0, 1, 1, 0, 0, 1, 0, 0, 1, 0, 1, 1, 0,\n",
              "       0, 0, 0, 0, 1, 0, 0, 1, 1, 1, 1, 1])"
            ]
          },
          "metadata": {},
          "execution_count": 79
        }
      ]
    },
    {
      "cell_type": "code",
      "source": [
        "from sklearn.metrics import accuracy_score, confusion_matrix, classification_report"
      ],
      "metadata": {
        "id": "OEXPFIiVKUl_"
      },
      "execution_count": 80,
      "outputs": []
    },
    {
      "cell_type": "code",
      "source": [
        "accuracy_score(y_teste, previsoes_naive)"
      ],
      "metadata": {
        "id": "hojdvgEgKYjg",
        "colab": {
          "base_uri": "https://localhost:8080/"
        },
        "outputId": "b34daf48-fb94-468e-f3a7-ab9e7a4f1de1"
      },
      "execution_count": 81,
      "outputs": [
        {
          "output_type": "execute_result",
          "data": {
            "text/plain": [
              "0.8442028985507246"
            ]
          },
          "metadata": {},
          "execution_count": 81
        }
      ]
    },
    {
      "cell_type": "code",
      "source": [
        "print(\"Acurácia: %.2f%%\" % (accuracy_score(y_teste, previsoes_naive) * 100.0))"
      ],
      "metadata": {
        "id": "R8rjCRA7CwLV",
        "colab": {
          "base_uri": "https://localhost:8080/"
        },
        "outputId": "cee6fc33-4603-4131-d11b-49b1099e6649"
      },
      "execution_count": 82,
      "outputs": [
        {
          "output_type": "stream",
          "name": "stdout",
          "text": [
            "Acurácia: 84.42%\n"
          ]
        }
      ]
    },
    {
      "cell_type": "code",
      "source": [
        "confusion_matrix(y_teste, previsoes_naive)"
      ],
      "metadata": {
        "id": "N_xxZiTXKeG3",
        "colab": {
          "base_uri": "https://localhost:8080/"
        },
        "outputId": "49f52e18-f5f3-4e20-bed9-fe1998d1c484"
      },
      "execution_count": 83,
      "outputs": [
        {
          "output_type": "execute_result",
          "data": {
            "text/plain": [
              "array([[102,  19],\n",
              "       [ 24, 131]])"
            ]
          },
          "metadata": {},
          "execution_count": 83
        }
      ]
    },
    {
      "cell_type": "code",
      "source": [
        "print(classification_report(y_teste, previsoes_naive))"
      ],
      "metadata": {
        "id": "CZMZ_zPNKzqW",
        "colab": {
          "base_uri": "https://localhost:8080/"
        },
        "outputId": "761e4ca3-ab2f-43f6-b8ff-df54c5dad450"
      },
      "execution_count": 84,
      "outputs": [
        {
          "output_type": "stream",
          "name": "stdout",
          "text": [
            "              precision    recall  f1-score   support\n",
            "\n",
            "           0       0.81      0.84      0.83       121\n",
            "           1       0.87      0.85      0.86       155\n",
            "\n",
            "    accuracy                           0.84       276\n",
            "   macro avg       0.84      0.84      0.84       276\n",
            "weighted avg       0.85      0.84      0.84       276\n",
            "\n"
          ]
        }
      ]
    },
    {
      "cell_type": "markdown",
      "source": [
        "**Análise dados de treino**"
      ],
      "metadata": {
        "id": "Gnte-P_e0536"
      }
    },
    {
      "cell_type": "code",
      "source": [
        "previsoes_treino = naive.predict(x_treino)\n",
        "previsoes_treino"
      ],
      "metadata": {
        "id": "_t9CZH8qz9w-",
        "colab": {
          "base_uri": "https://localhost:8080/"
        },
        "outputId": "3af3b1ed-54a7-4249-8670-5e998679dd30"
      },
      "execution_count": 85,
      "outputs": [
        {
          "output_type": "execute_result",
          "data": {
            "text/plain": [
              "array([0, 0, 1, 1, 1, 1, 0, 0, 0, 0, 1, 0, 1, 1, 1, 0, 0, 0, 0, 1, 0, 0,\n",
              "       1, 1, 1, 0, 0, 1, 0, 1, 1, 0, 1, 1, 0, 0, 1, 1, 0, 1, 0, 1, 0, 0,\n",
              "       1, 1, 0, 1, 1, 1, 0, 0, 1, 0, 1, 0, 0, 0, 1, 0, 0, 0, 0, 0, 1, 1,\n",
              "       0, 1, 1, 0, 1, 1, 1, 1, 0, 0, 0, 1, 0, 1, 1, 1, 1, 1, 0, 1, 1, 1,\n",
              "       1, 1, 0, 1, 0, 0, 1, 1, 1, 1, 1, 1, 1, 1, 0, 1, 1, 1, 1, 0, 0, 1,\n",
              "       0, 0, 1, 0, 1, 0, 1, 0, 1, 0, 0, 0, 0, 1, 0, 1, 0, 0, 0, 1, 1, 0,\n",
              "       1, 1, 0, 0, 1, 0, 1, 1, 0, 1, 1, 1, 1, 1, 1, 0, 0, 1, 1, 0, 1, 0,\n",
              "       1, 0, 1, 1, 1, 1, 1, 0, 0, 0, 0, 1, 1, 0, 0, 0, 0, 1, 1, 0, 1, 0,\n",
              "       0, 1, 1, 0, 0, 0, 0, 0, 0, 1, 1, 1, 1, 0, 0, 0, 1, 0, 0, 0, 1, 1,\n",
              "       0, 1, 0, 1, 0, 1, 1, 1, 1, 1, 1, 0, 0, 0, 1, 1, 1, 1, 1, 0, 0, 1,\n",
              "       1, 0, 0, 1, 1, 0, 1, 1, 1, 1, 0, 1, 0, 1, 1, 0, 1, 0, 0, 0, 1, 0,\n",
              "       1, 1, 1, 1, 1, 1, 1, 0, 1, 1, 0, 0, 0, 0, 0, 0, 1, 0, 0, 1, 1, 0,\n",
              "       1, 0, 1, 0, 1, 0, 1, 1, 0, 1, 0, 1, 1, 0, 0, 0, 1, 0, 0, 0, 1, 1,\n",
              "       0, 1, 1, 1, 1, 0, 1, 1, 0, 1, 0, 1, 0, 1, 1, 0, 0, 1, 0, 1, 0, 1,\n",
              "       1, 0, 1, 0, 1, 0, 1, 0, 1, 0, 1, 0, 1, 1, 1, 1, 0, 1, 1, 1, 1, 0,\n",
              "       0, 0, 1, 0, 0, 0, 0, 1, 0, 1, 1, 1, 1, 1, 1, 0, 1, 1, 0, 1, 0, 1,\n",
              "       0, 0, 0, 0, 0, 0, 1, 0, 0, 1, 0, 1, 1, 0, 0, 0, 0, 0, 1, 1, 0, 1,\n",
              "       0, 1, 1, 1, 0, 0, 1, 1, 0, 1, 0, 1, 0, 0, 0, 1, 0, 1, 1, 0, 1, 1,\n",
              "       0, 0, 0, 1, 1, 1, 1, 0, 1, 0, 1, 1, 1, 0, 0, 1, 0, 1, 1, 1, 0, 0,\n",
              "       0, 1, 1, 1, 0, 1, 1, 0, 1, 0, 0, 0, 0, 1, 0, 1, 1, 1, 1, 0, 1, 1,\n",
              "       0, 0, 1, 1, 1, 1, 0, 1, 0, 0, 1, 0, 1, 1, 1, 1, 0, 0, 0, 1, 0, 1,\n",
              "       1, 1, 1, 1, 1, 0, 1, 1, 1, 1, 1, 1, 1, 1, 1, 0, 0, 0, 1, 0, 0, 0,\n",
              "       0, 0, 1, 0, 1, 1, 0, 0, 0, 1, 1, 0, 1, 1, 1, 0, 1, 1, 0, 0, 1, 1,\n",
              "       1, 0, 0, 0, 1, 1, 1, 1, 0, 1, 0, 0, 1, 0, 1, 1, 1, 0, 0, 1, 1, 0,\n",
              "       1, 0, 1, 0, 1, 0, 1, 0, 1, 0, 1, 1, 0, 1, 0, 1, 1, 0, 0, 1, 1, 1,\n",
              "       0, 1, 1, 0, 1, 0, 1, 1, 1, 0, 1, 1, 0, 0, 0, 0, 1, 0, 0, 1, 0, 1,\n",
              "       1, 0, 0, 0, 1, 0, 0, 0, 0, 0, 0, 1, 1, 1, 1, 0, 1, 0, 0, 0, 0, 0,\n",
              "       0, 0, 1, 0, 0, 0, 0, 0, 0, 0, 1, 0, 0, 1, 0, 0, 1, 0, 0, 1, 0, 1,\n",
              "       1, 1, 1, 1, 1, 0, 1, 0, 1, 1, 1, 1, 0, 1, 1, 0, 0, 0, 1, 0, 1, 0,\n",
              "       0, 0, 1])"
            ]
          },
          "metadata": {},
          "execution_count": 85
        }
      ]
    },
    {
      "cell_type": "code",
      "source": [
        "accuracy_score(y_treino, previsoes_treino)"
      ],
      "metadata": {
        "id": "ixfPbrJB0iEE",
        "colab": {
          "base_uri": "https://localhost:8080/"
        },
        "outputId": "5b96dfe5-9966-4c88-fd03-35e6227f9d63"
      },
      "execution_count": 86,
      "outputs": [
        {
          "output_type": "execute_result",
          "data": {
            "text/plain": [
              "0.8361934477379095"
            ]
          },
          "metadata": {},
          "execution_count": 86
        }
      ]
    },
    {
      "cell_type": "code",
      "source": [
        "confusion_matrix(y_treino, previsoes_treino)"
      ],
      "metadata": {
        "id": "nyTX_2Te0suq",
        "colab": {
          "base_uri": "https://localhost:8080/"
        },
        "outputId": "0672c672-938f-46f5-ef92-23998ec7c8f0"
      },
      "execution_count": 87,
      "outputs": [
        {
          "output_type": "execute_result",
          "data": {
            "text/plain": [
              "array([[243,  46],\n",
              "       [ 59, 293]])"
            ]
          },
          "metadata": {},
          "execution_count": 87
        }
      ]
    },
    {
      "cell_type": "markdown",
      "source": [
        "### **Validação Cruzada**"
      ],
      "metadata": {
        "id": "rNsT6wAn_e1l"
      }
    },
    {
      "cell_type": "code",
      "source": [
        "from sklearn.model_selection import KFold\n",
        "from sklearn.model_selection import cross_val_score"
      ],
      "metadata": {
        "id": "lvBuy5bm_qok"
      },
      "execution_count": 88,
      "outputs": []
    },
    {
      "cell_type": "code",
      "source": [
        "# Separando os dados em folds\n",
        "kfold = KFold(n_splits = 30, shuffle=True, random_state = 5)"
      ],
      "metadata": {
        "id": "SS_dyx4x_260"
      },
      "execution_count": 89,
      "outputs": []
    },
    {
      "cell_type": "code",
      "source": [
        "# Criando o modelo\n",
        "modelo = GaussianNB()\n",
        "resultado = cross_val_score(modelo, previsores3_esc, alvo, cv = kfold)\n",
        "resultado"
      ],
      "metadata": {
        "id": "K0aqT7kPAf1L",
        "colab": {
          "base_uri": "https://localhost:8080/"
        },
        "outputId": "c0e6b124-a195-4a42-83af-0288ec4c3e3a"
      },
      "execution_count": 90,
      "outputs": [
        {
          "output_type": "execute_result",
          "data": {
            "text/plain": [
              "array([0.87096774, 0.87096774, 0.90322581, 0.80645161, 0.77419355,\n",
              "       0.90322581, 0.70967742, 0.87096774, 0.77419355, 0.87096774,\n",
              "       0.90322581, 0.77419355, 0.93548387, 0.90322581, 0.87096774,\n",
              "       0.87096774, 0.87096774, 0.93333333, 0.93333333, 0.9       ,\n",
              "       0.76666667, 0.83333333, 0.8       , 0.7       , 0.83333333,\n",
              "       0.93333333, 0.86666667, 0.9       , 0.86666667, 0.8       ])"
            ]
          },
          "metadata": {},
          "execution_count": 90
        }
      ]
    },
    {
      "cell_type": "code",
      "source": [
        "# Usamos a média e o desvio padrão\n",
        "print(\"Acurácia Média: %.2f%%\" % (resultado.mean() * 100.0))"
      ],
      "metadata": {
        "id": "VmmFUeXird9B",
        "colab": {
          "base_uri": "https://localhost:8080/"
        },
        "outputId": "8f4e54fb-656e-4464-abdd-37163ba9156a"
      },
      "execution_count": 91,
      "outputs": [
        {
          "output_type": "stream",
          "name": "stdout",
          "text": [
            "Acurácia Média: 85.17%\n"
          ]
        }
      ]
    },
    {
      "cell_type": "markdown",
      "source": [
        "Naive Bayes = 84,78% (treino e teste) - 234 acertos e 85,17% (validação cruzada) - previsores3_esc\n",
        "\n",
        "\n",
        "\n"
      ],
      "metadata": {
        "id": "tZ03xoOQNkQP"
      }
    },
    {
      "cell_type": "markdown",
      "source": [
        "# **MÁQUINAS DE VETORES DE SUPORTE (SVM)**"
      ],
      "metadata": {
        "id": "n1ky9LQipNn0"
      }
    },
    {
      "cell_type": "markdown",
      "source": [
        "https://scikit-learn.org/stable/modules/generated/sklearn.svm.SVC.html"
      ],
      "metadata": {
        "id": "5p55FhL3b52u"
      }
    },
    {
      "cell_type": "code",
      "source": [
        "from sklearn.svm import SVC"
      ],
      "metadata": {
        "id": "oVy0EpUfpquK"
      },
      "execution_count": 92,
      "outputs": []
    },
    {
      "cell_type": "code",
      "metadata": {
        "id": "P7xKKTCabAab",
        "colab": {
          "base_uri": "https://localhost:8080/"
        },
        "outputId": "9c19e8ca-0d29-4686-c167-af8f1294b3f9"
      },
      "source": [
        "svm = SVC(kernel='rbf', random_state=1, C = 2) \n",
        "svm.fit(x_treino, y_treino)"
      ],
      "execution_count": 93,
      "outputs": [
        {
          "output_type": "execute_result",
          "data": {
            "text/plain": [
              "SVC(C=2, random_state=1)"
            ]
          },
          "metadata": {},
          "execution_count": 93
        }
      ]
    },
    {
      "cell_type": "code",
      "metadata": {
        "id": "VjKeaHKrbicN",
        "colab": {
          "base_uri": "https://localhost:8080/"
        },
        "outputId": "d04ac807-d10c-40b2-b008-448c21630595"
      },
      "source": [
        "previsoes_svm = svm.predict(x_teste)\n",
        "previsoes_svm"
      ],
      "execution_count": 94,
      "outputs": [
        {
          "output_type": "execute_result",
          "data": {
            "text/plain": [
              "array([0, 1, 1, 1, 1, 0, 0, 0, 0, 1, 1, 1, 1, 1, 1, 1, 1, 1, 0, 0, 1, 1,\n",
              "       1, 0, 1, 1, 0, 1, 0, 1, 1, 1, 0, 0, 1, 0, 0, 0, 1, 0, 0, 1, 1, 1,\n",
              "       1, 0, 0, 0, 1, 1, 0, 0, 1, 1, 1, 0, 0, 1, 1, 0, 1, 0, 0, 0, 1, 1,\n",
              "       1, 0, 1, 0, 0, 1, 0, 1, 1, 1, 0, 1, 1, 1, 0, 1, 0, 0, 1, 0, 1, 1,\n",
              "       1, 0, 1, 1, 0, 1, 1, 0, 1, 0, 1, 1, 1, 1, 1, 1, 0, 0, 0, 0, 0, 0,\n",
              "       1, 1, 1, 1, 0, 1, 0, 1, 1, 1, 1, 1, 1, 1, 1, 1, 1, 0, 0, 1, 0, 1,\n",
              "       1, 1, 1, 0, 1, 1, 1, 0, 1, 1, 0, 1, 0, 0, 1, 1, 0, 0, 0, 1, 1, 0,\n",
              "       1, 0, 1, 0, 1, 1, 1, 0, 1, 1, 1, 0, 1, 0, 1, 1, 1, 0, 0, 0, 0, 1,\n",
              "       1, 0, 1, 1, 1, 1, 1, 1, 0, 1, 1, 1, 1, 1, 0, 1, 1, 1, 1, 1, 0, 0,\n",
              "       1, 1, 1, 1, 0, 0, 1, 1, 1, 0, 1, 0, 0, 1, 1, 0, 0, 0, 1, 0, 1, 1,\n",
              "       1, 0, 1, 0, 1, 1, 0, 1, 1, 1, 0, 1, 1, 1, 1, 1, 0, 0, 1, 1, 1, 0,\n",
              "       1, 1, 0, 0, 0, 0, 1, 1, 1, 0, 1, 1, 0, 1, 1, 0, 1, 1, 1, 1, 1, 1,\n",
              "       0, 1, 0, 0, 1, 0, 1, 0, 0, 1, 0, 0])"
            ]
          },
          "metadata": {},
          "execution_count": 94
        }
      ]
    },
    {
      "cell_type": "code",
      "source": [
        "y_teste"
      ],
      "metadata": {
        "id": "ulL7w207qcwQ",
        "colab": {
          "base_uri": "https://localhost:8080/"
        },
        "outputId": "60fea6f1-903b-4c3f-9772-e732b904ec4d"
      },
      "execution_count": 95,
      "outputs": [
        {
          "output_type": "execute_result",
          "data": {
            "text/plain": [
              "array([1, 0, 1, 0, 0, 0, 0, 0, 0, 0, 1, 0, 1, 1, 0, 1, 1, 1, 1, 0, 1, 1,\n",
              "       1, 0, 0, 0, 1, 1, 0, 0, 1, 0, 0, 0, 1, 0, 1, 0, 1, 0, 0, 1, 1, 1,\n",
              "       1, 0, 0, 1, 1, 1, 1, 0, 0, 1, 1, 0, 0, 0, 1, 0, 1, 1, 1, 0, 1, 1,\n",
              "       1, 0, 1, 0, 1, 1, 1, 1, 1, 1, 1, 1, 1, 0, 0, 1, 0, 0, 1, 1, 0, 1,\n",
              "       1, 0, 1, 0, 0, 1, 1, 0, 1, 0, 0, 0, 0, 1, 1, 1, 0, 1, 0, 0, 0, 1,\n",
              "       0, 1, 1, 1, 0, 1, 1, 1, 1, 1, 1, 1, 1, 0, 0, 1, 0, 1, 0, 1, 0, 1,\n",
              "       0, 1, 0, 0, 0, 1, 1, 0, 1, 1, 0, 1, 0, 0, 1, 1, 1, 0, 1, 1, 0, 0,\n",
              "       0, 0, 1, 1, 1, 0, 1, 1, 1, 0, 1, 0, 1, 0, 1, 0, 1, 1, 0, 0, 1, 0,\n",
              "       0, 1, 0, 1, 1, 1, 0, 1, 1, 1, 0, 1, 1, 0, 0, 0, 1, 1, 1, 1, 1, 0,\n",
              "       1, 0, 1, 1, 0, 1, 1, 0, 0, 0, 1, 0, 1, 1, 0, 1, 0, 1, 1, 1, 1, 1,\n",
              "       1, 1, 0, 0, 0, 1, 0, 1, 1, 1, 0, 1, 0, 1, 1, 1, 1, 1, 0, 1, 1, 0,\n",
              "       1, 0, 1, 0, 0, 0, 1, 0, 1, 0, 1, 1, 0, 0, 1, 0, 0, 1, 0, 1, 1, 0,\n",
              "       0, 0, 0, 0, 1, 0, 0, 1, 1, 1, 1, 1])"
            ]
          },
          "metadata": {},
          "execution_count": 95
        }
      ]
    },
    {
      "cell_type": "code",
      "source": [
        "from sklearn.metrics import accuracy_score, confusion_matrix, classification_report"
      ],
      "metadata": {
        "id": "iWdYWQQBvnVQ"
      },
      "execution_count": 96,
      "outputs": []
    },
    {
      "cell_type": "code",
      "source": [
        "print(\"Acurácia: %.2f%%\" % (accuracy_score(y_teste, previsoes_svm) * 100.0))"
      ],
      "metadata": {
        "id": "kRZ4VwD-qjW4",
        "colab": {
          "base_uri": "https://localhost:8080/"
        },
        "outputId": "b659c45d-93bc-45f5-9ab0-52bd33d5fbd8"
      },
      "execution_count": 97,
      "outputs": [
        {
          "output_type": "stream",
          "name": "stdout",
          "text": [
            "Acurácia: 67.03%\n"
          ]
        }
      ]
    },
    {
      "cell_type": "code",
      "source": [
        "confusion_matrix(y_teste, previsoes_svm)"
      ],
      "metadata": {
        "id": "VYeZMXUtqjW5",
        "colab": {
          "base_uri": "https://localhost:8080/"
        },
        "outputId": "83f85ce8-7c4d-459e-ed79-ff7f0566370e"
      },
      "execution_count": 98,
      "outputs": [
        {
          "output_type": "execute_result",
          "data": {
            "text/plain": [
              "array([[ 68,  53],\n",
              "       [ 38, 117]])"
            ]
          },
          "metadata": {},
          "execution_count": 98
        }
      ]
    },
    {
      "cell_type": "code",
      "source": [
        "print(classification_report(y_teste, previsoes_svm))"
      ],
      "metadata": {
        "id": "YPKWlAGAqjW6",
        "colab": {
          "base_uri": "https://localhost:8080/"
        },
        "outputId": "a6d2b0a5-bbcf-4898-8340-c6c5a6fb79b5"
      },
      "execution_count": 99,
      "outputs": [
        {
          "output_type": "stream",
          "name": "stdout",
          "text": [
            "              precision    recall  f1-score   support\n",
            "\n",
            "           0       0.64      0.56      0.60       121\n",
            "           1       0.69      0.75      0.72       155\n",
            "\n",
            "    accuracy                           0.67       276\n",
            "   macro avg       0.66      0.66      0.66       276\n",
            "weighted avg       0.67      0.67      0.67       276\n",
            "\n"
          ]
        }
      ]
    },
    {
      "cell_type": "markdown",
      "source": [
        "**Análise dados de treino**"
      ],
      "metadata": {
        "id": "GeeUpamU1u6d"
      }
    },
    {
      "cell_type": "code",
      "source": [
        "previsoes_treino = svm.predict(x_treino)\n",
        "previsoes_treino"
      ],
      "metadata": {
        "id": "VVGJEYpC1u6d",
        "colab": {
          "base_uri": "https://localhost:8080/"
        },
        "outputId": "1c6e01cd-7053-407e-b82b-81806632e1a2"
      },
      "execution_count": 100,
      "outputs": [
        {
          "output_type": "execute_result",
          "data": {
            "text/plain": [
              "array([1, 0, 1, 1, 0, 0, 1, 0, 0, 1, 1, 0, 1, 1, 1, 0, 0, 1, 0, 1, 0, 0,\n",
              "       1, 0, 1, 0, 0, 1, 1, 1, 1, 0, 1, 1, 0, 0, 1, 1, 0, 1, 0, 1, 0, 0,\n",
              "       1, 1, 0, 1, 1, 1, 1, 0, 1, 0, 1, 0, 1, 1, 0, 0, 0, 1, 0, 0, 1, 1,\n",
              "       1, 1, 1, 0, 0, 1, 1, 1, 0, 0, 1, 1, 0, 1, 1, 1, 1, 1, 0, 1, 1, 1,\n",
              "       1, 1, 1, 0, 0, 1, 1, 1, 1, 1, 1, 1, 0, 1, 1, 0, 1, 1, 1, 0, 0, 1,\n",
              "       0, 0, 1, 0, 1, 0, 0, 1, 1, 0, 0, 0, 0, 1, 0, 1, 1, 0, 1, 1, 1, 0,\n",
              "       1, 1, 0, 1, 0, 0, 1, 1, 0, 1, 1, 1, 1, 1, 1, 1, 1, 1, 1, 1, 1, 1,\n",
              "       1, 0, 1, 0, 1, 1, 1, 0, 0, 0, 0, 1, 1, 1, 0, 1, 0, 1, 1, 0, 1, 1,\n",
              "       0, 1, 1, 0, 1, 0, 0, 0, 0, 1, 1, 1, 1, 1, 0, 1, 1, 1, 0, 0, 1, 1,\n",
              "       1, 1, 0, 1, 0, 1, 1, 0, 0, 0, 0, 1, 0, 1, 1, 1, 1, 1, 1, 0, 1, 1,\n",
              "       0, 0, 1, 1, 1, 0, 1, 1, 1, 1, 1, 1, 1, 1, 1, 0, 1, 0, 0, 0, 1, 0,\n",
              "       1, 0, 0, 1, 1, 1, 1, 1, 1, 1, 0, 1, 0, 0, 0, 0, 1, 0, 0, 0, 1, 0,\n",
              "       1, 1, 1, 0, 1, 0, 0, 1, 1, 0, 0, 1, 1, 0, 0, 0, 1, 0, 0, 0, 1, 1,\n",
              "       0, 1, 1, 1, 1, 0, 1, 0, 1, 0, 0, 0, 0, 1, 1, 1, 0, 1, 0, 1, 0, 1,\n",
              "       1, 0, 1, 0, 0, 0, 1, 0, 1, 0, 1, 0, 1, 1, 1, 1, 0, 1, 1, 0, 1, 1,\n",
              "       1, 1, 1, 0, 1, 1, 0, 1, 0, 1, 1, 1, 1, 1, 1, 0, 1, 1, 0, 0, 0, 1,\n",
              "       0, 0, 1, 1, 0, 0, 1, 1, 0, 0, 1, 1, 1, 0, 0, 0, 0, 1, 1, 0, 0, 1,\n",
              "       1, 1, 1, 1, 0, 0, 1, 1, 0, 1, 0, 1, 0, 0, 0, 0, 1, 1, 0, 0, 1, 1,\n",
              "       0, 1, 1, 1, 1, 1, 1, 1, 1, 1, 0, 1, 1, 0, 0, 1, 1, 1, 1, 1, 0, 1,\n",
              "       1, 1, 1, 1, 1, 1, 0, 0, 1, 1, 1, 0, 0, 1, 0, 0, 1, 1, 1, 0, 1, 1,\n",
              "       0, 0, 1, 1, 0, 1, 0, 1, 1, 1, 1, 0, 1, 1, 1, 1, 0, 0, 1, 1, 0, 1,\n",
              "       1, 1, 1, 1, 1, 0, 1, 0, 1, 1, 1, 1, 0, 1, 1, 0, 0, 0, 1, 0, 1, 0,\n",
              "       1, 0, 0, 1, 1, 0, 1, 1, 0, 1, 1, 0, 1, 1, 1, 0, 1, 1, 0, 1, 1, 1,\n",
              "       1, 1, 0, 0, 0, 1, 0, 1, 0, 1, 1, 0, 1, 0, 1, 1, 0, 0, 0, 1, 1, 0,\n",
              "       1, 0, 0, 1, 1, 1, 1, 0, 0, 0, 1, 1, 0, 1, 0, 0, 0, 0, 0, 1, 0, 0,\n",
              "       0, 0, 1, 0, 1, 0, 1, 1, 1, 1, 1, 0, 1, 0, 1, 1, 1, 0, 0, 1, 0, 1,\n",
              "       1, 1, 1, 0, 1, 1, 0, 1, 1, 1, 1, 0, 1, 1, 1, 1, 1, 0, 1, 1, 1, 0,\n",
              "       0, 0, 1, 0, 0, 1, 1, 1, 0, 0, 1, 1, 0, 1, 0, 0, 1, 0, 0, 1, 0, 0,\n",
              "       1, 1, 0, 1, 0, 0, 0, 1, 1, 1, 1, 1, 0, 1, 1, 0, 1, 1, 1, 0, 1, 0,\n",
              "       1, 1, 1])"
            ]
          },
          "metadata": {},
          "execution_count": 100
        }
      ]
    },
    {
      "cell_type": "code",
      "source": [
        "accuracy_score(y_treino, previsoes_treino)"
      ],
      "metadata": {
        "id": "Xo-iYrMn1u6d",
        "colab": {
          "base_uri": "https://localhost:8080/"
        },
        "outputId": "ff543688-98b1-42a0-fa34-6aefeb5abe7b"
      },
      "execution_count": 101,
      "outputs": [
        {
          "output_type": "execute_result",
          "data": {
            "text/plain": [
              "0.7145085803432137"
            ]
          },
          "metadata": {},
          "execution_count": 101
        }
      ]
    },
    {
      "cell_type": "code",
      "source": [
        "confusion_matrix(y_treino, previsoes_treino)"
      ],
      "metadata": {
        "id": "Z42CYXuC1u6e",
        "colab": {
          "base_uri": "https://localhost:8080/"
        },
        "outputId": "b4fdb1e9-f532-4285-ffe6-d2851d87515e"
      },
      "execution_count": 102,
      "outputs": [
        {
          "output_type": "execute_result",
          "data": {
            "text/plain": [
              "array([[181, 108],\n",
              "       [ 75, 277]])"
            ]
          },
          "metadata": {},
          "execution_count": 102
        }
      ]
    },
    {
      "cell_type": "markdown",
      "source": [
        "### **Validação Cruzada**"
      ],
      "metadata": {
        "id": "xXM2zqKVH1Vi"
      }
    },
    {
      "cell_type": "code",
      "source": [
        "from sklearn.model_selection import KFold\n",
        "from sklearn.model_selection import cross_val_score"
      ],
      "metadata": {
        "id": "tukeEaG8H1Vj"
      },
      "execution_count": 103,
      "outputs": []
    },
    {
      "cell_type": "code",
      "source": [
        "# Separando os dados em folds\n",
        "kfold = KFold(n_splits = 30, shuffle=True, random_state = 5)"
      ],
      "metadata": {
        "id": "4tYyKK_RH1Vj"
      },
      "execution_count": 104,
      "outputs": []
    },
    {
      "cell_type": "code",
      "source": [
        "# Criando o modelo\n",
        "modelo = SVC(kernel='rbf', random_state=1, C = 2) \n",
        "resultado = cross_val_score(modelo, previsores3_esc, alvo, cv = kfold)\n",
        "\n",
        "# Usamos a média e o desvio padrão\n",
        "print(\"Acurácia Média: %.2f%%\" % (resultado.mean() * 100.0))"
      ],
      "metadata": {
        "id": "mhD3BcOWH1Vk",
        "colab": {
          "base_uri": "https://localhost:8080/"
        },
        "outputId": "9272b75c-99cd-452f-c8f7-e869b245f9a6"
      },
      "execution_count": 105,
      "outputs": [
        {
          "output_type": "stream",
          "name": "stdout",
          "text": [
            "Acurácia Média: 85.72%\n"
          ]
        }
      ]
    },
    {
      "cell_type": "markdown",
      "source": [
        "Naive Bayes = 84,78% (treino e teste) - 234 acertos e 85,17% (validação cruzada) : previsores3_esc\n",
        "\n",
        "SVM = 86,23% - 238 acertos e 85,72% (validação cruzada) : previsores3-esc - SVC(kernel='rbf', random_state=1, C = 2)\n",
        "\n"
      ],
      "metadata": {
        "id": "fT_1y1Hoqycp"
      }
    },
    {
      "cell_type": "markdown",
      "source": [
        "# **REGRESSÃO LOGÍSTICA**"
      ],
      "metadata": {
        "id": "jebC8M2jqyc9"
      }
    },
    {
      "cell_type": "markdown",
      "source": [
        "https://scikit-learn.org/stable/modules/generated/sklearn.linear_model.LogisticRegression.html"
      ],
      "metadata": {
        "id": "mprvbtyNbzP3"
      }
    },
    {
      "cell_type": "code",
      "source": [
        "from sklearn.linear_model import LogisticRegression"
      ],
      "metadata": {
        "id": "NVGe2Q7ur-Nv"
      },
      "execution_count": 106,
      "outputs": []
    },
    {
      "cell_type": "code",
      "metadata": {
        "id": "f_RnL43VV9Yc",
        "colab": {
          "base_uri": "https://localhost:8080/"
        },
        "outputId": "5da056fd-38f0-47da-a83d-b19a98c8860b"
      },
      "source": [
        "logistica = LogisticRegression(random_state=1, max_iter=500, penalty=\"l2\",\n",
        "                               tol=0.0001, C=1,solver=\"lbfgs\")\n",
        "logistica.fit(x_treino, y_treino)"
      ],
      "execution_count": 107,
      "outputs": [
        {
          "output_type": "stream",
          "name": "stderr",
          "text": [
            "/usr/local/lib/python3.7/dist-packages/sklearn/linear_model/_logistic.py:818: ConvergenceWarning: lbfgs failed to converge (status=1):\n",
            "STOP: TOTAL NO. of ITERATIONS REACHED LIMIT.\n",
            "\n",
            "Increase the number of iterations (max_iter) or scale the data as shown in:\n",
            "    https://scikit-learn.org/stable/modules/preprocessing.html\n",
            "Please also refer to the documentation for alternative solver options:\n",
            "    https://scikit-learn.org/stable/modules/linear_model.html#logistic-regression\n",
            "  extra_warning_msg=_LOGISTIC_SOLVER_CONVERGENCE_MSG,\n"
          ]
        },
        {
          "output_type": "execute_result",
          "data": {
            "text/plain": [
              "LogisticRegression(C=1, max_iter=500, random_state=1)"
            ]
          },
          "metadata": {},
          "execution_count": 107
        }
      ]
    },
    {
      "cell_type": "code",
      "metadata": {
        "id": "I7EqQihmWIQG",
        "colab": {
          "base_uri": "https://localhost:8080/"
        },
        "outputId": "bd87145a-95f7-41e7-a665-48293888bb7b"
      },
      "source": [
        "logistica.intercept_"
      ],
      "execution_count": 108,
      "outputs": [
        {
          "output_type": "execute_result",
          "data": {
            "text/plain": [
              "array([-3.37281601])"
            ]
          },
          "metadata": {},
          "execution_count": 108
        }
      ]
    },
    {
      "cell_type": "code",
      "metadata": {
        "id": "6BS-aVjsWK_0",
        "colab": {
          "base_uri": "https://localhost:8080/"
        },
        "outputId": "4ebf26e3-8f7c-4999-d36a-22cbc6474928"
      },
      "source": [
        "logistica.coef_"
      ],
      "execution_count": 109,
      "outputs": [
        {
          "output_type": "execute_result",
          "data": {
            "text/plain": [
              "array([[ 0.01241369, -1.27577228,  0.66770239,  0.0031762 ,  0.00425509,\n",
              "         0.93716651,  0.09841504, -0.01158484,  1.02801367,  0.25063703,\n",
              "         1.66300444]])"
            ]
          },
          "metadata": {},
          "execution_count": 109
        }
      ]
    },
    {
      "cell_type": "code",
      "metadata": {
        "id": "zKlba1wBWX1O",
        "colab": {
          "base_uri": "https://localhost:8080/"
        },
        "outputId": "a067aa0a-069b-4da7-e4dc-7d6d6de5ff34"
      },
      "source": [
        "previsoes_logistica = logistica.predict(x_teste)\n",
        "previsoes_logistica"
      ],
      "execution_count": 110,
      "outputs": [
        {
          "output_type": "execute_result",
          "data": {
            "text/plain": [
              "array([1, 1, 1, 0, 0, 0, 0, 0, 0, 0, 1, 1, 1, 1, 0, 1, 1, 1, 1, 0, 1, 1,\n",
              "       1, 0, 0, 0, 1, 1, 1, 1, 1, 0, 0, 0, 1, 0, 0, 0, 1, 0, 0, 1, 1, 1,\n",
              "       1, 0, 0, 1, 0, 1, 1, 0, 0, 1, 1, 0, 0, 0, 0, 0, 1, 1, 1, 0, 1, 1,\n",
              "       1, 0, 1, 0, 1, 1, 0, 1, 1, 1, 1, 1, 1, 1, 1, 1, 0, 0, 1, 1, 1, 1,\n",
              "       1, 0, 1, 0, 0, 0, 1, 0, 1, 0, 0, 0, 0, 1, 1, 1, 0, 1, 1, 0, 0, 1,\n",
              "       1, 1, 1, 1, 1, 1, 0, 1, 1, 1, 1, 1, 1, 0, 1, 1, 0, 1, 0, 1, 0, 1,\n",
              "       1, 1, 0, 1, 1, 1, 1, 0, 0, 1, 0, 1, 0, 0, 1, 1, 0, 1, 0, 1, 1, 0,\n",
              "       1, 0, 1, 1, 1, 0, 1, 1, 1, 0, 1, 0, 1, 0, 1, 0, 1, 1, 0, 0, 1, 1,\n",
              "       1, 0, 0, 1, 1, 1, 0, 1, 1, 1, 0, 1, 1, 0, 0, 0, 1, 1, 1, 1, 0, 0,\n",
              "       1, 0, 1, 1, 0, 1, 1, 0, 0, 0, 1, 0, 1, 1, 0, 0, 0, 0, 1, 0, 1, 1,\n",
              "       1, 0, 0, 1, 1, 1, 0, 1, 0, 1, 0, 1, 1, 1, 0, 1, 1, 1, 0, 1, 1, 0,\n",
              "       1, 0, 1, 0, 0, 0, 1, 0, 1, 0, 1, 0, 0, 0, 1, 0, 0, 1, 0, 1, 1, 0,\n",
              "       0, 0, 0, 0, 1, 0, 0, 1, 1, 1, 1, 1])"
            ]
          },
          "metadata": {},
          "execution_count": 110
        }
      ]
    },
    {
      "cell_type": "code",
      "source": [
        "from sklearn.metrics import accuracy_score, confusion_matrix, classification_report"
      ],
      "metadata": {
        "id": "PbF05awQvhzK"
      },
      "execution_count": 111,
      "outputs": []
    },
    {
      "cell_type": "code",
      "source": [
        "print(\"Acurácia: %.2f%%\" % (accuracy_score(y_teste, previsoes_logistica) * 100.0))"
      ],
      "metadata": {
        "id": "72UCRQBdt2Iy",
        "colab": {
          "base_uri": "https://localhost:8080/"
        },
        "outputId": "31f32c3e-5728-4efb-fb6b-8f6e0a362e3b"
      },
      "execution_count": 112,
      "outputs": [
        {
          "output_type": "stream",
          "name": "stdout",
          "text": [
            "Acurácia: 85.51%\n"
          ]
        }
      ]
    },
    {
      "cell_type": "code",
      "source": [
        "confusion_matrix(y_teste, previsoes_logistica)"
      ],
      "metadata": {
        "id": "g2FaBeYDt2Iz",
        "colab": {
          "base_uri": "https://localhost:8080/"
        },
        "outputId": "de4a82fe-4a6a-4dea-e691-5dd564c393f2"
      },
      "execution_count": 113,
      "outputs": [
        {
          "output_type": "execute_result",
          "data": {
            "text/plain": [
              "array([[ 99,  22],\n",
              "       [ 18, 137]])"
            ]
          },
          "metadata": {},
          "execution_count": 113
        }
      ]
    },
    {
      "cell_type": "code",
      "source": [
        "print(classification_report(y_teste, previsoes_logistica))"
      ],
      "metadata": {
        "id": "MAgJo5b5t2I0",
        "colab": {
          "base_uri": "https://localhost:8080/"
        },
        "outputId": "abc4816e-9a86-4e43-b26b-95f2f4e1af6f"
      },
      "execution_count": 114,
      "outputs": [
        {
          "output_type": "stream",
          "name": "stdout",
          "text": [
            "              precision    recall  f1-score   support\n",
            "\n",
            "           0       0.85      0.82      0.83       121\n",
            "           1       0.86      0.88      0.87       155\n",
            "\n",
            "    accuracy                           0.86       276\n",
            "   macro avg       0.85      0.85      0.85       276\n",
            "weighted avg       0.85      0.86      0.85       276\n",
            "\n"
          ]
        }
      ]
    },
    {
      "cell_type": "markdown",
      "source": [
        "**Análise dados de treino**"
      ],
      "metadata": {
        "id": "6LpYZvhb17ms"
      }
    },
    {
      "cell_type": "code",
      "source": [
        "previsoes_treino = logistica.predict(x_treino)\n",
        "previsoes_treino"
      ],
      "metadata": {
        "id": "9Mup9Cn817mt",
        "colab": {
          "base_uri": "https://localhost:8080/"
        },
        "outputId": "047b1445-c710-4ba5-a48c-5c46a37471c7"
      },
      "execution_count": 115,
      "outputs": [
        {
          "output_type": "execute_result",
          "data": {
            "text/plain": [
              "array([1, 0, 1, 1, 1, 1, 0, 0, 0, 0, 1, 0, 1, 1, 1, 0, 0, 0, 0, 1, 1, 1,\n",
              "       1, 1, 1, 0, 0, 1, 0, 1, 1, 0, 1, 1, 0, 0, 1, 1, 0, 1, 0, 1, 0, 0,\n",
              "       1, 1, 0, 1, 1, 1, 0, 0, 1, 0, 1, 0, 1, 0, 1, 0, 0, 0, 0, 0, 1, 1,\n",
              "       0, 1, 1, 0, 1, 1, 1, 1, 0, 0, 1, 1, 0, 1, 1, 1, 1, 1, 0, 1, 1, 1,\n",
              "       1, 1, 0, 1, 0, 0, 1, 1, 1, 1, 1, 1, 0, 1, 0, 1, 1, 1, 1, 0, 0, 1,\n",
              "       0, 0, 1, 0, 1, 0, 1, 0, 1, 0, 0, 0, 0, 1, 0, 1, 0, 0, 1, 1, 1, 0,\n",
              "       1, 1, 0, 0, 1, 0, 1, 1, 0, 1, 1, 1, 1, 1, 1, 0, 0, 1, 1, 0, 1, 0,\n",
              "       1, 0, 1, 1, 1, 1, 1, 0, 0, 0, 0, 0, 1, 1, 0, 0, 0, 1, 1, 0, 1, 0,\n",
              "       0, 1, 1, 0, 0, 0, 0, 0, 0, 1, 1, 1, 1, 0, 0, 0, 1, 0, 0, 1, 1, 0,\n",
              "       1, 1, 0, 1, 0, 1, 1, 1, 1, 1, 1, 0, 0, 0, 1, 1, 1, 1, 1, 0, 0, 1,\n",
              "       1, 0, 0, 1, 1, 0, 1, 1, 1, 1, 0, 1, 0, 1, 1, 0, 1, 0, 1, 0, 1, 0,\n",
              "       1, 1, 0, 1, 1, 1, 1, 0, 1, 1, 0, 0, 0, 0, 0, 0, 1, 0, 1, 1, 1, 0,\n",
              "       1, 0, 1, 0, 1, 0, 1, 1, 0, 1, 0, 1, 1, 1, 0, 0, 1, 0, 0, 0, 1, 1,\n",
              "       1, 1, 1, 1, 1, 0, 1, 1, 0, 1, 0, 1, 0, 1, 1, 0, 0, 1, 0, 0, 1, 1,\n",
              "       1, 0, 1, 0, 1, 0, 1, 0, 1, 0, 1, 0, 1, 1, 1, 1, 0, 1, 1, 1, 1, 0,\n",
              "       0, 0, 1, 0, 0, 0, 1, 1, 0, 1, 1, 1, 1, 1, 1, 0, 1, 1, 0, 1, 0, 1,\n",
              "       0, 0, 0, 0, 0, 0, 1, 0, 0, 1, 0, 1, 1, 0, 0, 0, 0, 0, 1, 1, 0, 1,\n",
              "       0, 1, 1, 1, 0, 1, 1, 1, 0, 1, 0, 1, 0, 0, 0, 1, 0, 1, 1, 0, 1, 1,\n",
              "       0, 0, 0, 1, 1, 1, 1, 0, 1, 0, 1, 1, 1, 0, 0, 1, 0, 1, 1, 1, 0, 0,\n",
              "       0, 1, 1, 1, 0, 1, 1, 0, 1, 0, 0, 0, 0, 1, 1, 1, 1, 1, 1, 0, 1, 1,\n",
              "       0, 0, 1, 1, 1, 1, 0, 1, 0, 0, 1, 0, 1, 1, 1, 1, 0, 0, 0, 1, 0, 1,\n",
              "       1, 1, 1, 1, 1, 0, 1, 1, 1, 1, 1, 1, 0, 1, 1, 0, 0, 0, 1, 0, 0, 0,\n",
              "       0, 0, 1, 0, 1, 1, 0, 0, 0, 1, 1, 0, 1, 1, 1, 0, 1, 1, 0, 1, 1, 1,\n",
              "       1, 1, 0, 0, 1, 1, 1, 1, 0, 1, 0, 0, 1, 0, 1, 1, 1, 0, 0, 1, 1, 0,\n",
              "       1, 0, 1, 0, 1, 0, 1, 0, 1, 0, 1, 1, 0, 1, 1, 1, 1, 0, 0, 1, 1, 0,\n",
              "       0, 0, 1, 0, 1, 0, 1, 1, 1, 0, 1, 1, 0, 0, 0, 1, 1, 0, 0, 1, 0, 1,\n",
              "       1, 0, 0, 0, 1, 0, 0, 0, 0, 1, 0, 1, 1, 1, 1, 0, 1, 0, 0, 0, 0, 1,\n",
              "       0, 0, 1, 0, 0, 0, 0, 0, 0, 0, 1, 0, 0, 1, 0, 1, 1, 1, 1, 1, 0, 1,\n",
              "       1, 1, 0, 1, 1, 0, 1, 0, 1, 1, 1, 1, 0, 1, 1, 0, 0, 1, 1, 0, 1, 0,\n",
              "       0, 0, 1])"
            ]
          },
          "metadata": {},
          "execution_count": 115
        }
      ]
    },
    {
      "cell_type": "code",
      "source": [
        "accuracy_score(y_treino, previsoes_treino)"
      ],
      "metadata": {
        "id": "T4imJ5_w17mt",
        "colab": {
          "base_uri": "https://localhost:8080/"
        },
        "outputId": "d9a859ec-1769-4199-f5c7-54559b638a66"
      },
      "execution_count": 116,
      "outputs": [
        {
          "output_type": "execute_result",
          "data": {
            "text/plain": [
              "0.8486739469578783"
            ]
          },
          "metadata": {},
          "execution_count": 116
        }
      ]
    },
    {
      "cell_type": "code",
      "source": [
        "confusion_matrix(y_treino, previsoes_treino)"
      ],
      "metadata": {
        "id": "2Ms9dnHk17mu",
        "colab": {
          "base_uri": "https://localhost:8080/"
        },
        "outputId": "d105d746-1a6d-4fba-fb1f-d97bffc37bc3"
      },
      "execution_count": 117,
      "outputs": [
        {
          "output_type": "execute_result",
          "data": {
            "text/plain": [
              "array([[238,  51],\n",
              "       [ 46, 306]])"
            ]
          },
          "metadata": {},
          "execution_count": 117
        }
      ]
    },
    {
      "cell_type": "markdown",
      "source": [
        "### **Validação Cruzada**"
      ],
      "metadata": {
        "id": "rGdamAVpJfJ5"
      }
    },
    {
      "cell_type": "code",
      "source": [
        "from sklearn.model_selection import KFold\n",
        "from sklearn.model_selection import cross_val_score"
      ],
      "metadata": {
        "id": "IcNfFmq9JfJ6"
      },
      "execution_count": 118,
      "outputs": []
    },
    {
      "cell_type": "code",
      "source": [
        "# Separando os dados em folds\n",
        "kfold = KFold(n_splits = 30, shuffle=True, random_state = 5)"
      ],
      "metadata": {
        "id": "srKfNrUoJfJ6"
      },
      "execution_count": 119,
      "outputs": []
    },
    {
      "cell_type": "code",
      "source": [
        "# Criando o modelo\n",
        "modelo = LogisticRegression(random_state=1, max_iter=600, penalty=\"l2\",\n",
        "                               tol=0.0001, C=1,solver=\"lbfgs\")\n",
        "resultado = cross_val_score(modelo, previsores3_esc, alvo, cv = kfold)\n",
        "\n",
        "# Usamos a média e o desvio padrão\n",
        "print(\"Acurácia Média: %.2f%%\" % (resultado.mean() * 100.0))"
      ],
      "metadata": {
        "id": "eHZjsD-RJfJ7",
        "colab": {
          "base_uri": "https://localhost:8080/"
        },
        "outputId": "1b44e254-0bc3-4c2e-e8d2-a3695ea8d725"
      },
      "execution_count": 120,
      "outputs": [
        {
          "output_type": "stream",
          "name": "stdout",
          "text": [
            "Acurácia Média: 85.83%\n"
          ]
        }
      ]
    },
    {
      "cell_type": "markdown",
      "source": [
        "Naive Bayes = 84,78% (treino e teste) - 234 acertos e 85,17% (validação cruzada) : previsores3_esc\n",
        "\n",
        "SVM = 86,23% - 238 acertos e 85,72% (validação cruzada) : previsores3-esc - SVC(kernel='rbf', random_state=1, C = 2)\n",
        "\n",
        "Regressão logística = 86,23% - 238 acertos e 85,83% (validação cruzada) : previsores3_esc - LogisticRegression(random_state=1, max_iter=600, penalty=\"l2\", tol=0.0001, C=1,solver=\"lbfgs\")"
      ],
      "metadata": {
        "id": "KmKIO-uUv31v"
      }
    },
    {
      "cell_type": "markdown",
      "source": [
        "# **APRENDIZAGEM BASEADA EM INSTÂNCIAS (KNN)**"
      ],
      "metadata": {
        "id": "GETCbQj7v32B"
      }
    },
    {
      "cell_type": "markdown",
      "source": [
        "https://scikit-learn.org/stable/modules/generated/sklearn.neighbors.KNeighborsClassifier.html"
      ],
      "metadata": {
        "id": "AXOVpUsGbnlK"
      }
    },
    {
      "cell_type": "code",
      "source": [
        "from sklearn.neighbors import KNeighborsClassifier"
      ],
      "metadata": {
        "id": "u3_VSVAFwo8H"
      },
      "execution_count": 121,
      "outputs": []
    },
    {
      "cell_type": "code",
      "metadata": {
        "id": "xkC1VdFmXvcz",
        "colab": {
          "base_uri": "https://localhost:8080/"
        },
        "outputId": "ce7f0de0-78e8-43b5-871e-4bec8eada8d9"
      },
      "source": [
        "knn = KNeighborsClassifier(n_neighbors=7, metric='minkowski', p=1)\n",
        "knn.fit(x_treino, y_treino)"
      ],
      "execution_count": 122,
      "outputs": [
        {
          "output_type": "execute_result",
          "data": {
            "text/plain": [
              "KNeighborsClassifier(n_neighbors=7, p=1)"
            ]
          },
          "metadata": {},
          "execution_count": 122
        }
      ]
    },
    {
      "cell_type": "markdown",
      "source": [
        "https://scikit-learn.org/stable/modules/generated/sklearn.metrics.DistanceMetric.html"
      ],
      "metadata": {
        "id": "CJB-tW-g2P4_"
      }
    },
    {
      "cell_type": "code",
      "metadata": {
        "id": "sSCtq6WKYlFx",
        "colab": {
          "base_uri": "https://localhost:8080/"
        },
        "outputId": "e4982ca5-602a-4ca1-9f44-e648ce52ad56"
      },
      "source": [
        "previsoes_knn = knn.predict(x_teste)\n",
        "previsoes_knn"
      ],
      "execution_count": 123,
      "outputs": [
        {
          "output_type": "execute_result",
          "data": {
            "text/plain": [
              "array([1, 1, 1, 1, 1, 0, 0, 0, 0, 1, 1, 1, 1, 1, 1, 1, 1, 1, 0, 0, 1, 1,\n",
              "       1, 0, 0, 0, 1, 1, 0, 1, 1, 0, 0, 0, 1, 0, 0, 0, 1, 0, 0, 1, 1, 1,\n",
              "       1, 0, 0, 0, 1, 1, 1, 0, 1, 1, 1, 0, 0, 1, 1, 0, 1, 1, 0, 0, 1, 1,\n",
              "       1, 0, 1, 0, 1, 1, 1, 1, 1, 1, 1, 1, 1, 1, 0, 1, 0, 1, 1, 0, 1, 1,\n",
              "       0, 0, 1, 1, 0, 0, 1, 0, 1, 0, 1, 1, 0, 1, 1, 1, 0, 0, 0, 0, 0, 0,\n",
              "       1, 1, 1, 1, 0, 1, 0, 1, 1, 1, 1, 1, 1, 0, 0, 1, 1, 0, 0, 1, 0, 1,\n",
              "       1, 0, 1, 1, 1, 1, 1, 0, 1, 1, 0, 1, 0, 0, 1, 1, 0, 0, 0, 1, 1, 0,\n",
              "       1, 0, 1, 1, 0, 1, 1, 0, 1, 1, 1, 0, 1, 0, 1, 1, 1, 1, 0, 0, 0, 1,\n",
              "       1, 0, 1, 0, 1, 1, 1, 1, 0, 1, 1, 1, 1, 1, 0, 1, 1, 1, 1, 1, 0, 0,\n",
              "       1, 1, 1, 1, 0, 0, 1, 1, 0, 1, 1, 0, 0, 0, 0, 0, 0, 0, 1, 0, 1, 1,\n",
              "       1, 0, 1, 0, 1, 1, 0, 1, 1, 1, 0, 1, 1, 1, 0, 1, 0, 0, 0, 1, 1, 0,\n",
              "       1, 0, 0, 1, 0, 0, 1, 1, 1, 0, 1, 1, 0, 1, 1, 0, 0, 1, 1, 1, 0, 1,\n",
              "       0, 1, 0, 0, 0, 0, 0, 0, 0, 1, 0, 0])"
            ]
          },
          "metadata": {},
          "execution_count": 123
        }
      ]
    },
    {
      "cell_type": "code",
      "source": [
        "y_teste"
      ],
      "metadata": {
        "id": "oG0I-trLxQ50",
        "colab": {
          "base_uri": "https://localhost:8080/"
        },
        "outputId": "216c7bf8-6765-4ea8-fb17-44046e8f966d"
      },
      "execution_count": 124,
      "outputs": [
        {
          "output_type": "execute_result",
          "data": {
            "text/plain": [
              "array([1, 0, 1, 0, 0, 0, 0, 0, 0, 0, 1, 0, 1, 1, 0, 1, 1, 1, 1, 0, 1, 1,\n",
              "       1, 0, 0, 0, 1, 1, 0, 0, 1, 0, 0, 0, 1, 0, 1, 0, 1, 0, 0, 1, 1, 1,\n",
              "       1, 0, 0, 1, 1, 1, 1, 0, 0, 1, 1, 0, 0, 0, 1, 0, 1, 1, 1, 0, 1, 1,\n",
              "       1, 0, 1, 0, 1, 1, 1, 1, 1, 1, 1, 1, 1, 0, 0, 1, 0, 0, 1, 1, 0, 1,\n",
              "       1, 0, 1, 0, 0, 1, 1, 0, 1, 0, 0, 0, 0, 1, 1, 1, 0, 1, 0, 0, 0, 1,\n",
              "       0, 1, 1, 1, 0, 1, 1, 1, 1, 1, 1, 1, 1, 0, 0, 1, 0, 1, 0, 1, 0, 1,\n",
              "       0, 1, 0, 0, 0, 1, 1, 0, 1, 1, 0, 1, 0, 0, 1, 1, 1, 0, 1, 1, 0, 0,\n",
              "       0, 0, 1, 1, 1, 0, 1, 1, 1, 0, 1, 0, 1, 0, 1, 0, 1, 1, 0, 0, 1, 0,\n",
              "       0, 1, 0, 1, 1, 1, 0, 1, 1, 1, 0, 1, 1, 0, 0, 0, 1, 1, 1, 1, 1, 0,\n",
              "       1, 0, 1, 1, 0, 1, 1, 0, 0, 0, 1, 0, 1, 1, 0, 1, 0, 1, 1, 1, 1, 1,\n",
              "       1, 1, 0, 0, 0, 1, 0, 1, 1, 1, 0, 1, 0, 1, 1, 1, 1, 1, 0, 1, 1, 0,\n",
              "       1, 0, 1, 0, 0, 0, 1, 0, 1, 0, 1, 1, 0, 0, 1, 0, 0, 1, 0, 1, 1, 0,\n",
              "       0, 0, 0, 0, 1, 0, 0, 1, 1, 1, 1, 1])"
            ]
          },
          "metadata": {},
          "execution_count": 124
        }
      ]
    },
    {
      "cell_type": "code",
      "source": [
        "from sklearn.metrics import accuracy_score, confusion_matrix, classification_report"
      ],
      "metadata": {
        "id": "aQYth6LjxOSG"
      },
      "execution_count": 125,
      "outputs": []
    },
    {
      "cell_type": "code",
      "source": [
        "print(\"Acurácia: %.2f%%\" % (accuracy_score(y_teste, previsoes_knn) * 100.0))"
      ],
      "metadata": {
        "id": "OWDZlThoxOSI",
        "colab": {
          "base_uri": "https://localhost:8080/"
        },
        "outputId": "d2f29802-87ff-4656-d7e5-0f5eee7a5671"
      },
      "execution_count": 126,
      "outputs": [
        {
          "output_type": "stream",
          "name": "stdout",
          "text": [
            "Acurácia: 69.93%\n"
          ]
        }
      ]
    },
    {
      "cell_type": "code",
      "source": [
        "confusion_matrix(y_teste, previsoes_knn)"
      ],
      "metadata": {
        "id": "-IGoTCdmxOSJ",
        "colab": {
          "base_uri": "https://localhost:8080/"
        },
        "outputId": "0fbe71ee-338d-493a-8a3e-d5e7f0892674"
      },
      "execution_count": 127,
      "outputs": [
        {
          "output_type": "execute_result",
          "data": {
            "text/plain": [
              "array([[ 76,  45],\n",
              "       [ 38, 117]])"
            ]
          },
          "metadata": {},
          "execution_count": 127
        }
      ]
    },
    {
      "cell_type": "code",
      "source": [
        "print(classification_report(y_teste, previsoes_knn))"
      ],
      "metadata": {
        "id": "5V-bhRMvxOSJ",
        "colab": {
          "base_uri": "https://localhost:8080/"
        },
        "outputId": "7b17609d-d849-44e6-e021-0a47789e7722"
      },
      "execution_count": 128,
      "outputs": [
        {
          "output_type": "stream",
          "name": "stdout",
          "text": [
            "              precision    recall  f1-score   support\n",
            "\n",
            "           0       0.67      0.63      0.65       121\n",
            "           1       0.72      0.75      0.74       155\n",
            "\n",
            "    accuracy                           0.70       276\n",
            "   macro avg       0.69      0.69      0.69       276\n",
            "weighted avg       0.70      0.70      0.70       276\n",
            "\n"
          ]
        }
      ]
    },
    {
      "cell_type": "markdown",
      "source": [
        "**Análise dados de treino**"
      ],
      "metadata": {
        "id": "qEF7YW-Y2KT9"
      }
    },
    {
      "cell_type": "code",
      "source": [
        "previsoes_treino = knn.predict(x_treino)\n",
        "previsoes_treino"
      ],
      "metadata": {
        "id": "gmZgnjMe2KT-",
        "colab": {
          "base_uri": "https://localhost:8080/"
        },
        "outputId": "3ebdb78b-a299-4800-9385-bc32bc164976"
      },
      "execution_count": 129,
      "outputs": [
        {
          "output_type": "execute_result",
          "data": {
            "text/plain": [
              "array([1, 0, 1, 1, 1, 1, 1, 0, 0, 1, 1, 0, 1, 1, 1, 0, 0, 0, 0, 1, 0, 0,\n",
              "       1, 0, 1, 0, 0, 1, 1, 1, 1, 0, 1, 1, 0, 0, 1, 1, 0, 0, 0, 1, 0, 0,\n",
              "       1, 1, 0, 1, 1, 1, 0, 0, 1, 0, 1, 0, 1, 0, 1, 1, 0, 0, 1, 0, 1, 1,\n",
              "       1, 1, 1, 0, 1, 1, 1, 1, 0, 0, 0, 1, 0, 1, 1, 1, 1, 1, 0, 1, 1, 1,\n",
              "       1, 1, 1, 0, 0, 1, 1, 1, 1, 1, 1, 1, 1, 1, 1, 0, 1, 1, 1, 0, 0, 1,\n",
              "       0, 0, 1, 1, 1, 0, 1, 1, 0, 0, 0, 0, 0, 1, 1, 1, 1, 0, 1, 1, 1, 0,\n",
              "       1, 1, 0, 1, 0, 0, 1, 1, 0, 1, 1, 1, 1, 1, 0, 1, 1, 1, 1, 1, 1, 0,\n",
              "       1, 0, 1, 0, 1, 1, 1, 0, 0, 0, 1, 1, 1, 1, 0, 1, 0, 1, 1, 0, 1, 0,\n",
              "       0, 1, 1, 0, 1, 0, 0, 0, 0, 1, 1, 1, 1, 0, 0, 1, 1, 1, 0, 0, 1, 1,\n",
              "       1, 1, 1, 0, 0, 1, 1, 0, 0, 0, 0, 1, 0, 0, 1, 1, 1, 1, 1, 0, 1, 1,\n",
              "       1, 0, 0, 1, 1, 0, 1, 1, 1, 1, 1, 1, 1, 1, 1, 0, 1, 0, 1, 0, 1, 0,\n",
              "       1, 1, 0, 1, 1, 0, 1, 1, 1, 1, 0, 0, 0, 0, 0, 0, 0, 0, 1, 0, 1, 0,\n",
              "       1, 0, 1, 1, 1, 0, 0, 1, 1, 0, 0, 1, 1, 0, 0, 0, 1, 0, 0, 0, 1, 1,\n",
              "       0, 1, 1, 1, 1, 0, 1, 1, 1, 0, 0, 0, 0, 1, 1, 0, 0, 1, 0, 1, 1, 1,\n",
              "       1, 0, 1, 0, 0, 0, 1, 0, 1, 0, 1, 0, 0, 1, 1, 1, 0, 1, 0, 1, 1, 0,\n",
              "       0, 1, 1, 0, 0, 0, 0, 1, 0, 1, 1, 1, 1, 1, 1, 0, 1, 1, 0, 1, 0, 1,\n",
              "       0, 0, 1, 0, 0, 1, 1, 1, 0, 0, 0, 1, 1, 0, 0, 0, 0, 0, 1, 1, 1, 1,\n",
              "       1, 1, 1, 1, 1, 1, 1, 1, 0, 1, 0, 1, 0, 0, 1, 1, 0, 0, 1, 1, 1, 1,\n",
              "       0, 1, 1, 1, 0, 1, 1, 0, 1, 1, 1, 1, 1, 0, 0, 1, 0, 1, 1, 1, 0, 1,\n",
              "       1, 1, 1, 1, 1, 1, 1, 0, 1, 1, 1, 0, 0, 1, 1, 0, 1, 1, 1, 1, 1, 1,\n",
              "       0, 1, 1, 1, 0, 1, 0, 1, 1, 0, 1, 0, 1, 1, 1, 1, 0, 0, 0, 1, 0, 1,\n",
              "       1, 0, 1, 1, 1, 0, 1, 0, 1, 1, 1, 1, 0, 1, 1, 0, 0, 0, 0, 0, 0, 0,\n",
              "       0, 0, 1, 1, 1, 1, 0, 1, 0, 1, 1, 0, 1, 1, 1, 0, 1, 1, 0, 1, 1, 1,\n",
              "       1, 1, 0, 0, 0, 1, 0, 1, 0, 1, 1, 0, 1, 0, 1, 1, 1, 1, 0, 1, 1, 0,\n",
              "       1, 0, 0, 1, 1, 0, 1, 0, 0, 0, 0, 1, 0, 1, 0, 1, 1, 0, 0, 1, 0, 1,\n",
              "       0, 0, 1, 0, 1, 0, 1, 1, 1, 0, 1, 1, 1, 0, 0, 1, 1, 0, 1, 1, 0, 1,\n",
              "       1, 0, 1, 0, 1, 1, 0, 0, 0, 1, 1, 1, 1, 1, 0, 0, 1, 0, 1, 0, 0, 0,\n",
              "       0, 0, 1, 0, 0, 1, 1, 0, 0, 0, 1, 1, 0, 1, 1, 1, 1, 0, 0, 1, 0, 1,\n",
              "       1, 1, 0, 1, 1, 1, 1, 0, 1, 1, 1, 1, 0, 1, 1, 0, 0, 1, 1, 0, 1, 0,\n",
              "       1, 0, 1])"
            ]
          },
          "metadata": {},
          "execution_count": 129
        }
      ]
    },
    {
      "cell_type": "code",
      "source": [
        "accuracy_score(y_treino, previsoes_treino)"
      ],
      "metadata": {
        "id": "q5pLRV6J2KT_",
        "colab": {
          "base_uri": "https://localhost:8080/"
        },
        "outputId": "997802b4-7388-4581-9e58-e9fec38b500a"
      },
      "execution_count": 130,
      "outputs": [
        {
          "output_type": "execute_result",
          "data": {
            "text/plain": [
              "0.7987519500780031"
            ]
          },
          "metadata": {},
          "execution_count": 130
        }
      ]
    },
    {
      "cell_type": "code",
      "source": [
        "confusion_matrix(y_treino, previsoes_treino)"
      ],
      "metadata": {
        "id": "w4ce2FGJ2KT_",
        "colab": {
          "base_uri": "https://localhost:8080/"
        },
        "outputId": "68c60dc4-cb03-4bc0-d570-04e1c78284ca"
      },
      "execution_count": 131,
      "outputs": [
        {
          "output_type": "execute_result",
          "data": {
            "text/plain": [
              "array([[210,  79],\n",
              "       [ 50, 302]])"
            ]
          },
          "metadata": {},
          "execution_count": 131
        }
      ]
    },
    {
      "cell_type": "markdown",
      "source": [
        "### **Validação Cruzada**"
      ],
      "metadata": {
        "id": "pUNWBzC8KJ5v"
      }
    },
    {
      "cell_type": "code",
      "source": [
        "from sklearn.model_selection import KFold\n",
        "from sklearn.model_selection import cross_val_score"
      ],
      "metadata": {
        "id": "b88vNYd8KJ5w"
      },
      "execution_count": 132,
      "outputs": []
    },
    {
      "cell_type": "code",
      "source": [
        "# Separando os dados em folds\n",
        "kfold = KFold(n_splits = 30, shuffle=True, random_state = 5)"
      ],
      "metadata": {
        "id": "nG58w5CNKJ5w"
      },
      "execution_count": 133,
      "outputs": []
    },
    {
      "cell_type": "code",
      "source": [
        "# Criando o modelo\n",
        "modelo = KNeighborsClassifier(n_neighbors=7, metric='minkowski', p = 1)\n",
        "resultado = cross_val_score(modelo, previsores3_esc, alvo, cv = kfold)\n",
        "\n",
        "# Usamos a média e o desvio padrão\n",
        "print(\"Acurácia Média: %.2f%%\" % (resultado.mean() * 100.0))"
      ],
      "metadata": {
        "id": "V9BM96VTKJ5w",
        "colab": {
          "base_uri": "https://localhost:8080/"
        },
        "outputId": "a2b7c16a-7d1d-4df8-ae68-64ac809f9390"
      },
      "execution_count": 134,
      "outputs": [
        {
          "output_type": "stream",
          "name": "stdout",
          "text": [
            "Acurácia Média: 85.84%\n"
          ]
        }
      ]
    },
    {
      "cell_type": "markdown",
      "source": [
        "Naive Bayes = 84,78% (treino e teste) - 234 acertos e 85,17% (validação cruzada) : previsores3_esc\n",
        "\n",
        "SVM = 86,23% - 238 acertos e 85,72% (validação cruzada) : previsores3-esc - SVC(kernel='rbf', random_state=1, C = 2)\n",
        "\n",
        "Regressão logística = 86,23% - 238 acertos e 85,83% (validação cruzada) : previsores3_esc - LogisticRegression(random_state=1, max_iter=600, penalty=\"l2\", tol=0.0001, C=1,solver=\"lbfgs\")\n",
        "\n",
        "KNN = 84,06% - 232 acertos e 85,84% (validação cruzada) : previsores3_esc ou previsores_esc - KNeighborsClassifier(n_neighbors=7, metric='minkowski', p = 1) \n",
        "\n"
      ],
      "metadata": {
        "id": "ovmlWcN6xOSK"
      }
    },
    {
      "cell_type": "markdown",
      "source": [
        "# **ÁRVORE DE DECISÃO**"
      ],
      "metadata": {
        "id": "VdGvKcYjODGt"
      }
    },
    {
      "cell_type": "markdown",
      "source": [
        "https://scikit-learn.org/stable/modules/tree.html"
      ],
      "metadata": {
        "id": "i65VtZ4pcQGP"
      }
    },
    {
      "cell_type": "code",
      "source": [
        "from sklearn.tree import DecisionTreeClassifier"
      ],
      "metadata": {
        "id": "-2oaMph5OFa2"
      },
      "execution_count": 135,
      "outputs": []
    },
    {
      "cell_type": "code",
      "source": [
        "arvore = DecisionTreeClassifier(criterion='entropy', random_state = 0, max_depth=3)\n",
        "arvore.fit(x_treino, y_treino)"
      ],
      "metadata": {
        "id": "Zxu4_zhCOMVj",
        "colab": {
          "base_uri": "https://localhost:8080/"
        },
        "outputId": "e05ce3cf-8028-4239-c9d4-bfd4720c2c71"
      },
      "execution_count": 136,
      "outputs": [
        {
          "output_type": "execute_result",
          "data": {
            "text/plain": [
              "DecisionTreeClassifier(criterion='entropy', max_depth=3, random_state=0)"
            ]
          },
          "metadata": {},
          "execution_count": 136
        }
      ]
    },
    {
      "cell_type": "code",
      "source": [
        "previsoes_arvore = arvore.predict(x_teste)\n",
        "previsoes_arvore"
      ],
      "metadata": {
        "id": "UnxRfJZXOVkk",
        "colab": {
          "base_uri": "https://localhost:8080/"
        },
        "outputId": "75ddf337-d54a-46e6-81d6-abe96940fee9"
      },
      "execution_count": 137,
      "outputs": [
        {
          "output_type": "execute_result",
          "data": {
            "text/plain": [
              "array([1, 1, 1, 0, 0, 0, 1, 0, 0, 0, 1, 1, 1, 1, 0, 1, 1, 1, 1, 0, 1, 1,\n",
              "       0, 0, 0, 0, 1, 1, 0, 1, 1, 0, 0, 0, 1, 0, 0, 0, 1, 0, 0, 1, 1, 1,\n",
              "       1, 0, 0, 1, 0, 1, 1, 0, 0, 0, 1, 0, 0, 0, 0, 0, 1, 1, 0, 0, 1, 1,\n",
              "       1, 0, 1, 0, 1, 1, 0, 1, 1, 1, 0, 1, 1, 1, 1, 1, 0, 0, 1, 1, 1, 1,\n",
              "       1, 0, 1, 0, 0, 0, 0, 0, 1, 0, 0, 0, 0, 1, 1, 1, 0, 1, 0, 0, 0, 0,\n",
              "       0, 1, 1, 1, 0, 1, 1, 1, 1, 1, 1, 1, 1, 0, 0, 1, 0, 1, 0, 1, 0, 1,\n",
              "       1, 1, 0, 0, 0, 1, 0, 0, 0, 1, 0, 1, 0, 0, 1, 0, 1, 0, 0, 1, 1, 0,\n",
              "       1, 0, 1, 0, 1, 0, 1, 0, 1, 0, 1, 0, 1, 0, 1, 0, 1, 0, 0, 0, 1, 1,\n",
              "       1, 0, 0, 1, 1, 1, 0, 1, 1, 1, 0, 1, 1, 0, 1, 0, 1, 0, 1, 0, 0, 0,\n",
              "       1, 0, 1, 1, 0, 1, 1, 0, 0, 0, 1, 0, 1, 1, 0, 0, 0, 0, 1, 0, 1, 1,\n",
              "       1, 1, 0, 1, 1, 1, 0, 1, 1, 1, 0, 1, 1, 1, 0, 1, 0, 1, 0, 1, 1, 0,\n",
              "       1, 0, 0, 0, 0, 0, 1, 0, 1, 0, 1, 0, 0, 0, 1, 0, 0, 1, 0, 1, 1, 0,\n",
              "       0, 0, 0, 0, 1, 0, 0, 1, 1, 1, 1, 1])"
            ]
          },
          "metadata": {},
          "execution_count": 137
        }
      ]
    },
    {
      "cell_type": "code",
      "source": [
        "y_teste"
      ],
      "metadata": {
        "id": "ozqiMkVAOke6",
        "colab": {
          "base_uri": "https://localhost:8080/"
        },
        "outputId": "67bd13e5-2dcf-4c2d-a171-a80f8be72949"
      },
      "execution_count": 138,
      "outputs": [
        {
          "output_type": "execute_result",
          "data": {
            "text/plain": [
              "array([1, 0, 1, 0, 0, 0, 0, 0, 0, 0, 1, 0, 1, 1, 0, 1, 1, 1, 1, 0, 1, 1,\n",
              "       1, 0, 0, 0, 1, 1, 0, 0, 1, 0, 0, 0, 1, 0, 1, 0, 1, 0, 0, 1, 1, 1,\n",
              "       1, 0, 0, 1, 1, 1, 1, 0, 0, 1, 1, 0, 0, 0, 1, 0, 1, 1, 1, 0, 1, 1,\n",
              "       1, 0, 1, 0, 1, 1, 1, 1, 1, 1, 1, 1, 1, 0, 0, 1, 0, 0, 1, 1, 0, 1,\n",
              "       1, 0, 1, 0, 0, 1, 1, 0, 1, 0, 0, 0, 0, 1, 1, 1, 0, 1, 0, 0, 0, 1,\n",
              "       0, 1, 1, 1, 0, 1, 1, 1, 1, 1, 1, 1, 1, 0, 0, 1, 0, 1, 0, 1, 0, 1,\n",
              "       0, 1, 0, 0, 0, 1, 1, 0, 1, 1, 0, 1, 0, 0, 1, 1, 1, 0, 1, 1, 0, 0,\n",
              "       0, 0, 1, 1, 1, 0, 1, 1, 1, 0, 1, 0, 1, 0, 1, 0, 1, 1, 0, 0, 1, 0,\n",
              "       0, 1, 0, 1, 1, 1, 0, 1, 1, 1, 0, 1, 1, 0, 0, 0, 1, 1, 1, 1, 1, 0,\n",
              "       1, 0, 1, 1, 0, 1, 1, 0, 0, 0, 1, 0, 1, 1, 0, 1, 0, 1, 1, 1, 1, 1,\n",
              "       1, 1, 0, 0, 0, 1, 0, 1, 1, 1, 0, 1, 0, 1, 1, 1, 1, 1, 0, 1, 1, 0,\n",
              "       1, 0, 1, 0, 0, 0, 1, 0, 1, 0, 1, 1, 0, 0, 1, 0, 0, 1, 0, 1, 1, 0,\n",
              "       0, 0, 0, 0, 1, 0, 0, 1, 1, 1, 1, 1])"
            ]
          },
          "metadata": {},
          "execution_count": 138
        }
      ]
    },
    {
      "cell_type": "code",
      "source": [
        "from sklearn.metrics import accuracy_score, confusion_matrix, classification_report"
      ],
      "metadata": {
        "id": "fS4QmmG9vrl4"
      },
      "execution_count": 139,
      "outputs": []
    },
    {
      "cell_type": "code",
      "source": [
        "print(\"Acurácia: %.2f%%\" % (accuracy_score(y_teste, previsoes_arvore) * 100.0))"
      ],
      "metadata": {
        "id": "9vuYKW1_Onqq",
        "colab": {
          "base_uri": "https://localhost:8080/"
        },
        "outputId": "32c12346-ecee-47d3-ec0a-f557721c381e"
      },
      "execution_count": 140,
      "outputs": [
        {
          "output_type": "stream",
          "name": "stdout",
          "text": [
            "Acurácia: 83.70%\n"
          ]
        }
      ]
    },
    {
      "cell_type": "code",
      "source": [
        "confusion_matrix(y_teste, previsoes_arvore)"
      ],
      "metadata": {
        "id": "IAJonpblPUGh",
        "colab": {
          "base_uri": "https://localhost:8080/"
        },
        "outputId": "fcc51aef-24fb-48ec-912b-95d93ff28787"
      },
      "execution_count": 141,
      "outputs": [
        {
          "output_type": "execute_result",
          "data": {
            "text/plain": [
              "array([[105,  16],\n",
              "       [ 29, 126]])"
            ]
          },
          "metadata": {},
          "execution_count": 141
        }
      ]
    },
    {
      "cell_type": "code",
      "source": [
        "print(classification_report(y_teste, previsoes_arvore))"
      ],
      "metadata": {
        "id": "wACzOEs-PcTo",
        "colab": {
          "base_uri": "https://localhost:8080/"
        },
        "outputId": "314dddf8-345c-4945-e071-bc75eaf5deeb"
      },
      "execution_count": 142,
      "outputs": [
        {
          "output_type": "stream",
          "name": "stdout",
          "text": [
            "              precision    recall  f1-score   support\n",
            "\n",
            "           0       0.78      0.87      0.82       121\n",
            "           1       0.89      0.81      0.85       155\n",
            "\n",
            "    accuracy                           0.84       276\n",
            "   macro avg       0.84      0.84      0.84       276\n",
            "weighted avg       0.84      0.84      0.84       276\n",
            "\n"
          ]
        }
      ]
    },
    {
      "cell_type": "markdown",
      "source": [
        "**Análise dados de treino**"
      ],
      "metadata": {
        "id": "PXa_22cA1DcE"
      }
    },
    {
      "cell_type": "code",
      "source": [
        "previsoes_treino = arvore.predict(x_treino)\n",
        "previsoes_treino"
      ],
      "metadata": {
        "id": "UZFn-68G1DcF",
        "colab": {
          "base_uri": "https://localhost:8080/"
        },
        "outputId": "74949c78-f6e7-4e3c-ff9c-976db8a06afc"
      },
      "execution_count": 143,
      "outputs": [
        {
          "output_type": "execute_result",
          "data": {
            "text/plain": [
              "array([1, 0, 1, 1, 1, 0, 0, 0, 0, 0, 1, 0, 1, 1, 1, 0, 0, 0, 0, 1, 0, 1,\n",
              "       1, 1, 1, 0, 0, 1, 0, 1, 1, 0, 1, 1, 0, 0, 0, 1, 0, 1, 0, 1, 0, 0,\n",
              "       1, 1, 0, 1, 1, 1, 1, 0, 1, 0, 1, 0, 1, 0, 1, 0, 0, 0, 0, 0, 1, 1,\n",
              "       0, 1, 1, 0, 0, 1, 1, 1, 0, 0, 0, 1, 0, 1, 1, 1, 1, 1, 0, 1, 1, 1,\n",
              "       1, 1, 0, 0, 0, 0, 1, 1, 1, 1, 1, 1, 0, 0, 0, 1, 1, 1, 1, 0, 0, 1,\n",
              "       0, 0, 1, 0, 1, 0, 1, 0, 1, 0, 0, 0, 0, 1, 0, 1, 0, 0, 1, 1, 1, 0,\n",
              "       0, 1, 0, 0, 1, 0, 1, 1, 0, 1, 1, 1, 1, 1, 1, 0, 0, 1, 1, 0, 1, 0,\n",
              "       1, 0, 1, 1, 1, 0, 1, 0, 0, 0, 0, 0, 1, 0, 0, 0, 0, 1, 1, 0, 1, 1,\n",
              "       0, 1, 1, 0, 0, 0, 0, 0, 0, 1, 1, 1, 1, 0, 0, 0, 1, 0, 0, 1, 1, 1,\n",
              "       1, 1, 0, 0, 0, 1, 1, 0, 0, 1, 1, 0, 0, 0, 1, 1, 1, 1, 1, 0, 0, 1,\n",
              "       1, 0, 0, 1, 1, 0, 1, 1, 1, 1, 1, 1, 0, 1, 1, 0, 1, 0, 1, 0, 1, 0,\n",
              "       1, 1, 1, 0, 1, 1, 1, 1, 1, 1, 0, 0, 0, 0, 0, 0, 0, 0, 0, 0, 1, 0,\n",
              "       1, 0, 1, 0, 1, 0, 1, 1, 0, 0, 0, 1, 1, 0, 0, 0, 1, 0, 0, 0, 1, 1,\n",
              "       0, 0, 1, 1, 1, 0, 1, 1, 1, 1, 0, 0, 0, 1, 1, 0, 0, 1, 0, 0, 1, 1,\n",
              "       1, 0, 1, 0, 0, 0, 1, 0, 1, 0, 1, 0, 1, 1, 1, 1, 0, 1, 1, 1, 1, 0,\n",
              "       0, 0, 1, 0, 0, 0, 1, 1, 0, 1, 1, 1, 1, 1, 1, 1, 1, 1, 0, 1, 0, 1,\n",
              "       0, 0, 0, 1, 0, 0, 1, 1, 0, 0, 0, 1, 1, 0, 0, 0, 0, 0, 1, 1, 0, 1,\n",
              "       0, 1, 1, 1, 0, 0, 1, 1, 0, 1, 0, 1, 0, 0, 0, 1, 0, 0, 1, 0, 1, 1,\n",
              "       0, 0, 1, 1, 1, 1, 1, 0, 1, 0, 1, 1, 1, 0, 0, 1, 0, 1, 1, 1, 0, 0,\n",
              "       0, 1, 1, 0, 0, 1, 1, 0, 0, 1, 0, 0, 0, 1, 1, 0, 1, 1, 1, 0, 1, 1,\n",
              "       0, 0, 1, 1, 0, 1, 0, 1, 0, 0, 1, 0, 1, 1, 1, 1, 0, 0, 1, 1, 0, 1,\n",
              "       1, 1, 1, 1, 1, 0, 1, 0, 1, 1, 1, 1, 0, 1, 1, 0, 0, 0, 1, 0, 0, 0,\n",
              "       0, 0, 1, 0, 1, 1, 1, 0, 0, 1, 1, 0, 1, 1, 1, 0, 1, 1, 0, 0, 1, 1,\n",
              "       1, 1, 0, 0, 1, 1, 0, 1, 0, 1, 0, 0, 0, 0, 1, 1, 0, 1, 0, 1, 1, 0,\n",
              "       1, 0, 1, 0, 1, 0, 1, 0, 0, 0, 1, 1, 0, 1, 1, 0, 1, 0, 0, 1, 1, 0,\n",
              "       0, 0, 1, 0, 1, 0, 1, 1, 1, 0, 1, 1, 1, 0, 0, 0, 1, 0, 0, 1, 0, 1,\n",
              "       1, 1, 0, 0, 1, 0, 0, 1, 0, 1, 0, 1, 1, 1, 1, 0, 1, 0, 0, 0, 0, 0,\n",
              "       0, 0, 0, 0, 0, 1, 0, 0, 0, 0, 1, 0, 1, 1, 0, 1, 1, 1, 1, 1, 0, 1,\n",
              "       1, 1, 0, 1, 1, 0, 1, 0, 1, 1, 0, 1, 0, 1, 1, 0, 0, 1, 1, 0, 1, 0,\n",
              "       1, 0, 1])"
            ]
          },
          "metadata": {},
          "execution_count": 143
        }
      ]
    },
    {
      "cell_type": "code",
      "source": [
        "accuracy_score(y_treino, previsoes_treino)"
      ],
      "metadata": {
        "id": "mDqKNd3v1DcG",
        "colab": {
          "base_uri": "https://localhost:8080/"
        },
        "outputId": "68524b19-57c3-4e83-ac59-187eeb55c824"
      },
      "execution_count": 144,
      "outputs": [
        {
          "output_type": "execute_result",
          "data": {
            "text/plain": [
              "0.8517940717628705"
            ]
          },
          "metadata": {},
          "execution_count": 144
        }
      ]
    },
    {
      "cell_type": "code",
      "source": [
        "confusion_matrix(y_treino, previsoes_treino)"
      ],
      "metadata": {
        "id": "dMQiq4o01DcG",
        "colab": {
          "base_uri": "https://localhost:8080/"
        },
        "outputId": "0cbb3e2c-c742-43b3-e37d-63ec93408808"
      },
      "execution_count": 145,
      "outputs": [
        {
          "output_type": "execute_result",
          "data": {
            "text/plain": [
              "array([[249,  40],\n",
              "       [ 55, 297]])"
            ]
          },
          "metadata": {},
          "execution_count": 145
        }
      ]
    },
    {
      "cell_type": "markdown",
      "source": [
        "### **Validação Cruzada**"
      ],
      "metadata": {
        "id": "dxwugdgiEhdw"
      }
    },
    {
      "cell_type": "code",
      "source": [
        "from sklearn.model_selection import KFold\n",
        "from sklearn.model_selection import cross_val_score"
      ],
      "metadata": {
        "id": "ArJOjabUEZJf"
      },
      "execution_count": 146,
      "outputs": []
    },
    {
      "cell_type": "code",
      "source": [
        "# Separando os dados em folds\n",
        "kfold = KFold(n_splits = 30, shuffle=True, random_state = 5)"
      ],
      "metadata": {
        "id": "zfWK55DrEZJg"
      },
      "execution_count": 147,
      "outputs": []
    },
    {
      "cell_type": "code",
      "source": [
        "# Criando o modelo\n",
        "modelo = DecisionTreeClassifier(criterion='entropy', random_state = 0, max_depth=3)\n",
        "resultado = cross_val_score(modelo, previsores3_esc, alvo, cv = kfold)\n",
        "\n",
        "# Usamos a média e o desvio padrão\n",
        "print(\"Acurácia Média: %.2f%%\" % (resultado.mean() * 100.0))"
      ],
      "metadata": {
        "id": "MwGsKOFZEZJh",
        "colab": {
          "base_uri": "https://localhost:8080/"
        },
        "outputId": "54e8436b-fa7f-4e71-9d71-e4d782c4bf47"
      },
      "execution_count": 148,
      "outputs": [
        {
          "output_type": "stream",
          "name": "stdout",
          "text": [
            "Acurácia Média: 83.32%\n"
          ]
        }
      ]
    },
    {
      "cell_type": "markdown",
      "source": [
        "Naive Bayes = 84,78% (treino e teste) - 234 acertos e 85,17% (validação cruzada) : previsores3_esc\n",
        "\n",
        "SVM = 86,23% - 238 acertos e 85,72% (validação cruzada) : previsores3-esc - SVC(kernel='rbf', random_state=1, C = 2)\n",
        "\n",
        "Regressão logística = 86,23% - 238 acertos e 85,83% (validação cruzada) : previsores3_esc - LogisticRegression(random_state=1, max_iter=600, penalty=\"l2\", tol=0.0001, C=1,solver=\"lbfgs\")\n",
        "\n",
        "KNN = 84,06% - 232 acertos e 85,84% (validação cruzada) : previsores3_esc ou previsores_esc - KNeighborsClassifier(n_neighbors=7, metric='minkowski', p = 1)\n",
        "\n",
        "Árvore de decisão = 83,7% (treino e teste) - 231 acertos e 83,32% (validação cruzada): previsores3_esc - DecisionTreeClassifier(criterion='entropy', random_state = 0, max_depth=3)"
      ],
      "metadata": {
        "id": "-Ti98jalQK23"
      }
    },
    {
      "cell_type": "markdown",
      "source": [
        "# **RANDOM FOREST**"
      ],
      "metadata": {
        "id": "hw7px-UemoSc"
      }
    },
    {
      "cell_type": "markdown",
      "source": [
        "https://scikit-learn.org/stable/modules/generated/sklearn.ensemble.RandomForestClassifier.html"
      ],
      "metadata": {
        "id": "HAUbw5xfcCYy"
      }
    },
    {
      "cell_type": "code",
      "source": [
        "from sklearn.ensemble import RandomForestClassifier"
      ],
      "metadata": {
        "id": "BqqXdinImokj"
      },
      "execution_count": 149,
      "outputs": []
    },
    {
      "cell_type": "code",
      "source": [
        "random = RandomForestClassifier(n_estimators=150, criterion='entropy', random_state = 0, max_depth=4)\n",
        "random.fit(x_treino, y_treino)"
      ],
      "metadata": {
        "id": "Klr3lymumztn",
        "colab": {
          "base_uri": "https://localhost:8080/"
        },
        "outputId": "168ea812-b8d6-485d-8594-6d0286f2293e"
      },
      "execution_count": 150,
      "outputs": [
        {
          "output_type": "execute_result",
          "data": {
            "text/plain": [
              "RandomForestClassifier(criterion='entropy', max_depth=4, n_estimators=150,\n",
              "                       random_state=0)"
            ]
          },
          "metadata": {},
          "execution_count": 150
        }
      ]
    },
    {
      "cell_type": "code",
      "source": [
        "previsoes_random = random.predict(x_teste)\n",
        "previsoes_random"
      ],
      "metadata": {
        "id": "0JOqI4bQnY17",
        "colab": {
          "base_uri": "https://localhost:8080/"
        },
        "outputId": "ad12476f-6ad2-4179-b3b6-f8de01a38252"
      },
      "execution_count": 151,
      "outputs": [
        {
          "output_type": "execute_result",
          "data": {
            "text/plain": [
              "array([1, 1, 1, 0, 0, 0, 0, 0, 0, 0, 1, 1, 1, 1, 0, 1, 1, 1, 1, 0, 1, 1,\n",
              "       1, 0, 0, 0, 1, 1, 1, 1, 1, 0, 0, 0, 1, 0, 0, 0, 1, 0, 0, 1, 1, 1,\n",
              "       1, 0, 0, 1, 0, 1, 1, 0, 0, 0, 1, 0, 0, 0, 1, 0, 1, 1, 1, 0, 1, 1,\n",
              "       1, 0, 1, 0, 1, 1, 0, 1, 1, 1, 1, 1, 1, 1, 1, 1, 0, 0, 1, 1, 1, 1,\n",
              "       1, 0, 1, 0, 0, 0, 1, 0, 1, 0, 0, 0, 0, 1, 1, 1, 0, 1, 0, 0, 0, 1,\n",
              "       0, 1, 1, 1, 0, 1, 0, 1, 1, 1, 1, 1, 1, 0, 1, 1, 0, 1, 0, 1, 0, 1,\n",
              "       1, 1, 0, 1, 1, 1, 1, 0, 0, 1, 0, 1, 0, 0, 1, 1, 1, 0, 0, 1, 1, 0,\n",
              "       1, 0, 1, 1, 1, 0, 1, 1, 1, 0, 1, 0, 1, 0, 1, 0, 1, 1, 0, 0, 1, 1,\n",
              "       1, 0, 0, 1, 1, 1, 0, 1, 1, 1, 0, 1, 1, 0, 0, 0, 1, 0, 1, 1, 0, 0,\n",
              "       1, 0, 1, 1, 0, 1, 1, 0, 0, 0, 1, 0, 1, 1, 0, 0, 0, 0, 1, 0, 1, 1,\n",
              "       1, 0, 0, 1, 1, 1, 0, 1, 0, 1, 0, 1, 1, 1, 0, 1, 1, 1, 0, 1, 1, 0,\n",
              "       1, 0, 0, 0, 0, 0, 1, 0, 1, 0, 1, 0, 0, 0, 1, 0, 0, 1, 0, 1, 1, 0,\n",
              "       0, 0, 0, 0, 1, 0, 0, 1, 1, 1, 1, 1])"
            ]
          },
          "metadata": {},
          "execution_count": 151
        }
      ]
    },
    {
      "cell_type": "code",
      "source": [
        "y_teste"
      ],
      "metadata": {
        "id": "fRN6hPPXn5qp",
        "colab": {
          "base_uri": "https://localhost:8080/"
        },
        "outputId": "0e267a79-17a7-4f60-e3d8-fe110415640c"
      },
      "execution_count": 152,
      "outputs": [
        {
          "output_type": "execute_result",
          "data": {
            "text/plain": [
              "array([1, 0, 1, 0, 0, 0, 0, 0, 0, 0, 1, 0, 1, 1, 0, 1, 1, 1, 1, 0, 1, 1,\n",
              "       1, 0, 0, 0, 1, 1, 0, 0, 1, 0, 0, 0, 1, 0, 1, 0, 1, 0, 0, 1, 1, 1,\n",
              "       1, 0, 0, 1, 1, 1, 1, 0, 0, 1, 1, 0, 0, 0, 1, 0, 1, 1, 1, 0, 1, 1,\n",
              "       1, 0, 1, 0, 1, 1, 1, 1, 1, 1, 1, 1, 1, 0, 0, 1, 0, 0, 1, 1, 0, 1,\n",
              "       1, 0, 1, 0, 0, 1, 1, 0, 1, 0, 0, 0, 0, 1, 1, 1, 0, 1, 0, 0, 0, 1,\n",
              "       0, 1, 1, 1, 0, 1, 1, 1, 1, 1, 1, 1, 1, 0, 0, 1, 0, 1, 0, 1, 0, 1,\n",
              "       0, 1, 0, 0, 0, 1, 1, 0, 1, 1, 0, 1, 0, 0, 1, 1, 1, 0, 1, 1, 0, 0,\n",
              "       0, 0, 1, 1, 1, 0, 1, 1, 1, 0, 1, 0, 1, 0, 1, 0, 1, 1, 0, 0, 1, 0,\n",
              "       0, 1, 0, 1, 1, 1, 0, 1, 1, 1, 0, 1, 1, 0, 0, 0, 1, 1, 1, 1, 1, 0,\n",
              "       1, 0, 1, 1, 0, 1, 1, 0, 0, 0, 1, 0, 1, 1, 0, 1, 0, 1, 1, 1, 1, 1,\n",
              "       1, 1, 0, 0, 0, 1, 0, 1, 1, 1, 0, 1, 0, 1, 1, 1, 1, 1, 0, 1, 1, 0,\n",
              "       1, 0, 1, 0, 0, 0, 1, 0, 1, 0, 1, 1, 0, 0, 1, 0, 0, 1, 0, 1, 1, 0,\n",
              "       0, 0, 0, 0, 1, 0, 0, 1, 1, 1, 1, 1])"
            ]
          },
          "metadata": {},
          "execution_count": 152
        }
      ]
    },
    {
      "cell_type": "code",
      "source": [
        "from sklearn.metrics import accuracy_score, confusion_matrix, classification_report"
      ],
      "metadata": {
        "id": "cgB44VIOvpZf"
      },
      "execution_count": 153,
      "outputs": []
    },
    {
      "cell_type": "code",
      "source": [
        "print(\"Acurácia: %.2f%%\" % (accuracy_score(y_teste, previsoes_random) * 100.0))"
      ],
      "metadata": {
        "id": "gnAuxYDDoDxM",
        "colab": {
          "base_uri": "https://localhost:8080/"
        },
        "outputId": "d5807487-2b89-424c-87fc-7df85f81fa61"
      },
      "execution_count": 154,
      "outputs": [
        {
          "output_type": "stream",
          "name": "stdout",
          "text": [
            "Acurácia: 86.59%\n"
          ]
        }
      ]
    },
    {
      "cell_type": "code",
      "source": [
        "confusion_matrix(y_teste, previsoes_random)"
      ],
      "metadata": {
        "id": "zjAqh3e8oDxN",
        "colab": {
          "base_uri": "https://localhost:8080/"
        },
        "outputId": "6436baaf-58ee-4112-c4e3-daff34ef3846"
      },
      "execution_count": 155,
      "outputs": [
        {
          "output_type": "execute_result",
          "data": {
            "text/plain": [
              "array([[103,  18],\n",
              "       [ 19, 136]])"
            ]
          },
          "metadata": {},
          "execution_count": 155
        }
      ]
    },
    {
      "cell_type": "code",
      "source": [
        "print(classification_report(y_teste, previsoes_random))"
      ],
      "metadata": {
        "id": "IdpisYpjoDxO",
        "colab": {
          "base_uri": "https://localhost:8080/"
        },
        "outputId": "6d2fcc18-4014-46e2-f23b-13419f0e3b9d"
      },
      "execution_count": 156,
      "outputs": [
        {
          "output_type": "stream",
          "name": "stdout",
          "text": [
            "              precision    recall  f1-score   support\n",
            "\n",
            "           0       0.84      0.85      0.85       121\n",
            "           1       0.88      0.88      0.88       155\n",
            "\n",
            "    accuracy                           0.87       276\n",
            "   macro avg       0.86      0.86      0.86       276\n",
            "weighted avg       0.87      0.87      0.87       276\n",
            "\n"
          ]
        }
      ]
    },
    {
      "cell_type": "markdown",
      "source": [
        "**Análise dados de treino**"
      ],
      "metadata": {
        "id": "e9NiPecr1bdw"
      }
    },
    {
      "cell_type": "code",
      "source": [
        "previsoes_treino = random.predict(x_treino)\n",
        "previsoes_treino"
      ],
      "metadata": {
        "id": "DDs9J1hX1bdx",
        "colab": {
          "base_uri": "https://localhost:8080/"
        },
        "outputId": "1a913e7b-b58d-4d4d-d69c-faddfc421821"
      },
      "execution_count": 157,
      "outputs": [
        {
          "output_type": "execute_result",
          "data": {
            "text/plain": [
              "array([1, 0, 1, 1, 1, 1, 0, 0, 0, 0, 1, 0, 1, 1, 1, 0, 0, 0, 0, 1, 1, 1,\n",
              "       1, 1, 1, 0, 0, 1, 1, 1, 1, 0, 1, 1, 0, 0, 1, 1, 0, 1, 0, 1, 0, 0,\n",
              "       1, 1, 0, 1, 1, 1, 1, 0, 1, 0, 1, 0, 1, 0, 1, 0, 0, 0, 1, 0, 1, 1,\n",
              "       0, 1, 1, 0, 1, 1, 1, 1, 0, 0, 1, 1, 1, 1, 1, 1, 1, 1, 0, 1, 1, 1,\n",
              "       1, 1, 0, 1, 0, 0, 1, 1, 1, 1, 1, 1, 1, 1, 0, 1, 1, 1, 1, 0, 0, 1,\n",
              "       0, 0, 1, 0, 1, 0, 1, 0, 1, 0, 0, 0, 0, 1, 1, 1, 1, 0, 1, 1, 1, 0,\n",
              "       1, 1, 0, 0, 1, 0, 1, 1, 0, 1, 1, 1, 1, 1, 0, 0, 0, 1, 1, 0, 1, 0,\n",
              "       1, 0, 1, 1, 1, 0, 1, 0, 0, 0, 0, 1, 1, 0, 0, 0, 0, 1, 1, 0, 1, 0,\n",
              "       0, 1, 1, 0, 0, 0, 0, 0, 0, 1, 1, 1, 1, 1, 0, 0, 1, 0, 0, 1, 1, 1,\n",
              "       1, 1, 0, 0, 0, 1, 1, 1, 1, 1, 1, 0, 1, 0, 1, 1, 1, 1, 1, 0, 0, 1,\n",
              "       1, 0, 0, 1, 1, 1, 1, 1, 1, 1, 1, 1, 0, 1, 1, 0, 1, 0, 1, 0, 1, 0,\n",
              "       1, 1, 0, 1, 1, 1, 1, 1, 1, 1, 0, 0, 0, 0, 0, 0, 0, 0, 1, 0, 1, 0,\n",
              "       1, 0, 1, 0, 1, 0, 1, 1, 0, 0, 0, 1, 1, 0, 0, 0, 1, 0, 0, 0, 1, 1,\n",
              "       1, 1, 1, 1, 1, 0, 1, 1, 0, 1, 0, 1, 0, 1, 1, 0, 0, 1, 0, 0, 1, 1,\n",
              "       1, 0, 1, 0, 1, 0, 1, 0, 1, 1, 1, 0, 1, 1, 1, 1, 0, 1, 1, 1, 1, 0,\n",
              "       0, 0, 1, 0, 0, 0, 1, 1, 0, 1, 1, 1, 1, 1, 1, 0, 1, 1, 0, 1, 0, 1,\n",
              "       0, 0, 0, 1, 0, 1, 1, 1, 0, 1, 0, 1, 1, 0, 0, 0, 0, 0, 1, 1, 1, 1,\n",
              "       0, 1, 1, 1, 0, 1, 1, 1, 0, 1, 0, 1, 0, 0, 0, 1, 0, 1, 1, 1, 1, 1,\n",
              "       0, 0, 0, 1, 1, 1, 1, 0, 1, 1, 1, 1, 1, 0, 0, 1, 0, 1, 1, 1, 0, 0,\n",
              "       0, 1, 1, 0, 0, 1, 1, 0, 1, 1, 0, 0, 0, 1, 1, 1, 1, 1, 1, 1, 1, 1,\n",
              "       0, 0, 1, 1, 0, 1, 0, 1, 0, 0, 1, 0, 1, 1, 1, 1, 0, 0, 0, 1, 0, 1,\n",
              "       1, 1, 1, 1, 1, 0, 1, 0, 1, 1, 1, 1, 1, 1, 1, 0, 0, 0, 1, 0, 0, 0,\n",
              "       0, 0, 1, 0, 1, 1, 1, 0, 0, 1, 1, 0, 1, 1, 1, 0, 1, 1, 0, 0, 1, 1,\n",
              "       1, 1, 0, 0, 1, 1, 1, 1, 0, 1, 0, 0, 1, 0, 1, 1, 1, 1, 0, 1, 1, 0,\n",
              "       1, 0, 1, 0, 1, 0, 1, 0, 1, 0, 1, 1, 0, 1, 1, 1, 1, 0, 0, 1, 1, 0,\n",
              "       0, 1, 1, 0, 1, 0, 1, 1, 1, 0, 1, 1, 0, 1, 0, 1, 1, 0, 0, 1, 0, 1,\n",
              "       1, 1, 0, 0, 1, 0, 0, 1, 0, 1, 0, 1, 1, 1, 1, 0, 1, 0, 0, 0, 0, 0,\n",
              "       0, 0, 1, 0, 0, 1, 0, 0, 0, 0, 1, 0, 0, 1, 0, 1, 1, 1, 1, 1, 0, 1,\n",
              "       1, 1, 1, 1, 1, 0, 1, 1, 1, 1, 1, 1, 0, 1, 1, 0, 0, 1, 1, 0, 1, 0,\n",
              "       1, 0, 1])"
            ]
          },
          "metadata": {},
          "execution_count": 157
        }
      ]
    },
    {
      "cell_type": "code",
      "source": [
        "accuracy_score(y_treino, previsoes_treino)"
      ],
      "metadata": {
        "id": "MkH9uYfz1bdy",
        "colab": {
          "base_uri": "https://localhost:8080/"
        },
        "outputId": "606286fa-8615-4198-ed97-257df972481f"
      },
      "execution_count": 158,
      "outputs": [
        {
          "output_type": "execute_result",
          "data": {
            "text/plain": [
              "0.890795631825273"
            ]
          },
          "metadata": {},
          "execution_count": 158
        }
      ]
    },
    {
      "cell_type": "code",
      "source": [
        "confusion_matrix(y_treino, previsoes_treino)"
      ],
      "metadata": {
        "id": "pLge3xVL1bdy",
        "colab": {
          "base_uri": "https://localhost:8080/"
        },
        "outputId": "ddb7f5b8-6a07-416e-f91e-eea4e3493b0c"
      },
      "execution_count": 159,
      "outputs": [
        {
          "output_type": "execute_result",
          "data": {
            "text/plain": [
              "array([[241,  48],\n",
              "       [ 22, 330]])"
            ]
          },
          "metadata": {},
          "execution_count": 159
        }
      ]
    },
    {
      "cell_type": "markdown",
      "source": [
        "### **Validação Cruzada**"
      ],
      "metadata": {
        "id": "GH4nEvlaGOb7"
      }
    },
    {
      "cell_type": "code",
      "source": [
        "from sklearn.model_selection import KFold\n",
        "from sklearn.model_selection import cross_val_score"
      ],
      "metadata": {
        "id": "hreEC55-GOb8"
      },
      "execution_count": 160,
      "outputs": []
    },
    {
      "cell_type": "code",
      "source": [
        "# Separando os dados em folds\n",
        "kfold = KFold(n_splits = 30, shuffle=True, random_state = 5)"
      ],
      "metadata": {
        "id": "ETYEB99OGOb9"
      },
      "execution_count": 161,
      "outputs": []
    },
    {
      "cell_type": "code",
      "source": [
        "# Criando o modelo\n",
        "modelo = RandomForestClassifier(n_estimators=150, criterion='entropy', random_state = 0, max_depth=4)\n",
        "resultado = cross_val_score(modelo, previsores, alvo, cv = kfold)\n",
        "\n",
        "# Usamos a média e o desvio padrão\n",
        "print(\"Acurácia Média: %.2f%%\" % (resultado.mean() * 100.0))"
      ],
      "metadata": {
        "id": "7GHcsag3GOb9",
        "colab": {
          "base_uri": "https://localhost:8080/"
        },
        "outputId": "d1a4b11e-5b12-4b33-ef89-c8f83a71039d"
      },
      "execution_count": 162,
      "outputs": [
        {
          "output_type": "stream",
          "name": "stdout",
          "text": [
            "Acurácia Média: 85.92%\n"
          ]
        }
      ]
    },
    {
      "cell_type": "markdown",
      "source": [
        "Naive Bayes = 84,78% (treino e teste) - 234 acertos e 85,17% (validação cruzada) : previsores3_esc\n",
        "\n",
        "SVM = 86,23% - 238 acertos e 85,72% (validação cruzada) : previsores3-esc - SVC(kernel='rbf', random_state=1, C = 2)\n",
        "\n",
        "Regressão logística = 86,23% - 238 acertos e 85,83% (validação cruzada) : previsores3_esc - LogisticRegression(random_state=1, max_iter=600, penalty=\"l2\", tol=0.0001, C=1,solver=\"lbfgs\")\n",
        "\n",
        "KNN = 84,06% - 232 acertos e 85,84% (validação cruzada) : previsores3_esc ou previsores_esc - KNeighborsClassifier(n_neighbors=7, metric='minkowski', p = 1)\n",
        "\n",
        "Árvore de decisão = 83,7% (treino e teste) - 231 acertos e 83,32% (validação cruzada): previsores3_esc - DecisionTreeClassifier(criterion='entropy', random_state = 0, max_depth=3)\n",
        "\n",
        "Random Forest = 86,59% - 239 acertos e 85,92% (validação cruzada) : previsores - RandomForestClassifier(n_estimators=150, criterion='entropy', random_state = 0, max_depth=4)"
      ],
      "metadata": {
        "id": "N3dUl9DDpNnz"
      }
    },
    {
      "cell_type": "markdown",
      "source": [
        "# **XGBOOST**"
      ],
      "metadata": {
        "id": "jH3OocboSGXH"
      }
    },
    {
      "cell_type": "markdown",
      "source": [
        "https://xgboost.readthedocs.io/en/stable/"
      ],
      "metadata": {
        "id": "OpLLJlcnbcsR"
      }
    },
    {
      "cell_type": "code",
      "source": [
        "from xgboost import XGBClassifier"
      ],
      "metadata": {
        "id": "PKdcu1J2Qk0h"
      },
      "execution_count": 163,
      "outputs": []
    },
    {
      "cell_type": "code",
      "source": [
        "xg = XGBClassifier(max_depth=2, learning_rate=0.05, n_estimators=250, objective='binary:logistic', random_state=3)\n",
        "xg.fit(x_treino,y_treino)"
      ],
      "metadata": {
        "id": "jyOMVARbQmLa",
        "colab": {
          "base_uri": "https://localhost:8080/"
        },
        "outputId": "4629ac88-014a-4f9b-9fb0-bdd4d6682c1b"
      },
      "execution_count": 164,
      "outputs": [
        {
          "output_type": "execute_result",
          "data": {
            "text/plain": [
              "XGBClassifier(learning_rate=0.05, max_depth=2, n_estimators=250, random_state=3)"
            ]
          },
          "metadata": {},
          "execution_count": 164
        }
      ]
    },
    {
      "cell_type": "code",
      "source": [
        "previsoes_xg = xg.predict(x_teste)\n",
        "previsoes_xg"
      ],
      "metadata": {
        "id": "QrR1ZLZVQ5K4",
        "colab": {
          "base_uri": "https://localhost:8080/"
        },
        "outputId": "f33915b0-829b-48b8-83e1-2ff0b495ac73"
      },
      "execution_count": 165,
      "outputs": [
        {
          "output_type": "execute_result",
          "data": {
            "text/plain": [
              "array([1, 1, 1, 0, 0, 0, 0, 0, 0, 0, 1, 1, 1, 1, 0, 1, 1, 1, 1, 0, 1, 1,\n",
              "       1, 0, 0, 0, 1, 1, 1, 1, 1, 0, 0, 0, 1, 0, 0, 0, 1, 0, 0, 1, 1, 1,\n",
              "       1, 0, 0, 1, 0, 1, 1, 0, 0, 0, 1, 0, 0, 0, 1, 0, 1, 1, 1, 0, 1, 1,\n",
              "       1, 0, 1, 0, 1, 1, 0, 1, 1, 1, 1, 1, 1, 1, 1, 1, 0, 0, 1, 1, 1, 1,\n",
              "       1, 0, 1, 0, 0, 0, 1, 0, 1, 0, 0, 0, 0, 1, 1, 1, 0, 1, 0, 0, 0, 1,\n",
              "       0, 1, 1, 1, 0, 1, 0, 1, 1, 1, 1, 1, 1, 0, 1, 1, 0, 1, 0, 1, 0, 1,\n",
              "       1, 1, 0, 0, 0, 1, 1, 0, 0, 1, 0, 1, 0, 0, 1, 1, 1, 0, 0, 1, 1, 0,\n",
              "       1, 0, 1, 1, 1, 0, 1, 1, 1, 0, 1, 0, 1, 0, 1, 0, 1, 1, 0, 0, 1, 0,\n",
              "       1, 0, 0, 1, 1, 1, 0, 1, 1, 1, 0, 1, 1, 0, 1, 0, 1, 1, 1, 1, 0, 0,\n",
              "       1, 0, 1, 1, 0, 1, 1, 0, 0, 0, 1, 0, 1, 1, 0, 1, 0, 0, 1, 0, 1, 1,\n",
              "       1, 0, 0, 1, 1, 1, 0, 1, 0, 1, 0, 1, 1, 1, 0, 1, 1, 1, 0, 1, 1, 0,\n",
              "       1, 0, 0, 0, 0, 0, 1, 0, 1, 0, 1, 1, 0, 0, 1, 0, 0, 1, 0, 0, 1, 0,\n",
              "       1, 0, 0, 0, 1, 0, 0, 1, 1, 1, 1, 1])"
            ]
          },
          "metadata": {},
          "execution_count": 165
        }
      ]
    },
    {
      "cell_type": "code",
      "source": [
        "from sklearn.metrics import accuracy_score, confusion_matrix, classification_report"
      ],
      "metadata": {
        "id": "HSR36D1mRZpz"
      },
      "execution_count": 166,
      "outputs": []
    },
    {
      "cell_type": "code",
      "source": [
        "print(\"Acurácia: %.2f%%\" % (accuracy_score(y_teste, previsoes_xg) * 100.0))"
      ],
      "metadata": {
        "id": "UxMj0PznRZp0",
        "colab": {
          "base_uri": "https://localhost:8080/"
        },
        "outputId": "15b375fd-2d2f-420a-d706-5e1fe9aadd2c"
      },
      "execution_count": 167,
      "outputs": [
        {
          "output_type": "stream",
          "name": "stdout",
          "text": [
            "Acurácia: 87.68%\n"
          ]
        }
      ]
    },
    {
      "cell_type": "code",
      "source": [
        "confusion_matrix(y_teste, previsoes_xg)"
      ],
      "metadata": {
        "id": "5PcyMmFqRZp1",
        "colab": {
          "base_uri": "https://localhost:8080/"
        },
        "outputId": "e3afda06-6f24-4d81-8811-750956910cc6"
      },
      "execution_count": 168,
      "outputs": [
        {
          "output_type": "execute_result",
          "data": {
            "text/plain": [
              "array([[104,  17],\n",
              "       [ 17, 138]])"
            ]
          },
          "metadata": {},
          "execution_count": 168
        }
      ]
    },
    {
      "cell_type": "code",
      "source": [
        "print(classification_report(y_teste, previsoes_xg))"
      ],
      "metadata": {
        "id": "fBYjluOzRZp2",
        "colab": {
          "base_uri": "https://localhost:8080/"
        },
        "outputId": "a5220340-10d2-463b-9eee-bcc40f3403f0"
      },
      "execution_count": 169,
      "outputs": [
        {
          "output_type": "stream",
          "name": "stdout",
          "text": [
            "              precision    recall  f1-score   support\n",
            "\n",
            "           0       0.86      0.86      0.86       121\n",
            "           1       0.89      0.89      0.89       155\n",
            "\n",
            "    accuracy                           0.88       276\n",
            "   macro avg       0.87      0.87      0.87       276\n",
            "weighted avg       0.88      0.88      0.88       276\n",
            "\n"
          ]
        }
      ]
    },
    {
      "cell_type": "markdown",
      "source": [
        "**Análise dados de treino**"
      ],
      "metadata": {
        "id": "VLAUCC_t2dkX"
      }
    },
    {
      "cell_type": "code",
      "source": [
        "previsoes_treino = xg.predict(x_treino)\n",
        "previsoes_treino"
      ],
      "metadata": {
        "id": "K5oak1Jy2dkY",
        "colab": {
          "base_uri": "https://localhost:8080/"
        },
        "outputId": "431cfcbd-f5cb-4012-96e1-b1522ae22cb9"
      },
      "execution_count": 170,
      "outputs": [
        {
          "output_type": "execute_result",
          "data": {
            "text/plain": [
              "array([1, 0, 1, 1, 1, 1, 0, 0, 0, 0, 1, 0, 1, 1, 1, 0, 0, 0, 0, 1, 0, 1,\n",
              "       1, 1, 1, 0, 0, 1, 1, 1, 1, 0, 1, 1, 0, 0, 1, 1, 0, 1, 0, 1, 0, 0,\n",
              "       1, 1, 0, 1, 1, 1, 0, 0, 1, 0, 1, 0, 1, 0, 1, 0, 0, 0, 1, 0, 1, 1,\n",
              "       0, 0, 1, 0, 1, 1, 1, 1, 0, 0, 1, 1, 1, 1, 1, 1, 1, 1, 0, 1, 1, 1,\n",
              "       1, 1, 0, 1, 0, 0, 1, 1, 1, 1, 1, 1, 1, 1, 0, 1, 1, 1, 1, 0, 1, 1,\n",
              "       0, 0, 1, 0, 1, 0, 1, 0, 1, 0, 0, 0, 0, 1, 0, 1, 1, 0, 1, 1, 1, 0,\n",
              "       1, 1, 0, 0, 1, 0, 1, 1, 0, 1, 1, 1, 1, 1, 0, 0, 0, 1, 1, 0, 1, 0,\n",
              "       1, 0, 1, 1, 1, 0, 1, 0, 0, 0, 1, 0, 1, 0, 0, 0, 0, 1, 1, 0, 1, 0,\n",
              "       0, 1, 1, 0, 0, 0, 0, 0, 0, 1, 1, 1, 1, 1, 0, 0, 1, 0, 0, 1, 1, 1,\n",
              "       1, 1, 0, 0, 0, 1, 1, 1, 1, 1, 0, 0, 1, 0, 1, 1, 1, 1, 1, 0, 0, 1,\n",
              "       1, 0, 0, 1, 1, 1, 1, 1, 1, 1, 1, 1, 0, 1, 1, 0, 1, 0, 1, 0, 1, 0,\n",
              "       1, 1, 0, 1, 1, 1, 1, 1, 1, 1, 0, 0, 0, 0, 0, 0, 0, 0, 0, 0, 1, 0,\n",
              "       1, 0, 1, 1, 1, 0, 1, 1, 0, 0, 0, 1, 1, 0, 0, 0, 1, 0, 0, 0, 1, 1,\n",
              "       1, 1, 1, 1, 1, 0, 1, 1, 0, 1, 0, 1, 0, 1, 1, 0, 0, 1, 0, 1, 1, 1,\n",
              "       1, 0, 1, 0, 1, 0, 1, 0, 1, 1, 1, 0, 1, 1, 1, 1, 0, 1, 1, 1, 1, 0,\n",
              "       0, 0, 1, 0, 0, 0, 1, 1, 0, 1, 1, 1, 1, 1, 1, 0, 1, 1, 0, 1, 0, 1,\n",
              "       0, 0, 0, 1, 0, 1, 1, 1, 0, 1, 0, 1, 1, 0, 0, 0, 0, 0, 1, 1, 0, 1,\n",
              "       0, 1, 1, 1, 0, 1, 1, 1, 0, 1, 0, 1, 0, 0, 1, 1, 0, 1, 1, 1, 1, 1,\n",
              "       0, 0, 0, 1, 1, 1, 1, 0, 1, 1, 1, 1, 0, 0, 0, 1, 0, 1, 1, 1, 0, 0,\n",
              "       0, 1, 1, 0, 0, 1, 1, 0, 1, 1, 0, 0, 0, 1, 1, 0, 1, 1, 1, 1, 1, 1,\n",
              "       0, 0, 1, 1, 0, 1, 0, 1, 0, 0, 1, 0, 1, 1, 1, 1, 0, 0, 0, 1, 0, 1,\n",
              "       1, 1, 1, 1, 1, 0, 1, 0, 1, 1, 1, 1, 1, 1, 1, 0, 0, 0, 1, 0, 0, 0,\n",
              "       0, 0, 1, 0, 1, 1, 0, 0, 0, 1, 1, 0, 0, 1, 1, 0, 1, 1, 0, 0, 1, 1,\n",
              "       1, 1, 0, 0, 1, 1, 1, 1, 0, 1, 0, 0, 1, 0, 1, 1, 1, 1, 0, 1, 1, 0,\n",
              "       1, 0, 1, 0, 1, 0, 1, 0, 1, 0, 1, 1, 0, 1, 1, 1, 1, 0, 0, 1, 1, 0,\n",
              "       0, 1, 1, 0, 1, 0, 1, 1, 1, 0, 1, 1, 1, 0, 0, 1, 1, 0, 1, 1, 0, 1,\n",
              "       1, 1, 0, 0, 1, 0, 0, 0, 0, 0, 0, 1, 1, 1, 1, 0, 1, 0, 0, 0, 0, 0,\n",
              "       0, 0, 1, 0, 0, 0, 0, 0, 0, 0, 1, 0, 1, 1, 0, 1, 1, 1, 1, 1, 0, 1,\n",
              "       1, 1, 0, 1, 1, 0, 1, 1, 1, 1, 1, 1, 0, 1, 1, 0, 0, 1, 1, 0, 1, 0,\n",
              "       0, 0, 1])"
            ]
          },
          "metadata": {},
          "execution_count": 170
        }
      ]
    },
    {
      "cell_type": "code",
      "source": [
        "accuracy_score(y_treino, previsoes_treino)"
      ],
      "metadata": {
        "id": "70k-raF62dkZ",
        "colab": {
          "base_uri": "https://localhost:8080/"
        },
        "outputId": "b2646de7-52e1-4acc-eedc-4fd952565823"
      },
      "execution_count": 171,
      "outputs": [
        {
          "output_type": "execute_result",
          "data": {
            "text/plain": [
              "0.9157566302652106"
            ]
          },
          "metadata": {},
          "execution_count": 171
        }
      ]
    },
    {
      "cell_type": "code",
      "source": [
        "confusion_matrix(y_treino, previsoes_treino)"
      ],
      "metadata": {
        "id": "Hy7uFw9E2dkZ",
        "colab": {
          "base_uri": "https://localhost:8080/"
        },
        "outputId": "42df5ae5-690a-43cc-9619-00d2d06a987b"
      },
      "execution_count": 172,
      "outputs": [
        {
          "output_type": "execute_result",
          "data": {
            "text/plain": [
              "array([[254,  35],\n",
              "       [ 19, 333]])"
            ]
          },
          "metadata": {},
          "execution_count": 172
        }
      ]
    },
    {
      "cell_type": "markdown",
      "source": [
        "### **Validação Cruzada**"
      ],
      "metadata": {
        "id": "gHvG_uWZLARo"
      }
    },
    {
      "cell_type": "code",
      "source": [
        "from sklearn.model_selection import KFold\n",
        "from sklearn.model_selection import cross_val_score"
      ],
      "metadata": {
        "id": "l3RZmFL_LARp"
      },
      "execution_count": 173,
      "outputs": []
    },
    {
      "cell_type": "code",
      "source": [
        "# Separando os dados em folds\n",
        "kfold = KFold(n_splits = 30, shuffle=True, random_state = 5)"
      ],
      "metadata": {
        "id": "BKmF7defLARq"
      },
      "execution_count": 174,
      "outputs": []
    },
    {
      "cell_type": "code",
      "source": [
        "# Criando o modelo\n",
        "modelo = XGBClassifier(max_depth=2, learning_rate=0.05, n_estimators=250, objective='binary:logistic', random_state=3)\n",
        "resultado = cross_val_score(modelo, previsores, alvo, cv = kfold)\n",
        "\n",
        "# Usamos a média e o desvio padrão\n",
        "print(\"Acurácia Média: %.2f%%\" % (resultado.mean() * 100.0))"
      ],
      "metadata": {
        "id": "1h7FUmsWLARr",
        "colab": {
          "base_uri": "https://localhost:8080/"
        },
        "outputId": "dad50055-e863-4d06-ba93-e7e1944589cd"
      },
      "execution_count": 175,
      "outputs": [
        {
          "output_type": "stream",
          "name": "stdout",
          "text": [
            "Acurácia Média: 87.13%\n"
          ]
        }
      ]
    },
    {
      "cell_type": "markdown",
      "source": [
        "Naive Bayes = 84,78% (treino e teste) - 234 acertos e 85,17% (validação cruzada) : previsores3_esc\n",
        "\n",
        "SVM = 86,23% - 238 acertos e 85,72% (validação cruzada) : previsores3-esc - SVC(kernel='rbf', random_state=1, C = 2)\n",
        "\n",
        "Regressão logística = 86,23% - 238 acertos e 85,83% (validação cruzada) : previsores3_esc - LogisticRegression(random_state=1, max_iter=600, penalty=\"l2\", tol=0.0001, C=1,solver=\"lbfgs\")\n",
        "\n",
        "KNN = 84,06% - 232 acertos e 85,84% (validação cruzada) : previsores3_esc ou previsores_esc - KNeighborsClassifier(n_neighbors=7, metric='minkowski', p = 1)\n",
        "\n",
        "Árvore de decisão = 83,7% (treino e teste) - 231 acertos e 83,32% (validação cruzada): previsores3_esc - DecisionTreeClassifier(criterion='entropy', random_state = 0, max_depth=3)\n",
        "\n",
        "Random Forest = 86,59% - 239 acertos e 85,92% (validação cruzada) : previsores - RandomForestClassifier(n_estimators=150, criterion='entropy', random_state = 0, max_depth=4)\n",
        "\n",
        "XGboost = 87,68% - 242 acertos e 87,13% (validação cruzada) : previsores - XGBClassifier(max_depth=2, learning_rate=0.05, n_estimators=250, objective='binary:logistic', random_state=3)"
      ],
      "metadata": {
        "id": "gkZCAe-OR3rW"
      }
    },
    {
      "cell_type": "markdown",
      "source": [
        "# **LIGHTGBM**"
      ],
      "metadata": {
        "id": "sPZLUYzCqTWL"
      }
    },
    {
      "cell_type": "markdown",
      "source": [
        "https://lightgbm.readthedocs.io/en/latest/pythonapi/lightgbm.train.html"
      ],
      "metadata": {
        "id": "LLop9X5OVOfc"
      }
    },
    {
      "cell_type": "code",
      "source": [
        "# Instalação do Algoritmo\n",
        "!pip install lightgbm"
      ],
      "metadata": {
        "id": "r2fYJevzt58X",
        "colab": {
          "base_uri": "https://localhost:8080/"
        },
        "outputId": "ebe86be7-914e-43bd-adec-60a3fe4e41d5"
      },
      "execution_count": 176,
      "outputs": [
        {
          "output_type": "stream",
          "name": "stdout",
          "text": [
            "Looking in indexes: https://pypi.org/simple, https://us-python.pkg.dev/colab-wheels/public/simple/\n",
            "Requirement already satisfied: lightgbm in /usr/local/lib/python3.7/dist-packages (2.2.3)\n",
            "Requirement already satisfied: numpy in /usr/local/lib/python3.7/dist-packages (from lightgbm) (1.21.6)\n",
            "Requirement already satisfied: scikit-learn in /usr/local/lib/python3.7/dist-packages (from lightgbm) (1.0.2)\n",
            "Requirement already satisfied: scipy in /usr/local/lib/python3.7/dist-packages (from lightgbm) (1.7.3)\n",
            "Requirement already satisfied: joblib>=0.11 in /usr/local/lib/python3.7/dist-packages (from scikit-learn->lightgbm) (1.2.0)\n",
            "Requirement already satisfied: threadpoolctl>=2.0.0 in /usr/local/lib/python3.7/dist-packages (from scikit-learn->lightgbm) (3.1.0)\n"
          ]
        }
      ]
    },
    {
      "cell_type": "code",
      "source": [
        "import lightgbm as lgb "
      ],
      "metadata": {
        "id": "HyJzU46uq9mQ"
      },
      "execution_count": 177,
      "outputs": []
    },
    {
      "cell_type": "code",
      "source": [
        "# Dataset para treino\n",
        "dataset = lgb.Dataset(x_treino,label=y_treino)"
      ],
      "metadata": {
        "id": "D7GfTX-TxWh2"
      },
      "execution_count": 178,
      "outputs": []
    },
    {
      "cell_type": "markdown",
      "source": [
        "**Hiperparâmetros**\n",
        "\n",
        "**Controle de ajuste**\n",
        "\n",
        "num_leaves : define o número de folhas a serem formadas em uma árvore. Não tem uma relação direta entre num_leaves e max_depth e, portanto, os dois não devem estar vinculados um ao outro.\n",
        "\n",
        "max_depth : especifica a profundidade máxima ou nível até o qual a árvore pode crescer.\n",
        "\n",
        "**Controle de velocidade**\n",
        "\n",
        "learning_rate: taxa de aprendizagem, determina o impacto de cada árvore no resultado final.\n",
        "\n",
        "max_bin : O valor menor de max_bin reduz muito tempo de procesamento, pois agrupa os valores do recurso em caixas discretas, o que é computacionalmente mais barato.\n",
        "\n",
        "**Controle de precisão**\n",
        "\n",
        "num_leaves : valor alto produz árvores mais profundas com maior precisão, mas leva ao overfitting. \n",
        "\n",
        "max_bin : valores altos tem efeito semelhante ao causado pelo aumento do valor de num_leaves e também torna mais lento o procedimento de treinamento."
      ],
      "metadata": {
        "id": "9sYH7x7pjczh"
      }
    },
    {
      "cell_type": "code",
      "source": [
        "# Parâmetros\n",
        "parametros = {'num_leaves':250, # número de folhas\n",
        "              'objective':'binary', # classificação Binária     \n",
        "              'max_depth':2,\n",
        "              'learning_rate':.05,\n",
        "              'max_bin':100}"
      ],
      "metadata": {
        "id": "eRYtywqRxnRM"
      },
      "execution_count": 179,
      "outputs": []
    },
    {
      "cell_type": "code",
      "metadata": {
        "id": "s-75IteevPFt"
      },
      "source": [
        "lgbm=lgb.train(parametros,dataset,num_boost_round=200)"
      ],
      "execution_count": 180,
      "outputs": []
    },
    {
      "cell_type": "code",
      "source": [
        "# Marcação do tempo de execução\n",
        "from datetime import datetime\n",
        "inicio=datetime.now()\n",
        "lgbm=lgb.train(parametros,dataset)\n",
        "fim=datetime.now()\n",
        "\n",
        "tempo = fim - inicio\n",
        "tempo"
      ],
      "metadata": {
        "id": "w2eVSPh7XeQe",
        "colab": {
          "base_uri": "https://localhost:8080/"
        },
        "outputId": "8858c998-2b35-48a4-c91f-5add504c101d"
      },
      "execution_count": 181,
      "outputs": [
        {
          "output_type": "execute_result",
          "data": {
            "text/plain": [
              "datetime.timedelta(microseconds=28888)"
            ]
          },
          "metadata": {},
          "execution_count": 181
        }
      ]
    },
    {
      "cell_type": "code",
      "metadata": {
        "id": "FbY1sQrzvPFv",
        "colab": {
          "base_uri": "https://localhost:8080/"
        },
        "outputId": "e5d9e76f-0683-4f3f-b687-d54ea180b5fd"
      },
      "source": [
        "previsoes_lgbm = lgbm.predict(x_teste)\n",
        "previsoes_lgbm"
      ],
      "execution_count": 182,
      "outputs": [
        {
          "output_type": "execute_result",
          "data": {
            "text/plain": [
              "array([0.86964435, 0.82684166, 0.94476975, 0.06409018, 0.15724367,\n",
              "       0.32692353, 0.4413421 , 0.03946092, 0.06628193, 0.10355108,\n",
              "       0.87175445, 0.84984631, 0.94476975, 0.92487901, 0.37923082,\n",
              "       0.89814206, 0.68720644, 0.8973941 , 0.90404388, 0.20913979,\n",
              "       0.90918916, 0.91085531, 0.66602942, 0.23134554, 0.0588069 ,\n",
              "       0.04396659, 0.8996679 , 0.94826294, 0.61986676, 0.61843644,\n",
              "       0.91018305, 0.07657652, 0.07369888, 0.08053145, 0.73458185,\n",
              "       0.1295464 , 0.19841875, 0.06532987, 0.64693193, 0.03335138,\n",
              "       0.04194674, 0.91007231, 0.89432292, 0.94588473, 0.89850502,\n",
              "       0.09227646, 0.02670268, 0.87560599, 0.40759323, 0.94715775,\n",
              "       0.87884348, 0.14173937, 0.1247911 , 0.36482523, 0.94240007,\n",
              "       0.16368784, 0.10205471, 0.16208405, 0.53680707, 0.1420166 ,\n",
              "       0.93134881, 0.84581651, 0.62070208, 0.13578759, 0.93872405,\n",
              "       0.62505146, 0.94969577, 0.34425358, 0.91269062, 0.13578759,\n",
              "       0.85195554, 0.86115028, 0.30626914, 0.94240007, 0.8800642 ,\n",
              "       0.8828205 , 0.71717756, 0.96598242, 0.87752771, 0.82902245,\n",
              "       0.81631434, 0.85688778, 0.13458761, 0.12732974, 0.88509043,\n",
              "       0.75715469, 0.81704812, 0.92774778, 0.88857841, 0.22702069,\n",
              "       0.88652622, 0.33255487, 0.03471616, 0.31432534, 0.60134927,\n",
              "       0.16406522, 0.8521718 , 0.06579226, 0.10524362, 0.15712462,\n",
              "       0.19951404, 0.73075989, 0.94520426, 0.84787442, 0.22966525,\n",
              "       0.90647048, 0.34189284, 0.03768595, 0.21495976, 0.63474432,\n",
              "       0.52006578, 0.94962885, 0.93540861, 0.8973941 , 0.33794817,\n",
              "       0.93255469, 0.4413421 , 0.94009104, 0.93827659, 0.87191344,\n",
              "       0.93009377, 0.9752539 , 0.95977491, 0.0965988 , 0.59762236,\n",
              "       0.68503687, 0.24820512, 0.6653357 , 0.06532987, 0.93763766,\n",
              "       0.29382978, 0.96454394, 0.86984497, 0.80790858, 0.22734349,\n",
              "       0.54199831, 0.59135952, 0.94520426, 0.76618137, 0.09227646,\n",
              "       0.24010677, 0.92988526, 0.05957917, 0.89323259, 0.49237423,\n",
              "       0.06636358, 0.89873598, 0.60911533, 0.51601449, 0.40081664,\n",
              "       0.41665858, 0.9077556 , 0.65723332, 0.09519222, 0.88274173,\n",
              "       0.05977738, 0.79573178, 0.64831178, 0.83185151, 0.03865467,\n",
              "       0.95255193, 0.5566163 , 0.93103288, 0.45419481, 0.87884348,\n",
              "       0.19148113, 0.87227495, 0.03299851, 0.83423787, 0.35615044,\n",
              "       0.81801368, 0.73377337, 0.05350113, 0.21495976, 0.76014828,\n",
              "       0.5051836 , 0.64560562, 0.29469741, 0.14040712, 0.69398705,\n",
              "       0.94240007, 0.77759442, 0.14290967, 0.91783873, 0.92624015,\n",
              "       0.91231396, 0.1838209 , 0.87227495, 0.91905676, 0.10678119,\n",
              "       0.54455923, 0.13196837, 0.93628384, 0.50691417, 0.89446557,\n",
              "       0.57255813, 0.28021137, 0.04396659, 0.8199123 , 0.0848466 ,\n",
              "       0.92832434, 0.85727222, 0.26026411, 0.93318108, 0.95736621,\n",
              "       0.26708115, 0.05819818, 0.08213984, 0.94829769, 0.25949437,\n",
              "       0.86264381, 0.95622299, 0.02685554, 0.56927989, 0.11353705,\n",
              "       0.0864129 , 0.90655781, 0.08491641, 0.80804684, 0.77809933,\n",
              "       0.90154235, 0.15506604, 0.4333396 , 0.63365655, 0.86477786,\n",
              "       0.92281322, 0.10524362, 0.9130194 , 0.24871363, 0.84790788,\n",
              "       0.04890138, 0.92429487, 0.75273548, 0.90650852, 0.08707525,\n",
              "       0.86716108, 0.67235463, 0.7889846 , 0.043241  , 0.90918916,\n",
              "       0.94278007, 0.02670268, 0.90154235, 0.19360115, 0.31714158,\n",
              "       0.09227646, 0.22105349, 0.27459941, 0.91138997, 0.08755024,\n",
              "       0.94826294, 0.06568893, 0.7657978 , 0.40151005, 0.02885879,\n",
              "       0.15768989, 0.95736621, 0.1160189 , 0.07516449, 0.89832736,\n",
              "       0.09245742, 0.52839418, 0.53365066, 0.09370527, 0.43877667,\n",
              "       0.36713641, 0.02670268, 0.08672625, 0.92314865, 0.05925916,\n",
              "       0.04812565, 0.85507289, 0.90573984, 0.92751186, 0.8402811 ,\n",
              "       0.84086247])"
            ]
          },
          "metadata": {},
          "execution_count": 182
        }
      ]
    },
    {
      "cell_type": "code",
      "source": [
        "previsoes_lgbm.shape"
      ],
      "metadata": {
        "id": "eQ-eOobHzgdY",
        "colab": {
          "base_uri": "https://localhost:8080/"
        },
        "outputId": "fa755545-f99a-4ab0-8ccd-265eeae6fa3c"
      },
      "execution_count": 183,
      "outputs": [
        {
          "output_type": "execute_result",
          "data": {
            "text/plain": [
              "(276,)"
            ]
          },
          "metadata": {},
          "execution_count": 183
        }
      ]
    },
    {
      "cell_type": "code",
      "source": [
        "# Quando for menor que 5 considera 0 e quando for maior ou igual a 5 considera 1\n",
        "for i in range(0, 276):\n",
        "    if previsoes_lgbm[i] >= .5:       \n",
        "       previsoes_lgbm[i] = 1\n",
        "    else:  \n",
        "       previsoes_lgbm[i] = 0"
      ],
      "metadata": {
        "id": "bCK5052RyreS"
      },
      "execution_count": 184,
      "outputs": []
    },
    {
      "cell_type": "code",
      "source": [
        "previsoes_lgbm"
      ],
      "metadata": {
        "id": "X3kyhhXJzmtG",
        "colab": {
          "base_uri": "https://localhost:8080/"
        },
        "outputId": "53a1af99-1577-467e-9bcc-703d2c8da590"
      },
      "execution_count": 185,
      "outputs": [
        {
          "output_type": "execute_result",
          "data": {
            "text/plain": [
              "array([1., 1., 1., 0., 0., 0., 0., 0., 0., 0., 1., 1., 1., 1., 0., 1., 1.,\n",
              "       1., 1., 0., 1., 1., 1., 0., 0., 0., 1., 1., 1., 1., 1., 0., 0., 0.,\n",
              "       1., 0., 0., 0., 1., 0., 0., 1., 1., 1., 1., 0., 0., 1., 0., 1., 1.,\n",
              "       0., 0., 0., 1., 0., 0., 0., 1., 0., 1., 1., 1., 0., 1., 1., 1., 0.,\n",
              "       1., 0., 1., 1., 0., 1., 1., 1., 1., 1., 1., 1., 1., 1., 0., 0., 1.,\n",
              "       1., 1., 1., 1., 0., 1., 0., 0., 0., 1., 0., 1., 0., 0., 0., 0., 1.,\n",
              "       1., 1., 0., 1., 0., 0., 0., 1., 1., 1., 1., 1., 0., 1., 0., 1., 1.,\n",
              "       1., 1., 1., 1., 0., 1., 1., 0., 1., 0., 1., 0., 1., 1., 1., 0., 1.,\n",
              "       1., 1., 1., 0., 0., 1., 0., 1., 0., 0., 1., 1., 1., 0., 0., 1., 1.,\n",
              "       0., 1., 0., 1., 1., 1., 0., 1., 1., 1., 0., 1., 0., 1., 0., 1., 0.,\n",
              "       1., 1., 0., 0., 1., 1., 1., 0., 0., 1., 1., 1., 0., 1., 1., 1., 0.,\n",
              "       1., 1., 0., 1., 0., 1., 1., 1., 1., 0., 0., 1., 0., 1., 1., 0., 1.,\n",
              "       1., 0., 0., 0., 1., 0., 1., 1., 0., 1., 0., 0., 1., 0., 1., 1., 1.,\n",
              "       0., 0., 1., 1., 1., 0., 1., 0., 1., 0., 1., 1., 1., 0., 1., 1., 1.,\n",
              "       0., 1., 1., 0., 1., 0., 0., 0., 0., 0., 1., 0., 1., 0., 1., 0., 0.,\n",
              "       0., 1., 0., 0., 1., 0., 1., 1., 0., 0., 0., 0., 0., 1., 0., 0., 1.,\n",
              "       1., 1., 1., 1.])"
            ]
          },
          "metadata": {},
          "execution_count": 185
        }
      ]
    },
    {
      "cell_type": "code",
      "source": [
        "y_teste"
      ],
      "metadata": {
        "id": "wvItoNPgvPFw",
        "colab": {
          "base_uri": "https://localhost:8080/"
        },
        "outputId": "36f4d7d0-9382-4373-d806-8008c6a2414a"
      },
      "execution_count": 186,
      "outputs": [
        {
          "output_type": "execute_result",
          "data": {
            "text/plain": [
              "array([1, 0, 1, 0, 0, 0, 0, 0, 0, 0, 1, 0, 1, 1, 0, 1, 1, 1, 1, 0, 1, 1,\n",
              "       1, 0, 0, 0, 1, 1, 0, 0, 1, 0, 0, 0, 1, 0, 1, 0, 1, 0, 0, 1, 1, 1,\n",
              "       1, 0, 0, 1, 1, 1, 1, 0, 0, 1, 1, 0, 0, 0, 1, 0, 1, 1, 1, 0, 1, 1,\n",
              "       1, 0, 1, 0, 1, 1, 1, 1, 1, 1, 1, 1, 1, 0, 0, 1, 0, 0, 1, 1, 0, 1,\n",
              "       1, 0, 1, 0, 0, 1, 1, 0, 1, 0, 0, 0, 0, 1, 1, 1, 0, 1, 0, 0, 0, 1,\n",
              "       0, 1, 1, 1, 0, 1, 1, 1, 1, 1, 1, 1, 1, 0, 0, 1, 0, 1, 0, 1, 0, 1,\n",
              "       0, 1, 0, 0, 0, 1, 1, 0, 1, 1, 0, 1, 0, 0, 1, 1, 1, 0, 1, 1, 0, 0,\n",
              "       0, 0, 1, 1, 1, 0, 1, 1, 1, 0, 1, 0, 1, 0, 1, 0, 1, 1, 0, 0, 1, 0,\n",
              "       0, 1, 0, 1, 1, 1, 0, 1, 1, 1, 0, 1, 1, 0, 0, 0, 1, 1, 1, 1, 1, 0,\n",
              "       1, 0, 1, 1, 0, 1, 1, 0, 0, 0, 1, 0, 1, 1, 0, 1, 0, 1, 1, 1, 1, 1,\n",
              "       1, 1, 0, 0, 0, 1, 0, 1, 1, 1, 0, 1, 0, 1, 1, 1, 1, 1, 0, 1, 1, 0,\n",
              "       1, 0, 1, 0, 0, 0, 1, 0, 1, 0, 1, 1, 0, 0, 1, 0, 0, 1, 0, 1, 1, 0,\n",
              "       0, 0, 0, 0, 1, 0, 0, 1, 1, 1, 1, 1])"
            ]
          },
          "metadata": {},
          "execution_count": 186
        }
      ]
    },
    {
      "cell_type": "code",
      "source": [
        "from sklearn.metrics import accuracy_score, confusion_matrix, classification_report"
      ],
      "metadata": {
        "id": "7zmmlXg00NgO"
      },
      "execution_count": 187,
      "outputs": []
    },
    {
      "cell_type": "code",
      "source": [
        "print(\"Acurácia: %.2f%%\" % (accuracy_score(y_teste, previsoes_lgbm) * 100.0))"
      ],
      "metadata": {
        "id": "7jtEMCEd0NgP",
        "colab": {
          "base_uri": "https://localhost:8080/"
        },
        "outputId": "969ba188-4b2f-451e-9a73-ad149d8a8fcc"
      },
      "execution_count": 188,
      "outputs": [
        {
          "output_type": "stream",
          "name": "stdout",
          "text": [
            "Acurácia: 86.59%\n"
          ]
        }
      ]
    },
    {
      "cell_type": "code",
      "source": [
        "confusion_matrix(y_teste, previsoes_lgbm)"
      ],
      "metadata": {
        "id": "Vi92nyDd0NgQ",
        "colab": {
          "base_uri": "https://localhost:8080/"
        },
        "outputId": "b8a79ac3-77fd-4b45-dcf9-9d639bc8ac9f"
      },
      "execution_count": 189,
      "outputs": [
        {
          "output_type": "execute_result",
          "data": {
            "text/plain": [
              "array([[101,  20],\n",
              "       [ 17, 138]])"
            ]
          },
          "metadata": {},
          "execution_count": 189
        }
      ]
    },
    {
      "cell_type": "markdown",
      "source": [
        "**Análise dados de treino**"
      ],
      "metadata": {
        "id": "u3pNMaVs0NgR"
      }
    },
    {
      "cell_type": "code",
      "source": [
        "previsoes_treino = lgbm.predict(x_treino)\n",
        "previsoes_treino"
      ],
      "metadata": {
        "id": "fS-C8nIw0NgR",
        "colab": {
          "base_uri": "https://localhost:8080/"
        },
        "outputId": "1b38abc5-a19c-44dc-a32c-0b0108d26339"
      },
      "execution_count": 190,
      "outputs": [
        {
          "output_type": "execute_result",
          "data": {
            "text/plain": [
              "array([0.88638343, 0.52842156, 0.91189888, 0.83478592, 0.70880811,\n",
              "       0.63098357, 0.1498379 , 0.0297601 , 0.07525655, 0.08774975,\n",
              "       0.89563499, 0.06724106, 0.85324934, 0.82700412, 0.9026445 ,\n",
              "       0.01945892, 0.04812565, 0.21495976, 0.29494863, 0.92487901,\n",
              "       0.42039509, 0.72265807, 0.89563499, 0.85252623, 0.78097093,\n",
              "       0.12385587, 0.20439384, 0.83938725, 0.59630082, 0.89113424,\n",
              "       0.93790226, 0.01945892, 0.89041834, 0.9483849 , 0.07305129,\n",
              "       0.24683474, 0.80268561, 0.6272452 , 0.05000536, 0.8563068 ,\n",
              "       0.14998614, 0.90973009, 0.1060992 , 0.09194899, 0.92428626,\n",
              "       0.94357659, 0.12348692, 0.92247342, 0.93517749, 0.84171218,\n",
              "       0.53889463, 0.09203544, 0.8087207 , 0.41250846, 0.92446075,\n",
              "       0.3263534 , 0.87479354, 0.05887726, 0.82109796, 0.09227646,\n",
              "       0.05350113, 0.07341422, 0.52628073, 0.0297601 , 0.91720019,\n",
              "       0.85598706, 0.08866738, 0.6342066 , 0.96734398, 0.02170543,\n",
              "       0.56287245, 0.90443641, 0.95686795, 0.95616584, 0.06174921,\n",
              "       0.04812565, 0.6084159 , 0.94240007, 0.64963977, 0.94523215,\n",
              "       0.762393  , 0.95319616, 0.94288031, 0.93872405, 0.13578759,\n",
              "       0.90567315, 0.90311798, 0.62982398, 0.95544278, 0.94960308,\n",
              "       0.1498379 , 0.61128764, 0.09330336, 0.20117535, 0.89202348,\n",
              "       0.79974134, 0.78097093, 0.87227495, 0.90008849, 0.9329285 ,\n",
              "       0.67917596, 0.72304843, 0.19889807, 0.59317879, 0.91622291,\n",
              "       0.92089728, 0.85048949, 0.1295464 , 0.46901513, 0.91138997,\n",
              "       0.02845075, 0.15181498, 0.91402688, 0.17201162, 0.83478592,\n",
              "       0.1256908 , 0.84474569, 0.07345046, 0.58776142, 0.33070156,\n",
              "       0.09335871, 0.05559369, 0.01945892, 0.77351885, 0.47838039,\n",
              "       0.96734398, 0.47501321, 0.05925916, 0.84944179, 0.85860366,\n",
              "       0.88865639, 0.05559369, 0.59180563, 0.76822776, 0.0297601 ,\n",
              "       0.39390771, 0.53349849, 0.02170543, 0.92281322, 0.87523557,\n",
              "       0.05526626, 0.90739518, 0.63010556, 0.91692076, 0.85382963,\n",
              "       0.86198721, 0.37606603, 0.16571372, 0.36715344, 0.94222819,\n",
              "       0.91937567, 0.18008866, 0.79197406, 0.05579901, 0.89417426,\n",
              "       0.01945892, 0.72265807, 0.90573984, 0.70146466, 0.30988831,\n",
              "       0.93540861, 0.37923082, 0.06793381, 0.05925916, 0.54272765,\n",
              "       0.30684209, 0.89659916, 0.34768209, 0.06793381, 0.08598405,\n",
              "       0.10583397, 0.82895096, 0.70366347, 0.04972275, 0.92129835,\n",
              "       0.35360528, 0.09462181, 0.91012067, 0.85952635, 0.02501529,\n",
              "       0.11925224, 0.05769309, 0.09519222, 0.23134554, 0.06120199,\n",
              "       0.8973941 , 0.92318734, 0.86088505, 0.93921269, 0.74348649,\n",
              "       0.04972275, 0.23776817, 0.89464518, 0.22256202, 0.09227646,\n",
              "       0.66336376, 0.79525878, 0.4197888 , 0.79927201, 0.90443641,\n",
              "       0.21495976, 0.32770771, 0.03215492, 0.76022066, 0.73553831,\n",
              "       0.58938247, 0.67464561, 0.82914752, 0.47550711, 0.15712462,\n",
              "       0.66830565, 0.25138388, 0.92057723, 0.95977491, 0.83710907,\n",
              "       0.64693193, 0.85186203, 0.23134554, 0.1242213 , 0.91668514,\n",
              "       0.77401975, 0.29382978, 0.21924283, 0.8578893 , 0.65336343,\n",
              "       0.59587769, 0.908584  , 0.73781029, 0.77802081, 0.9227631 ,\n",
              "       0.84374003, 0.93383795, 0.19207621, 0.93790226, 0.85188572,\n",
              "       0.08213984, 0.89464518, 0.07166802, 0.88478848, 0.06702136,\n",
              "       0.95139266, 0.07054879, 0.78588641, 0.72946003, 0.29132209,\n",
              "       0.68961941, 0.67072945, 0.90289038, 0.92327613, 0.73075989,\n",
              "       0.6793556 , 0.92584316, 0.01945892, 0.04890138, 0.06120199,\n",
              "       0.05925916, 0.08749939, 0.07248068, 0.29510825, 0.12322079,\n",
              "       0.5332852 , 0.40394512, 0.96454394, 0.52873411, 0.91905676,\n",
              "       0.30646723, 0.93872405, 0.38170457, 0.93383795, 0.12977166,\n",
              "       0.83895499, 0.89850502, 0.13147085, 0.46141823, 0.16954822,\n",
              "       0.88979288, 0.80704825, 0.40194732, 0.0661546 , 0.09947724,\n",
              "       0.90435724, 0.25991593, 0.04812565, 0.04812565, 0.78938736,\n",
              "       0.90918916, 0.58167933, 0.81559853, 0.89642561, 0.91586938,\n",
              "       0.84001399, 0.02885879, 0.93415717, 0.92363689, 0.33644335,\n",
              "       0.61413249, 0.09519222, 0.64214104, 0.13721158, 0.94286118,\n",
              "       0.88849809, 0.10678119, 0.06782736, 0.84649827, 0.0544945 ,\n",
              "       0.5042233 , 0.52615042, 0.79334787, 0.92690155, 0.09824637,\n",
              "       0.91905676, 0.05559369, 0.6491808 , 0.32692353, 0.941944  ,\n",
              "       0.05350113, 0.86505457, 0.44825968, 0.82588152, 0.24730331,\n",
              "       0.81122893, 0.89920981, 0.91437203, 0.80468173, 0.42947433,\n",
              "       0.96323891, 0.8756469 , 0.79919604, 0.64443766, 0.15979222,\n",
              "       0.07059704, 0.0945968 , 0.94831375, 0.1242213 , 0.02244642,\n",
              "       0.20117535, 0.77967768, 0.94826294, 0.13975901, 0.75839802,\n",
              "       0.92482104, 0.85294168, 0.90069976, 0.94203881, 0.93526717,\n",
              "       0.48642012, 0.93569247, 0.87875853, 0.05988495, 0.80941429,\n",
              "       0.21680056, 0.9630976 , 0.10205471, 0.09227646, 0.06248862,\n",
              "       0.63868358, 0.03946092, 0.55356836, 0.85509151, 0.81704812,\n",
              "       0.32692353, 0.67235463, 0.26479261, 0.90338133, 0.84787237,\n",
              "       0.09961829, 0.04812565, 0.04812565, 0.05350113, 0.03215492,\n",
              "       0.84944179, 0.66515273, 0.41557584, 0.85020926, 0.26492501,\n",
              "       0.93415595, 0.85429542, 0.90240304, 0.36660051, 0.63922418,\n",
              "       0.94080705, 0.91787809, 0.01945892, 0.92446093, 0.10583397,\n",
              "       0.94962885, 0.26708115, 0.08872337, 0.51493105, 0.9049491 ,\n",
              "       0.04396659, 0.4690093 , 0.80986443, 0.61743722, 0.85307002,\n",
              "       0.9268692 , 0.09104768, 0.13044054, 0.42147812, 0.87295914,\n",
              "       0.90204759, 0.96918094, 0.77532908, 0.11925224, 0.94134921,\n",
              "       0.49947007, 0.88562085, 0.83589619, 0.53668474, 0.09046779,\n",
              "       0.41247482, 0.61011895, 0.06579226, 0.82824942, 0.87875853,\n",
              "       0.82109796, 0.10541533, 0.31898256, 0.19796281, 0.89299185,\n",
              "       0.9077556 , 0.36960729, 0.14551752, 0.88652622, 0.77760899,\n",
              "       0.3263534 , 0.73851757, 0.55300998, 0.05052286, 0.06532987,\n",
              "       0.05925916, 0.90303499, 0.89556363, 0.52035449, 0.93188249,\n",
              "       0.96082918, 0.92021325, 0.72370216, 0.91437203, 0.84693453,\n",
              "       0.0832019 , 0.30823044, 0.92333019, 0.93921932, 0.450501  ,\n",
              "       0.93540861, 0.05350113, 0.8973941 , 0.12732974, 0.05819818,\n",
              "       0.88417302, 0.09227646, 0.8142758 , 0.89388938, 0.81477663,\n",
              "       0.85867175, 0.06120199, 0.05925916, 0.2333099 , 0.94459062,\n",
              "       0.09227646, 0.91704389, 0.72374188, 0.82359058, 0.86326859,\n",
              "       0.89605571, 0.91080362, 0.20170775, 0.92395527, 0.47834047,\n",
              "       0.8280414 , 0.91905676, 0.94655068, 0.88046206, 0.55651188,\n",
              "       0.93643316, 0.92235929, 0.29574179, 0.06579226, 0.03946092,\n",
              "       0.68067643, 0.26896951, 0.14439393, 0.23012566, 0.0676108 ,\n",
              "       0.12045349, 0.89128835, 0.09211613, 0.95139266, 0.71322525,\n",
              "       0.44465109, 0.14237751, 0.10912663, 0.92986235, 0.83701797,\n",
              "       0.13578759, 0.66986905, 0.9483849 , 0.88757261, 0.10524362,\n",
              "       0.95879303, 0.96120284, 0.04812565, 0.38021485, 0.7291293 ,\n",
              "       0.9153971 , 0.90315284, 0.8073461 , 0.05350113, 0.06152798,\n",
              "       0.86264381, 0.76249981, 0.58889451, 0.9402543 , 0.21495976,\n",
              "       0.92025024, 0.09519222, 0.11325017, 0.78949   , 0.11827404,\n",
              "       0.9409668 , 0.67669068, 0.77693379, 0.6844791 , 0.06579226,\n",
              "       0.93763766, 0.86923107, 0.0676108 , 0.87722286, 0.21495976,\n",
              "       0.85344021, 0.05648265, 0.9352746 , 0.09519222, 0.88857841,\n",
              "       0.09227646, 0.71302475, 0.08504723, 0.93628384, 0.65134512,\n",
              "       0.05379967, 0.91905676, 0.76664935, 0.75556523, 0.85344021,\n",
              "       0.16437079, 0.23858778, 0.90154235, 0.84344991, 0.13876762,\n",
              "       0.05526626, 0.55389719, 0.93415595, 0.02670268, 0.91069671,\n",
              "       0.15325137, 0.85688778, 0.88824729, 0.78007035, 0.30646723,\n",
              "       0.83478592, 0.92845322, 0.5921591 , 0.44570839, 0.0620767 ,\n",
              "       0.64760086, 0.94476975, 0.06120199, 0.43877667, 0.94938919,\n",
              "       0.09519222, 0.90739518, 0.8973941 , 0.79878663, 0.07578351,\n",
              "       0.41052948, 0.92646219, 0.14640988, 0.04396659, 0.60607172,\n",
              "       0.02501529, 0.58498094, 0.08816938, 0.77281248, 0.95616584,\n",
              "       0.96804092, 0.74268344, 0.11361123, 0.91597987, 0.16459712,\n",
              "       0.26029898, 0.30045458, 0.05665845, 0.46852344, 0.11353705,\n",
              "       0.0805798 , 0.79491929, 0.04396659, 0.10817793, 0.63207428,\n",
              "       0.04999085, 0.13044054, 0.09227646, 0.14768879, 0.91738494,\n",
              "       0.26492501, 0.50664465, 0.89510994, 0.38170457, 0.69822013,\n",
              "       0.90882622, 0.82162736, 0.79118955, 0.93520066, 0.05995836,\n",
              "       0.83107303, 0.91893745, 0.90111655, 0.38988342, 0.89721922,\n",
              "       0.89563499, 0.26026411, 0.82520606, 0.54372929, 0.88079345,\n",
              "       0.90389875, 0.76981237, 0.87227495, 0.3277428 , 0.84168858,\n",
              "       0.8686291 , 0.23522063, 0.06537118, 0.83296263, 0.89348016,\n",
              "       0.15736089, 0.9069602 , 0.10205471, 0.545027  , 0.0661546 ,\n",
              "       0.89202348])"
            ]
          },
          "metadata": {},
          "execution_count": 190
        }
      ]
    },
    {
      "cell_type": "code",
      "source": [
        "previsoes_treino.shape"
      ],
      "metadata": {
        "id": "5ZTvZKs51umQ",
        "colab": {
          "base_uri": "https://localhost:8080/"
        },
        "outputId": "b9e394de-6586-4b8e-b0d8-5008cfe899d1"
      },
      "execution_count": 191,
      "outputs": [
        {
          "output_type": "execute_result",
          "data": {
            "text/plain": [
              "(641,)"
            ]
          },
          "metadata": {},
          "execution_count": 191
        }
      ]
    },
    {
      "cell_type": "code",
      "source": [
        "# Quando for menor que 5 considera 0 e quando for maior ou igual a 5 considera 1\n",
        "for i in range(0, 641):\n",
        "    if previsoes_treino[i] >= .5:       \n",
        "       previsoes_treino[i] = 1\n",
        "    else:  \n",
        "       previsoes_treino[i] = 0"
      ],
      "metadata": {
        "id": "y_Xb-SEN1bNL"
      },
      "execution_count": 192,
      "outputs": []
    },
    {
      "cell_type": "code",
      "source": [
        "previsoes_treino"
      ],
      "metadata": {
        "id": "ENkdM8Jd1oCJ",
        "colab": {
          "base_uri": "https://localhost:8080/"
        },
        "outputId": "c8f618be-57f3-443c-ffcb-764801840458"
      },
      "execution_count": 193,
      "outputs": [
        {
          "output_type": "execute_result",
          "data": {
            "text/plain": [
              "array([1., 1., 1., 1., 1., 1., 0., 0., 0., 0., 1., 0., 1., 1., 1., 0., 0.,\n",
              "       0., 0., 1., 0., 1., 1., 1., 1., 0., 0., 1., 1., 1., 1., 0., 1., 1.,\n",
              "       0., 0., 1., 1., 0., 1., 0., 1., 0., 0., 1., 1., 0., 1., 1., 1., 1.,\n",
              "       0., 1., 0., 1., 0., 1., 0., 1., 0., 0., 0., 1., 0., 1., 1., 0., 1.,\n",
              "       1., 0., 1., 1., 1., 1., 0., 0., 1., 1., 1., 1., 1., 1., 1., 1., 0.,\n",
              "       1., 1., 1., 1., 1., 0., 1., 0., 0., 1., 1., 1., 1., 1., 1., 1., 1.,\n",
              "       0., 1., 1., 1., 1., 0., 0., 1., 0., 0., 1., 0., 1., 0., 1., 0., 1.,\n",
              "       0., 0., 0., 0., 1., 0., 1., 0., 0., 1., 1., 1., 0., 1., 1., 0., 0.,\n",
              "       1., 0., 1., 1., 0., 1., 1., 1., 1., 1., 0., 0., 0., 1., 1., 0., 1.,\n",
              "       0., 1., 0., 1., 1., 1., 0., 1., 0., 0., 0., 1., 0., 1., 0., 0., 0.,\n",
              "       0., 1., 1., 0., 1., 0., 0., 1., 1., 0., 0., 0., 0., 0., 0., 1., 1.,\n",
              "       1., 1., 1., 0., 0., 1., 0., 0., 1., 1., 0., 1., 1., 0., 0., 0., 1.,\n",
              "       1., 1., 1., 1., 0., 0., 1., 0., 1., 1., 1., 1., 1., 0., 0., 1., 1.,\n",
              "       0., 0., 1., 1., 1., 1., 1., 1., 1., 1., 1., 0., 1., 1., 0., 1., 0.,\n",
              "       1., 0., 1., 0., 1., 1., 0., 1., 1., 1., 1., 1., 1., 1., 0., 0., 0.,\n",
              "       0., 0., 0., 0., 0., 1., 0., 1., 1., 1., 0., 1., 0., 1., 0., 1., 1.,\n",
              "       0., 0., 0., 1., 1., 0., 0., 0., 1., 0., 0., 0., 1., 1., 1., 1., 1.,\n",
              "       1., 1., 0., 1., 1., 0., 1., 0., 1., 0., 1., 1., 0., 0., 1., 0., 1.,\n",
              "       1., 1., 1., 0., 1., 0., 1., 0., 1., 0., 1., 0., 1., 0., 1., 1., 1.,\n",
              "       1., 0., 1., 1., 1., 1., 0., 0., 0., 1., 0., 0., 0., 1., 1., 0., 1.,\n",
              "       1., 1., 1., 1., 1., 0., 1., 1., 0., 1., 0., 1., 0., 0., 0., 1., 0.,\n",
              "       1., 1., 1., 0., 1., 0., 1., 1., 0., 0., 0., 0., 0., 1., 1., 0., 1.,\n",
              "       0., 1., 1., 1., 0., 1., 1., 1., 0., 1., 0., 1., 0., 0., 1., 1., 0.,\n",
              "       0., 1., 1., 1., 1., 0., 0., 0., 1., 1., 1., 1., 0., 1., 0., 1., 1.,\n",
              "       1., 0., 0., 1., 0., 1., 1., 1., 0., 0., 0., 1., 1., 0., 0., 1., 1.,\n",
              "       0., 1., 1., 0., 0., 0., 1., 1., 1., 1., 1., 1., 1., 1., 1., 0., 0.,\n",
              "       1., 1., 0., 1., 0., 1., 0., 0., 1., 0., 1., 1., 1., 1., 0., 0., 0.,\n",
              "       1., 0., 1., 1., 1., 1., 1., 1., 0., 1., 0., 1., 1., 1., 1., 1., 1.,\n",
              "       1., 0., 0., 0., 1., 0., 0., 0., 0., 0., 1., 0., 1., 1., 0., 0., 0.,\n",
              "       1., 1., 0., 1., 1., 1., 0., 1., 1., 0., 0., 1., 1., 1., 1., 0., 0.,\n",
              "       1., 1., 1., 1., 0., 1., 0., 0., 1., 0., 1., 1., 1., 1., 0., 1., 1.,\n",
              "       0., 1., 0., 1., 0., 1., 0., 1., 0., 1., 0., 1., 1., 0., 1., 1., 1.,\n",
              "       1., 0., 0., 1., 1., 0., 0., 1., 1., 0., 1., 0., 1., 1., 1., 0., 1.,\n",
              "       1., 1., 0., 0., 1., 1., 0., 0., 1., 0., 1., 1., 1., 0., 0., 1., 0.,\n",
              "       0., 1., 0., 1., 0., 1., 1., 1., 1., 0., 1., 0., 0., 0., 0., 0., 0.,\n",
              "       0., 1., 0., 0., 1., 0., 0., 0., 0., 1., 0., 1., 1., 0., 1., 1., 1.,\n",
              "       1., 1., 0., 1., 1., 1., 0., 1., 1., 0., 1., 1., 1., 1., 1., 1., 0.,\n",
              "       1., 1., 0., 0., 1., 1., 0., 1., 0., 1., 0., 1.])"
            ]
          },
          "metadata": {},
          "execution_count": 193
        }
      ]
    },
    {
      "cell_type": "code",
      "source": [
        "accuracy_score(y_treino, previsoes_treino)"
      ],
      "metadata": {
        "id": "NKAIaTGF0NgS",
        "colab": {
          "base_uri": "https://localhost:8080/"
        },
        "outputId": "9e03b017-d79f-483c-e1d1-7a590197118c"
      },
      "execution_count": 194,
      "outputs": [
        {
          "output_type": "execute_result",
          "data": {
            "text/plain": [
              "0.8939157566302652"
            ]
          },
          "metadata": {},
          "execution_count": 194
        }
      ]
    },
    {
      "cell_type": "code",
      "source": [
        "confusion_matrix(y_treino, previsoes_treino)"
      ],
      "metadata": {
        "id": "dDOEsI4W0NgT",
        "colab": {
          "base_uri": "https://localhost:8080/"
        },
        "outputId": "ef105807-f118-4eb7-9720-ba916698896a"
      },
      "execution_count": 195,
      "outputs": [
        {
          "output_type": "execute_result",
          "data": {
            "text/plain": [
              "array([[245,  44],\n",
              "       [ 24, 328]])"
            ]
          },
          "metadata": {},
          "execution_count": 195
        }
      ]
    },
    {
      "cell_type": "markdown",
      "source": [
        "### **Validação Cruzada**"
      ],
      "metadata": {
        "id": "3hEGp61Q0NgT"
      }
    },
    {
      "cell_type": "code",
      "source": [
        "from sklearn.model_selection import KFold\n",
        "from sklearn.model_selection import cross_val_score"
      ],
      "metadata": {
        "id": "RwR3Salk0NgT"
      },
      "execution_count": 196,
      "outputs": []
    },
    {
      "cell_type": "code",
      "source": [
        "# Separando os dados em folds\n",
        "kfold = KFold(n_splits = 30, shuffle=True, random_state = 5)"
      ],
      "metadata": {
        "id": "8Xnl-F4XSNTJ"
      },
      "execution_count": 197,
      "outputs": []
    },
    {
      "cell_type": "code",
      "source": [
        "# Criando o modelo\n",
        "modelo = lgb.LGBMClassifier(num_leaves = 250, objective = 'binary',     \n",
        "                            max_depth = 2, learning_rate = .05, max_bin =100)\n",
        "resultado = cross_val_score(modelo, previsores, alvo, cv = kfold)\n",
        "\n",
        "# Usamos a média e o desvio padrão\n",
        "print(\"Acurácia Média: %.2f%%\" % (resultado.mean() * 100.0))"
      ],
      "metadata": {
        "id": "Qq7iUdMxSNTL",
        "colab": {
          "base_uri": "https://localhost:8080/"
        },
        "outputId": "523304fe-973f-410e-bfc0-2a96e80458d9"
      },
      "execution_count": 198,
      "outputs": [
        {
          "output_type": "stream",
          "name": "stdout",
          "text": [
            "Acurácia Média: 85.93%\n"
          ]
        }
      ]
    },
    {
      "cell_type": "markdown",
      "source": [
        "Naive Bayes = 84,78% (treino e teste) - 234 acertos e 85,17% (validação cruzada) : previsores3_esc\n",
        "\n",
        "SVM = 86,23% - 238 acertos e 85,72% (validação cruzada) : previsores3-esc - SVC(kernel='rbf', random_state=1, C = 2)\n",
        "\n",
        "Regressão logística = 86,23% - 238 acertos e 85,83% (validação cruzada) : previsores3_esc - LogisticRegression(random_state=1, max_iter=600, penalty=\"l2\", tol=0.0001, C=1,solver=\"lbfgs\")\n",
        "\n",
        "KNN = 84,06% - 232 acertos e 85,84% (validação cruzada) : previsores3_esc ou previsores_esc - KNeighborsClassifier(n_neighbors=7, metric='minkowski', p = 1)\n",
        "\n",
        "Árvore de decisão = 83,7% (treino e teste) - 231 acertos e 83,32% (validação cruzada): previsores3_esc - DecisionTreeClassifier(criterion='entropy', random_state = 0, max_depth=3)\n",
        "\n",
        "Random Forest = 86,59% - 239 acertos e 85,92% (validação cruzada) : previsores - RandomForestClassifier(n_estimators=150, criterion='entropy', random_state = 0, max_depth=4)\n",
        "\n",
        "XGboost = 87,68% - 242 acertos e 87,13% (validação cruzada) : previsores - XGBClassifier(max_depth=2, learning_rate=0.05, n_estimators=250, objective='binary:logistic', random_state=3)\n",
        "\n",
        "LightGBM = 86,23% (treino e teste)- 238 acertos e 85,93% (validação cruzada) : previsores - lgb.LGBMClassifier(num_leaves = 250, objective = 'binary',  max_depth = 2, learning_rate = .05, max_bin =100)"
      ],
      "metadata": {
        "id": "W6ADUoMW0NgV"
      }
    },
    {
      "cell_type": "markdown",
      "source": [
        "# **CATBOOST**"
      ],
      "metadata": {
        "id": "yKpYGEuWUChU"
      }
    },
    {
      "cell_type": "markdown",
      "source": [
        "https://catboost.ai/en/docs/"
      ],
      "metadata": {
        "id": "LMqQ_NMTUChV"
      }
    },
    {
      "cell_type": "code",
      "source": [
        "#Instalação\n",
        "!pip install catboost"
      ],
      "metadata": {
        "id": "Vkt7hfJVUChV",
        "colab": {
          "base_uri": "https://localhost:8080/"
        },
        "outputId": "bddf783e-6619-426a-ffb9-bf5a329ecbe4"
      },
      "execution_count": 199,
      "outputs": [
        {
          "output_type": "stream",
          "name": "stdout",
          "text": [
            "Looking in indexes: https://pypi.org/simple, https://us-python.pkg.dev/colab-wheels/public/simple/\n",
            "Collecting catboost\n",
            "  Downloading catboost-1.1.1-cp37-none-manylinux1_x86_64.whl (76.6 MB)\n",
            "\u001b[K     |████████████████████████████████| 76.6 MB 1.3 MB/s \n",
            "\u001b[?25hRequirement already satisfied: scipy in /usr/local/lib/python3.7/dist-packages (from catboost) (1.7.3)\n",
            "Requirement already satisfied: matplotlib in /usr/local/lib/python3.7/dist-packages (from catboost) (3.2.2)\n",
            "Requirement already satisfied: graphviz in /usr/local/lib/python3.7/dist-packages (from catboost) (0.10.1)\n",
            "Requirement already satisfied: numpy>=1.16.0 in /usr/local/lib/python3.7/dist-packages (from catboost) (1.21.6)\n",
            "Requirement already satisfied: six in /usr/local/lib/python3.7/dist-packages (from catboost) (1.15.0)\n",
            "Requirement already satisfied: pandas>=0.24.0 in /usr/local/lib/python3.7/dist-packages (from catboost) (1.3.5)\n",
            "Requirement already satisfied: plotly in /usr/local/lib/python3.7/dist-packages (from catboost) (5.5.0)\n",
            "Requirement already satisfied: python-dateutil>=2.7.3 in /usr/local/lib/python3.7/dist-packages (from pandas>=0.24.0->catboost) (2.8.2)\n",
            "Requirement already satisfied: pytz>=2017.3 in /usr/local/lib/python3.7/dist-packages (from pandas>=0.24.0->catboost) (2022.6)\n",
            "Requirement already satisfied: cycler>=0.10 in /usr/local/lib/python3.7/dist-packages (from matplotlib->catboost) (0.11.0)\n",
            "Requirement already satisfied: pyparsing!=2.0.4,!=2.1.2,!=2.1.6,>=2.0.1 in /usr/local/lib/python3.7/dist-packages (from matplotlib->catboost) (3.0.9)\n",
            "Requirement already satisfied: kiwisolver>=1.0.1 in /usr/local/lib/python3.7/dist-packages (from matplotlib->catboost) (1.4.4)\n",
            "Requirement already satisfied: typing-extensions in /usr/local/lib/python3.7/dist-packages (from kiwisolver>=1.0.1->matplotlib->catboost) (4.1.1)\n",
            "Requirement already satisfied: tenacity>=6.2.0 in /usr/local/lib/python3.7/dist-packages (from plotly->catboost) (8.1.0)\n",
            "Installing collected packages: catboost\n",
            "Successfully installed catboost-1.1.1\n"
          ]
        }
      ]
    },
    {
      "cell_type": "code",
      "source": [
        "from catboost import CatBoostClassifier"
      ],
      "metadata": {
        "id": "kisDuh-RUChW"
      },
      "execution_count": 200,
      "outputs": []
    },
    {
      "cell_type": "code",
      "source": [
        "df"
      ],
      "metadata": {
        "id": "fochAJydUChX",
        "colab": {
          "base_uri": "https://localhost:8080/",
          "height": 424
        },
        "outputId": "a0bcc360-405a-43a6-c67b-58ac1c4f83d3"
      },
      "execution_count": 201,
      "outputs": [
        {
          "output_type": "execute_result",
          "data": {
            "text/plain": [
              "     Age Sex ChestPainType  RestingBP  Cholesterol  FastingBS RestingECG  \\\n",
              "0     40   M           ATA        140        289.0          0     Normal   \n",
              "1     49   F           NAP        160        180.0          0     Normal   \n",
              "2     37   M           ATA        130        283.0          0         ST   \n",
              "3     48   F           ASY        138        214.0          0     Normal   \n",
              "4     54   M           NAP        150        195.0          0     Normal   \n",
              "..   ...  ..           ...        ...          ...        ...        ...   \n",
              "912   45   M            TA        110        264.0          0     Normal   \n",
              "913   68   M           ASY        144        193.0          1     Normal   \n",
              "914   57   M           ASY        130        131.0          0     Normal   \n",
              "915   57   F           ATA        130        236.0          0        LVH   \n",
              "916   38   M           NAP        138        175.0          0     Normal   \n",
              "\n",
              "     MaxHR ExerciseAngina  Oldpeak ST_Slope  HeartDisease  \n",
              "0      172              N      0.0       Up             0  \n",
              "1      156              N      1.0     Flat             1  \n",
              "2       98              N      0.0       Up             0  \n",
              "3      108              Y      1.5     Flat             1  \n",
              "4      122              N      0.0       Up             0  \n",
              "..     ...            ...      ...      ...           ...  \n",
              "912    132              N      1.2     Flat             1  \n",
              "913    141              N      3.4     Flat             1  \n",
              "914    115              Y      1.2     Flat             1  \n",
              "915    174              N      0.0     Flat             1  \n",
              "916    173              N      0.0       Up             0  \n",
              "\n",
              "[917 rows x 12 columns]"
            ],
            "text/html": [
              "\n",
              "  <div id=\"df-0fa7ef58-4eb2-4b4b-b939-10df6dc897e2\">\n",
              "    <div class=\"colab-df-container\">\n",
              "      <div>\n",
              "<style scoped>\n",
              "    .dataframe tbody tr th:only-of-type {\n",
              "        vertical-align: middle;\n",
              "    }\n",
              "\n",
              "    .dataframe tbody tr th {\n",
              "        vertical-align: top;\n",
              "    }\n",
              "\n",
              "    .dataframe thead th {\n",
              "        text-align: right;\n",
              "    }\n",
              "</style>\n",
              "<table border=\"1\" class=\"dataframe\">\n",
              "  <thead>\n",
              "    <tr style=\"text-align: right;\">\n",
              "      <th></th>\n",
              "      <th>Age</th>\n",
              "      <th>Sex</th>\n",
              "      <th>ChestPainType</th>\n",
              "      <th>RestingBP</th>\n",
              "      <th>Cholesterol</th>\n",
              "      <th>FastingBS</th>\n",
              "      <th>RestingECG</th>\n",
              "      <th>MaxHR</th>\n",
              "      <th>ExerciseAngina</th>\n",
              "      <th>Oldpeak</th>\n",
              "      <th>ST_Slope</th>\n",
              "      <th>HeartDisease</th>\n",
              "    </tr>\n",
              "  </thead>\n",
              "  <tbody>\n",
              "    <tr>\n",
              "      <th>0</th>\n",
              "      <td>40</td>\n",
              "      <td>M</td>\n",
              "      <td>ATA</td>\n",
              "      <td>140</td>\n",
              "      <td>289.0</td>\n",
              "      <td>0</td>\n",
              "      <td>Normal</td>\n",
              "      <td>172</td>\n",
              "      <td>N</td>\n",
              "      <td>0.0</td>\n",
              "      <td>Up</td>\n",
              "      <td>0</td>\n",
              "    </tr>\n",
              "    <tr>\n",
              "      <th>1</th>\n",
              "      <td>49</td>\n",
              "      <td>F</td>\n",
              "      <td>NAP</td>\n",
              "      <td>160</td>\n",
              "      <td>180.0</td>\n",
              "      <td>0</td>\n",
              "      <td>Normal</td>\n",
              "      <td>156</td>\n",
              "      <td>N</td>\n",
              "      <td>1.0</td>\n",
              "      <td>Flat</td>\n",
              "      <td>1</td>\n",
              "    </tr>\n",
              "    <tr>\n",
              "      <th>2</th>\n",
              "      <td>37</td>\n",
              "      <td>M</td>\n",
              "      <td>ATA</td>\n",
              "      <td>130</td>\n",
              "      <td>283.0</td>\n",
              "      <td>0</td>\n",
              "      <td>ST</td>\n",
              "      <td>98</td>\n",
              "      <td>N</td>\n",
              "      <td>0.0</td>\n",
              "      <td>Up</td>\n",
              "      <td>0</td>\n",
              "    </tr>\n",
              "    <tr>\n",
              "      <th>3</th>\n",
              "      <td>48</td>\n",
              "      <td>F</td>\n",
              "      <td>ASY</td>\n",
              "      <td>138</td>\n",
              "      <td>214.0</td>\n",
              "      <td>0</td>\n",
              "      <td>Normal</td>\n",
              "      <td>108</td>\n",
              "      <td>Y</td>\n",
              "      <td>1.5</td>\n",
              "      <td>Flat</td>\n",
              "      <td>1</td>\n",
              "    </tr>\n",
              "    <tr>\n",
              "      <th>4</th>\n",
              "      <td>54</td>\n",
              "      <td>M</td>\n",
              "      <td>NAP</td>\n",
              "      <td>150</td>\n",
              "      <td>195.0</td>\n",
              "      <td>0</td>\n",
              "      <td>Normal</td>\n",
              "      <td>122</td>\n",
              "      <td>N</td>\n",
              "      <td>0.0</td>\n",
              "      <td>Up</td>\n",
              "      <td>0</td>\n",
              "    </tr>\n",
              "    <tr>\n",
              "      <th>...</th>\n",
              "      <td>...</td>\n",
              "      <td>...</td>\n",
              "      <td>...</td>\n",
              "      <td>...</td>\n",
              "      <td>...</td>\n",
              "      <td>...</td>\n",
              "      <td>...</td>\n",
              "      <td>...</td>\n",
              "      <td>...</td>\n",
              "      <td>...</td>\n",
              "      <td>...</td>\n",
              "      <td>...</td>\n",
              "    </tr>\n",
              "    <tr>\n",
              "      <th>912</th>\n",
              "      <td>45</td>\n",
              "      <td>M</td>\n",
              "      <td>TA</td>\n",
              "      <td>110</td>\n",
              "      <td>264.0</td>\n",
              "      <td>0</td>\n",
              "      <td>Normal</td>\n",
              "      <td>132</td>\n",
              "      <td>N</td>\n",
              "      <td>1.2</td>\n",
              "      <td>Flat</td>\n",
              "      <td>1</td>\n",
              "    </tr>\n",
              "    <tr>\n",
              "      <th>913</th>\n",
              "      <td>68</td>\n",
              "      <td>M</td>\n",
              "      <td>ASY</td>\n",
              "      <td>144</td>\n",
              "      <td>193.0</td>\n",
              "      <td>1</td>\n",
              "      <td>Normal</td>\n",
              "      <td>141</td>\n",
              "      <td>N</td>\n",
              "      <td>3.4</td>\n",
              "      <td>Flat</td>\n",
              "      <td>1</td>\n",
              "    </tr>\n",
              "    <tr>\n",
              "      <th>914</th>\n",
              "      <td>57</td>\n",
              "      <td>M</td>\n",
              "      <td>ASY</td>\n",
              "      <td>130</td>\n",
              "      <td>131.0</td>\n",
              "      <td>0</td>\n",
              "      <td>Normal</td>\n",
              "      <td>115</td>\n",
              "      <td>Y</td>\n",
              "      <td>1.2</td>\n",
              "      <td>Flat</td>\n",
              "      <td>1</td>\n",
              "    </tr>\n",
              "    <tr>\n",
              "      <th>915</th>\n",
              "      <td>57</td>\n",
              "      <td>F</td>\n",
              "      <td>ATA</td>\n",
              "      <td>130</td>\n",
              "      <td>236.0</td>\n",
              "      <td>0</td>\n",
              "      <td>LVH</td>\n",
              "      <td>174</td>\n",
              "      <td>N</td>\n",
              "      <td>0.0</td>\n",
              "      <td>Flat</td>\n",
              "      <td>1</td>\n",
              "    </tr>\n",
              "    <tr>\n",
              "      <th>916</th>\n",
              "      <td>38</td>\n",
              "      <td>M</td>\n",
              "      <td>NAP</td>\n",
              "      <td>138</td>\n",
              "      <td>175.0</td>\n",
              "      <td>0</td>\n",
              "      <td>Normal</td>\n",
              "      <td>173</td>\n",
              "      <td>N</td>\n",
              "      <td>0.0</td>\n",
              "      <td>Up</td>\n",
              "      <td>0</td>\n",
              "    </tr>\n",
              "  </tbody>\n",
              "</table>\n",
              "<p>917 rows × 12 columns</p>\n",
              "</div>\n",
              "      <button class=\"colab-df-convert\" onclick=\"convertToInteractive('df-0fa7ef58-4eb2-4b4b-b939-10df6dc897e2')\"\n",
              "              title=\"Convert this dataframe to an interactive table.\"\n",
              "              style=\"display:none;\">\n",
              "        \n",
              "  <svg xmlns=\"http://www.w3.org/2000/svg\" height=\"24px\"viewBox=\"0 0 24 24\"\n",
              "       width=\"24px\">\n",
              "    <path d=\"M0 0h24v24H0V0z\" fill=\"none\"/>\n",
              "    <path d=\"M18.56 5.44l.94 2.06.94-2.06 2.06-.94-2.06-.94-.94-2.06-.94 2.06-2.06.94zm-11 1L8.5 8.5l.94-2.06 2.06-.94-2.06-.94L8.5 2.5l-.94 2.06-2.06.94zm10 10l.94 2.06.94-2.06 2.06-.94-2.06-.94-.94-2.06-.94 2.06-2.06.94z\"/><path d=\"M17.41 7.96l-1.37-1.37c-.4-.4-.92-.59-1.43-.59-.52 0-1.04.2-1.43.59L10.3 9.45l-7.72 7.72c-.78.78-.78 2.05 0 2.83L4 21.41c.39.39.9.59 1.41.59.51 0 1.02-.2 1.41-.59l7.78-7.78 2.81-2.81c.8-.78.8-2.07 0-2.86zM5.41 20L4 18.59l7.72-7.72 1.47 1.35L5.41 20z\"/>\n",
              "  </svg>\n",
              "      </button>\n",
              "      \n",
              "  <style>\n",
              "    .colab-df-container {\n",
              "      display:flex;\n",
              "      flex-wrap:wrap;\n",
              "      gap: 12px;\n",
              "    }\n",
              "\n",
              "    .colab-df-convert {\n",
              "      background-color: #E8F0FE;\n",
              "      border: none;\n",
              "      border-radius: 50%;\n",
              "      cursor: pointer;\n",
              "      display: none;\n",
              "      fill: #1967D2;\n",
              "      height: 32px;\n",
              "      padding: 0 0 0 0;\n",
              "      width: 32px;\n",
              "    }\n",
              "\n",
              "    .colab-df-convert:hover {\n",
              "      background-color: #E2EBFA;\n",
              "      box-shadow: 0px 1px 2px rgba(60, 64, 67, 0.3), 0px 1px 3px 1px rgba(60, 64, 67, 0.15);\n",
              "      fill: #174EA6;\n",
              "    }\n",
              "\n",
              "    [theme=dark] .colab-df-convert {\n",
              "      background-color: #3B4455;\n",
              "      fill: #D2E3FC;\n",
              "    }\n",
              "\n",
              "    [theme=dark] .colab-df-convert:hover {\n",
              "      background-color: #434B5C;\n",
              "      box-shadow: 0px 1px 3px 1px rgba(0, 0, 0, 0.15);\n",
              "      filter: drop-shadow(0px 1px 2px rgba(0, 0, 0, 0.3));\n",
              "      fill: #FFFFFF;\n",
              "    }\n",
              "  </style>\n",
              "\n",
              "      <script>\n",
              "        const buttonEl =\n",
              "          document.querySelector('#df-0fa7ef58-4eb2-4b4b-b939-10df6dc897e2 button.colab-df-convert');\n",
              "        buttonEl.style.display =\n",
              "          google.colab.kernel.accessAllowed ? 'block' : 'none';\n",
              "\n",
              "        async function convertToInteractive(key) {\n",
              "          const element = document.querySelector('#df-0fa7ef58-4eb2-4b4b-b939-10df6dc897e2');\n",
              "          const dataTable =\n",
              "            await google.colab.kernel.invokeFunction('convertToInteractive',\n",
              "                                                     [key], {});\n",
              "          if (!dataTable) return;\n",
              "\n",
              "          const docLinkHtml = 'Like what you see? Visit the ' +\n",
              "            '<a target=\"_blank\" href=https://colab.research.google.com/notebooks/data_table.ipynb>data table notebook</a>'\n",
              "            + ' to learn more about interactive tables.';\n",
              "          element.innerHTML = '';\n",
              "          dataTable['output_type'] = 'display_data';\n",
              "          await google.colab.output.renderOutput(dataTable, element);\n",
              "          const docLink = document.createElement('div');\n",
              "          docLink.innerHTML = docLinkHtml;\n",
              "          element.appendChild(docLink);\n",
              "        }\n",
              "      </script>\n",
              "    </div>\n",
              "  </div>\n",
              "  "
            ]
          },
          "metadata": {},
          "execution_count": 201
        }
      ]
    },
    {
      "cell_type": "code",
      "source": [
        "previsores4 = df.iloc[:, 0:11]"
      ],
      "metadata": {
        "id": "mFw4wb_2CZWv"
      },
      "execution_count": 202,
      "outputs": []
    },
    {
      "cell_type": "code",
      "source": [
        "previsores4.head()"
      ],
      "metadata": {
        "id": "6EGMtQa9Dwf7",
        "colab": {
          "base_uri": "https://localhost:8080/",
          "height": 206
        },
        "outputId": "0dc2dbc2-55d7-4618-a4ce-ae4f01f125ce"
      },
      "execution_count": 203,
      "outputs": [
        {
          "output_type": "execute_result",
          "data": {
            "text/plain": [
              "   Age Sex ChestPainType  RestingBP  Cholesterol  FastingBS RestingECG  MaxHR  \\\n",
              "0   40   M           ATA        140        289.0          0     Normal    172   \n",
              "1   49   F           NAP        160        180.0          0     Normal    156   \n",
              "2   37   M           ATA        130        283.0          0         ST     98   \n",
              "3   48   F           ASY        138        214.0          0     Normal    108   \n",
              "4   54   M           NAP        150        195.0          0     Normal    122   \n",
              "\n",
              "  ExerciseAngina  Oldpeak ST_Slope  \n",
              "0              N      0.0       Up  \n",
              "1              N      1.0     Flat  \n",
              "2              N      0.0       Up  \n",
              "3              Y      1.5     Flat  \n",
              "4              N      0.0       Up  "
            ],
            "text/html": [
              "\n",
              "  <div id=\"df-c9cc348c-3115-4421-8331-0b0d07e2e2ab\">\n",
              "    <div class=\"colab-df-container\">\n",
              "      <div>\n",
              "<style scoped>\n",
              "    .dataframe tbody tr th:only-of-type {\n",
              "        vertical-align: middle;\n",
              "    }\n",
              "\n",
              "    .dataframe tbody tr th {\n",
              "        vertical-align: top;\n",
              "    }\n",
              "\n",
              "    .dataframe thead th {\n",
              "        text-align: right;\n",
              "    }\n",
              "</style>\n",
              "<table border=\"1\" class=\"dataframe\">\n",
              "  <thead>\n",
              "    <tr style=\"text-align: right;\">\n",
              "      <th></th>\n",
              "      <th>Age</th>\n",
              "      <th>Sex</th>\n",
              "      <th>ChestPainType</th>\n",
              "      <th>RestingBP</th>\n",
              "      <th>Cholesterol</th>\n",
              "      <th>FastingBS</th>\n",
              "      <th>RestingECG</th>\n",
              "      <th>MaxHR</th>\n",
              "      <th>ExerciseAngina</th>\n",
              "      <th>Oldpeak</th>\n",
              "      <th>ST_Slope</th>\n",
              "    </tr>\n",
              "  </thead>\n",
              "  <tbody>\n",
              "    <tr>\n",
              "      <th>0</th>\n",
              "      <td>40</td>\n",
              "      <td>M</td>\n",
              "      <td>ATA</td>\n",
              "      <td>140</td>\n",
              "      <td>289.0</td>\n",
              "      <td>0</td>\n",
              "      <td>Normal</td>\n",
              "      <td>172</td>\n",
              "      <td>N</td>\n",
              "      <td>0.0</td>\n",
              "      <td>Up</td>\n",
              "    </tr>\n",
              "    <tr>\n",
              "      <th>1</th>\n",
              "      <td>49</td>\n",
              "      <td>F</td>\n",
              "      <td>NAP</td>\n",
              "      <td>160</td>\n",
              "      <td>180.0</td>\n",
              "      <td>0</td>\n",
              "      <td>Normal</td>\n",
              "      <td>156</td>\n",
              "      <td>N</td>\n",
              "      <td>1.0</td>\n",
              "      <td>Flat</td>\n",
              "    </tr>\n",
              "    <tr>\n",
              "      <th>2</th>\n",
              "      <td>37</td>\n",
              "      <td>M</td>\n",
              "      <td>ATA</td>\n",
              "      <td>130</td>\n",
              "      <td>283.0</td>\n",
              "      <td>0</td>\n",
              "      <td>ST</td>\n",
              "      <td>98</td>\n",
              "      <td>N</td>\n",
              "      <td>0.0</td>\n",
              "      <td>Up</td>\n",
              "    </tr>\n",
              "    <tr>\n",
              "      <th>3</th>\n",
              "      <td>48</td>\n",
              "      <td>F</td>\n",
              "      <td>ASY</td>\n",
              "      <td>138</td>\n",
              "      <td>214.0</td>\n",
              "      <td>0</td>\n",
              "      <td>Normal</td>\n",
              "      <td>108</td>\n",
              "      <td>Y</td>\n",
              "      <td>1.5</td>\n",
              "      <td>Flat</td>\n",
              "    </tr>\n",
              "    <tr>\n",
              "      <th>4</th>\n",
              "      <td>54</td>\n",
              "      <td>M</td>\n",
              "      <td>NAP</td>\n",
              "      <td>150</td>\n",
              "      <td>195.0</td>\n",
              "      <td>0</td>\n",
              "      <td>Normal</td>\n",
              "      <td>122</td>\n",
              "      <td>N</td>\n",
              "      <td>0.0</td>\n",
              "      <td>Up</td>\n",
              "    </tr>\n",
              "  </tbody>\n",
              "</table>\n",
              "</div>\n",
              "      <button class=\"colab-df-convert\" onclick=\"convertToInteractive('df-c9cc348c-3115-4421-8331-0b0d07e2e2ab')\"\n",
              "              title=\"Convert this dataframe to an interactive table.\"\n",
              "              style=\"display:none;\">\n",
              "        \n",
              "  <svg xmlns=\"http://www.w3.org/2000/svg\" height=\"24px\"viewBox=\"0 0 24 24\"\n",
              "       width=\"24px\">\n",
              "    <path d=\"M0 0h24v24H0V0z\" fill=\"none\"/>\n",
              "    <path d=\"M18.56 5.44l.94 2.06.94-2.06 2.06-.94-2.06-.94-.94-2.06-.94 2.06-2.06.94zm-11 1L8.5 8.5l.94-2.06 2.06-.94-2.06-.94L8.5 2.5l-.94 2.06-2.06.94zm10 10l.94 2.06.94-2.06 2.06-.94-2.06-.94-.94-2.06-.94 2.06-2.06.94z\"/><path d=\"M17.41 7.96l-1.37-1.37c-.4-.4-.92-.59-1.43-.59-.52 0-1.04.2-1.43.59L10.3 9.45l-7.72 7.72c-.78.78-.78 2.05 0 2.83L4 21.41c.39.39.9.59 1.41.59.51 0 1.02-.2 1.41-.59l7.78-7.78 2.81-2.81c.8-.78.8-2.07 0-2.86zM5.41 20L4 18.59l7.72-7.72 1.47 1.35L5.41 20z\"/>\n",
              "  </svg>\n",
              "      </button>\n",
              "      \n",
              "  <style>\n",
              "    .colab-df-container {\n",
              "      display:flex;\n",
              "      flex-wrap:wrap;\n",
              "      gap: 12px;\n",
              "    }\n",
              "\n",
              "    .colab-df-convert {\n",
              "      background-color: #E8F0FE;\n",
              "      border: none;\n",
              "      border-radius: 50%;\n",
              "      cursor: pointer;\n",
              "      display: none;\n",
              "      fill: #1967D2;\n",
              "      height: 32px;\n",
              "      padding: 0 0 0 0;\n",
              "      width: 32px;\n",
              "    }\n",
              "\n",
              "    .colab-df-convert:hover {\n",
              "      background-color: #E2EBFA;\n",
              "      box-shadow: 0px 1px 2px rgba(60, 64, 67, 0.3), 0px 1px 3px 1px rgba(60, 64, 67, 0.15);\n",
              "      fill: #174EA6;\n",
              "    }\n",
              "\n",
              "    [theme=dark] .colab-df-convert {\n",
              "      background-color: #3B4455;\n",
              "      fill: #D2E3FC;\n",
              "    }\n",
              "\n",
              "    [theme=dark] .colab-df-convert:hover {\n",
              "      background-color: #434B5C;\n",
              "      box-shadow: 0px 1px 3px 1px rgba(0, 0, 0, 0.15);\n",
              "      filter: drop-shadow(0px 1px 2px rgba(0, 0, 0, 0.3));\n",
              "      fill: #FFFFFF;\n",
              "    }\n",
              "  </style>\n",
              "\n",
              "      <script>\n",
              "        const buttonEl =\n",
              "          document.querySelector('#df-c9cc348c-3115-4421-8331-0b0d07e2e2ab button.colab-df-convert');\n",
              "        buttonEl.style.display =\n",
              "          google.colab.kernel.accessAllowed ? 'block' : 'none';\n",
              "\n",
              "        async function convertToInteractive(key) {\n",
              "          const element = document.querySelector('#df-c9cc348c-3115-4421-8331-0b0d07e2e2ab');\n",
              "          const dataTable =\n",
              "            await google.colab.kernel.invokeFunction('convertToInteractive',\n",
              "                                                     [key], {});\n",
              "          if (!dataTable) return;\n",
              "\n",
              "          const docLinkHtml = 'Like what you see? Visit the ' +\n",
              "            '<a target=\"_blank\" href=https://colab.research.google.com/notebooks/data_table.ipynb>data table notebook</a>'\n",
              "            + ' to learn more about interactive tables.';\n",
              "          element.innerHTML = '';\n",
              "          dataTable['output_type'] = 'display_data';\n",
              "          await google.colab.output.renderOutput(dataTable, element);\n",
              "          const docLink = document.createElement('div');\n",
              "          docLink.innerHTML = docLinkHtml;\n",
              "          element.appendChild(docLink);\n",
              "        }\n",
              "      </script>\n",
              "    </div>\n",
              "  </div>\n",
              "  "
            ]
          },
          "metadata": {},
          "execution_count": 203
        }
      ]
    },
    {
      "cell_type": "code",
      "source": [
        "alvo4 = df.iloc[:, 11]"
      ],
      "metadata": {
        "id": "G0qli4gSEBbM"
      },
      "execution_count": 204,
      "outputs": []
    },
    {
      "cell_type": "code",
      "source": [
        "from sklearn.model_selection import train_test_split"
      ],
      "metadata": {
        "id": "hAcS1ULCC78V"
      },
      "execution_count": 205,
      "outputs": []
    },
    {
      "cell_type": "code",
      "source": [
        "x_treino, x_teste, y_treino, y_teste = train_test_split(previsores4, alvo4, test_size = 0.3, random_state = 0)"
      ],
      "metadata": {
        "id": "OP69_qpGC78W"
      },
      "execution_count": 206,
      "outputs": []
    },
    {
      "cell_type": "code",
      "source": [
        "categoricas = ['Sex','ChestPainType', 'RestingECG', 'ExerciseAngina', 'ST_Slope']"
      ],
      "metadata": {
        "id": "B9Gb_1r2UChX"
      },
      "execution_count": 207,
      "outputs": []
    },
    {
      "cell_type": "code",
      "source": [
        "catboost = CatBoostClassifier(task_type='CPU', iterations=100, learning_rate=0.1, depth = 8, random_state = 5, \n",
        "                              eval_metric=\"Accuracy\")"
      ],
      "metadata": {
        "id": "kM7Xaph4UChY"
      },
      "execution_count": 208,
      "outputs": []
    },
    {
      "cell_type": "code",
      "source": [
        "catboost.fit( x_treino, y_treino, cat_features= categoricas, plot=True, eval_set=(x_teste, y_teste))"
      ],
      "metadata": {
        "id": "frZ9Fw1EUChY",
        "colab": {
          "base_uri": "https://localhost:8080/",
          "height": 1000,
          "referenced_widgets": [
            "cb11d15cf95643deab21f98ad6c67b65"
          ]
        },
        "outputId": "33ad3e6b-fd9d-4657-d15f-1ccb5d6cfb73"
      },
      "execution_count": 209,
      "outputs": [
        {
          "output_type": "display_data",
          "data": {
            "text/plain": [
              "MetricVisualizer(layout=Layout(align_self='stretch', height='500px'))"
            ],
            "application/vnd.jupyter.widget-view+json": {
              "version_major": 2,
              "version_minor": 0,
              "model_id": "cb11d15cf95643deab21f98ad6c67b65"
            }
          },
          "metadata": {}
        },
        {
          "output_type": "stream",
          "name": "stdout",
          "text": [
            "0:\tlearn: 0.8861154\ttest: 0.7789855\tbest: 0.7789855 (0)\ttotal: 67.6ms\tremaining: 6.69s\n",
            "1:\tlearn: 0.8689548\ttest: 0.7934783\tbest: 0.7934783 (1)\ttotal: 87.4ms\tremaining: 4.28s\n",
            "2:\tlearn: 0.8471139\ttest: 0.7971014\tbest: 0.7971014 (2)\ttotal: 91.2ms\tremaining: 2.95s\n",
            "3:\tlearn: 0.8549142\ttest: 0.8043478\tbest: 0.8043478 (3)\ttotal: 102ms\tremaining: 2.45s\n",
            "4:\tlearn: 0.8517941\ttest: 0.8043478\tbest: 0.8043478 (3)\ttotal: 112ms\tremaining: 2.14s\n",
            "5:\tlearn: 0.8486739\ttest: 0.8043478\tbest: 0.8043478 (3)\ttotal: 123ms\tremaining: 1.92s\n",
            "6:\tlearn: 0.8580343\ttest: 0.8115942\tbest: 0.8115942 (6)\ttotal: 133ms\tremaining: 1.77s\n",
            "7:\tlearn: 0.8642746\ttest: 0.8043478\tbest: 0.8115942 (6)\ttotal: 147ms\tremaining: 1.69s\n",
            "8:\tlearn: 0.8533541\ttest: 0.8043478\tbest: 0.8115942 (6)\ttotal: 157ms\tremaining: 1.59s\n",
            "9:\tlearn: 0.8611544\ttest: 0.8115942\tbest: 0.8115942 (6)\ttotal: 164ms\tremaining: 1.48s\n",
            "10:\tlearn: 0.8642746\ttest: 0.8079710\tbest: 0.8115942 (6)\ttotal: 175ms\tremaining: 1.41s\n",
            "11:\tlearn: 0.8658346\ttest: 0.8043478\tbest: 0.8115942 (6)\ttotal: 185ms\tremaining: 1.35s\n",
            "12:\tlearn: 0.8689548\ttest: 0.8043478\tbest: 0.8115942 (6)\ttotal: 195ms\tremaining: 1.3s\n",
            "13:\tlearn: 0.8611544\ttest: 0.8007246\tbest: 0.8115942 (6)\ttotal: 196ms\tremaining: 1.21s\n",
            "14:\tlearn: 0.8611544\ttest: 0.8007246\tbest: 0.8115942 (6)\ttotal: 203ms\tremaining: 1.15s\n",
            "15:\tlearn: 0.8658346\ttest: 0.7971014\tbest: 0.8115942 (6)\ttotal: 214ms\tremaining: 1.12s\n",
            "16:\tlearn: 0.8673947\ttest: 0.7971014\tbest: 0.8115942 (6)\ttotal: 222ms\tremaining: 1.08s\n",
            "17:\tlearn: 0.8689548\ttest: 0.8007246\tbest: 0.8115942 (6)\ttotal: 233ms\tremaining: 1.06s\n",
            "18:\tlearn: 0.8720749\ttest: 0.8007246\tbest: 0.8115942 (6)\ttotal: 245ms\tremaining: 1.04s\n",
            "19:\tlearn: 0.8767551\ttest: 0.8007246\tbest: 0.8115942 (6)\ttotal: 265ms\tremaining: 1.06s\n",
            "20:\tlearn: 0.8767551\ttest: 0.8079710\tbest: 0.8115942 (6)\ttotal: 287ms\tremaining: 1.08s\n",
            "21:\tlearn: 0.8798752\ttest: 0.8079710\tbest: 0.8115942 (6)\ttotal: 294ms\tremaining: 1.04s\n",
            "22:\tlearn: 0.8814353\ttest: 0.8079710\tbest: 0.8115942 (6)\ttotal: 330ms\tremaining: 1.1s\n",
            "23:\tlearn: 0.8814353\ttest: 0.8079710\tbest: 0.8115942 (6)\ttotal: 349ms\tremaining: 1.1s\n",
            "24:\tlearn: 0.8814353\ttest: 0.8079710\tbest: 0.8115942 (6)\ttotal: 369ms\tremaining: 1.11s\n",
            "25:\tlearn: 0.8829953\ttest: 0.8115942\tbest: 0.8115942 (6)\ttotal: 387ms\tremaining: 1.1s\n",
            "26:\tlearn: 0.8845554\ttest: 0.8152174\tbest: 0.8152174 (26)\ttotal: 401ms\tremaining: 1.08s\n",
            "27:\tlearn: 0.8829953\ttest: 0.8152174\tbest: 0.8152174 (26)\ttotal: 409ms\tremaining: 1.05s\n",
            "28:\tlearn: 0.8861154\ttest: 0.8115942\tbest: 0.8152174 (26)\ttotal: 426ms\tremaining: 1.04s\n",
            "29:\tlearn: 0.8939158\ttest: 0.8115942\tbest: 0.8152174 (26)\ttotal: 434ms\tremaining: 1.01s\n",
            "30:\tlearn: 0.8954758\ttest: 0.8115942\tbest: 0.8152174 (26)\ttotal: 454ms\tremaining: 1.01s\n",
            "31:\tlearn: 0.8954758\ttest: 0.8152174\tbest: 0.8152174 (26)\ttotal: 466ms\tremaining: 989ms\n",
            "32:\tlearn: 0.8970359\ttest: 0.8115942\tbest: 0.8152174 (26)\ttotal: 478ms\tremaining: 971ms\n",
            "33:\tlearn: 0.9001560\ttest: 0.8152174\tbest: 0.8152174 (26)\ttotal: 491ms\tremaining: 954ms\n",
            "34:\tlearn: 0.9048362\ttest: 0.8188406\tbest: 0.8188406 (34)\ttotal: 495ms\tremaining: 920ms\n",
            "35:\tlearn: 0.9095164\ttest: 0.8297101\tbest: 0.8297101 (35)\ttotal: 504ms\tremaining: 896ms\n",
            "36:\tlearn: 0.9110764\ttest: 0.8224638\tbest: 0.8297101 (35)\ttotal: 511ms\tremaining: 869ms\n",
            "37:\tlearn: 0.9157566\ttest: 0.8260870\tbest: 0.8297101 (35)\ttotal: 521ms\tremaining: 851ms\n",
            "38:\tlearn: 0.9157566\ttest: 0.8333333\tbest: 0.8333333 (38)\ttotal: 522ms\tremaining: 817ms\n",
            "39:\tlearn: 0.9173167\ttest: 0.8333333\tbest: 0.8333333 (38)\ttotal: 541ms\tremaining: 811ms\n",
            "40:\tlearn: 0.9141966\ttest: 0.8369565\tbest: 0.8369565 (40)\ttotal: 546ms\tremaining: 786ms\n",
            "41:\tlearn: 0.9141966\ttest: 0.8405797\tbest: 0.8405797 (41)\ttotal: 555ms\tremaining: 767ms\n",
            "42:\tlearn: 0.9173167\ttest: 0.8442029\tbest: 0.8442029 (42)\ttotal: 560ms\tremaining: 743ms\n",
            "43:\tlearn: 0.9173167\ttest: 0.8514493\tbest: 0.8514493 (43)\ttotal: 564ms\tremaining: 718ms\n",
            "44:\tlearn: 0.9173167\ttest: 0.8478261\tbest: 0.8514493 (43)\ttotal: 569ms\tremaining: 696ms\n",
            "45:\tlearn: 0.9188768\ttest: 0.8478261\tbest: 0.8514493 (43)\ttotal: 576ms\tremaining: 676ms\n",
            "46:\tlearn: 0.9204368\ttest: 0.8514493\tbest: 0.8514493 (43)\ttotal: 588ms\tremaining: 663ms\n",
            "47:\tlearn: 0.9204368\ttest: 0.8550725\tbest: 0.8550725 (47)\ttotal: 593ms\tremaining: 643ms\n",
            "48:\tlearn: 0.9219969\ttest: 0.8623188\tbest: 0.8623188 (48)\ttotal: 597ms\tremaining: 622ms\n",
            "49:\tlearn: 0.9188768\ttest: 0.8623188\tbest: 0.8623188 (48)\ttotal: 599ms\tremaining: 599ms\n",
            "50:\tlearn: 0.9204368\ttest: 0.8659420\tbest: 0.8659420 (50)\ttotal: 604ms\tremaining: 580ms\n",
            "51:\tlearn: 0.9235569\ttest: 0.8659420\tbest: 0.8659420 (50)\ttotal: 606ms\tremaining: 559ms\n",
            "52:\tlearn: 0.9235569\ttest: 0.8659420\tbest: 0.8659420 (50)\ttotal: 606ms\tremaining: 538ms\n",
            "53:\tlearn: 0.9251170\ttest: 0.8659420\tbest: 0.8659420 (50)\ttotal: 610ms\tremaining: 520ms\n",
            "54:\tlearn: 0.9235569\ttest: 0.8695652\tbest: 0.8695652 (54)\ttotal: 615ms\tremaining: 503ms\n",
            "55:\tlearn: 0.9204368\ttest: 0.8695652\tbest: 0.8695652 (54)\ttotal: 619ms\tremaining: 486ms\n",
            "56:\tlearn: 0.9219969\ttest: 0.8695652\tbest: 0.8695652 (54)\ttotal: 623ms\tremaining: 470ms\n",
            "57:\tlearn: 0.9251170\ttest: 0.8695652\tbest: 0.8695652 (54)\ttotal: 628ms\tremaining: 455ms\n",
            "58:\tlearn: 0.9266771\ttest: 0.8695652\tbest: 0.8695652 (54)\ttotal: 640ms\tremaining: 445ms\n",
            "59:\tlearn: 0.9282371\ttest: 0.8695652\tbest: 0.8695652 (54)\ttotal: 645ms\tremaining: 430ms\n",
            "60:\tlearn: 0.9282371\ttest: 0.8695652\tbest: 0.8695652 (54)\ttotal: 649ms\tremaining: 415ms\n",
            "61:\tlearn: 0.9282371\ttest: 0.8695652\tbest: 0.8695652 (54)\ttotal: 653ms\tremaining: 400ms\n",
            "62:\tlearn: 0.9251170\ttest: 0.8695652\tbest: 0.8695652 (54)\ttotal: 657ms\tremaining: 386ms\n",
            "63:\tlearn: 0.9251170\ttest: 0.8695652\tbest: 0.8695652 (54)\ttotal: 661ms\tremaining: 372ms\n",
            "64:\tlearn: 0.9251170\ttest: 0.8695652\tbest: 0.8695652 (54)\ttotal: 662ms\tremaining: 357ms\n",
            "65:\tlearn: 0.9251170\ttest: 0.8695652\tbest: 0.8695652 (54)\ttotal: 666ms\tremaining: 343ms\n",
            "66:\tlearn: 0.9251170\ttest: 0.8695652\tbest: 0.8695652 (54)\ttotal: 671ms\tremaining: 330ms\n",
            "67:\tlearn: 0.9266771\ttest: 0.8695652\tbest: 0.8695652 (54)\ttotal: 672ms\tremaining: 316ms\n",
            "68:\tlearn: 0.9266771\ttest: 0.8695652\tbest: 0.8695652 (54)\ttotal: 673ms\tremaining: 302ms\n",
            "69:\tlearn: 0.9266771\ttest: 0.8695652\tbest: 0.8695652 (54)\ttotal: 674ms\tremaining: 289ms\n",
            "70:\tlearn: 0.9266771\ttest: 0.8695652\tbest: 0.8695652 (54)\ttotal: 678ms\tremaining: 277ms\n",
            "71:\tlearn: 0.9266771\ttest: 0.8695652\tbest: 0.8695652 (54)\ttotal: 679ms\tremaining: 264ms\n",
            "72:\tlearn: 0.9266771\ttest: 0.8695652\tbest: 0.8695652 (54)\ttotal: 681ms\tremaining: 252ms\n",
            "73:\tlearn: 0.9251170\ttest: 0.8695652\tbest: 0.8695652 (54)\ttotal: 689ms\tremaining: 242ms\n",
            "74:\tlearn: 0.9251170\ttest: 0.8695652\tbest: 0.8695652 (54)\ttotal: 692ms\tremaining: 231ms\n",
            "75:\tlearn: 0.9266771\ttest: 0.8695652\tbest: 0.8695652 (54)\ttotal: 696ms\tremaining: 220ms\n",
            "76:\tlearn: 0.9266771\ttest: 0.8695652\tbest: 0.8695652 (54)\ttotal: 703ms\tremaining: 210ms\n",
            "77:\tlearn: 0.9266771\ttest: 0.8695652\tbest: 0.8695652 (54)\ttotal: 712ms\tremaining: 201ms\n",
            "78:\tlearn: 0.9266771\ttest: 0.8659420\tbest: 0.8695652 (54)\ttotal: 720ms\tremaining: 191ms\n",
            "79:\tlearn: 0.9266771\ttest: 0.8659420\tbest: 0.8695652 (54)\ttotal: 722ms\tremaining: 181ms\n",
            "80:\tlearn: 0.9266771\ttest: 0.8659420\tbest: 0.8695652 (54)\ttotal: 732ms\tremaining: 172ms\n",
            "81:\tlearn: 0.9266771\ttest: 0.8659420\tbest: 0.8695652 (54)\ttotal: 735ms\tremaining: 161ms\n",
            "82:\tlearn: 0.9266771\ttest: 0.8659420\tbest: 0.8695652 (54)\ttotal: 745ms\tremaining: 153ms\n",
            "83:\tlearn: 0.9266771\ttest: 0.8659420\tbest: 0.8695652 (54)\ttotal: 753ms\tremaining: 143ms\n",
            "84:\tlearn: 0.9297972\ttest: 0.8659420\tbest: 0.8695652 (54)\ttotal: 768ms\tremaining: 135ms\n",
            "85:\tlearn: 0.9297972\ttest: 0.8659420\tbest: 0.8695652 (54)\ttotal: 776ms\tremaining: 126ms\n",
            "86:\tlearn: 0.9282371\ttest: 0.8659420\tbest: 0.8695652 (54)\ttotal: 784ms\tremaining: 117ms\n",
            "87:\tlearn: 0.9282371\ttest: 0.8659420\tbest: 0.8695652 (54)\ttotal: 793ms\tremaining: 108ms\n",
            "88:\tlearn: 0.9282371\ttest: 0.8659420\tbest: 0.8695652 (54)\ttotal: 808ms\tremaining: 99.9ms\n",
            "89:\tlearn: 0.9282371\ttest: 0.8659420\tbest: 0.8695652 (54)\ttotal: 811ms\tremaining: 90.1ms\n",
            "90:\tlearn: 0.9282371\ttest: 0.8659420\tbest: 0.8695652 (54)\ttotal: 822ms\tremaining: 81.3ms\n",
            "91:\tlearn: 0.9282371\ttest: 0.8659420\tbest: 0.8695652 (54)\ttotal: 829ms\tremaining: 72.1ms\n",
            "92:\tlearn: 0.9282371\ttest: 0.8659420\tbest: 0.8695652 (54)\ttotal: 836ms\tremaining: 62.9ms\n",
            "93:\tlearn: 0.9282371\ttest: 0.8659420\tbest: 0.8695652 (54)\ttotal: 850ms\tremaining: 54.2ms\n",
            "94:\tlearn: 0.9282371\ttest: 0.8659420\tbest: 0.8695652 (54)\ttotal: 856ms\tremaining: 45ms\n",
            "95:\tlearn: 0.9282371\ttest: 0.8659420\tbest: 0.8695652 (54)\ttotal: 870ms\tremaining: 36.2ms\n",
            "96:\tlearn: 0.9282371\ttest: 0.8659420\tbest: 0.8695652 (54)\ttotal: 874ms\tremaining: 27ms\n",
            "97:\tlearn: 0.9282371\ttest: 0.8659420\tbest: 0.8695652 (54)\ttotal: 877ms\tremaining: 17.9ms\n",
            "98:\tlearn: 0.9282371\ttest: 0.8659420\tbest: 0.8695652 (54)\ttotal: 881ms\tremaining: 8.9ms\n",
            "99:\tlearn: 0.9297972\ttest: 0.8659420\tbest: 0.8695652 (54)\ttotal: 885ms\tremaining: 0us\n",
            "\n",
            "bestTest = 0.8695652174\n",
            "bestIteration = 54\n",
            "\n",
            "Shrink model to first 55 iterations.\n"
          ]
        },
        {
          "output_type": "execute_result",
          "data": {
            "text/plain": [
              "<catboost.core.CatBoostClassifier at 0x7f89d07a6610>"
            ]
          },
          "metadata": {},
          "execution_count": 209
        }
      ]
    },
    {
      "cell_type": "code",
      "source": [
        "previsoes_cat = catboost.predict(x_teste)\n",
        "previsoes_cat"
      ],
      "metadata": {
        "id": "MIJVraLTUChZ",
        "colab": {
          "base_uri": "https://localhost:8080/"
        },
        "outputId": "bcec2fb1-b02e-4f64-b79f-a543ad3d69e8"
      },
      "execution_count": 210,
      "outputs": [
        {
          "output_type": "execute_result",
          "data": {
            "text/plain": [
              "array([1, 1, 1, 0, 0, 0, 0, 0, 0, 0, 1, 1, 1, 1, 0, 1, 1, 1, 1, 0, 1, 1,\n",
              "       1, 0, 0, 0, 1, 1, 1, 1, 1, 0, 0, 0, 1, 0, 0, 0, 1, 0, 0, 1, 1, 1,\n",
              "       1, 0, 0, 1, 0, 1, 1, 0, 0, 0, 1, 0, 0, 0, 1, 0, 1, 1, 1, 0, 1, 1,\n",
              "       1, 0, 1, 0, 1, 1, 0, 1, 1, 1, 1, 1, 1, 1, 1, 1, 0, 0, 1, 1, 1, 1,\n",
              "       1, 0, 1, 0, 0, 0, 1, 0, 1, 0, 0, 0, 0, 1, 1, 1, 0, 1, 0, 0, 0, 1,\n",
              "       0, 1, 1, 1, 0, 1, 0, 1, 1, 1, 1, 1, 1, 0, 1, 1, 0, 1, 0, 1, 0, 1,\n",
              "       1, 1, 0, 1, 1, 1, 1, 0, 0, 1, 0, 1, 0, 0, 1, 1, 1, 0, 0, 1, 1, 0,\n",
              "       1, 0, 1, 1, 1, 0, 1, 1, 1, 0, 1, 0, 1, 0, 1, 0, 1, 1, 0, 0, 1, 0,\n",
              "       1, 0, 0, 1, 1, 1, 0, 1, 1, 1, 0, 1, 1, 0, 1, 0, 1, 1, 1, 1, 0, 0,\n",
              "       1, 0, 1, 1, 0, 1, 1, 0, 0, 0, 1, 0, 1, 1, 0, 1, 0, 0, 1, 0, 1, 1,\n",
              "       1, 0, 0, 1, 1, 1, 0, 1, 0, 1, 0, 1, 1, 1, 0, 1, 1, 1, 0, 1, 1, 0,\n",
              "       1, 0, 0, 0, 0, 0, 1, 0, 1, 0, 1, 0, 0, 0, 1, 0, 0, 1, 0, 1, 0, 0,\n",
              "       0, 0, 0, 0, 1, 0, 0, 1, 1, 1, 1, 1])"
            ]
          },
          "metadata": {},
          "execution_count": 210
        }
      ]
    },
    {
      "cell_type": "code",
      "source": [
        "y_teste"
      ],
      "metadata": {
        "id": "dSrjeuL_UCha",
        "colab": {
          "base_uri": "https://localhost:8080/"
        },
        "outputId": "6957cca0-3e3e-4824-efee-9a4e196e0311"
      },
      "execution_count": 211,
      "outputs": [
        {
          "output_type": "execute_result",
          "data": {
            "text/plain": [
              "306    1\n",
              "710    0\n",
              "298    1\n",
              "466    0\n",
              "253    0\n",
              "      ..\n",
              "49     1\n",
              "456    1\n",
              "342    1\n",
              "906    1\n",
              "116    1\n",
              "Name: HeartDisease, Length: 276, dtype: int64"
            ]
          },
          "metadata": {},
          "execution_count": 211
        }
      ]
    },
    {
      "cell_type": "code",
      "source": [
        "from sklearn.metrics import accuracy_score, confusion_matrix, classification_report"
      ],
      "metadata": {
        "id": "r6FeKp07UCha"
      },
      "execution_count": 212,
      "outputs": []
    },
    {
      "cell_type": "code",
      "source": [
        "print(\"Acurácia: %.2f%%\" % (accuracy_score(y_teste, previsoes_cat) * 100.0))"
      ],
      "metadata": {
        "id": "rknZXiSyUChb",
        "colab": {
          "base_uri": "https://localhost:8080/"
        },
        "outputId": "f2d2249f-7a02-48e1-84ec-5670d85deeee"
      },
      "execution_count": 213,
      "outputs": [
        {
          "output_type": "stream",
          "name": "stdout",
          "text": [
            "Acurácia: 86.96%\n"
          ]
        }
      ]
    },
    {
      "cell_type": "code",
      "source": [
        "confusion_matrix(y_teste, previsoes_cat)"
      ],
      "metadata": {
        "id": "coB92zR9UChb",
        "colab": {
          "base_uri": "https://localhost:8080/"
        },
        "outputId": "3c276729-53a3-4150-cb4f-81ce15c1d0d3"
      },
      "execution_count": 214,
      "outputs": [
        {
          "output_type": "execute_result",
          "data": {
            "text/plain": [
              "array([[103,  18],\n",
              "       [ 18, 137]])"
            ]
          },
          "metadata": {},
          "execution_count": 214
        }
      ]
    },
    {
      "cell_type": "markdown",
      "source": [
        "**Análise dados de treino**"
      ],
      "metadata": {
        "id": "IA02yBduUChc"
      }
    },
    {
      "cell_type": "code",
      "source": [
        "previsoes_treino = catboost.predict(x_treino)\n",
        "previsoes_treino"
      ],
      "metadata": {
        "id": "pu0f-5frUChc",
        "colab": {
          "base_uri": "https://localhost:8080/"
        },
        "outputId": "3a7ac775-f96b-4ebe-f555-035a2fdea4a5"
      },
      "execution_count": 215,
      "outputs": [
        {
          "output_type": "execute_result",
          "data": {
            "text/plain": [
              "array([1, 0, 1, 1, 1, 1, 0, 0, 0, 0, 1, 0, 1, 1, 1, 0, 0, 0, 0, 1, 0, 1,\n",
              "       1, 1, 1, 0, 0, 1, 1, 1, 1, 0, 1, 1, 0, 0, 1, 1, 0, 1, 0, 1, 0, 0,\n",
              "       1, 1, 0, 1, 1, 1, 1, 0, 1, 0, 1, 0, 1, 0, 1, 0, 0, 0, 0, 0, 1, 1,\n",
              "       0, 0, 1, 0, 1, 1, 1, 1, 0, 0, 1, 1, 1, 1, 1, 1, 1, 1, 0, 1, 1, 1,\n",
              "       1, 1, 0, 1, 0, 0, 1, 1, 1, 1, 1, 1, 1, 1, 0, 1, 1, 1, 1, 0, 1, 1,\n",
              "       0, 0, 1, 0, 1, 0, 1, 0, 1, 0, 0, 0, 0, 1, 0, 1, 0, 0, 1, 1, 1, 0,\n",
              "       1, 1, 0, 1, 1, 0, 1, 1, 0, 1, 1, 1, 1, 1, 0, 0, 0, 1, 1, 0, 1, 0,\n",
              "       1, 0, 1, 1, 1, 0, 1, 0, 0, 0, 1, 0, 1, 0, 0, 0, 0, 1, 1, 0, 1, 0,\n",
              "       0, 1, 1, 0, 0, 0, 0, 0, 0, 1, 1, 1, 1, 1, 0, 0, 1, 0, 0, 1, 1, 1,\n",
              "       1, 1, 0, 0, 0, 1, 1, 0, 1, 1, 1, 0, 1, 0, 1, 1, 1, 0, 1, 0, 0, 1,\n",
              "       1, 0, 0, 1, 1, 1, 1, 1, 1, 1, 1, 1, 0, 1, 1, 0, 1, 0, 1, 0, 1, 0,\n",
              "       1, 1, 0, 1, 1, 1, 1, 1, 0, 1, 0, 0, 0, 0, 0, 0, 0, 0, 1, 0, 1, 0,\n",
              "       1, 0, 1, 0, 1, 0, 1, 1, 0, 0, 0, 1, 1, 0, 0, 0, 1, 0, 0, 0, 1, 1,\n",
              "       1, 1, 1, 1, 1, 0, 1, 1, 0, 1, 0, 1, 0, 1, 1, 0, 0, 1, 0, 0, 1, 1,\n",
              "       1, 0, 1, 0, 1, 0, 1, 0, 1, 1, 1, 0, 1, 1, 1, 1, 0, 1, 1, 1, 1, 0,\n",
              "       0, 0, 1, 0, 0, 0, 1, 1, 0, 1, 1, 1, 1, 1, 1, 0, 1, 1, 0, 1, 0, 1,\n",
              "       0, 0, 0, 1, 0, 1, 1, 1, 0, 1, 0, 1, 1, 0, 0, 0, 0, 0, 1, 1, 0, 1,\n",
              "       0, 1, 1, 1, 0, 1, 1, 1, 0, 1, 0, 1, 0, 0, 1, 1, 0, 0, 1, 1, 1, 1,\n",
              "       0, 0, 0, 1, 1, 1, 1, 0, 1, 1, 1, 1, 1, 0, 0, 1, 0, 1, 1, 1, 0, 0,\n",
              "       0, 1, 1, 0, 0, 1, 1, 0, 1, 1, 0, 0, 0, 1, 1, 0, 1, 1, 1, 1, 1, 1,\n",
              "       0, 0, 1, 1, 0, 1, 0, 1, 0, 0, 1, 0, 1, 1, 1, 1, 0, 0, 0, 1, 0, 1,\n",
              "       1, 1, 1, 1, 1, 0, 1, 0, 1, 1, 1, 1, 1, 1, 1, 0, 0, 0, 1, 0, 0, 0,\n",
              "       0, 0, 1, 0, 1, 1, 0, 0, 0, 1, 1, 0, 1, 1, 1, 0, 1, 1, 0, 0, 1, 1,\n",
              "       1, 1, 0, 0, 1, 1, 1, 1, 0, 1, 0, 0, 1, 0, 1, 1, 1, 1, 0, 1, 1, 0,\n",
              "       1, 0, 1, 0, 1, 0, 1, 0, 1, 0, 1, 1, 0, 1, 1, 1, 1, 0, 0, 1, 1, 0,\n",
              "       0, 1, 1, 0, 1, 0, 1, 1, 1, 0, 1, 1, 0, 1, 0, 1, 1, 0, 0, 1, 0, 1,\n",
              "       1, 1, 0, 0, 1, 0, 0, 0, 0, 1, 0, 1, 1, 1, 1, 0, 1, 0, 0, 0, 0, 0,\n",
              "       0, 0, 1, 0, 0, 1, 0, 0, 0, 0, 1, 0, 1, 1, 0, 1, 1, 1, 1, 1, 0, 1,\n",
              "       1, 1, 0, 1, 1, 0, 1, 1, 1, 1, 1, 1, 0, 1, 1, 0, 0, 1, 1, 0, 1, 0,\n",
              "       0, 0, 1])"
            ]
          },
          "metadata": {},
          "execution_count": 215
        }
      ]
    },
    {
      "cell_type": "code",
      "source": [
        "accuracy_score(y_treino, previsoes_treino)"
      ],
      "metadata": {
        "id": "agSmZWOEUChc",
        "colab": {
          "base_uri": "https://localhost:8080/"
        },
        "outputId": "40bcadb0-ef7a-4b02-e139-1d72704001fc"
      },
      "execution_count": 216,
      "outputs": [
        {
          "output_type": "execute_result",
          "data": {
            "text/plain": [
              "0.9173166926677067"
            ]
          },
          "metadata": {},
          "execution_count": 216
        }
      ]
    },
    {
      "cell_type": "code",
      "source": [
        "confusion_matrix(y_treino, previsoes_treino)"
      ],
      "metadata": {
        "id": "Oh06bx0IUChd",
        "colab": {
          "base_uri": "https://localhost:8080/"
        },
        "outputId": "c9797fd6-0007-473a-ee95-9b788b278bee"
      },
      "execution_count": 217,
      "outputs": [
        {
          "output_type": "execute_result",
          "data": {
            "text/plain": [
              "array([[255,  34],\n",
              "       [ 19, 333]])"
            ]
          },
          "metadata": {},
          "execution_count": 217
        }
      ]
    },
    {
      "cell_type": "markdown",
      "source": [
        "### **Validação Cruzada**"
      ],
      "metadata": {
        "id": "2LgdzmpMUChd"
      }
    },
    {
      "cell_type": "code",
      "source": [
        "from sklearn.model_selection import KFold\n",
        "from sklearn.model_selection import cross_val_score"
      ],
      "metadata": {
        "id": "N80OsHhNUChd"
      },
      "execution_count": 218,
      "outputs": []
    },
    {
      "cell_type": "code",
      "source": [
        "# Separando os dados em folds\n",
        "kfold = KFold(n_splits = 30, shuffle=True, random_state = 5)"
      ],
      "metadata": {
        "id": "vkhW9kFUUChd"
      },
      "execution_count": 219,
      "outputs": []
    },
    {
      "cell_type": "code",
      "source": [
        "# Criando o modelo\n",
        "modelo = CatBoostClassifier(task_type='CPU', iterations=100, learning_rate=0.1, depth = 8, random_state = 5, \n",
        "                              eval_metric=\"Accuracy\")\n",
        "resultado = cross_val_score(modelo, previsores, alvo, cv = kfold)\n",
        "\n",
        "# Usamos a média e o desvio padrão\n",
        "print(\"Acurácia Média: %.2f%%\" % (resultado.mean() * 100.0))"
      ],
      "metadata": {
        "id": "lwgfw-cVUChd",
        "colab": {
          "base_uri": "https://localhost:8080/"
        },
        "outputId": "6d7529cf-bcff-40eb-ad60-e95586b28142"
      },
      "execution_count": 220,
      "outputs": [
        {
          "output_type": "stream",
          "name": "stdout",
          "text": [
            "0:\tlearn: 0.8803612\ttotal: 4.69ms\tremaining: 464ms\n",
            "1:\tlearn: 0.8758465\ttotal: 9.14ms\tremaining: 448ms\n",
            "2:\tlearn: 0.8837472\ttotal: 13ms\tremaining: 422ms\n",
            "3:\tlearn: 0.8927765\ttotal: 20.8ms\tremaining: 499ms\n",
            "4:\tlearn: 0.8792325\ttotal: 23.9ms\tremaining: 453ms\n",
            "5:\tlearn: 0.8803612\ttotal: 27.4ms\tremaining: 429ms\n",
            "6:\tlearn: 0.8893905\ttotal: 29.6ms\tremaining: 394ms\n",
            "7:\tlearn: 0.8860045\ttotal: 32.4ms\tremaining: 373ms\n",
            "8:\tlearn: 0.8927765\ttotal: 35.3ms\tremaining: 357ms\n",
            "9:\tlearn: 0.8950339\ttotal: 38.1ms\tremaining: 343ms\n",
            "10:\tlearn: 0.8950339\ttotal: 40.8ms\tremaining: 330ms\n",
            "11:\tlearn: 0.8961625\ttotal: 49.2ms\tremaining: 361ms\n",
            "12:\tlearn: 0.8972912\ttotal: 53.2ms\tremaining: 356ms\n",
            "13:\tlearn: 0.8972912\ttotal: 56ms\tremaining: 344ms\n",
            "14:\tlearn: 0.8995485\ttotal: 58.8ms\tremaining: 333ms\n",
            "15:\tlearn: 0.9006772\ttotal: 61.7ms\tremaining: 324ms\n",
            "16:\tlearn: 0.9029345\ttotal: 64.5ms\tremaining: 315ms\n",
            "17:\tlearn: 0.9040632\ttotal: 67.1ms\tremaining: 306ms\n",
            "18:\tlearn: 0.9018059\ttotal: 68.1ms\tremaining: 291ms\n",
            "19:\tlearn: 0.9051919\ttotal: 70.9ms\tremaining: 283ms\n",
            "20:\tlearn: 0.9029345\ttotal: 73.6ms\tremaining: 277ms\n",
            "21:\tlearn: 0.9074492\ttotal: 76.3ms\tremaining: 270ms\n",
            "22:\tlearn: 0.9063205\ttotal: 79ms\tremaining: 264ms\n",
            "23:\tlearn: 0.9085779\ttotal: 79.8ms\tremaining: 253ms\n",
            "24:\tlearn: 0.9097065\ttotal: 82.4ms\tremaining: 247ms\n",
            "25:\tlearn: 0.9085779\ttotal: 89ms\tremaining: 253ms\n",
            "26:\tlearn: 0.9097065\ttotal: 92.7ms\tremaining: 251ms\n",
            "27:\tlearn: 0.9097065\ttotal: 96.4ms\tremaining: 248ms\n",
            "28:\tlearn: 0.9130926\ttotal: 99.6ms\tremaining: 244ms\n",
            "29:\tlearn: 0.9119639\ttotal: 102ms\tremaining: 239ms\n",
            "30:\tlearn: 0.9130926\ttotal: 105ms\tremaining: 234ms\n",
            "31:\tlearn: 0.9130926\ttotal: 108ms\tremaining: 229ms\n",
            "32:\tlearn: 0.9130926\ttotal: 110ms\tremaining: 224ms\n",
            "33:\tlearn: 0.9119639\ttotal: 113ms\tremaining: 220ms\n",
            "34:\tlearn: 0.9142212\ttotal: 116ms\tremaining: 215ms\n",
            "35:\tlearn: 0.9142212\ttotal: 119ms\tremaining: 211ms\n",
            "36:\tlearn: 0.9142212\ttotal: 121ms\tremaining: 207ms\n",
            "37:\tlearn: 0.9187359\ttotal: 124ms\tremaining: 203ms\n",
            "38:\tlearn: 0.9164786\ttotal: 127ms\tremaining: 198ms\n",
            "39:\tlearn: 0.9187359\ttotal: 130ms\tremaining: 194ms\n",
            "40:\tlearn: 0.9198646\ttotal: 132ms\tremaining: 190ms\n",
            "41:\tlearn: 0.9209932\ttotal: 135ms\tremaining: 186ms\n",
            "42:\tlearn: 0.9221219\ttotal: 138ms\tremaining: 182ms\n",
            "43:\tlearn: 0.9243792\ttotal: 140ms\tremaining: 179ms\n",
            "44:\tlearn: 0.9232506\ttotal: 143ms\tremaining: 175ms\n",
            "45:\tlearn: 0.9266366\ttotal: 146ms\tremaining: 171ms\n",
            "46:\tlearn: 0.9266366\ttotal: 149ms\tremaining: 168ms\n",
            "47:\tlearn: 0.9277652\ttotal: 151ms\tremaining: 164ms\n",
            "48:\tlearn: 0.9277652\ttotal: 154ms\tremaining: 160ms\n",
            "49:\tlearn: 0.9277652\ttotal: 157ms\tremaining: 157ms\n",
            "50:\tlearn: 0.9266366\ttotal: 159ms\tremaining: 153ms\n",
            "51:\tlearn: 0.9277652\ttotal: 162ms\tremaining: 149ms\n",
            "52:\tlearn: 0.9277652\ttotal: 165ms\tremaining: 146ms\n",
            "53:\tlearn: 0.9277652\ttotal: 168ms\tremaining: 143ms\n",
            "54:\tlearn: 0.9277652\ttotal: 171ms\tremaining: 140ms\n",
            "55:\tlearn: 0.9266366\ttotal: 174ms\tremaining: 136ms\n",
            "56:\tlearn: 0.9277652\ttotal: 176ms\tremaining: 133ms\n",
            "57:\tlearn: 0.9288939\ttotal: 179ms\tremaining: 130ms\n",
            "58:\tlearn: 0.9277652\ttotal: 182ms\tremaining: 127ms\n",
            "59:\tlearn: 0.9277652\ttotal: 185ms\tremaining: 123ms\n",
            "60:\tlearn: 0.9288939\ttotal: 188ms\tremaining: 120ms\n",
            "61:\tlearn: 0.9300226\ttotal: 192ms\tremaining: 118ms\n",
            "62:\tlearn: 0.9300226\ttotal: 194ms\tremaining: 114ms\n",
            "63:\tlearn: 0.9300226\ttotal: 197ms\tremaining: 111ms\n",
            "64:\tlearn: 0.9288939\ttotal: 199ms\tremaining: 107ms\n",
            "65:\tlearn: 0.9300226\ttotal: 202ms\tremaining: 104ms\n",
            "66:\tlearn: 0.9300226\ttotal: 205ms\tremaining: 101ms\n",
            "67:\tlearn: 0.9300226\ttotal: 207ms\tremaining: 97.5ms\n",
            "68:\tlearn: 0.9300226\ttotal: 210ms\tremaining: 94.3ms\n",
            "69:\tlearn: 0.9288939\ttotal: 213ms\tremaining: 91.1ms\n",
            "70:\tlearn: 0.9300226\ttotal: 215ms\tremaining: 88ms\n",
            "71:\tlearn: 0.9300226\ttotal: 218ms\tremaining: 84.8ms\n",
            "72:\tlearn: 0.9322799\ttotal: 221ms\tremaining: 81.7ms\n",
            "73:\tlearn: 0.9334086\ttotal: 224ms\tremaining: 78.6ms\n",
            "74:\tlearn: 0.9334086\ttotal: 227ms\tremaining: 75.5ms\n",
            "75:\tlearn: 0.9334086\ttotal: 231ms\tremaining: 72.9ms\n",
            "76:\tlearn: 0.9367946\ttotal: 235ms\tremaining: 70.3ms\n",
            "77:\tlearn: 0.9367946\ttotal: 238ms\tremaining: 67.1ms\n",
            "78:\tlearn: 0.9367946\ttotal: 240ms\tremaining: 63.8ms\n",
            "79:\tlearn: 0.9367946\ttotal: 242ms\tremaining: 60.4ms\n",
            "80:\tlearn: 0.9356659\ttotal: 244ms\tremaining: 57.3ms\n",
            "81:\tlearn: 0.9356659\ttotal: 247ms\tremaining: 54.2ms\n",
            "82:\tlearn: 0.9356659\ttotal: 250ms\tremaining: 51.2ms\n",
            "83:\tlearn: 0.9356659\ttotal: 253ms\tremaining: 48.1ms\n",
            "84:\tlearn: 0.9356659\ttotal: 256ms\tremaining: 45.1ms\n",
            "85:\tlearn: 0.9367946\ttotal: 259ms\tremaining: 42.1ms\n",
            "86:\tlearn: 0.9367946\ttotal: 261ms\tremaining: 39ms\n",
            "87:\tlearn: 0.9367946\ttotal: 264ms\tremaining: 36ms\n",
            "88:\tlearn: 0.9367946\ttotal: 266ms\tremaining: 32.9ms\n",
            "89:\tlearn: 0.9367946\ttotal: 269ms\tremaining: 29.8ms\n",
            "90:\tlearn: 0.9367946\ttotal: 272ms\tremaining: 26.9ms\n",
            "91:\tlearn: 0.9367946\ttotal: 274ms\tremaining: 23.8ms\n",
            "92:\tlearn: 0.9367946\ttotal: 278ms\tremaining: 20.9ms\n",
            "93:\tlearn: 0.9367946\ttotal: 280ms\tremaining: 17.8ms\n",
            "94:\tlearn: 0.9367946\ttotal: 282ms\tremaining: 14.9ms\n",
            "95:\tlearn: 0.9367946\ttotal: 285ms\tremaining: 11.9ms\n",
            "96:\tlearn: 0.9367946\ttotal: 288ms\tremaining: 8.91ms\n",
            "97:\tlearn: 0.9367946\ttotal: 293ms\tremaining: 5.98ms\n",
            "98:\tlearn: 0.9367946\ttotal: 303ms\tremaining: 3.06ms\n",
            "99:\tlearn: 0.9367946\ttotal: 306ms\tremaining: 0us\n",
            "0:\tlearn: 0.8735892\ttotal: 3.08ms\tremaining: 305ms\n",
            "1:\tlearn: 0.8814898\ttotal: 5.56ms\tremaining: 273ms\n",
            "2:\tlearn: 0.8871332\ttotal: 7.97ms\tremaining: 258ms\n",
            "3:\tlearn: 0.8871332\ttotal: 10.3ms\tremaining: 248ms\n",
            "4:\tlearn: 0.8769752\ttotal: 11.4ms\tremaining: 216ms\n",
            "5:\tlearn: 0.8735892\ttotal: 12.5ms\tremaining: 197ms\n",
            "6:\tlearn: 0.8758465\ttotal: 13.5ms\tremaining: 179ms\n",
            "7:\tlearn: 0.8803612\ttotal: 16.2ms\tremaining: 187ms\n",
            "8:\tlearn: 0.8803612\ttotal: 19.6ms\tremaining: 199ms\n",
            "9:\tlearn: 0.8814898\ttotal: 22.7ms\tremaining: 205ms\n",
            "10:\tlearn: 0.8814898\ttotal: 25.6ms\tremaining: 207ms\n",
            "11:\tlearn: 0.8814898\ttotal: 28.4ms\tremaining: 209ms\n",
            "12:\tlearn: 0.8814898\ttotal: 31.3ms\tremaining: 210ms\n",
            "13:\tlearn: 0.8860045\ttotal: 32.6ms\tremaining: 200ms\n",
            "14:\tlearn: 0.8860045\ttotal: 35.7ms\tremaining: 202ms\n",
            "15:\tlearn: 0.8882619\ttotal: 40.3ms\tremaining: 212ms\n",
            "16:\tlearn: 0.8893905\ttotal: 44.3ms\tremaining: 216ms\n",
            "17:\tlearn: 0.8905192\ttotal: 46.7ms\tremaining: 213ms\n",
            "18:\tlearn: 0.8927765\ttotal: 49.2ms\tremaining: 210ms\n",
            "19:\tlearn: 0.8905192\ttotal: 51.5ms\tremaining: 206ms\n",
            "20:\tlearn: 0.8916479\ttotal: 53.9ms\tremaining: 203ms\n",
            "21:\tlearn: 0.8927765\ttotal: 56.3ms\tremaining: 200ms\n",
            "22:\tlearn: 0.8972912\ttotal: 58.7ms\tremaining: 196ms\n",
            "23:\tlearn: 0.8984199\ttotal: 61ms\tremaining: 193ms\n",
            "24:\tlearn: 0.8984199\ttotal: 63.3ms\tremaining: 190ms\n",
            "25:\tlearn: 0.9006772\ttotal: 65.7ms\tremaining: 187ms\n",
            "26:\tlearn: 0.9006772\ttotal: 68ms\tremaining: 184ms\n",
            "27:\tlearn: 0.9051919\ttotal: 70.5ms\tremaining: 181ms\n",
            "28:\tlearn: 0.9051919\ttotal: 77.2ms\tremaining: 189ms\n",
            "29:\tlearn: 0.9074492\ttotal: 79.6ms\tremaining: 186ms\n",
            "30:\tlearn: 0.9074492\ttotal: 82ms\tremaining: 182ms\n",
            "31:\tlearn: 0.9063205\ttotal: 84.3ms\tremaining: 179ms\n",
            "32:\tlearn: 0.9063205\ttotal: 86.6ms\tremaining: 176ms\n",
            "33:\tlearn: 0.9063205\ttotal: 88.9ms\tremaining: 173ms\n",
            "34:\tlearn: 0.9097065\ttotal: 91.2ms\tremaining: 169ms\n",
            "35:\tlearn: 0.9108352\ttotal: 94.1ms\tremaining: 167ms\n",
            "36:\tlearn: 0.9108352\ttotal: 97.2ms\tremaining: 166ms\n",
            "37:\tlearn: 0.9130926\ttotal: 100ms\tremaining: 164ms\n",
            "38:\tlearn: 0.9153499\ttotal: 103ms\tremaining: 161ms\n",
            "39:\tlearn: 0.9164786\ttotal: 107ms\tremaining: 160ms\n",
            "40:\tlearn: 0.9153499\ttotal: 110ms\tremaining: 158ms\n",
            "41:\tlearn: 0.9164786\ttotal: 113ms\tremaining: 156ms\n",
            "42:\tlearn: 0.9164786\ttotal: 116ms\tremaining: 154ms\n",
            "43:\tlearn: 0.9176072\ttotal: 119ms\tremaining: 151ms\n",
            "44:\tlearn: 0.9164786\ttotal: 122ms\tremaining: 149ms\n",
            "45:\tlearn: 0.9176072\ttotal: 125ms\tremaining: 146ms\n",
            "46:\tlearn: 0.9176072\ttotal: 127ms\tremaining: 144ms\n",
            "47:\tlearn: 0.9176072\ttotal: 130ms\tremaining: 141ms\n",
            "48:\tlearn: 0.9198646\ttotal: 133ms\tremaining: 138ms\n",
            "49:\tlearn: 0.9209932\ttotal: 136ms\tremaining: 136ms\n",
            "50:\tlearn: 0.9209932\ttotal: 139ms\tremaining: 133ms\n",
            "51:\tlearn: 0.9209932\ttotal: 142ms\tremaining: 131ms\n",
            "52:\tlearn: 0.9221219\ttotal: 146ms\tremaining: 130ms\n",
            "53:\tlearn: 0.9221219\ttotal: 151ms\tremaining: 129ms\n",
            "54:\tlearn: 0.9255079\ttotal: 154ms\tremaining: 126ms\n",
            "55:\tlearn: 0.9243792\ttotal: 157ms\tremaining: 123ms\n",
            "56:\tlearn: 0.9243792\ttotal: 160ms\tremaining: 121ms\n",
            "57:\tlearn: 0.9255079\ttotal: 163ms\tremaining: 118ms\n",
            "58:\tlearn: 0.9266366\ttotal: 165ms\tremaining: 115ms\n",
            "59:\tlearn: 0.9277652\ttotal: 168ms\tremaining: 112ms\n",
            "60:\tlearn: 0.9277652\ttotal: 171ms\tremaining: 109ms\n",
            "61:\tlearn: 0.9300226\ttotal: 173ms\tremaining: 106ms\n",
            "62:\tlearn: 0.9266366\ttotal: 175ms\tremaining: 103ms\n",
            "63:\tlearn: 0.9277652\ttotal: 177ms\tremaining: 99.7ms\n",
            "64:\tlearn: 0.9277652\ttotal: 180ms\tremaining: 97ms\n",
            "65:\tlearn: 0.9277652\ttotal: 183ms\tremaining: 94.1ms\n",
            "66:\tlearn: 0.9277652\ttotal: 186ms\tremaining: 91.4ms\n",
            "67:\tlearn: 0.9288939\ttotal: 188ms\tremaining: 88.7ms\n",
            "68:\tlearn: 0.9300226\ttotal: 191ms\tremaining: 85.9ms\n",
            "69:\tlearn: 0.9311512\ttotal: 194ms\tremaining: 83.2ms\n",
            "70:\tlearn: 0.9300226\ttotal: 197ms\tremaining: 80.5ms\n",
            "71:\tlearn: 0.9311512\ttotal: 200ms\tremaining: 77.7ms\n",
            "72:\tlearn: 0.9311512\ttotal: 203ms\tremaining: 74.9ms\n",
            "73:\tlearn: 0.9300226\ttotal: 205ms\tremaining: 72.2ms\n",
            "74:\tlearn: 0.9311512\ttotal: 208ms\tremaining: 69.4ms\n",
            "75:\tlearn: 0.9300226\ttotal: 211ms\tremaining: 66.6ms\n",
            "76:\tlearn: 0.9300226\ttotal: 214ms\tremaining: 63.9ms\n",
            "77:\tlearn: 0.9300226\ttotal: 217ms\tremaining: 61.1ms\n",
            "78:\tlearn: 0.9300226\ttotal: 222ms\tremaining: 59ms\n",
            "79:\tlearn: 0.9300226\ttotal: 225ms\tremaining: 56.3ms\n",
            "80:\tlearn: 0.9311512\ttotal: 228ms\tremaining: 53.4ms\n",
            "81:\tlearn: 0.9300226\ttotal: 230ms\tremaining: 50.6ms\n",
            "82:\tlearn: 0.9311512\ttotal: 233ms\tremaining: 47.7ms\n",
            "83:\tlearn: 0.9311512\ttotal: 236ms\tremaining: 44.9ms\n",
            "84:\tlearn: 0.9311512\ttotal: 239ms\tremaining: 42.1ms\n",
            "85:\tlearn: 0.9300226\ttotal: 241ms\tremaining: 39.3ms\n",
            "86:\tlearn: 0.9300226\ttotal: 244ms\tremaining: 36.5ms\n",
            "87:\tlearn: 0.9300226\ttotal: 246ms\tremaining: 33.5ms\n",
            "88:\tlearn: 0.9311512\ttotal: 247ms\tremaining: 30.5ms\n",
            "89:\tlearn: 0.9311512\ttotal: 250ms\tremaining: 27.8ms\n",
            "90:\tlearn: 0.9288939\ttotal: 256ms\tremaining: 25.3ms\n",
            "91:\tlearn: 0.9311512\ttotal: 258ms\tremaining: 22.4ms\n",
            "92:\tlearn: 0.9322799\ttotal: 261ms\tremaining: 19.6ms\n",
            "93:\tlearn: 0.9322799\ttotal: 263ms\tremaining: 16.8ms\n",
            "94:\tlearn: 0.9322799\ttotal: 263ms\tremaining: 13.9ms\n",
            "95:\tlearn: 0.9322799\ttotal: 264ms\tremaining: 11ms\n",
            "96:\tlearn: 0.9322799\ttotal: 265ms\tremaining: 8.21ms\n",
            "97:\tlearn: 0.9334086\ttotal: 268ms\tremaining: 5.46ms\n",
            "98:\tlearn: 0.9334086\ttotal: 270ms\tremaining: 2.73ms\n",
            "99:\tlearn: 0.9345372\ttotal: 273ms\tremaining: 0us\n",
            "0:\tlearn: 0.8634312\ttotal: 8.92ms\tremaining: 883ms\n",
            "1:\tlearn: 0.8781038\ttotal: 24.1ms\tremaining: 1.18s\n",
            "2:\tlearn: 0.8837472\ttotal: 35.4ms\tremaining: 1.15s\n",
            "3:\tlearn: 0.8871332\ttotal: 42.9ms\tremaining: 1.03s\n",
            "4:\tlearn: 0.8781038\ttotal: 43.7ms\tremaining: 830ms\n",
            "5:\tlearn: 0.8826185\ttotal: 49.4ms\tremaining: 773ms\n",
            "6:\tlearn: 0.8905192\ttotal: 56ms\tremaining: 745ms\n",
            "7:\tlearn: 0.8893905\ttotal: 65.2ms\tremaining: 750ms\n",
            "8:\tlearn: 0.8961625\ttotal: 70.1ms\tremaining: 708ms\n",
            "9:\tlearn: 0.8950339\ttotal: 80.8ms\tremaining: 727ms\n",
            "10:\tlearn: 0.8939052\ttotal: 83.8ms\tremaining: 678ms\n",
            "11:\tlearn: 0.8939052\ttotal: 94.3ms\tremaining: 692ms\n",
            "12:\tlearn: 0.8950339\ttotal: 98.2ms\tremaining: 657ms\n",
            "13:\tlearn: 0.8939052\ttotal: 102ms\tremaining: 629ms\n",
            "14:\tlearn: 0.8961625\ttotal: 111ms\tremaining: 626ms\n",
            "15:\tlearn: 0.9018059\ttotal: 114ms\tremaining: 596ms\n",
            "16:\tlearn: 0.9051919\ttotal: 116ms\tremaining: 567ms\n",
            "17:\tlearn: 0.9029345\ttotal: 126ms\tremaining: 572ms\n",
            "18:\tlearn: 0.8995485\ttotal: 126ms\tremaining: 539ms\n",
            "19:\tlearn: 0.9029345\ttotal: 129ms\tremaining: 516ms\n",
            "20:\tlearn: 0.9040632\ttotal: 133ms\tremaining: 501ms\n",
            "21:\tlearn: 0.9018059\ttotal: 136ms\tremaining: 481ms\n",
            "22:\tlearn: 0.9051919\ttotal: 139ms\tremaining: 464ms\n",
            "23:\tlearn: 0.9074492\ttotal: 139ms\tremaining: 441ms\n",
            "24:\tlearn: 0.9063205\ttotal: 142ms\tremaining: 426ms\n",
            "25:\tlearn: 0.9119639\ttotal: 145ms\tremaining: 411ms\n",
            "26:\tlearn: 0.9108352\ttotal: 147ms\tremaining: 397ms\n",
            "27:\tlearn: 0.9119639\ttotal: 149ms\tremaining: 384ms\n",
            "28:\tlearn: 0.9097065\ttotal: 150ms\tremaining: 367ms\n",
            "29:\tlearn: 0.9130926\ttotal: 152ms\tremaining: 356ms\n",
            "30:\tlearn: 0.9142212\ttotal: 156ms\tremaining: 347ms\n",
            "31:\tlearn: 0.9142212\ttotal: 162ms\tremaining: 345ms\n",
            "32:\tlearn: 0.9164786\ttotal: 165ms\tremaining: 336ms\n",
            "33:\tlearn: 0.9176072\ttotal: 171ms\tremaining: 333ms\n",
            "34:\tlearn: 0.9187359\ttotal: 174ms\tremaining: 323ms\n",
            "35:\tlearn: 0.9187359\ttotal: 177ms\tremaining: 314ms\n",
            "36:\tlearn: 0.9198646\ttotal: 179ms\tremaining: 305ms\n",
            "37:\tlearn: 0.9198646\ttotal: 182ms\tremaining: 297ms\n",
            "38:\tlearn: 0.9198646\ttotal: 185ms\tremaining: 289ms\n",
            "39:\tlearn: 0.9221219\ttotal: 188ms\tremaining: 281ms\n",
            "40:\tlearn: 0.9221219\ttotal: 190ms\tremaining: 273ms\n",
            "41:\tlearn: 0.9232506\ttotal: 192ms\tremaining: 266ms\n",
            "42:\tlearn: 0.9221219\ttotal: 195ms\tremaining: 259ms\n",
            "43:\tlearn: 0.9221219\ttotal: 199ms\tremaining: 253ms\n",
            "44:\tlearn: 0.9221219\ttotal: 201ms\tremaining: 246ms\n",
            "45:\tlearn: 0.9232506\ttotal: 203ms\tremaining: 239ms\n",
            "46:\tlearn: 0.9255079\ttotal: 206ms\tremaining: 232ms\n",
            "47:\tlearn: 0.9232506\ttotal: 208ms\tremaining: 226ms\n",
            "48:\tlearn: 0.9243792\ttotal: 212ms\tremaining: 221ms\n",
            "49:\tlearn: 0.9243792\ttotal: 214ms\tremaining: 214ms\n",
            "50:\tlearn: 0.9243792\ttotal: 217ms\tremaining: 209ms\n",
            "51:\tlearn: 0.9266366\ttotal: 220ms\tremaining: 203ms\n",
            "52:\tlearn: 0.9277652\ttotal: 223ms\tremaining: 197ms\n",
            "53:\tlearn: 0.9288939\ttotal: 225ms\tremaining: 192ms\n",
            "54:\tlearn: 0.9288939\ttotal: 229ms\tremaining: 187ms\n",
            "55:\tlearn: 0.9288939\ttotal: 232ms\tremaining: 182ms\n",
            "56:\tlearn: 0.9288939\ttotal: 235ms\tremaining: 177ms\n",
            "57:\tlearn: 0.9288939\ttotal: 237ms\tremaining: 172ms\n",
            "58:\tlearn: 0.9277652\ttotal: 240ms\tremaining: 167ms\n",
            "59:\tlearn: 0.9288939\ttotal: 243ms\tremaining: 162ms\n",
            "60:\tlearn: 0.9288939\ttotal: 245ms\tremaining: 157ms\n",
            "61:\tlearn: 0.9300226\ttotal: 248ms\tremaining: 152ms\n",
            "62:\tlearn: 0.9300226\ttotal: 250ms\tremaining: 147ms\n",
            "63:\tlearn: 0.9300226\ttotal: 255ms\tremaining: 144ms\n",
            "64:\tlearn: 0.9311512\ttotal: 258ms\tremaining: 139ms\n",
            "65:\tlearn: 0.9322799\ttotal: 260ms\tremaining: 134ms\n",
            "66:\tlearn: 0.9334086\ttotal: 263ms\tremaining: 129ms\n",
            "67:\tlearn: 0.9322799\ttotal: 266ms\tremaining: 125ms\n",
            "68:\tlearn: 0.9322799\ttotal: 268ms\tremaining: 121ms\n",
            "69:\tlearn: 0.9334086\ttotal: 271ms\tremaining: 116ms\n",
            "70:\tlearn: 0.9322799\ttotal: 273ms\tremaining: 112ms\n",
            "71:\tlearn: 0.9334086\ttotal: 275ms\tremaining: 107ms\n",
            "72:\tlearn: 0.9322799\ttotal: 281ms\tremaining: 104ms\n",
            "73:\tlearn: 0.9345372\ttotal: 284ms\tremaining: 99.8ms\n",
            "74:\tlearn: 0.9356659\ttotal: 286ms\tremaining: 95.5ms\n",
            "75:\tlearn: 0.9345372\ttotal: 289ms\tremaining: 91.2ms\n",
            "76:\tlearn: 0.9356659\ttotal: 292ms\tremaining: 87.2ms\n",
            "77:\tlearn: 0.9367946\ttotal: 294ms\tremaining: 83.1ms\n",
            "78:\tlearn: 0.9356659\ttotal: 298ms\tremaining: 79.2ms\n",
            "79:\tlearn: 0.9345372\ttotal: 301ms\tremaining: 75.1ms\n",
            "80:\tlearn: 0.9379233\ttotal: 308ms\tremaining: 72.2ms\n",
            "81:\tlearn: 0.9367946\ttotal: 313ms\tremaining: 68.8ms\n",
            "82:\tlearn: 0.9367946\ttotal: 317ms\tremaining: 64.8ms\n",
            "83:\tlearn: 0.9390519\ttotal: 321ms\tremaining: 61.1ms\n",
            "84:\tlearn: 0.9390519\ttotal: 328ms\tremaining: 58ms\n",
            "85:\tlearn: 0.9379233\ttotal: 340ms\tremaining: 55.3ms\n",
            "86:\tlearn: 0.9379233\ttotal: 344ms\tremaining: 51.4ms\n",
            "87:\tlearn: 0.9379233\ttotal: 351ms\tremaining: 47.9ms\n",
            "88:\tlearn: 0.9379233\ttotal: 357ms\tremaining: 44.1ms\n",
            "89:\tlearn: 0.9379233\ttotal: 361ms\tremaining: 40.1ms\n",
            "90:\tlearn: 0.9379233\ttotal: 369ms\tremaining: 36.5ms\n",
            "91:\tlearn: 0.9379233\ttotal: 374ms\tremaining: 32.6ms\n",
            "92:\tlearn: 0.9379233\ttotal: 379ms\tremaining: 28.6ms\n",
            "93:\tlearn: 0.9379233\ttotal: 384ms\tremaining: 24.5ms\n",
            "94:\tlearn: 0.9390519\ttotal: 392ms\tremaining: 20.6ms\n",
            "95:\tlearn: 0.9401806\ttotal: 395ms\tremaining: 16.5ms\n",
            "96:\tlearn: 0.9401806\ttotal: 397ms\tremaining: 12.3ms\n",
            "97:\tlearn: 0.9413093\ttotal: 400ms\tremaining: 8.17ms\n",
            "98:\tlearn: 0.9424379\ttotal: 403ms\tremaining: 4.07ms\n",
            "99:\tlearn: 0.9424379\ttotal: 406ms\tremaining: 0us\n",
            "0:\tlearn: 0.8713318\ttotal: 3.91ms\tremaining: 387ms\n",
            "1:\tlearn: 0.8781038\ttotal: 6.83ms\tremaining: 334ms\n",
            "2:\tlearn: 0.8950339\ttotal: 9.25ms\tremaining: 299ms\n",
            "3:\tlearn: 0.8995485\ttotal: 13ms\tremaining: 311ms\n",
            "4:\tlearn: 0.8848758\ttotal: 13.8ms\tremaining: 263ms\n",
            "5:\tlearn: 0.8826185\ttotal: 15ms\tremaining: 234ms\n",
            "6:\tlearn: 0.8803612\ttotal: 15.8ms\tremaining: 209ms\n",
            "7:\tlearn: 0.8792325\ttotal: 18.1ms\tremaining: 208ms\n",
            "8:\tlearn: 0.8826185\ttotal: 20.6ms\tremaining: 208ms\n",
            "9:\tlearn: 0.8826185\ttotal: 23ms\tremaining: 207ms\n",
            "10:\tlearn: 0.8871332\ttotal: 25.4ms\tremaining: 205ms\n",
            "11:\tlearn: 0.8837472\ttotal: 28.1ms\tremaining: 206ms\n",
            "12:\tlearn: 0.8871332\ttotal: 30.9ms\tremaining: 207ms\n",
            "13:\tlearn: 0.8860045\ttotal: 31.7ms\tremaining: 195ms\n",
            "14:\tlearn: 0.8848758\ttotal: 34.7ms\tremaining: 197ms\n",
            "15:\tlearn: 0.8860045\ttotal: 37.5ms\tremaining: 197ms\n",
            "16:\tlearn: 0.8837472\ttotal: 40.6ms\tremaining: 198ms\n",
            "17:\tlearn: 0.8871332\ttotal: 43.3ms\tremaining: 197ms\n",
            "18:\tlearn: 0.8893905\ttotal: 46.2ms\tremaining: 197ms\n",
            "19:\tlearn: 0.8905192\ttotal: 49ms\tremaining: 196ms\n",
            "20:\tlearn: 0.8916479\ttotal: 52.1ms\tremaining: 196ms\n",
            "21:\tlearn: 0.8961625\ttotal: 54.9ms\tremaining: 195ms\n",
            "22:\tlearn: 0.8961625\ttotal: 62.4ms\tremaining: 209ms\n",
            "23:\tlearn: 0.9018059\ttotal: 65.2ms\tremaining: 207ms\n",
            "24:\tlearn: 0.9029345\ttotal: 67.6ms\tremaining: 203ms\n",
            "25:\tlearn: 0.9040632\ttotal: 70ms\tremaining: 199ms\n",
            "26:\tlearn: 0.9051919\ttotal: 72.3ms\tremaining: 196ms\n",
            "27:\tlearn: 0.9074492\ttotal: 74.6ms\tremaining: 192ms\n",
            "28:\tlearn: 0.9108352\ttotal: 76.9ms\tremaining: 188ms\n",
            "29:\tlearn: 0.9108352\ttotal: 79.7ms\tremaining: 186ms\n",
            "30:\tlearn: 0.9108352\ttotal: 82.3ms\tremaining: 183ms\n",
            "31:\tlearn: 0.9108352\ttotal: 85ms\tremaining: 181ms\n",
            "32:\tlearn: 0.9108352\ttotal: 88ms\tremaining: 179ms\n",
            "33:\tlearn: 0.9097065\ttotal: 90.8ms\tremaining: 176ms\n",
            "34:\tlearn: 0.9130926\ttotal: 93.6ms\tremaining: 174ms\n",
            "35:\tlearn: 0.9130926\ttotal: 96.3ms\tremaining: 171ms\n",
            "36:\tlearn: 0.9164786\ttotal: 99.2ms\tremaining: 169ms\n",
            "37:\tlearn: 0.9164786\ttotal: 102ms\tremaining: 166ms\n",
            "38:\tlearn: 0.9164786\ttotal: 105ms\tremaining: 164ms\n",
            "39:\tlearn: 0.9176072\ttotal: 107ms\tremaining: 161ms\n",
            "40:\tlearn: 0.9187359\ttotal: 110ms\tremaining: 159ms\n",
            "41:\tlearn: 0.9187359\ttotal: 113ms\tremaining: 156ms\n",
            "42:\tlearn: 0.9198646\ttotal: 116ms\tremaining: 154ms\n",
            "43:\tlearn: 0.9198646\ttotal: 119ms\tremaining: 151ms\n",
            "44:\tlearn: 0.9209932\ttotal: 122ms\tremaining: 149ms\n",
            "45:\tlearn: 0.9232506\ttotal: 124ms\tremaining: 146ms\n",
            "46:\tlearn: 0.9232506\ttotal: 127ms\tremaining: 144ms\n",
            "47:\tlearn: 0.9232506\ttotal: 130ms\tremaining: 141ms\n",
            "48:\tlearn: 0.9232506\ttotal: 133ms\tremaining: 138ms\n",
            "49:\tlearn: 0.9243792\ttotal: 138ms\tremaining: 138ms\n",
            "50:\tlearn: 0.9243792\ttotal: 141ms\tremaining: 135ms\n",
            "51:\tlearn: 0.9243792\ttotal: 144ms\tremaining: 132ms\n",
            "52:\tlearn: 0.9243792\ttotal: 146ms\tremaining: 130ms\n",
            "53:\tlearn: 0.9243792\ttotal: 149ms\tremaining: 127ms\n",
            "54:\tlearn: 0.9243792\ttotal: 152ms\tremaining: 124ms\n",
            "55:\tlearn: 0.9255079\ttotal: 155ms\tremaining: 122ms\n",
            "56:\tlearn: 0.9232506\ttotal: 157ms\tremaining: 119ms\n",
            "57:\tlearn: 0.9232506\ttotal: 160ms\tremaining: 116ms\n",
            "58:\tlearn: 0.9209932\ttotal: 172ms\tremaining: 119ms\n",
            "59:\tlearn: 0.9243792\ttotal: 175ms\tremaining: 116ms\n",
            "60:\tlearn: 0.9255079\ttotal: 178ms\tremaining: 113ms\n",
            "61:\tlearn: 0.9255079\ttotal: 182ms\tremaining: 112ms\n",
            "62:\tlearn: 0.9266366\ttotal: 183ms\tremaining: 108ms\n",
            "63:\tlearn: 0.9266366\ttotal: 188ms\tremaining: 106ms\n",
            "64:\tlearn: 0.9277652\ttotal: 192ms\tremaining: 103ms\n",
            "65:\tlearn: 0.9277652\ttotal: 195ms\tremaining: 100ms\n",
            "66:\tlearn: 0.9277652\ttotal: 197ms\tremaining: 97.1ms\n",
            "67:\tlearn: 0.9288939\ttotal: 199ms\tremaining: 93.8ms\n",
            "68:\tlearn: 0.9277652\ttotal: 202ms\tremaining: 90.8ms\n",
            "69:\tlearn: 0.9300226\ttotal: 205ms\tremaining: 87.7ms\n",
            "70:\tlearn: 0.9300226\ttotal: 207ms\tremaining: 84.7ms\n",
            "71:\tlearn: 0.9311512\ttotal: 210ms\tremaining: 81.7ms\n",
            "72:\tlearn: 0.9300226\ttotal: 213ms\tremaining: 78.7ms\n",
            "73:\tlearn: 0.9311512\ttotal: 215ms\tremaining: 75.6ms\n",
            "74:\tlearn: 0.9322799\ttotal: 218ms\tremaining: 72.6ms\n",
            "75:\tlearn: 0.9311512\ttotal: 221ms\tremaining: 69.7ms\n",
            "76:\tlearn: 0.9311512\ttotal: 224ms\tremaining: 66.8ms\n",
            "77:\tlearn: 0.9311512\ttotal: 226ms\tremaining: 63.8ms\n",
            "78:\tlearn: 0.9311512\ttotal: 229ms\tremaining: 60.9ms\n",
            "79:\tlearn: 0.9311512\ttotal: 232ms\tremaining: 57.9ms\n",
            "80:\tlearn: 0.9311512\ttotal: 234ms\tremaining: 55ms\n",
            "81:\tlearn: 0.9311512\ttotal: 237ms\tremaining: 52.1ms\n",
            "82:\tlearn: 0.9311512\ttotal: 240ms\tremaining: 49.1ms\n",
            "83:\tlearn: 0.9311512\ttotal: 243ms\tremaining: 46.2ms\n",
            "84:\tlearn: 0.9322799\ttotal: 245ms\tremaining: 43.3ms\n",
            "85:\tlearn: 0.9334086\ttotal: 248ms\tremaining: 40.4ms\n",
            "86:\tlearn: 0.9334086\ttotal: 251ms\tremaining: 37.5ms\n",
            "87:\tlearn: 0.9334086\ttotal: 253ms\tremaining: 34.6ms\n",
            "88:\tlearn: 0.9345372\ttotal: 256ms\tremaining: 31.7ms\n",
            "89:\tlearn: 0.9334086\ttotal: 259ms\tremaining: 28.8ms\n",
            "90:\tlearn: 0.9334086\ttotal: 260ms\tremaining: 25.7ms\n",
            "91:\tlearn: 0.9334086\ttotal: 263ms\tremaining: 22.9ms\n",
            "92:\tlearn: 0.9334086\ttotal: 264ms\tremaining: 19.9ms\n",
            "93:\tlearn: 0.9322799\ttotal: 267ms\tremaining: 17ms\n",
            "94:\tlearn: 0.9334086\ttotal: 269ms\tremaining: 14.2ms\n",
            "95:\tlearn: 0.9334086\ttotal: 272ms\tremaining: 11.3ms\n",
            "96:\tlearn: 0.9334086\ttotal: 275ms\tremaining: 8.51ms\n",
            "97:\tlearn: 0.9345372\ttotal: 278ms\tremaining: 5.67ms\n",
            "98:\tlearn: 0.9345372\ttotal: 281ms\tremaining: 2.84ms\n",
            "99:\tlearn: 0.9345372\ttotal: 282ms\tremaining: 0us\n",
            "0:\tlearn: 0.8690745\ttotal: 2.41ms\tremaining: 238ms\n",
            "1:\tlearn: 0.8803612\ttotal: 5.16ms\tremaining: 253ms\n",
            "2:\tlearn: 0.8927765\ttotal: 7.94ms\tremaining: 257ms\n",
            "3:\tlearn: 0.8916479\ttotal: 11.1ms\tremaining: 267ms\n",
            "4:\tlearn: 0.8724605\ttotal: 12.1ms\tremaining: 230ms\n",
            "5:\tlearn: 0.8803612\ttotal: 13.2ms\tremaining: 208ms\n",
            "6:\tlearn: 0.8758465\ttotal: 14.1ms\tremaining: 188ms\n",
            "7:\tlearn: 0.8814898\ttotal: 16.8ms\tremaining: 193ms\n",
            "8:\tlearn: 0.8814898\ttotal: 19.6ms\tremaining: 198ms\n",
            "9:\tlearn: 0.8837472\ttotal: 22.6ms\tremaining: 204ms\n",
            "10:\tlearn: 0.8826185\ttotal: 25.4ms\tremaining: 206ms\n",
            "11:\tlearn: 0.8860045\ttotal: 28.2ms\tremaining: 207ms\n",
            "12:\tlearn: 0.8848758\ttotal: 31.6ms\tremaining: 212ms\n",
            "13:\tlearn: 0.8814898\ttotal: 34.3ms\tremaining: 211ms\n",
            "14:\tlearn: 0.8837472\ttotal: 37ms\tremaining: 210ms\n",
            "15:\tlearn: 0.8848758\ttotal: 39.8ms\tremaining: 209ms\n",
            "16:\tlearn: 0.8848758\ttotal: 40.9ms\tremaining: 200ms\n",
            "17:\tlearn: 0.8826185\ttotal: 43.7ms\tremaining: 199ms\n",
            "18:\tlearn: 0.8871332\ttotal: 46.4ms\tremaining: 198ms\n",
            "19:\tlearn: 0.8916479\ttotal: 48.4ms\tremaining: 194ms\n",
            "20:\tlearn: 0.8927765\ttotal: 51.3ms\tremaining: 193ms\n",
            "21:\tlearn: 0.8939052\ttotal: 61.2ms\tremaining: 217ms\n",
            "22:\tlearn: 0.8961625\ttotal: 64.4ms\tremaining: 216ms\n",
            "23:\tlearn: 0.8984199\ttotal: 71.3ms\tremaining: 226ms\n",
            "24:\tlearn: 0.8995485\ttotal: 73.7ms\tremaining: 221ms\n",
            "25:\tlearn: 0.9040632\ttotal: 76.1ms\tremaining: 217ms\n",
            "26:\tlearn: 0.9040632\ttotal: 78.5ms\tremaining: 212ms\n",
            "27:\tlearn: 0.9063205\ttotal: 81ms\tremaining: 208ms\n",
            "28:\tlearn: 0.9051919\ttotal: 83.4ms\tremaining: 204ms\n",
            "29:\tlearn: 0.9051919\ttotal: 85.6ms\tremaining: 200ms\n",
            "30:\tlearn: 0.9074492\ttotal: 88ms\tremaining: 196ms\n",
            "31:\tlearn: 0.9074492\ttotal: 90.3ms\tremaining: 192ms\n",
            "32:\tlearn: 0.9108352\ttotal: 92.9ms\tremaining: 189ms\n",
            "33:\tlearn: 0.9097065\ttotal: 95.7ms\tremaining: 186ms\n",
            "34:\tlearn: 0.9097065\ttotal: 98.1ms\tremaining: 182ms\n",
            "35:\tlearn: 0.9142212\ttotal: 101ms\tremaining: 180ms\n",
            "36:\tlearn: 0.9142212\ttotal: 104ms\tremaining: 177ms\n",
            "37:\tlearn: 0.9164786\ttotal: 107ms\tremaining: 174ms\n",
            "38:\tlearn: 0.9176072\ttotal: 110ms\tremaining: 172ms\n",
            "39:\tlearn: 0.9187359\ttotal: 113ms\tremaining: 169ms\n",
            "40:\tlearn: 0.9176072\ttotal: 115ms\tremaining: 166ms\n",
            "41:\tlearn: 0.9187359\ttotal: 118ms\tremaining: 163ms\n",
            "42:\tlearn: 0.9209932\ttotal: 121ms\tremaining: 160ms\n",
            "43:\tlearn: 0.9221219\ttotal: 124ms\tremaining: 158ms\n",
            "44:\tlearn: 0.9232506\ttotal: 127ms\tremaining: 155ms\n",
            "45:\tlearn: 0.9243792\ttotal: 130ms\tremaining: 152ms\n",
            "46:\tlearn: 0.9266366\ttotal: 132ms\tremaining: 149ms\n",
            "47:\tlearn: 0.9255079\ttotal: 135ms\tremaining: 146ms\n",
            "48:\tlearn: 0.9255079\ttotal: 138ms\tremaining: 143ms\n",
            "49:\tlearn: 0.9277652\ttotal: 140ms\tremaining: 140ms\n",
            "50:\tlearn: 0.9266366\ttotal: 143ms\tremaining: 138ms\n",
            "51:\tlearn: 0.9277652\ttotal: 146ms\tremaining: 135ms\n",
            "52:\tlearn: 0.9266366\ttotal: 149ms\tremaining: 132ms\n",
            "53:\tlearn: 0.9266366\ttotal: 152ms\tremaining: 130ms\n",
            "54:\tlearn: 0.9266366\ttotal: 155ms\tremaining: 127ms\n",
            "55:\tlearn: 0.9266366\ttotal: 160ms\tremaining: 126ms\n",
            "56:\tlearn: 0.9277652\ttotal: 165ms\tremaining: 125ms\n",
            "57:\tlearn: 0.9288939\ttotal: 172ms\tremaining: 125ms\n",
            "58:\tlearn: 0.9277652\ttotal: 177ms\tremaining: 123ms\n",
            "59:\tlearn: 0.9311512\ttotal: 180ms\tremaining: 120ms\n",
            "60:\tlearn: 0.9300226\ttotal: 183ms\tremaining: 117ms\n",
            "61:\tlearn: 0.9322799\ttotal: 186ms\tremaining: 114ms\n",
            "62:\tlearn: 0.9322799\ttotal: 188ms\tremaining: 111ms\n",
            "63:\tlearn: 0.9322799\ttotal: 190ms\tremaining: 107ms\n",
            "64:\tlearn: 0.9322799\ttotal: 192ms\tremaining: 104ms\n",
            "65:\tlearn: 0.9322799\ttotal: 195ms\tremaining: 100ms\n",
            "66:\tlearn: 0.9334086\ttotal: 198ms\tremaining: 97.5ms\n",
            "67:\tlearn: 0.9345372\ttotal: 201ms\tremaining: 94.6ms\n",
            "68:\tlearn: 0.9334086\ttotal: 202ms\tremaining: 90.8ms\n",
            "69:\tlearn: 0.9334086\ttotal: 205ms\tremaining: 87.8ms\n",
            "70:\tlearn: 0.9334086\ttotal: 208ms\tremaining: 84.8ms\n",
            "71:\tlearn: 0.9356659\ttotal: 210ms\tremaining: 81.8ms\n",
            "72:\tlearn: 0.9356659\ttotal: 213ms\tremaining: 78.8ms\n",
            "73:\tlearn: 0.9356659\ttotal: 216ms\tremaining: 75.8ms\n",
            "74:\tlearn: 0.9356659\ttotal: 219ms\tremaining: 72.9ms\n",
            "75:\tlearn: 0.9367946\ttotal: 222ms\tremaining: 70ms\n",
            "76:\tlearn: 0.9356659\ttotal: 224ms\tremaining: 67ms\n",
            "77:\tlearn: 0.9356659\ttotal: 227ms\tremaining: 64ms\n",
            "78:\tlearn: 0.9356659\ttotal: 230ms\tremaining: 61.1ms\n",
            "79:\tlearn: 0.9356659\ttotal: 233ms\tremaining: 58.1ms\n",
            "80:\tlearn: 0.9356659\ttotal: 235ms\tremaining: 55.2ms\n",
            "81:\tlearn: 0.9356659\ttotal: 239ms\tremaining: 52.4ms\n",
            "82:\tlearn: 0.9367946\ttotal: 245ms\tremaining: 50.1ms\n",
            "83:\tlearn: 0.9356659\ttotal: 249ms\tremaining: 47.4ms\n",
            "84:\tlearn: 0.9356659\ttotal: 251ms\tremaining: 44.2ms\n",
            "85:\tlearn: 0.9356659\ttotal: 254ms\tremaining: 41.3ms\n",
            "86:\tlearn: 0.9356659\ttotal: 257ms\tremaining: 38.3ms\n",
            "87:\tlearn: 0.9367946\ttotal: 259ms\tremaining: 35.4ms\n",
            "88:\tlearn: 0.9367946\ttotal: 262ms\tremaining: 32.4ms\n",
            "89:\tlearn: 0.9367946\ttotal: 265ms\tremaining: 29.4ms\n",
            "90:\tlearn: 0.9367946\ttotal: 268ms\tremaining: 26.5ms\n",
            "91:\tlearn: 0.9367946\ttotal: 270ms\tremaining: 23.5ms\n",
            "92:\tlearn: 0.9367946\ttotal: 273ms\tremaining: 20.6ms\n",
            "93:\tlearn: 0.9367946\ttotal: 276ms\tremaining: 17.6ms\n",
            "94:\tlearn: 0.9367946\ttotal: 279ms\tremaining: 14.7ms\n",
            "95:\tlearn: 0.9367946\ttotal: 282ms\tremaining: 11.7ms\n",
            "96:\tlearn: 0.9379233\ttotal: 284ms\tremaining: 8.79ms\n",
            "97:\tlearn: 0.9379233\ttotal: 287ms\tremaining: 5.86ms\n",
            "98:\tlearn: 0.9379233\ttotal: 290ms\tremaining: 2.93ms\n",
            "99:\tlearn: 0.9379233\ttotal: 291ms\tremaining: 0us\n",
            "0:\tlearn: 0.8724605\ttotal: 3.01ms\tremaining: 298ms\n",
            "1:\tlearn: 0.8792325\ttotal: 6.01ms\tremaining: 294ms\n",
            "2:\tlearn: 0.8893905\ttotal: 8.82ms\tremaining: 285ms\n",
            "3:\tlearn: 0.8871332\ttotal: 12ms\tremaining: 289ms\n",
            "4:\tlearn: 0.8690745\ttotal: 13.1ms\tremaining: 248ms\n",
            "5:\tlearn: 0.8826185\ttotal: 16ms\tremaining: 251ms\n",
            "6:\tlearn: 0.8871332\ttotal: 18.9ms\tremaining: 250ms\n",
            "7:\tlearn: 0.8860045\ttotal: 21.7ms\tremaining: 249ms\n",
            "8:\tlearn: 0.8939052\ttotal: 24.5ms\tremaining: 248ms\n",
            "9:\tlearn: 0.8984199\ttotal: 27.4ms\tremaining: 246ms\n",
            "10:\tlearn: 0.8984199\ttotal: 30.4ms\tremaining: 246ms\n",
            "11:\tlearn: 0.8995485\ttotal: 33.2ms\tremaining: 243ms\n",
            "12:\tlearn: 0.8984199\ttotal: 35.8ms\tremaining: 240ms\n",
            "13:\tlearn: 0.8939052\ttotal: 38.5ms\tremaining: 237ms\n",
            "14:\tlearn: 0.8950339\ttotal: 41.3ms\tremaining: 234ms\n",
            "15:\tlearn: 0.8984199\ttotal: 63.2ms\tremaining: 332ms\n",
            "16:\tlearn: 0.8995485\ttotal: 67.4ms\tremaining: 329ms\n",
            "17:\tlearn: 0.9018059\ttotal: 76.6ms\tremaining: 349ms\n",
            "18:\tlearn: 0.8939052\ttotal: 79.9ms\tremaining: 341ms\n",
            "19:\tlearn: 0.8950339\ttotal: 85.1ms\tremaining: 340ms\n",
            "20:\tlearn: 0.8984199\ttotal: 95.3ms\tremaining: 359ms\n",
            "21:\tlearn: 0.8995485\ttotal: 103ms\tremaining: 364ms\n",
            "22:\tlearn: 0.9006772\ttotal: 107ms\tremaining: 358ms\n",
            "23:\tlearn: 0.9051919\ttotal: 121ms\tremaining: 384ms\n",
            "24:\tlearn: 0.9074492\ttotal: 125ms\tremaining: 374ms\n",
            "25:\tlearn: 0.9142212\ttotal: 128ms\tremaining: 364ms\n",
            "26:\tlearn: 0.9051919\ttotal: 129ms\tremaining: 348ms\n",
            "27:\tlearn: 0.9074492\ttotal: 131ms\tremaining: 338ms\n",
            "28:\tlearn: 0.9085779\ttotal: 135ms\tremaining: 329ms\n",
            "29:\tlearn: 0.9108352\ttotal: 137ms\tremaining: 321ms\n",
            "30:\tlearn: 0.9153499\ttotal: 140ms\tremaining: 312ms\n",
            "31:\tlearn: 0.9164786\ttotal: 143ms\tremaining: 304ms\n",
            "32:\tlearn: 0.9187359\ttotal: 146ms\tremaining: 297ms\n",
            "33:\tlearn: 0.9198646\ttotal: 149ms\tremaining: 290ms\n",
            "34:\tlearn: 0.9209932\ttotal: 152ms\tremaining: 283ms\n",
            "35:\tlearn: 0.9198646\ttotal: 155ms\tremaining: 276ms\n",
            "36:\tlearn: 0.9221219\ttotal: 158ms\tremaining: 269ms\n",
            "37:\tlearn: 0.9232506\ttotal: 161ms\tremaining: 262ms\n",
            "38:\tlearn: 0.9232506\ttotal: 164ms\tremaining: 256ms\n",
            "39:\tlearn: 0.9243792\ttotal: 167ms\tremaining: 250ms\n",
            "40:\tlearn: 0.9243792\ttotal: 170ms\tremaining: 244ms\n",
            "41:\tlearn: 0.9243792\ttotal: 173ms\tremaining: 238ms\n",
            "42:\tlearn: 0.9243792\ttotal: 176ms\tremaining: 233ms\n",
            "43:\tlearn: 0.9255079\ttotal: 179ms\tremaining: 227ms\n",
            "44:\tlearn: 0.9266366\ttotal: 182ms\tremaining: 222ms\n",
            "45:\tlearn: 0.9255079\ttotal: 185ms\tremaining: 217ms\n",
            "46:\tlearn: 0.9255079\ttotal: 188ms\tremaining: 212ms\n",
            "47:\tlearn: 0.9255079\ttotal: 191ms\tremaining: 206ms\n",
            "48:\tlearn: 0.9255079\ttotal: 193ms\tremaining: 201ms\n",
            "49:\tlearn: 0.9255079\ttotal: 196ms\tremaining: 196ms\n",
            "50:\tlearn: 0.9255079\ttotal: 199ms\tremaining: 192ms\n",
            "51:\tlearn: 0.9255079\ttotal: 202ms\tremaining: 187ms\n",
            "52:\tlearn: 0.9277652\ttotal: 208ms\tremaining: 184ms\n",
            "53:\tlearn: 0.9266366\ttotal: 211ms\tremaining: 180ms\n",
            "54:\tlearn: 0.9277652\ttotal: 214ms\tremaining: 175ms\n",
            "55:\tlearn: 0.9266366\ttotal: 217ms\tremaining: 171ms\n",
            "56:\tlearn: 0.9266366\ttotal: 220ms\tremaining: 166ms\n",
            "57:\tlearn: 0.9266366\ttotal: 223ms\tremaining: 162ms\n",
            "58:\tlearn: 0.9266366\ttotal: 226ms\tremaining: 157ms\n",
            "59:\tlearn: 0.9277652\ttotal: 230ms\tremaining: 153ms\n",
            "60:\tlearn: 0.9288939\ttotal: 233ms\tremaining: 149ms\n",
            "61:\tlearn: 0.9300226\ttotal: 236ms\tremaining: 144ms\n",
            "62:\tlearn: 0.9288939\ttotal: 237ms\tremaining: 139ms\n",
            "63:\tlearn: 0.9300226\ttotal: 240ms\tremaining: 135ms\n",
            "64:\tlearn: 0.9311512\ttotal: 243ms\tremaining: 131ms\n",
            "65:\tlearn: 0.9300226\ttotal: 247ms\tremaining: 127ms\n",
            "66:\tlearn: 0.9311512\ttotal: 252ms\tremaining: 124ms\n",
            "67:\tlearn: 0.9322799\ttotal: 256ms\tremaining: 120ms\n",
            "68:\tlearn: 0.9311512\ttotal: 258ms\tremaining: 116ms\n",
            "69:\tlearn: 0.9322799\ttotal: 261ms\tremaining: 112ms\n",
            "70:\tlearn: 0.9311512\ttotal: 264ms\tremaining: 108ms\n",
            "71:\tlearn: 0.9300226\ttotal: 267ms\tremaining: 104ms\n",
            "72:\tlearn: 0.9300226\ttotal: 270ms\tremaining: 100ms\n",
            "73:\tlearn: 0.9311512\ttotal: 275ms\tremaining: 96.6ms\n",
            "74:\tlearn: 0.9311512\ttotal: 278ms\tremaining: 92.6ms\n",
            "75:\tlearn: 0.9334086\ttotal: 281ms\tremaining: 88.6ms\n",
            "76:\tlearn: 0.9345372\ttotal: 284ms\tremaining: 84.7ms\n",
            "77:\tlearn: 0.9322799\ttotal: 287ms\tremaining: 80.8ms\n",
            "78:\tlearn: 0.9322799\ttotal: 289ms\tremaining: 76.9ms\n",
            "79:\tlearn: 0.9322799\ttotal: 292ms\tremaining: 73ms\n",
            "80:\tlearn: 0.9322799\ttotal: 295ms\tremaining: 69.2ms\n",
            "81:\tlearn: 0.9334086\ttotal: 298ms\tremaining: 65.3ms\n",
            "82:\tlearn: 0.9334086\ttotal: 301ms\tremaining: 61.6ms\n",
            "83:\tlearn: 0.9334086\ttotal: 302ms\tremaining: 57.4ms\n",
            "84:\tlearn: 0.9334086\ttotal: 315ms\tremaining: 55.7ms\n",
            "85:\tlearn: 0.9356659\ttotal: 322ms\tremaining: 52.4ms\n",
            "86:\tlearn: 0.9356659\ttotal: 325ms\tremaining: 48.6ms\n",
            "87:\tlearn: 0.9367946\ttotal: 328ms\tremaining: 44.8ms\n",
            "88:\tlearn: 0.9367946\ttotal: 332ms\tremaining: 41ms\n",
            "89:\tlearn: 0.9356659\ttotal: 333ms\tremaining: 37ms\n",
            "90:\tlearn: 0.9356659\ttotal: 335ms\tremaining: 33.1ms\n",
            "91:\tlearn: 0.9356659\ttotal: 336ms\tremaining: 29.2ms\n",
            "92:\tlearn: 0.9356659\ttotal: 339ms\tremaining: 25.5ms\n",
            "93:\tlearn: 0.9356659\ttotal: 341ms\tremaining: 21.8ms\n",
            "94:\tlearn: 0.9379233\ttotal: 344ms\tremaining: 18.1ms\n",
            "95:\tlearn: 0.9379233\ttotal: 346ms\tremaining: 14.4ms\n",
            "96:\tlearn: 0.9379233\ttotal: 348ms\tremaining: 10.8ms\n",
            "97:\tlearn: 0.9379233\ttotal: 350ms\tremaining: 7.14ms\n",
            "98:\tlearn: 0.9379233\ttotal: 352ms\tremaining: 3.56ms\n",
            "99:\tlearn: 0.9379233\ttotal: 355ms\tremaining: 0us\n",
            "0:\tlearn: 0.8826185\ttotal: 2.45ms\tremaining: 243ms\n",
            "1:\tlearn: 0.8871332\ttotal: 5.24ms\tremaining: 257ms\n",
            "2:\tlearn: 0.8882619\ttotal: 7.96ms\tremaining: 257ms\n",
            "3:\tlearn: 0.8950339\ttotal: 10.7ms\tremaining: 257ms\n",
            "4:\tlearn: 0.8893905\ttotal: 11.7ms\tremaining: 223ms\n",
            "5:\tlearn: 0.8848758\ttotal: 12.9ms\tremaining: 201ms\n",
            "6:\tlearn: 0.8803612\ttotal: 13.8ms\tremaining: 183ms\n",
            "7:\tlearn: 0.8882619\ttotal: 16.5ms\tremaining: 190ms\n",
            "8:\tlearn: 0.8826185\ttotal: 19.4ms\tremaining: 196ms\n",
            "9:\tlearn: 0.8781038\ttotal: 20.3ms\tremaining: 183ms\n",
            "10:\tlearn: 0.8814898\ttotal: 23.4ms\tremaining: 189ms\n",
            "11:\tlearn: 0.8837472\ttotal: 26.2ms\tremaining: 192ms\n",
            "12:\tlearn: 0.8860045\ttotal: 29.3ms\tremaining: 196ms\n",
            "13:\tlearn: 0.8905192\ttotal: 32.2ms\tremaining: 198ms\n",
            "14:\tlearn: 0.8972912\ttotal: 35ms\tremaining: 198ms\n",
            "15:\tlearn: 0.8972912\ttotal: 37.8ms\tremaining: 198ms\n",
            "16:\tlearn: 0.8972912\ttotal: 40.9ms\tremaining: 200ms\n",
            "17:\tlearn: 0.8995485\ttotal: 43.9ms\tremaining: 200ms\n",
            "18:\tlearn: 0.9029345\ttotal: 47.1ms\tremaining: 201ms\n",
            "19:\tlearn: 0.9029345\ttotal: 49ms\tremaining: 196ms\n",
            "20:\tlearn: 0.9040632\ttotal: 51.9ms\tremaining: 195ms\n",
            "21:\tlearn: 0.9051919\ttotal: 54.7ms\tremaining: 194ms\n",
            "22:\tlearn: 0.9051919\ttotal: 57.5ms\tremaining: 192ms\n",
            "23:\tlearn: 0.9074492\ttotal: 60.2ms\tremaining: 190ms\n",
            "24:\tlearn: 0.9063205\ttotal: 62.8ms\tremaining: 188ms\n",
            "25:\tlearn: 0.9085779\ttotal: 65.5ms\tremaining: 186ms\n",
            "26:\tlearn: 0.9051919\ttotal: 67.1ms\tremaining: 181ms\n",
            "27:\tlearn: 0.9063205\ttotal: 69.9ms\tremaining: 180ms\n",
            "28:\tlearn: 0.9085779\ttotal: 72.8ms\tremaining: 178ms\n",
            "29:\tlearn: 0.9074492\ttotal: 75.6ms\tremaining: 176ms\n",
            "30:\tlearn: 0.9063205\ttotal: 78.6ms\tremaining: 175ms\n",
            "31:\tlearn: 0.9108352\ttotal: 81.4ms\tremaining: 173ms\n",
            "32:\tlearn: 0.9108352\ttotal: 84.1ms\tremaining: 171ms\n",
            "33:\tlearn: 0.9153499\ttotal: 87.1ms\tremaining: 169ms\n",
            "34:\tlearn: 0.9176072\ttotal: 89.8ms\tremaining: 167ms\n",
            "35:\tlearn: 0.9164786\ttotal: 92.6ms\tremaining: 165ms\n",
            "36:\tlearn: 0.9187359\ttotal: 95.3ms\tremaining: 162ms\n",
            "37:\tlearn: 0.9198646\ttotal: 98.3ms\tremaining: 160ms\n",
            "38:\tlearn: 0.9221219\ttotal: 101ms\tremaining: 158ms\n",
            "39:\tlearn: 0.9198646\ttotal: 104ms\tremaining: 156ms\n",
            "40:\tlearn: 0.9221219\ttotal: 107ms\tremaining: 154ms\n",
            "41:\tlearn: 0.9221219\ttotal: 109ms\tremaining: 151ms\n",
            "42:\tlearn: 0.9221219\ttotal: 112ms\tremaining: 149ms\n",
            "43:\tlearn: 0.9232506\ttotal: 115ms\tremaining: 146ms\n",
            "44:\tlearn: 0.9221219\ttotal: 116ms\tremaining: 142ms\n",
            "45:\tlearn: 0.9221219\ttotal: 122ms\tremaining: 144ms\n",
            "46:\tlearn: 0.9221219\ttotal: 126ms\tremaining: 143ms\n",
            "47:\tlearn: 0.9221219\ttotal: 129ms\tremaining: 140ms\n",
            "48:\tlearn: 0.9232506\ttotal: 132ms\tremaining: 138ms\n",
            "49:\tlearn: 0.9232506\ttotal: 135ms\tremaining: 135ms\n",
            "50:\tlearn: 0.9232506\ttotal: 138ms\tremaining: 132ms\n",
            "51:\tlearn: 0.9255079\ttotal: 141ms\tremaining: 130ms\n",
            "52:\tlearn: 0.9232506\ttotal: 144ms\tremaining: 127ms\n",
            "53:\tlearn: 0.9243792\ttotal: 147ms\tremaining: 125ms\n",
            "54:\tlearn: 0.9255079\ttotal: 149ms\tremaining: 122ms\n",
            "55:\tlearn: 0.9255079\ttotal: 152ms\tremaining: 120ms\n",
            "56:\tlearn: 0.9255079\ttotal: 155ms\tremaining: 117ms\n",
            "57:\tlearn: 0.9255079\ttotal: 158ms\tremaining: 114ms\n",
            "58:\tlearn: 0.9243792\ttotal: 161ms\tremaining: 112ms\n",
            "59:\tlearn: 0.9255079\ttotal: 164ms\tremaining: 109ms\n",
            "60:\tlearn: 0.9266366\ttotal: 167ms\tremaining: 107ms\n",
            "61:\tlearn: 0.9255079\ttotal: 170ms\tremaining: 104ms\n",
            "62:\tlearn: 0.9277652\ttotal: 172ms\tremaining: 101ms\n",
            "63:\tlearn: 0.9300226\ttotal: 175ms\tremaining: 98.4ms\n",
            "64:\tlearn: 0.9322799\ttotal: 178ms\tremaining: 95.8ms\n",
            "65:\tlearn: 0.9345372\ttotal: 181ms\tremaining: 93ms\n",
            "66:\tlearn: 0.9334086\ttotal: 183ms\tremaining: 90.3ms\n",
            "67:\tlearn: 0.9334086\ttotal: 186ms\tremaining: 87.6ms\n",
            "68:\tlearn: 0.9356659\ttotal: 190ms\tremaining: 85.2ms\n",
            "69:\tlearn: 0.9356659\ttotal: 192ms\tremaining: 82.4ms\n",
            "70:\tlearn: 0.9356659\ttotal: 195ms\tremaining: 79.7ms\n",
            "71:\tlearn: 0.9367946\ttotal: 198ms\tremaining: 76.9ms\n",
            "72:\tlearn: 0.9367946\ttotal: 200ms\tremaining: 74.2ms\n",
            "73:\tlearn: 0.9367946\ttotal: 203ms\tremaining: 71.4ms\n",
            "74:\tlearn: 0.9379233\ttotal: 206ms\tremaining: 68.7ms\n",
            "75:\tlearn: 0.9367946\ttotal: 209ms\tremaining: 65.9ms\n",
            "76:\tlearn: 0.9367946\ttotal: 211ms\tremaining: 63.2ms\n",
            "77:\tlearn: 0.9367946\ttotal: 214ms\tremaining: 60.4ms\n",
            "78:\tlearn: 0.9367946\ttotal: 217ms\tremaining: 57.7ms\n",
            "79:\tlearn: 0.9379233\ttotal: 220ms\tremaining: 55ms\n",
            "80:\tlearn: 0.9379233\ttotal: 223ms\tremaining: 52.2ms\n",
            "81:\tlearn: 0.9379233\ttotal: 225ms\tremaining: 49.5ms\n",
            "82:\tlearn: 0.9390519\ttotal: 228ms\tremaining: 46.7ms\n",
            "83:\tlearn: 0.9390519\ttotal: 233ms\tremaining: 44.3ms\n",
            "84:\tlearn: 0.9390519\ttotal: 235ms\tremaining: 41.5ms\n",
            "85:\tlearn: 0.9390519\ttotal: 238ms\tremaining: 38.8ms\n",
            "86:\tlearn: 0.9401806\ttotal: 241ms\tremaining: 36ms\n",
            "87:\tlearn: 0.9401806\ttotal: 244ms\tremaining: 33.2ms\n",
            "88:\tlearn: 0.9401806\ttotal: 247ms\tremaining: 30.5ms\n",
            "89:\tlearn: 0.9401806\ttotal: 249ms\tremaining: 27.7ms\n",
            "90:\tlearn: 0.9413093\ttotal: 252ms\tremaining: 24.9ms\n",
            "91:\tlearn: 0.9413093\ttotal: 255ms\tremaining: 22.2ms\n",
            "92:\tlearn: 0.9413093\ttotal: 256ms\tremaining: 19.2ms\n",
            "93:\tlearn: 0.9413093\ttotal: 259ms\tremaining: 16.5ms\n",
            "94:\tlearn: 0.9413093\ttotal: 261ms\tremaining: 13.8ms\n",
            "95:\tlearn: 0.9413093\ttotal: 264ms\tremaining: 11ms\n",
            "96:\tlearn: 0.9413093\ttotal: 267ms\tremaining: 8.27ms\n",
            "97:\tlearn: 0.9413093\ttotal: 271ms\tremaining: 5.53ms\n",
            "98:\tlearn: 0.9413093\ttotal: 275ms\tremaining: 2.77ms\n",
            "99:\tlearn: 0.9413093\ttotal: 278ms\tremaining: 0us\n",
            "0:\tlearn: 0.8724605\ttotal: 4.47ms\tremaining: 442ms\n",
            "1:\tlearn: 0.8803612\ttotal: 11ms\tremaining: 541ms\n",
            "2:\tlearn: 0.8916479\ttotal: 13.4ms\tremaining: 432ms\n",
            "3:\tlearn: 0.8905192\ttotal: 15.6ms\tremaining: 375ms\n",
            "4:\tlearn: 0.8792325\ttotal: 16.3ms\tremaining: 309ms\n",
            "5:\tlearn: 0.8893905\ttotal: 18.7ms\tremaining: 293ms\n",
            "6:\tlearn: 0.8950339\ttotal: 21.3ms\tremaining: 283ms\n",
            "7:\tlearn: 0.9063205\ttotal: 24.2ms\tremaining: 278ms\n",
            "8:\tlearn: 0.8995485\ttotal: 26.8ms\tremaining: 271ms\n",
            "9:\tlearn: 0.9029345\ttotal: 29.3ms\tremaining: 263ms\n",
            "10:\tlearn: 0.9051919\ttotal: 32.1ms\tremaining: 260ms\n",
            "11:\tlearn: 0.9040632\ttotal: 34.9ms\tremaining: 256ms\n",
            "12:\tlearn: 0.9051919\ttotal: 38ms\tremaining: 254ms\n",
            "13:\tlearn: 0.9085779\ttotal: 40.7ms\tremaining: 250ms\n",
            "14:\tlearn: 0.9097065\ttotal: 43.4ms\tremaining: 246ms\n",
            "15:\tlearn: 0.9018059\ttotal: 46.2ms\tremaining: 242ms\n",
            "16:\tlearn: 0.9063205\ttotal: 49.1ms\tremaining: 240ms\n",
            "17:\tlearn: 0.9085779\ttotal: 51.9ms\tremaining: 236ms\n",
            "18:\tlearn: 0.9051919\ttotal: 53.1ms\tremaining: 226ms\n",
            "19:\tlearn: 0.9040632\ttotal: 55.9ms\tremaining: 223ms\n",
            "20:\tlearn: 0.9097065\ttotal: 58.6ms\tremaining: 220ms\n",
            "21:\tlearn: 0.9074492\ttotal: 59.5ms\tremaining: 211ms\n",
            "22:\tlearn: 0.9063205\ttotal: 62.1ms\tremaining: 208ms\n",
            "23:\tlearn: 0.9074492\ttotal: 64.9ms\tremaining: 205ms\n",
            "24:\tlearn: 0.9074492\ttotal: 67.6ms\tremaining: 203ms\n",
            "25:\tlearn: 0.9074492\ttotal: 70.3ms\tremaining: 200ms\n",
            "26:\tlearn: 0.9074492\ttotal: 74ms\tremaining: 200ms\n",
            "27:\tlearn: 0.9119639\ttotal: 78.4ms\tremaining: 202ms\n",
            "28:\tlearn: 0.9119639\ttotal: 88ms\tremaining: 215ms\n",
            "29:\tlearn: 0.9153499\ttotal: 94.5ms\tremaining: 220ms\n",
            "30:\tlearn: 0.9164786\ttotal: 105ms\tremaining: 234ms\n",
            "31:\tlearn: 0.9176072\ttotal: 114ms\tremaining: 243ms\n",
            "32:\tlearn: 0.9187359\ttotal: 130ms\tremaining: 263ms\n",
            "33:\tlearn: 0.9209932\ttotal: 134ms\tremaining: 260ms\n",
            "34:\tlearn: 0.9209932\ttotal: 145ms\tremaining: 269ms\n",
            "35:\tlearn: 0.9221219\ttotal: 150ms\tremaining: 266ms\n",
            "36:\tlearn: 0.9243792\ttotal: 157ms\tremaining: 267ms\n",
            "37:\tlearn: 0.9221219\ttotal: 162ms\tremaining: 264ms\n",
            "38:\tlearn: 0.9209932\ttotal: 170ms\tremaining: 266ms\n",
            "39:\tlearn: 0.9221219\ttotal: 174ms\tremaining: 261ms\n",
            "40:\tlearn: 0.9221219\ttotal: 192ms\tremaining: 276ms\n",
            "41:\tlearn: 0.9232506\ttotal: 197ms\tremaining: 272ms\n",
            "42:\tlearn: 0.9221219\ttotal: 204ms\tremaining: 271ms\n",
            "43:\tlearn: 0.9232506\ttotal: 212ms\tremaining: 270ms\n",
            "44:\tlearn: 0.9243792\ttotal: 220ms\tremaining: 269ms\n",
            "45:\tlearn: 0.9266366\ttotal: 229ms\tremaining: 268ms\n",
            "46:\tlearn: 0.9277652\ttotal: 236ms\tremaining: 266ms\n",
            "47:\tlearn: 0.9277652\ttotal: 243ms\tremaining: 263ms\n",
            "48:\tlearn: 0.9277652\ttotal: 251ms\tremaining: 261ms\n",
            "49:\tlearn: 0.9288939\ttotal: 258ms\tremaining: 258ms\n",
            "50:\tlearn: 0.9288939\ttotal: 265ms\tremaining: 255ms\n",
            "51:\tlearn: 0.9288939\ttotal: 268ms\tremaining: 248ms\n",
            "52:\tlearn: 0.9300226\ttotal: 272ms\tremaining: 241ms\n",
            "53:\tlearn: 0.9300226\ttotal: 274ms\tremaining: 233ms\n",
            "54:\tlearn: 0.9300226\ttotal: 276ms\tremaining: 226ms\n",
            "55:\tlearn: 0.9311512\ttotal: 279ms\tremaining: 219ms\n",
            "56:\tlearn: 0.9322799\ttotal: 279ms\tremaining: 211ms\n",
            "57:\tlearn: 0.9322799\ttotal: 282ms\tremaining: 204ms\n",
            "58:\tlearn: 0.9322799\ttotal: 284ms\tremaining: 198ms\n",
            "59:\tlearn: 0.9322799\ttotal: 288ms\tremaining: 192ms\n",
            "60:\tlearn: 0.9311512\ttotal: 290ms\tremaining: 186ms\n",
            "61:\tlearn: 0.9311512\ttotal: 293ms\tremaining: 179ms\n",
            "62:\tlearn: 0.9322799\ttotal: 295ms\tremaining: 173ms\n",
            "63:\tlearn: 0.9311512\ttotal: 297ms\tremaining: 167ms\n",
            "64:\tlearn: 0.9311512\ttotal: 300ms\tremaining: 162ms\n",
            "65:\tlearn: 0.9345372\ttotal: 303ms\tremaining: 156ms\n",
            "66:\tlearn: 0.9334086\ttotal: 305ms\tremaining: 150ms\n",
            "67:\tlearn: 0.9334086\ttotal: 308ms\tremaining: 145ms\n",
            "68:\tlearn: 0.9334086\ttotal: 311ms\tremaining: 140ms\n",
            "69:\tlearn: 0.9345372\ttotal: 313ms\tremaining: 134ms\n",
            "70:\tlearn: 0.9356659\ttotal: 316ms\tremaining: 129ms\n",
            "71:\tlearn: 0.9356659\ttotal: 318ms\tremaining: 124ms\n",
            "72:\tlearn: 0.9356659\ttotal: 321ms\tremaining: 119ms\n",
            "73:\tlearn: 0.9367946\ttotal: 324ms\tremaining: 114ms\n",
            "74:\tlearn: 0.9367946\ttotal: 326ms\tremaining: 109ms\n",
            "75:\tlearn: 0.9367946\ttotal: 329ms\tremaining: 104ms\n",
            "76:\tlearn: 0.9367946\ttotal: 331ms\tremaining: 98.9ms\n",
            "77:\tlearn: 0.9379233\ttotal: 334ms\tremaining: 94.3ms\n",
            "78:\tlearn: 0.9379233\ttotal: 337ms\tremaining: 89.6ms\n",
            "79:\tlearn: 0.9379233\ttotal: 340ms\tremaining: 85ms\n",
            "80:\tlearn: 0.9379233\ttotal: 342ms\tremaining: 80.3ms\n",
            "81:\tlearn: 0.9379233\ttotal: 345ms\tremaining: 75.7ms\n",
            "82:\tlearn: 0.9379233\ttotal: 347ms\tremaining: 71.2ms\n",
            "83:\tlearn: 0.9390519\ttotal: 350ms\tremaining: 66.7ms\n",
            "84:\tlearn: 0.9390519\ttotal: 351ms\tremaining: 62ms\n",
            "85:\tlearn: 0.9379233\ttotal: 354ms\tremaining: 57.6ms\n",
            "86:\tlearn: 0.9379233\ttotal: 364ms\tremaining: 54.4ms\n",
            "87:\tlearn: 0.9379233\ttotal: 366ms\tremaining: 50ms\n",
            "88:\tlearn: 0.9379233\ttotal: 369ms\tremaining: 45.6ms\n",
            "89:\tlearn: 0.9413093\ttotal: 371ms\tremaining: 41.3ms\n",
            "90:\tlearn: 0.9424379\ttotal: 374ms\tremaining: 37ms\n",
            "91:\tlearn: 0.9424379\ttotal: 377ms\tremaining: 32.8ms\n",
            "92:\tlearn: 0.9424379\ttotal: 380ms\tremaining: 28.6ms\n",
            "93:\tlearn: 0.9424379\ttotal: 382ms\tremaining: 24.4ms\n",
            "94:\tlearn: 0.9413093\ttotal: 384ms\tremaining: 20.2ms\n",
            "95:\tlearn: 0.9424379\ttotal: 386ms\tremaining: 16.1ms\n",
            "96:\tlearn: 0.9424379\ttotal: 389ms\tremaining: 12ms\n",
            "97:\tlearn: 0.9424379\ttotal: 394ms\tremaining: 8.04ms\n",
            "98:\tlearn: 0.9424379\ttotal: 398ms\tremaining: 4.02ms\n",
            "99:\tlearn: 0.9424379\ttotal: 405ms\tremaining: 0us\n",
            "0:\tlearn: 0.8803612\ttotal: 6.57ms\tremaining: 650ms\n",
            "1:\tlearn: 0.8871332\ttotal: 9.78ms\tremaining: 479ms\n",
            "2:\tlearn: 0.8860045\ttotal: 12.1ms\tremaining: 390ms\n",
            "3:\tlearn: 0.8860045\ttotal: 14.4ms\tremaining: 345ms\n",
            "4:\tlearn: 0.8769752\ttotal: 15ms\tremaining: 285ms\n",
            "5:\tlearn: 0.8803612\ttotal: 17.6ms\tremaining: 276ms\n",
            "6:\tlearn: 0.8781038\ttotal: 20ms\tremaining: 265ms\n",
            "7:\tlearn: 0.8803612\ttotal: 23ms\tremaining: 265ms\n",
            "8:\tlearn: 0.8848758\ttotal: 26.4ms\tremaining: 267ms\n",
            "9:\tlearn: 0.8871332\ttotal: 29.3ms\tremaining: 264ms\n",
            "10:\tlearn: 0.8882619\ttotal: 32.2ms\tremaining: 260ms\n",
            "11:\tlearn: 0.8882619\ttotal: 35ms\tremaining: 257ms\n",
            "12:\tlearn: 0.8961625\ttotal: 38.1ms\tremaining: 255ms\n",
            "13:\tlearn: 0.8927765\ttotal: 40.8ms\tremaining: 251ms\n",
            "14:\tlearn: 0.8961625\ttotal: 43.6ms\tremaining: 247ms\n",
            "15:\tlearn: 0.9018059\ttotal: 46.7ms\tremaining: 245ms\n",
            "16:\tlearn: 0.9040632\ttotal: 49.5ms\tremaining: 242ms\n",
            "17:\tlearn: 0.9029345\ttotal: 52.3ms\tremaining: 238ms\n",
            "18:\tlearn: 0.8984199\ttotal: 53.4ms\tremaining: 228ms\n",
            "19:\tlearn: 0.9018059\ttotal: 56.2ms\tremaining: 225ms\n",
            "20:\tlearn: 0.9029345\ttotal: 59ms\tremaining: 222ms\n",
            "21:\tlearn: 0.9063205\ttotal: 61.8ms\tremaining: 219ms\n",
            "22:\tlearn: 0.9108352\ttotal: 64.7ms\tremaining: 216ms\n",
            "23:\tlearn: 0.9097065\ttotal: 65.6ms\tremaining: 208ms\n",
            "24:\tlearn: 0.9108352\ttotal: 68.6ms\tremaining: 206ms\n",
            "25:\tlearn: 0.9119639\ttotal: 71.6ms\tremaining: 204ms\n",
            "26:\tlearn: 0.9097065\ttotal: 74.3ms\tremaining: 201ms\n",
            "27:\tlearn: 0.9097065\ttotal: 77.1ms\tremaining: 198ms\n",
            "28:\tlearn: 0.9108352\ttotal: 80ms\tremaining: 196ms\n",
            "29:\tlearn: 0.9119639\ttotal: 82.8ms\tremaining: 193ms\n",
            "30:\tlearn: 0.9153499\ttotal: 85.6ms\tremaining: 190ms\n",
            "31:\tlearn: 0.9164786\ttotal: 88.3ms\tremaining: 188ms\n",
            "32:\tlearn: 0.9153499\ttotal: 91.2ms\tremaining: 185ms\n",
            "33:\tlearn: 0.9142212\ttotal: 94ms\tremaining: 182ms\n",
            "34:\tlearn: 0.9187359\ttotal: 96.7ms\tremaining: 180ms\n",
            "35:\tlearn: 0.9176072\ttotal: 99.4ms\tremaining: 177ms\n",
            "36:\tlearn: 0.9198646\ttotal: 102ms\tremaining: 174ms\n",
            "37:\tlearn: 0.9187359\ttotal: 105ms\tremaining: 171ms\n",
            "38:\tlearn: 0.9198646\ttotal: 108ms\tremaining: 170ms\n",
            "39:\tlearn: 0.9198646\ttotal: 113ms\tremaining: 169ms\n",
            "40:\tlearn: 0.9209932\ttotal: 117ms\tremaining: 168ms\n",
            "41:\tlearn: 0.9232506\ttotal: 120ms\tremaining: 165ms\n",
            "42:\tlearn: 0.9232506\ttotal: 122ms\tremaining: 162ms\n",
            "43:\tlearn: 0.9243792\ttotal: 125ms\tremaining: 159ms\n",
            "44:\tlearn: 0.9243792\ttotal: 128ms\tremaining: 156ms\n",
            "45:\tlearn: 0.9232506\ttotal: 130ms\tremaining: 153ms\n",
            "46:\tlearn: 0.9243792\ttotal: 133ms\tremaining: 150ms\n",
            "47:\tlearn: 0.9266366\ttotal: 136ms\tremaining: 147ms\n",
            "48:\tlearn: 0.9266366\ttotal: 138ms\tremaining: 144ms\n",
            "49:\tlearn: 0.9266366\ttotal: 141ms\tremaining: 141ms\n",
            "50:\tlearn: 0.9266366\ttotal: 144ms\tremaining: 138ms\n",
            "51:\tlearn: 0.9277652\ttotal: 148ms\tremaining: 137ms\n",
            "52:\tlearn: 0.9300226\ttotal: 152ms\tremaining: 135ms\n",
            "53:\tlearn: 0.9300226\ttotal: 155ms\tremaining: 132ms\n",
            "54:\tlearn: 0.9300226\ttotal: 158ms\tremaining: 129ms\n",
            "55:\tlearn: 0.9311512\ttotal: 161ms\tremaining: 126ms\n",
            "56:\tlearn: 0.9300226\ttotal: 164ms\tremaining: 123ms\n",
            "57:\tlearn: 0.9300226\ttotal: 167ms\tremaining: 121ms\n",
            "58:\tlearn: 0.9300226\ttotal: 170ms\tremaining: 118ms\n",
            "59:\tlearn: 0.9300226\ttotal: 172ms\tremaining: 115ms\n",
            "60:\tlearn: 0.9311512\ttotal: 175ms\tremaining: 112ms\n",
            "61:\tlearn: 0.9311512\ttotal: 178ms\tremaining: 109ms\n",
            "62:\tlearn: 0.9311512\ttotal: 179ms\tremaining: 105ms\n",
            "63:\tlearn: 0.9311512\ttotal: 184ms\tremaining: 103ms\n",
            "64:\tlearn: 0.9322799\ttotal: 188ms\tremaining: 101ms\n",
            "65:\tlearn: 0.9334086\ttotal: 192ms\tremaining: 98.9ms\n",
            "66:\tlearn: 0.9322799\ttotal: 195ms\tremaining: 95.9ms\n",
            "67:\tlearn: 0.9334086\ttotal: 197ms\tremaining: 92.9ms\n",
            "68:\tlearn: 0.9345372\ttotal: 200ms\tremaining: 90ms\n",
            "69:\tlearn: 0.9356659\ttotal: 203ms\tremaining: 87ms\n",
            "70:\tlearn: 0.9356659\ttotal: 206ms\tremaining: 84ms\n",
            "71:\tlearn: 0.9367946\ttotal: 208ms\tremaining: 81.1ms\n",
            "72:\tlearn: 0.9356659\ttotal: 211ms\tremaining: 78.1ms\n",
            "73:\tlearn: 0.9356659\ttotal: 214ms\tremaining: 75.1ms\n",
            "74:\tlearn: 0.9367946\ttotal: 217ms\tremaining: 72.2ms\n",
            "75:\tlearn: 0.9379233\ttotal: 219ms\tremaining: 69.2ms\n",
            "76:\tlearn: 0.9367946\ttotal: 222ms\tremaining: 66.3ms\n",
            "77:\tlearn: 0.9379233\ttotal: 225ms\tremaining: 63.4ms\n",
            "78:\tlearn: 0.9390519\ttotal: 227ms\tremaining: 60.4ms\n",
            "79:\tlearn: 0.9390519\ttotal: 230ms\tremaining: 57.5ms\n",
            "80:\tlearn: 0.9379233\ttotal: 233ms\tremaining: 54.6ms\n",
            "81:\tlearn: 0.9379233\ttotal: 235ms\tremaining: 51.7ms\n",
            "82:\tlearn: 0.9367946\ttotal: 239ms\tremaining: 48.9ms\n",
            "83:\tlearn: 0.9367946\ttotal: 241ms\tremaining: 46ms\n",
            "84:\tlearn: 0.9379233\ttotal: 244ms\tremaining: 43.1ms\n",
            "85:\tlearn: 0.9367946\ttotal: 247ms\tremaining: 40.2ms\n",
            "86:\tlearn: 0.9379233\ttotal: 250ms\tremaining: 37.4ms\n",
            "87:\tlearn: 0.9379233\ttotal: 253ms\tremaining: 34.5ms\n",
            "88:\tlearn: 0.9390519\ttotal: 256ms\tremaining: 31.6ms\n",
            "89:\tlearn: 0.9401806\ttotal: 259ms\tremaining: 28.7ms\n",
            "90:\tlearn: 0.9401806\ttotal: 262ms\tremaining: 25.9ms\n",
            "91:\tlearn: 0.9401806\ttotal: 265ms\tremaining: 23ms\n",
            "92:\tlearn: 0.9390519\ttotal: 268ms\tremaining: 20.1ms\n",
            "93:\tlearn: 0.9390519\ttotal: 270ms\tremaining: 17.3ms\n",
            "94:\tlearn: 0.9390519\ttotal: 273ms\tremaining: 14.4ms\n",
            "95:\tlearn: 0.9390519\ttotal: 276ms\tremaining: 11.5ms\n",
            "96:\tlearn: 0.9390519\ttotal: 279ms\tremaining: 8.62ms\n",
            "97:\tlearn: 0.9390519\ttotal: 282ms\tremaining: 5.75ms\n",
            "98:\tlearn: 0.9390519\ttotal: 284ms\tremaining: 2.87ms\n",
            "99:\tlearn: 0.9390519\ttotal: 287ms\tremaining: 0us\n",
            "0:\tlearn: 0.8702032\ttotal: 2.5ms\tremaining: 248ms\n",
            "1:\tlearn: 0.8781038\ttotal: 4.88ms\tremaining: 239ms\n",
            "2:\tlearn: 0.8905192\ttotal: 7.14ms\tremaining: 231ms\n",
            "3:\tlearn: 0.8916479\ttotal: 9.38ms\tremaining: 225ms\n",
            "4:\tlearn: 0.8758465\ttotal: 9.95ms\tremaining: 189ms\n",
            "5:\tlearn: 0.8848758\ttotal: 12.3ms\tremaining: 193ms\n",
            "6:\tlearn: 0.8905192\ttotal: 15ms\tremaining: 199ms\n",
            "7:\tlearn: 0.8995485\ttotal: 17.8ms\tremaining: 204ms\n",
            "8:\tlearn: 0.9006772\ttotal: 20.5ms\tremaining: 207ms\n",
            "9:\tlearn: 0.9029345\ttotal: 23.3ms\tremaining: 210ms\n",
            "10:\tlearn: 0.8995485\ttotal: 25.6ms\tremaining: 207ms\n",
            "11:\tlearn: 0.9006772\ttotal: 27.9ms\tremaining: 205ms\n",
            "12:\tlearn: 0.9040632\ttotal: 30.3ms\tremaining: 203ms\n",
            "13:\tlearn: 0.9051919\ttotal: 32.6ms\tremaining: 200ms\n",
            "14:\tlearn: 0.9051919\ttotal: 34.9ms\tremaining: 198ms\n",
            "15:\tlearn: 0.9074492\ttotal: 37.6ms\tremaining: 198ms\n",
            "16:\tlearn: 0.9130926\ttotal: 40.4ms\tremaining: 197ms\n",
            "17:\tlearn: 0.9119639\ttotal: 43.1ms\tremaining: 197ms\n",
            "18:\tlearn: 0.9074492\ttotal: 44.2ms\tremaining: 188ms\n",
            "19:\tlearn: 0.9074492\ttotal: 46.9ms\tremaining: 187ms\n",
            "20:\tlearn: 0.9063205\ttotal: 49.7ms\tremaining: 187ms\n",
            "21:\tlearn: 0.9097065\ttotal: 52.4ms\tremaining: 186ms\n",
            "22:\tlearn: 0.9130926\ttotal: 55.3ms\tremaining: 185ms\n",
            "23:\tlearn: 0.9142212\ttotal: 58.2ms\tremaining: 184ms\n",
            "24:\tlearn: 0.9153499\ttotal: 61ms\tremaining: 183ms\n",
            "25:\tlearn: 0.9164786\ttotal: 63.7ms\tremaining: 181ms\n",
            "26:\tlearn: 0.9142212\ttotal: 64.6ms\tremaining: 175ms\n",
            "27:\tlearn: 0.9153499\ttotal: 67.3ms\tremaining: 173ms\n",
            "28:\tlearn: 0.9153499\ttotal: 70ms\tremaining: 171ms\n",
            "29:\tlearn: 0.9142212\ttotal: 72.9ms\tremaining: 170ms\n",
            "30:\tlearn: 0.9187359\ttotal: 75.5ms\tremaining: 168ms\n",
            "31:\tlearn: 0.9198646\ttotal: 78.4ms\tremaining: 167ms\n",
            "32:\tlearn: 0.9198646\ttotal: 81.1ms\tremaining: 165ms\n",
            "33:\tlearn: 0.9209932\ttotal: 83.9ms\tremaining: 163ms\n",
            "34:\tlearn: 0.9209932\ttotal: 86.7ms\tremaining: 161ms\n",
            "35:\tlearn: 0.9209932\ttotal: 89.5ms\tremaining: 159ms\n",
            "36:\tlearn: 0.9221219\ttotal: 92.2ms\tremaining: 157ms\n",
            "37:\tlearn: 0.9255079\ttotal: 94.9ms\tremaining: 155ms\n",
            "38:\tlearn: 0.9243792\ttotal: 97.6ms\tremaining: 153ms\n",
            "39:\tlearn: 0.9266366\ttotal: 100ms\tremaining: 151ms\n",
            "40:\tlearn: 0.9288939\ttotal: 103ms\tremaining: 148ms\n",
            "41:\tlearn: 0.9277652\ttotal: 106ms\tremaining: 146ms\n",
            "42:\tlearn: 0.9288939\ttotal: 109ms\tremaining: 144ms\n",
            "43:\tlearn: 0.9288939\ttotal: 112ms\tremaining: 142ms\n",
            "44:\tlearn: 0.9277652\ttotal: 115ms\tremaining: 140ms\n",
            "45:\tlearn: 0.9277652\ttotal: 118ms\tremaining: 138ms\n",
            "46:\tlearn: 0.9288939\ttotal: 120ms\tremaining: 136ms\n",
            "47:\tlearn: 0.9300226\ttotal: 123ms\tremaining: 133ms\n",
            "48:\tlearn: 0.9311512\ttotal: 126ms\tremaining: 131ms\n",
            "49:\tlearn: 0.9322799\ttotal: 129ms\tremaining: 129ms\n",
            "50:\tlearn: 0.9322799\ttotal: 132ms\tremaining: 127ms\n",
            "51:\tlearn: 0.9345372\ttotal: 135ms\tremaining: 124ms\n",
            "52:\tlearn: 0.9356659\ttotal: 137ms\tremaining: 122ms\n",
            "53:\tlearn: 0.9356659\ttotal: 140ms\tremaining: 119ms\n",
            "54:\tlearn: 0.9345372\ttotal: 143ms\tremaining: 117ms\n",
            "55:\tlearn: 0.9345372\ttotal: 146ms\tremaining: 115ms\n",
            "56:\tlearn: 0.9356659\ttotal: 149ms\tremaining: 112ms\n",
            "57:\tlearn: 0.9345372\ttotal: 152ms\tremaining: 110ms\n",
            "58:\tlearn: 0.9367946\ttotal: 155ms\tremaining: 108ms\n",
            "59:\tlearn: 0.9367946\ttotal: 157ms\tremaining: 105ms\n",
            "60:\tlearn: 0.9356659\ttotal: 160ms\tremaining: 102ms\n",
            "61:\tlearn: 0.9367946\ttotal: 163ms\tremaining: 99.9ms\n",
            "62:\tlearn: 0.9367946\ttotal: 164ms\tremaining: 96.5ms\n",
            "63:\tlearn: 0.9356659\ttotal: 167ms\tremaining: 94ms\n",
            "64:\tlearn: 0.9356659\ttotal: 170ms\tremaining: 91.5ms\n",
            "65:\tlearn: 0.9356659\ttotal: 173ms\tremaining: 89ms\n",
            "66:\tlearn: 0.9356659\ttotal: 176ms\tremaining: 86.5ms\n",
            "67:\tlearn: 0.9356659\ttotal: 179ms\tremaining: 84.1ms\n",
            "68:\tlearn: 0.9345372\ttotal: 181ms\tremaining: 81.5ms\n",
            "69:\tlearn: 0.9356659\ttotal: 186ms\tremaining: 79.7ms\n",
            "70:\tlearn: 0.9356659\ttotal: 191ms\tremaining: 77.8ms\n",
            "71:\tlearn: 0.9379233\ttotal: 195ms\tremaining: 75.9ms\n",
            "72:\tlearn: 0.9379233\ttotal: 197ms\tremaining: 73ms\n",
            "73:\tlearn: 0.9390519\ttotal: 200ms\tremaining: 70.2ms\n",
            "74:\tlearn: 0.9390519\ttotal: 203ms\tremaining: 67.5ms\n",
            "75:\tlearn: 0.9401806\ttotal: 205ms\tremaining: 64.9ms\n",
            "76:\tlearn: 0.9401806\ttotal: 208ms\tremaining: 62.2ms\n",
            "77:\tlearn: 0.9413093\ttotal: 211ms\tremaining: 59.5ms\n",
            "78:\tlearn: 0.9413093\ttotal: 214ms\tremaining: 56.8ms\n",
            "79:\tlearn: 0.9413093\ttotal: 216ms\tremaining: 54.1ms\n",
            "80:\tlearn: 0.9413093\ttotal: 219ms\tremaining: 51.4ms\n",
            "81:\tlearn: 0.9413093\ttotal: 222ms\tremaining: 48.7ms\n",
            "82:\tlearn: 0.9413093\ttotal: 224ms\tremaining: 46ms\n",
            "83:\tlearn: 0.9413093\ttotal: 227ms\tremaining: 43.3ms\n",
            "84:\tlearn: 0.9424379\ttotal: 230ms\tremaining: 40.6ms\n",
            "85:\tlearn: 0.9424379\ttotal: 245ms\tremaining: 39.9ms\n",
            "86:\tlearn: 0.9413093\ttotal: 252ms\tremaining: 37.7ms\n",
            "87:\tlearn: 0.9424379\ttotal: 259ms\tremaining: 35.3ms\n",
            "88:\tlearn: 0.9424379\ttotal: 262ms\tremaining: 32.3ms\n",
            "89:\tlearn: 0.9424379\ttotal: 266ms\tremaining: 29.6ms\n",
            "90:\tlearn: 0.9424379\ttotal: 267ms\tremaining: 26.4ms\n",
            "91:\tlearn: 0.9424379\ttotal: 270ms\tremaining: 23.4ms\n",
            "92:\tlearn: 0.9424379\ttotal: 272ms\tremaining: 20.5ms\n",
            "93:\tlearn: 0.9424379\ttotal: 275ms\tremaining: 17.5ms\n",
            "94:\tlearn: 0.9424379\ttotal: 277ms\tremaining: 14.6ms\n",
            "95:\tlearn: 0.9424379\ttotal: 279ms\tremaining: 11.6ms\n",
            "96:\tlearn: 0.9424379\ttotal: 281ms\tremaining: 8.68ms\n",
            "97:\tlearn: 0.9424379\ttotal: 283ms\tremaining: 5.78ms\n",
            "98:\tlearn: 0.9435666\ttotal: 286ms\tremaining: 2.89ms\n",
            "99:\tlearn: 0.9435666\ttotal: 287ms\tremaining: 0us\n",
            "0:\tlearn: 0.8747178\ttotal: 2.49ms\tremaining: 246ms\n",
            "1:\tlearn: 0.8871332\ttotal: 5.34ms\tremaining: 262ms\n",
            "2:\tlearn: 0.8927765\ttotal: 8.17ms\tremaining: 264ms\n",
            "3:\tlearn: 0.8984199\ttotal: 11.2ms\tremaining: 268ms\n",
            "4:\tlearn: 0.8848758\ttotal: 12.3ms\tremaining: 234ms\n",
            "5:\tlearn: 0.8837472\ttotal: 13.5ms\tremaining: 211ms\n",
            "6:\tlearn: 0.8803612\ttotal: 14.6ms\tremaining: 194ms\n",
            "7:\tlearn: 0.8848758\ttotal: 17.6ms\tremaining: 202ms\n",
            "8:\tlearn: 0.8769752\ttotal: 20.6ms\tremaining: 208ms\n",
            "9:\tlearn: 0.8826185\ttotal: 23.3ms\tremaining: 210ms\n",
            "10:\tlearn: 0.8814898\ttotal: 26ms\tremaining: 211ms\n",
            "11:\tlearn: 0.8803612\ttotal: 28.8ms\tremaining: 211ms\n",
            "12:\tlearn: 0.8792325\ttotal: 31.6ms\tremaining: 212ms\n",
            "13:\tlearn: 0.8837472\ttotal: 34.3ms\tremaining: 211ms\n",
            "14:\tlearn: 0.8803612\ttotal: 37.1ms\tremaining: 210ms\n",
            "15:\tlearn: 0.8860045\ttotal: 39.8ms\tremaining: 209ms\n",
            "16:\tlearn: 0.8826185\ttotal: 40.7ms\tremaining: 199ms\n",
            "17:\tlearn: 0.8871332\ttotal: 47.3ms\tremaining: 216ms\n",
            "18:\tlearn: 0.8939052\ttotal: 50.8ms\tremaining: 216ms\n",
            "19:\tlearn: 0.8916479\ttotal: 56.5ms\tremaining: 226ms\n",
            "20:\tlearn: 0.8916479\ttotal: 59.1ms\tremaining: 222ms\n",
            "21:\tlearn: 0.8939052\ttotal: 61.6ms\tremaining: 218ms\n",
            "22:\tlearn: 0.8995485\ttotal: 64.6ms\tremaining: 216ms\n",
            "23:\tlearn: 0.9006772\ttotal: 67.5ms\tremaining: 214ms\n",
            "24:\tlearn: 0.9006772\ttotal: 70.3ms\tremaining: 211ms\n",
            "25:\tlearn: 0.8995485\ttotal: 73ms\tremaining: 208ms\n",
            "26:\tlearn: 0.8972912\ttotal: 74.1ms\tremaining: 200ms\n",
            "27:\tlearn: 0.8984199\ttotal: 76.8ms\tremaining: 198ms\n",
            "28:\tlearn: 0.9006772\ttotal: 79.7ms\tremaining: 195ms\n",
            "29:\tlearn: 0.9040632\ttotal: 82.5ms\tremaining: 192ms\n",
            "30:\tlearn: 0.9051919\ttotal: 85.4ms\tremaining: 190ms\n",
            "31:\tlearn: 0.9074492\ttotal: 88.3ms\tremaining: 188ms\n",
            "32:\tlearn: 0.9063205\ttotal: 91.3ms\tremaining: 185ms\n",
            "33:\tlearn: 0.9051919\ttotal: 94.4ms\tremaining: 183ms\n",
            "34:\tlearn: 0.9063205\ttotal: 97.4ms\tremaining: 181ms\n",
            "35:\tlearn: 0.9097065\ttotal: 100ms\tremaining: 178ms\n",
            "36:\tlearn: 0.9130926\ttotal: 103ms\tremaining: 176ms\n",
            "37:\tlearn: 0.9130926\ttotal: 106ms\tremaining: 173ms\n",
            "38:\tlearn: 0.9153499\ttotal: 109ms\tremaining: 170ms\n",
            "39:\tlearn: 0.9153499\ttotal: 111ms\tremaining: 167ms\n",
            "40:\tlearn: 0.9164786\ttotal: 114ms\tremaining: 164ms\n",
            "41:\tlearn: 0.9153499\ttotal: 116ms\tremaining: 161ms\n",
            "42:\tlearn: 0.9187359\ttotal: 119ms\tremaining: 158ms\n",
            "43:\tlearn: 0.9187359\ttotal: 123ms\tremaining: 156ms\n",
            "44:\tlearn: 0.9187359\ttotal: 126ms\tremaining: 154ms\n",
            "45:\tlearn: 0.9209932\ttotal: 129ms\tremaining: 151ms\n",
            "46:\tlearn: 0.9187359\ttotal: 131ms\tremaining: 148ms\n",
            "47:\tlearn: 0.9176072\ttotal: 134ms\tremaining: 145ms\n",
            "48:\tlearn: 0.9221219\ttotal: 137ms\tremaining: 143ms\n",
            "49:\tlearn: 0.9209932\ttotal: 140ms\tremaining: 140ms\n",
            "50:\tlearn: 0.9209932\ttotal: 143ms\tremaining: 137ms\n",
            "51:\tlearn: 0.9221219\ttotal: 145ms\tremaining: 134ms\n",
            "52:\tlearn: 0.9221219\ttotal: 148ms\tremaining: 131ms\n",
            "53:\tlearn: 0.9232506\ttotal: 151ms\tremaining: 128ms\n",
            "54:\tlearn: 0.9243792\ttotal: 153ms\tremaining: 126ms\n",
            "55:\tlearn: 0.9255079\ttotal: 156ms\tremaining: 123ms\n",
            "56:\tlearn: 0.9266366\ttotal: 157ms\tremaining: 119ms\n",
            "57:\tlearn: 0.9243792\ttotal: 160ms\tremaining: 116ms\n",
            "58:\tlearn: 0.9255079\ttotal: 163ms\tremaining: 113ms\n",
            "59:\tlearn: 0.9255079\ttotal: 166ms\tremaining: 111ms\n",
            "60:\tlearn: 0.9266366\ttotal: 169ms\tremaining: 108ms\n",
            "61:\tlearn: 0.9255079\ttotal: 172ms\tremaining: 105ms\n",
            "62:\tlearn: 0.9243792\ttotal: 175ms\tremaining: 102ms\n",
            "63:\tlearn: 0.9277652\ttotal: 178ms\tremaining: 100ms\n",
            "64:\tlearn: 0.9277652\ttotal: 181ms\tremaining: 97.3ms\n",
            "65:\tlearn: 0.9277652\ttotal: 183ms\tremaining: 94.5ms\n",
            "66:\tlearn: 0.9277652\ttotal: 186ms\tremaining: 91.7ms\n",
            "67:\tlearn: 0.9288939\ttotal: 189ms\tremaining: 88.9ms\n",
            "68:\tlearn: 0.9288939\ttotal: 192ms\tremaining: 86.1ms\n",
            "69:\tlearn: 0.9311512\ttotal: 194ms\tremaining: 83.3ms\n",
            "70:\tlearn: 0.9311512\ttotal: 197ms\tremaining: 80.4ms\n",
            "71:\tlearn: 0.9300226\ttotal: 200ms\tremaining: 77.8ms\n",
            "72:\tlearn: 0.9311512\ttotal: 203ms\tremaining: 75.1ms\n",
            "73:\tlearn: 0.9311512\ttotal: 206ms\tremaining: 72.4ms\n",
            "74:\tlearn: 0.9300226\ttotal: 209ms\tremaining: 69.6ms\n",
            "75:\tlearn: 0.9311512\ttotal: 212ms\tremaining: 66.8ms\n",
            "76:\tlearn: 0.9322799\ttotal: 215ms\tremaining: 64.1ms\n",
            "77:\tlearn: 0.9311512\ttotal: 217ms\tremaining: 61.3ms\n",
            "78:\tlearn: 0.9311512\ttotal: 220ms\tremaining: 58.5ms\n",
            "79:\tlearn: 0.9334086\ttotal: 223ms\tremaining: 55.7ms\n",
            "80:\tlearn: 0.9311512\ttotal: 226ms\tremaining: 53ms\n",
            "81:\tlearn: 0.9311512\ttotal: 229ms\tremaining: 50.2ms\n",
            "82:\tlearn: 0.9322799\ttotal: 232ms\tremaining: 47.5ms\n",
            "83:\tlearn: 0.9334086\ttotal: 236ms\tremaining: 45ms\n",
            "84:\tlearn: 0.9356659\ttotal: 241ms\tremaining: 42.5ms\n",
            "85:\tlearn: 0.9345372\ttotal: 243ms\tremaining: 39.6ms\n",
            "86:\tlearn: 0.9356659\ttotal: 246ms\tremaining: 36.7ms\n",
            "87:\tlearn: 0.9356659\ttotal: 252ms\tremaining: 34.3ms\n",
            "88:\tlearn: 0.9356659\ttotal: 255ms\tremaining: 31.6ms\n",
            "89:\tlearn: 0.9356659\ttotal: 258ms\tremaining: 28.6ms\n",
            "90:\tlearn: 0.9345372\ttotal: 260ms\tremaining: 25.8ms\n",
            "91:\tlearn: 0.9334086\ttotal: 263ms\tremaining: 22.9ms\n",
            "92:\tlearn: 0.9334086\ttotal: 266ms\tremaining: 20ms\n",
            "93:\tlearn: 0.9334086\ttotal: 267ms\tremaining: 17ms\n",
            "94:\tlearn: 0.9334086\ttotal: 270ms\tremaining: 14.2ms\n",
            "95:\tlearn: 0.9334086\ttotal: 272ms\tremaining: 11.3ms\n",
            "96:\tlearn: 0.9356659\ttotal: 275ms\tremaining: 8.51ms\n",
            "97:\tlearn: 0.9345372\ttotal: 278ms\tremaining: 5.67ms\n",
            "98:\tlearn: 0.9345372\ttotal: 281ms\tremaining: 2.83ms\n",
            "99:\tlearn: 0.9345372\ttotal: 282ms\tremaining: 0us\n",
            "0:\tlearn: 0.8792325\ttotal: 2.45ms\tremaining: 242ms\n",
            "1:\tlearn: 0.8814898\ttotal: 5.33ms\tremaining: 261ms\n",
            "2:\tlearn: 0.8871332\ttotal: 8.19ms\tremaining: 265ms\n",
            "3:\tlearn: 0.8916479\ttotal: 10.9ms\tremaining: 262ms\n",
            "4:\tlearn: 0.8826185\ttotal: 12.3ms\tremaining: 233ms\n",
            "5:\tlearn: 0.8837472\ttotal: 13.7ms\tremaining: 215ms\n",
            "6:\tlearn: 0.8769752\ttotal: 15ms\tremaining: 199ms\n",
            "7:\tlearn: 0.8848758\ttotal: 18.1ms\tremaining: 208ms\n",
            "8:\tlearn: 0.8724605\ttotal: 20.8ms\tremaining: 211ms\n",
            "9:\tlearn: 0.8781038\ttotal: 23.7ms\tremaining: 213ms\n",
            "10:\tlearn: 0.8769752\ttotal: 26.6ms\tremaining: 215ms\n",
            "11:\tlearn: 0.8814898\ttotal: 29.3ms\tremaining: 215ms\n",
            "12:\tlearn: 0.8837472\ttotal: 32.2ms\tremaining: 215ms\n",
            "13:\tlearn: 0.8826185\ttotal: 33.5ms\tremaining: 206ms\n",
            "14:\tlearn: 0.8860045\ttotal: 36.3ms\tremaining: 205ms\n",
            "15:\tlearn: 0.8916479\ttotal: 39ms\tremaining: 205ms\n",
            "16:\tlearn: 0.8905192\ttotal: 41.8ms\tremaining: 204ms\n",
            "17:\tlearn: 0.8905192\ttotal: 44.5ms\tremaining: 203ms\n",
            "18:\tlearn: 0.8893905\ttotal: 47.4ms\tremaining: 202ms\n",
            "19:\tlearn: 0.8893905\ttotal: 50.1ms\tremaining: 200ms\n",
            "20:\tlearn: 0.8882619\ttotal: 52.8ms\tremaining: 199ms\n",
            "21:\tlearn: 0.8905192\ttotal: 55.6ms\tremaining: 197ms\n",
            "22:\tlearn: 0.8916479\ttotal: 58.4ms\tremaining: 195ms\n",
            "23:\tlearn: 0.8927765\ttotal: 61.1ms\tremaining: 194ms\n",
            "24:\tlearn: 0.8927765\ttotal: 64ms\tremaining: 192ms\n",
            "25:\tlearn: 0.8950339\ttotal: 66.8ms\tremaining: 190ms\n",
            "26:\tlearn: 0.8950339\ttotal: 69.5ms\tremaining: 188ms\n",
            "27:\tlearn: 0.8961625\ttotal: 72.2ms\tremaining: 186ms\n",
            "28:\tlearn: 0.9006772\ttotal: 74.9ms\tremaining: 183ms\n",
            "29:\tlearn: 0.9029345\ttotal: 77.5ms\tremaining: 181ms\n",
            "30:\tlearn: 0.9051919\ttotal: 80.2ms\tremaining: 179ms\n",
            "31:\tlearn: 0.9040632\ttotal: 83.1ms\tremaining: 176ms\n",
            "32:\tlearn: 0.9029345\ttotal: 85.7ms\tremaining: 174ms\n",
            "33:\tlearn: 0.9040632\ttotal: 88.5ms\tremaining: 172ms\n",
            "34:\tlearn: 0.9074492\ttotal: 91.4ms\tremaining: 170ms\n",
            "35:\tlearn: 0.9063205\ttotal: 94.1ms\tremaining: 167ms\n",
            "36:\tlearn: 0.9074492\ttotal: 97.2ms\tremaining: 166ms\n",
            "37:\tlearn: 0.9108352\ttotal: 100ms\tremaining: 163ms\n",
            "38:\tlearn: 0.9130926\ttotal: 103ms\tremaining: 161ms\n",
            "39:\tlearn: 0.9142212\ttotal: 105ms\tremaining: 158ms\n",
            "40:\tlearn: 0.9153499\ttotal: 108ms\tremaining: 156ms\n",
            "41:\tlearn: 0.9142212\ttotal: 113ms\tremaining: 156ms\n",
            "42:\tlearn: 0.9164786\ttotal: 118ms\tremaining: 156ms\n",
            "43:\tlearn: 0.9164786\ttotal: 127ms\tremaining: 161ms\n",
            "44:\tlearn: 0.9187359\ttotal: 131ms\tremaining: 160ms\n",
            "45:\tlearn: 0.9198646\ttotal: 136ms\tremaining: 160ms\n",
            "46:\tlearn: 0.9198646\ttotal: 139ms\tremaining: 156ms\n",
            "47:\tlearn: 0.9209932\ttotal: 141ms\tremaining: 153ms\n",
            "48:\tlearn: 0.9209932\ttotal: 144ms\tremaining: 150ms\n",
            "49:\tlearn: 0.9198646\ttotal: 147ms\tremaining: 147ms\n",
            "50:\tlearn: 0.9209932\ttotal: 150ms\tremaining: 144ms\n",
            "51:\tlearn: 0.9221219\ttotal: 153ms\tremaining: 141ms\n",
            "52:\tlearn: 0.9221219\ttotal: 156ms\tremaining: 138ms\n",
            "53:\tlearn: 0.9221219\ttotal: 159ms\tremaining: 135ms\n",
            "54:\tlearn: 0.9221219\ttotal: 163ms\tremaining: 134ms\n",
            "55:\tlearn: 0.9221219\ttotal: 165ms\tremaining: 130ms\n",
            "56:\tlearn: 0.9243792\ttotal: 168ms\tremaining: 127ms\n",
            "57:\tlearn: 0.9243792\ttotal: 171ms\tremaining: 124ms\n",
            "58:\tlearn: 0.9243792\ttotal: 174ms\tremaining: 121ms\n",
            "59:\tlearn: 0.9243792\ttotal: 176ms\tremaining: 118ms\n",
            "60:\tlearn: 0.9243792\ttotal: 179ms\tremaining: 115ms\n",
            "61:\tlearn: 0.9243792\ttotal: 182ms\tremaining: 112ms\n",
            "62:\tlearn: 0.9255079\ttotal: 183ms\tremaining: 108ms\n",
            "63:\tlearn: 0.9232506\ttotal: 186ms\tremaining: 105ms\n",
            "64:\tlearn: 0.9221219\ttotal: 189ms\tremaining: 102ms\n",
            "65:\tlearn: 0.9232506\ttotal: 191ms\tremaining: 98.6ms\n",
            "66:\tlearn: 0.9232506\ttotal: 194ms\tremaining: 95.7ms\n",
            "67:\tlearn: 0.9243792\ttotal: 197ms\tremaining: 92.6ms\n",
            "68:\tlearn: 0.9232506\ttotal: 201ms\tremaining: 90.3ms\n",
            "69:\tlearn: 0.9243792\ttotal: 205ms\tremaining: 87.8ms\n",
            "70:\tlearn: 0.9266366\ttotal: 208ms\tremaining: 84.8ms\n",
            "71:\tlearn: 0.9255079\ttotal: 210ms\tremaining: 81.8ms\n",
            "72:\tlearn: 0.9300226\ttotal: 213ms\tremaining: 78.9ms\n",
            "73:\tlearn: 0.9311512\ttotal: 216ms\tremaining: 75.9ms\n",
            "74:\tlearn: 0.9311512\ttotal: 219ms\tremaining: 73ms\n",
            "75:\tlearn: 0.9322799\ttotal: 222ms\tremaining: 70ms\n",
            "76:\tlearn: 0.9322799\ttotal: 224ms\tremaining: 67ms\n",
            "77:\tlearn: 0.9322799\ttotal: 227ms\tremaining: 64.1ms\n",
            "78:\tlearn: 0.9322799\ttotal: 230ms\tremaining: 61.2ms\n",
            "79:\tlearn: 0.9322799\ttotal: 233ms\tremaining: 58.3ms\n",
            "80:\tlearn: 0.9334086\ttotal: 236ms\tremaining: 55.4ms\n",
            "81:\tlearn: 0.9322799\ttotal: 239ms\tremaining: 52.5ms\n",
            "82:\tlearn: 0.9322799\ttotal: 242ms\tremaining: 49.5ms\n",
            "83:\tlearn: 0.9322799\ttotal: 243ms\tremaining: 46.3ms\n",
            "84:\tlearn: 0.9322799\ttotal: 246ms\tremaining: 43.4ms\n",
            "85:\tlearn: 0.9322799\ttotal: 249ms\tremaining: 40.5ms\n",
            "86:\tlearn: 0.9311512\ttotal: 252ms\tremaining: 37.6ms\n",
            "87:\tlearn: 0.9311512\ttotal: 253ms\tremaining: 34.5ms\n",
            "88:\tlearn: 0.9300226\ttotal: 256ms\tremaining: 31.7ms\n",
            "89:\tlearn: 0.9311512\ttotal: 259ms\tremaining: 28.8ms\n",
            "90:\tlearn: 0.9300226\ttotal: 262ms\tremaining: 25.9ms\n",
            "91:\tlearn: 0.9300226\ttotal: 265ms\tremaining: 23ms\n",
            "92:\tlearn: 0.9300226\ttotal: 268ms\tremaining: 20.1ms\n",
            "93:\tlearn: 0.9300226\ttotal: 269ms\tremaining: 17.2ms\n",
            "94:\tlearn: 0.9311512\ttotal: 272ms\tremaining: 14.3ms\n",
            "95:\tlearn: 0.9311512\ttotal: 274ms\tremaining: 11.4ms\n",
            "96:\tlearn: 0.9311512\ttotal: 276ms\tremaining: 8.53ms\n",
            "97:\tlearn: 0.9322799\ttotal: 278ms\tremaining: 5.68ms\n",
            "98:\tlearn: 0.9322799\ttotal: 281ms\tremaining: 2.84ms\n",
            "99:\tlearn: 0.9322799\ttotal: 284ms\tremaining: 0us\n",
            "0:\tlearn: 0.8656885\ttotal: 2.41ms\tremaining: 239ms\n",
            "1:\tlearn: 0.8769752\ttotal: 5.79ms\tremaining: 283ms\n",
            "2:\tlearn: 0.8905192\ttotal: 8.64ms\tremaining: 279ms\n",
            "3:\tlearn: 0.8882619\ttotal: 11.6ms\tremaining: 279ms\n",
            "4:\tlearn: 0.8702032\ttotal: 12.6ms\tremaining: 240ms\n",
            "5:\tlearn: 0.8769752\ttotal: 15.4ms\tremaining: 241ms\n",
            "6:\tlearn: 0.8826185\ttotal: 18.1ms\tremaining: 241ms\n",
            "7:\tlearn: 0.8826185\ttotal: 21.2ms\tremaining: 244ms\n",
            "8:\tlearn: 0.8837472\ttotal: 24.3ms\tremaining: 246ms\n",
            "9:\tlearn: 0.8848758\ttotal: 27ms\tremaining: 243ms\n",
            "10:\tlearn: 0.8905192\ttotal: 30ms\tremaining: 242ms\n",
            "11:\tlearn: 0.8927765\ttotal: 32.7ms\tremaining: 240ms\n",
            "12:\tlearn: 0.8939052\ttotal: 35.5ms\tremaining: 238ms\n",
            "13:\tlearn: 0.8961625\ttotal: 38.3ms\tremaining: 236ms\n",
            "14:\tlearn: 0.8972912\ttotal: 44ms\tremaining: 250ms\n",
            "15:\tlearn: 0.8972912\ttotal: 46.8ms\tremaining: 246ms\n",
            "16:\tlearn: 0.8995485\ttotal: 49.7ms\tremaining: 242ms\n",
            "17:\tlearn: 0.8984199\ttotal: 52.5ms\tremaining: 239ms\n",
            "18:\tlearn: 0.8972912\ttotal: 53.5ms\tremaining: 228ms\n",
            "19:\tlearn: 0.8995485\ttotal: 56.3ms\tremaining: 225ms\n",
            "20:\tlearn: 0.9006772\ttotal: 59ms\tremaining: 222ms\n",
            "21:\tlearn: 0.8995485\ttotal: 61.8ms\tremaining: 219ms\n",
            "22:\tlearn: 0.9006772\ttotal: 64.6ms\tremaining: 216ms\n",
            "23:\tlearn: 0.9018059\ttotal: 67.4ms\tremaining: 213ms\n",
            "24:\tlearn: 0.9029345\ttotal: 70.1ms\tremaining: 210ms\n",
            "25:\tlearn: 0.9051919\ttotal: 72.9ms\tremaining: 207ms\n",
            "26:\tlearn: 0.9006772\ttotal: 73.8ms\tremaining: 200ms\n",
            "27:\tlearn: 0.9040632\ttotal: 76.7ms\tremaining: 197ms\n",
            "28:\tlearn: 0.9029345\ttotal: 79.6ms\tremaining: 195ms\n",
            "29:\tlearn: 0.9063205\ttotal: 82.5ms\tremaining: 193ms\n",
            "30:\tlearn: 0.9097065\ttotal: 86.3ms\tremaining: 192ms\n",
            "31:\tlearn: 0.9085779\ttotal: 89ms\tremaining: 189ms\n",
            "32:\tlearn: 0.9142212\ttotal: 91.5ms\tremaining: 186ms\n",
            "33:\tlearn: 0.9130926\ttotal: 95.2ms\tremaining: 185ms\n",
            "34:\tlearn: 0.9176072\ttotal: 98.8ms\tremaining: 183ms\n",
            "35:\tlearn: 0.9176072\ttotal: 101ms\tremaining: 180ms\n",
            "36:\tlearn: 0.9176072\ttotal: 106ms\tremaining: 180ms\n",
            "37:\tlearn: 0.9164786\ttotal: 108ms\tremaining: 177ms\n",
            "38:\tlearn: 0.9164786\ttotal: 111ms\tremaining: 173ms\n",
            "39:\tlearn: 0.9164786\ttotal: 113ms\tremaining: 170ms\n",
            "40:\tlearn: 0.9209932\ttotal: 115ms\tremaining: 166ms\n",
            "41:\tlearn: 0.9198646\ttotal: 118ms\tremaining: 163ms\n",
            "42:\tlearn: 0.9209932\ttotal: 120ms\tremaining: 159ms\n",
            "43:\tlearn: 0.9221219\ttotal: 122ms\tremaining: 156ms\n",
            "44:\tlearn: 0.9209932\ttotal: 125ms\tremaining: 153ms\n",
            "45:\tlearn: 0.9209932\ttotal: 128ms\tremaining: 150ms\n",
            "46:\tlearn: 0.9198646\ttotal: 130ms\tremaining: 147ms\n",
            "47:\tlearn: 0.9198646\ttotal: 133ms\tremaining: 144ms\n",
            "48:\tlearn: 0.9209932\ttotal: 136ms\tremaining: 142ms\n",
            "49:\tlearn: 0.9209932\ttotal: 139ms\tremaining: 139ms\n",
            "50:\tlearn: 0.9221219\ttotal: 142ms\tremaining: 136ms\n",
            "51:\tlearn: 0.9266366\ttotal: 144ms\tremaining: 133ms\n",
            "52:\tlearn: 0.9277652\ttotal: 147ms\tremaining: 130ms\n",
            "53:\tlearn: 0.9266366\ttotal: 150ms\tremaining: 128ms\n",
            "54:\tlearn: 0.9277652\ttotal: 153ms\tremaining: 125ms\n",
            "55:\tlearn: 0.9266366\ttotal: 156ms\tremaining: 123ms\n",
            "56:\tlearn: 0.9266366\ttotal: 159ms\tremaining: 120ms\n",
            "57:\tlearn: 0.9277652\ttotal: 162ms\tremaining: 117ms\n",
            "58:\tlearn: 0.9277652\ttotal: 164ms\tremaining: 114ms\n",
            "59:\tlearn: 0.9288939\ttotal: 167ms\tremaining: 111ms\n",
            "60:\tlearn: 0.9277652\ttotal: 170ms\tremaining: 109ms\n",
            "61:\tlearn: 0.9266366\ttotal: 175ms\tremaining: 107ms\n",
            "62:\tlearn: 0.9266366\ttotal: 177ms\tremaining: 104ms\n",
            "63:\tlearn: 0.9266366\ttotal: 182ms\tremaining: 103ms\n",
            "64:\tlearn: 0.9266366\ttotal: 185ms\tremaining: 99.6ms\n",
            "65:\tlearn: 0.9266366\ttotal: 188ms\tremaining: 96.8ms\n",
            "66:\tlearn: 0.9266366\ttotal: 191ms\tremaining: 93.9ms\n",
            "67:\tlearn: 0.9277652\ttotal: 193ms\tremaining: 91ms\n",
            "68:\tlearn: 0.9277652\ttotal: 196ms\tremaining: 88.2ms\n",
            "69:\tlearn: 0.9277652\ttotal: 199ms\tremaining: 85.3ms\n",
            "70:\tlearn: 0.9288939\ttotal: 202ms\tremaining: 82.4ms\n",
            "71:\tlearn: 0.9300226\ttotal: 205ms\tremaining: 79.6ms\n",
            "72:\tlearn: 0.9300226\ttotal: 207ms\tremaining: 76.7ms\n",
            "73:\tlearn: 0.9300226\ttotal: 213ms\tremaining: 75ms\n",
            "74:\tlearn: 0.9311512\ttotal: 219ms\tremaining: 72.9ms\n",
            "75:\tlearn: 0.9345372\ttotal: 223ms\tremaining: 70.4ms\n",
            "76:\tlearn: 0.9345372\ttotal: 229ms\tremaining: 68.5ms\n",
            "77:\tlearn: 0.9334086\ttotal: 232ms\tremaining: 65.4ms\n",
            "78:\tlearn: 0.9322799\ttotal: 235ms\tremaining: 62.4ms\n",
            "79:\tlearn: 0.9322799\ttotal: 237ms\tremaining: 59.4ms\n",
            "80:\tlearn: 0.9334086\ttotal: 240ms\tremaining: 56.4ms\n",
            "81:\tlearn: 0.9334086\ttotal: 243ms\tremaining: 53.3ms\n",
            "82:\tlearn: 0.9334086\ttotal: 246ms\tremaining: 50.3ms\n",
            "83:\tlearn: 0.9334086\ttotal: 248ms\tremaining: 47.3ms\n",
            "84:\tlearn: 0.9345372\ttotal: 251ms\tremaining: 44.3ms\n",
            "85:\tlearn: 0.9356659\ttotal: 254ms\tremaining: 41.4ms\n",
            "86:\tlearn: 0.9356659\ttotal: 257ms\tremaining: 38.4ms\n",
            "87:\tlearn: 0.9367946\ttotal: 260ms\tremaining: 35.4ms\n",
            "88:\tlearn: 0.9367946\ttotal: 262ms\tremaining: 32.4ms\n",
            "89:\tlearn: 0.9356659\ttotal: 265ms\tremaining: 29.4ms\n",
            "90:\tlearn: 0.9367946\ttotal: 268ms\tremaining: 26.5ms\n",
            "91:\tlearn: 0.9356659\ttotal: 270ms\tremaining: 23.5ms\n",
            "92:\tlearn: 0.9356659\ttotal: 273ms\tremaining: 20.6ms\n",
            "93:\tlearn: 0.9356659\ttotal: 276ms\tremaining: 17.6ms\n",
            "94:\tlearn: 0.9356659\ttotal: 279ms\tremaining: 14.7ms\n",
            "95:\tlearn: 0.9356659\ttotal: 281ms\tremaining: 11.7ms\n",
            "96:\tlearn: 0.9356659\ttotal: 284ms\tremaining: 8.78ms\n",
            "97:\tlearn: 0.9356659\ttotal: 287ms\tremaining: 5.85ms\n",
            "98:\tlearn: 0.9356659\ttotal: 289ms\tremaining: 2.92ms\n",
            "99:\tlearn: 0.9379233\ttotal: 292ms\tremaining: 0us\n",
            "0:\tlearn: 0.8724605\ttotal: 2.44ms\tremaining: 241ms\n",
            "1:\tlearn: 0.8803612\ttotal: 5.2ms\tremaining: 255ms\n",
            "2:\tlearn: 0.8848758\ttotal: 8.06ms\tremaining: 261ms\n",
            "3:\tlearn: 0.8792325\ttotal: 10.8ms\tremaining: 259ms\n",
            "4:\tlearn: 0.8758465\ttotal: 11.8ms\tremaining: 225ms\n",
            "5:\tlearn: 0.8735892\ttotal: 14.6ms\tremaining: 228ms\n",
            "6:\tlearn: 0.8882619\ttotal: 17.8ms\tremaining: 236ms\n",
            "7:\tlearn: 0.8893905\ttotal: 20.6ms\tremaining: 237ms\n",
            "8:\tlearn: 0.8972912\ttotal: 23.4ms\tremaining: 236ms\n",
            "9:\tlearn: 0.8961625\ttotal: 26.1ms\tremaining: 235ms\n",
            "10:\tlearn: 0.8916479\ttotal: 28.8ms\tremaining: 233ms\n",
            "11:\tlearn: 0.8927765\ttotal: 31.6ms\tremaining: 232ms\n",
            "12:\tlearn: 0.8984199\ttotal: 34.4ms\tremaining: 230ms\n",
            "13:\tlearn: 0.8972912\ttotal: 37.1ms\tremaining: 228ms\n",
            "14:\tlearn: 0.8972912\ttotal: 39.8ms\tremaining: 225ms\n",
            "15:\tlearn: 0.8972912\ttotal: 42.6ms\tremaining: 224ms\n",
            "16:\tlearn: 0.9018059\ttotal: 50.9ms\tremaining: 249ms\n",
            "17:\tlearn: 0.9040632\ttotal: 53.3ms\tremaining: 243ms\n",
            "18:\tlearn: 0.9018059\ttotal: 53.7ms\tremaining: 229ms\n",
            "19:\tlearn: 0.9051919\ttotal: 56.6ms\tremaining: 226ms\n",
            "20:\tlearn: 0.9051919\ttotal: 58.5ms\tremaining: 220ms\n",
            "21:\tlearn: 0.9040632\ttotal: 59.5ms\tremaining: 211ms\n",
            "22:\tlearn: 0.9063205\ttotal: 62.2ms\tremaining: 208ms\n",
            "23:\tlearn: 0.9074492\ttotal: 68.5ms\tremaining: 217ms\n",
            "24:\tlearn: 0.9040632\ttotal: 71.4ms\tremaining: 214ms\n",
            "25:\tlearn: 0.9029345\ttotal: 74.2ms\tremaining: 211ms\n",
            "26:\tlearn: 0.9029345\ttotal: 77ms\tremaining: 208ms\n",
            "27:\tlearn: 0.9051919\ttotal: 79.9ms\tremaining: 206ms\n",
            "28:\tlearn: 0.9051919\ttotal: 82.8ms\tremaining: 203ms\n",
            "29:\tlearn: 0.9074492\ttotal: 85.6ms\tremaining: 200ms\n",
            "30:\tlearn: 0.9108352\ttotal: 88.4ms\tremaining: 197ms\n",
            "31:\tlearn: 0.9130926\ttotal: 91.5ms\tremaining: 194ms\n",
            "32:\tlearn: 0.9142212\ttotal: 94.3ms\tremaining: 191ms\n",
            "33:\tlearn: 0.9142212\ttotal: 97ms\tremaining: 188ms\n",
            "34:\tlearn: 0.9142212\ttotal: 99.8ms\tremaining: 185ms\n",
            "35:\tlearn: 0.9130926\ttotal: 103ms\tremaining: 183ms\n",
            "36:\tlearn: 0.9164786\ttotal: 106ms\tremaining: 180ms\n",
            "37:\tlearn: 0.9187359\ttotal: 108ms\tremaining: 177ms\n",
            "38:\tlearn: 0.9221219\ttotal: 111ms\tremaining: 174ms\n",
            "39:\tlearn: 0.9198646\ttotal: 114ms\tremaining: 171ms\n",
            "40:\tlearn: 0.9198646\ttotal: 117ms\tremaining: 168ms\n",
            "41:\tlearn: 0.9221219\ttotal: 120ms\tremaining: 165ms\n",
            "42:\tlearn: 0.9221219\ttotal: 122ms\tremaining: 162ms\n",
            "43:\tlearn: 0.9221219\ttotal: 125ms\tremaining: 159ms\n",
            "44:\tlearn: 0.9232506\ttotal: 128ms\tremaining: 157ms\n",
            "45:\tlearn: 0.9232506\ttotal: 131ms\tremaining: 154ms\n",
            "46:\tlearn: 0.9243792\ttotal: 134ms\tremaining: 152ms\n",
            "47:\tlearn: 0.9255079\ttotal: 137ms\tremaining: 149ms\n",
            "48:\tlearn: 0.9266366\ttotal: 140ms\tremaining: 146ms\n",
            "49:\tlearn: 0.9277652\ttotal: 143ms\tremaining: 143ms\n",
            "50:\tlearn: 0.9277652\ttotal: 146ms\tremaining: 140ms\n",
            "51:\tlearn: 0.9266366\ttotal: 148ms\tremaining: 137ms\n",
            "52:\tlearn: 0.9288939\ttotal: 151ms\tremaining: 134ms\n",
            "53:\tlearn: 0.9300226\ttotal: 154ms\tremaining: 131ms\n",
            "54:\tlearn: 0.9300226\ttotal: 157ms\tremaining: 128ms\n",
            "55:\tlearn: 0.9300226\ttotal: 159ms\tremaining: 125ms\n",
            "56:\tlearn: 0.9311512\ttotal: 162ms\tremaining: 122ms\n",
            "57:\tlearn: 0.9311512\ttotal: 165ms\tremaining: 119ms\n",
            "58:\tlearn: 0.9311512\ttotal: 168ms\tremaining: 117ms\n",
            "59:\tlearn: 0.9311512\ttotal: 171ms\tremaining: 114ms\n",
            "60:\tlearn: 0.9311512\ttotal: 174ms\tremaining: 111ms\n",
            "61:\tlearn: 0.9311512\ttotal: 177ms\tremaining: 108ms\n",
            "62:\tlearn: 0.9311512\ttotal: 180ms\tremaining: 105ms\n",
            "63:\tlearn: 0.9311512\ttotal: 182ms\tremaining: 103ms\n",
            "64:\tlearn: 0.9311512\ttotal: 185ms\tremaining: 99.8ms\n",
            "65:\tlearn: 0.9311512\ttotal: 188ms\tremaining: 97ms\n",
            "66:\tlearn: 0.9311512\ttotal: 191ms\tremaining: 94ms\n",
            "67:\tlearn: 0.9311512\ttotal: 194ms\tremaining: 91.2ms\n",
            "68:\tlearn: 0.9322799\ttotal: 197ms\tremaining: 88.3ms\n",
            "69:\tlearn: 0.9322799\ttotal: 199ms\tremaining: 85.5ms\n",
            "70:\tlearn: 0.9334086\ttotal: 202ms\tremaining: 82.6ms\n",
            "71:\tlearn: 0.9356659\ttotal: 205ms\tremaining: 79.9ms\n",
            "72:\tlearn: 0.9345372\ttotal: 208ms\tremaining: 77ms\n",
            "73:\tlearn: 0.9345372\ttotal: 211ms\tremaining: 74.2ms\n",
            "74:\tlearn: 0.9356659\ttotal: 214ms\tremaining: 71.5ms\n",
            "75:\tlearn: 0.9356659\ttotal: 217ms\tremaining: 68.6ms\n",
            "76:\tlearn: 0.9367946\ttotal: 220ms\tremaining: 65.8ms\n",
            "77:\tlearn: 0.9367946\ttotal: 223ms\tremaining: 62.9ms\n",
            "78:\tlearn: 0.9367946\ttotal: 226ms\tremaining: 60ms\n",
            "79:\tlearn: 0.9356659\ttotal: 229ms\tremaining: 57.3ms\n",
            "80:\tlearn: 0.9356659\ttotal: 230ms\tremaining: 54ms\n",
            "81:\tlearn: 0.9356659\ttotal: 236ms\tremaining: 51.8ms\n",
            "82:\tlearn: 0.9356659\ttotal: 241ms\tremaining: 49.4ms\n",
            "83:\tlearn: 0.9356659\ttotal: 244ms\tremaining: 46.5ms\n",
            "84:\tlearn: 0.9356659\ttotal: 247ms\tremaining: 43.5ms\n",
            "85:\tlearn: 0.9345372\ttotal: 250ms\tremaining: 40.7ms\n",
            "86:\tlearn: 0.9367946\ttotal: 254ms\tremaining: 38ms\n",
            "87:\tlearn: 0.9367946\ttotal: 258ms\tremaining: 35.1ms\n",
            "88:\tlearn: 0.9379233\ttotal: 261ms\tremaining: 32.2ms\n",
            "89:\tlearn: 0.9379233\ttotal: 264ms\tremaining: 29.3ms\n",
            "90:\tlearn: 0.9379233\ttotal: 266ms\tremaining: 26.3ms\n",
            "91:\tlearn: 0.9367946\ttotal: 269ms\tremaining: 23.4ms\n",
            "92:\tlearn: 0.9367946\ttotal: 272ms\tremaining: 20.4ms\n",
            "93:\tlearn: 0.9367946\ttotal: 273ms\tremaining: 17.4ms\n",
            "94:\tlearn: 0.9367946\ttotal: 275ms\tremaining: 14.5ms\n",
            "95:\tlearn: 0.9367946\ttotal: 278ms\tremaining: 11.6ms\n",
            "96:\tlearn: 0.9367946\ttotal: 279ms\tremaining: 8.64ms\n",
            "97:\tlearn: 0.9367946\ttotal: 282ms\tremaining: 5.75ms\n",
            "98:\tlearn: 0.9367946\ttotal: 285ms\tremaining: 2.87ms\n",
            "99:\tlearn: 0.9367946\ttotal: 287ms\tremaining: 0us\n",
            "0:\tlearn: 0.8668172\ttotal: 2.57ms\tremaining: 255ms\n",
            "1:\tlearn: 0.8758465\ttotal: 5.41ms\tremaining: 265ms\n",
            "2:\tlearn: 0.8871332\ttotal: 8.18ms\tremaining: 264ms\n",
            "3:\tlearn: 0.8848758\ttotal: 10.9ms\tremaining: 262ms\n",
            "4:\tlearn: 0.8735892\ttotal: 11.9ms\tremaining: 227ms\n",
            "5:\tlearn: 0.8747178\ttotal: 13.1ms\tremaining: 205ms\n",
            "6:\tlearn: 0.8713318\ttotal: 14ms\tremaining: 186ms\n",
            "7:\tlearn: 0.8792325\ttotal: 16.6ms\tremaining: 191ms\n",
            "8:\tlearn: 0.8747178\ttotal: 19.4ms\tremaining: 196ms\n",
            "9:\tlearn: 0.8758465\ttotal: 22.6ms\tremaining: 203ms\n",
            "10:\tlearn: 0.8803612\ttotal: 25.4ms\tremaining: 205ms\n",
            "11:\tlearn: 0.8803612\ttotal: 28.3ms\tremaining: 208ms\n",
            "12:\tlearn: 0.8848758\ttotal: 31.2ms\tremaining: 209ms\n",
            "13:\tlearn: 0.8814898\ttotal: 32.5ms\tremaining: 199ms\n",
            "14:\tlearn: 0.8837472\ttotal: 35.3ms\tremaining: 200ms\n",
            "15:\tlearn: 0.8871332\ttotal: 38ms\tremaining: 199ms\n",
            "16:\tlearn: 0.8882619\ttotal: 40.7ms\tremaining: 199ms\n",
            "17:\tlearn: 0.8893905\ttotal: 43.5ms\tremaining: 198ms\n",
            "18:\tlearn: 0.8916479\ttotal: 46.2ms\tremaining: 197ms\n",
            "19:\tlearn: 0.8893905\ttotal: 48.9ms\tremaining: 196ms\n",
            "20:\tlearn: 0.8905192\ttotal: 51.7ms\tremaining: 194ms\n",
            "21:\tlearn: 0.8916479\ttotal: 54.4ms\tremaining: 193ms\n",
            "22:\tlearn: 0.8927765\ttotal: 57.1ms\tremaining: 191ms\n",
            "23:\tlearn: 0.8893905\ttotal: 60ms\tremaining: 190ms\n",
            "24:\tlearn: 0.8939052\ttotal: 62.7ms\tremaining: 188ms\n",
            "25:\tlearn: 0.8961625\ttotal: 65.4ms\tremaining: 186ms\n",
            "26:\tlearn: 0.8984199\ttotal: 68.1ms\tremaining: 184ms\n",
            "27:\tlearn: 0.9006772\ttotal: 71.1ms\tremaining: 183ms\n",
            "28:\tlearn: 0.9018059\ttotal: 73.9ms\tremaining: 181ms\n",
            "29:\tlearn: 0.9029345\ttotal: 76.7ms\tremaining: 179ms\n",
            "30:\tlearn: 0.9051919\ttotal: 79.6ms\tremaining: 177ms\n",
            "31:\tlearn: 0.9040632\ttotal: 82.3ms\tremaining: 175ms\n",
            "32:\tlearn: 0.9074492\ttotal: 84.9ms\tremaining: 172ms\n",
            "33:\tlearn: 0.9074492\ttotal: 87.6ms\tremaining: 170ms\n",
            "34:\tlearn: 0.9085779\ttotal: 90.3ms\tremaining: 168ms\n",
            "35:\tlearn: 0.9085779\ttotal: 93ms\tremaining: 165ms\n",
            "36:\tlearn: 0.9108352\ttotal: 95.8ms\tremaining: 163ms\n",
            "37:\tlearn: 0.9130926\ttotal: 98.4ms\tremaining: 161ms\n",
            "38:\tlearn: 0.9142212\ttotal: 101ms\tremaining: 158ms\n",
            "39:\tlearn: 0.9142212\ttotal: 104ms\tremaining: 156ms\n",
            "40:\tlearn: 0.9130926\ttotal: 107ms\tremaining: 153ms\n",
            "41:\tlearn: 0.9142212\ttotal: 110ms\tremaining: 152ms\n",
            "42:\tlearn: 0.9176072\ttotal: 117ms\tremaining: 155ms\n",
            "43:\tlearn: 0.9187359\ttotal: 122ms\tremaining: 155ms\n",
            "44:\tlearn: 0.9187359\ttotal: 127ms\tremaining: 155ms\n",
            "45:\tlearn: 0.9198646\ttotal: 129ms\tremaining: 152ms\n",
            "46:\tlearn: 0.9198646\ttotal: 132ms\tremaining: 149ms\n",
            "47:\tlearn: 0.9176072\ttotal: 135ms\tremaining: 146ms\n",
            "48:\tlearn: 0.9176072\ttotal: 138ms\tremaining: 143ms\n",
            "49:\tlearn: 0.9187359\ttotal: 141ms\tremaining: 141ms\n",
            "50:\tlearn: 0.9187359\ttotal: 143ms\tremaining: 138ms\n",
            "51:\tlearn: 0.9209932\ttotal: 146ms\tremaining: 135ms\n",
            "52:\tlearn: 0.9221219\ttotal: 149ms\tremaining: 132ms\n",
            "53:\tlearn: 0.9221219\ttotal: 151ms\tremaining: 129ms\n",
            "54:\tlearn: 0.9232506\ttotal: 154ms\tremaining: 126ms\n",
            "55:\tlearn: 0.9209932\ttotal: 157ms\tremaining: 123ms\n",
            "56:\tlearn: 0.9232506\ttotal: 159ms\tremaining: 120ms\n",
            "57:\tlearn: 0.9232506\ttotal: 162ms\tremaining: 117ms\n",
            "58:\tlearn: 0.9221219\ttotal: 165ms\tremaining: 115ms\n",
            "59:\tlearn: 0.9232506\ttotal: 168ms\tremaining: 112ms\n",
            "60:\tlearn: 0.9243792\ttotal: 170ms\tremaining: 109ms\n",
            "61:\tlearn: 0.9255079\ttotal: 173ms\tremaining: 106ms\n",
            "62:\tlearn: 0.9243792\ttotal: 174ms\tremaining: 102ms\n",
            "63:\tlearn: 0.9232506\ttotal: 177ms\tremaining: 99.6ms\n",
            "64:\tlearn: 0.9243792\ttotal: 180ms\tremaining: 96.8ms\n",
            "65:\tlearn: 0.9277652\ttotal: 182ms\tremaining: 94ms\n",
            "66:\tlearn: 0.9277652\ttotal: 185ms\tremaining: 91.2ms\n",
            "67:\tlearn: 0.9266366\ttotal: 188ms\tremaining: 88.5ms\n",
            "68:\tlearn: 0.9277652\ttotal: 191ms\tremaining: 85.7ms\n",
            "69:\tlearn: 0.9300226\ttotal: 194ms\tremaining: 83ms\n",
            "70:\tlearn: 0.9311512\ttotal: 196ms\tremaining: 80.2ms\n",
            "71:\tlearn: 0.9311512\ttotal: 199ms\tremaining: 77.4ms\n",
            "72:\tlearn: 0.9311512\ttotal: 202ms\tremaining: 74.6ms\n",
            "73:\tlearn: 0.9322799\ttotal: 206ms\tremaining: 72.2ms\n",
            "74:\tlearn: 0.9322799\ttotal: 212ms\tremaining: 70.7ms\n",
            "75:\tlearn: 0.9322799\ttotal: 215ms\tremaining: 67.9ms\n",
            "76:\tlearn: 0.9345372\ttotal: 218ms\tremaining: 65.1ms\n",
            "77:\tlearn: 0.9345372\ttotal: 221ms\tremaining: 62.2ms\n",
            "78:\tlearn: 0.9334086\ttotal: 223ms\tremaining: 59.4ms\n",
            "79:\tlearn: 0.9345372\ttotal: 226ms\tremaining: 56.5ms\n",
            "80:\tlearn: 0.9334086\ttotal: 229ms\tremaining: 53.7ms\n",
            "81:\tlearn: 0.9334086\ttotal: 231ms\tremaining: 50.8ms\n",
            "82:\tlearn: 0.9345372\ttotal: 234ms\tremaining: 48ms\n",
            "83:\tlearn: 0.9345372\ttotal: 237ms\tremaining: 45.2ms\n",
            "84:\tlearn: 0.9345372\ttotal: 240ms\tremaining: 42.4ms\n",
            "85:\tlearn: 0.9322799\ttotal: 243ms\tremaining: 39.6ms\n",
            "86:\tlearn: 0.9322799\ttotal: 246ms\tremaining: 36.7ms\n",
            "87:\tlearn: 0.9322799\ttotal: 248ms\tremaining: 33.8ms\n",
            "88:\tlearn: 0.9322799\ttotal: 251ms\tremaining: 31ms\n",
            "89:\tlearn: 0.9322799\ttotal: 253ms\tremaining: 28.2ms\n",
            "90:\tlearn: 0.9322799\ttotal: 255ms\tremaining: 25.2ms\n",
            "91:\tlearn: 0.9322799\ttotal: 257ms\tremaining: 22.4ms\n",
            "92:\tlearn: 0.9322799\ttotal: 260ms\tremaining: 19.6ms\n",
            "93:\tlearn: 0.9334086\ttotal: 263ms\tremaining: 16.8ms\n",
            "94:\tlearn: 0.9345372\ttotal: 266ms\tremaining: 14ms\n",
            "95:\tlearn: 0.9334086\ttotal: 269ms\tremaining: 11.2ms\n",
            "96:\tlearn: 0.9334086\ttotal: 271ms\tremaining: 8.39ms\n",
            "97:\tlearn: 0.9334086\ttotal: 274ms\tremaining: 5.59ms\n",
            "98:\tlearn: 0.9334086\ttotal: 277ms\tremaining: 2.8ms\n",
            "99:\tlearn: 0.9334086\ttotal: 280ms\tremaining: 0us\n",
            "0:\tlearn: 0.8623025\ttotal: 2.42ms\tremaining: 239ms\n",
            "1:\tlearn: 0.8758465\ttotal: 5.33ms\tremaining: 261ms\n",
            "2:\tlearn: 0.8871332\ttotal: 7.61ms\tremaining: 246ms\n",
            "3:\tlearn: 0.8848758\ttotal: 9.96ms\tremaining: 239ms\n",
            "4:\tlearn: 0.8792325\ttotal: 10.6ms\tremaining: 201ms\n",
            "5:\tlearn: 0.8747178\ttotal: 11.3ms\tremaining: 177ms\n",
            "6:\tlearn: 0.8814898\ttotal: 11.8ms\tremaining: 157ms\n",
            "7:\tlearn: 0.8837472\ttotal: 14.5ms\tremaining: 166ms\n",
            "8:\tlearn: 0.8814898\ttotal: 17.1ms\tremaining: 173ms\n",
            "9:\tlearn: 0.8814898\ttotal: 20ms\tremaining: 180ms\n",
            "10:\tlearn: 0.8758465\ttotal: 22.8ms\tremaining: 185ms\n",
            "11:\tlearn: 0.8814898\ttotal: 25.7ms\tremaining: 189ms\n",
            "12:\tlearn: 0.8837472\ttotal: 28.5ms\tremaining: 191ms\n",
            "13:\tlearn: 0.8814898\ttotal: 29.7ms\tremaining: 183ms\n",
            "14:\tlearn: 0.8860045\ttotal: 32.2ms\tremaining: 182ms\n",
            "15:\tlearn: 0.8860045\ttotal: 36.8ms\tremaining: 193ms\n",
            "16:\tlearn: 0.8860045\ttotal: 45.6ms\tremaining: 223ms\n",
            "17:\tlearn: 0.8905192\ttotal: 49.4ms\tremaining: 225ms\n",
            "18:\tlearn: 0.8916479\ttotal: 52.5ms\tremaining: 224ms\n",
            "19:\tlearn: 0.8893905\ttotal: 55.3ms\tremaining: 221ms\n",
            "20:\tlearn: 0.8916479\ttotal: 58.1ms\tremaining: 219ms\n",
            "21:\tlearn: 0.8950339\ttotal: 60.2ms\tremaining: 213ms\n",
            "22:\tlearn: 0.8927765\ttotal: 63.2ms\tremaining: 212ms\n",
            "23:\tlearn: 0.8995485\ttotal: 66.1ms\tremaining: 209ms\n",
            "24:\tlearn: 0.8995485\ttotal: 69ms\tremaining: 207ms\n",
            "25:\tlearn: 0.8972912\ttotal: 71.7ms\tremaining: 204ms\n",
            "26:\tlearn: 0.9018059\ttotal: 73.7ms\tremaining: 199ms\n",
            "27:\tlearn: 0.9006772\ttotal: 76.4ms\tremaining: 196ms\n",
            "28:\tlearn: 0.9018059\ttotal: 79.2ms\tremaining: 194ms\n",
            "29:\tlearn: 0.9006772\ttotal: 82ms\tremaining: 191ms\n",
            "30:\tlearn: 0.9074492\ttotal: 84.9ms\tremaining: 189ms\n",
            "31:\tlearn: 0.9074492\ttotal: 87.6ms\tremaining: 186ms\n",
            "32:\tlearn: 0.9074492\ttotal: 90.6ms\tremaining: 184ms\n",
            "33:\tlearn: 0.9108352\ttotal: 93.4ms\tremaining: 181ms\n",
            "34:\tlearn: 0.9142212\ttotal: 96.1ms\tremaining: 178ms\n",
            "35:\tlearn: 0.9176072\ttotal: 98.7ms\tremaining: 176ms\n",
            "36:\tlearn: 0.9187359\ttotal: 101ms\tremaining: 173ms\n",
            "37:\tlearn: 0.9187359\ttotal: 104ms\tremaining: 170ms\n",
            "38:\tlearn: 0.9176072\ttotal: 107ms\tremaining: 168ms\n",
            "39:\tlearn: 0.9187359\ttotal: 110ms\tremaining: 165ms\n",
            "40:\tlearn: 0.9187359\ttotal: 113ms\tremaining: 163ms\n",
            "41:\tlearn: 0.9209932\ttotal: 116ms\tremaining: 160ms\n",
            "42:\tlearn: 0.9221219\ttotal: 119ms\tremaining: 157ms\n",
            "43:\tlearn: 0.9232506\ttotal: 121ms\tremaining: 154ms\n",
            "44:\tlearn: 0.9243792\ttotal: 124ms\tremaining: 152ms\n",
            "45:\tlearn: 0.9243792\ttotal: 127ms\tremaining: 149ms\n",
            "46:\tlearn: 0.9255079\ttotal: 130ms\tremaining: 147ms\n",
            "47:\tlearn: 0.9255079\ttotal: 133ms\tremaining: 144ms\n",
            "48:\tlearn: 0.9243792\ttotal: 136ms\tremaining: 141ms\n",
            "49:\tlearn: 0.9255079\ttotal: 138ms\tremaining: 138ms\n",
            "50:\tlearn: 0.9266366\ttotal: 141ms\tremaining: 135ms\n",
            "51:\tlearn: 0.9266366\ttotal: 144ms\tremaining: 133ms\n",
            "52:\tlearn: 0.9266366\ttotal: 146ms\tremaining: 130ms\n",
            "53:\tlearn: 0.9266366\ttotal: 149ms\tremaining: 127ms\n",
            "54:\tlearn: 0.9266366\ttotal: 152ms\tremaining: 124ms\n",
            "55:\tlearn: 0.9277652\ttotal: 155ms\tremaining: 121ms\n",
            "56:\tlearn: 0.9300226\ttotal: 157ms\tremaining: 119ms\n",
            "57:\tlearn: 0.9300226\ttotal: 160ms\tremaining: 116ms\n",
            "58:\tlearn: 0.9288939\ttotal: 161ms\tremaining: 112ms\n",
            "59:\tlearn: 0.9300226\ttotal: 164ms\tremaining: 109ms\n",
            "60:\tlearn: 0.9322799\ttotal: 166ms\tremaining: 106ms\n",
            "61:\tlearn: 0.9311512\ttotal: 169ms\tremaining: 104ms\n",
            "62:\tlearn: 0.9300226\ttotal: 172ms\tremaining: 101ms\n",
            "63:\tlearn: 0.9322799\ttotal: 175ms\tremaining: 98.3ms\n",
            "64:\tlearn: 0.9345372\ttotal: 178ms\tremaining: 95.6ms\n",
            "65:\tlearn: 0.9345372\ttotal: 180ms\tremaining: 92.9ms\n",
            "66:\tlearn: 0.9356659\ttotal: 183ms\tremaining: 90.1ms\n",
            "67:\tlearn: 0.9356659\ttotal: 195ms\tremaining: 91.6ms\n",
            "68:\tlearn: 0.9345372\ttotal: 199ms\tremaining: 89.5ms\n",
            "69:\tlearn: 0.9345372\ttotal: 203ms\tremaining: 86.8ms\n",
            "70:\tlearn: 0.9345372\ttotal: 207ms\tremaining: 84.4ms\n",
            "71:\tlearn: 0.9345372\ttotal: 212ms\tremaining: 82.6ms\n",
            "72:\tlearn: 0.9345372\ttotal: 219ms\tremaining: 81.1ms\n",
            "73:\tlearn: 0.9345372\ttotal: 222ms\tremaining: 78ms\n",
            "74:\tlearn: 0.9345372\ttotal: 225ms\tremaining: 74.9ms\n",
            "75:\tlearn: 0.9322799\ttotal: 228ms\tremaining: 71.9ms\n",
            "76:\tlearn: 0.9334086\ttotal: 230ms\tremaining: 68.8ms\n",
            "77:\tlearn: 0.9345372\ttotal: 233ms\tremaining: 65.8ms\n",
            "78:\tlearn: 0.9345372\ttotal: 236ms\tremaining: 62.8ms\n",
            "79:\tlearn: 0.9356659\ttotal: 239ms\tremaining: 59.7ms\n",
            "80:\tlearn: 0.9356659\ttotal: 242ms\tremaining: 56.7ms\n",
            "81:\tlearn: 0.9356659\ttotal: 245ms\tremaining: 53.7ms\n",
            "82:\tlearn: 0.9356659\ttotal: 246ms\tremaining: 50.4ms\n",
            "83:\tlearn: 0.9356659\ttotal: 249ms\tremaining: 47.4ms\n",
            "84:\tlearn: 0.9356659\ttotal: 252ms\tremaining: 44.4ms\n",
            "85:\tlearn: 0.9356659\ttotal: 253ms\tremaining: 41.2ms\n",
            "86:\tlearn: 0.9356659\ttotal: 259ms\tremaining: 38.7ms\n",
            "87:\tlearn: 0.9356659\ttotal: 266ms\tremaining: 36.2ms\n",
            "88:\tlearn: 0.9356659\ttotal: 272ms\tremaining: 33.6ms\n",
            "89:\tlearn: 0.9356659\ttotal: 277ms\tremaining: 30.8ms\n",
            "90:\tlearn: 0.9356659\ttotal: 285ms\tremaining: 28.1ms\n",
            "91:\tlearn: 0.9356659\ttotal: 288ms\tremaining: 25ms\n",
            "92:\tlearn: 0.9356659\ttotal: 291ms\tremaining: 21.9ms\n",
            "93:\tlearn: 0.9356659\ttotal: 293ms\tremaining: 18.7ms\n",
            "94:\tlearn: 0.9356659\ttotal: 296ms\tremaining: 15.6ms\n",
            "95:\tlearn: 0.9356659\ttotal: 298ms\tremaining: 12.4ms\n",
            "96:\tlearn: 0.9367946\ttotal: 300ms\tremaining: 9.29ms\n",
            "97:\tlearn: 0.9367946\ttotal: 303ms\tremaining: 6.18ms\n",
            "98:\tlearn: 0.9367946\ttotal: 305ms\tremaining: 3.08ms\n",
            "99:\tlearn: 0.9367946\ttotal: 307ms\tremaining: 0us\n",
            "0:\tlearn: 0.8713318\ttotal: 2.38ms\tremaining: 236ms\n",
            "1:\tlearn: 0.8814898\ttotal: 4.69ms\tremaining: 230ms\n",
            "2:\tlearn: 0.8893905\ttotal: 6.97ms\tremaining: 225ms\n",
            "3:\tlearn: 0.8927765\ttotal: 9.24ms\tremaining: 222ms\n",
            "4:\tlearn: 0.8803612\ttotal: 10.2ms\tremaining: 194ms\n",
            "5:\tlearn: 0.8837472\ttotal: 13.2ms\tremaining: 206ms\n",
            "6:\tlearn: 0.8972912\ttotal: 15.9ms\tremaining: 211ms\n",
            "7:\tlearn: 0.8995485\ttotal: 18.7ms\tremaining: 215ms\n",
            "8:\tlearn: 0.9018059\ttotal: 21.4ms\tremaining: 216ms\n",
            "9:\tlearn: 0.9006772\ttotal: 24ms\tremaining: 216ms\n",
            "10:\tlearn: 0.8984199\ttotal: 32.7ms\tremaining: 265ms\n",
            "11:\tlearn: 0.9029345\ttotal: 37.5ms\tremaining: 275ms\n",
            "12:\tlearn: 0.9051919\ttotal: 41.1ms\tremaining: 275ms\n",
            "13:\tlearn: 0.9018059\ttotal: 61.6ms\tremaining: 378ms\n",
            "14:\tlearn: 0.9040632\ttotal: 68.6ms\tremaining: 389ms\n",
            "15:\tlearn: 0.9040632\ttotal: 77.7ms\tremaining: 408ms\n",
            "16:\tlearn: 0.9051919\ttotal: 91.5ms\tremaining: 447ms\n",
            "17:\tlearn: 0.9085779\ttotal: 102ms\tremaining: 464ms\n",
            "18:\tlearn: 0.9051919\ttotal: 104ms\tremaining: 442ms\n",
            "19:\tlearn: 0.9085779\ttotal: 108ms\tremaining: 434ms\n",
            "20:\tlearn: 0.9051919\ttotal: 114ms\tremaining: 429ms\n",
            "21:\tlearn: 0.9085779\ttotal: 119ms\tremaining: 422ms\n",
            "22:\tlearn: 0.9097065\ttotal: 124ms\tremaining: 414ms\n",
            "23:\tlearn: 0.9130926\ttotal: 126ms\tremaining: 400ms\n",
            "24:\tlearn: 0.9142212\ttotal: 129ms\tremaining: 387ms\n",
            "25:\tlearn: 0.9142212\ttotal: 135ms\tremaining: 384ms\n",
            "26:\tlearn: 0.9130926\ttotal: 135ms\tremaining: 366ms\n",
            "27:\tlearn: 0.9130926\ttotal: 140ms\tremaining: 360ms\n",
            "28:\tlearn: 0.9142212\ttotal: 144ms\tremaining: 351ms\n",
            "29:\tlearn: 0.9153499\ttotal: 147ms\tremaining: 343ms\n",
            "30:\tlearn: 0.9176072\ttotal: 148ms\tremaining: 330ms\n",
            "31:\tlearn: 0.9187359\ttotal: 155ms\tremaining: 329ms\n",
            "32:\tlearn: 0.9198646\ttotal: 158ms\tremaining: 321ms\n",
            "33:\tlearn: 0.9198646\ttotal: 161ms\tremaining: 312ms\n",
            "34:\tlearn: 0.9209932\ttotal: 163ms\tremaining: 304ms\n",
            "35:\tlearn: 0.9221219\ttotal: 167ms\tremaining: 297ms\n",
            "36:\tlearn: 0.9221219\ttotal: 169ms\tremaining: 288ms\n",
            "37:\tlearn: 0.9243792\ttotal: 172ms\tremaining: 280ms\n",
            "38:\tlearn: 0.9255079\ttotal: 184ms\tremaining: 288ms\n",
            "39:\tlearn: 0.9255079\ttotal: 191ms\tremaining: 287ms\n",
            "40:\tlearn: 0.9255079\ttotal: 195ms\tremaining: 281ms\n",
            "41:\tlearn: 0.9255079\ttotal: 210ms\tremaining: 290ms\n",
            "42:\tlearn: 0.9255079\ttotal: 228ms\tremaining: 303ms\n",
            "43:\tlearn: 0.9255079\ttotal: 241ms\tremaining: 307ms\n",
            "44:\tlearn: 0.9255079\ttotal: 248ms\tremaining: 303ms\n",
            "45:\tlearn: 0.9255079\ttotal: 254ms\tremaining: 299ms\n",
            "46:\tlearn: 0.9255079\ttotal: 267ms\tremaining: 301ms\n",
            "47:\tlearn: 0.9255079\ttotal: 272ms\tremaining: 295ms\n",
            "48:\tlearn: 0.9255079\ttotal: 279ms\tremaining: 290ms\n",
            "49:\tlearn: 0.9255079\ttotal: 286ms\tremaining: 286ms\n",
            "50:\tlearn: 0.9255079\ttotal: 290ms\tremaining: 279ms\n",
            "51:\tlearn: 0.9255079\ttotal: 300ms\tremaining: 277ms\n",
            "52:\tlearn: 0.9266366\ttotal: 307ms\tremaining: 272ms\n",
            "53:\tlearn: 0.9266366\ttotal: 314ms\tremaining: 267ms\n",
            "54:\tlearn: 0.9266366\ttotal: 321ms\tremaining: 263ms\n",
            "55:\tlearn: 0.9266366\ttotal: 329ms\tremaining: 258ms\n",
            "56:\tlearn: 0.9277652\ttotal: 336ms\tremaining: 253ms\n",
            "57:\tlearn: 0.9300226\ttotal: 343ms\tremaining: 248ms\n",
            "58:\tlearn: 0.9288939\ttotal: 351ms\tremaining: 244ms\n",
            "59:\tlearn: 0.9288939\ttotal: 358ms\tremaining: 239ms\n",
            "60:\tlearn: 0.9288939\ttotal: 365ms\tremaining: 233ms\n",
            "61:\tlearn: 0.9300226\ttotal: 372ms\tremaining: 228ms\n",
            "62:\tlearn: 0.9288939\ttotal: 384ms\tremaining: 225ms\n",
            "63:\tlearn: 0.9311512\ttotal: 388ms\tremaining: 218ms\n",
            "64:\tlearn: 0.9300226\ttotal: 395ms\tremaining: 213ms\n",
            "65:\tlearn: 0.9300226\ttotal: 403ms\tremaining: 207ms\n",
            "66:\tlearn: 0.9300226\ttotal: 410ms\tremaining: 202ms\n",
            "67:\tlearn: 0.9300226\ttotal: 430ms\tremaining: 202ms\n",
            "68:\tlearn: 0.9300226\ttotal: 435ms\tremaining: 195ms\n",
            "69:\tlearn: 0.9311512\ttotal: 439ms\tremaining: 188ms\n",
            "70:\tlearn: 0.9311512\ttotal: 450ms\tremaining: 184ms\n",
            "71:\tlearn: 0.9311512\ttotal: 456ms\tremaining: 177ms\n",
            "72:\tlearn: 0.9311512\ttotal: 464ms\tremaining: 172ms\n",
            "73:\tlearn: 0.9311512\ttotal: 468ms\tremaining: 165ms\n",
            "74:\tlearn: 0.9311512\ttotal: 478ms\tremaining: 159ms\n",
            "75:\tlearn: 0.9311512\ttotal: 482ms\tremaining: 152ms\n",
            "76:\tlearn: 0.9311512\ttotal: 492ms\tremaining: 147ms\n",
            "77:\tlearn: 0.9311512\ttotal: 497ms\tremaining: 140ms\n",
            "78:\tlearn: 0.9311512\ttotal: 502ms\tremaining: 133ms\n",
            "79:\tlearn: 0.9311512\ttotal: 507ms\tremaining: 127ms\n",
            "80:\tlearn: 0.9311512\ttotal: 512ms\tremaining: 120ms\n",
            "81:\tlearn: 0.9322799\ttotal: 521ms\tremaining: 114ms\n",
            "82:\tlearn: 0.9322799\ttotal: 528ms\tremaining: 108ms\n",
            "83:\tlearn: 0.9334086\ttotal: 533ms\tremaining: 102ms\n",
            "84:\tlearn: 0.9334086\ttotal: 538ms\tremaining: 94.9ms\n",
            "85:\tlearn: 0.9334086\ttotal: 545ms\tremaining: 88.7ms\n",
            "86:\tlearn: 0.9334086\ttotal: 551ms\tremaining: 82.3ms\n",
            "87:\tlearn: 0.9334086\ttotal: 558ms\tremaining: 76.1ms\n",
            "88:\tlearn: 0.9334086\ttotal: 564ms\tremaining: 69.7ms\n",
            "89:\tlearn: 0.9334086\ttotal: 571ms\tremaining: 63.5ms\n",
            "90:\tlearn: 0.9334086\ttotal: 578ms\tremaining: 57.2ms\n",
            "91:\tlearn: 0.9334086\ttotal: 579ms\tremaining: 50.4ms\n",
            "92:\tlearn: 0.9334086\ttotal: 586ms\tremaining: 44.1ms\n",
            "93:\tlearn: 0.9334086\ttotal: 591ms\tremaining: 37.7ms\n",
            "94:\tlearn: 0.9345372\ttotal: 596ms\tremaining: 31.4ms\n",
            "95:\tlearn: 0.9345372\ttotal: 601ms\tremaining: 25ms\n",
            "96:\tlearn: 0.9345372\ttotal: 623ms\tremaining: 19.3ms\n",
            "97:\tlearn: 0.9345372\ttotal: 629ms\tremaining: 12.8ms\n",
            "98:\tlearn: 0.9345372\ttotal: 635ms\tremaining: 6.42ms\n",
            "99:\tlearn: 0.9356659\ttotal: 644ms\tremaining: 0us\n",
            "0:\tlearn: 0.8658399\ttotal: 2.89ms\tremaining: 286ms\n",
            "1:\tlearn: 0.8748591\ttotal: 5.86ms\tremaining: 287ms\n",
            "2:\tlearn: 0.8883878\ttotal: 11.7ms\tremaining: 377ms\n",
            "3:\tlearn: 0.8917700\ttotal: 44.1ms\tremaining: 1.06s\n",
            "4:\tlearn: 0.8669673\ttotal: 48.4ms\tremaining: 919ms\n",
            "5:\tlearn: 0.8838782\ttotal: 58ms\tremaining: 908ms\n",
            "6:\tlearn: 0.8895152\ttotal: 70.3ms\tremaining: 934ms\n",
            "7:\tlearn: 0.8883878\ttotal: 85ms\tremaining: 977ms\n",
            "8:\tlearn: 0.8895152\ttotal: 92.4ms\tremaining: 934ms\n",
            "9:\tlearn: 0.8951522\ttotal: 97ms\tremaining: 873ms\n",
            "10:\tlearn: 0.8928974\ttotal: 105ms\tremaining: 846ms\n",
            "11:\tlearn: 0.8928974\ttotal: 112ms\tremaining: 820ms\n",
            "12:\tlearn: 0.9007892\ttotal: 119ms\tremaining: 799ms\n",
            "13:\tlearn: 0.8996618\ttotal: 127ms\tremaining: 779ms\n",
            "14:\tlearn: 0.9007892\ttotal: 134ms\tremaining: 762ms\n",
            "15:\tlearn: 0.9064262\ttotal: 142ms\tremaining: 746ms\n",
            "16:\tlearn: 0.9098083\ttotal: 149ms\tremaining: 729ms\n",
            "17:\tlearn: 0.9064262\ttotal: 160ms\tremaining: 730ms\n",
            "18:\tlearn: 0.9064262\ttotal: 162ms\tremaining: 689ms\n",
            "19:\tlearn: 0.9075536\ttotal: 166ms\tremaining: 664ms\n",
            "20:\tlearn: 0.9075536\ttotal: 173ms\tremaining: 653ms\n",
            "21:\tlearn: 0.9086809\ttotal: 188ms\tremaining: 668ms\n",
            "22:\tlearn: 0.9075536\ttotal: 193ms\tremaining: 646ms\n",
            "23:\tlearn: 0.9109357\ttotal: 194ms\tremaining: 614ms\n",
            "24:\tlearn: 0.9098083\ttotal: 200ms\tremaining: 599ms\n",
            "25:\tlearn: 0.9098083\ttotal: 207ms\tremaining: 589ms\n",
            "26:\tlearn: 0.9086809\ttotal: 215ms\tremaining: 580ms\n",
            "27:\tlearn: 0.9075536\ttotal: 222ms\tremaining: 571ms\n",
            "28:\tlearn: 0.9086809\ttotal: 232ms\tremaining: 568ms\n",
            "29:\tlearn: 0.9086809\ttotal: 237ms\tremaining: 553ms\n",
            "30:\tlearn: 0.9086809\ttotal: 243ms\tremaining: 541ms\n",
            "31:\tlearn: 0.9109357\ttotal: 249ms\tremaining: 530ms\n",
            "32:\tlearn: 0.9120631\ttotal: 256ms\tremaining: 520ms\n",
            "33:\tlearn: 0.9109357\ttotal: 260ms\tremaining: 504ms\n",
            "34:\tlearn: 0.9143179\ttotal: 269ms\tremaining: 500ms\n",
            "35:\tlearn: 0.9143179\ttotal: 274ms\tremaining: 487ms\n",
            "36:\tlearn: 0.9131905\ttotal: 282ms\tremaining: 480ms\n",
            "37:\tlearn: 0.9154453\ttotal: 287ms\tremaining: 468ms\n",
            "38:\tlearn: 0.9143179\ttotal: 289ms\tremaining: 452ms\n",
            "39:\tlearn: 0.9143179\ttotal: 292ms\tremaining: 437ms\n",
            "40:\tlearn: 0.9143179\ttotal: 294ms\tremaining: 424ms\n",
            "41:\tlearn: 0.9165727\ttotal: 297ms\tremaining: 411ms\n",
            "42:\tlearn: 0.9177001\ttotal: 301ms\tremaining: 399ms\n",
            "43:\tlearn: 0.9188275\ttotal: 303ms\tremaining: 386ms\n",
            "44:\tlearn: 0.9210823\ttotal: 306ms\tremaining: 374ms\n",
            "45:\tlearn: 0.9210823\ttotal: 309ms\tremaining: 363ms\n",
            "46:\tlearn: 0.9210823\ttotal: 311ms\tremaining: 351ms\n",
            "47:\tlearn: 0.9210823\ttotal: 314ms\tremaining: 340ms\n",
            "48:\tlearn: 0.9222097\ttotal: 317ms\tremaining: 330ms\n",
            "49:\tlearn: 0.9222097\ttotal: 320ms\tremaining: 320ms\n",
            "50:\tlearn: 0.9222097\ttotal: 324ms\tremaining: 311ms\n",
            "51:\tlearn: 0.9233371\ttotal: 328ms\tremaining: 303ms\n",
            "52:\tlearn: 0.9233371\ttotal: 336ms\tremaining: 298ms\n",
            "53:\tlearn: 0.9222097\ttotal: 344ms\tremaining: 293ms\n",
            "54:\tlearn: 0.9233371\ttotal: 352ms\tremaining: 288ms\n",
            "55:\tlearn: 0.9233371\ttotal: 356ms\tremaining: 279ms\n",
            "56:\tlearn: 0.9244645\ttotal: 358ms\tremaining: 270ms\n",
            "57:\tlearn: 0.9244645\ttotal: 361ms\tremaining: 261ms\n",
            "58:\tlearn: 0.9244645\ttotal: 363ms\tremaining: 252ms\n",
            "59:\tlearn: 0.9244645\ttotal: 369ms\tremaining: 246ms\n",
            "60:\tlearn: 0.9255919\ttotal: 375ms\tremaining: 240ms\n",
            "61:\tlearn: 0.9244645\ttotal: 378ms\tremaining: 232ms\n",
            "62:\tlearn: 0.9267193\ttotal: 379ms\tremaining: 222ms\n",
            "63:\tlearn: 0.9267193\ttotal: 381ms\tremaining: 214ms\n",
            "64:\tlearn: 0.9255919\ttotal: 384ms\tremaining: 207ms\n",
            "65:\tlearn: 0.9255919\ttotal: 387ms\tremaining: 199ms\n",
            "66:\tlearn: 0.9267193\ttotal: 390ms\tremaining: 192ms\n",
            "67:\tlearn: 0.9278467\ttotal: 393ms\tremaining: 185ms\n",
            "68:\tlearn: 0.9278467\ttotal: 395ms\tremaining: 178ms\n",
            "69:\tlearn: 0.9267193\ttotal: 398ms\tremaining: 170ms\n",
            "70:\tlearn: 0.9267193\ttotal: 400ms\tremaining: 163ms\n",
            "71:\tlearn: 0.9267193\ttotal: 403ms\tremaining: 157ms\n",
            "72:\tlearn: 0.9289741\ttotal: 406ms\tremaining: 150ms\n",
            "73:\tlearn: 0.9301015\ttotal: 408ms\tremaining: 143ms\n",
            "74:\tlearn: 0.9301015\ttotal: 411ms\tremaining: 137ms\n",
            "75:\tlearn: 0.9334837\ttotal: 413ms\tremaining: 130ms\n",
            "76:\tlearn: 0.9323563\ttotal: 416ms\tremaining: 124ms\n",
            "77:\tlearn: 0.9323563\ttotal: 417ms\tremaining: 118ms\n",
            "78:\tlearn: 0.9312289\ttotal: 421ms\tremaining: 112ms\n",
            "79:\tlearn: 0.9312289\ttotal: 423ms\tremaining: 106ms\n",
            "80:\tlearn: 0.9312289\ttotal: 424ms\tremaining: 99.6ms\n",
            "81:\tlearn: 0.9312289\ttotal: 427ms\tremaining: 93.7ms\n",
            "82:\tlearn: 0.9312289\ttotal: 437ms\tremaining: 89.4ms\n",
            "83:\tlearn: 0.9312289\ttotal: 438ms\tremaining: 83.4ms\n",
            "84:\tlearn: 0.9312289\ttotal: 440ms\tremaining: 77.7ms\n",
            "85:\tlearn: 0.9312289\ttotal: 443ms\tremaining: 72.1ms\n",
            "86:\tlearn: 0.9323563\ttotal: 445ms\tremaining: 66.5ms\n",
            "87:\tlearn: 0.9323563\ttotal: 476ms\tremaining: 65ms\n",
            "88:\tlearn: 0.9334837\ttotal: 479ms\tremaining: 59.2ms\n",
            "89:\tlearn: 0.9334837\ttotal: 480ms\tremaining: 53.4ms\n",
            "90:\tlearn: 0.9334837\ttotal: 483ms\tremaining: 47.7ms\n",
            "91:\tlearn: 0.9334837\ttotal: 485ms\tremaining: 42.2ms\n",
            "92:\tlearn: 0.9334837\ttotal: 488ms\tremaining: 36.7ms\n",
            "93:\tlearn: 0.9334837\ttotal: 491ms\tremaining: 31.3ms\n",
            "94:\tlearn: 0.9334837\ttotal: 493ms\tremaining: 26ms\n",
            "95:\tlearn: 0.9334837\ttotal: 496ms\tremaining: 20.6ms\n",
            "96:\tlearn: 0.9334837\ttotal: 498ms\tremaining: 15.4ms\n",
            "97:\tlearn: 0.9334837\ttotal: 500ms\tremaining: 10.2ms\n",
            "98:\tlearn: 0.9334837\ttotal: 503ms\tremaining: 5.08ms\n",
            "99:\tlearn: 0.9334837\ttotal: 507ms\tremaining: 0us\n",
            "0:\tlearn: 0.8680947\ttotal: 5.36ms\tremaining: 531ms\n",
            "1:\tlearn: 0.8737317\ttotal: 13.1ms\tremaining: 642ms\n",
            "2:\tlearn: 0.8782413\ttotal: 17.7ms\tremaining: 571ms\n",
            "3:\tlearn: 0.8850056\ttotal: 25.6ms\tremaining: 613ms\n",
            "4:\tlearn: 0.8703495\ttotal: 30.5ms\tremaining: 579ms\n",
            "5:\tlearn: 0.8782413\ttotal: 33ms\tremaining: 518ms\n",
            "6:\tlearn: 0.8737317\ttotal: 41.8ms\tremaining: 555ms\n",
            "7:\tlearn: 0.8782413\ttotal: 44.6ms\tremaining: 513ms\n",
            "8:\tlearn: 0.8782413\ttotal: 47.1ms\tremaining: 476ms\n",
            "9:\tlearn: 0.8872604\ttotal: 49.7ms\tremaining: 447ms\n",
            "10:\tlearn: 0.8793687\ttotal: 52.1ms\tremaining: 421ms\n",
            "11:\tlearn: 0.8895152\ttotal: 54.5ms\tremaining: 400ms\n",
            "12:\tlearn: 0.8940248\ttotal: 59.5ms\tremaining: 398ms\n",
            "13:\tlearn: 0.8985344\ttotal: 68.2ms\tremaining: 419ms\n",
            "14:\tlearn: 0.8962796\ttotal: 75.2ms\tremaining: 426ms\n",
            "15:\tlearn: 0.8985344\ttotal: 82.5ms\tremaining: 433ms\n",
            "16:\tlearn: 0.8985344\ttotal: 89.7ms\tremaining: 438ms\n",
            "17:\tlearn: 0.8996618\ttotal: 92.7ms\tremaining: 422ms\n",
            "18:\tlearn: 0.8951522\ttotal: 93.3ms\tremaining: 398ms\n",
            "19:\tlearn: 0.9007892\ttotal: 95.7ms\tremaining: 383ms\n",
            "20:\tlearn: 0.8996618\ttotal: 103ms\tremaining: 387ms\n",
            "21:\tlearn: 0.9030440\ttotal: 105ms\tremaining: 373ms\n",
            "22:\tlearn: 0.9041714\ttotal: 108ms\tremaining: 361ms\n",
            "23:\tlearn: 0.9052988\ttotal: 111ms\tremaining: 352ms\n",
            "24:\tlearn: 0.9052988\ttotal: 114ms\tremaining: 341ms\n",
            "25:\tlearn: 0.9098083\ttotal: 119ms\tremaining: 338ms\n",
            "26:\tlearn: 0.9052988\ttotal: 120ms\tremaining: 324ms\n",
            "27:\tlearn: 0.9075536\ttotal: 122ms\tremaining: 314ms\n",
            "28:\tlearn: 0.9052988\ttotal: 126ms\tremaining: 308ms\n",
            "29:\tlearn: 0.9064262\ttotal: 128ms\tremaining: 299ms\n",
            "30:\tlearn: 0.9086809\ttotal: 129ms\tremaining: 288ms\n",
            "31:\tlearn: 0.9098083\ttotal: 132ms\tremaining: 280ms\n",
            "32:\tlearn: 0.9098083\ttotal: 134ms\tremaining: 272ms\n",
            "33:\tlearn: 0.9109357\ttotal: 137ms\tremaining: 265ms\n",
            "34:\tlearn: 0.9120631\ttotal: 140ms\tremaining: 259ms\n",
            "35:\tlearn: 0.9131905\ttotal: 164ms\tremaining: 292ms\n",
            "36:\tlearn: 0.9143179\ttotal: 167ms\tremaining: 284ms\n",
            "37:\tlearn: 0.9143179\ttotal: 169ms\tremaining: 276ms\n",
            "38:\tlearn: 0.9165727\ttotal: 172ms\tremaining: 269ms\n",
            "39:\tlearn: 0.9188275\ttotal: 175ms\tremaining: 262ms\n",
            "40:\tlearn: 0.9188275\ttotal: 177ms\tremaining: 255ms\n",
            "41:\tlearn: 0.9199549\ttotal: 179ms\tremaining: 248ms\n",
            "42:\tlearn: 0.9199549\ttotal: 182ms\tremaining: 241ms\n",
            "43:\tlearn: 0.9199549\ttotal: 184ms\tremaining: 235ms\n",
            "44:\tlearn: 0.9199549\ttotal: 187ms\tremaining: 229ms\n",
            "45:\tlearn: 0.9222097\ttotal: 190ms\tremaining: 222ms\n",
            "46:\tlearn: 0.9199549\ttotal: 192ms\tremaining: 216ms\n",
            "47:\tlearn: 0.9222097\ttotal: 194ms\tremaining: 211ms\n",
            "48:\tlearn: 0.9244645\ttotal: 198ms\tremaining: 207ms\n",
            "49:\tlearn: 0.9244645\ttotal: 201ms\tremaining: 201ms\n",
            "50:\tlearn: 0.9267193\ttotal: 204ms\tremaining: 196ms\n",
            "51:\tlearn: 0.9267193\ttotal: 207ms\tremaining: 191ms\n",
            "52:\tlearn: 0.9278467\ttotal: 210ms\tremaining: 186ms\n",
            "53:\tlearn: 0.9289741\ttotal: 212ms\tremaining: 181ms\n",
            "54:\tlearn: 0.9289741\ttotal: 215ms\tremaining: 176ms\n",
            "55:\tlearn: 0.9289741\ttotal: 218ms\tremaining: 171ms\n",
            "56:\tlearn: 0.9289741\ttotal: 220ms\tremaining: 166ms\n",
            "57:\tlearn: 0.9289741\ttotal: 223ms\tremaining: 161ms\n",
            "58:\tlearn: 0.9289741\ttotal: 225ms\tremaining: 156ms\n",
            "59:\tlearn: 0.9301015\ttotal: 261ms\tremaining: 174ms\n",
            "60:\tlearn: 0.9312289\ttotal: 264ms\tremaining: 169ms\n",
            "61:\tlearn: 0.9323563\ttotal: 266ms\tremaining: 163ms\n",
            "62:\tlearn: 0.9301015\ttotal: 269ms\tremaining: 158ms\n",
            "63:\tlearn: 0.9323563\ttotal: 272ms\tremaining: 153ms\n",
            "64:\tlearn: 0.9323563\ttotal: 274ms\tremaining: 148ms\n",
            "65:\tlearn: 0.9334837\ttotal: 277ms\tremaining: 142ms\n",
            "66:\tlearn: 0.9346110\ttotal: 280ms\tremaining: 138ms\n",
            "67:\tlearn: 0.9357384\ttotal: 283ms\tremaining: 133ms\n",
            "68:\tlearn: 0.9357384\ttotal: 285ms\tremaining: 128ms\n",
            "69:\tlearn: 0.9368658\ttotal: 295ms\tremaining: 126ms\n",
            "70:\tlearn: 0.9357384\ttotal: 297ms\tremaining: 121ms\n",
            "71:\tlearn: 0.9357384\ttotal: 300ms\tremaining: 117ms\n",
            "72:\tlearn: 0.9357384\ttotal: 303ms\tremaining: 112ms\n",
            "73:\tlearn: 0.9357384\ttotal: 306ms\tremaining: 107ms\n",
            "74:\tlearn: 0.9357384\ttotal: 308ms\tremaining: 103ms\n",
            "75:\tlearn: 0.9357384\ttotal: 311ms\tremaining: 98.1ms\n",
            "76:\tlearn: 0.9368658\ttotal: 313ms\tremaining: 93.5ms\n",
            "77:\tlearn: 0.9368658\ttotal: 326ms\tremaining: 92.1ms\n",
            "78:\tlearn: 0.9368658\ttotal: 330ms\tremaining: 87.7ms\n",
            "79:\tlearn: 0.9368658\ttotal: 331ms\tremaining: 82.9ms\n",
            "80:\tlearn: 0.9357384\ttotal: 358ms\tremaining: 84.1ms\n",
            "81:\tlearn: 0.9357384\ttotal: 362ms\tremaining: 79.5ms\n",
            "82:\tlearn: 0.9357384\ttotal: 365ms\tremaining: 74.7ms\n",
            "83:\tlearn: 0.9357384\ttotal: 367ms\tremaining: 70ms\n",
            "84:\tlearn: 0.9357384\ttotal: 370ms\tremaining: 65.2ms\n",
            "85:\tlearn: 0.9368658\ttotal: 372ms\tremaining: 60.6ms\n",
            "86:\tlearn: 0.9379932\ttotal: 379ms\tremaining: 56.7ms\n",
            "87:\tlearn: 0.9379932\ttotal: 382ms\tremaining: 52.1ms\n",
            "88:\tlearn: 0.9379932\ttotal: 385ms\tremaining: 47.6ms\n",
            "89:\tlearn: 0.9379932\ttotal: 388ms\tremaining: 43.1ms\n",
            "90:\tlearn: 0.9368658\ttotal: 390ms\tremaining: 38.6ms\n",
            "91:\tlearn: 0.9368658\ttotal: 395ms\tremaining: 34.3ms\n",
            "92:\tlearn: 0.9368658\ttotal: 402ms\tremaining: 30.3ms\n",
            "93:\tlearn: 0.9368658\ttotal: 409ms\tremaining: 26.1ms\n",
            "94:\tlearn: 0.9368658\ttotal: 431ms\tremaining: 22.7ms\n",
            "95:\tlearn: 0.9368658\ttotal: 443ms\tremaining: 18.4ms\n",
            "96:\tlearn: 0.9379932\ttotal: 450ms\tremaining: 13.9ms\n",
            "97:\tlearn: 0.9368658\ttotal: 454ms\tremaining: 9.27ms\n",
            "98:\tlearn: 0.9379932\ttotal: 462ms\tremaining: 4.66ms\n",
            "99:\tlearn: 0.9368658\ttotal: 469ms\tremaining: 0us\n",
            "0:\tlearn: 0.8692221\ttotal: 2.44ms\tremaining: 241ms\n",
            "1:\tlearn: 0.8726043\ttotal: 16.4ms\tremaining: 806ms\n",
            "2:\tlearn: 0.8872604\ttotal: 27.4ms\tremaining: 886ms\n",
            "3:\tlearn: 0.8906426\ttotal: 31.8ms\tremaining: 764ms\n",
            "4:\tlearn: 0.8703495\ttotal: 44ms\tremaining: 837ms\n",
            "5:\tlearn: 0.8816234\ttotal: 62.2ms\tremaining: 974ms\n",
            "6:\tlearn: 0.8838782\ttotal: 76.3ms\tremaining: 1.01s\n",
            "7:\tlearn: 0.8883878\ttotal: 91.4ms\tremaining: 1.05s\n",
            "8:\tlearn: 0.8951522\ttotal: 116ms\tremaining: 1.17s\n",
            "9:\tlearn: 0.8962796\ttotal: 120ms\tremaining: 1.08s\n",
            "10:\tlearn: 0.8962796\ttotal: 127ms\tremaining: 1.03s\n",
            "11:\tlearn: 0.8974070\ttotal: 135ms\tremaining: 987ms\n",
            "12:\tlearn: 0.9019166\ttotal: 143ms\tremaining: 955ms\n",
            "13:\tlearn: 0.8996618\ttotal: 150ms\tremaining: 922ms\n",
            "14:\tlearn: 0.9007892\ttotal: 159ms\tremaining: 904ms\n",
            "15:\tlearn: 0.9041714\ttotal: 164ms\tremaining: 862ms\n",
            "16:\tlearn: 0.9052988\ttotal: 172ms\tremaining: 839ms\n",
            "17:\tlearn: 0.9052988\ttotal: 179ms\tremaining: 816ms\n",
            "18:\tlearn: 0.9019166\ttotal: 184ms\tremaining: 783ms\n",
            "19:\tlearn: 0.9052988\ttotal: 203ms\tremaining: 813ms\n",
            "20:\tlearn: 0.9052988\ttotal: 207ms\tremaining: 780ms\n",
            "21:\tlearn: 0.9052988\ttotal: 215ms\tremaining: 762ms\n",
            "22:\tlearn: 0.9064262\ttotal: 243ms\tremaining: 815ms\n",
            "23:\tlearn: 0.9075536\ttotal: 247ms\tremaining: 781ms\n",
            "24:\tlearn: 0.9086809\ttotal: 253ms\tremaining: 758ms\n",
            "25:\tlearn: 0.9098083\ttotal: 259ms\tremaining: 738ms\n",
            "26:\tlearn: 0.9098083\ttotal: 267ms\tremaining: 721ms\n",
            "27:\tlearn: 0.9098083\ttotal: 272ms\tremaining: 699ms\n",
            "28:\tlearn: 0.9109357\ttotal: 277ms\tremaining: 679ms\n",
            "29:\tlearn: 0.9131905\ttotal: 283ms\tremaining: 661ms\n",
            "30:\tlearn: 0.9154453\ttotal: 289ms\tremaining: 643ms\n",
            "31:\tlearn: 0.9131905\ttotal: 305ms\tremaining: 648ms\n",
            "32:\tlearn: 0.9154453\ttotal: 309ms\tremaining: 628ms\n",
            "33:\tlearn: 0.9143179\ttotal: 318ms\tremaining: 618ms\n",
            "34:\tlearn: 0.9143179\ttotal: 323ms\tremaining: 599ms\n",
            "35:\tlearn: 0.9154453\ttotal: 337ms\tremaining: 599ms\n",
            "36:\tlearn: 0.9165727\ttotal: 348ms\tremaining: 592ms\n",
            "37:\tlearn: 0.9165727\ttotal: 355ms\tremaining: 578ms\n",
            "38:\tlearn: 0.9154453\ttotal: 359ms\tremaining: 561ms\n",
            "39:\tlearn: 0.9165727\ttotal: 366ms\tremaining: 550ms\n",
            "40:\tlearn: 0.9199549\ttotal: 374ms\tremaining: 538ms\n",
            "41:\tlearn: 0.9188275\ttotal: 389ms\tremaining: 537ms\n",
            "42:\tlearn: 0.9188275\ttotal: 393ms\tremaining: 521ms\n",
            "43:\tlearn: 0.9199549\ttotal: 401ms\tremaining: 510ms\n",
            "44:\tlearn: 0.9199549\ttotal: 409ms\tremaining: 499ms\n",
            "45:\tlearn: 0.9199549\ttotal: 420ms\tremaining: 493ms\n",
            "46:\tlearn: 0.9210823\ttotal: 424ms\tremaining: 478ms\n",
            "47:\tlearn: 0.9222097\ttotal: 441ms\tremaining: 478ms\n",
            "48:\tlearn: 0.9222097\ttotal: 458ms\tremaining: 477ms\n",
            "49:\tlearn: 0.9222097\ttotal: 467ms\tremaining: 467ms\n",
            "50:\tlearn: 0.9233371\ttotal: 484ms\tremaining: 465ms\n",
            "51:\tlearn: 0.9222097\ttotal: 488ms\tremaining: 451ms\n",
            "52:\tlearn: 0.9244645\ttotal: 505ms\tremaining: 447ms\n",
            "53:\tlearn: 0.9255919\ttotal: 511ms\tremaining: 435ms\n",
            "54:\tlearn: 0.9244645\ttotal: 515ms\tremaining: 422ms\n",
            "55:\tlearn: 0.9255919\ttotal: 523ms\tremaining: 411ms\n",
            "56:\tlearn: 0.9255919\ttotal: 530ms\tremaining: 400ms\n",
            "57:\tlearn: 0.9255919\ttotal: 540ms\tremaining: 391ms\n",
            "58:\tlearn: 0.9244645\ttotal: 546ms\tremaining: 380ms\n",
            "59:\tlearn: 0.9255919\ttotal: 554ms\tremaining: 369ms\n",
            "60:\tlearn: 0.9278467\ttotal: 558ms\tremaining: 357ms\n",
            "61:\tlearn: 0.9278467\ttotal: 567ms\tremaining: 347ms\n",
            "62:\tlearn: 0.9278467\ttotal: 572ms\tremaining: 336ms\n",
            "63:\tlearn: 0.9289741\ttotal: 577ms\tremaining: 324ms\n",
            "64:\tlearn: 0.9278467\ttotal: 584ms\tremaining: 314ms\n",
            "65:\tlearn: 0.9301015\ttotal: 592ms\tremaining: 305ms\n",
            "66:\tlearn: 0.9301015\ttotal: 599ms\tremaining: 295ms\n",
            "67:\tlearn: 0.9289741\ttotal: 606ms\tremaining: 285ms\n",
            "68:\tlearn: 0.9289741\ttotal: 614ms\tremaining: 276ms\n",
            "69:\tlearn: 0.9301015\ttotal: 621ms\tremaining: 266ms\n",
            "70:\tlearn: 0.9289741\ttotal: 628ms\tremaining: 257ms\n",
            "71:\tlearn: 0.9289741\ttotal: 639ms\tremaining: 249ms\n",
            "72:\tlearn: 0.9323563\ttotal: 643ms\tremaining: 238ms\n",
            "73:\tlearn: 0.9323563\ttotal: 646ms\tremaining: 227ms\n",
            "74:\tlearn: 0.9323563\ttotal: 649ms\tremaining: 216ms\n",
            "75:\tlearn: 0.9323563\ttotal: 652ms\tremaining: 206ms\n",
            "76:\tlearn: 0.9346110\ttotal: 655ms\tremaining: 196ms\n",
            "77:\tlearn: 0.9334837\ttotal: 658ms\tremaining: 186ms\n",
            "78:\tlearn: 0.9334837\ttotal: 670ms\tremaining: 178ms\n",
            "79:\tlearn: 0.9334837\ttotal: 673ms\tremaining: 168ms\n",
            "80:\tlearn: 0.9323563\ttotal: 676ms\tremaining: 158ms\n",
            "81:\tlearn: 0.9323563\ttotal: 678ms\tremaining: 149ms\n",
            "82:\tlearn: 0.9323563\ttotal: 681ms\tremaining: 139ms\n",
            "83:\tlearn: 0.9334837\ttotal: 684ms\tremaining: 130ms\n",
            "84:\tlearn: 0.9334837\ttotal: 690ms\tremaining: 122ms\n",
            "85:\tlearn: 0.9334837\ttotal: 693ms\tremaining: 113ms\n",
            "86:\tlearn: 0.9346110\ttotal: 698ms\tremaining: 104ms\n",
            "87:\tlearn: 0.9346110\ttotal: 710ms\tremaining: 96.8ms\n",
            "88:\tlearn: 0.9346110\ttotal: 713ms\tremaining: 88.1ms\n",
            "89:\tlearn: 0.9346110\ttotal: 717ms\tremaining: 79.6ms\n",
            "90:\tlearn: 0.9346110\ttotal: 727ms\tremaining: 71.9ms\n",
            "91:\tlearn: 0.9357384\ttotal: 729ms\tremaining: 63.4ms\n",
            "92:\tlearn: 0.9368658\ttotal: 732ms\tremaining: 55.1ms\n",
            "93:\tlearn: 0.9368658\ttotal: 734ms\tremaining: 46.9ms\n",
            "94:\tlearn: 0.9368658\ttotal: 737ms\tremaining: 38.8ms\n",
            "95:\tlearn: 0.9368658\ttotal: 746ms\tremaining: 31.1ms\n",
            "96:\tlearn: 0.9357384\ttotal: 749ms\tremaining: 23.1ms\n",
            "97:\tlearn: 0.9357384\ttotal: 749ms\tremaining: 15.3ms\n",
            "98:\tlearn: 0.9357384\ttotal: 750ms\tremaining: 7.58ms\n",
            "99:\tlearn: 0.9357384\ttotal: 760ms\tremaining: 0us\n",
            "0:\tlearn: 0.8726043\ttotal: 2.54ms\tremaining: 252ms\n",
            "1:\tlearn: 0.8827508\ttotal: 10.1ms\tremaining: 495ms\n",
            "2:\tlearn: 0.8928974\ttotal: 12.6ms\tremaining: 408ms\n",
            "3:\tlearn: 0.8928974\ttotal: 15.1ms\tremaining: 363ms\n",
            "4:\tlearn: 0.8827508\ttotal: 15.8ms\tremaining: 300ms\n",
            "5:\tlearn: 0.8872604\ttotal: 16.9ms\tremaining: 265ms\n",
            "6:\tlearn: 0.8827508\ttotal: 17.5ms\tremaining: 233ms\n",
            "7:\tlearn: 0.8872604\ttotal: 20.2ms\tremaining: 233ms\n",
            "8:\tlearn: 0.8883878\ttotal: 22.7ms\tremaining: 229ms\n",
            "9:\tlearn: 0.8883878\ttotal: 30.6ms\tremaining: 276ms\n",
            "10:\tlearn: 0.8838782\ttotal: 33.5ms\tremaining: 271ms\n",
            "11:\tlearn: 0.8850056\ttotal: 37.2ms\tremaining: 273ms\n",
            "12:\tlearn: 0.8883878\ttotal: 39.9ms\tremaining: 267ms\n",
            "13:\tlearn: 0.8883878\ttotal: 41.1ms\tremaining: 252ms\n",
            "14:\tlearn: 0.8906426\ttotal: 44.4ms\tremaining: 251ms\n",
            "15:\tlearn: 0.8928974\ttotal: 53.9ms\tremaining: 283ms\n",
            "16:\tlearn: 0.8962796\ttotal: 56.3ms\tremaining: 275ms\n",
            "17:\tlearn: 0.8940248\ttotal: 59.2ms\tremaining: 269ms\n",
            "18:\tlearn: 0.8974070\ttotal: 62.6ms\tremaining: 267ms\n",
            "19:\tlearn: 0.8985344\ttotal: 70.9ms\tremaining: 284ms\n",
            "20:\tlearn: 0.8962796\ttotal: 73.4ms\tremaining: 276ms\n",
            "21:\tlearn: 0.9007892\ttotal: 76ms\tremaining: 269ms\n",
            "22:\tlearn: 0.8996618\ttotal: 78.6ms\tremaining: 263ms\n",
            "23:\tlearn: 0.8996618\ttotal: 81.1ms\tremaining: 257ms\n",
            "24:\tlearn: 0.9030440\ttotal: 83.5ms\tremaining: 251ms\n",
            "25:\tlearn: 0.9052988\ttotal: 86.3ms\tremaining: 246ms\n",
            "26:\tlearn: 0.9075536\ttotal: 89.8ms\tremaining: 243ms\n",
            "27:\tlearn: 0.9064262\ttotal: 99.8ms\tremaining: 257ms\n",
            "28:\tlearn: 0.9075536\ttotal: 107ms\tremaining: 261ms\n",
            "29:\tlearn: 0.9109357\ttotal: 122ms\tremaining: 284ms\n",
            "30:\tlearn: 0.9075536\ttotal: 125ms\tremaining: 278ms\n",
            "31:\tlearn: 0.9109357\ttotal: 128ms\tremaining: 272ms\n",
            "32:\tlearn: 0.9143179\ttotal: 130ms\tremaining: 265ms\n",
            "33:\tlearn: 0.9120631\ttotal: 133ms\tremaining: 258ms\n",
            "34:\tlearn: 0.9131905\ttotal: 146ms\tremaining: 271ms\n",
            "35:\tlearn: 0.9143179\ttotal: 156ms\tremaining: 278ms\n",
            "36:\tlearn: 0.9143179\ttotal: 159ms\tremaining: 270ms\n",
            "37:\tlearn: 0.9143179\ttotal: 161ms\tremaining: 263ms\n",
            "38:\tlearn: 0.9154453\ttotal: 169ms\tremaining: 264ms\n",
            "39:\tlearn: 0.9154453\ttotal: 171ms\tremaining: 257ms\n",
            "40:\tlearn: 0.9199549\ttotal: 175ms\tremaining: 251ms\n",
            "41:\tlearn: 0.9177001\ttotal: 185ms\tremaining: 255ms\n",
            "42:\tlearn: 0.9199549\ttotal: 187ms\tremaining: 248ms\n",
            "43:\tlearn: 0.9233371\ttotal: 196ms\tremaining: 250ms\n",
            "44:\tlearn: 0.9244645\ttotal: 204ms\tremaining: 249ms\n",
            "45:\tlearn: 0.9267193\ttotal: 206ms\tremaining: 242ms\n",
            "46:\tlearn: 0.9255919\ttotal: 209ms\tremaining: 236ms\n",
            "47:\tlearn: 0.9255919\ttotal: 212ms\tremaining: 229ms\n",
            "48:\tlearn: 0.9244645\ttotal: 214ms\tremaining: 223ms\n",
            "49:\tlearn: 0.9244645\ttotal: 216ms\tremaining: 216ms\n",
            "50:\tlearn: 0.9267193\ttotal: 219ms\tremaining: 210ms\n",
            "51:\tlearn: 0.9278467\ttotal: 221ms\tremaining: 204ms\n",
            "52:\tlearn: 0.9278467\ttotal: 224ms\tremaining: 199ms\n",
            "53:\tlearn: 0.9267193\ttotal: 226ms\tremaining: 193ms\n",
            "54:\tlearn: 0.9278467\ttotal: 229ms\tremaining: 187ms\n",
            "55:\tlearn: 0.9267193\ttotal: 231ms\tremaining: 182ms\n",
            "56:\tlearn: 0.9267193\ttotal: 234ms\tremaining: 176ms\n",
            "57:\tlearn: 0.9301015\ttotal: 237ms\tremaining: 172ms\n",
            "58:\tlearn: 0.9301015\ttotal: 249ms\tremaining: 173ms\n",
            "59:\tlearn: 0.9301015\ttotal: 252ms\tremaining: 168ms\n",
            "60:\tlearn: 0.9334837\ttotal: 255ms\tremaining: 163ms\n",
            "61:\tlearn: 0.9346110\ttotal: 257ms\tremaining: 158ms\n",
            "62:\tlearn: 0.9323563\ttotal: 258ms\tremaining: 152ms\n",
            "63:\tlearn: 0.9346110\ttotal: 261ms\tremaining: 147ms\n",
            "64:\tlearn: 0.9346110\ttotal: 264ms\tremaining: 142ms\n",
            "65:\tlearn: 0.9346110\ttotal: 267ms\tremaining: 138ms\n",
            "66:\tlearn: 0.9346110\ttotal: 270ms\tremaining: 133ms\n",
            "67:\tlearn: 0.9357384\ttotal: 273ms\tremaining: 128ms\n",
            "68:\tlearn: 0.9368658\ttotal: 281ms\tremaining: 126ms\n",
            "69:\tlearn: 0.9368658\ttotal: 284ms\tremaining: 122ms\n",
            "70:\tlearn: 0.9357384\ttotal: 287ms\tremaining: 117ms\n",
            "71:\tlearn: 0.9368658\ttotal: 289ms\tremaining: 112ms\n",
            "72:\tlearn: 0.9368658\ttotal: 298ms\tremaining: 110ms\n",
            "73:\tlearn: 0.9357384\ttotal: 302ms\tremaining: 106ms\n",
            "74:\tlearn: 0.9391206\ttotal: 304ms\tremaining: 101ms\n",
            "75:\tlearn: 0.9402480\ttotal: 313ms\tremaining: 99ms\n",
            "76:\tlearn: 0.9391206\ttotal: 317ms\tremaining: 94.7ms\n",
            "77:\tlearn: 0.9402480\ttotal: 320ms\tremaining: 90.3ms\n",
            "78:\tlearn: 0.9413754\ttotal: 323ms\tremaining: 85.8ms\n",
            "79:\tlearn: 0.9413754\ttotal: 326ms\tremaining: 81.4ms\n",
            "80:\tlearn: 0.9402480\ttotal: 328ms\tremaining: 77ms\n",
            "81:\tlearn: 0.9391206\ttotal: 331ms\tremaining: 72.6ms\n",
            "82:\tlearn: 0.9402480\ttotal: 335ms\tremaining: 68.5ms\n",
            "83:\tlearn: 0.9413754\ttotal: 337ms\tremaining: 64.2ms\n",
            "84:\tlearn: 0.9402480\ttotal: 340ms\tremaining: 59.9ms\n",
            "85:\tlearn: 0.9425028\ttotal: 343ms\tremaining: 55.8ms\n",
            "86:\tlearn: 0.9425028\ttotal: 345ms\tremaining: 51.6ms\n",
            "87:\tlearn: 0.9413754\ttotal: 348ms\tremaining: 47.4ms\n",
            "88:\tlearn: 0.9413754\ttotal: 350ms\tremaining: 43.3ms\n",
            "89:\tlearn: 0.9425028\ttotal: 361ms\tremaining: 40.1ms\n",
            "90:\tlearn: 0.9413754\ttotal: 363ms\tremaining: 35.9ms\n",
            "91:\tlearn: 0.9413754\ttotal: 366ms\tremaining: 31.8ms\n",
            "92:\tlearn: 0.9436302\ttotal: 369ms\tremaining: 27.7ms\n",
            "93:\tlearn: 0.9447576\ttotal: 371ms\tremaining: 23.7ms\n",
            "94:\tlearn: 0.9436302\ttotal: 374ms\tremaining: 19.7ms\n",
            "95:\tlearn: 0.9436302\ttotal: 377ms\tremaining: 15.7ms\n",
            "96:\tlearn: 0.9447576\ttotal: 379ms\tremaining: 11.7ms\n",
            "97:\tlearn: 0.9458850\ttotal: 382ms\tremaining: 7.8ms\n",
            "98:\tlearn: 0.9447576\ttotal: 385ms\tremaining: 3.89ms\n",
            "99:\tlearn: 0.9447576\ttotal: 388ms\tremaining: 0us\n",
            "0:\tlearn: 0.8771139\ttotal: 10.2ms\tremaining: 1.01s\n",
            "1:\tlearn: 0.8906426\ttotal: 13.4ms\tremaining: 658ms\n",
            "2:\tlearn: 0.8895152\ttotal: 17ms\tremaining: 548ms\n",
            "3:\tlearn: 0.8883878\ttotal: 19.8ms\tremaining: 474ms\n",
            "4:\tlearn: 0.8771139\ttotal: 20.4ms\tremaining: 388ms\n",
            "5:\tlearn: 0.8827508\ttotal: 23.5ms\tremaining: 368ms\n",
            "6:\tlearn: 0.8861330\ttotal: 26.7ms\tremaining: 354ms\n",
            "7:\tlearn: 0.8883878\ttotal: 29.2ms\tremaining: 336ms\n",
            "8:\tlearn: 0.8895152\ttotal: 32.5ms\tremaining: 328ms\n",
            "9:\tlearn: 0.8917700\ttotal: 35ms\tremaining: 315ms\n",
            "10:\tlearn: 0.8996618\ttotal: 38.1ms\tremaining: 308ms\n",
            "11:\tlearn: 0.8985344\ttotal: 40.8ms\tremaining: 299ms\n",
            "12:\tlearn: 0.8985344\ttotal: 43.4ms\tremaining: 290ms\n",
            "13:\tlearn: 0.9030440\ttotal: 46ms\tremaining: 282ms\n",
            "14:\tlearn: 0.9030440\ttotal: 48.9ms\tremaining: 277ms\n",
            "15:\tlearn: 0.9019166\ttotal: 51.3ms\tremaining: 269ms\n",
            "16:\tlearn: 0.9075536\ttotal: 54.3ms\tremaining: 265ms\n",
            "17:\tlearn: 0.9131905\ttotal: 57.1ms\tremaining: 260ms\n",
            "18:\tlearn: 0.9086809\ttotal: 57.8ms\tremaining: 246ms\n",
            "19:\tlearn: 0.9109357\ttotal: 61ms\tremaining: 244ms\n",
            "20:\tlearn: 0.9086809\ttotal: 63.4ms\tremaining: 239ms\n",
            "21:\tlearn: 0.9131905\ttotal: 67ms\tremaining: 238ms\n",
            "22:\tlearn: 0.9109357\ttotal: 73.9ms\tremaining: 247ms\n",
            "23:\tlearn: 0.9131905\ttotal: 75ms\tremaining: 238ms\n",
            "24:\tlearn: 0.9098083\ttotal: 104ms\tremaining: 311ms\n",
            "25:\tlearn: 0.9143179\ttotal: 131ms\tremaining: 372ms\n",
            "26:\tlearn: 0.9143179\ttotal: 151ms\tremaining: 409ms\n",
            "27:\tlearn: 0.9154453\ttotal: 168ms\tremaining: 432ms\n",
            "28:\tlearn: 0.9165727\ttotal: 172ms\tremaining: 422ms\n",
            "29:\tlearn: 0.9177001\ttotal: 191ms\tremaining: 445ms\n",
            "30:\tlearn: 0.9177001\ttotal: 206ms\tremaining: 458ms\n",
            "31:\tlearn: 0.9177001\ttotal: 231ms\tremaining: 492ms\n",
            "32:\tlearn: 0.9188275\ttotal: 260ms\tremaining: 528ms\n",
            "33:\tlearn: 0.9199549\ttotal: 269ms\tremaining: 521ms\n",
            "34:\tlearn: 0.9199549\ttotal: 275ms\tremaining: 510ms\n",
            "35:\tlearn: 0.9210823\ttotal: 295ms\tremaining: 525ms\n",
            "36:\tlearn: 0.9210823\ttotal: 311ms\tremaining: 530ms\n",
            "37:\tlearn: 0.9233371\ttotal: 318ms\tremaining: 519ms\n",
            "38:\tlearn: 0.9210823\ttotal: 330ms\tremaining: 516ms\n",
            "39:\tlearn: 0.9233371\ttotal: 344ms\tremaining: 517ms\n",
            "40:\tlearn: 0.9222097\ttotal: 352ms\tremaining: 507ms\n",
            "41:\tlearn: 0.9233371\ttotal: 356ms\tremaining: 492ms\n",
            "42:\tlearn: 0.9233371\ttotal: 366ms\tremaining: 485ms\n",
            "43:\tlearn: 0.9222097\ttotal: 374ms\tremaining: 476ms\n",
            "44:\tlearn: 0.9222097\ttotal: 381ms\tremaining: 466ms\n",
            "45:\tlearn: 0.9210823\ttotal: 389ms\tremaining: 457ms\n",
            "46:\tlearn: 0.9222097\ttotal: 396ms\tremaining: 447ms\n",
            "47:\tlearn: 0.9222097\ttotal: 404ms\tremaining: 438ms\n",
            "48:\tlearn: 0.9244645\ttotal: 411ms\tremaining: 428ms\n",
            "49:\tlearn: 0.9244645\ttotal: 419ms\tremaining: 419ms\n",
            "50:\tlearn: 0.9244645\ttotal: 427ms\tremaining: 410ms\n",
            "51:\tlearn: 0.9255919\ttotal: 435ms\tremaining: 401ms\n",
            "52:\tlearn: 0.9278467\ttotal: 442ms\tremaining: 392ms\n",
            "53:\tlearn: 0.9267193\ttotal: 450ms\tremaining: 383ms\n",
            "54:\tlearn: 0.9267193\ttotal: 458ms\tremaining: 375ms\n",
            "55:\tlearn: 0.9267193\ttotal: 465ms\tremaining: 365ms\n",
            "56:\tlearn: 0.9278467\ttotal: 481ms\tremaining: 363ms\n",
            "57:\tlearn: 0.9267193\ttotal: 485ms\tremaining: 351ms\n",
            "58:\tlearn: 0.9278467\ttotal: 493ms\tremaining: 343ms\n",
            "59:\tlearn: 0.9278467\ttotal: 500ms\tremaining: 334ms\n",
            "60:\tlearn: 0.9289741\ttotal: 511ms\tremaining: 327ms\n",
            "61:\tlearn: 0.9289741\ttotal: 515ms\tremaining: 316ms\n",
            "62:\tlearn: 0.9278467\ttotal: 520ms\tremaining: 305ms\n",
            "63:\tlearn: 0.9278467\ttotal: 525ms\tremaining: 295ms\n",
            "64:\tlearn: 0.9278467\ttotal: 532ms\tremaining: 286ms\n",
            "65:\tlearn: 0.9301015\ttotal: 539ms\tremaining: 278ms\n",
            "66:\tlearn: 0.9301015\ttotal: 547ms\tremaining: 269ms\n",
            "67:\tlearn: 0.9323563\ttotal: 554ms\tremaining: 261ms\n",
            "68:\tlearn: 0.9312289\ttotal: 562ms\tremaining: 252ms\n",
            "69:\tlearn: 0.9334837\ttotal: 570ms\tremaining: 244ms\n",
            "70:\tlearn: 0.9334837\ttotal: 577ms\tremaining: 236ms\n",
            "71:\tlearn: 0.9334837\ttotal: 584ms\tremaining: 227ms\n",
            "72:\tlearn: 0.9334837\ttotal: 592ms\tremaining: 219ms\n",
            "73:\tlearn: 0.9346110\ttotal: 601ms\tremaining: 211ms\n",
            "74:\tlearn: 0.9346110\ttotal: 605ms\tremaining: 202ms\n",
            "75:\tlearn: 0.9346110\ttotal: 612ms\tremaining: 193ms\n",
            "76:\tlearn: 0.9346110\ttotal: 620ms\tremaining: 185ms\n",
            "77:\tlearn: 0.9346110\ttotal: 627ms\tremaining: 177ms\n",
            "78:\tlearn: 0.9346110\ttotal: 634ms\tremaining: 169ms\n",
            "79:\tlearn: 0.9346110\ttotal: 642ms\tremaining: 160ms\n",
            "80:\tlearn: 0.9357384\ttotal: 661ms\tremaining: 155ms\n",
            "81:\tlearn: 0.9357384\ttotal: 668ms\tremaining: 147ms\n",
            "82:\tlearn: 0.9357384\ttotal: 675ms\tremaining: 138ms\n",
            "83:\tlearn: 0.9357384\ttotal: 681ms\tremaining: 130ms\n",
            "84:\tlearn: 0.9368658\ttotal: 687ms\tremaining: 121ms\n",
            "85:\tlearn: 0.9368658\ttotal: 694ms\tremaining: 113ms\n",
            "86:\tlearn: 0.9368658\ttotal: 701ms\tremaining: 105ms\n",
            "87:\tlearn: 0.9368658\ttotal: 709ms\tremaining: 96.7ms\n",
            "88:\tlearn: 0.9368658\ttotal: 716ms\tremaining: 88.5ms\n",
            "89:\tlearn: 0.9368658\ttotal: 723ms\tremaining: 80.4ms\n",
            "90:\tlearn: 0.9368658\ttotal: 731ms\tremaining: 72.3ms\n",
            "91:\tlearn: 0.9357384\ttotal: 741ms\tremaining: 64.5ms\n",
            "92:\tlearn: 0.9357384\ttotal: 745ms\tremaining: 56.1ms\n",
            "93:\tlearn: 0.9357384\ttotal: 752ms\tremaining: 48ms\n",
            "94:\tlearn: 0.9357384\ttotal: 763ms\tremaining: 40.1ms\n",
            "95:\tlearn: 0.9357384\ttotal: 767ms\tremaining: 31.9ms\n",
            "96:\tlearn: 0.9368658\ttotal: 774ms\tremaining: 23.9ms\n",
            "97:\tlearn: 0.9379932\ttotal: 782ms\tremaining: 15.9ms\n",
            "98:\tlearn: 0.9379932\ttotal: 789ms\tremaining: 7.97ms\n",
            "99:\tlearn: 0.9379932\ttotal: 796ms\tremaining: 0us\n",
            "0:\tlearn: 0.8669673\ttotal: 3.45ms\tremaining: 341ms\n",
            "1:\tlearn: 0.8726043\ttotal: 6.03ms\tremaining: 296ms\n",
            "2:\tlearn: 0.8838782\ttotal: 8.41ms\tremaining: 272ms\n",
            "3:\tlearn: 0.8872604\ttotal: 10.8ms\tremaining: 258ms\n",
            "4:\tlearn: 0.8714769\ttotal: 11.6ms\tremaining: 220ms\n",
            "5:\tlearn: 0.8782413\ttotal: 14.7ms\tremaining: 231ms\n",
            "6:\tlearn: 0.8883878\ttotal: 18.3ms\tremaining: 243ms\n",
            "7:\tlearn: 0.8895152\ttotal: 21.2ms\tremaining: 244ms\n",
            "8:\tlearn: 0.8940248\ttotal: 29.4ms\tremaining: 297ms\n",
            "9:\tlearn: 0.8928974\ttotal: 33.6ms\tremaining: 303ms\n",
            "10:\tlearn: 0.8962796\ttotal: 43.7ms\tremaining: 354ms\n",
            "11:\tlearn: 0.8962796\ttotal: 47.5ms\tremaining: 348ms\n",
            "12:\tlearn: 0.8996618\ttotal: 54.6ms\tremaining: 365ms\n",
            "13:\tlearn: 0.8974070\ttotal: 63.8ms\tremaining: 392ms\n",
            "14:\tlearn: 0.8985344\ttotal: 68.4ms\tremaining: 387ms\n",
            "15:\tlearn: 0.9030440\ttotal: 70.9ms\tremaining: 372ms\n",
            "16:\tlearn: 0.9019166\ttotal: 73.8ms\tremaining: 360ms\n",
            "17:\tlearn: 0.9019166\ttotal: 77.6ms\tremaining: 353ms\n",
            "18:\tlearn: 0.9041714\ttotal: 78.6ms\tremaining: 335ms\n",
            "19:\tlearn: 0.9030440\ttotal: 81.5ms\tremaining: 326ms\n",
            "20:\tlearn: 0.9030440\ttotal: 98.4ms\tremaining: 370ms\n",
            "21:\tlearn: 0.9030440\ttotal: 101ms\tremaining: 359ms\n",
            "22:\tlearn: 0.9030440\ttotal: 104ms\tremaining: 349ms\n",
            "23:\tlearn: 0.9086809\ttotal: 108ms\tremaining: 342ms\n",
            "24:\tlearn: 0.9086809\ttotal: 111ms\tremaining: 333ms\n",
            "25:\tlearn: 0.9131905\ttotal: 114ms\tremaining: 324ms\n",
            "26:\tlearn: 0.9052988\ttotal: 115ms\tremaining: 310ms\n",
            "27:\tlearn: 0.9086809\ttotal: 119ms\tremaining: 305ms\n",
            "28:\tlearn: 0.9120631\ttotal: 126ms\tremaining: 309ms\n",
            "29:\tlearn: 0.9109357\ttotal: 133ms\tremaining: 311ms\n",
            "30:\tlearn: 0.9109357\ttotal: 140ms\tremaining: 312ms\n",
            "31:\tlearn: 0.9098083\ttotal: 145ms\tremaining: 309ms\n",
            "32:\tlearn: 0.9131905\ttotal: 153ms\tremaining: 311ms\n",
            "33:\tlearn: 0.9131905\ttotal: 162ms\tremaining: 315ms\n",
            "34:\tlearn: 0.9131905\ttotal: 166ms\tremaining: 308ms\n",
            "35:\tlearn: 0.9143179\ttotal: 199ms\tremaining: 355ms\n",
            "36:\tlearn: 0.9154453\ttotal: 204ms\tremaining: 348ms\n",
            "37:\tlearn: 0.9177001\ttotal: 212ms\tremaining: 346ms\n",
            "38:\tlearn: 0.9165727\ttotal: 219ms\tremaining: 343ms\n",
            "39:\tlearn: 0.9154453\ttotal: 227ms\tremaining: 340ms\n",
            "40:\tlearn: 0.9165727\ttotal: 234ms\tremaining: 337ms\n",
            "41:\tlearn: 0.9188275\ttotal: 241ms\tremaining: 333ms\n",
            "42:\tlearn: 0.9199549\ttotal: 252ms\tremaining: 334ms\n",
            "43:\tlearn: 0.9199549\ttotal: 256ms\tremaining: 326ms\n",
            "44:\tlearn: 0.9188275\ttotal: 260ms\tremaining: 318ms\n",
            "45:\tlearn: 0.9188275\ttotal: 265ms\tremaining: 311ms\n",
            "46:\tlearn: 0.9210823\ttotal: 272ms\tremaining: 307ms\n",
            "47:\tlearn: 0.9199549\ttotal: 279ms\tremaining: 303ms\n",
            "48:\tlearn: 0.9222097\ttotal: 287ms\tremaining: 299ms\n",
            "49:\tlearn: 0.9222097\ttotal: 297ms\tremaining: 297ms\n",
            "50:\tlearn: 0.9210823\ttotal: 304ms\tremaining: 292ms\n",
            "51:\tlearn: 0.9210823\ttotal: 311ms\tremaining: 287ms\n",
            "52:\tlearn: 0.9233371\ttotal: 313ms\tremaining: 278ms\n",
            "53:\tlearn: 0.9244645\ttotal: 316ms\tremaining: 269ms\n",
            "54:\tlearn: 0.9244645\ttotal: 319ms\tremaining: 261ms\n",
            "55:\tlearn: 0.9267193\ttotal: 322ms\tremaining: 253ms\n",
            "56:\tlearn: 0.9267193\ttotal: 325ms\tremaining: 245ms\n",
            "57:\tlearn: 0.9278467\ttotal: 327ms\tremaining: 237ms\n",
            "58:\tlearn: 0.9289741\ttotal: 330ms\tremaining: 229ms\n",
            "59:\tlearn: 0.9289741\ttotal: 342ms\tremaining: 228ms\n",
            "60:\tlearn: 0.9267193\ttotal: 345ms\tremaining: 220ms\n",
            "61:\tlearn: 0.9255919\ttotal: 347ms\tremaining: 213ms\n",
            "62:\tlearn: 0.9289741\ttotal: 350ms\tremaining: 206ms\n",
            "63:\tlearn: 0.9289741\ttotal: 352ms\tremaining: 198ms\n",
            "64:\tlearn: 0.9289741\ttotal: 356ms\tremaining: 191ms\n",
            "65:\tlearn: 0.9301015\ttotal: 359ms\tremaining: 185ms\n",
            "66:\tlearn: 0.9323563\ttotal: 361ms\tremaining: 178ms\n",
            "67:\tlearn: 0.9334837\ttotal: 364ms\tremaining: 171ms\n",
            "68:\tlearn: 0.9334837\ttotal: 366ms\tremaining: 165ms\n",
            "69:\tlearn: 0.9334837\ttotal: 369ms\tremaining: 158ms\n",
            "70:\tlearn: 0.9323563\ttotal: 380ms\tremaining: 155ms\n",
            "71:\tlearn: 0.9323563\ttotal: 383ms\tremaining: 149ms\n",
            "72:\tlearn: 0.9323563\ttotal: 385ms\tremaining: 142ms\n",
            "73:\tlearn: 0.9334837\ttotal: 387ms\tremaining: 136ms\n",
            "74:\tlearn: 0.9334837\ttotal: 390ms\tremaining: 130ms\n",
            "75:\tlearn: 0.9323563\ttotal: 393ms\tremaining: 124ms\n",
            "76:\tlearn: 0.9323563\ttotal: 396ms\tremaining: 118ms\n",
            "77:\tlearn: 0.9323563\ttotal: 398ms\tremaining: 112ms\n",
            "78:\tlearn: 0.9323563\ttotal: 400ms\tremaining: 106ms\n",
            "79:\tlearn: 0.9323563\ttotal: 403ms\tremaining: 101ms\n",
            "80:\tlearn: 0.9323563\ttotal: 406ms\tremaining: 95.2ms\n",
            "81:\tlearn: 0.9346110\ttotal: 408ms\tremaining: 89.6ms\n",
            "82:\tlearn: 0.9346110\ttotal: 411ms\tremaining: 84.1ms\n",
            "83:\tlearn: 0.9346110\ttotal: 413ms\tremaining: 78.7ms\n",
            "84:\tlearn: 0.9346110\ttotal: 414ms\tremaining: 73ms\n",
            "85:\tlearn: 0.9346110\ttotal: 416ms\tremaining: 67.8ms\n",
            "86:\tlearn: 0.9346110\ttotal: 420ms\tremaining: 62.7ms\n",
            "87:\tlearn: 0.9357384\ttotal: 422ms\tremaining: 57.6ms\n",
            "88:\tlearn: 0.9357384\ttotal: 425ms\tremaining: 52.5ms\n",
            "89:\tlearn: 0.9346110\ttotal: 427ms\tremaining: 47.4ms\n",
            "90:\tlearn: 0.9357384\ttotal: 429ms\tremaining: 42.5ms\n",
            "91:\tlearn: 0.9368658\ttotal: 432ms\tremaining: 37.5ms\n",
            "92:\tlearn: 0.9368658\ttotal: 435ms\tremaining: 32.7ms\n",
            "93:\tlearn: 0.9368658\ttotal: 438ms\tremaining: 27.9ms\n",
            "94:\tlearn: 0.9346110\ttotal: 440ms\tremaining: 23.2ms\n",
            "95:\tlearn: 0.9346110\ttotal: 443ms\tremaining: 18.4ms\n",
            "96:\tlearn: 0.9357384\ttotal: 445ms\tremaining: 13.8ms\n",
            "97:\tlearn: 0.9368658\ttotal: 455ms\tremaining: 9.28ms\n",
            "98:\tlearn: 0.9368658\ttotal: 457ms\tremaining: 4.62ms\n",
            "99:\tlearn: 0.9368658\ttotal: 460ms\tremaining: 0us\n",
            "0:\tlearn: 0.8624577\ttotal: 2.65ms\tremaining: 263ms\n",
            "1:\tlearn: 0.8782413\ttotal: 5.11ms\tremaining: 250ms\n",
            "2:\tlearn: 0.8917700\ttotal: 7.6ms\tremaining: 246ms\n",
            "3:\tlearn: 0.8861330\ttotal: 46.1ms\tremaining: 1.11s\n",
            "4:\tlearn: 0.8793687\ttotal: 48.8ms\tremaining: 927ms\n",
            "5:\tlearn: 0.8782413\ttotal: 49.6ms\tremaining: 777ms\n",
            "6:\tlearn: 0.8759865\ttotal: 50.2ms\tremaining: 667ms\n",
            "7:\tlearn: 0.8928974\ttotal: 52.6ms\tremaining: 605ms\n",
            "8:\tlearn: 0.8906426\ttotal: 55.6ms\tremaining: 562ms\n",
            "9:\tlearn: 0.8928974\ttotal: 58.3ms\tremaining: 525ms\n",
            "10:\tlearn: 0.8906426\ttotal: 60.8ms\tremaining: 492ms\n",
            "11:\tlearn: 0.8940248\ttotal: 63.2ms\tremaining: 464ms\n",
            "12:\tlearn: 0.8996618\ttotal: 66.2ms\tremaining: 443ms\n",
            "13:\tlearn: 0.8996618\ttotal: 69.2ms\tremaining: 425ms\n",
            "14:\tlearn: 0.8962796\ttotal: 72.1ms\tremaining: 408ms\n",
            "15:\tlearn: 0.8974070\ttotal: 74.4ms\tremaining: 391ms\n",
            "16:\tlearn: 0.8974070\ttotal: 74.9ms\tremaining: 366ms\n",
            "17:\tlearn: 0.8974070\ttotal: 77.3ms\tremaining: 352ms\n",
            "18:\tlearn: 0.8951522\ttotal: 79.7ms\tremaining: 340ms\n",
            "19:\tlearn: 0.8951522\ttotal: 81.2ms\tremaining: 325ms\n",
            "20:\tlearn: 0.8962796\ttotal: 87ms\tremaining: 327ms\n",
            "21:\tlearn: 0.8962796\ttotal: 89.7ms\tremaining: 318ms\n",
            "22:\tlearn: 0.8974070\ttotal: 92.2ms\tremaining: 309ms\n",
            "23:\tlearn: 0.8985344\ttotal: 94.6ms\tremaining: 300ms\n",
            "24:\tlearn: 0.8996618\ttotal: 97ms\tremaining: 291ms\n",
            "25:\tlearn: 0.8985344\ttotal: 100ms\tremaining: 285ms\n",
            "26:\tlearn: 0.9019166\ttotal: 103ms\tremaining: 278ms\n",
            "27:\tlearn: 0.9007892\ttotal: 105ms\tremaining: 270ms\n",
            "28:\tlearn: 0.9041714\ttotal: 109ms\tremaining: 266ms\n",
            "29:\tlearn: 0.9019166\ttotal: 111ms\tremaining: 259ms\n",
            "30:\tlearn: 0.9052988\ttotal: 114ms\tremaining: 253ms\n",
            "31:\tlearn: 0.9075536\ttotal: 117ms\tremaining: 250ms\n",
            "32:\tlearn: 0.9075536\ttotal: 120ms\tremaining: 244ms\n",
            "33:\tlearn: 0.9109357\ttotal: 123ms\tremaining: 239ms\n",
            "34:\tlearn: 0.9120631\ttotal: 125ms\tremaining: 233ms\n",
            "35:\tlearn: 0.9120631\ttotal: 128ms\tremaining: 228ms\n",
            "36:\tlearn: 0.9131905\ttotal: 131ms\tremaining: 223ms\n",
            "37:\tlearn: 0.9131905\ttotal: 134ms\tremaining: 218ms\n",
            "38:\tlearn: 0.9143179\ttotal: 136ms\tremaining: 213ms\n",
            "39:\tlearn: 0.9131905\ttotal: 139ms\tremaining: 209ms\n",
            "40:\tlearn: 0.9165727\ttotal: 142ms\tremaining: 204ms\n",
            "41:\tlearn: 0.9177001\ttotal: 145ms\tremaining: 200ms\n",
            "42:\tlearn: 0.9177001\ttotal: 147ms\tremaining: 195ms\n",
            "43:\tlearn: 0.9177001\ttotal: 163ms\tremaining: 208ms\n",
            "44:\tlearn: 0.9199549\ttotal: 166ms\tremaining: 203ms\n",
            "45:\tlearn: 0.9210823\ttotal: 169ms\tremaining: 198ms\n",
            "46:\tlearn: 0.9199549\ttotal: 171ms\tremaining: 193ms\n",
            "47:\tlearn: 0.9210823\ttotal: 174ms\tremaining: 189ms\n",
            "48:\tlearn: 0.9210823\ttotal: 177ms\tremaining: 184ms\n",
            "49:\tlearn: 0.9210823\ttotal: 180ms\tremaining: 180ms\n",
            "50:\tlearn: 0.9222097\ttotal: 182ms\tremaining: 175ms\n",
            "51:\tlearn: 0.9233371\ttotal: 185ms\tremaining: 171ms\n",
            "52:\tlearn: 0.9222097\ttotal: 188ms\tremaining: 167ms\n",
            "53:\tlearn: 0.9233371\ttotal: 191ms\tremaining: 163ms\n",
            "54:\tlearn: 0.9233371\ttotal: 194ms\tremaining: 158ms\n",
            "55:\tlearn: 0.9255919\ttotal: 201ms\tremaining: 158ms\n",
            "56:\tlearn: 0.9255919\ttotal: 204ms\tremaining: 154ms\n",
            "57:\tlearn: 0.9267193\ttotal: 212ms\tremaining: 153ms\n",
            "58:\tlearn: 0.9278467\ttotal: 219ms\tremaining: 152ms\n",
            "59:\tlearn: 0.9289741\ttotal: 226ms\tremaining: 151ms\n",
            "60:\tlearn: 0.9289741\ttotal: 232ms\tremaining: 148ms\n",
            "61:\tlearn: 0.9289741\ttotal: 238ms\tremaining: 146ms\n",
            "62:\tlearn: 0.9301015\ttotal: 244ms\tremaining: 143ms\n",
            "63:\tlearn: 0.9289741\ttotal: 253ms\tremaining: 143ms\n",
            "64:\tlearn: 0.9289741\ttotal: 260ms\tremaining: 140ms\n",
            "65:\tlearn: 0.9289741\ttotal: 269ms\tremaining: 138ms\n",
            "66:\tlearn: 0.9289741\ttotal: 274ms\tremaining: 135ms\n",
            "67:\tlearn: 0.9301015\ttotal: 280ms\tremaining: 132ms\n",
            "68:\tlearn: 0.9323563\ttotal: 286ms\tremaining: 128ms\n",
            "69:\tlearn: 0.9312289\ttotal: 291ms\tremaining: 125ms\n",
            "70:\tlearn: 0.9323563\ttotal: 297ms\tremaining: 121ms\n",
            "71:\tlearn: 0.9323563\ttotal: 304ms\tremaining: 118ms\n",
            "72:\tlearn: 0.9323563\ttotal: 310ms\tremaining: 115ms\n",
            "73:\tlearn: 0.9323563\ttotal: 328ms\tremaining: 115ms\n",
            "74:\tlearn: 0.9323563\ttotal: 336ms\tremaining: 112ms\n",
            "75:\tlearn: 0.9323563\ttotal: 347ms\tremaining: 109ms\n",
            "76:\tlearn: 0.9323563\ttotal: 354ms\tremaining: 106ms\n",
            "77:\tlearn: 0.9323563\ttotal: 359ms\tremaining: 101ms\n",
            "78:\tlearn: 0.9334837\ttotal: 365ms\tremaining: 97.1ms\n",
            "79:\tlearn: 0.9334837\ttotal: 370ms\tremaining: 92.4ms\n",
            "80:\tlearn: 0.9334837\ttotal: 379ms\tremaining: 89ms\n",
            "81:\tlearn: 0.9323563\ttotal: 386ms\tremaining: 84.8ms\n",
            "82:\tlearn: 0.9323563\ttotal: 392ms\tremaining: 80.3ms\n",
            "83:\tlearn: 0.9334837\ttotal: 396ms\tremaining: 75.4ms\n",
            "84:\tlearn: 0.9346110\ttotal: 404ms\tremaining: 71.3ms\n",
            "85:\tlearn: 0.9346110\ttotal: 412ms\tremaining: 67.1ms\n",
            "86:\tlearn: 0.9346110\ttotal: 424ms\tremaining: 63.4ms\n",
            "87:\tlearn: 0.9346110\ttotal: 428ms\tremaining: 58.3ms\n",
            "88:\tlearn: 0.9346110\ttotal: 434ms\tremaining: 53.7ms\n",
            "89:\tlearn: 0.9346110\ttotal: 437ms\tremaining: 48.6ms\n",
            "90:\tlearn: 0.9346110\ttotal: 449ms\tremaining: 44.4ms\n",
            "91:\tlearn: 0.9357384\ttotal: 453ms\tremaining: 39.4ms\n",
            "92:\tlearn: 0.9357384\ttotal: 457ms\tremaining: 34.4ms\n",
            "93:\tlearn: 0.9357384\ttotal: 465ms\tremaining: 29.7ms\n",
            "94:\tlearn: 0.9346110\ttotal: 483ms\tremaining: 25.4ms\n",
            "95:\tlearn: 0.9346110\ttotal: 486ms\tremaining: 20.3ms\n",
            "96:\tlearn: 0.9346110\ttotal: 505ms\tremaining: 15.6ms\n",
            "97:\tlearn: 0.9357384\ttotal: 509ms\tremaining: 10.4ms\n",
            "98:\tlearn: 0.9346110\ttotal: 517ms\tremaining: 5.22ms\n",
            "99:\tlearn: 0.9346110\ttotal: 524ms\tremaining: 0us\n",
            "0:\tlearn: 0.8838782\ttotal: 10.5ms\tremaining: 1.04s\n",
            "1:\tlearn: 0.8793687\ttotal: 16.3ms\tremaining: 797ms\n",
            "2:\tlearn: 0.8872604\ttotal: 20.4ms\tremaining: 659ms\n",
            "3:\tlearn: 0.8838782\ttotal: 28.8ms\tremaining: 691ms\n",
            "4:\tlearn: 0.8759865\ttotal: 29.7ms\tremaining: 565ms\n",
            "5:\tlearn: 0.8726043\ttotal: 32.1ms\tremaining: 503ms\n",
            "6:\tlearn: 0.8737317\ttotal: 34ms\tremaining: 452ms\n",
            "7:\tlearn: 0.8793687\ttotal: 59.5ms\tremaining: 685ms\n",
            "8:\tlearn: 0.8771139\ttotal: 62.1ms\tremaining: 628ms\n",
            "9:\tlearn: 0.8816234\ttotal: 64.6ms\tremaining: 582ms\n",
            "10:\tlearn: 0.8838782\ttotal: 67.1ms\tremaining: 543ms\n",
            "11:\tlearn: 0.8838782\ttotal: 71.5ms\tremaining: 524ms\n",
            "12:\tlearn: 0.8838782\ttotal: 74.8ms\tremaining: 501ms\n",
            "13:\tlearn: 0.8850056\ttotal: 78.3ms\tremaining: 481ms\n",
            "14:\tlearn: 0.8850056\ttotal: 80.7ms\tremaining: 457ms\n",
            "15:\tlearn: 0.8895152\ttotal: 83.1ms\tremaining: 436ms\n",
            "16:\tlearn: 0.8895152\ttotal: 83.6ms\tremaining: 408ms\n",
            "17:\tlearn: 0.8895152\ttotal: 86.1ms\tremaining: 392ms\n",
            "18:\tlearn: 0.8883878\ttotal: 88.5ms\tremaining: 377ms\n",
            "19:\tlearn: 0.8906426\ttotal: 90.8ms\tremaining: 363ms\n",
            "20:\tlearn: 0.8917700\ttotal: 93.3ms\tremaining: 351ms\n",
            "21:\tlearn: 0.8951522\ttotal: 95.6ms\tremaining: 339ms\n",
            "22:\tlearn: 0.8928974\ttotal: 99.1ms\tremaining: 332ms\n",
            "23:\tlearn: 0.8928974\ttotal: 103ms\tremaining: 326ms\n",
            "24:\tlearn: 0.8940248\ttotal: 110ms\tremaining: 330ms\n",
            "25:\tlearn: 0.8996618\ttotal: 123ms\tremaining: 351ms\n",
            "26:\tlearn: 0.9007892\ttotal: 131ms\tremaining: 353ms\n",
            "27:\tlearn: 0.9019166\ttotal: 146ms\tremaining: 375ms\n",
            "28:\tlearn: 0.9041714\ttotal: 155ms\tremaining: 379ms\n",
            "29:\tlearn: 0.9019166\ttotal: 160ms\tremaining: 372ms\n",
            "30:\tlearn: 0.9064262\ttotal: 164ms\tremaining: 365ms\n",
            "31:\tlearn: 0.9075536\ttotal: 171ms\tremaining: 364ms\n",
            "32:\tlearn: 0.9098083\ttotal: 179ms\tremaining: 363ms\n",
            "33:\tlearn: 0.9120631\ttotal: 194ms\tremaining: 377ms\n",
            "34:\tlearn: 0.9154453\ttotal: 198ms\tremaining: 369ms\n",
            "35:\tlearn: 0.9165727\ttotal: 206ms\tremaining: 366ms\n",
            "36:\tlearn: 0.9165727\ttotal: 213ms\tremaining: 363ms\n",
            "37:\tlearn: 0.9188275\ttotal: 220ms\tremaining: 359ms\n",
            "38:\tlearn: 0.9188275\ttotal: 230ms\tremaining: 360ms\n",
            "39:\tlearn: 0.9199549\ttotal: 235ms\tremaining: 352ms\n",
            "40:\tlearn: 0.9210823\ttotal: 242ms\tremaining: 348ms\n",
            "41:\tlearn: 0.9210823\ttotal: 249ms\tremaining: 344ms\n",
            "42:\tlearn: 0.9210823\ttotal: 257ms\tremaining: 340ms\n",
            "43:\tlearn: 0.9210823\ttotal: 264ms\tremaining: 337ms\n",
            "44:\tlearn: 0.9210823\ttotal: 272ms\tremaining: 332ms\n",
            "45:\tlearn: 0.9222097\ttotal: 279ms\tremaining: 328ms\n",
            "46:\tlearn: 0.9233371\ttotal: 287ms\tremaining: 324ms\n",
            "47:\tlearn: 0.9233371\ttotal: 295ms\tremaining: 319ms\n",
            "48:\tlearn: 0.9244645\ttotal: 302ms\tremaining: 315ms\n",
            "49:\tlearn: 0.9267193\ttotal: 310ms\tremaining: 310ms\n",
            "50:\tlearn: 0.9267193\ttotal: 318ms\tremaining: 306ms\n",
            "51:\tlearn: 0.9267193\ttotal: 326ms\tremaining: 301ms\n",
            "52:\tlearn: 0.9267193\ttotal: 333ms\tremaining: 295ms\n",
            "53:\tlearn: 0.9267193\ttotal: 340ms\tremaining: 290ms\n",
            "54:\tlearn: 0.9267193\ttotal: 348ms\tremaining: 284ms\n",
            "55:\tlearn: 0.9289741\ttotal: 355ms\tremaining: 279ms\n",
            "56:\tlearn: 0.9289741\ttotal: 362ms\tremaining: 273ms\n",
            "57:\tlearn: 0.9323563\ttotal: 370ms\tremaining: 268ms\n",
            "58:\tlearn: 0.9346110\ttotal: 382ms\tremaining: 265ms\n",
            "59:\tlearn: 0.9334837\ttotal: 388ms\tremaining: 259ms\n",
            "60:\tlearn: 0.9357384\ttotal: 395ms\tremaining: 252ms\n",
            "61:\tlearn: 0.9334837\ttotal: 403ms\tremaining: 247ms\n",
            "62:\tlearn: 0.9334837\ttotal: 412ms\tremaining: 242ms\n",
            "63:\tlearn: 0.9346110\ttotal: 416ms\tremaining: 234ms\n",
            "64:\tlearn: 0.9346110\ttotal: 424ms\tremaining: 228ms\n",
            "65:\tlearn: 0.9346110\ttotal: 431ms\tremaining: 222ms\n",
            "66:\tlearn: 0.9346110\ttotal: 438ms\tremaining: 216ms\n",
            "67:\tlearn: 0.9346110\ttotal: 446ms\tremaining: 210ms\n",
            "68:\tlearn: 0.9323563\ttotal: 453ms\tremaining: 203ms\n",
            "69:\tlearn: 0.9323563\ttotal: 460ms\tremaining: 197ms\n",
            "70:\tlearn: 0.9323563\ttotal: 467ms\tremaining: 191ms\n",
            "71:\tlearn: 0.9323563\ttotal: 474ms\tremaining: 184ms\n",
            "72:\tlearn: 0.9334837\ttotal: 482ms\tremaining: 178ms\n",
            "73:\tlearn: 0.9346110\ttotal: 500ms\tremaining: 176ms\n",
            "74:\tlearn: 0.9334837\ttotal: 505ms\tremaining: 168ms\n",
            "75:\tlearn: 0.9323563\ttotal: 512ms\tremaining: 162ms\n",
            "76:\tlearn: 0.9323563\ttotal: 517ms\tremaining: 154ms\n",
            "77:\tlearn: 0.9334837\ttotal: 522ms\tremaining: 147ms\n",
            "78:\tlearn: 0.9334837\ttotal: 529ms\tremaining: 141ms\n",
            "79:\tlearn: 0.9346110\ttotal: 537ms\tremaining: 134ms\n",
            "80:\tlearn: 0.9357384\ttotal: 544ms\tremaining: 128ms\n",
            "81:\tlearn: 0.9346110\ttotal: 554ms\tremaining: 122ms\n",
            "82:\tlearn: 0.9357384\ttotal: 558ms\tremaining: 114ms\n",
            "83:\tlearn: 0.9357384\ttotal: 570ms\tremaining: 108ms\n",
            "84:\tlearn: 0.9357384\ttotal: 575ms\tremaining: 101ms\n",
            "85:\tlearn: 0.9368658\ttotal: 582ms\tremaining: 94.8ms\n",
            "86:\tlearn: 0.9368658\ttotal: 597ms\tremaining: 89.2ms\n",
            "87:\tlearn: 0.9368658\ttotal: 608ms\tremaining: 82.9ms\n",
            "88:\tlearn: 0.9357384\ttotal: 621ms\tremaining: 76.7ms\n",
            "89:\tlearn: 0.9357384\ttotal: 624ms\tremaining: 69.3ms\n",
            "90:\tlearn: 0.9346110\ttotal: 630ms\tremaining: 62.3ms\n",
            "91:\tlearn: 0.9346110\ttotal: 637ms\tremaining: 55.4ms\n",
            "92:\tlearn: 0.9346110\ttotal: 644ms\tremaining: 48.5ms\n",
            "93:\tlearn: 0.9346110\ttotal: 652ms\tremaining: 41.6ms\n",
            "94:\tlearn: 0.9346110\ttotal: 659ms\tremaining: 34.7ms\n",
            "95:\tlearn: 0.9346110\ttotal: 666ms\tremaining: 27.8ms\n",
            "96:\tlearn: 0.9379932\ttotal: 673ms\tremaining: 20.8ms\n",
            "97:\tlearn: 0.9368658\ttotal: 680ms\tremaining: 13.9ms\n",
            "98:\tlearn: 0.9368658\ttotal: 688ms\tremaining: 6.95ms\n",
            "99:\tlearn: 0.9368658\ttotal: 695ms\tremaining: 0us\n",
            "0:\tlearn: 0.8782413\ttotal: 5.58ms\tremaining: 552ms\n",
            "1:\tlearn: 0.8827508\ttotal: 11.9ms\tremaining: 582ms\n",
            "2:\tlearn: 0.8861330\ttotal: 17.9ms\tremaining: 579ms\n",
            "3:\tlearn: 0.8838782\ttotal: 23.2ms\tremaining: 558ms\n",
            "4:\tlearn: 0.8703495\ttotal: 25.1ms\tremaining: 476ms\n",
            "5:\tlearn: 0.8737317\ttotal: 27.9ms\tremaining: 438ms\n",
            "6:\tlearn: 0.8692221\ttotal: 29.1ms\tremaining: 387ms\n",
            "7:\tlearn: 0.8771139\ttotal: 37.2ms\tremaining: 428ms\n",
            "8:\tlearn: 0.8726043\ttotal: 43.2ms\tremaining: 437ms\n",
            "9:\tlearn: 0.8726043\ttotal: 50.3ms\tremaining: 453ms\n",
            "10:\tlearn: 0.8714769\ttotal: 54.6ms\tremaining: 442ms\n",
            "11:\tlearn: 0.8726043\ttotal: 61.9ms\tremaining: 454ms\n",
            "12:\tlearn: 0.8771139\ttotal: 68.9ms\tremaining: 461ms\n",
            "13:\tlearn: 0.8793687\ttotal: 75.9ms\tremaining: 466ms\n",
            "14:\tlearn: 0.8771139\ttotal: 83ms\tremaining: 471ms\n",
            "15:\tlearn: 0.8793687\ttotal: 91.7ms\tremaining: 481ms\n",
            "16:\tlearn: 0.8793687\ttotal: 97.7ms\tremaining: 477ms\n",
            "17:\tlearn: 0.8793687\ttotal: 106ms\tremaining: 481ms\n",
            "18:\tlearn: 0.8804961\ttotal: 114ms\tremaining: 484ms\n",
            "19:\tlearn: 0.8838782\ttotal: 120ms\tremaining: 479ms\n",
            "20:\tlearn: 0.8838782\ttotal: 126ms\tremaining: 474ms\n",
            "21:\tlearn: 0.8861330\ttotal: 133ms\tremaining: 473ms\n",
            "22:\tlearn: 0.8883878\ttotal: 141ms\tremaining: 472ms\n",
            "23:\tlearn: 0.8917700\ttotal: 148ms\tremaining: 470ms\n",
            "24:\tlearn: 0.8951522\ttotal: 156ms\tremaining: 469ms\n",
            "25:\tlearn: 0.8951522\ttotal: 165ms\tremaining: 470ms\n",
            "26:\tlearn: 0.8928974\ttotal: 168ms\tremaining: 454ms\n",
            "27:\tlearn: 0.8951522\ttotal: 173ms\tremaining: 445ms\n",
            "28:\tlearn: 0.8951522\ttotal: 185ms\tremaining: 454ms\n",
            "29:\tlearn: 0.8974070\ttotal: 191ms\tremaining: 445ms\n",
            "30:\tlearn: 0.8962796\ttotal: 197ms\tremaining: 438ms\n",
            "31:\tlearn: 0.8985344\ttotal: 204ms\tremaining: 434ms\n",
            "32:\tlearn: 0.8996618\ttotal: 212ms\tremaining: 430ms\n",
            "33:\tlearn: 0.9030440\ttotal: 219ms\tremaining: 425ms\n",
            "34:\tlearn: 0.9052988\ttotal: 227ms\tremaining: 421ms\n",
            "35:\tlearn: 0.9064262\ttotal: 234ms\tremaining: 416ms\n",
            "36:\tlearn: 0.9064262\ttotal: 241ms\tremaining: 411ms\n",
            "37:\tlearn: 0.9064262\ttotal: 249ms\tremaining: 406ms\n",
            "38:\tlearn: 0.9064262\ttotal: 257ms\tremaining: 402ms\n",
            "39:\tlearn: 0.9086809\ttotal: 264ms\tremaining: 396ms\n",
            "40:\tlearn: 0.9109357\ttotal: 272ms\tremaining: 391ms\n",
            "41:\tlearn: 0.9120631\ttotal: 279ms\tremaining: 386ms\n",
            "42:\tlearn: 0.9131905\ttotal: 286ms\tremaining: 380ms\n",
            "43:\tlearn: 0.9131905\ttotal: 294ms\tremaining: 374ms\n",
            "44:\tlearn: 0.9143179\ttotal: 299ms\tremaining: 365ms\n",
            "45:\tlearn: 0.9143179\ttotal: 304ms\tremaining: 357ms\n",
            "46:\tlearn: 0.9143179\ttotal: 312ms\tremaining: 351ms\n",
            "47:\tlearn: 0.9177001\ttotal: 319ms\tremaining: 346ms\n",
            "48:\tlearn: 0.9177001\ttotal: 327ms\tremaining: 340ms\n",
            "49:\tlearn: 0.9188275\ttotal: 334ms\tremaining: 334ms\n",
            "50:\tlearn: 0.9177001\ttotal: 341ms\tremaining: 328ms\n",
            "51:\tlearn: 0.9199549\ttotal: 349ms\tremaining: 322ms\n",
            "52:\tlearn: 0.9188275\ttotal: 356ms\tremaining: 316ms\n",
            "53:\tlearn: 0.9210823\ttotal: 367ms\tremaining: 312ms\n",
            "54:\tlearn: 0.9199549\ttotal: 372ms\tremaining: 304ms\n",
            "55:\tlearn: 0.9210823\ttotal: 378ms\tremaining: 297ms\n",
            "56:\tlearn: 0.9210823\ttotal: 382ms\tremaining: 288ms\n",
            "57:\tlearn: 0.9222097\ttotal: 393ms\tremaining: 285ms\n",
            "58:\tlearn: 0.9244645\ttotal: 397ms\tremaining: 276ms\n",
            "59:\tlearn: 0.9244645\ttotal: 405ms\tremaining: 270ms\n",
            "60:\tlearn: 0.9244645\ttotal: 413ms\tremaining: 264ms\n",
            "61:\tlearn: 0.9255919\ttotal: 420ms\tremaining: 257ms\n",
            "62:\tlearn: 0.9244645\ttotal: 427ms\tremaining: 251ms\n",
            "63:\tlearn: 0.9255919\ttotal: 435ms\tremaining: 244ms\n",
            "64:\tlearn: 0.9244645\ttotal: 442ms\tremaining: 238ms\n",
            "65:\tlearn: 0.9267193\ttotal: 450ms\tremaining: 232ms\n",
            "66:\tlearn: 0.9267193\ttotal: 456ms\tremaining: 224ms\n",
            "67:\tlearn: 0.9267193\ttotal: 472ms\tremaining: 222ms\n",
            "68:\tlearn: 0.9278467\ttotal: 478ms\tremaining: 215ms\n",
            "69:\tlearn: 0.9278467\ttotal: 490ms\tremaining: 210ms\n",
            "70:\tlearn: 0.9278467\ttotal: 497ms\tremaining: 203ms\n",
            "71:\tlearn: 0.9289741\ttotal: 501ms\tremaining: 195ms\n",
            "72:\tlearn: 0.9289741\ttotal: 509ms\tremaining: 188ms\n",
            "73:\tlearn: 0.9289741\ttotal: 511ms\tremaining: 180ms\n",
            "74:\tlearn: 0.9289741\ttotal: 514ms\tremaining: 171ms\n",
            "75:\tlearn: 0.9289741\ttotal: 516ms\tremaining: 163ms\n",
            "76:\tlearn: 0.9289741\ttotal: 518ms\tremaining: 155ms\n",
            "77:\tlearn: 0.9289741\ttotal: 522ms\tremaining: 147ms\n",
            "78:\tlearn: 0.9289741\ttotal: 525ms\tremaining: 139ms\n",
            "79:\tlearn: 0.9301015\ttotal: 527ms\tremaining: 132ms\n",
            "80:\tlearn: 0.9301015\ttotal: 529ms\tremaining: 124ms\n",
            "81:\tlearn: 0.9301015\ttotal: 531ms\tremaining: 117ms\n",
            "82:\tlearn: 0.9301015\ttotal: 534ms\tremaining: 109ms\n",
            "83:\tlearn: 0.9301015\ttotal: 534ms\tremaining: 102ms\n",
            "84:\tlearn: 0.9301015\ttotal: 535ms\tremaining: 94.4ms\n",
            "85:\tlearn: 0.9301015\ttotal: 538ms\tremaining: 87.5ms\n",
            "86:\tlearn: 0.9301015\ttotal: 559ms\tremaining: 83.6ms\n",
            "87:\tlearn: 0.9301015\ttotal: 567ms\tremaining: 77.3ms\n",
            "88:\tlearn: 0.9312289\ttotal: 570ms\tremaining: 70.5ms\n",
            "89:\tlearn: 0.9323563\ttotal: 575ms\tremaining: 63.9ms\n",
            "90:\tlearn: 0.9323563\ttotal: 580ms\tremaining: 57.3ms\n",
            "91:\tlearn: 0.9323563\ttotal: 581ms\tremaining: 50.5ms\n",
            "92:\tlearn: 0.9301015\ttotal: 583ms\tremaining: 43.9ms\n",
            "93:\tlearn: 0.9301015\ttotal: 585ms\tremaining: 37.4ms\n",
            "94:\tlearn: 0.9301015\ttotal: 588ms\tremaining: 30.9ms\n",
            "95:\tlearn: 0.9312289\ttotal: 590ms\tremaining: 24.6ms\n",
            "96:\tlearn: 0.9312289\ttotal: 592ms\tremaining: 18.3ms\n",
            "97:\tlearn: 0.9312289\ttotal: 594ms\tremaining: 12.1ms\n",
            "98:\tlearn: 0.9312289\ttotal: 597ms\tremaining: 6.03ms\n",
            "99:\tlearn: 0.9312289\ttotal: 599ms\tremaining: 0us\n",
            "0:\tlearn: 0.8658399\ttotal: 2.58ms\tremaining: 255ms\n",
            "1:\tlearn: 0.8827508\ttotal: 5.06ms\tremaining: 248ms\n",
            "2:\tlearn: 0.8906426\ttotal: 8.37ms\tremaining: 271ms\n",
            "3:\tlearn: 0.8906426\ttotal: 10.9ms\tremaining: 261ms\n",
            "4:\tlearn: 0.8782413\ttotal: 11.5ms\tremaining: 218ms\n",
            "5:\tlearn: 0.8895152\ttotal: 14.4ms\tremaining: 225ms\n",
            "6:\tlearn: 0.8861330\ttotal: 17.3ms\tremaining: 230ms\n",
            "7:\tlearn: 0.8895152\ttotal: 20.2ms\tremaining: 232ms\n",
            "8:\tlearn: 0.8962796\ttotal: 23.2ms\tremaining: 234ms\n",
            "9:\tlearn: 0.8962796\ttotal: 26.7ms\tremaining: 241ms\n",
            "10:\tlearn: 0.8962796\ttotal: 34.5ms\tremaining: 279ms\n",
            "11:\tlearn: 0.8996618\ttotal: 42.7ms\tremaining: 313ms\n",
            "12:\tlearn: 0.8985344\ttotal: 67.1ms\tremaining: 449ms\n",
            "13:\tlearn: 0.9007892\ttotal: 75.8ms\tremaining: 466ms\n",
            "14:\tlearn: 0.9019166\ttotal: 78.4ms\tremaining: 444ms\n",
            "15:\tlearn: 0.9052988\ttotal: 83ms\tremaining: 436ms\n",
            "16:\tlearn: 0.9064262\ttotal: 87.8ms\tremaining: 429ms\n",
            "17:\tlearn: 0.9086809\ttotal: 90.4ms\tremaining: 412ms\n",
            "18:\tlearn: 0.9041714\ttotal: 90.9ms\tremaining: 388ms\n",
            "19:\tlearn: 0.9075536\ttotal: 93.4ms\tremaining: 374ms\n",
            "20:\tlearn: 0.9086809\ttotal: 95.1ms\tremaining: 358ms\n",
            "21:\tlearn: 0.9075536\ttotal: 95.7ms\tremaining: 339ms\n",
            "22:\tlearn: 0.9075536\ttotal: 98.4ms\tremaining: 329ms\n",
            "23:\tlearn: 0.9098083\ttotal: 102ms\tremaining: 322ms\n",
            "24:\tlearn: 0.9120631\ttotal: 104ms\tremaining: 313ms\n",
            "25:\tlearn: 0.9109357\ttotal: 107ms\tremaining: 304ms\n",
            "26:\tlearn: 0.9131905\ttotal: 109ms\tremaining: 296ms\n",
            "27:\tlearn: 0.9120631\ttotal: 112ms\tremaining: 289ms\n",
            "28:\tlearn: 0.9131905\ttotal: 116ms\tremaining: 283ms\n",
            "29:\tlearn: 0.9177001\ttotal: 119ms\tremaining: 277ms\n",
            "30:\tlearn: 0.9199549\ttotal: 121ms\tremaining: 270ms\n",
            "31:\tlearn: 0.9188275\ttotal: 124ms\tremaining: 264ms\n",
            "32:\tlearn: 0.9177001\ttotal: 127ms\tremaining: 258ms\n",
            "33:\tlearn: 0.9154453\ttotal: 130ms\tremaining: 252ms\n",
            "34:\tlearn: 0.9177001\ttotal: 133ms\tremaining: 247ms\n",
            "35:\tlearn: 0.9188275\ttotal: 136ms\tremaining: 241ms\n",
            "36:\tlearn: 0.9199549\ttotal: 138ms\tremaining: 235ms\n",
            "37:\tlearn: 0.9188275\ttotal: 141ms\tremaining: 229ms\n",
            "38:\tlearn: 0.9222097\ttotal: 144ms\tremaining: 226ms\n",
            "39:\tlearn: 0.9210823\ttotal: 147ms\tremaining: 220ms\n",
            "40:\tlearn: 0.9222097\ttotal: 149ms\tremaining: 215ms\n",
            "41:\tlearn: 0.9222097\ttotal: 152ms\tremaining: 209ms\n",
            "42:\tlearn: 0.9222097\ttotal: 154ms\tremaining: 204ms\n",
            "43:\tlearn: 0.9222097\ttotal: 158ms\tremaining: 201ms\n",
            "44:\tlearn: 0.9222097\ttotal: 160ms\tremaining: 196ms\n",
            "45:\tlearn: 0.9233371\ttotal: 163ms\tremaining: 191ms\n",
            "46:\tlearn: 0.9233371\ttotal: 166ms\tremaining: 187ms\n",
            "47:\tlearn: 0.9244645\ttotal: 168ms\tremaining: 182ms\n",
            "48:\tlearn: 0.9244645\ttotal: 172ms\tremaining: 179ms\n",
            "49:\tlearn: 0.9255919\ttotal: 174ms\tremaining: 174ms\n",
            "50:\tlearn: 0.9255919\ttotal: 177ms\tremaining: 170ms\n",
            "51:\tlearn: 0.9267193\ttotal: 179ms\tremaining: 165ms\n",
            "52:\tlearn: 0.9255919\ttotal: 181ms\tremaining: 161ms\n",
            "53:\tlearn: 0.9289741\ttotal: 184ms\tremaining: 157ms\n",
            "54:\tlearn: 0.9278467\ttotal: 188ms\tremaining: 154ms\n",
            "55:\tlearn: 0.9301015\ttotal: 191ms\tremaining: 150ms\n",
            "56:\tlearn: 0.9312289\ttotal: 195ms\tremaining: 147ms\n",
            "57:\tlearn: 0.9301015\ttotal: 200ms\tremaining: 145ms\n",
            "58:\tlearn: 0.9289741\ttotal: 209ms\tremaining: 145ms\n",
            "59:\tlearn: 0.9301015\ttotal: 258ms\tremaining: 172ms\n",
            "60:\tlearn: 0.9301015\ttotal: 268ms\tremaining: 171ms\n",
            "61:\tlearn: 0.9312289\ttotal: 275ms\tremaining: 168ms\n",
            "62:\tlearn: 0.9323563\ttotal: 279ms\tremaining: 164ms\n",
            "63:\tlearn: 0.9334837\ttotal: 312ms\tremaining: 176ms\n",
            "64:\tlearn: 0.9334837\ttotal: 317ms\tremaining: 170ms\n",
            "65:\tlearn: 0.9334837\ttotal: 329ms\tremaining: 169ms\n",
            "66:\tlearn: 0.9346110\ttotal: 337ms\tremaining: 166ms\n",
            "67:\tlearn: 0.9323563\ttotal: 344ms\tremaining: 162ms\n",
            "68:\tlearn: 0.9334837\ttotal: 352ms\tremaining: 158ms\n",
            "69:\tlearn: 0.9346110\ttotal: 359ms\tremaining: 154ms\n",
            "70:\tlearn: 0.9334837\ttotal: 367ms\tremaining: 150ms\n",
            "71:\tlearn: 0.9346110\ttotal: 374ms\tremaining: 146ms\n",
            "72:\tlearn: 0.9357384\ttotal: 382ms\tremaining: 141ms\n",
            "73:\tlearn: 0.9357384\ttotal: 396ms\tremaining: 139ms\n",
            "74:\tlearn: 0.9346110\ttotal: 399ms\tremaining: 133ms\n",
            "75:\tlearn: 0.9357384\ttotal: 401ms\tremaining: 127ms\n",
            "76:\tlearn: 0.9357384\ttotal: 404ms\tremaining: 121ms\n",
            "77:\tlearn: 0.9357384\ttotal: 406ms\tremaining: 115ms\n",
            "78:\tlearn: 0.9368658\ttotal: 409ms\tremaining: 109ms\n",
            "79:\tlearn: 0.9368658\ttotal: 411ms\tremaining: 103ms\n",
            "80:\tlearn: 0.9357384\ttotal: 413ms\tremaining: 96.8ms\n",
            "81:\tlearn: 0.9368658\ttotal: 415ms\tremaining: 91.1ms\n",
            "82:\tlearn: 0.9368658\ttotal: 418ms\tremaining: 85.6ms\n",
            "83:\tlearn: 0.9391206\ttotal: 421ms\tremaining: 80.2ms\n",
            "84:\tlearn: 0.9391206\ttotal: 424ms\tremaining: 74.8ms\n",
            "85:\tlearn: 0.9379932\ttotal: 426ms\tremaining: 69.4ms\n",
            "86:\tlearn: 0.9391206\ttotal: 429ms\tremaining: 64.1ms\n",
            "87:\tlearn: 0.9391206\ttotal: 431ms\tremaining: 58.8ms\n",
            "88:\tlearn: 0.9402480\ttotal: 440ms\tremaining: 54.4ms\n",
            "89:\tlearn: 0.9413754\ttotal: 446ms\tremaining: 49.5ms\n",
            "90:\tlearn: 0.9402480\ttotal: 448ms\tremaining: 44.3ms\n",
            "91:\tlearn: 0.9425028\ttotal: 450ms\tremaining: 39.2ms\n",
            "92:\tlearn: 0.9425028\ttotal: 453ms\tremaining: 34.1ms\n",
            "93:\tlearn: 0.9436302\ttotal: 455ms\tremaining: 29.1ms\n",
            "94:\tlearn: 0.9436302\ttotal: 458ms\tremaining: 24.1ms\n",
            "95:\tlearn: 0.9436302\ttotal: 459ms\tremaining: 19.1ms\n",
            "96:\tlearn: 0.9436302\ttotal: 461ms\tremaining: 14.3ms\n",
            "97:\tlearn: 0.9436302\ttotal: 464ms\tremaining: 9.47ms\n",
            "98:\tlearn: 0.9436302\ttotal: 466ms\tremaining: 4.71ms\n",
            "99:\tlearn: 0.9436302\ttotal: 469ms\tremaining: 0us\n",
            "0:\tlearn: 0.8714769\ttotal: 5.63ms\tremaining: 557ms\n",
            "1:\tlearn: 0.8793687\ttotal: 11.4ms\tremaining: 560ms\n",
            "2:\tlearn: 0.8850056\ttotal: 15.7ms\tremaining: 507ms\n",
            "3:\tlearn: 0.8883878\ttotal: 67.5ms\tremaining: 1.62s\n",
            "4:\tlearn: 0.8782413\ttotal: 69.7ms\tremaining: 1.32s\n",
            "5:\tlearn: 0.8782413\ttotal: 72ms\tremaining: 1.13s\n",
            "6:\tlearn: 0.8771139\ttotal: 74ms\tremaining: 983ms\n",
            "7:\tlearn: 0.8793687\ttotal: 95.8ms\tremaining: 1.1s\n",
            "8:\tlearn: 0.8782413\ttotal: 110ms\tremaining: 1.11s\n",
            "9:\tlearn: 0.8816234\ttotal: 123ms\tremaining: 1.11s\n",
            "10:\tlearn: 0.8793687\ttotal: 130ms\tremaining: 1.05s\n",
            "11:\tlearn: 0.8816234\ttotal: 142ms\tremaining: 1.04s\n",
            "12:\tlearn: 0.8827508\ttotal: 153ms\tremaining: 1.03s\n",
            "13:\tlearn: 0.8850056\ttotal: 156ms\tremaining: 956ms\n",
            "14:\tlearn: 0.8838782\ttotal: 169ms\tremaining: 955ms\n",
            "15:\tlearn: 0.8861330\ttotal: 175ms\tremaining: 921ms\n",
            "16:\tlearn: 0.8838782\ttotal: 181ms\tremaining: 886ms\n",
            "17:\tlearn: 0.8883878\ttotal: 185ms\tremaining: 841ms\n",
            "18:\tlearn: 0.8895152\ttotal: 190ms\tremaining: 810ms\n",
            "19:\tlearn: 0.8917700\ttotal: 193ms\tremaining: 773ms\n",
            "20:\tlearn: 0.8917700\ttotal: 199ms\tremaining: 750ms\n",
            "21:\tlearn: 0.8928974\ttotal: 210ms\tremaining: 745ms\n",
            "22:\tlearn: 0.8951522\ttotal: 217ms\tremaining: 726ms\n",
            "23:\tlearn: 0.8974070\ttotal: 223ms\tremaining: 707ms\n",
            "24:\tlearn: 0.8974070\ttotal: 239ms\tremaining: 716ms\n",
            "25:\tlearn: 0.8985344\ttotal: 243ms\tremaining: 692ms\n",
            "26:\tlearn: 0.8985344\ttotal: 250ms\tremaining: 676ms\n",
            "27:\tlearn: 0.9007892\ttotal: 257ms\tremaining: 662ms\n",
            "28:\tlearn: 0.9019166\ttotal: 278ms\tremaining: 680ms\n",
            "29:\tlearn: 0.9030440\ttotal: 289ms\tremaining: 674ms\n",
            "30:\tlearn: 0.9030440\ttotal: 303ms\tremaining: 675ms\n",
            "31:\tlearn: 0.9052988\ttotal: 322ms\tremaining: 684ms\n",
            "32:\tlearn: 0.9052988\ttotal: 329ms\tremaining: 667ms\n",
            "33:\tlearn: 0.9075536\ttotal: 342ms\tremaining: 663ms\n",
            "34:\tlearn: 0.9109357\ttotal: 349ms\tremaining: 648ms\n",
            "35:\tlearn: 0.9120631\ttotal: 361ms\tremaining: 641ms\n",
            "36:\tlearn: 0.9109357\ttotal: 370ms\tremaining: 630ms\n",
            "37:\tlearn: 0.9120631\ttotal: 385ms\tremaining: 628ms\n",
            "38:\tlearn: 0.9109357\ttotal: 406ms\tremaining: 635ms\n",
            "39:\tlearn: 0.9131905\ttotal: 408ms\tremaining: 612ms\n",
            "40:\tlearn: 0.9131905\ttotal: 411ms\tremaining: 591ms\n",
            "41:\tlearn: 0.9143179\ttotal: 442ms\tremaining: 610ms\n",
            "42:\tlearn: 0.9143179\ttotal: 452ms\tremaining: 599ms\n",
            "43:\tlearn: 0.9165727\ttotal: 474ms\tremaining: 604ms\n",
            "44:\tlearn: 0.9165727\ttotal: 485ms\tremaining: 593ms\n",
            "45:\tlearn: 0.9188275\ttotal: 495ms\tremaining: 581ms\n",
            "46:\tlearn: 0.9210823\ttotal: 500ms\tremaining: 564ms\n",
            "47:\tlearn: 0.9222097\ttotal: 513ms\tremaining: 556ms\n",
            "48:\tlearn: 0.9188275\ttotal: 516ms\tremaining: 537ms\n",
            "49:\tlearn: 0.9199549\ttotal: 519ms\tremaining: 519ms\n",
            "50:\tlearn: 0.9210823\ttotal: 527ms\tremaining: 506ms\n",
            "51:\tlearn: 0.9199549\ttotal: 530ms\tremaining: 489ms\n",
            "52:\tlearn: 0.9210823\ttotal: 538ms\tremaining: 477ms\n",
            "53:\tlearn: 0.9188275\ttotal: 541ms\tremaining: 461ms\n",
            "54:\tlearn: 0.9199549\ttotal: 549ms\tremaining: 449ms\n",
            "55:\tlearn: 0.9222097\ttotal: 552ms\tremaining: 434ms\n",
            "56:\tlearn: 0.9222097\ttotal: 557ms\tremaining: 420ms\n",
            "57:\tlearn: 0.9222097\ttotal: 563ms\tremaining: 408ms\n",
            "58:\tlearn: 0.9222097\ttotal: 566ms\tremaining: 394ms\n",
            "59:\tlearn: 0.9233371\ttotal: 571ms\tremaining: 381ms\n",
            "60:\tlearn: 0.9267193\ttotal: 578ms\tremaining: 369ms\n",
            "61:\tlearn: 0.9255919\ttotal: 585ms\tremaining: 359ms\n",
            "62:\tlearn: 0.9267193\ttotal: 590ms\tremaining: 347ms\n",
            "63:\tlearn: 0.9255919\ttotal: 595ms\tremaining: 335ms\n",
            "64:\tlearn: 0.9267193\ttotal: 603ms\tremaining: 325ms\n",
            "65:\tlearn: 0.9267193\ttotal: 611ms\tremaining: 315ms\n",
            "66:\tlearn: 0.9267193\ttotal: 620ms\tremaining: 306ms\n",
            "67:\tlearn: 0.9278467\ttotal: 629ms\tremaining: 296ms\n",
            "68:\tlearn: 0.9267193\ttotal: 638ms\tremaining: 287ms\n",
            "69:\tlearn: 0.9267193\ttotal: 642ms\tremaining: 275ms\n",
            "70:\tlearn: 0.9267193\ttotal: 653ms\tremaining: 267ms\n",
            "71:\tlearn: 0.9278467\ttotal: 670ms\tremaining: 260ms\n",
            "72:\tlearn: 0.9289741\ttotal: 676ms\tremaining: 250ms\n",
            "73:\tlearn: 0.9278467\ttotal: 682ms\tremaining: 240ms\n",
            "74:\tlearn: 0.9278467\ttotal: 690ms\tremaining: 230ms\n",
            "75:\tlearn: 0.9301015\ttotal: 697ms\tremaining: 220ms\n",
            "76:\tlearn: 0.9312289\ttotal: 702ms\tremaining: 210ms\n",
            "77:\tlearn: 0.9312289\ttotal: 709ms\tremaining: 200ms\n",
            "78:\tlearn: 0.9312289\ttotal: 718ms\tremaining: 191ms\n",
            "79:\tlearn: 0.9323563\ttotal: 725ms\tremaining: 181ms\n",
            "80:\tlearn: 0.9334837\ttotal: 733ms\tremaining: 172ms\n",
            "81:\tlearn: 0.9323563\ttotal: 740ms\tremaining: 162ms\n",
            "82:\tlearn: 0.9323563\ttotal: 748ms\tremaining: 153ms\n",
            "83:\tlearn: 0.9323563\ttotal: 762ms\tremaining: 145ms\n",
            "84:\tlearn: 0.9323563\ttotal: 770ms\tremaining: 136ms\n",
            "85:\tlearn: 0.9323563\ttotal: 783ms\tremaining: 128ms\n",
            "86:\tlearn: 0.9323563\ttotal: 788ms\tremaining: 118ms\n",
            "87:\tlearn: 0.9323563\ttotal: 795ms\tremaining: 108ms\n",
            "88:\tlearn: 0.9323563\ttotal: 803ms\tremaining: 99.2ms\n",
            "89:\tlearn: 0.9334837\ttotal: 812ms\tremaining: 90.2ms\n",
            "90:\tlearn: 0.9334837\ttotal: 821ms\tremaining: 81.2ms\n",
            "91:\tlearn: 0.9334837\ttotal: 825ms\tremaining: 71.7ms\n",
            "92:\tlearn: 0.9323563\ttotal: 833ms\tremaining: 62.7ms\n",
            "93:\tlearn: 0.9323563\ttotal: 842ms\tremaining: 53.7ms\n",
            "94:\tlearn: 0.9323563\ttotal: 860ms\tremaining: 45.3ms\n",
            "95:\tlearn: 0.9346110\ttotal: 872ms\tremaining: 36.3ms\n",
            "96:\tlearn: 0.9346110\ttotal: 878ms\tremaining: 27.2ms\n",
            "97:\tlearn: 0.9346110\ttotal: 886ms\tremaining: 18.1ms\n",
            "98:\tlearn: 0.9346110\ttotal: 893ms\tremaining: 9.02ms\n",
            "99:\tlearn: 0.9334837\ttotal: 898ms\tremaining: 0us\n",
            "0:\tlearn: 0.8726043\ttotal: 6.1ms\tremaining: 604ms\n",
            "1:\tlearn: 0.8782413\ttotal: 10.7ms\tremaining: 525ms\n",
            "2:\tlearn: 0.8759865\ttotal: 18.1ms\tremaining: 585ms\n",
            "3:\tlearn: 0.8759865\ttotal: 25.6ms\tremaining: 614ms\n",
            "4:\tlearn: 0.8680947\ttotal: 30.2ms\tremaining: 574ms\n",
            "5:\tlearn: 0.8726043\ttotal: 32.3ms\tremaining: 506ms\n",
            "6:\tlearn: 0.8714769\ttotal: 34.3ms\tremaining: 456ms\n",
            "7:\tlearn: 0.8782413\ttotal: 41.9ms\tremaining: 482ms\n",
            "8:\tlearn: 0.8793687\ttotal: 46.3ms\tremaining: 468ms\n",
            "9:\tlearn: 0.8737317\ttotal: 50.8ms\tremaining: 457ms\n",
            "10:\tlearn: 0.8748591\ttotal: 57ms\tremaining: 461ms\n",
            "11:\tlearn: 0.8782413\ttotal: 61.8ms\tremaining: 453ms\n",
            "12:\tlearn: 0.8782413\ttotal: 89.3ms\tremaining: 598ms\n",
            "13:\tlearn: 0.8782413\ttotal: 95ms\tremaining: 583ms\n",
            "14:\tlearn: 0.8850056\ttotal: 98.8ms\tremaining: 560ms\n",
            "15:\tlearn: 0.8827508\ttotal: 112ms\tremaining: 589ms\n",
            "16:\tlearn: 0.8850056\ttotal: 126ms\tremaining: 615ms\n",
            "17:\tlearn: 0.8883878\ttotal: 131ms\tremaining: 597ms\n",
            "18:\tlearn: 0.8928974\ttotal: 141ms\tremaining: 603ms\n",
            "19:\tlearn: 0.8940248\ttotal: 145ms\tremaining: 579ms\n",
            "20:\tlearn: 0.8974070\ttotal: 151ms\tremaining: 568ms\n",
            "21:\tlearn: 0.8962796\ttotal: 158ms\tremaining: 561ms\n",
            "22:\tlearn: 0.8974070\ttotal: 166ms\tremaining: 555ms\n",
            "23:\tlearn: 0.8962796\ttotal: 174ms\tremaining: 550ms\n",
            "24:\tlearn: 0.8985344\ttotal: 181ms\tremaining: 544ms\n",
            "25:\tlearn: 0.9041714\ttotal: 189ms\tremaining: 537ms\n",
            "26:\tlearn: 0.9007892\ttotal: 193ms\tremaining: 523ms\n",
            "27:\tlearn: 0.9052988\ttotal: 198ms\tremaining: 509ms\n",
            "28:\tlearn: 0.9075536\ttotal: 205ms\tremaining: 503ms\n",
            "29:\tlearn: 0.9120631\ttotal: 213ms\tremaining: 496ms\n",
            "30:\tlearn: 0.9109357\ttotal: 223ms\tremaining: 496ms\n",
            "31:\tlearn: 0.9120631\ttotal: 227ms\tremaining: 483ms\n",
            "32:\tlearn: 0.9143179\ttotal: 237ms\tremaining: 482ms\n",
            "33:\tlearn: 0.9143179\ttotal: 241ms\tremaining: 469ms\n",
            "34:\tlearn: 0.9143179\ttotal: 249ms\tremaining: 462ms\n",
            "35:\tlearn: 0.9143179\ttotal: 256ms\tremaining: 455ms\n",
            "36:\tlearn: 0.9165727\ttotal: 267ms\tremaining: 455ms\n",
            "37:\tlearn: 0.9154453\ttotal: 274ms\tremaining: 447ms\n",
            "38:\tlearn: 0.9154453\ttotal: 278ms\tremaining: 435ms\n",
            "39:\tlearn: 0.9188275\ttotal: 285ms\tremaining: 428ms\n",
            "40:\tlearn: 0.9199549\ttotal: 295ms\tremaining: 425ms\n",
            "41:\tlearn: 0.9199549\ttotal: 300ms\tremaining: 414ms\n",
            "42:\tlearn: 0.9233371\ttotal: 307ms\tremaining: 407ms\n",
            "43:\tlearn: 0.9267193\ttotal: 316ms\tremaining: 402ms\n",
            "44:\tlearn: 0.9233371\ttotal: 317ms\tremaining: 388ms\n",
            "45:\tlearn: 0.9222097\ttotal: 322ms\tremaining: 378ms\n",
            "46:\tlearn: 0.9222097\ttotal: 326ms\tremaining: 368ms\n",
            "47:\tlearn: 0.9233371\ttotal: 329ms\tremaining: 356ms\n",
            "48:\tlearn: 0.9233371\ttotal: 331ms\tremaining: 345ms\n",
            "49:\tlearn: 0.9222097\ttotal: 334ms\tremaining: 334ms\n",
            "50:\tlearn: 0.9233371\ttotal: 337ms\tremaining: 324ms\n",
            "51:\tlearn: 0.9244645\ttotal: 340ms\tremaining: 314ms\n",
            "52:\tlearn: 0.9267193\ttotal: 343ms\tremaining: 304ms\n",
            "53:\tlearn: 0.9289741\ttotal: 351ms\tremaining: 299ms\n",
            "54:\tlearn: 0.9278467\ttotal: 354ms\tremaining: 290ms\n",
            "55:\tlearn: 0.9278467\ttotal: 357ms\tremaining: 280ms\n",
            "56:\tlearn: 0.9278467\ttotal: 361ms\tremaining: 272ms\n",
            "57:\tlearn: 0.9267193\ttotal: 365ms\tremaining: 264ms\n",
            "58:\tlearn: 0.9267193\ttotal: 370ms\tremaining: 257ms\n",
            "59:\tlearn: 0.9267193\ttotal: 373ms\tremaining: 249ms\n",
            "60:\tlearn: 0.9267193\ttotal: 376ms\tremaining: 240ms\n",
            "61:\tlearn: 0.9255919\ttotal: 378ms\tremaining: 232ms\n",
            "62:\tlearn: 0.9267193\ttotal: 381ms\tremaining: 224ms\n",
            "63:\tlearn: 0.9278467\ttotal: 384ms\tremaining: 216ms\n",
            "64:\tlearn: 0.9278467\ttotal: 387ms\tremaining: 208ms\n",
            "65:\tlearn: 0.9278467\ttotal: 389ms\tremaining: 201ms\n",
            "66:\tlearn: 0.9289741\ttotal: 392ms\tremaining: 193ms\n",
            "67:\tlearn: 0.9312289\ttotal: 395ms\tremaining: 186ms\n",
            "68:\tlearn: 0.9323563\ttotal: 398ms\tremaining: 179ms\n",
            "69:\tlearn: 0.9334837\ttotal: 401ms\tremaining: 172ms\n",
            "70:\tlearn: 0.9334837\ttotal: 404ms\tremaining: 165ms\n",
            "71:\tlearn: 0.9334837\ttotal: 406ms\tremaining: 158ms\n",
            "72:\tlearn: 0.9334837\ttotal: 409ms\tremaining: 151ms\n",
            "73:\tlearn: 0.9357384\ttotal: 413ms\tremaining: 145ms\n",
            "74:\tlearn: 0.9346110\ttotal: 415ms\tremaining: 138ms\n",
            "75:\tlearn: 0.9346110\ttotal: 418ms\tremaining: 132ms\n",
            "76:\tlearn: 0.9357384\ttotal: 420ms\tremaining: 126ms\n",
            "77:\tlearn: 0.9346110\ttotal: 424ms\tremaining: 120ms\n",
            "78:\tlearn: 0.9346110\ttotal: 425ms\tremaining: 113ms\n",
            "79:\tlearn: 0.9357384\ttotal: 429ms\tremaining: 107ms\n",
            "80:\tlearn: 0.9357384\ttotal: 433ms\tremaining: 102ms\n",
            "81:\tlearn: 0.9357384\ttotal: 437ms\tremaining: 96ms\n",
            "82:\tlearn: 0.9368658\ttotal: 440ms\tremaining: 90.1ms\n",
            "83:\tlearn: 0.9368658\ttotal: 444ms\tremaining: 84.5ms\n",
            "84:\tlearn: 0.9368658\ttotal: 449ms\tremaining: 79.3ms\n",
            "85:\tlearn: 0.9368658\ttotal: 452ms\tremaining: 73.6ms\n",
            "86:\tlearn: 0.9368658\ttotal: 455ms\tremaining: 68ms\n",
            "87:\tlearn: 0.9368658\ttotal: 458ms\tremaining: 62.4ms\n",
            "88:\tlearn: 0.9368658\ttotal: 461ms\tremaining: 57ms\n",
            "89:\tlearn: 0.9368658\ttotal: 464ms\tremaining: 51.5ms\n",
            "90:\tlearn: 0.9402480\ttotal: 466ms\tremaining: 46.1ms\n",
            "91:\tlearn: 0.9402480\ttotal: 467ms\tremaining: 40.6ms\n",
            "92:\tlearn: 0.9391206\ttotal: 470ms\tremaining: 35.3ms\n",
            "93:\tlearn: 0.9379932\ttotal: 472ms\tremaining: 30.1ms\n",
            "94:\tlearn: 0.9379932\ttotal: 476ms\tremaining: 25ms\n",
            "95:\tlearn: 0.9357384\ttotal: 478ms\tremaining: 19.9ms\n",
            "96:\tlearn: 0.9357384\ttotal: 480ms\tremaining: 14.9ms\n",
            "97:\tlearn: 0.9379932\ttotal: 483ms\tremaining: 9.85ms\n",
            "98:\tlearn: 0.9391206\ttotal: 485ms\tremaining: 4.9ms\n",
            "99:\tlearn: 0.9379932\ttotal: 489ms\tremaining: 0us\n",
            "0:\tlearn: 0.8590755\ttotal: 13.6ms\tremaining: 1.35s\n",
            "1:\tlearn: 0.8974070\ttotal: 25.6ms\tremaining: 1.25s\n",
            "2:\tlearn: 0.8962796\ttotal: 30.2ms\tremaining: 975ms\n",
            "3:\tlearn: 0.8928974\ttotal: 32.7ms\tremaining: 786ms\n",
            "4:\tlearn: 0.8827508\ttotal: 33.6ms\tremaining: 639ms\n",
            "5:\tlearn: 0.8883878\ttotal: 36.9ms\tremaining: 578ms\n",
            "6:\tlearn: 0.8974070\ttotal: 39.4ms\tremaining: 523ms\n",
            "7:\tlearn: 0.8974070\ttotal: 41.8ms\tremaining: 481ms\n",
            "8:\tlearn: 0.8996618\ttotal: 44.3ms\tremaining: 448ms\n",
            "9:\tlearn: 0.9019166\ttotal: 46.8ms\tremaining: 422ms\n",
            "10:\tlearn: 0.8974070\ttotal: 49.3ms\tremaining: 399ms\n",
            "11:\tlearn: 0.9041714\ttotal: 52.2ms\tremaining: 382ms\n",
            "12:\tlearn: 0.9019166\ttotal: 54.8ms\tremaining: 367ms\n",
            "13:\tlearn: 0.9019166\ttotal: 58.2ms\tremaining: 358ms\n",
            "14:\tlearn: 0.9030440\ttotal: 61.9ms\tremaining: 351ms\n",
            "15:\tlearn: 0.9019166\ttotal: 65.6ms\tremaining: 344ms\n",
            "16:\tlearn: 0.9041714\ttotal: 68.4ms\tremaining: 334ms\n",
            "17:\tlearn: 0.9041714\ttotal: 79.4ms\tremaining: 362ms\n",
            "18:\tlearn: 0.8985344\ttotal: 80.4ms\tremaining: 343ms\n",
            "19:\tlearn: 0.9019166\ttotal: 82.9ms\tremaining: 332ms\n",
            "20:\tlearn: 0.8996618\ttotal: 85.3ms\tremaining: 321ms\n",
            "21:\tlearn: 0.9019166\ttotal: 87.8ms\tremaining: 311ms\n",
            "22:\tlearn: 0.9064262\ttotal: 90.6ms\tremaining: 303ms\n",
            "23:\tlearn: 0.9109357\ttotal: 94.2ms\tremaining: 298ms\n",
            "24:\tlearn: 0.9120631\ttotal: 97.6ms\tremaining: 293ms\n",
            "25:\tlearn: 0.9109357\ttotal: 101ms\tremaining: 288ms\n",
            "26:\tlearn: 0.9075536\ttotal: 102ms\tremaining: 275ms\n",
            "27:\tlearn: 0.9109357\ttotal: 105ms\tremaining: 269ms\n",
            "28:\tlearn: 0.9109357\ttotal: 107ms\tremaining: 262ms\n",
            "29:\tlearn: 0.9120631\ttotal: 110ms\tremaining: 256ms\n",
            "30:\tlearn: 0.9109357\ttotal: 111ms\tremaining: 246ms\n",
            "31:\tlearn: 0.9098083\ttotal: 113ms\tremaining: 241ms\n",
            "32:\tlearn: 0.9131905\ttotal: 117ms\tremaining: 237ms\n",
            "33:\tlearn: 0.9143179\ttotal: 126ms\tremaining: 245ms\n",
            "34:\tlearn: 0.9154453\ttotal: 136ms\tremaining: 252ms\n",
            "35:\tlearn: 0.9154453\ttotal: 138ms\tremaining: 246ms\n",
            "36:\tlearn: 0.9199549\ttotal: 141ms\tremaining: 240ms\n",
            "37:\tlearn: 0.9199549\ttotal: 143ms\tremaining: 234ms\n",
            "38:\tlearn: 0.9233371\ttotal: 146ms\tremaining: 229ms\n",
            "39:\tlearn: 0.9233371\ttotal: 149ms\tremaining: 223ms\n",
            "40:\tlearn: 0.9233371\ttotal: 151ms\tremaining: 217ms\n",
            "41:\tlearn: 0.9244645\ttotal: 153ms\tremaining: 212ms\n",
            "42:\tlearn: 0.9244645\ttotal: 156ms\tremaining: 207ms\n",
            "43:\tlearn: 0.9244645\ttotal: 159ms\tremaining: 203ms\n",
            "44:\tlearn: 0.9255919\ttotal: 162ms\tremaining: 198ms\n",
            "45:\tlearn: 0.9267193\ttotal: 164ms\tremaining: 193ms\n",
            "46:\tlearn: 0.9301015\ttotal: 167ms\tremaining: 188ms\n",
            "47:\tlearn: 0.9289741\ttotal: 170ms\tremaining: 185ms\n",
            "48:\tlearn: 0.9289741\ttotal: 174ms\tremaining: 181ms\n",
            "49:\tlearn: 0.9278467\ttotal: 177ms\tremaining: 177ms\n",
            "50:\tlearn: 0.9289741\ttotal: 180ms\tremaining: 173ms\n",
            "51:\tlearn: 0.9301015\ttotal: 182ms\tremaining: 168ms\n",
            "52:\tlearn: 0.9301015\ttotal: 185ms\tremaining: 164ms\n",
            "53:\tlearn: 0.9334837\ttotal: 188ms\tremaining: 160ms\n",
            "54:\tlearn: 0.9334837\ttotal: 192ms\tremaining: 157ms\n",
            "55:\tlearn: 0.9323563\ttotal: 205ms\tremaining: 161ms\n",
            "56:\tlearn: 0.9323563\ttotal: 222ms\tremaining: 167ms\n",
            "57:\tlearn: 0.9334837\ttotal: 233ms\tremaining: 169ms\n",
            "58:\tlearn: 0.9334837\ttotal: 243ms\tremaining: 169ms\n",
            "59:\tlearn: 0.9334837\ttotal: 246ms\tremaining: 164ms\n",
            "60:\tlearn: 0.9323563\ttotal: 249ms\tremaining: 159ms\n",
            "61:\tlearn: 0.9323563\ttotal: 252ms\tremaining: 154ms\n",
            "62:\tlearn: 0.9323563\ttotal: 255ms\tremaining: 150ms\n",
            "63:\tlearn: 0.9323563\ttotal: 257ms\tremaining: 145ms\n",
            "64:\tlearn: 0.9334837\ttotal: 266ms\tremaining: 143ms\n",
            "65:\tlearn: 0.9323563\ttotal: 278ms\tremaining: 143ms\n",
            "66:\tlearn: 0.9334837\ttotal: 290ms\tremaining: 143ms\n",
            "67:\tlearn: 0.9334837\ttotal: 300ms\tremaining: 141ms\n",
            "68:\tlearn: 0.9334837\ttotal: 310ms\tremaining: 139ms\n",
            "69:\tlearn: 0.9323563\ttotal: 316ms\tremaining: 135ms\n",
            "70:\tlearn: 0.9323563\ttotal: 324ms\tremaining: 132ms\n",
            "71:\tlearn: 0.9334837\ttotal: 334ms\tremaining: 130ms\n",
            "72:\tlearn: 0.9334837\ttotal: 349ms\tremaining: 129ms\n",
            "73:\tlearn: 0.9334837\ttotal: 354ms\tremaining: 124ms\n",
            "74:\tlearn: 0.9334837\ttotal: 361ms\tremaining: 120ms\n",
            "75:\tlearn: 0.9334837\ttotal: 378ms\tremaining: 119ms\n",
            "76:\tlearn: 0.9334837\ttotal: 382ms\tremaining: 114ms\n",
            "77:\tlearn: 0.9346110\ttotal: 393ms\tremaining: 111ms\n",
            "78:\tlearn: 0.9357384\ttotal: 400ms\tremaining: 106ms\n",
            "79:\tlearn: 0.9357384\ttotal: 412ms\tremaining: 103ms\n",
            "80:\tlearn: 0.9346110\ttotal: 415ms\tremaining: 97.3ms\n",
            "81:\tlearn: 0.9346110\ttotal: 417ms\tremaining: 91.6ms\n",
            "82:\tlearn: 0.9357384\ttotal: 420ms\tremaining: 86ms\n",
            "83:\tlearn: 0.9357384\ttotal: 422ms\tremaining: 80.4ms\n",
            "84:\tlearn: 0.9357384\ttotal: 425ms\tremaining: 74.9ms\n",
            "85:\tlearn: 0.9357384\ttotal: 430ms\tremaining: 70ms\n",
            "86:\tlearn: 0.9346110\ttotal: 440ms\tremaining: 65.7ms\n",
            "87:\tlearn: 0.9346110\ttotal: 441ms\tremaining: 60.1ms\n",
            "88:\tlearn: 0.9346110\ttotal: 442ms\tremaining: 54.6ms\n",
            "89:\tlearn: 0.9346110\ttotal: 444ms\tremaining: 49.4ms\n",
            "90:\tlearn: 0.9346110\ttotal: 448ms\tremaining: 44.3ms\n",
            "91:\tlearn: 0.9346110\ttotal: 464ms\tremaining: 40.3ms\n",
            "92:\tlearn: 0.9346110\ttotal: 471ms\tremaining: 35.5ms\n",
            "93:\tlearn: 0.9357384\ttotal: 475ms\tremaining: 30.3ms\n",
            "94:\tlearn: 0.9357384\ttotal: 478ms\tremaining: 25.2ms\n",
            "95:\tlearn: 0.9346110\ttotal: 485ms\tremaining: 20.2ms\n",
            "96:\tlearn: 0.9346110\ttotal: 494ms\tremaining: 15.3ms\n",
            "97:\tlearn: 0.9346110\ttotal: 497ms\tremaining: 10.1ms\n",
            "98:\tlearn: 0.9346110\ttotal: 500ms\tremaining: 5.05ms\n",
            "99:\tlearn: 0.9357384\ttotal: 510ms\tremaining: 0us\n",
            "Acurácia Média: 88.00%\n"
          ]
        }
      ]
    },
    {
      "cell_type": "markdown",
      "source": [
        "Naive Bayes = 84,78% (treino e teste) - 234 acertos e 85,17% (validação cruzada) : previsores3_esc\n",
        "\n",
        "SVM = 86,23% - 238 acertos e 85,72% (validação cruzada) : previsores3-esc - SVC(kernel='rbf', random_state=1, C = 2)\n",
        "\n",
        "Regressão logística = 86,23% - 238 acertos e 85,83% (validação cruzada) : previsores3_esc - LogisticRegression(random_state=1, max_iter=600, penalty=\"l2\", tol=0.0001, C=1,solver=\"lbfgs\")\n",
        "\n",
        "KNN = 84,06% - 232 acertos e 85,84% (validação cruzada) : previsores3_esc ou previsores_esc - KNeighborsClassifier(n_neighbors=7, metric='minkowski', p = 1)\n",
        "\n",
        "Árvore de decisão = 83,7% (treino e teste) - 231 acertos e 83,32% (validação cruzada): previsores3_esc - DecisionTreeClassifier(criterion='entropy', random_state = 0, max_depth=3)\n",
        "\n",
        "Random Forest = 86,59% - 239 acertos e 85,92% (validação cruzada) : previsores - RandomForestClassifier(n_estimators=150, criterion='entropy', random_state = 0, max_depth=4)\n",
        "\n",
        "**XGboost = 87,68% - 242 acertos e 87,13% (validação cruzada) : previsores - XGBClassifier(max_depth=2, learning_rate=0.05, n_estimators=250, objective='binary:logistic', random_state=3)**\n",
        "\n",
        "LightGBM = 86,23% (treino e teste)- 238 acertos e 85,93% (validação cruzada) : previsores - lgb.LGBMClassifier(num_leaves = 250, objective = 'binary',  max_depth = 2, learning_rate = .05, max_bin =100)\n",
        "\n",
        "CatBoost = 86,96% (treino e teste) previsores4 - 240 acertos e 88% (validação cruzada com previsores) - CatBoostClassifier(task_type='CPU', iterations=100, learning_rate=0.1, depth = 8, random_state = 5, eval_metric=\"Accuracy\")"
      ],
      "metadata": {
        "id": "gco4qH1qUChe"
      }
    },
    {
      "cell_type": "markdown",
      "source": [
        "# **Salvando dados para Deploy**"
      ],
      "metadata": {
        "id": "-SI78UagmLD7"
      }
    },
    {
      "cell_type": "code",
      "metadata": {
        "id": "LNMNKr4TmLD8",
        "colab": {
          "base_uri": "https://localhost:8080/"
        },
        "outputId": "541d9659-ebdf-44c5-9797-da1b037832d4"
      },
      "source": [
        "previsores"
      ],
      "execution_count": 221,
      "outputs": [
        {
          "output_type": "execute_result",
          "data": {
            "text/plain": [
              "array([[40. ,  0. ,  1. , ...,  0. ,  0. ,  0. ],\n",
              "       [49. ,  1. ,  2. , ...,  0. ,  1. ,  1. ],\n",
              "       [37. ,  0. ,  1. , ...,  0. ,  0. ,  0. ],\n",
              "       ...,\n",
              "       [57. ,  0. ,  3. , ...,  1. ,  1.2,  1. ],\n",
              "       [57. ,  1. ,  1. , ...,  0. ,  0. ,  1. ],\n",
              "       [38. ,  0. ,  2. , ...,  0. ,  0. ,  0. ]])"
            ]
          },
          "metadata": {},
          "execution_count": 221
        }
      ]
    },
    {
      "cell_type": "code",
      "source": [
        "alvo"
      ],
      "metadata": {
        "id": "isSCWsMPDdw6",
        "colab": {
          "base_uri": "https://localhost:8080/"
        },
        "outputId": "56f5db07-7e3c-4cde-9145-3cf8b7745d9d"
      },
      "execution_count": 222,
      "outputs": [
        {
          "output_type": "execute_result",
          "data": {
            "text/plain": [
              "array([0, 1, 0, 1, 0, 0, 0, 0, 1, 0, 0, 1, 0, 1, 0, 0, 1, 0, 1, 1, 0, 0,\n",
              "       0, 1, 0, 0, 0, 0, 0, 0, 1, 0, 1, 1, 0, 0, 1, 0, 0, 0, 0, 1, 0, 0,\n",
              "       1, 0, 0, 0, 0, 1, 1, 1, 0, 0, 0, 0, 1, 1, 0, 1, 0, 0, 0, 1, 0, 0,\n",
              "       0, 0, 1, 0, 1, 0, 1, 0, 1, 0, 1, 0, 0, 1, 0, 0, 1, 0, 1, 1, 1, 0,\n",
              "       1, 0, 0, 0, 0, 1, 0, 1, 0, 0, 0, 0, 1, 0, 1, 1, 1, 0, 0, 0, 0, 0,\n",
              "       0, 1, 0, 0, 0, 1, 1, 1, 0, 1, 1, 0, 0, 1, 0, 0, 0, 0, 0, 0, 0, 1,\n",
              "       1, 1, 0, 1, 0, 0, 1, 1, 1, 1, 1, 0, 1, 0, 0, 0, 0, 1, 0, 0, 0, 0,\n",
              "       0, 1, 1, 0, 1, 0, 1, 1, 0, 0, 0, 1, 1, 0, 0, 0, 0, 0, 0, 0, 1, 1,\n",
              "       1, 0, 0, 0, 1, 0, 1, 0, 0, 1, 0, 1, 0, 1, 0, 0, 0, 0, 0, 0, 0, 0,\n",
              "       1, 0, 0, 0, 0, 0, 0, 0, 0, 1, 0, 1, 1, 1, 0, 0, 1, 0, 1, 0, 0, 0,\n",
              "       1, 1, 0, 0, 0, 1, 0, 1, 0, 0, 0, 0, 0, 0, 0, 0, 1, 1, 1, 1, 0, 1,\n",
              "       1, 0, 1, 0, 1, 1, 1, 1, 1, 1, 0, 0, 1, 0, 0, 0, 0, 0, 0, 0, 1, 1,\n",
              "       1, 0, 1, 0, 1, 0, 0, 0, 1, 0, 0, 0, 1, 1, 0, 0, 0, 1, 0, 0, 0, 0,\n",
              "       0, 0, 0, 0, 0, 0, 0, 1, 1, 1, 1, 1, 1, 1, 1, 0, 1, 1, 1, 1, 1, 0,\n",
              "       1, 1, 0, 1, 1, 1, 0, 1, 1, 1, 1, 1, 1, 1, 1, 1, 1, 1, 0, 1, 1, 1,\n",
              "       1, 1, 0, 1, 1, 1, 0, 1, 1, 1, 1, 1, 1, 1, 1, 1, 1, 1, 1, 1, 1, 1,\n",
              "       1, 1, 1, 1, 1, 1, 1, 1, 1, 1, 1, 1, 0, 1, 1, 1, 1, 1, 1, 1, 1, 1,\n",
              "       1, 1, 1, 1, 1, 1, 1, 1, 1, 1, 1, 1, 1, 1, 1, 1, 1, 1, 1, 1, 1, 1,\n",
              "       1, 1, 1, 1, 1, 1, 1, 1, 1, 1, 1, 1, 1, 1, 1, 1, 1, 1, 1, 1, 1, 0,\n",
              "       1, 1, 0, 0, 1, 0, 1, 1, 0, 1, 1, 1, 1, 0, 1, 1, 0, 0, 1, 1, 1, 0,\n",
              "       1, 1, 1, 1, 1, 1, 1, 1, 1, 1, 1, 1, 0, 1, 0, 1, 1, 1, 0, 1, 1, 1,\n",
              "       0, 1, 0, 1, 0, 1, 0, 1, 1, 1, 1, 0, 1, 0, 1, 1, 1, 1, 1, 1, 1, 1,\n",
              "       1, 0, 1, 0, 1, 1, 1, 1, 1, 1, 1, 0, 1, 1, 1, 1, 1, 1, 0, 1, 1, 1,\n",
              "       0, 1, 1, 0, 1, 0, 1, 1, 0, 1, 1, 1, 1, 0, 1, 1, 1, 0, 0, 1, 0, 1,\n",
              "       1, 1, 1, 1, 1, 1, 1, 1, 1, 1, 0, 1, 1, 1, 1, 0, 0, 1, 1, 1, 0, 1,\n",
              "       0, 1, 1, 0, 1, 0, 1, 1, 1, 0, 0, 0, 1, 1, 1, 0, 1, 1, 1, 1, 1, 1,\n",
              "       1, 1, 1, 1, 1, 1, 1, 1, 1, 1, 0, 1, 1, 1, 0, 1, 1, 0, 0, 1, 1, 1,\n",
              "       1, 1, 0, 1, 1, 0, 1, 1, 1, 0, 0, 1, 1, 1, 1, 1, 0, 1, 0, 1, 1, 0,\n",
              "       1, 0, 0, 0, 1, 1, 1, 1, 0, 0, 0, 1, 0, 0, 1, 1, 0, 0, 1, 0, 0, 0,\n",
              "       0, 0, 0, 0, 1, 0, 1, 0, 0, 1, 1, 1, 1, 1, 0, 0, 1, 0, 0, 0, 1, 0,\n",
              "       1, 1, 1, 1, 1, 0, 0, 0, 0, 0, 1, 0, 1, 1, 0, 1, 0, 0, 0, 1, 0, 1,\n",
              "       0, 1, 1, 0, 0, 0, 0, 1, 0, 0, 0, 0, 1, 1, 1, 0, 0, 0, 0, 0, 0, 1,\n",
              "       0, 1, 1, 1, 1, 1, 0, 1, 0, 0, 0, 1, 0, 1, 1, 1, 0, 1, 1, 0, 1, 0,\n",
              "       1, 0, 0, 0, 1, 1, 0, 1, 1, 1, 1, 0, 0, 0, 1, 0, 0, 1, 1, 1, 0, 1,\n",
              "       0, 0, 0, 1, 0, 0, 1, 0, 1, 0, 1, 1, 1, 1, 1, 0, 0, 0, 0, 0, 0, 0,\n",
              "       1, 0, 0, 1, 1, 1, 0, 1, 0, 0, 0, 0, 0, 1, 0, 1, 1, 0, 0, 1, 1, 1,\n",
              "       1, 0, 0, 1, 1, 0, 0, 0, 1, 0, 0, 1, 0, 1, 0, 1, 0, 0, 0, 0, 0, 1,\n",
              "       0, 1, 1, 1, 1, 0, 0, 0, 1, 0, 1, 0, 0, 1, 0, 0, 0, 0, 0, 0, 1, 1,\n",
              "       0, 1, 0, 0, 1, 1, 0, 0, 1, 1, 0, 1, 0, 1, 0, 1, 0, 0, 1, 0, 0, 1,\n",
              "       0, 1, 1, 0, 1, 1, 1, 0, 1, 0, 0, 0, 0, 1, 1, 0, 0, 1, 1, 0, 1, 0,\n",
              "       0, 0, 0, 1, 0, 0, 1, 1, 1, 0, 0, 0, 1, 0, 1, 0, 1, 0, 1, 1, 1, 0,\n",
              "       0, 0, 1, 0, 1, 1, 1, 0, 1, 1, 1, 1, 1, 1, 0])"
            ]
          },
          "metadata": {},
          "execution_count": 222
        }
      ]
    },
    {
      "cell_type": "code",
      "source": [
        "np.savetxt('previsores.csv', previsores, delimiter=',')"
      ],
      "metadata": {
        "id": "XUYRtI5VDBXF"
      },
      "execution_count": 223,
      "outputs": []
    },
    {
      "cell_type": "code",
      "source": [
        "np.savetxt('alvo.csv', alvo, delimiter=',')"
      ],
      "metadata": {
        "id": "dd7lbPU3DQFO"
      },
      "execution_count": 224,
      "outputs": []
    }
  ]
}