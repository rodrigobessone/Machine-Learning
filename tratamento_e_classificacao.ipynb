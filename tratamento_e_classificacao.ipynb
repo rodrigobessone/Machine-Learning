{
  "nbformat": 4,
  "nbformat_minor": 0,
  "metadata": {
    "colab": {
      "provenance": [],
      "collapsed_sections": [
        "N0Eetob5Sx0f",
        "HPYrQbHighuX",
        "ut2pVC_omHqn",
        "1ZQpuChKoIcv",
        "vDwrFrswwlqk",
        "dbaymPAMUuE7",
        "rgHKXUxGavNA",
        "8NCU-rFWchrl",
        "Y_r_hwkOdjj7",
        "z6psHZDJiMCR",
        "sDeEmu-njsd0",
        "zQaIneZJv-hU",
        "XlVTyqCJsToU"
      ]
    },
    "kernelspec": {
      "name": "python3",
      "display_name": "Python 3"
    },
    "language_info": {
      "name": "python"
    }
  },
  "cells": [
    {
      "cell_type": "markdown",
      "metadata": {
        "id": "fQJ5CYV9Te0X"
      },
      "source": [
        "# **EXPLORAÇÃO, ANÁLISE E TRATAMENTO DOS DADOS: PROJETO PREVISÃO DE DOENÇA CARDÍACA**"
      ]
    },
    {
      "cell_type": "markdown",
      "metadata": {
        "id": "kXFCCsVHTtTP"
      },
      "source": [
        "Este projeto tem por objetivo desenvolver um algoritmo de Machine Learning para prever a tendência de uma pessoa desenvolver algum tipo de doença cardíaca com base em alguns fatores clínicos e laboratoriais de referência. "
      ]
    },
    {
      "cell_type": "markdown",
      "metadata": {
        "id": "5ZQ2nYhQUc3G"
      },
      "source": [
        "Os dados foram extraídos do site do Kaggle:\n",
        "\n",
        "https://www.kaggle.com/fedesoriano/heart-failure-prediction/version/1"
      ]
    },
    {
      "cell_type": "code",
      "metadata": {
        "id": "nWvIcticlCs2"
      },
      "source": [
        "import numpy as np\n",
        "import pandas as pd\n"
      ],
      "execution_count": 64,
      "outputs": []
    },
    {
      "cell_type": "code",
      "metadata": {
        "id": "LRIrwcC8kUhT"
      },
      "source": [
        "dados = pd.read_csv('heart.csv',\n",
        "                    sep=',', encoding='iso-8859-1')\n",
        "# encoding: codificação de caracteres, normalmente utiliza-se o iso-8859-1, utf-8, latin-1)"
      ],
      "execution_count": 65,
      "outputs": []
    },
    {
      "cell_type": "markdown",
      "metadata": {
        "id": "oKrNiwgYQmvK"
      },
      "source": [
        "## **Exploração dos Dados**"
      ]
    },
    {
      "cell_type": "code",
      "metadata": {
        "id": "Gol7BjFSuNs0",
        "colab": {
          "base_uri": "https://localhost:8080/",
          "height": 206
        },
        "outputId": "61528e1f-2c6c-4345-b3ac-2577bcc3155f"
      },
      "source": [
        "dados.head()"
      ],
      "execution_count": 66,
      "outputs": [
        {
          "output_type": "execute_result",
          "data": {
            "text/plain": [
              "   Age Sex ChestPainType  RestingBP  Cholesterol  FastingBS RestingECG  MaxHR  \\\n",
              "0   40   M           ATA        140          289          0     Normal    172   \n",
              "1   49   F           NAP        160          180          0     Normal    156   \n",
              "2   37   M           ATA        130          283          0         ST     98   \n",
              "3   48   F           ASY        138          214          0     Normal    108   \n",
              "4   54   M           NAP        150          195          0     Normal    122   \n",
              "\n",
              "  ExerciseAngina  Oldpeak ST_Slope  HeartDisease  \n",
              "0              N      0.0       Up             0  \n",
              "1              N      1.0     Flat             1  \n",
              "2              N      0.0       Up             0  \n",
              "3              Y      1.5     Flat             1  \n",
              "4              N      0.0       Up             0  "
            ],
            "text/html": [
              "\n",
              "  <div id=\"df-aead886a-7a03-4552-a159-2c85e84eb314\">\n",
              "    <div class=\"colab-df-container\">\n",
              "      <div>\n",
              "<style scoped>\n",
              "    .dataframe tbody tr th:only-of-type {\n",
              "        vertical-align: middle;\n",
              "    }\n",
              "\n",
              "    .dataframe tbody tr th {\n",
              "        vertical-align: top;\n",
              "    }\n",
              "\n",
              "    .dataframe thead th {\n",
              "        text-align: right;\n",
              "    }\n",
              "</style>\n",
              "<table border=\"1\" class=\"dataframe\">\n",
              "  <thead>\n",
              "    <tr style=\"text-align: right;\">\n",
              "      <th></th>\n",
              "      <th>Age</th>\n",
              "      <th>Sex</th>\n",
              "      <th>ChestPainType</th>\n",
              "      <th>RestingBP</th>\n",
              "      <th>Cholesterol</th>\n",
              "      <th>FastingBS</th>\n",
              "      <th>RestingECG</th>\n",
              "      <th>MaxHR</th>\n",
              "      <th>ExerciseAngina</th>\n",
              "      <th>Oldpeak</th>\n",
              "      <th>ST_Slope</th>\n",
              "      <th>HeartDisease</th>\n",
              "    </tr>\n",
              "  </thead>\n",
              "  <tbody>\n",
              "    <tr>\n",
              "      <th>0</th>\n",
              "      <td>40</td>\n",
              "      <td>M</td>\n",
              "      <td>ATA</td>\n",
              "      <td>140</td>\n",
              "      <td>289</td>\n",
              "      <td>0</td>\n",
              "      <td>Normal</td>\n",
              "      <td>172</td>\n",
              "      <td>N</td>\n",
              "      <td>0.0</td>\n",
              "      <td>Up</td>\n",
              "      <td>0</td>\n",
              "    </tr>\n",
              "    <tr>\n",
              "      <th>1</th>\n",
              "      <td>49</td>\n",
              "      <td>F</td>\n",
              "      <td>NAP</td>\n",
              "      <td>160</td>\n",
              "      <td>180</td>\n",
              "      <td>0</td>\n",
              "      <td>Normal</td>\n",
              "      <td>156</td>\n",
              "      <td>N</td>\n",
              "      <td>1.0</td>\n",
              "      <td>Flat</td>\n",
              "      <td>1</td>\n",
              "    </tr>\n",
              "    <tr>\n",
              "      <th>2</th>\n",
              "      <td>37</td>\n",
              "      <td>M</td>\n",
              "      <td>ATA</td>\n",
              "      <td>130</td>\n",
              "      <td>283</td>\n",
              "      <td>0</td>\n",
              "      <td>ST</td>\n",
              "      <td>98</td>\n",
              "      <td>N</td>\n",
              "      <td>0.0</td>\n",
              "      <td>Up</td>\n",
              "      <td>0</td>\n",
              "    </tr>\n",
              "    <tr>\n",
              "      <th>3</th>\n",
              "      <td>48</td>\n",
              "      <td>F</td>\n",
              "      <td>ASY</td>\n",
              "      <td>138</td>\n",
              "      <td>214</td>\n",
              "      <td>0</td>\n",
              "      <td>Normal</td>\n",
              "      <td>108</td>\n",
              "      <td>Y</td>\n",
              "      <td>1.5</td>\n",
              "      <td>Flat</td>\n",
              "      <td>1</td>\n",
              "    </tr>\n",
              "    <tr>\n",
              "      <th>4</th>\n",
              "      <td>54</td>\n",
              "      <td>M</td>\n",
              "      <td>NAP</td>\n",
              "      <td>150</td>\n",
              "      <td>195</td>\n",
              "      <td>0</td>\n",
              "      <td>Normal</td>\n",
              "      <td>122</td>\n",
              "      <td>N</td>\n",
              "      <td>0.0</td>\n",
              "      <td>Up</td>\n",
              "      <td>0</td>\n",
              "    </tr>\n",
              "  </tbody>\n",
              "</table>\n",
              "</div>\n",
              "      <button class=\"colab-df-convert\" onclick=\"convertToInteractive('df-aead886a-7a03-4552-a159-2c85e84eb314')\"\n",
              "              title=\"Convert this dataframe to an interactive table.\"\n",
              "              style=\"display:none;\">\n",
              "        \n",
              "  <svg xmlns=\"http://www.w3.org/2000/svg\" height=\"24px\"viewBox=\"0 0 24 24\"\n",
              "       width=\"24px\">\n",
              "    <path d=\"M0 0h24v24H0V0z\" fill=\"none\"/>\n",
              "    <path d=\"M18.56 5.44l.94 2.06.94-2.06 2.06-.94-2.06-.94-.94-2.06-.94 2.06-2.06.94zm-11 1L8.5 8.5l.94-2.06 2.06-.94-2.06-.94L8.5 2.5l-.94 2.06-2.06.94zm10 10l.94 2.06.94-2.06 2.06-.94-2.06-.94-.94-2.06-.94 2.06-2.06.94z\"/><path d=\"M17.41 7.96l-1.37-1.37c-.4-.4-.92-.59-1.43-.59-.52 0-1.04.2-1.43.59L10.3 9.45l-7.72 7.72c-.78.78-.78 2.05 0 2.83L4 21.41c.39.39.9.59 1.41.59.51 0 1.02-.2 1.41-.59l7.78-7.78 2.81-2.81c.8-.78.8-2.07 0-2.86zM5.41 20L4 18.59l7.72-7.72 1.47 1.35L5.41 20z\"/>\n",
              "  </svg>\n",
              "      </button>\n",
              "      \n",
              "  <style>\n",
              "    .colab-df-container {\n",
              "      display:flex;\n",
              "      flex-wrap:wrap;\n",
              "      gap: 12px;\n",
              "    }\n",
              "\n",
              "    .colab-df-convert {\n",
              "      background-color: #E8F0FE;\n",
              "      border: none;\n",
              "      border-radius: 50%;\n",
              "      cursor: pointer;\n",
              "      display: none;\n",
              "      fill: #1967D2;\n",
              "      height: 32px;\n",
              "      padding: 0 0 0 0;\n",
              "      width: 32px;\n",
              "    }\n",
              "\n",
              "    .colab-df-convert:hover {\n",
              "      background-color: #E2EBFA;\n",
              "      box-shadow: 0px 1px 2px rgba(60, 64, 67, 0.3), 0px 1px 3px 1px rgba(60, 64, 67, 0.15);\n",
              "      fill: #174EA6;\n",
              "    }\n",
              "\n",
              "    [theme=dark] .colab-df-convert {\n",
              "      background-color: #3B4455;\n",
              "      fill: #D2E3FC;\n",
              "    }\n",
              "\n",
              "    [theme=dark] .colab-df-convert:hover {\n",
              "      background-color: #434B5C;\n",
              "      box-shadow: 0px 1px 3px 1px rgba(0, 0, 0, 0.15);\n",
              "      filter: drop-shadow(0px 1px 2px rgba(0, 0, 0, 0.3));\n",
              "      fill: #FFFFFF;\n",
              "    }\n",
              "  </style>\n",
              "\n",
              "      <script>\n",
              "        const buttonEl =\n",
              "          document.querySelector('#df-aead886a-7a03-4552-a159-2c85e84eb314 button.colab-df-convert');\n",
              "        buttonEl.style.display =\n",
              "          google.colab.kernel.accessAllowed ? 'block' : 'none';\n",
              "\n",
              "        async function convertToInteractive(key) {\n",
              "          const element = document.querySelector('#df-aead886a-7a03-4552-a159-2c85e84eb314');\n",
              "          const dataTable =\n",
              "            await google.colab.kernel.invokeFunction('convertToInteractive',\n",
              "                                                     [key], {});\n",
              "          if (!dataTable) return;\n",
              "\n",
              "          const docLinkHtml = 'Like what you see? Visit the ' +\n",
              "            '<a target=\"_blank\" href=https://colab.research.google.com/notebooks/data_table.ipynb>data table notebook</a>'\n",
              "            + ' to learn more about interactive tables.';\n",
              "          element.innerHTML = '';\n",
              "          dataTable['output_type'] = 'display_data';\n",
              "          await google.colab.output.renderOutput(dataTable, element);\n",
              "          const docLink = document.createElement('div');\n",
              "          docLink.innerHTML = docLinkHtml;\n",
              "          element.appendChild(docLink);\n",
              "        }\n",
              "      </script>\n",
              "    </div>\n",
              "  </div>\n",
              "  "
            ]
          },
          "metadata": {},
          "execution_count": 66
        }
      ]
    },
    {
      "cell_type": "code",
      "source": [
        "dados.tail()"
      ],
      "metadata": {
        "id": "3JieLggiNyIz",
        "colab": {
          "base_uri": "https://localhost:8080/",
          "height": 206
        },
        "outputId": "32a261f4-99fc-4eaf-ceb4-11ce92401181"
      },
      "execution_count": 67,
      "outputs": [
        {
          "output_type": "execute_result",
          "data": {
            "text/plain": [
              "     Age Sex ChestPainType  RestingBP  Cholesterol  FastingBS RestingECG  \\\n",
              "913   45   M            TA        110          264          0     Normal   \n",
              "914   68   M           ASY        144          193          1     Normal   \n",
              "915   57   M           ASY        130          131          0     Normal   \n",
              "916   57   F           ATA        130          236          0        LVH   \n",
              "917   38   M           NAP        138          175          0     Normal   \n",
              "\n",
              "     MaxHR ExerciseAngina  Oldpeak ST_Slope  HeartDisease  \n",
              "913    132              N      1.2     Flat             1  \n",
              "914    141              N      3.4     Flat             1  \n",
              "915    115              Y      1.2     Flat             1  \n",
              "916    174              N      0.0     Flat             1  \n",
              "917    173              N      0.0       Up             0  "
            ],
            "text/html": [
              "\n",
              "  <div id=\"df-e87fd1b9-db58-4c42-8868-99a38dcfb065\">\n",
              "    <div class=\"colab-df-container\">\n",
              "      <div>\n",
              "<style scoped>\n",
              "    .dataframe tbody tr th:only-of-type {\n",
              "        vertical-align: middle;\n",
              "    }\n",
              "\n",
              "    .dataframe tbody tr th {\n",
              "        vertical-align: top;\n",
              "    }\n",
              "\n",
              "    .dataframe thead th {\n",
              "        text-align: right;\n",
              "    }\n",
              "</style>\n",
              "<table border=\"1\" class=\"dataframe\">\n",
              "  <thead>\n",
              "    <tr style=\"text-align: right;\">\n",
              "      <th></th>\n",
              "      <th>Age</th>\n",
              "      <th>Sex</th>\n",
              "      <th>ChestPainType</th>\n",
              "      <th>RestingBP</th>\n",
              "      <th>Cholesterol</th>\n",
              "      <th>FastingBS</th>\n",
              "      <th>RestingECG</th>\n",
              "      <th>MaxHR</th>\n",
              "      <th>ExerciseAngina</th>\n",
              "      <th>Oldpeak</th>\n",
              "      <th>ST_Slope</th>\n",
              "      <th>HeartDisease</th>\n",
              "    </tr>\n",
              "  </thead>\n",
              "  <tbody>\n",
              "    <tr>\n",
              "      <th>913</th>\n",
              "      <td>45</td>\n",
              "      <td>M</td>\n",
              "      <td>TA</td>\n",
              "      <td>110</td>\n",
              "      <td>264</td>\n",
              "      <td>0</td>\n",
              "      <td>Normal</td>\n",
              "      <td>132</td>\n",
              "      <td>N</td>\n",
              "      <td>1.2</td>\n",
              "      <td>Flat</td>\n",
              "      <td>1</td>\n",
              "    </tr>\n",
              "    <tr>\n",
              "      <th>914</th>\n",
              "      <td>68</td>\n",
              "      <td>M</td>\n",
              "      <td>ASY</td>\n",
              "      <td>144</td>\n",
              "      <td>193</td>\n",
              "      <td>1</td>\n",
              "      <td>Normal</td>\n",
              "      <td>141</td>\n",
              "      <td>N</td>\n",
              "      <td>3.4</td>\n",
              "      <td>Flat</td>\n",
              "      <td>1</td>\n",
              "    </tr>\n",
              "    <tr>\n",
              "      <th>915</th>\n",
              "      <td>57</td>\n",
              "      <td>M</td>\n",
              "      <td>ASY</td>\n",
              "      <td>130</td>\n",
              "      <td>131</td>\n",
              "      <td>0</td>\n",
              "      <td>Normal</td>\n",
              "      <td>115</td>\n",
              "      <td>Y</td>\n",
              "      <td>1.2</td>\n",
              "      <td>Flat</td>\n",
              "      <td>1</td>\n",
              "    </tr>\n",
              "    <tr>\n",
              "      <th>916</th>\n",
              "      <td>57</td>\n",
              "      <td>F</td>\n",
              "      <td>ATA</td>\n",
              "      <td>130</td>\n",
              "      <td>236</td>\n",
              "      <td>0</td>\n",
              "      <td>LVH</td>\n",
              "      <td>174</td>\n",
              "      <td>N</td>\n",
              "      <td>0.0</td>\n",
              "      <td>Flat</td>\n",
              "      <td>1</td>\n",
              "    </tr>\n",
              "    <tr>\n",
              "      <th>917</th>\n",
              "      <td>38</td>\n",
              "      <td>M</td>\n",
              "      <td>NAP</td>\n",
              "      <td>138</td>\n",
              "      <td>175</td>\n",
              "      <td>0</td>\n",
              "      <td>Normal</td>\n",
              "      <td>173</td>\n",
              "      <td>N</td>\n",
              "      <td>0.0</td>\n",
              "      <td>Up</td>\n",
              "      <td>0</td>\n",
              "    </tr>\n",
              "  </tbody>\n",
              "</table>\n",
              "</div>\n",
              "      <button class=\"colab-df-convert\" onclick=\"convertToInteractive('df-e87fd1b9-db58-4c42-8868-99a38dcfb065')\"\n",
              "              title=\"Convert this dataframe to an interactive table.\"\n",
              "              style=\"display:none;\">\n",
              "        \n",
              "  <svg xmlns=\"http://www.w3.org/2000/svg\" height=\"24px\"viewBox=\"0 0 24 24\"\n",
              "       width=\"24px\">\n",
              "    <path d=\"M0 0h24v24H0V0z\" fill=\"none\"/>\n",
              "    <path d=\"M18.56 5.44l.94 2.06.94-2.06 2.06-.94-2.06-.94-.94-2.06-.94 2.06-2.06.94zm-11 1L8.5 8.5l.94-2.06 2.06-.94-2.06-.94L8.5 2.5l-.94 2.06-2.06.94zm10 10l.94 2.06.94-2.06 2.06-.94-2.06-.94-.94-2.06-.94 2.06-2.06.94z\"/><path d=\"M17.41 7.96l-1.37-1.37c-.4-.4-.92-.59-1.43-.59-.52 0-1.04.2-1.43.59L10.3 9.45l-7.72 7.72c-.78.78-.78 2.05 0 2.83L4 21.41c.39.39.9.59 1.41.59.51 0 1.02-.2 1.41-.59l7.78-7.78 2.81-2.81c.8-.78.8-2.07 0-2.86zM5.41 20L4 18.59l7.72-7.72 1.47 1.35L5.41 20z\"/>\n",
              "  </svg>\n",
              "      </button>\n",
              "      \n",
              "  <style>\n",
              "    .colab-df-container {\n",
              "      display:flex;\n",
              "      flex-wrap:wrap;\n",
              "      gap: 12px;\n",
              "    }\n",
              "\n",
              "    .colab-df-convert {\n",
              "      background-color: #E8F0FE;\n",
              "      border: none;\n",
              "      border-radius: 50%;\n",
              "      cursor: pointer;\n",
              "      display: none;\n",
              "      fill: #1967D2;\n",
              "      height: 32px;\n",
              "      padding: 0 0 0 0;\n",
              "      width: 32px;\n",
              "    }\n",
              "\n",
              "    .colab-df-convert:hover {\n",
              "      background-color: #E2EBFA;\n",
              "      box-shadow: 0px 1px 2px rgba(60, 64, 67, 0.3), 0px 1px 3px 1px rgba(60, 64, 67, 0.15);\n",
              "      fill: #174EA6;\n",
              "    }\n",
              "\n",
              "    [theme=dark] .colab-df-convert {\n",
              "      background-color: #3B4455;\n",
              "      fill: #D2E3FC;\n",
              "    }\n",
              "\n",
              "    [theme=dark] .colab-df-convert:hover {\n",
              "      background-color: #434B5C;\n",
              "      box-shadow: 0px 1px 3px 1px rgba(0, 0, 0, 0.15);\n",
              "      filter: drop-shadow(0px 1px 2px rgba(0, 0, 0, 0.3));\n",
              "      fill: #FFFFFF;\n",
              "    }\n",
              "  </style>\n",
              "\n",
              "      <script>\n",
              "        const buttonEl =\n",
              "          document.querySelector('#df-e87fd1b9-db58-4c42-8868-99a38dcfb065 button.colab-df-convert');\n",
              "        buttonEl.style.display =\n",
              "          google.colab.kernel.accessAllowed ? 'block' : 'none';\n",
              "\n",
              "        async function convertToInteractive(key) {\n",
              "          const element = document.querySelector('#df-e87fd1b9-db58-4c42-8868-99a38dcfb065');\n",
              "          const dataTable =\n",
              "            await google.colab.kernel.invokeFunction('convertToInteractive',\n",
              "                                                     [key], {});\n",
              "          if (!dataTable) return;\n",
              "\n",
              "          const docLinkHtml = 'Like what you see? Visit the ' +\n",
              "            '<a target=\"_blank\" href=https://colab.research.google.com/notebooks/data_table.ipynb>data table notebook</a>'\n",
              "            + ' to learn more about interactive tables.';\n",
              "          element.innerHTML = '';\n",
              "          dataTable['output_type'] = 'display_data';\n",
              "          await google.colab.output.renderOutput(dataTable, element);\n",
              "          const docLink = document.createElement('div');\n",
              "          docLink.innerHTML = docLinkHtml;\n",
              "          element.appendChild(docLink);\n",
              "        }\n",
              "      </script>\n",
              "    </div>\n",
              "  </div>\n",
              "  "
            ]
          },
          "metadata": {},
          "execution_count": 67
        }
      ]
    },
    {
      "cell_type": "code",
      "metadata": {
        "id": "BFS6iDf4wYG3",
        "colab": {
          "base_uri": "https://localhost:8080/"
        },
        "outputId": "9a6aa170-2002-4391-a579-d7af49671dff"
      },
      "source": [
        "dados.shape"
      ],
      "execution_count": 68,
      "outputs": [
        {
          "output_type": "execute_result",
          "data": {
            "text/plain": [
              "(918, 12)"
            ]
          },
          "metadata": {},
          "execution_count": 68
        }
      ]
    },
    {
      "cell_type": "markdown",
      "source": [
        "## **Análise das Variáveis (Atributos)**"
      ],
      "metadata": {
        "id": "Jk3YHk7yWNb-"
      }
    },
    {
      "cell_type": "markdown",
      "source": [
        "### **Age = idade**"
      ],
      "metadata": {
        "id": "utrm-o6MPOPD"
      }
    },
    {
      "cell_type": "code",
      "source": [
        "dados['Age'].value_counts()"
      ],
      "metadata": {
        "id": "HCfb-rFNPCPs",
        "colab": {
          "base_uri": "https://localhost:8080/"
        },
        "outputId": "989a5ca8-8caa-4785-b2bd-489135eb6f90"
      },
      "execution_count": 69,
      "outputs": [
        {
          "output_type": "execute_result",
          "data": {
            "text/plain": [
              "54    51\n",
              "58    42\n",
              "55    41\n",
              "56    38\n",
              "57    38\n",
              "52    36\n",
              "51    35\n",
              "59    35\n",
              "62    35\n",
              "53    33\n",
              "60    32\n",
              "48    31\n",
              "61    31\n",
              "63    30\n",
              "50    25\n",
              "46    24\n",
              "41    24\n",
              "43    24\n",
              "64    22\n",
              "65    21\n",
              "49    21\n",
              "47    19\n",
              "44    19\n",
              "42    18\n",
              "45    18\n",
              "38    16\n",
              "67    15\n",
              "39    15\n",
              "66    13\n",
              "69    13\n",
              "40    13\n",
              "35    11\n",
              "37    11\n",
              "68    10\n",
              "34     7\n",
              "74     7\n",
              "70     7\n",
              "36     6\n",
              "71     5\n",
              "32     5\n",
              "72     4\n",
              "29     3\n",
              "75     3\n",
              "33     2\n",
              "77     2\n",
              "76     2\n",
              "31     2\n",
              "30     1\n",
              "28     1\n",
              "73     1\n",
              "Name: Age, dtype: int64"
            ]
          },
          "metadata": {},
          "execution_count": 69
        }
      ]
    },
    {
      "cell_type": "code",
      "source": [
        "dados['Age'].value_counts().sort_index()"
      ],
      "metadata": {
        "id": "WqObhcTgQDhN",
        "colab": {
          "base_uri": "https://localhost:8080/"
        },
        "outputId": "b4536116-7573-4f6e-ca90-25558c8d1a69"
      },
      "execution_count": 70,
      "outputs": [
        {
          "output_type": "execute_result",
          "data": {
            "text/plain": [
              "28     1\n",
              "29     3\n",
              "30     1\n",
              "31     2\n",
              "32     5\n",
              "33     2\n",
              "34     7\n",
              "35    11\n",
              "36     6\n",
              "37    11\n",
              "38    16\n",
              "39    15\n",
              "40    13\n",
              "41    24\n",
              "42    18\n",
              "43    24\n",
              "44    19\n",
              "45    18\n",
              "46    24\n",
              "47    19\n",
              "48    31\n",
              "49    21\n",
              "50    25\n",
              "51    35\n",
              "52    36\n",
              "53    33\n",
              "54    51\n",
              "55    41\n",
              "56    38\n",
              "57    38\n",
              "58    42\n",
              "59    35\n",
              "60    32\n",
              "61    31\n",
              "62    35\n",
              "63    30\n",
              "64    22\n",
              "65    21\n",
              "66    13\n",
              "67    15\n",
              "68    10\n",
              "69    13\n",
              "70     7\n",
              "71     5\n",
              "72     4\n",
              "73     1\n",
              "74     7\n",
              "75     3\n",
              "76     2\n",
              "77     2\n",
              "Name: Age, dtype: int64"
            ]
          },
          "metadata": {},
          "execution_count": 70
        }
      ]
    },
    {
      "cell_type": "code",
      "source": [
        "import plotly.express as px"
      ],
      "metadata": {
        "id": "skYTOCMwQ4_s"
      },
      "execution_count": 71,
      "outputs": []
    },
    {
      "cell_type": "code",
      "source": [
        "hist1 =  px.histogram (dados,  x = \"Age\", nbins=60) \n",
        "hist1.update_layout(width=800,height=500,title_text='Distribuição das idades') \n",
        "hist1.show()"
      ],
      "metadata": {
        "id": "W5Hco_eBQ7Tp",
        "colab": {
          "base_uri": "https://localhost:8080/",
          "height": 517
        },
        "outputId": "a7f5f709-d058-49cb-9b26-eac2db8cec2d"
      },
      "execution_count": 72,
      "outputs": [
        {
          "output_type": "display_data",
          "data": {
            "text/html": [
              "<html>\n",
              "<head><meta charset=\"utf-8\" /></head>\n",
              "<body>\n",
              "    <div>            <script src=\"https://cdnjs.cloudflare.com/ajax/libs/mathjax/2.7.5/MathJax.js?config=TeX-AMS-MML_SVG\"></script><script type=\"text/javascript\">if (window.MathJax) {MathJax.Hub.Config({SVG: {font: \"STIX-Web\"}});}</script>                <script type=\"text/javascript\">window.PlotlyConfig = {MathJaxConfig: 'local'};</script>\n",
              "        <script src=\"https://cdn.plot.ly/plotly-2.8.3.min.js\"></script>                <div id=\"69033046-feaf-4eb1-b751-3b3d47aabee8\" class=\"plotly-graph-div\" style=\"height:500px; width:800px;\"></div>            <script type=\"text/javascript\">                                    window.PLOTLYENV=window.PLOTLYENV || {};                                    if (document.getElementById(\"69033046-feaf-4eb1-b751-3b3d47aabee8\")) {                    Plotly.newPlot(                        \"69033046-feaf-4eb1-b751-3b3d47aabee8\",                        [{\"alignmentgroup\":\"True\",\"bingroup\":\"x\",\"hovertemplate\":\"Age=%{x}<br>count=%{y}<extra></extra>\",\"legendgroup\":\"\",\"marker\":{\"color\":\"#636efa\",\"pattern\":{\"shape\":\"\"}},\"name\":\"\",\"nbinsx\":60,\"offsetgroup\":\"\",\"orientation\":\"v\",\"showlegend\":false,\"x\":[40,49,37,48,54,39,45,54,37,48,37,58,39,49,42,54,38,43,60,36,43,44,49,44,40,36,53,52,53,51,53,56,54,41,43,32,65,41,48,48,54,54,35,52,43,59,37,50,36,41,50,47,45,41,52,51,31,58,54,52,49,43,45,46,50,37,45,32,52,44,57,44,52,44,55,46,32,35,52,49,55,54,63,52,56,66,65,53,43,55,49,39,52,48,39,58,43,39,56,41,65,51,40,40,46,57,48,34,50,39,59,57,47,38,49,33,38,59,35,34,47,52,46,58,58,54,34,48,54,42,38,46,56,56,61,49,43,39,54,43,52,50,47,53,56,39,42,43,50,54,39,48,40,55,41,56,38,49,44,54,59,49,47,42,52,46,50,48,58,58,29,40,53,49,52,43,54,59,37,46,52,51,52,46,54,58,58,41,50,53,46,50,48,45,41,62,49,42,53,57,47,46,42,31,56,50,35,35,28,54,48,50,56,56,47,30,39,54,55,29,46,51,48,33,55,50,53,38,41,37,37,40,38,41,54,39,41,55,48,48,55,54,55,43,48,54,54,48,45,49,44,48,61,62,55,53,55,36,51,55,46,54,46,59,47,54,52,34,54,47,45,32,55,55,45,59,51,52,57,54,60,49,51,55,42,51,59,53,48,36,48,47,53,65,32,61,50,57,51,47,60,55,53,62,51,51,55,53,58,57,65,60,41,34,53,74,57,56,61,68,59,63,38,62,46,42,45,59,52,60,60,56,38,40,51,62,72,63,63,64,43,64,61,52,51,69,59,48,69,36,53,43,56,58,55,67,46,53,38,53,62,47,56,56,56,64,61,68,57,63,60,66,63,59,61,73,47,65,70,50,60,50,43,38,54,61,42,53,55,61,51,70,61,38,57,38,62,58,52,61,50,51,65,52,47,35,57,62,59,53,62,54,56,56,54,66,63,44,60,55,66,66,65,60,60,60,56,59,62,63,57,62,63,46,63,60,58,64,63,74,52,69,51,60,56,55,54,77,63,55,52,64,60,60,58,59,61,40,61,41,57,63,59,51,59,42,55,63,62,56,53,68,53,60,62,59,51,61,57,56,58,69,67,58,65,63,55,57,65,54,72,75,49,51,60,64,58,61,67,62,65,63,69,51,62,55,75,40,67,58,60,63,35,62,43,63,68,65,48,63,64,61,50,59,55,45,65,61,49,72,50,64,55,63,59,56,62,74,54,57,62,76,54,70,61,48,48,61,66,68,55,62,71,74,53,58,75,56,58,64,54,54,59,55,57,61,41,71,38,55,56,69,64,72,69,56,62,67,57,69,51,48,69,69,64,57,53,37,67,74,63,58,61,64,58,60,57,55,55,56,57,61,61,74,68,51,62,53,62,46,54,62,55,58,62,70,67,57,64,74,65,56,59,60,63,59,53,44,61,57,71,46,53,64,40,67,48,43,47,54,48,46,51,58,71,57,66,37,59,50,48,61,59,42,48,40,62,44,46,59,58,49,44,66,65,42,52,65,63,45,41,61,60,59,62,57,51,44,60,63,57,51,58,44,47,61,57,70,76,67,45,45,39,42,56,58,35,58,41,57,42,62,59,41,50,59,61,54,54,52,47,66,58,64,50,44,67,49,57,63,48,51,60,59,45,55,41,60,54,42,49,46,56,66,56,49,54,57,65,54,54,62,52,52,60,63,66,42,64,54,46,67,56,34,57,64,59,50,51,54,53,52,40,58,41,41,50,54,64,51,46,55,45,56,66,38,62,55,58,43,64,50,53,45,65,69,69,67,68,34,62,51,46,67,50,42,56,41,42,53,43,56,52,62,70,54,70,54,35,48,55,58,54,69,77,68,58,60,51,55,52,60,58,64,37,59,51,43,58,29,41,63,51,54,44,54,65,57,63,35,41,62,43,58,52,61,39,45,52,62,62,53,43,47,52,68,39,53,62,51,60,65,65,60,60,54,44,44,51,59,71,61,55,64,43,58,60,58,49,48,52,44,56,57,67,53,52,43,52,59,64,66,39,57,58,57,47,55,35,61,58,58,58,56,56,67,55,44,63,63,41,59,57,45,68,57,57,38],\"xaxis\":\"x\",\"yaxis\":\"y\",\"type\":\"histogram\"}],                        {\"template\":{\"data\":{\"bar\":[{\"error_x\":{\"color\":\"#2a3f5f\"},\"error_y\":{\"color\":\"#2a3f5f\"},\"marker\":{\"line\":{\"color\":\"#E5ECF6\",\"width\":0.5},\"pattern\":{\"fillmode\":\"overlay\",\"size\":10,\"solidity\":0.2}},\"type\":\"bar\"}],\"barpolar\":[{\"marker\":{\"line\":{\"color\":\"#E5ECF6\",\"width\":0.5},\"pattern\":{\"fillmode\":\"overlay\",\"size\":10,\"solidity\":0.2}},\"type\":\"barpolar\"}],\"carpet\":[{\"aaxis\":{\"endlinecolor\":\"#2a3f5f\",\"gridcolor\":\"white\",\"linecolor\":\"white\",\"minorgridcolor\":\"white\",\"startlinecolor\":\"#2a3f5f\"},\"baxis\":{\"endlinecolor\":\"#2a3f5f\",\"gridcolor\":\"white\",\"linecolor\":\"white\",\"minorgridcolor\":\"white\",\"startlinecolor\":\"#2a3f5f\"},\"type\":\"carpet\"}],\"choropleth\":[{\"colorbar\":{\"outlinewidth\":0,\"ticks\":\"\"},\"type\":\"choropleth\"}],\"contour\":[{\"colorbar\":{\"outlinewidth\":0,\"ticks\":\"\"},\"colorscale\":[[0.0,\"#0d0887\"],[0.1111111111111111,\"#46039f\"],[0.2222222222222222,\"#7201a8\"],[0.3333333333333333,\"#9c179e\"],[0.4444444444444444,\"#bd3786\"],[0.5555555555555556,\"#d8576b\"],[0.6666666666666666,\"#ed7953\"],[0.7777777777777778,\"#fb9f3a\"],[0.8888888888888888,\"#fdca26\"],[1.0,\"#f0f921\"]],\"type\":\"contour\"}],\"contourcarpet\":[{\"colorbar\":{\"outlinewidth\":0,\"ticks\":\"\"},\"type\":\"contourcarpet\"}],\"heatmap\":[{\"colorbar\":{\"outlinewidth\":0,\"ticks\":\"\"},\"colorscale\":[[0.0,\"#0d0887\"],[0.1111111111111111,\"#46039f\"],[0.2222222222222222,\"#7201a8\"],[0.3333333333333333,\"#9c179e\"],[0.4444444444444444,\"#bd3786\"],[0.5555555555555556,\"#d8576b\"],[0.6666666666666666,\"#ed7953\"],[0.7777777777777778,\"#fb9f3a\"],[0.8888888888888888,\"#fdca26\"],[1.0,\"#f0f921\"]],\"type\":\"heatmap\"}],\"heatmapgl\":[{\"colorbar\":{\"outlinewidth\":0,\"ticks\":\"\"},\"colorscale\":[[0.0,\"#0d0887\"],[0.1111111111111111,\"#46039f\"],[0.2222222222222222,\"#7201a8\"],[0.3333333333333333,\"#9c179e\"],[0.4444444444444444,\"#bd3786\"],[0.5555555555555556,\"#d8576b\"],[0.6666666666666666,\"#ed7953\"],[0.7777777777777778,\"#fb9f3a\"],[0.8888888888888888,\"#fdca26\"],[1.0,\"#f0f921\"]],\"type\":\"heatmapgl\"}],\"histogram\":[{\"marker\":{\"pattern\":{\"fillmode\":\"overlay\",\"size\":10,\"solidity\":0.2}},\"type\":\"histogram\"}],\"histogram2d\":[{\"colorbar\":{\"outlinewidth\":0,\"ticks\":\"\"},\"colorscale\":[[0.0,\"#0d0887\"],[0.1111111111111111,\"#46039f\"],[0.2222222222222222,\"#7201a8\"],[0.3333333333333333,\"#9c179e\"],[0.4444444444444444,\"#bd3786\"],[0.5555555555555556,\"#d8576b\"],[0.6666666666666666,\"#ed7953\"],[0.7777777777777778,\"#fb9f3a\"],[0.8888888888888888,\"#fdca26\"],[1.0,\"#f0f921\"]],\"type\":\"histogram2d\"}],\"histogram2dcontour\":[{\"colorbar\":{\"outlinewidth\":0,\"ticks\":\"\"},\"colorscale\":[[0.0,\"#0d0887\"],[0.1111111111111111,\"#46039f\"],[0.2222222222222222,\"#7201a8\"],[0.3333333333333333,\"#9c179e\"],[0.4444444444444444,\"#bd3786\"],[0.5555555555555556,\"#d8576b\"],[0.6666666666666666,\"#ed7953\"],[0.7777777777777778,\"#fb9f3a\"],[0.8888888888888888,\"#fdca26\"],[1.0,\"#f0f921\"]],\"type\":\"histogram2dcontour\"}],\"mesh3d\":[{\"colorbar\":{\"outlinewidth\":0,\"ticks\":\"\"},\"type\":\"mesh3d\"}],\"parcoords\":[{\"line\":{\"colorbar\":{\"outlinewidth\":0,\"ticks\":\"\"}},\"type\":\"parcoords\"}],\"pie\":[{\"automargin\":true,\"type\":\"pie\"}],\"scatter\":[{\"marker\":{\"colorbar\":{\"outlinewidth\":0,\"ticks\":\"\"}},\"type\":\"scatter\"}],\"scatter3d\":[{\"line\":{\"colorbar\":{\"outlinewidth\":0,\"ticks\":\"\"}},\"marker\":{\"colorbar\":{\"outlinewidth\":0,\"ticks\":\"\"}},\"type\":\"scatter3d\"}],\"scattercarpet\":[{\"marker\":{\"colorbar\":{\"outlinewidth\":0,\"ticks\":\"\"}},\"type\":\"scattercarpet\"}],\"scattergeo\":[{\"marker\":{\"colorbar\":{\"outlinewidth\":0,\"ticks\":\"\"}},\"type\":\"scattergeo\"}],\"scattergl\":[{\"marker\":{\"colorbar\":{\"outlinewidth\":0,\"ticks\":\"\"}},\"type\":\"scattergl\"}],\"scattermapbox\":[{\"marker\":{\"colorbar\":{\"outlinewidth\":0,\"ticks\":\"\"}},\"type\":\"scattermapbox\"}],\"scatterpolar\":[{\"marker\":{\"colorbar\":{\"outlinewidth\":0,\"ticks\":\"\"}},\"type\":\"scatterpolar\"}],\"scatterpolargl\":[{\"marker\":{\"colorbar\":{\"outlinewidth\":0,\"ticks\":\"\"}},\"type\":\"scatterpolargl\"}],\"scatterternary\":[{\"marker\":{\"colorbar\":{\"outlinewidth\":0,\"ticks\":\"\"}},\"type\":\"scatterternary\"}],\"surface\":[{\"colorbar\":{\"outlinewidth\":0,\"ticks\":\"\"},\"colorscale\":[[0.0,\"#0d0887\"],[0.1111111111111111,\"#46039f\"],[0.2222222222222222,\"#7201a8\"],[0.3333333333333333,\"#9c179e\"],[0.4444444444444444,\"#bd3786\"],[0.5555555555555556,\"#d8576b\"],[0.6666666666666666,\"#ed7953\"],[0.7777777777777778,\"#fb9f3a\"],[0.8888888888888888,\"#fdca26\"],[1.0,\"#f0f921\"]],\"type\":\"surface\"}],\"table\":[{\"cells\":{\"fill\":{\"color\":\"#EBF0F8\"},\"line\":{\"color\":\"white\"}},\"header\":{\"fill\":{\"color\":\"#C8D4E3\"},\"line\":{\"color\":\"white\"}},\"type\":\"table\"}]},\"layout\":{\"annotationdefaults\":{\"arrowcolor\":\"#2a3f5f\",\"arrowhead\":0,\"arrowwidth\":1},\"autotypenumbers\":\"strict\",\"coloraxis\":{\"colorbar\":{\"outlinewidth\":0,\"ticks\":\"\"}},\"colorscale\":{\"diverging\":[[0,\"#8e0152\"],[0.1,\"#c51b7d\"],[0.2,\"#de77ae\"],[0.3,\"#f1b6da\"],[0.4,\"#fde0ef\"],[0.5,\"#f7f7f7\"],[0.6,\"#e6f5d0\"],[0.7,\"#b8e186\"],[0.8,\"#7fbc41\"],[0.9,\"#4d9221\"],[1,\"#276419\"]],\"sequential\":[[0.0,\"#0d0887\"],[0.1111111111111111,\"#46039f\"],[0.2222222222222222,\"#7201a8\"],[0.3333333333333333,\"#9c179e\"],[0.4444444444444444,\"#bd3786\"],[0.5555555555555556,\"#d8576b\"],[0.6666666666666666,\"#ed7953\"],[0.7777777777777778,\"#fb9f3a\"],[0.8888888888888888,\"#fdca26\"],[1.0,\"#f0f921\"]],\"sequentialminus\":[[0.0,\"#0d0887\"],[0.1111111111111111,\"#46039f\"],[0.2222222222222222,\"#7201a8\"],[0.3333333333333333,\"#9c179e\"],[0.4444444444444444,\"#bd3786\"],[0.5555555555555556,\"#d8576b\"],[0.6666666666666666,\"#ed7953\"],[0.7777777777777778,\"#fb9f3a\"],[0.8888888888888888,\"#fdca26\"],[1.0,\"#f0f921\"]]},\"colorway\":[\"#636efa\",\"#EF553B\",\"#00cc96\",\"#ab63fa\",\"#FFA15A\",\"#19d3f3\",\"#FF6692\",\"#B6E880\",\"#FF97FF\",\"#FECB52\"],\"font\":{\"color\":\"#2a3f5f\"},\"geo\":{\"bgcolor\":\"white\",\"lakecolor\":\"white\",\"landcolor\":\"#E5ECF6\",\"showlakes\":true,\"showland\":true,\"subunitcolor\":\"white\"},\"hoverlabel\":{\"align\":\"left\"},\"hovermode\":\"closest\",\"mapbox\":{\"style\":\"light\"},\"paper_bgcolor\":\"white\",\"plot_bgcolor\":\"#E5ECF6\",\"polar\":{\"angularaxis\":{\"gridcolor\":\"white\",\"linecolor\":\"white\",\"ticks\":\"\"},\"bgcolor\":\"#E5ECF6\",\"radialaxis\":{\"gridcolor\":\"white\",\"linecolor\":\"white\",\"ticks\":\"\"}},\"scene\":{\"xaxis\":{\"backgroundcolor\":\"#E5ECF6\",\"gridcolor\":\"white\",\"gridwidth\":2,\"linecolor\":\"white\",\"showbackground\":true,\"ticks\":\"\",\"zerolinecolor\":\"white\"},\"yaxis\":{\"backgroundcolor\":\"#E5ECF6\",\"gridcolor\":\"white\",\"gridwidth\":2,\"linecolor\":\"white\",\"showbackground\":true,\"ticks\":\"\",\"zerolinecolor\":\"white\"},\"zaxis\":{\"backgroundcolor\":\"#E5ECF6\",\"gridcolor\":\"white\",\"gridwidth\":2,\"linecolor\":\"white\",\"showbackground\":true,\"ticks\":\"\",\"zerolinecolor\":\"white\"}},\"shapedefaults\":{\"line\":{\"color\":\"#2a3f5f\"}},\"ternary\":{\"aaxis\":{\"gridcolor\":\"white\",\"linecolor\":\"white\",\"ticks\":\"\"},\"baxis\":{\"gridcolor\":\"white\",\"linecolor\":\"white\",\"ticks\":\"\"},\"bgcolor\":\"#E5ECF6\",\"caxis\":{\"gridcolor\":\"white\",\"linecolor\":\"white\",\"ticks\":\"\"}},\"title\":{\"x\":0.05},\"xaxis\":{\"automargin\":true,\"gridcolor\":\"white\",\"linecolor\":\"white\",\"ticks\":\"\",\"title\":{\"standoff\":15},\"zerolinecolor\":\"white\",\"zerolinewidth\":2},\"yaxis\":{\"automargin\":true,\"gridcolor\":\"white\",\"linecolor\":\"white\",\"ticks\":\"\",\"title\":{\"standoff\":15},\"zerolinecolor\":\"white\",\"zerolinewidth\":2}}},\"xaxis\":{\"anchor\":\"y\",\"domain\":[0.0,1.0],\"title\":{\"text\":\"Age\"}},\"yaxis\":{\"anchor\":\"x\",\"domain\":[0.0,1.0],\"title\":{\"text\":\"count\"}},\"legend\":{\"tracegroupgap\":0},\"margin\":{\"t\":60},\"barmode\":\"relative\",\"title\":{\"text\":\"Distribui\\u00e7\\u00e3o das idades\"},\"width\":800,\"height\":500},                        {\"responsive\": true}                    ).then(function(){\n",
              "                            \n",
              "var gd = document.getElementById('69033046-feaf-4eb1-b751-3b3d47aabee8');\n",
              "var x = new MutationObserver(function (mutations, observer) {{\n",
              "        var display = window.getComputedStyle(gd).display;\n",
              "        if (!display || display === 'none') {{\n",
              "            console.log([gd, 'removed!']);\n",
              "            Plotly.purge(gd);\n",
              "            observer.disconnect();\n",
              "        }}\n",
              "}});\n",
              "\n",
              "// Listen for the removal of the full notebook cells\n",
              "var notebookContainer = gd.closest('#notebook-container');\n",
              "if (notebookContainer) {{\n",
              "    x.observe(notebookContainer, {childList: true});\n",
              "}}\n",
              "\n",
              "// Listen for the clearing of the current output cell\n",
              "var outputEl = gd.closest('.output');\n",
              "if (outputEl) {{\n",
              "    x.observe(outputEl, {childList: true});\n",
              "}}\n",
              "\n",
              "                        })                };                            </script>        </div>\n",
              "</body>\n",
              "</html>"
            ]
          },
          "metadata": {}
        }
      ]
    },
    {
      "cell_type": "code",
      "source": [
        "import seaborn as sns"
      ],
      "metadata": {
        "id": "hFQ7PxxsRfxt"
      },
      "execution_count": 73,
      "outputs": []
    },
    {
      "cell_type": "code",
      "source": [
        "sns.histplot(dados, x='Age', bins=30, color=\"orange\", kde=True, stat=\"count\");"
      ],
      "metadata": {
        "id": "DnxBfsamRnrK",
        "colab": {
          "base_uri": "https://localhost:8080/",
          "height": 279
        },
        "outputId": "ea3b484b-5a07-45ff-ff17-bc2f06e3f774"
      },
      "execution_count": 74,
      "outputs": [
        {
          "output_type": "display_data",
          "data": {
            "text/plain": [
              "<Figure size 432x288 with 1 Axes>"
            ],
            "image/png": "[encoded data removed]"
          },
          "metadata": {
            "needs_background": "light"
          }
        }
      ]
    },
    {
      "cell_type": "markdown",
      "source": [
        "### **Sex = sexo**"
      ],
      "metadata": {
        "id": "N0Eetob5Sx0f"
      }
    },
    {
      "cell_type": "code",
      "source": [
        "dados['Sex'].value_counts()"
      ],
      "metadata": {
        "id": "UtjcZPmVSxGp",
        "colab": {
          "base_uri": "https://localhost:8080/"
        },
        "outputId": "3150766a-a0ec-4ba2-90f9-c30c1e7e44ca"
      },
      "execution_count": 75,
      "outputs": [
        {
          "output_type": "execute_result",
          "data": {
            "text/plain": [
              "M    725\n",
              "F    193\n",
              "Name: Sex, dtype: int64"
            ]
          },
          "metadata": {},
          "execution_count": 75
        }
      ]
    },
    {
      "cell_type": "code",
      "source": [
        "sns.countplot(x='Sex', data=dados);"
      ],
      "metadata": {
        "id": "iwjvbQgSTYwl",
        "colab": {
          "base_uri": "https://localhost:8080/",
          "height": 0
        },
        "outputId": "ca3c4071-3585-4f16-b376-5b377e5c625a"
      },
      "execution_count": 76,
      "outputs": [
        {
          "output_type": "display_data",
          "data": {
            "text/plain": [
              "<Figure size 432x288 with 1 Axes>"
            ],
            "image/png": "[encoded data removed]"
          },
          "metadata": {
            "needs_background": "light"
          }
        }
      ]
    },
    {
      "cell_type": "code",
      "source": [
        "dados.head(2)"
      ],
      "metadata": {
        "colab": {
          "base_uri": "https://localhost:8080/",
          "height": 0
        },
        "id": "1U0vL3XZjtTW",
        "outputId": "eb4a68d8-a835-4fdd-dee9-7d712a7328a7"
      },
      "execution_count": 77,
      "outputs": [
        {
          "output_type": "execute_result",
          "data": {
            "text/plain": [
              "   Age Sex ChestPainType  RestingBP  Cholesterol  FastingBS RestingECG  MaxHR  \\\n",
              "0   40   M           ATA        140          289          0     Normal    172   \n",
              "1   49   F           NAP        160          180          0     Normal    156   \n",
              "\n",
              "  ExerciseAngina  Oldpeak ST_Slope  HeartDisease  \n",
              "0              N      0.0       Up             0  \n",
              "1              N      1.0     Flat             1  "
            ],
            "text/html": [
              "\n",
              "  <div id=\"df-05d5d417-c27a-49cc-9702-60548404f0cb\">\n",
              "    <div class=\"colab-df-container\">\n",
              "      <div>\n",
              "<style scoped>\n",
              "    .dataframe tbody tr th:only-of-type {\n",
              "        vertical-align: middle;\n",
              "    }\n",
              "\n",
              "    .dataframe tbody tr th {\n",
              "        vertical-align: top;\n",
              "    }\n",
              "\n",
              "    .dataframe thead th {\n",
              "        text-align: right;\n",
              "    }\n",
              "</style>\n",
              "<table border=\"1\" class=\"dataframe\">\n",
              "  <thead>\n",
              "    <tr style=\"text-align: right;\">\n",
              "      <th></th>\n",
              "      <th>Age</th>\n",
              "      <th>Sex</th>\n",
              "      <th>ChestPainType</th>\n",
              "      <th>RestingBP</th>\n",
              "      <th>Cholesterol</th>\n",
              "      <th>FastingBS</th>\n",
              "      <th>RestingECG</th>\n",
              "      <th>MaxHR</th>\n",
              "      <th>ExerciseAngina</th>\n",
              "      <th>Oldpeak</th>\n",
              "      <th>ST_Slope</th>\n",
              "      <th>HeartDisease</th>\n",
              "    </tr>\n",
              "  </thead>\n",
              "  <tbody>\n",
              "    <tr>\n",
              "      <th>0</th>\n",
              "      <td>40</td>\n",
              "      <td>M</td>\n",
              "      <td>ATA</td>\n",
              "      <td>140</td>\n",
              "      <td>289</td>\n",
              "      <td>0</td>\n",
              "      <td>Normal</td>\n",
              "      <td>172</td>\n",
              "      <td>N</td>\n",
              "      <td>0.0</td>\n",
              "      <td>Up</td>\n",
              "      <td>0</td>\n",
              "    </tr>\n",
              "    <tr>\n",
              "      <th>1</th>\n",
              "      <td>49</td>\n",
              "      <td>F</td>\n",
              "      <td>NAP</td>\n",
              "      <td>160</td>\n",
              "      <td>180</td>\n",
              "      <td>0</td>\n",
              "      <td>Normal</td>\n",
              "      <td>156</td>\n",
              "      <td>N</td>\n",
              "      <td>1.0</td>\n",
              "      <td>Flat</td>\n",
              "      <td>1</td>\n",
              "    </tr>\n",
              "  </tbody>\n",
              "</table>\n",
              "</div>\n",
              "      <button class=\"colab-df-convert\" onclick=\"convertToInteractive('df-05d5d417-c27a-49cc-9702-60548404f0cb')\"\n",
              "              title=\"Convert this dataframe to an interactive table.\"\n",
              "              style=\"display:none;\">\n",
              "        \n",
              "  <svg xmlns=\"http://www.w3.org/2000/svg\" height=\"24px\"viewBox=\"0 0 24 24\"\n",
              "       width=\"24px\">\n",
              "    <path d=\"M0 0h24v24H0V0z\" fill=\"none\"/>\n",
              "    <path d=\"M18.56 5.44l.94 2.06.94-2.06 2.06-.94-2.06-.94-.94-2.06-.94 2.06-2.06.94zm-11 1L8.5 8.5l.94-2.06 2.06-.94-2.06-.94L8.5 2.5l-.94 2.06-2.06.94zm10 10l.94 2.06.94-2.06 2.06-.94-2.06-.94-.94-2.06-.94 2.06-2.06.94z\"/><path d=\"M17.41 7.96l-1.37-1.37c-.4-.4-.92-.59-1.43-.59-.52 0-1.04.2-1.43.59L10.3 9.45l-7.72 7.72c-.78.78-.78 2.05 0 2.83L4 21.41c.39.39.9.59 1.41.59.51 0 1.02-.2 1.41-.59l7.78-7.78 2.81-2.81c.8-.78.8-2.07 0-2.86zM5.41 20L4 18.59l7.72-7.72 1.47 1.35L5.41 20z\"/>\n",
              "  </svg>\n",
              "      </button>\n",
              "      \n",
              "  <style>\n",
              "    .colab-df-container {\n",
              "      display:flex;\n",
              "      flex-wrap:wrap;\n",
              "      gap: 12px;\n",
              "    }\n",
              "\n",
              "    .colab-df-convert {\n",
              "      background-color: #E8F0FE;\n",
              "      border: none;\n",
              "      border-radius: 50%;\n",
              "      cursor: pointer;\n",
              "      display: none;\n",
              "      fill: #1967D2;\n",
              "      height: 32px;\n",
              "      padding: 0 0 0 0;\n",
              "      width: 32px;\n",
              "    }\n",
              "\n",
              "    .colab-df-convert:hover {\n",
              "      background-color: #E2EBFA;\n",
              "      box-shadow: 0px 1px 2px rgba(60, 64, 67, 0.3), 0px 1px 3px 1px rgba(60, 64, 67, 0.15);\n",
              "      fill: #174EA6;\n",
              "    }\n",
              "\n",
              "    [theme=dark] .colab-df-convert {\n",
              "      background-color: #3B4455;\n",
              "      fill: #D2E3FC;\n",
              "    }\n",
              "\n",
              "    [theme=dark] .colab-df-convert:hover {\n",
              "      background-color: #434B5C;\n",
              "      box-shadow: 0px 1px 3px 1px rgba(0, 0, 0, 0.15);\n",
              "      filter: drop-shadow(0px 1px 2px rgba(0, 0, 0, 0.3));\n",
              "      fill: #FFFFFF;\n",
              "    }\n",
              "  </style>\n",
              "\n",
              "      <script>\n",
              "        const buttonEl =\n",
              "          document.querySelector('#df-05d5d417-c27a-49cc-9702-60548404f0cb button.colab-df-convert');\n",
              "        buttonEl.style.display =\n",
              "          google.colab.kernel.accessAllowed ? 'block' : 'none';\n",
              "\n",
              "        async function convertToInteractive(key) {\n",
              "          const element = document.querySelector('#df-05d5d417-c27a-49cc-9702-60548404f0cb');\n",
              "          const dataTable =\n",
              "            await google.colab.kernel.invokeFunction('convertToInteractive',\n",
              "                                                     [key], {});\n",
              "          if (!dataTable) return;\n",
              "\n",
              "          const docLinkHtml = 'Like what you see? Visit the ' +\n",
              "            '<a target=\"_blank\" href=https://colab.research.google.com/notebooks/data_table.ipynb>data table notebook</a>'\n",
              "            + ' to learn more about interactive tables.';\n",
              "          element.innerHTML = '';\n",
              "          dataTable['output_type'] = 'display_data';\n",
              "          await google.colab.output.renderOutput(dataTable, element);\n",
              "          const docLink = document.createElement('div');\n",
              "          docLink.innerHTML = docLinkHtml;\n",
              "          element.appendChild(docLink);\n",
              "        }\n",
              "      </script>\n",
              "    </div>\n",
              "  </div>\n",
              "  "
            ]
          },
          "metadata": {},
          "execution_count": 77
        }
      ]
    },
    {
      "cell_type": "markdown",
      "source": [
        "### **Chest Pain Type = tipo de dor no peito**"
      ],
      "metadata": {
        "id": "HPYrQbHighuX"
      }
    },
    {
      "cell_type": "code",
      "source": [
        "dados['ChestPainType'].value_counts()"
      ],
      "metadata": {
        "id": "a8x09TRAgo1l",
        "colab": {
          "base_uri": "https://localhost:8080/"
        },
        "outputId": "bdf83ac9-2afe-472a-a890-732cff5801ba"
      },
      "execution_count": 78,
      "outputs": [
        {
          "output_type": "execute_result",
          "data": {
            "text/plain": [
              "ASY    496\n",
              "NAP    203\n",
              "ATA    173\n",
              "TA      46\n",
              "Name: ChestPainType, dtype: int64"
            ]
          },
          "metadata": {},
          "execution_count": 78
        }
      ]
    },
    {
      "cell_type": "markdown",
      "source": [
        "ASY: assintomático.\n",
        "\n",
        "NAP: dor não anginosa.\n",
        "\n",
        "ATA: angina atípica.\n",
        "\n",
        "TA: angina típica.\n",
        "\n",
        "Angina: Dor no peito causada pela diminuição do fluxo de sangue no coração.\n",
        "\n",
        "\n",
        "\n",
        "\n",
        "\n"
      ],
      "metadata": {
        "id": "ou4s8LL4i2C1"
      }
    },
    {
      "cell_type": "code",
      "source": [
        "sns.countplot(x=\"ChestPainType\", data=dados);"
      ],
      "metadata": {
        "colab": {
          "base_uri": "https://localhost:8080/",
          "height": 0
        },
        "id": "iaa31hJSlIBk",
        "outputId": "86485e6f-4409-4ca6-9ef4-8864acbd81bd"
      },
      "execution_count": 79,
      "outputs": [
        {
          "output_type": "display_data",
          "data": {
            "text/plain": [
              "<Figure size 432x288 with 1 Axes>"
            ],
            "image/png": "[encoded data removed]"
          },
          "metadata": {
            "needs_background": "light"
          }
        }
      ]
    },
    {
      "cell_type": "markdown",
      "source": [
        "### **Resting BP (blood pressure) = pressão sanguínea em repouso em mmHg(sistólica)**"
      ],
      "metadata": {
        "id": "ut2pVC_omHqn"
      }
    },
    {
      "cell_type": "code",
      "source": [
        "dados.RestingBP.value_counts().sort_index()"
      ],
      "metadata": {
        "id": "suKGuC3qi0oQ",
        "colab": {
          "base_uri": "https://localhost:8080/"
        },
        "outputId": "52ceb4c4-95cf-4117-de96-f7b19898c8d8"
      },
      "execution_count": 80,
      "outputs": [
        {
          "output_type": "execute_result",
          "data": {
            "text/plain": [
              "0       1\n",
              "80      1\n",
              "92      1\n",
              "94      2\n",
              "95      6\n",
              "       ..\n",
              "180    12\n",
              "185     1\n",
              "190     2\n",
              "192     1\n",
              "200     4\n",
              "Name: RestingBP, Length: 67, dtype: int64"
            ]
          },
          "metadata": {},
          "execution_count": 80
        }
      ]
    },
    {
      "cell_type": "code",
      "source": [
        "sns.histplot(dados, x='RestingBP', bins=30, color=\"orange\", kde=True, stat=\"count\");"
      ],
      "metadata": {
        "id": "32aBXB1qnsLB",
        "colab": {
          "base_uri": "https://localhost:8080/",
          "height": 0
        },
        "outputId": "434f900b-1543-4027-8929-b8025f0b60aa"
      },
      "execution_count": 81,
      "outputs": [
        {
          "output_type": "display_data",
          "data": {
            "text/plain": [
              "<Figure size 432x288 with 1 Axes>"
            ],
            "image/png": "[encoded data removed]"
          },
          "metadata": {
            "needs_background": "light"
          }
        }
      ]
    },
    {
      "cell_type": "markdown",
      "source": [
        "### **Cholesterol = colesterol sérico (mg/dl)**"
      ],
      "metadata": {
        "id": "1ZQpuChKoIcv"
      }
    },
    {
      "cell_type": "code",
      "source": [
        "dados.Cholesterol.value_counts().sort_index()"
      ],
      "metadata": {
        "id": "gwqPi305ofPW",
        "colab": {
          "base_uri": "https://localhost:8080/"
        },
        "outputId": "4a7eb6a1-70bc-4ab0-ecca-ceeaa2af2601"
      },
      "execution_count": 82,
      "outputs": [
        {
          "output_type": "execute_result",
          "data": {
            "text/plain": [
              "0      172\n",
              "85       1\n",
              "100      2\n",
              "110      1\n",
              "113      1\n",
              "      ... \n",
              "491      1\n",
              "518      1\n",
              "529      1\n",
              "564      1\n",
              "603      1\n",
              "Name: Cholesterol, Length: 222, dtype: int64"
            ]
          },
          "metadata": {},
          "execution_count": 82
        }
      ]
    },
    {
      "cell_type": "code",
      "source": [
        "sns.histplot(dados, x='Cholesterol', bins=30, color=\"purple\", kde=True, stat=\"count\");"
      ],
      "metadata": {
        "id": "Q2ro_yRkwKrA",
        "colab": {
          "base_uri": "https://localhost:8080/",
          "height": 0
        },
        "outputId": "b48aab72-7242-47cd-add2-1544720a97a2"
      },
      "execution_count": 83,
      "outputs": [
        {
          "output_type": "display_data",
          "data": {
            "text/plain": [
              "<Figure size 432x288 with 1 Axes>"
            ],
            "image/png": "[encoded data removed]"
          },
          "metadata": {
            "needs_background": "light"
          }
        }
      ]
    },
    {
      "cell_type": "markdown",
      "source": [
        "### **Fasting BS (blood sugar) = açúcar no sangue em jejum (mg/dl)**"
      ],
      "metadata": {
        "id": "vDwrFrswwlqk"
      }
    },
    {
      "cell_type": "code",
      "source": [
        "dados.FastingBS.value_counts()"
      ],
      "metadata": {
        "id": "rCBVkVpyw_Us",
        "colab": {
          "base_uri": "https://localhost:8080/"
        },
        "outputId": "c92c4717-60a4-4437-c7db-131c94f493b2"
      },
      "execution_count": 84,
      "outputs": [
        {
          "output_type": "execute_result",
          "data": {
            "text/plain": [
              "0    704\n",
              "1    214\n",
              "Name: FastingBS, dtype: int64"
            ]
          },
          "metadata": {},
          "execution_count": 84
        }
      ]
    },
    {
      "cell_type": "markdown",
      "source": [
        "0: Fasting BS < 120 mg/dl (não diabético)\n",
        "\n",
        "1: Fasting BS >= 120 mg/dl, (diabético)"
      ],
      "metadata": {
        "id": "e1Yn075wxinM"
      }
    },
    {
      "cell_type": "code",
      "source": [
        "sns.countplot(x='FastingBS', data=dados);"
      ],
      "metadata": {
        "id": "_BHuZN18w_s9",
        "colab": {
          "base_uri": "https://localhost:8080/",
          "height": 0
        },
        "outputId": "0db89c9c-5593-4b92-9674-5ba85205e477"
      },
      "execution_count": 85,
      "outputs": [
        {
          "output_type": "display_data",
          "data": {
            "text/plain": [
              "<Figure size 432x288 with 1 Axes>"
            ],
            "image/png": "[encoded data removed]"
          },
          "metadata": {
            "needs_background": "light"
          }
        }
      ]
    },
    {
      "cell_type": "markdown",
      "source": [
        "### **Resting ECG = eletrocardiograma em repouso**"
      ],
      "metadata": {
        "id": "dbaymPAMUuE7"
      }
    },
    {
      "cell_type": "code",
      "source": [
        "dados.RestingECG.value_counts()"
      ],
      "metadata": {
        "id": "dLKrcCwRVBin",
        "colab": {
          "base_uri": "https://localhost:8080/"
        },
        "outputId": "bc5630e6-bb6e-4a8a-c52c-f4ec049182c4"
      },
      "execution_count": 86,
      "outputs": [
        {
          "output_type": "execute_result",
          "data": {
            "text/plain": [
              "Normal    552\n",
              "LVH       188\n",
              "ST        178\n",
              "Name: RestingECG, dtype: int64"
            ]
          },
          "metadata": {},
          "execution_count": 86
        }
      ]
    },
    {
      "cell_type": "markdown",
      "source": [
        "Normal: Normal\n",
        "\n",
        "LVH: Hipertrofia ventricular esquerda\n",
        "\n",
        "ST: Anormalidade da onda ST-T"
      ],
      "metadata": {
        "id": "6wSDgNSGZG3F"
      }
    },
    {
      "cell_type": "markdown",
      "source": [
        "![image.png](data:image/png;base64,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)"
      ],
      "metadata": {
        "id": "kJDjtTxRe1U-"
      }
    },
    {
      "cell_type": "markdown",
      "source": [
        "**SEGMENTO ST:** Qualquer desnível do\n",
        "segmento ST, para cima (supradesnível) ou para baixo\n",
        "(infradesnível), deve ser avaliado pois pode corresponder a um\n",
        "infarto agudo do miocárdio."
      ],
      "metadata": {
        "id": "lc8b41WGd7as"
      }
    },
    {
      "cell_type": "code",
      "source": [
        "sns.countplot(x='RestingECG', data=dados);"
      ],
      "metadata": {
        "id": "Ox09-dl7aemb",
        "colab": {
          "base_uri": "https://localhost:8080/",
          "height": 0
        },
        "outputId": "0707876d-5e7a-498d-a3b6-ea639a033723"
      },
      "execution_count": 87,
      "outputs": [
        {
          "output_type": "display_data",
          "data": {
            "text/plain": [
              "<Figure size 432x288 with 1 Axes>"
            ],
            "image/png": "[encoded data removed]"
          },
          "metadata": {
            "needs_background": "light"
          }
        }
      ]
    },
    {
      "cell_type": "code",
      "source": [
        "dados.head(2)"
      ],
      "metadata": {
        "colab": {
          "base_uri": "https://localhost:8080/",
          "height": 0
        },
        "id": "ResA9Hx1qNuV",
        "outputId": "93f6d159-b32a-4675-8113-1ddcd3d98aa7"
      },
      "execution_count": 88,
      "outputs": [
        {
          "output_type": "execute_result",
          "data": {
            "text/plain": [
              "   Age Sex ChestPainType  RestingBP  Cholesterol  FastingBS RestingECG  MaxHR  \\\n",
              "0   40   M           ATA        140          289          0     Normal    172   \n",
              "1   49   F           NAP        160          180          0     Normal    156   \n",
              "\n",
              "  ExerciseAngina  Oldpeak ST_Slope  HeartDisease  \n",
              "0              N      0.0       Up             0  \n",
              "1              N      1.0     Flat             1  "
            ],
            "text/html": [
              "\n",
              "  <div id=\"df-177334a7-bb36-4667-8ffe-2d070fb7e56c\">\n",
              "    <div class=\"colab-df-container\">\n",
              "      <div>\n",
              "<style scoped>\n",
              "    .dataframe tbody tr th:only-of-type {\n",
              "        vertical-align: middle;\n",
              "    }\n",
              "\n",
              "    .dataframe tbody tr th {\n",
              "        vertical-align: top;\n",
              "    }\n",
              "\n",
              "    .dataframe thead th {\n",
              "        text-align: right;\n",
              "    }\n",
              "</style>\n",
              "<table border=\"1\" class=\"dataframe\">\n",
              "  <thead>\n",
              "    <tr style=\"text-align: right;\">\n",
              "      <th></th>\n",
              "      <th>Age</th>\n",
              "      <th>Sex</th>\n",
              "      <th>ChestPainType</th>\n",
              "      <th>RestingBP</th>\n",
              "      <th>Cholesterol</th>\n",
              "      <th>FastingBS</th>\n",
              "      <th>RestingECG</th>\n",
              "      <th>MaxHR</th>\n",
              "      <th>ExerciseAngina</th>\n",
              "      <th>Oldpeak</th>\n",
              "      <th>ST_Slope</th>\n",
              "      <th>HeartDisease</th>\n",
              "    </tr>\n",
              "  </thead>\n",
              "  <tbody>\n",
              "    <tr>\n",
              "      <th>0</th>\n",
              "      <td>40</td>\n",
              "      <td>M</td>\n",
              "      <td>ATA</td>\n",
              "      <td>140</td>\n",
              "      <td>289</td>\n",
              "      <td>0</td>\n",
              "      <td>Normal</td>\n",
              "      <td>172</td>\n",
              "      <td>N</td>\n",
              "      <td>0.0</td>\n",
              "      <td>Up</td>\n",
              "      <td>0</td>\n",
              "    </tr>\n",
              "    <tr>\n",
              "      <th>1</th>\n",
              "      <td>49</td>\n",
              "      <td>F</td>\n",
              "      <td>NAP</td>\n",
              "      <td>160</td>\n",
              "      <td>180</td>\n",
              "      <td>0</td>\n",
              "      <td>Normal</td>\n",
              "      <td>156</td>\n",
              "      <td>N</td>\n",
              "      <td>1.0</td>\n",
              "      <td>Flat</td>\n",
              "      <td>1</td>\n",
              "    </tr>\n",
              "  </tbody>\n",
              "</table>\n",
              "</div>\n",
              "      <button class=\"colab-df-convert\" onclick=\"convertToInteractive('df-177334a7-bb36-4667-8ffe-2d070fb7e56c')\"\n",
              "              title=\"Convert this dataframe to an interactive table.\"\n",
              "              style=\"display:none;\">\n",
              "        \n",
              "  <svg xmlns=\"http://www.w3.org/2000/svg\" height=\"24px\"viewBox=\"0 0 24 24\"\n",
              "       width=\"24px\">\n",
              "    <path d=\"M0 0h24v24H0V0z\" fill=\"none\"/>\n",
              "    <path d=\"M18.56 5.44l.94 2.06.94-2.06 2.06-.94-2.06-.94-.94-2.06-.94 2.06-2.06.94zm-11 1L8.5 8.5l.94-2.06 2.06-.94-2.06-.94L8.5 2.5l-.94 2.06-2.06.94zm10 10l.94 2.06.94-2.06 2.06-.94-2.06-.94-.94-2.06-.94 2.06-2.06.94z\"/><path d=\"M17.41 7.96l-1.37-1.37c-.4-.4-.92-.59-1.43-.59-.52 0-1.04.2-1.43.59L10.3 9.45l-7.72 7.72c-.78.78-.78 2.05 0 2.83L4 21.41c.39.39.9.59 1.41.59.51 0 1.02-.2 1.41-.59l7.78-7.78 2.81-2.81c.8-.78.8-2.07 0-2.86zM5.41 20L4 18.59l7.72-7.72 1.47 1.35L5.41 20z\"/>\n",
              "  </svg>\n",
              "      </button>\n",
              "      \n",
              "  <style>\n",
              "    .colab-df-container {\n",
              "      display:flex;\n",
              "      flex-wrap:wrap;\n",
              "      gap: 12px;\n",
              "    }\n",
              "\n",
              "    .colab-df-convert {\n",
              "      background-color: #E8F0FE;\n",
              "      border: none;\n",
              "      border-radius: 50%;\n",
              "      cursor: pointer;\n",
              "      display: none;\n",
              "      fill: #1967D2;\n",
              "      height: 32px;\n",
              "      padding: 0 0 0 0;\n",
              "      width: 32px;\n",
              "    }\n",
              "\n",
              "    .colab-df-convert:hover {\n",
              "      background-color: #E2EBFA;\n",
              "      box-shadow: 0px 1px 2px rgba(60, 64, 67, 0.3), 0px 1px 3px 1px rgba(60, 64, 67, 0.15);\n",
              "      fill: #174EA6;\n",
              "    }\n",
              "\n",
              "    [theme=dark] .colab-df-convert {\n",
              "      background-color: #3B4455;\n",
              "      fill: #D2E3FC;\n",
              "    }\n",
              "\n",
              "    [theme=dark] .colab-df-convert:hover {\n",
              "      background-color: #434B5C;\n",
              "      box-shadow: 0px 1px 3px 1px rgba(0, 0, 0, 0.15);\n",
              "      filter: drop-shadow(0px 1px 2px rgba(0, 0, 0, 0.3));\n",
              "      fill: #FFFFFF;\n",
              "    }\n",
              "  </style>\n",
              "\n",
              "      <script>\n",
              "        const buttonEl =\n",
              "          document.querySelector('#df-177334a7-bb36-4667-8ffe-2d070fb7e56c button.colab-df-convert');\n",
              "        buttonEl.style.display =\n",
              "          google.colab.kernel.accessAllowed ? 'block' : 'none';\n",
              "\n",
              "        async function convertToInteractive(key) {\n",
              "          const element = document.querySelector('#df-177334a7-bb36-4667-8ffe-2d070fb7e56c');\n",
              "          const dataTable =\n",
              "            await google.colab.kernel.invokeFunction('convertToInteractive',\n",
              "                                                     [key], {});\n",
              "          if (!dataTable) return;\n",
              "\n",
              "          const docLinkHtml = 'Like what you see? Visit the ' +\n",
              "            '<a target=\"_blank\" href=https://colab.research.google.com/notebooks/data_table.ipynb>data table notebook</a>'\n",
              "            + ' to learn more about interactive tables.';\n",
              "          element.innerHTML = '';\n",
              "          dataTable['output_type'] = 'display_data';\n",
              "          await google.colab.output.renderOutput(dataTable, element);\n",
              "          const docLink = document.createElement('div');\n",
              "          docLink.innerHTML = docLinkHtml;\n",
              "          element.appendChild(docLink);\n",
              "        }\n",
              "      </script>\n",
              "    </div>\n",
              "  </div>\n",
              "  "
            ]
          },
          "metadata": {},
          "execution_count": 88
        }
      ]
    },
    {
      "cell_type": "markdown",
      "source": [
        "### **Max HR (heart rate) = frequência cardíaca máxima**"
      ],
      "metadata": {
        "id": "rgHKXUxGavNA"
      }
    },
    {
      "cell_type": "code",
      "source": [
        "dados['MaxHR'].value_counts().sort_index()"
      ],
      "metadata": {
        "id": "tpCgvi2Pa_5H",
        "colab": {
          "base_uri": "https://localhost:8080/"
        },
        "outputId": "69332fc8-0c27-4969-bf60-982feaf86a18"
      },
      "execution_count": 89,
      "outputs": [
        {
          "output_type": "execute_result",
          "data": {
            "text/plain": [
              "60     1\n",
              "63     1\n",
              "67     1\n",
              "69     1\n",
              "70     1\n",
              "      ..\n",
              "190    2\n",
              "192    1\n",
              "194    1\n",
              "195    1\n",
              "202    1\n",
              "Name: MaxHR, Length: 119, dtype: int64"
            ]
          },
          "metadata": {},
          "execution_count": 89
        }
      ]
    },
    {
      "cell_type": "code",
      "source": [
        "sns.histplot(dados, x='MaxHR', bins=30, color=\"green\", kde=True, stat=\"count\");"
      ],
      "metadata": {
        "id": "a55HgZ_Ub21E",
        "colab": {
          "base_uri": "https://localhost:8080/",
          "height": 0
        },
        "outputId": "401654d7-ab2f-447a-e9f9-3f88de77c27b"
      },
      "execution_count": 90,
      "outputs": [
        {
          "output_type": "display_data",
          "data": {
            "text/plain": [
              "<Figure size 432x288 with 1 Axes>"
            ],
            "image/png": "[encoded data removed]"
          },
          "metadata": {
            "needs_background": "light"
          }
        }
      ]
    },
    {
      "cell_type": "markdown",
      "source": [
        "### **Exercise Angina = Angina induzida por exercício**"
      ],
      "metadata": {
        "id": "8NCU-rFWchrl"
      }
    },
    {
      "cell_type": "code",
      "source": [
        "dados['ExerciseAngina'].value_counts()"
      ],
      "metadata": {
        "id": "ZzdRjm3Gcq3h",
        "colab": {
          "base_uri": "https://localhost:8080/"
        },
        "outputId": "cfddb3c1-ffdc-4056-b7ec-398de6c841ca"
      },
      "execution_count": 91,
      "outputs": [
        {
          "output_type": "execute_result",
          "data": {
            "text/plain": [
              "N    547\n",
              "Y    371\n",
              "Name: ExerciseAngina, dtype: int64"
            ]
          },
          "metadata": {},
          "execution_count": 91
        }
      ]
    },
    {
      "cell_type": "code",
      "source": [
        "px.pie(dados, 'ExerciseAngina') "
      ],
      "metadata": {
        "id": "K4-mWvTvc3Yh",
        "colab": {
          "base_uri": "https://localhost:8080/",
          "height": 0
        },
        "outputId": "7746058b-cc1b-4e53-c63d-3cd7521e5d58"
      },
      "execution_count": 92,
      "outputs": [
        {
          "output_type": "display_data",
          "data": {
            "text/html": [
              "<html>\n",
              "<head><meta charset=\"utf-8\" /></head>\n",
              "<body>\n",
              "    <div>            <script src=\"https://cdnjs.cloudflare.com/ajax/libs/mathjax/2.7.5/MathJax.js?config=TeX-AMS-MML_SVG\"></script><script type=\"text/javascript\">if (window.MathJax) {MathJax.Hub.Config({SVG: {font: \"STIX-Web\"}});}</script>                <script type=\"text/javascript\">window.PlotlyConfig = {MathJaxConfig: 'local'};</script>\n",
              "        <script src=\"https://cdn.plot.ly/plotly-2.8.3.min.js\"></script>                <div id=\"442f31a6-ea52-4f95-b7b1-a0327b2ade75\" class=\"plotly-graph-div\" style=\"height:525px; width:100%;\"></div>            <script type=\"text/javascript\">                                    window.PLOTLYENV=window.PLOTLYENV || {};                                    if (document.getElementById(\"442f31a6-ea52-4f95-b7b1-a0327b2ade75\")) {                    Plotly.newPlot(                        \"442f31a6-ea52-4f95-b7b1-a0327b2ade75\",                        [{\"domain\":{\"x\":[0.0,1.0],\"y\":[0.0,1.0]},\"hovertemplate\":\"ExerciseAngina=%{label}<extra></extra>\",\"labels\":[\"N\",\"N\",\"N\",\"Y\",\"N\",\"N\",\"N\",\"N\",\"Y\",\"N\",\"N\",\"Y\",\"N\",\"Y\",\"N\",\"N\",\"N\",\"N\",\"N\",\"N\",\"N\",\"N\",\"N\",\"Y\",\"N\",\"N\",\"Y\",\"N\",\"N\",\"N\",\"N\",\"N\",\"N\",\"N\",\"N\",\"N\",\"Y\",\"N\",\"N\",\"Y\",\"N\",\"Y\",\"N\",\"N\",\"Y\",\"Y\",\"N\",\"N\",\"N\",\"N\",\"Y\",\"Y\",\"N\",\"N\",\"Y\",\"N\",\"Y\",\"N\",\"N\",\"Y\",\"N\",\"N\",\"N\",\"Y\",\"N\",\"N\",\"N\",\"N\",\"Y\",\"N\",\"Y\",\"N\",\"N\",\"N\",\"Y\",\"N\",\"N\",\"N\",\"Y\",\"N\",\"N\",\"N\",\"N\",\"N\",\"Y\",\"Y\",\"Y\",\"Y\",\"N\",\"Y\",\"N\",\"N\",\"N\",\"Y\",\"N\",\"Y\",\"N\",\"N\",\"N\",\"N\",\"Y\",\"N\",\"N\",\"Y\",\"N\",\"N\",\"N\",\"N\",\"N\",\"N\",\"N\",\"Y\",\"Y\",\"N\",\"N\",\"Y\",\"N\",\"Y\",\"N\",\"N\",\"N\",\"N\",\"N\",\"Y\",\"N\",\"N\",\"N\",\"N\",\"N\",\"Y\",\"N\",\"Y\",\"Y\",\"Y\",\"Y\",\"N\",\"N\",\"N\",\"Y\",\"Y\",\"Y\",\"Y\",\"Y\",\"N\",\"N\",\"N\",\"N\",\"N\",\"N\",\"Y\",\"N\",\"N\",\"N\",\"N\",\"N\",\"Y\",\"Y\",\"N\",\"Y\",\"N\",\"Y\",\"Y\",\"N\",\"N\",\"N\",\"N\",\"Y\",\"N\",\"N\",\"N\",\"N\",\"N\",\"N\",\"N\",\"Y\",\"Y\",\"N\",\"N\",\"N\",\"N\",\"Y\",\"N\",\"Y\",\"Y\",\"N\",\"N\",\"N\",\"Y\",\"Y\",\"Y\",\"N\",\"N\",\"N\",\"N\",\"N\",\"N\",\"N\",\"N\",\"Y\",\"N\",\"N\",\"N\",\"N\",\"N\",\"N\",\"Y\",\"N\",\"N\",\"N\",\"N\",\"N\",\"Y\",\"Y\",\"N\",\"Y\",\"N\",\"N\",\"N\",\"N\",\"N\",\"N\",\"Y\",\"N\",\"N\",\"N\",\"N\",\"N\",\"Y\",\"N\",\"N\",\"N\",\"N\",\"N\",\"N\",\"N\",\"Y\",\"Y\",\"N\",\"Y\",\"Y\",\"N\",\"Y\",\"Y\",\"N\",\"Y\",\"N\",\"Y\",\"Y\",\"Y\",\"Y\",\"N\",\"N\",\"Y\",\"N\",\"Y\",\"N\",\"N\",\"N\",\"N\",\"N\",\"Y\",\"N\",\"Y\",\"N\",\"Y\",\"N\",\"Y\",\"N\",\"Y\",\"N\",\"N\",\"N\",\"Y\",\"N\",\"N\",\"N\",\"N\",\"Y\",\"Y\",\"N\",\"N\",\"N\",\"Y\",\"N\",\"N\",\"N\",\"N\",\"N\",\"N\",\"N\",\"N\",\"N\",\"N\",\"Y\",\"N\",\"Y\",\"Y\",\"Y\",\"N\",\"N\",\"N\",\"N\",\"N\",\"Y\",\"N\",\"Y\",\"N\",\"N\",\"N\",\"N\",\"N\",\"N\",\"N\",\"N\",\"Y\",\"N\",\"N\",\"Y\",\"N\",\"N\",\"N\",\"N\",\"N\",\"Y\",\"N\",\"Y\",\"N\",\"Y\",\"Y\",\"Y\",\"N\",\"N\",\"N\",\"N\",\"N\",\"N\",\"N\",\"N\",\"N\",\"N\",\"N\",\"Y\",\"N\",\"N\",\"N\",\"N\",\"N\",\"N\",\"Y\",\"Y\",\"N\",\"Y\",\"Y\",\"Y\",\"N\",\"N\",\"Y\",\"N\",\"Y\",\"N\",\"Y\",\"Y\",\"N\",\"N\",\"N\",\"Y\",\"Y\",\"Y\",\"Y\",\"Y\",\"Y\",\"Y\",\"Y\",\"Y\",\"Y\",\"N\",\"Y\",\"N\",\"Y\",\"Y\",\"Y\",\"Y\",\"Y\",\"N\",\"N\",\"Y\",\"Y\",\"Y\",\"N\",\"N\",\"N\",\"Y\",\"N\",\"Y\",\"Y\",\"N\",\"N\",\"Y\",\"Y\",\"N\",\"N\",\"N\",\"N\",\"Y\",\"Y\",\"Y\",\"Y\",\"Y\",\"N\",\"Y\",\"N\",\"N\",\"Y\",\"N\",\"Y\",\"N\",\"Y\",\"N\",\"Y\",\"Y\",\"Y\",\"N\",\"Y\",\"Y\",\"Y\",\"N\",\"N\",\"Y\",\"Y\",\"Y\",\"Y\",\"N\",\"Y\",\"Y\",\"N\",\"Y\",\"N\",\"N\",\"Y\",\"N\",\"N\",\"N\",\"Y\",\"Y\",\"Y\",\"Y\",\"Y\",\"Y\",\"Y\",\"N\",\"Y\",\"Y\",\"Y\",\"Y\",\"Y\",\"Y\",\"Y\",\"N\",\"N\",\"N\",\"Y\",\"Y\",\"Y\",\"N\",\"Y\",\"N\",\"Y\",\"N\",\"Y\",\"N\",\"N\",\"Y\",\"Y\",\"Y\",\"N\",\"Y\",\"N\",\"Y\",\"Y\",\"Y\",\"Y\",\"N\",\"N\",\"Y\",\"Y\",\"Y\",\"N\",\"Y\",\"N\",\"Y\",\"Y\",\"N\",\"N\",\"Y\",\"Y\",\"Y\",\"N\",\"Y\",\"Y\",\"Y\",\"Y\",\"Y\",\"Y\",\"N\",\"Y\",\"Y\",\"Y\",\"Y\",\"N\",\"N\",\"N\",\"Y\",\"N\",\"Y\",\"N\",\"N\",\"N\",\"Y\",\"Y\",\"Y\",\"N\",\"Y\",\"Y\",\"Y\",\"N\",\"N\",\"Y\",\"N\",\"Y\",\"Y\",\"Y\",\"Y\",\"N\",\"Y\",\"Y\",\"Y\",\"Y\",\"Y\",\"Y\",\"N\",\"Y\",\"N\",\"Y\",\"Y\",\"Y\",\"N\",\"N\",\"N\",\"N\",\"N\",\"N\",\"N\",\"Y\",\"Y\",\"N\",\"Y\",\"Y\",\"Y\",\"Y\",\"Y\",\"N\",\"N\",\"Y\",\"Y\",\"Y\",\"Y\",\"Y\",\"Y\",\"Y\",\"Y\",\"Y\",\"Y\",\"Y\",\"N\",\"Y\",\"Y\",\"Y\",\"Y\",\"Y\",\"Y\",\"Y\",\"Y\",\"Y\",\"N\",\"Y\",\"N\",\"Y\",\"N\",\"Y\",\"N\",\"N\",\"N\",\"Y\",\"N\",\"Y\",\"Y\",\"N\",\"N\",\"Y\",\"N\",\"Y\",\"Y\",\"Y\",\"Y\",\"Y\",\"N\",\"Y\",\"Y\",\"Y\",\"N\",\"N\",\"N\",\"N\",\"N\",\"Y\",\"N\",\"N\",\"N\",\"Y\",\"Y\",\"N\",\"Y\",\"Y\",\"N\",\"N\",\"N\",\"Y\",\"N\",\"N\",\"N\",\"N\",\"Y\",\"Y\",\"Y\",\"Y\",\"Y\",\"N\",\"N\",\"N\",\"Y\",\"N\",\"Y\",\"N\",\"N\",\"N\",\"N\",\"N\",\"N\",\"Y\",\"Y\",\"Y\",\"Y\",\"N\",\"N\",\"N\",\"N\",\"N\",\"Y\",\"N\",\"N\",\"N\",\"N\",\"N\",\"Y\",\"N\",\"Y\",\"N\",\"N\",\"N\",\"N\",\"N\",\"Y\",\"N\",\"Y\",\"N\",\"N\",\"Y\",\"N\",\"N\",\"N\",\"Y\",\"Y\",\"N\",\"N\",\"N\",\"Y\",\"Y\",\"N\",\"N\",\"N\",\"Y\",\"Y\",\"N\",\"N\",\"N\",\"N\",\"Y\",\"Y\",\"N\",\"Y\",\"N\",\"N\",\"N\",\"N\",\"N\",\"Y\",\"N\",\"Y\",\"Y\",\"N\",\"Y\",\"N\",\"N\",\"N\",\"N\",\"N\",\"N\",\"N\",\"N\",\"N\",\"N\",\"Y\",\"N\",\"Y\",\"N\",\"Y\",\"N\",\"N\",\"N\",\"N\",\"N\",\"N\",\"Y\",\"N\",\"Y\",\"N\",\"Y\",\"Y\",\"N\",\"N\",\"N\",\"Y\",\"N\",\"N\",\"Y\",\"Y\",\"Y\",\"N\",\"Y\",\"N\",\"Y\",\"N\",\"Y\",\"N\",\"Y\",\"N\",\"N\",\"N\",\"Y\",\"N\",\"Y\",\"N\",\"Y\",\"N\",\"Y\",\"N\",\"N\",\"N\",\"N\",\"N\",\"N\",\"Y\",\"N\",\"N\",\"Y\",\"Y\",\"Y\",\"N\",\"Y\",\"N\",\"Y\",\"N\",\"N\",\"Y\",\"N\",\"N\",\"N\",\"Y\",\"N\",\"N\",\"N\",\"Y\",\"N\",\"N\",\"N\",\"N\",\"Y\",\"N\",\"N\",\"N\",\"N\",\"Y\",\"N\",\"N\",\"Y\",\"N\",\"Y\",\"N\",\"Y\",\"N\",\"N\",\"N\",\"N\",\"N\",\"Y\",\"N\",\"N\",\"Y\",\"Y\",\"Y\",\"N\",\"N\",\"Y\",\"Y\",\"N\",\"N\",\"N\",\"N\",\"Y\",\"N\",\"N\",\"N\",\"Y\",\"N\",\"N\",\"Y\",\"N\",\"N\",\"Y\",\"N\",\"N\",\"N\",\"Y\",\"N\",\"N\",\"Y\",\"N\",\"N\",\"Y\",\"N\",\"N\",\"N\",\"Y\",\"N\",\"N\",\"Y\",\"N\",\"N\",\"N\",\"N\",\"Y\",\"N\",\"N\",\"N\",\"Y\",\"N\",\"N\",\"N\",\"N\",\"N\",\"N\",\"Y\",\"Y\",\"N\",\"N\",\"N\",\"Y\",\"N\",\"N\",\"N\",\"N\",\"N\",\"N\",\"N\",\"Y\",\"N\",\"N\",\"Y\",\"Y\",\"N\",\"N\",\"N\",\"N\",\"N\",\"N\",\"Y\",\"N\",\"Y\",\"N\",\"N\",\"N\",\"Y\",\"N\",\"N\",\"N\",\"N\",\"N\",\"Y\",\"Y\",\"Y\",\"N\",\"N\",\"Y\",\"N\",\"N\",\"Y\",\"N\",\"N\"],\"legendgroup\":\"\",\"name\":\"\",\"showlegend\":true,\"type\":\"pie\"}],                        {\"template\":{\"data\":{\"bar\":[{\"error_x\":{\"color\":\"#2a3f5f\"},\"error_y\":{\"color\":\"#2a3f5f\"},\"marker\":{\"line\":{\"color\":\"#E5ECF6\",\"width\":0.5},\"pattern\":{\"fillmode\":\"overlay\",\"size\":10,\"solidity\":0.2}},\"type\":\"bar\"}],\"barpolar\":[{\"marker\":{\"line\":{\"color\":\"#E5ECF6\",\"width\":0.5},\"pattern\":{\"fillmode\":\"overlay\",\"size\":10,\"solidity\":0.2}},\"type\":\"barpolar\"}],\"carpet\":[{\"aaxis\":{\"endlinecolor\":\"#2a3f5f\",\"gridcolor\":\"white\",\"linecolor\":\"white\",\"minorgridcolor\":\"white\",\"startlinecolor\":\"#2a3f5f\"},\"baxis\":{\"endlinecolor\":\"#2a3f5f\",\"gridcolor\":\"white\",\"linecolor\":\"white\",\"minorgridcolor\":\"white\",\"startlinecolor\":\"#2a3f5f\"},\"type\":\"carpet\"}],\"choropleth\":[{\"colorbar\":{\"outlinewidth\":0,\"ticks\":\"\"},\"type\":\"choropleth\"}],\"contour\":[{\"colorbar\":{\"outlinewidth\":0,\"ticks\":\"\"},\"colorscale\":[[0.0,\"#0d0887\"],[0.1111111111111111,\"#46039f\"],[0.2222222222222222,\"#7201a8\"],[0.3333333333333333,\"#9c179e\"],[0.4444444444444444,\"#bd3786\"],[0.5555555555555556,\"#d8576b\"],[0.6666666666666666,\"#ed7953\"],[0.7777777777777778,\"#fb9f3a\"],[0.8888888888888888,\"#fdca26\"],[1.0,\"#f0f921\"]],\"type\":\"contour\"}],\"contourcarpet\":[{\"colorbar\":{\"outlinewidth\":0,\"ticks\":\"\"},\"type\":\"contourcarpet\"}],\"heatmap\":[{\"colorbar\":{\"outlinewidth\":0,\"ticks\":\"\"},\"colorscale\":[[0.0,\"#0d0887\"],[0.1111111111111111,\"#46039f\"],[0.2222222222222222,\"#7201a8\"],[0.3333333333333333,\"#9c179e\"],[0.4444444444444444,\"#bd3786\"],[0.5555555555555556,\"#d8576b\"],[0.6666666666666666,\"#ed7953\"],[0.7777777777777778,\"#fb9f3a\"],[0.8888888888888888,\"#fdca26\"],[1.0,\"#f0f921\"]],\"type\":\"heatmap\"}],\"heatmapgl\":[{\"colorbar\":{\"outlinewidth\":0,\"ticks\":\"\"},\"colorscale\":[[0.0,\"#0d0887\"],[0.1111111111111111,\"#46039f\"],[0.2222222222222222,\"#7201a8\"],[0.3333333333333333,\"#9c179e\"],[0.4444444444444444,\"#bd3786\"],[0.5555555555555556,\"#d8576b\"],[0.6666666666666666,\"#ed7953\"],[0.7777777777777778,\"#fb9f3a\"],[0.8888888888888888,\"#fdca26\"],[1.0,\"#f0f921\"]],\"type\":\"heatmapgl\"}],\"histogram\":[{\"marker\":{\"pattern\":{\"fillmode\":\"overlay\",\"size\":10,\"solidity\":0.2}},\"type\":\"histogram\"}],\"histogram2d\":[{\"colorbar\":{\"outlinewidth\":0,\"ticks\":\"\"},\"colorscale\":[[0.0,\"#0d0887\"],[0.1111111111111111,\"#46039f\"],[0.2222222222222222,\"#7201a8\"],[0.3333333333333333,\"#9c179e\"],[0.4444444444444444,\"#bd3786\"],[0.5555555555555556,\"#d8576b\"],[0.6666666666666666,\"#ed7953\"],[0.7777777777777778,\"#fb9f3a\"],[0.8888888888888888,\"#fdca26\"],[1.0,\"#f0f921\"]],\"type\":\"histogram2d\"}],\"histogram2dcontour\":[{\"colorbar\":{\"outlinewidth\":0,\"ticks\":\"\"},\"colorscale\":[[0.0,\"#0d0887\"],[0.1111111111111111,\"#46039f\"],[0.2222222222222222,\"#7201a8\"],[0.3333333333333333,\"#9c179e\"],[0.4444444444444444,\"#bd3786\"],[0.5555555555555556,\"#d8576b\"],[0.6666666666666666,\"#ed7953\"],[0.7777777777777778,\"#fb9f3a\"],[0.8888888888888888,\"#fdca26\"],[1.0,\"#f0f921\"]],\"type\":\"histogram2dcontour\"}],\"mesh3d\":[{\"colorbar\":{\"outlinewidth\":0,\"ticks\":\"\"},\"type\":\"mesh3d\"}],\"parcoords\":[{\"line\":{\"colorbar\":{\"outlinewidth\":0,\"ticks\":\"\"}},\"type\":\"parcoords\"}],\"pie\":[{\"automargin\":true,\"type\":\"pie\"}],\"scatter\":[{\"marker\":{\"colorbar\":{\"outlinewidth\":0,\"ticks\":\"\"}},\"type\":\"scatter\"}],\"scatter3d\":[{\"line\":{\"colorbar\":{\"outlinewidth\":0,\"ticks\":\"\"}},\"marker\":{\"colorbar\":{\"outlinewidth\":0,\"ticks\":\"\"}},\"type\":\"scatter3d\"}],\"scattercarpet\":[{\"marker\":{\"colorbar\":{\"outlinewidth\":0,\"ticks\":\"\"}},\"type\":\"scattercarpet\"}],\"scattergeo\":[{\"marker\":{\"colorbar\":{\"outlinewidth\":0,\"ticks\":\"\"}},\"type\":\"scattergeo\"}],\"scattergl\":[{\"marker\":{\"colorbar\":{\"outlinewidth\":0,\"ticks\":\"\"}},\"type\":\"scattergl\"}],\"scattermapbox\":[{\"marker\":{\"colorbar\":{\"outlinewidth\":0,\"ticks\":\"\"}},\"type\":\"scattermapbox\"}],\"scatterpolar\":[{\"marker\":{\"colorbar\":{\"outlinewidth\":0,\"ticks\":\"\"}},\"type\":\"scatterpolar\"}],\"scatterpolargl\":[{\"marker\":{\"colorbar\":{\"outlinewidth\":0,\"ticks\":\"\"}},\"type\":\"scatterpolargl\"}],\"scatterternary\":[{\"marker\":{\"colorbar\":{\"outlinewidth\":0,\"ticks\":\"\"}},\"type\":\"scatterternary\"}],\"surface\":[{\"colorbar\":{\"outlinewidth\":0,\"ticks\":\"\"},\"colorscale\":[[0.0,\"#0d0887\"],[0.1111111111111111,\"#46039f\"],[0.2222222222222222,\"#7201a8\"],[0.3333333333333333,\"#9c179e\"],[0.4444444444444444,\"#bd3786\"],[0.5555555555555556,\"#d8576b\"],[0.6666666666666666,\"#ed7953\"],[0.7777777777777778,\"#fb9f3a\"],[0.8888888888888888,\"#fdca26\"],[1.0,\"#f0f921\"]],\"type\":\"surface\"}],\"table\":[{\"cells\":{\"fill\":{\"color\":\"#EBF0F8\"},\"line\":{\"color\":\"white\"}},\"header\":{\"fill\":{\"color\":\"#C8D4E3\"},\"line\":{\"color\":\"white\"}},\"type\":\"table\"}]},\"layout\":{\"annotationdefaults\":{\"arrowcolor\":\"#2a3f5f\",\"arrowhead\":0,\"arrowwidth\":1},\"autotypenumbers\":\"strict\",\"coloraxis\":{\"colorbar\":{\"outlinewidth\":0,\"ticks\":\"\"}},\"colorscale\":{\"diverging\":[[0,\"#8e0152\"],[0.1,\"#c51b7d\"],[0.2,\"#de77ae\"],[0.3,\"#f1b6da\"],[0.4,\"#fde0ef\"],[0.5,\"#f7f7f7\"],[0.6,\"#e6f5d0\"],[0.7,\"#b8e186\"],[0.8,\"#7fbc41\"],[0.9,\"#4d9221\"],[1,\"#276419\"]],\"sequential\":[[0.0,\"#0d0887\"],[0.1111111111111111,\"#46039f\"],[0.2222222222222222,\"#7201a8\"],[0.3333333333333333,\"#9c179e\"],[0.4444444444444444,\"#bd3786\"],[0.5555555555555556,\"#d8576b\"],[0.6666666666666666,\"#ed7953\"],[0.7777777777777778,\"#fb9f3a\"],[0.8888888888888888,\"#fdca26\"],[1.0,\"#f0f921\"]],\"sequentialminus\":[[0.0,\"#0d0887\"],[0.1111111111111111,\"#46039f\"],[0.2222222222222222,\"#7201a8\"],[0.3333333333333333,\"#9c179e\"],[0.4444444444444444,\"#bd3786\"],[0.5555555555555556,\"#d8576b\"],[0.6666666666666666,\"#ed7953\"],[0.7777777777777778,\"#fb9f3a\"],[0.8888888888888888,\"#fdca26\"],[1.0,\"#f0f921\"]]},\"colorway\":[\"#636efa\",\"#EF553B\",\"#00cc96\",\"#ab63fa\",\"#FFA15A\",\"#19d3f3\",\"#FF6692\",\"#B6E880\",\"#FF97FF\",\"#FECB52\"],\"font\":{\"color\":\"#2a3f5f\"},\"geo\":{\"bgcolor\":\"white\",\"lakecolor\":\"white\",\"landcolor\":\"#E5ECF6\",\"showlakes\":true,\"showland\":true,\"subunitcolor\":\"white\"},\"hoverlabel\":{\"align\":\"left\"},\"hovermode\":\"closest\",\"mapbox\":{\"style\":\"light\"},\"paper_bgcolor\":\"white\",\"plot_bgcolor\":\"#E5ECF6\",\"polar\":{\"angularaxis\":{\"gridcolor\":\"white\",\"linecolor\":\"white\",\"ticks\":\"\"},\"bgcolor\":\"#E5ECF6\",\"radialaxis\":{\"gridcolor\":\"white\",\"linecolor\":\"white\",\"ticks\":\"\"}},\"scene\":{\"xaxis\":{\"backgroundcolor\":\"#E5ECF6\",\"gridcolor\":\"white\",\"gridwidth\":2,\"linecolor\":\"white\",\"showbackground\":true,\"ticks\":\"\",\"zerolinecolor\":\"white\"},\"yaxis\":{\"backgroundcolor\":\"#E5ECF6\",\"gridcolor\":\"white\",\"gridwidth\":2,\"linecolor\":\"white\",\"showbackground\":true,\"ticks\":\"\",\"zerolinecolor\":\"white\"},\"zaxis\":{\"backgroundcolor\":\"#E5ECF6\",\"gridcolor\":\"white\",\"gridwidth\":2,\"linecolor\":\"white\",\"showbackground\":true,\"ticks\":\"\",\"zerolinecolor\":\"white\"}},\"shapedefaults\":{\"line\":{\"color\":\"#2a3f5f\"}},\"ternary\":{\"aaxis\":{\"gridcolor\":\"white\",\"linecolor\":\"white\",\"ticks\":\"\"},\"baxis\":{\"gridcolor\":\"white\",\"linecolor\":\"white\",\"ticks\":\"\"},\"bgcolor\":\"#E5ECF6\",\"caxis\":{\"gridcolor\":\"white\",\"linecolor\":\"white\",\"ticks\":\"\"}},\"title\":{\"x\":0.05},\"xaxis\":{\"automargin\":true,\"gridcolor\":\"white\",\"linecolor\":\"white\",\"ticks\":\"\",\"title\":{\"standoff\":15},\"zerolinecolor\":\"white\",\"zerolinewidth\":2},\"yaxis\":{\"automargin\":true,\"gridcolor\":\"white\",\"linecolor\":\"white\",\"ticks\":\"\",\"title\":{\"standoff\":15},\"zerolinecolor\":\"white\",\"zerolinewidth\":2}}},\"legend\":{\"tracegroupgap\":0},\"margin\":{\"t\":60}},                        {\"responsive\": true}                    ).then(function(){\n",
              "                            \n",
              "var gd = document.getElementById('442f31a6-ea52-4f95-b7b1-a0327b2ade75');\n",
              "var x = new MutationObserver(function (mutations, observer) {{\n",
              "        var display = window.getComputedStyle(gd).display;\n",
              "        if (!display || display === 'none') {{\n",
              "            console.log([gd, 'removed!']);\n",
              "            Plotly.purge(gd);\n",
              "            observer.disconnect();\n",
              "        }}\n",
              "}});\n",
              "\n",
              "// Listen for the removal of the full notebook cells\n",
              "var notebookContainer = gd.closest('#notebook-container');\n",
              "if (notebookContainer) {{\n",
              "    x.observe(notebookContainer, {childList: true});\n",
              "}}\n",
              "\n",
              "// Listen for the clearing of the current output cell\n",
              "var outputEl = gd.closest('.output');\n",
              "if (outputEl) {{\n",
              "    x.observe(outputEl, {childList: true});\n",
              "}}\n",
              "\n",
              "                        })                };                            </script>        </div>\n",
              "</body>\n",
              "</html>"
            ]
          },
          "metadata": {}
        }
      ]
    },
    {
      "cell_type": "markdown",
      "source": [
        "### **Old Peak = Depressão de ST (referência no ECG) induzida por exercício em relação ao repouso**"
      ],
      "metadata": {
        "id": "Y_r_hwkOdjj7"
      }
    },
    {
      "cell_type": "markdown",
      "source": [
        "![image.png](data:image/png;base64,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)"
      ],
      "metadata": {
        "id": "77_pSO8jhT2R"
      }
    },
    {
      "cell_type": "markdown",
      "source": [
        "![image.png](data:image/png;base64,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)"
      ],
      "metadata": {
        "id": "yzFhrdBHhWdZ"
      }
    },
    {
      "cell_type": "code",
      "source": [
        "dados['Oldpeak'].value_counts()"
      ],
      "metadata": {
        "id": "UJBn0ddUdwmO",
        "colab": {
          "base_uri": "https://localhost:8080/"
        },
        "outputId": "dbad11bb-5b08-48a8-f4b5-bc0fa813bc47"
      },
      "execution_count": 93,
      "outputs": [
        {
          "output_type": "execute_result",
          "data": {
            "text/plain": [
              " 0.0    368\n",
              " 1.0     86\n",
              " 2.0     76\n",
              " 1.5     53\n",
              " 3.0     28\n",
              " 1.2     26\n",
              " 0.2     22\n",
              " 0.5     19\n",
              " 1.4     18\n",
              " 1.8     17\n",
              " 2.5     16\n",
              " 0.8     16\n",
              " 1.6     16\n",
              " 0.1     14\n",
              " 0.6     14\n",
              " 0.4     11\n",
              " 0.3     11\n",
              " 4.0      8\n",
              " 0.7      7\n",
              " 2.8      7\n",
              " 1.9      7\n",
              " 1.3      7\n",
              " 2.6      7\n",
              " 1.1      7\n",
              " 1.7      6\n",
              " 2.2      5\n",
              " 0.9      4\n",
              " 2.4      4\n",
              " 3.6      4\n",
              " 3.4      3\n",
              " 4.2      2\n",
              " 3.5      2\n",
              "-0.5      2\n",
              " 2.3      2\n",
              " 3.2      2\n",
              " 2.1      2\n",
              "-1.0      2\n",
              "-0.1      2\n",
              " 5.6      1\n",
              " 2.9      1\n",
              " 6.2      1\n",
              " 3.8      1\n",
              "-1.5      1\n",
              " 3.1      1\n",
              "-2.0      1\n",
              " 3.7      1\n",
              "-0.8      1\n",
              "-0.7      1\n",
              "-1.1      1\n",
              "-2.6      1\n",
              "-0.9      1\n",
              " 5.0      1\n",
              " 4.4      1\n",
              "Name: Oldpeak, dtype: int64"
            ]
          },
          "metadata": {},
          "execution_count": 93
        }
      ]
    },
    {
      "cell_type": "code",
      "source": [
        "sns.histplot(dados, x='Oldpeak', bins=30, color=\"blue\", kde=True, stat=\"count\");"
      ],
      "metadata": {
        "id": "nLU0o5tXeQAl",
        "colab": {
          "base_uri": "https://localhost:8080/",
          "height": 0
        },
        "outputId": "f8c4f590-bb9b-438f-acca-4ff54e2e2289"
      },
      "execution_count": 94,
      "outputs": [
        {
          "output_type": "display_data",
          "data": {
            "text/plain": [
              "<Figure size 432x288 with 1 Axes>"
            ],
            "image/png": "[encoded data removed]"
          },
          "metadata": {
            "needs_background": "light"
          }
        }
      ]
    },
    {
      "cell_type": "markdown",
      "source": [
        "### **ST_Slope = Inclinação do segmento ST no ECG**"
      ],
      "metadata": {
        "id": "z6psHZDJiMCR"
      }
    },
    {
      "cell_type": "markdown",
      "source": [
        "![image.png](data:image/png;base64,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)"
      ],
      "metadata": {
        "id": "8siZMNeyikn5"
      }
    },
    {
      "cell_type": "code",
      "source": [
        "dados['ST_Slope'].value_counts()"
      ],
      "metadata": {
        "id": "kq1Bwoa8ilk8",
        "colab": {
          "base_uri": "https://localhost:8080/"
        },
        "outputId": "eccbf6b9-0082-4178-f78a-ad5b5a488aa8"
      },
      "execution_count": 95,
      "outputs": [
        {
          "output_type": "execute_result",
          "data": {
            "text/plain": [
              "Flat    460\n",
              "Up      395\n",
              "Down     63\n",
              "Name: ST_Slope, dtype: int64"
            ]
          },
          "metadata": {},
          "execution_count": 95
        }
      ]
    },
    {
      "cell_type": "markdown",
      "source": [
        "Flat = plano\n",
        "\n",
        "Up = para cima\n",
        "\n",
        "Down = para baixo "
      ],
      "metadata": {
        "id": "4mG4_C-hjJpR"
      }
    },
    {
      "cell_type": "code",
      "source": [
        "px.pie(dados, 'ST_Slope') "
      ],
      "metadata": {
        "id": "_HTaVySDjgXn",
        "colab": {
          "base_uri": "https://localhost:8080/",
          "height": 0
        },
        "outputId": "d371e974-c309-4e87-b9cf-c59e1c4ad7cf"
      },
      "execution_count": 96,
      "outputs": [
        {
          "output_type": "display_data",
          "data": {
            "text/html": [
              "<html>\n",
              "<head><meta charset=\"utf-8\" /></head>\n",
              "<body>\n",
              "    <div>            <script src=\"https://cdnjs.cloudflare.com/ajax/libs/mathjax/2.7.5/MathJax.js?config=TeX-AMS-MML_SVG\"></script><script type=\"text/javascript\">if (window.MathJax) {MathJax.Hub.Config({SVG: {font: \"STIX-Web\"}});}</script>                <script type=\"text/javascript\">window.PlotlyConfig = {MathJaxConfig: 'local'};</script>\n",
              "        <script src=\"https://cdn.plot.ly/plotly-2.8.3.min.js\"></script>                <div id=\"1e3c1a71-f9e1-43fb-bb26-ce51c2ff05a9\" class=\"plotly-graph-div\" style=\"height:525px; width:100%;\"></div>            <script type=\"text/javascript\">                                    window.PLOTLYENV=window.PLOTLYENV || {};                                    if (document.getElementById(\"1e3c1a71-f9e1-43fb-bb26-ce51c2ff05a9\")) {                    Plotly.newPlot(                        \"1e3c1a71-f9e1-43fb-bb26-ce51c2ff05a9\",                        [{\"domain\":{\"x\":[0.0,1.0],\"y\":[0.0,1.0]},\"hovertemplate\":\"ST_Slope=%{label}<extra></extra>\",\"labels\":[\"Up\",\"Flat\",\"Up\",\"Flat\",\"Up\",\"Up\",\"Up\",\"Up\",\"Flat\",\"Up\",\"Up\",\"Flat\",\"Up\",\"Flat\",\"Up\",\"Flat\",\"Flat\",\"Up\",\"Flat\",\"Flat\",\"Up\",\"Flat\",\"Up\",\"Flat\",\"Up\",\"Up\",\"Flat\",\"Up\",\"Up\",\"Up\",\"Flat\",\"Up\",\"Flat\",\"Flat\",\"Up\",\"Up\",\"Flat\",\"Up\",\"Up\",\"Flat\",\"Up\",\"Flat\",\"Up\",\"Up\",\"Flat\",\"Flat\",\"Up\",\"Up\",\"Flat\",\"Flat\",\"Flat\",\"Flat\",\"Up\",\"Up\",\"Flat\",\"Up\",\"Flat\",\"Flat\",\"Up\",\"Flat\",\"Up\",\"Up\",\"Up\",\"Flat\",\"Up\",\"Up\",\"Up\",\"Up\",\"Flat\",\"Up\",\"Flat\",\"Up\",\"Flat\",\"Up\",\"Flat\",\"Up\",\"Flat\",\"Up\",\"Up\",\"Flat\",\"Up\",\"Up\",\"Flat\",\"Up\",\"Flat\",\"Flat\",\"Flat\",\"Flat\",\"Flat\",\"Flat\",\"Up\",\"Up\",\"Up\",\"Flat\",\"Up\",\"Flat\",\"Up\",\"Up\",\"Up\",\"Up\",\"Flat\",\"Up\",\"Flat\",\"Flat\",\"Flat\",\"Up\",\"Up\",\"Up\",\"Up\",\"Up\",\"Flat\",\"Flat\",\"Up\",\"Up\",\"Up\",\"Flat\",\"Flat\",\"Flat\",\"Up\",\"Flat\",\"Flat\",\"Up\",\"Up\",\"Flat\",\"Up\",\"Up\",\"Up\",\"Up\",\"Up\",\"Flat\",\"Up\",\"Flat\",\"Flat\",\"Flat\",\"Flat\",\"Flat\",\"Up\",\"Up\",\"Flat\",\"Flat\",\"Flat\",\"Flat\",\"Flat\",\"Up\",\"Flat\",\"Up\",\"Up\",\"Up\",\"Up\",\"Flat\",\"Up\",\"Up\",\"Up\",\"Up\",\"Up\",\"Flat\",\"Flat\",\"Up\",\"Flat\",\"Up\",\"Flat\",\"Flat\",\"Up\",\"Up\",\"Up\",\"Flat\",\"Flat\",\"Up\",\"Up\",\"Up\",\"Up\",\"Up\",\"Up\",\"Up\",\"Flat\",\"Flat\",\"Flat\",\"Up\",\"Up\",\"Up\",\"Flat\",\"Up\",\"Flat\",\"Flat\",\"Up\",\"Flat\",\"Up\",\"Flat\",\"Flat\",\"Flat\",\"Up\",\"Up\",\"Up\",\"Up\",\"Up\",\"Up\",\"Flat\",\"Up\",\"Flat\",\"Flat\",\"Up\",\"Up\",\"Up\",\"Up\",\"Up\",\"Up\",\"Up\",\"Flat\",\"Up\",\"Flat\",\"Flat\",\"Flat\",\"Up\",\"Up\",\"Flat\",\"Up\",\"Flat\",\"Up\",\"Up\",\"Up\",\"Flat\",\"Flat\",\"Up\",\"Up\",\"Up\",\"Flat\",\"Up\",\"Flat\",\"Up\",\"Up\",\"Up\",\"Up\",\"Up\",\"Up\",\"Up\",\"Flat\",\"Flat\",\"Flat\",\"Flat\",\"Flat\",\"Up\",\"Flat\",\"Flat\",\"Up\",\"Flat\",\"Up\",\"Flat\",\"Down\",\"Flat\",\"Flat\",\"Flat\",\"Flat\",\"Up\",\"Up\",\"Flat\",\"Up\",\"Up\",\"Up\",\"Up\",\"Up\",\"Up\",\"Up\",\"Flat\",\"Flat\",\"Flat\",\"Up\",\"Flat\",\"Up\",\"Flat\",\"Flat\",\"Up\",\"Up\",\"Flat\",\"Up\",\"Up\",\"Up\",\"Flat\",\"Flat\",\"Flat\",\"Up\",\"Up\",\"Flat\",\"Up\",\"Up\",\"Up\",\"Up\",\"Up\",\"Up\",\"Up\",\"Up\",\"Up\",\"Up\",\"Up\",\"Flat\",\"Up\",\"Up\",\"Flat\",\"Up\",\"Flat\",\"Up\",\"Flat\",\"Up\",\"Up\",\"Down\",\"Flat\",\"Up\",\"Flat\",\"Down\",\"Up\",\"Down\",\"Up\",\"Up\",\"Up\",\"Up\",\"Down\",\"Up\",\"Flat\",\"Up\",\"Flat\",\"Up\",\"Flat\",\"Flat\",\"Up\",\"Down\",\"Flat\",\"Down\",\"Up\",\"Up\",\"Flat\",\"Down\",\"Up\",\"Up\",\"Up\",\"Up\",\"Up\",\"Flat\",\"Flat\",\"Up\",\"Up\",\"Down\",\"Down\",\"Down\",\"Flat\",\"Flat\",\"Flat\",\"Flat\",\"Flat\",\"Flat\",\"Flat\",\"Flat\",\"Flat\",\"Up\",\"Down\",\"Flat\",\"Up\",\"Flat\",\"Flat\",\"Flat\",\"Flat\",\"Flat\",\"Flat\",\"Flat\",\"Flat\",\"Flat\",\"Flat\",\"Flat\",\"Flat\",\"Up\",\"Flat\",\"Flat\",\"Up\",\"Flat\",\"Up\",\"Flat\",\"Down\",\"Up\",\"Flat\",\"Flat\",\"Flat\",\"Up\",\"Flat\",\"Flat\",\"Flat\",\"Flat\",\"Flat\",\"Flat\",\"Flat\",\"Flat\",\"Flat\",\"Flat\",\"Flat\",\"Flat\",\"Flat\",\"Flat\",\"Flat\",\"Flat\",\"Flat\",\"Flat\",\"Up\",\"Flat\",\"Flat\",\"Flat\",\"Flat\",\"Flat\",\"Flat\",\"Flat\",\"Flat\",\"Flat\",\"Flat\",\"Flat\",\"Flat\",\"Flat\",\"Flat\",\"Flat\",\"Flat\",\"Flat\",\"Flat\",\"Up\",\"Down\",\"Up\",\"Flat\",\"Up\",\"Flat\",\"Flat\",\"Up\",\"Flat\",\"Up\",\"Flat\",\"Flat\",\"Flat\",\"Flat\",\"Up\",\"Down\",\"Flat\",\"Down\",\"Up\",\"Up\",\"Flat\",\"Flat\",\"Up\",\"Up\",\"Flat\",\"Flat\",\"Flat\",\"Flat\",\"Flat\",\"Flat\",\"Up\",\"Flat\",\"Flat\",\"Down\",\"Flat\",\"Flat\",\"Up\",\"Flat\",\"Up\",\"Flat\",\"Flat\",\"Flat\",\"Up\",\"Flat\",\"Flat\",\"Down\",\"Up\",\"Down\",\"Up\",\"Flat\",\"Up\",\"Up\",\"Flat\",\"Flat\",\"Flat\",\"Flat\",\"Flat\",\"Up\",\"Flat\",\"Up\",\"Down\",\"Flat\",\"Flat\",\"Flat\",\"Down\",\"Up\",\"Down\",\"Flat\",\"Flat\",\"Up\",\"Flat\",\"Up\",\"Flat\",\"Flat\",\"Flat\",\"Flat\",\"Flat\",\"Flat\",\"Flat\",\"Down\",\"Down\",\"Flat\",\"Flat\",\"Down\",\"Flat\",\"Flat\",\"Up\",\"Down\",\"Flat\",\"Flat\",\"Up\",\"Down\",\"Flat\",\"Up\",\"Flat\",\"Up\",\"Flat\",\"Up\",\"Flat\",\"Flat\",\"Flat\",\"Down\",\"Up\",\"Flat\",\"Down\",\"Up\",\"Flat\",\"Up\",\"Up\",\"Flat\",\"Up\",\"Flat\",\"Flat\",\"Flat\",\"Flat\",\"Flat\",\"Flat\",\"Down\",\"Flat\",\"Flat\",\"Down\",\"Flat\",\"Up\",\"Flat\",\"Down\",\"Flat\",\"Down\",\"Up\",\"Up\",\"Flat\",\"Down\",\"Up\",\"Up\",\"Flat\",\"Up\",\"Flat\",\"Flat\",\"Up\",\"Flat\",\"Down\",\"Flat\",\"Flat\",\"Down\",\"Up\",\"Up\",\"Flat\",\"Flat\",\"Flat\",\"Flat\",\"Flat\",\"Flat\",\"Down\",\"Flat\",\"Down\",\"Flat\",\"Flat\",\"Flat\",\"Flat\",\"Flat\",\"Flat\",\"Flat\",\"Down\",\"Flat\",\"Flat\",\"Up\",\"Flat\",\"Up\",\"Flat\",\"Flat\",\"Flat\",\"Flat\",\"Flat\",\"Flat\",\"Up\",\"Up\",\"Down\",\"Flat\",\"Up\",\"Flat\",\"Flat\",\"Up\",\"Down\",\"Flat\",\"Flat\",\"Flat\",\"Flat\",\"Down\",\"Up\",\"Up\",\"Flat\",\"Flat\",\"Flat\",\"Flat\",\"Flat\",\"Up\",\"Flat\",\"Up\",\"Flat\",\"Flat\",\"Flat\",\"Up\",\"Flat\",\"Up\",\"Up\",\"Flat\",\"Flat\",\"Flat\",\"Flat\",\"Flat\",\"Up\",\"Up\",\"Flat\",\"Up\",\"Flat\",\"Flat\",\"Down\",\"Flat\",\"Up\",\"Flat\",\"Flat\",\"Flat\",\"Up\",\"Up\",\"Up\",\"Flat\",\"Up\",\"Flat\",\"Up\",\"Flat\",\"Up\",\"Up\",\"Down\",\"Flat\",\"Up\",\"Up\",\"Up\",\"Up\",\"Up\",\"Up\",\"Up\",\"Up\",\"Up\",\"Flat\",\"Up\",\"Up\",\"Up\",\"Flat\",\"Flat\",\"Flat\",\"Up\",\"Up\",\"Up\",\"Flat\",\"Up\",\"Flat\",\"Up\",\"Flat\",\"Flat\",\"Up\",\"Flat\",\"Up\",\"Up\",\"Down\",\"Flat\",\"Up\",\"Up\",\"Flat\",\"Up\",\"Flat\",\"Up\",\"Up\",\"Flat\",\"Up\",\"Flat\",\"Flat\",\"Up\",\"Flat\",\"Up\",\"Flat\",\"Flat\",\"Up\",\"Flat\",\"Flat\",\"Up\",\"Up\",\"Down\",\"Up\",\"Flat\",\"Up\",\"Up\",\"Flat\",\"Flat\",\"Up\",\"Flat\",\"Flat\",\"Up\",\"Up\",\"Up\",\"Flat\",\"Flat\",\"Up\",\"Flat\",\"Flat\",\"Flat\",\"Flat\",\"Flat\",\"Up\",\"Flat\",\"Flat\",\"Up\",\"Up\",\"Up\",\"Up\",\"Flat\",\"Up\",\"Down\",\"Down\",\"Down\",\"Flat\",\"Flat\",\"Flat\",\"Up\",\"Down\",\"Up\",\"Flat\",\"Flat\",\"Up\",\"Up\",\"Flat\",\"Up\",\"Up\",\"Down\",\"Up\",\"Down\",\"Up\",\"Flat\",\"Up\",\"Up\",\"Flat\",\"Up\",\"Flat\",\"Up\",\"Up\",\"Flat\",\"Up\",\"Flat\",\"Up\",\"Up\",\"Up\",\"Flat\",\"Up\",\"Flat\",\"Up\",\"Up\",\"Down\",\"Up\",\"Flat\",\"Flat\",\"Flat\",\"Flat\",\"Up\",\"Flat\",\"Up\",\"Up\",\"Up\",\"Down\",\"Flat\",\"Flat\",\"Flat\",\"Flat\",\"Flat\",\"Flat\",\"Up\",\"Flat\",\"Flat\",\"Flat\",\"Flat\",\"Up\",\"Down\",\"Flat\",\"Up\",\"Flat\",\"Up\",\"Up\",\"Flat\",\"Up\",\"Flat\",\"Flat\",\"Up\",\"Down\",\"Up\",\"Up\",\"Up\",\"Flat\",\"Flat\",\"Flat\",\"Up\",\"Up\",\"Up\",\"Up\",\"Flat\",\"Up\",\"Flat\",\"Flat\",\"Up\",\"Flat\",\"Flat\",\"Down\",\"Flat\",\"Flat\",\"Flat\",\"Flat\",\"Up\",\"Up\",\"Up\",\"Up\",\"Flat\",\"Up\",\"Flat\",\"Flat\",\"Up\",\"Up\",\"Up\",\"Flat\",\"Flat\",\"Flat\",\"Up\",\"Flat\",\"Flat\",\"Flat\",\"Up\",\"Up\",\"Flat\",\"Down\",\"Up\",\"Flat\",\"Up\",\"Up\",\"Flat\",\"Up\",\"Flat\",\"Down\",\"Up\",\"Up\",\"Up\",\"Up\",\"Flat\",\"Flat\",\"Flat\",\"Up\",\"Up\",\"Up\",\"Up\",\"Up\",\"Flat\",\"Flat\",\"Up\",\"Up\",\"Up\",\"Flat\",\"Flat\",\"Up\",\"Down\",\"Up\",\"Up\",\"Flat\",\"Flat\",\"Flat\",\"Up\",\"Up\",\"Flat\",\"Flat\",\"Up\",\"Flat\",\"Flat\",\"Flat\",\"Up\",\"Flat\",\"Flat\",\"Up\",\"Flat\",\"Up\",\"Up\",\"Down\",\"Flat\",\"Flat\",\"Up\",\"Down\",\"Flat\",\"Up\",\"Down\",\"Up\",\"Flat\",\"Up\",\"Flat\",\"Flat\",\"Flat\",\"Flat\",\"Flat\",\"Flat\",\"Up\"],\"legendgroup\":\"\",\"name\":\"\",\"showlegend\":true,\"type\":\"pie\"}],                        {\"template\":{\"data\":{\"bar\":[{\"error_x\":{\"color\":\"#2a3f5f\"},\"error_y\":{\"color\":\"#2a3f5f\"},\"marker\":{\"line\":{\"color\":\"#E5ECF6\",\"width\":0.5},\"pattern\":{\"fillmode\":\"overlay\",\"size\":10,\"solidity\":0.2}},\"type\":\"bar\"}],\"barpolar\":[{\"marker\":{\"line\":{\"color\":\"#E5ECF6\",\"width\":0.5},\"pattern\":{\"fillmode\":\"overlay\",\"size\":10,\"solidity\":0.2}},\"type\":\"barpolar\"}],\"carpet\":[{\"aaxis\":{\"endlinecolor\":\"#2a3f5f\",\"gridcolor\":\"white\",\"linecolor\":\"white\",\"minorgridcolor\":\"white\",\"startlinecolor\":\"#2a3f5f\"},\"baxis\":{\"endlinecolor\":\"#2a3f5f\",\"gridcolor\":\"white\",\"linecolor\":\"white\",\"minorgridcolor\":\"white\",\"startlinecolor\":\"#2a3f5f\"},\"type\":\"carpet\"}],\"choropleth\":[{\"colorbar\":{\"outlinewidth\":0,\"ticks\":\"\"},\"type\":\"choropleth\"}],\"contour\":[{\"colorbar\":{\"outlinewidth\":0,\"ticks\":\"\"},\"colorscale\":[[0.0,\"#0d0887\"],[0.1111111111111111,\"#46039f\"],[0.2222222222222222,\"#7201a8\"],[0.3333333333333333,\"#9c179e\"],[0.4444444444444444,\"#bd3786\"],[0.5555555555555556,\"#d8576b\"],[0.6666666666666666,\"#ed7953\"],[0.7777777777777778,\"#fb9f3a\"],[0.8888888888888888,\"#fdca26\"],[1.0,\"#f0f921\"]],\"type\":\"contour\"}],\"contourcarpet\":[{\"colorbar\":{\"outlinewidth\":0,\"ticks\":\"\"},\"type\":\"contourcarpet\"}],\"heatmap\":[{\"colorbar\":{\"outlinewidth\":0,\"ticks\":\"\"},\"colorscale\":[[0.0,\"#0d0887\"],[0.1111111111111111,\"#46039f\"],[0.2222222222222222,\"#7201a8\"],[0.3333333333333333,\"#9c179e\"],[0.4444444444444444,\"#bd3786\"],[0.5555555555555556,\"#d8576b\"],[0.6666666666666666,\"#ed7953\"],[0.7777777777777778,\"#fb9f3a\"],[0.8888888888888888,\"#fdca26\"],[1.0,\"#f0f921\"]],\"type\":\"heatmap\"}],\"heatmapgl\":[{\"colorbar\":{\"outlinewidth\":0,\"ticks\":\"\"},\"colorscale\":[[0.0,\"#0d0887\"],[0.1111111111111111,\"#46039f\"],[0.2222222222222222,\"#7201a8\"],[0.3333333333333333,\"#9c179e\"],[0.4444444444444444,\"#bd3786\"],[0.5555555555555556,\"#d8576b\"],[0.6666666666666666,\"#ed7953\"],[0.7777777777777778,\"#fb9f3a\"],[0.8888888888888888,\"#fdca26\"],[1.0,\"#f0f921\"]],\"type\":\"heatmapgl\"}],\"histogram\":[{\"marker\":{\"pattern\":{\"fillmode\":\"overlay\",\"size\":10,\"solidity\":0.2}},\"type\":\"histogram\"}],\"histogram2d\":[{\"colorbar\":{\"outlinewidth\":0,\"ticks\":\"\"},\"colorscale\":[[0.0,\"#0d0887\"],[0.1111111111111111,\"#46039f\"],[0.2222222222222222,\"#7201a8\"],[0.3333333333333333,\"#9c179e\"],[0.4444444444444444,\"#bd3786\"],[0.5555555555555556,\"#d8576b\"],[0.6666666666666666,\"#ed7953\"],[0.7777777777777778,\"#fb9f3a\"],[0.8888888888888888,\"#fdca26\"],[1.0,\"#f0f921\"]],\"type\":\"histogram2d\"}],\"histogram2dcontour\":[{\"colorbar\":{\"outlinewidth\":0,\"ticks\":\"\"},\"colorscale\":[[0.0,\"#0d0887\"],[0.1111111111111111,\"#46039f\"],[0.2222222222222222,\"#7201a8\"],[0.3333333333333333,\"#9c179e\"],[0.4444444444444444,\"#bd3786\"],[0.5555555555555556,\"#d8576b\"],[0.6666666666666666,\"#ed7953\"],[0.7777777777777778,\"#fb9f3a\"],[0.8888888888888888,\"#fdca26\"],[1.0,\"#f0f921\"]],\"type\":\"histogram2dcontour\"}],\"mesh3d\":[{\"colorbar\":{\"outlinewidth\":0,\"ticks\":\"\"},\"type\":\"mesh3d\"}],\"parcoords\":[{\"line\":{\"colorbar\":{\"outlinewidth\":0,\"ticks\":\"\"}},\"type\":\"parcoords\"}],\"pie\":[{\"automargin\":true,\"type\":\"pie\"}],\"scatter\":[{\"marker\":{\"colorbar\":{\"outlinewidth\":0,\"ticks\":\"\"}},\"type\":\"scatter\"}],\"scatter3d\":[{\"line\":{\"colorbar\":{\"outlinewidth\":0,\"ticks\":\"\"}},\"marker\":{\"colorbar\":{\"outlinewidth\":0,\"ticks\":\"\"}},\"type\":\"scatter3d\"}],\"scattercarpet\":[{\"marker\":{\"colorbar\":{\"outlinewidth\":0,\"ticks\":\"\"}},\"type\":\"scattercarpet\"}],\"scattergeo\":[{\"marker\":{\"colorbar\":{\"outlinewidth\":0,\"ticks\":\"\"}},\"type\":\"scattergeo\"}],\"scattergl\":[{\"marker\":{\"colorbar\":{\"outlinewidth\":0,\"ticks\":\"\"}},\"type\":\"scattergl\"}],\"scattermapbox\":[{\"marker\":{\"colorbar\":{\"outlinewidth\":0,\"ticks\":\"\"}},\"type\":\"scattermapbox\"}],\"scatterpolar\":[{\"marker\":{\"colorbar\":{\"outlinewidth\":0,\"ticks\":\"\"}},\"type\":\"scatterpolar\"}],\"scatterpolargl\":[{\"marker\":{\"colorbar\":{\"outlinewidth\":0,\"ticks\":\"\"}},\"type\":\"scatterpolargl\"}],\"scatterternary\":[{\"marker\":{\"colorbar\":{\"outlinewidth\":0,\"ticks\":\"\"}},\"type\":\"scatterternary\"}],\"surface\":[{\"colorbar\":{\"outlinewidth\":0,\"ticks\":\"\"},\"colorscale\":[[0.0,\"#0d0887\"],[0.1111111111111111,\"#46039f\"],[0.2222222222222222,\"#7201a8\"],[0.3333333333333333,\"#9c179e\"],[0.4444444444444444,\"#bd3786\"],[0.5555555555555556,\"#d8576b\"],[0.6666666666666666,\"#ed7953\"],[0.7777777777777778,\"#fb9f3a\"],[0.8888888888888888,\"#fdca26\"],[1.0,\"#f0f921\"]],\"type\":\"surface\"}],\"table\":[{\"cells\":{\"fill\":{\"color\":\"#EBF0F8\"},\"line\":{\"color\":\"white\"}},\"header\":{\"fill\":{\"color\":\"#C8D4E3\"},\"line\":{\"color\":\"white\"}},\"type\":\"table\"}]},\"layout\":{\"annotationdefaults\":{\"arrowcolor\":\"#2a3f5f\",\"arrowhead\":0,\"arrowwidth\":1},\"autotypenumbers\":\"strict\",\"coloraxis\":{\"colorbar\":{\"outlinewidth\":0,\"ticks\":\"\"}},\"colorscale\":{\"diverging\":[[0,\"#8e0152\"],[0.1,\"#c51b7d\"],[0.2,\"#de77ae\"],[0.3,\"#f1b6da\"],[0.4,\"#fde0ef\"],[0.5,\"#f7f7f7\"],[0.6,\"#e6f5d0\"],[0.7,\"#b8e186\"],[0.8,\"#7fbc41\"],[0.9,\"#4d9221\"],[1,\"#276419\"]],\"sequential\":[[0.0,\"#0d0887\"],[0.1111111111111111,\"#46039f\"],[0.2222222222222222,\"#7201a8\"],[0.3333333333333333,\"#9c179e\"],[0.4444444444444444,\"#bd3786\"],[0.5555555555555556,\"#d8576b\"],[0.6666666666666666,\"#ed7953\"],[0.7777777777777778,\"#fb9f3a\"],[0.8888888888888888,\"#fdca26\"],[1.0,\"#f0f921\"]],\"sequentialminus\":[[0.0,\"#0d0887\"],[0.1111111111111111,\"#46039f\"],[0.2222222222222222,\"#7201a8\"],[0.3333333333333333,\"#9c179e\"],[0.4444444444444444,\"#bd3786\"],[0.5555555555555556,\"#d8576b\"],[0.6666666666666666,\"#ed7953\"],[0.7777777777777778,\"#fb9f3a\"],[0.8888888888888888,\"#fdca26\"],[1.0,\"#f0f921\"]]},\"colorway\":[\"#636efa\",\"#EF553B\",\"#00cc96\",\"#ab63fa\",\"#FFA15A\",\"#19d3f3\",\"#FF6692\",\"#B6E880\",\"#FF97FF\",\"#FECB52\"],\"font\":{\"color\":\"#2a3f5f\"},\"geo\":{\"bgcolor\":\"white\",\"lakecolor\":\"white\",\"landcolor\":\"#E5ECF6\",\"showlakes\":true,\"showland\":true,\"subunitcolor\":\"white\"},\"hoverlabel\":{\"align\":\"left\"},\"hovermode\":\"closest\",\"mapbox\":{\"style\":\"light\"},\"paper_bgcolor\":\"white\",\"plot_bgcolor\":\"#E5ECF6\",\"polar\":{\"angularaxis\":{\"gridcolor\":\"white\",\"linecolor\":\"white\",\"ticks\":\"\"},\"bgcolor\":\"#E5ECF6\",\"radialaxis\":{\"gridcolor\":\"white\",\"linecolor\":\"white\",\"ticks\":\"\"}},\"scene\":{\"xaxis\":{\"backgroundcolor\":\"#E5ECF6\",\"gridcolor\":\"white\",\"gridwidth\":2,\"linecolor\":\"white\",\"showbackground\":true,\"ticks\":\"\",\"zerolinecolor\":\"white\"},\"yaxis\":{\"backgroundcolor\":\"#E5ECF6\",\"gridcolor\":\"white\",\"gridwidth\":2,\"linecolor\":\"white\",\"showbackground\":true,\"ticks\":\"\",\"zerolinecolor\":\"white\"},\"zaxis\":{\"backgroundcolor\":\"#E5ECF6\",\"gridcolor\":\"white\",\"gridwidth\":2,\"linecolor\":\"white\",\"showbackground\":true,\"ticks\":\"\",\"zerolinecolor\":\"white\"}},\"shapedefaults\":{\"line\":{\"color\":\"#2a3f5f\"}},\"ternary\":{\"aaxis\":{\"gridcolor\":\"white\",\"linecolor\":\"white\",\"ticks\":\"\"},\"baxis\":{\"gridcolor\":\"white\",\"linecolor\":\"white\",\"ticks\":\"\"},\"bgcolor\":\"#E5ECF6\",\"caxis\":{\"gridcolor\":\"white\",\"linecolor\":\"white\",\"ticks\":\"\"}},\"title\":{\"x\":0.05},\"xaxis\":{\"automargin\":true,\"gridcolor\":\"white\",\"linecolor\":\"white\",\"ticks\":\"\",\"title\":{\"standoff\":15},\"zerolinecolor\":\"white\",\"zerolinewidth\":2},\"yaxis\":{\"automargin\":true,\"gridcolor\":\"white\",\"linecolor\":\"white\",\"ticks\":\"\",\"title\":{\"standoff\":15},\"zerolinecolor\":\"white\",\"zerolinewidth\":2}}},\"legend\":{\"tracegroupgap\":0},\"margin\":{\"t\":60}},                        {\"responsive\": true}                    ).then(function(){\n",
              "                            \n",
              "var gd = document.getElementById('1e3c1a71-f9e1-43fb-bb26-ce51c2ff05a9');\n",
              "var x = new MutationObserver(function (mutations, observer) {{\n",
              "        var display = window.getComputedStyle(gd).display;\n",
              "        if (!display || display === 'none') {{\n",
              "            console.log([gd, 'removed!']);\n",
              "            Plotly.purge(gd);\n",
              "            observer.disconnect();\n",
              "        }}\n",
              "}});\n",
              "\n",
              "// Listen for the removal of the full notebook cells\n",
              "var notebookContainer = gd.closest('#notebook-container');\n",
              "if (notebookContainer) {{\n",
              "    x.observe(notebookContainer, {childList: true});\n",
              "}}\n",
              "\n",
              "// Listen for the clearing of the current output cell\n",
              "var outputEl = gd.closest('.output');\n",
              "if (outputEl) {{\n",
              "    x.observe(outputEl, {childList: true});\n",
              "}}\n",
              "\n",
              "                        })                };                            </script>        </div>\n",
              "</body>\n",
              "</html>"
            ]
          },
          "metadata": {}
        }
      ]
    },
    {
      "cell_type": "markdown",
      "source": [
        "### **Heart Disease = Doença cardíaca**"
      ],
      "metadata": {
        "id": "sDeEmu-njsd0"
      }
    },
    {
      "cell_type": "code",
      "source": [
        "dados['HeartDisease'].value_counts()"
      ],
      "metadata": {
        "id": "h5v-q3NKkbkG",
        "colab": {
          "base_uri": "https://localhost:8080/"
        },
        "outputId": "2eeb23a1-a72e-4f7a-e8e0-3128558fe0d5"
      },
      "execution_count": 97,
      "outputs": [
        {
          "output_type": "execute_result",
          "data": {
            "text/plain": [
              "1    508\n",
              "0    410\n",
              "Name: HeartDisease, dtype: int64"
            ]
          },
          "metadata": {},
          "execution_count": 97
        }
      ]
    },
    {
      "cell_type": "markdown",
      "source": [
        "0 = Não possui doença cardíaca\n",
        "\n",
        "1 = Possui doença cardíaca\n",
        "\n"
      ],
      "metadata": {
        "id": "CraNJCBYlCx6"
      }
    },
    {
      "cell_type": "code",
      "source": [
        "px.pie(dados, 'HeartDisease')"
      ],
      "metadata": {
        "id": "EGgS9dPjkrCq",
        "colab": {
          "base_uri": "https://localhost:8080/",
          "height": 0
        },
        "outputId": "81769981-c493-4354-c509-d9c5920512fb"
      },
      "execution_count": 98,
      "outputs": [
        {
          "output_type": "display_data",
          "data": {
            "text/html": [
              "<html>\n",
              "<head><meta charset=\"utf-8\" /></head>\n",
              "<body>\n",
              "    <div>            <script src=\"https://cdnjs.cloudflare.com/ajax/libs/mathjax/2.7.5/MathJax.js?config=TeX-AMS-MML_SVG\"></script><script type=\"text/javascript\">if (window.MathJax) {MathJax.Hub.Config({SVG: {font: \"STIX-Web\"}});}</script>                <script type=\"text/javascript\">window.PlotlyConfig = {MathJaxConfig: 'local'};</script>\n",
              "        <script src=\"https://cdn.plot.ly/plotly-2.8.3.min.js\"></script>                <div id=\"8010bc6e-13ff-4e47-aaa5-37889260e813\" class=\"plotly-graph-div\" style=\"height:525px; width:100%;\"></div>            <script type=\"text/javascript\">                                    window.PLOTLYENV=window.PLOTLYENV || {};                                    if (document.getElementById(\"8010bc6e-13ff-4e47-aaa5-37889260e813\")) {                    Plotly.newPlot(                        \"8010bc6e-13ff-4e47-aaa5-37889260e813\",                        [{\"domain\":{\"x\":[0.0,1.0],\"y\":[0.0,1.0]},\"hovertemplate\":\"HeartDisease=%{label}<extra></extra>\",\"labels\":[0,1,0,1,0,0,0,0,1,0,0,1,0,1,0,0,1,0,1,1,0,0,0,1,0,0,0,0,0,0,1,0,1,1,0,0,1,0,0,0,0,1,0,0,1,0,0,0,0,1,1,1,0,0,0,0,1,1,0,1,0,0,0,1,0,0,0,0,1,0,1,0,1,0,1,0,1,0,0,1,0,0,1,0,1,1,1,0,1,0,0,0,0,1,0,1,0,0,0,0,1,0,1,1,1,0,0,0,0,0,0,1,0,0,0,1,1,1,0,1,1,0,0,1,0,0,0,0,0,0,0,1,1,1,0,1,0,0,1,1,1,1,1,0,1,0,0,0,0,1,0,0,0,0,0,1,1,0,1,0,1,1,0,0,0,1,1,0,0,0,0,0,0,0,1,1,1,0,0,0,1,0,1,0,0,1,0,1,0,1,0,0,0,0,0,0,0,0,1,0,0,0,0,0,0,0,0,1,0,1,1,1,0,0,1,0,1,0,0,0,1,1,0,0,0,1,0,1,0,0,0,0,0,0,0,0,1,1,1,1,0,1,1,0,1,0,1,1,1,1,1,1,0,0,1,0,0,0,0,0,0,0,1,1,1,0,1,0,1,0,0,0,1,0,0,0,1,1,0,0,0,1,0,0,0,0,0,0,0,0,0,0,0,1,1,1,1,1,1,1,1,0,1,1,1,1,1,0,1,1,0,1,1,1,0,1,1,1,1,1,1,1,1,1,1,1,0,1,1,1,1,1,0,1,1,1,0,1,1,1,1,1,1,1,1,1,1,1,1,1,1,1,1,1,1,1,1,1,1,1,1,1,1,1,0,1,1,1,1,1,1,1,1,1,1,1,1,1,1,1,1,1,1,1,1,1,1,1,1,1,1,1,1,1,1,1,1,1,1,1,1,1,1,1,1,1,1,1,1,1,1,1,1,1,1,1,1,0,1,1,0,0,1,0,1,1,0,1,1,1,1,0,1,1,0,0,1,1,1,0,1,1,1,1,1,1,1,1,1,1,1,1,1,0,1,0,1,1,1,0,1,1,1,0,1,0,1,0,1,0,1,1,1,1,0,1,0,1,1,1,1,1,1,1,1,1,0,1,0,1,1,1,1,1,1,1,0,1,1,1,1,1,1,0,1,1,1,0,1,1,0,1,0,1,1,0,1,1,1,1,0,1,1,1,0,0,1,0,1,1,1,1,1,1,1,1,1,1,1,0,1,1,1,1,0,0,1,1,1,0,1,0,1,1,0,1,0,1,1,1,0,0,0,1,1,1,0,1,1,1,1,1,1,1,1,1,1,1,1,1,1,1,1,0,1,1,1,0,1,1,0,0,1,1,1,1,1,0,1,1,0,1,1,1,0,0,1,1,1,1,1,0,1,0,1,1,0,1,0,0,0,1,1,1,1,0,0,0,1,0,0,1,1,0,0,1,0,0,0,0,0,0,0,1,0,1,0,0,1,1,1,1,1,0,0,1,0,0,0,1,0,1,1,1,1,1,0,0,0,0,0,1,0,1,1,0,1,0,0,0,1,0,1,0,1,1,0,0,0,0,1,0,0,0,0,1,1,1,0,0,0,0,0,0,1,0,1,1,1,1,1,0,1,0,0,0,1,0,1,1,1,0,1,1,0,1,0,1,0,0,0,1,1,0,1,1,1,1,0,0,0,1,0,0,1,1,1,0,1,0,0,0,1,0,0,1,0,1,0,1,1,1,1,1,0,0,0,0,0,0,0,1,0,0,1,1,1,0,1,0,0,0,0,0,1,0,1,1,0,0,1,1,1,1,0,0,1,1,0,0,0,1,0,0,1,0,1,0,1,0,0,0,0,0,1,0,1,1,1,1,0,0,0,1,0,1,0,0,1,0,0,0,0,0,0,1,1,0,1,0,0,1,1,0,0,1,1,0,1,0,1,0,1,0,0,1,0,0,1,0,1,1,0,1,1,1,0,1,0,0,0,0,1,1,0,0,1,1,0,1,0,0,0,0,1,0,0,1,1,1,0,0,0,1,0,1,0,1,0,1,1,1,0,0,0,1,0,1,1,1,0,1,1,1,1,1,1,0],\"legendgroup\":\"\",\"name\":\"\",\"showlegend\":true,\"type\":\"pie\"}],                        {\"template\":{\"data\":{\"bar\":[{\"error_x\":{\"color\":\"#2a3f5f\"},\"error_y\":{\"color\":\"#2a3f5f\"},\"marker\":{\"line\":{\"color\":\"#E5ECF6\",\"width\":0.5},\"pattern\":{\"fillmode\":\"overlay\",\"size\":10,\"solidity\":0.2}},\"type\":\"bar\"}],\"barpolar\":[{\"marker\":{\"line\":{\"color\":\"#E5ECF6\",\"width\":0.5},\"pattern\":{\"fillmode\":\"overlay\",\"size\":10,\"solidity\":0.2}},\"type\":\"barpolar\"}],\"carpet\":[{\"aaxis\":{\"endlinecolor\":\"#2a3f5f\",\"gridcolor\":\"white\",\"linecolor\":\"white\",\"minorgridcolor\":\"white\",\"startlinecolor\":\"#2a3f5f\"},\"baxis\":{\"endlinecolor\":\"#2a3f5f\",\"gridcolor\":\"white\",\"linecolor\":\"white\",\"minorgridcolor\":\"white\",\"startlinecolor\":\"#2a3f5f\"},\"type\":\"carpet\"}],\"choropleth\":[{\"colorbar\":{\"outlinewidth\":0,\"ticks\":\"\"},\"type\":\"choropleth\"}],\"contour\":[{\"colorbar\":{\"outlinewidth\":0,\"ticks\":\"\"},\"colorscale\":[[0.0,\"#0d0887\"],[0.1111111111111111,\"#46039f\"],[0.2222222222222222,\"#7201a8\"],[0.3333333333333333,\"#9c179e\"],[0.4444444444444444,\"#bd3786\"],[0.5555555555555556,\"#d8576b\"],[0.6666666666666666,\"#ed7953\"],[0.7777777777777778,\"#fb9f3a\"],[0.8888888888888888,\"#fdca26\"],[1.0,\"#f0f921\"]],\"type\":\"contour\"}],\"contourcarpet\":[{\"colorbar\":{\"outlinewidth\":0,\"ticks\":\"\"},\"type\":\"contourcarpet\"}],\"heatmap\":[{\"colorbar\":{\"outlinewidth\":0,\"ticks\":\"\"},\"colorscale\":[[0.0,\"#0d0887\"],[0.1111111111111111,\"#46039f\"],[0.2222222222222222,\"#7201a8\"],[0.3333333333333333,\"#9c179e\"],[0.4444444444444444,\"#bd3786\"],[0.5555555555555556,\"#d8576b\"],[0.6666666666666666,\"#ed7953\"],[0.7777777777777778,\"#fb9f3a\"],[0.8888888888888888,\"#fdca26\"],[1.0,\"#f0f921\"]],\"type\":\"heatmap\"}],\"heatmapgl\":[{\"colorbar\":{\"outlinewidth\":0,\"ticks\":\"\"},\"colorscale\":[[0.0,\"#0d0887\"],[0.1111111111111111,\"#46039f\"],[0.2222222222222222,\"#7201a8\"],[0.3333333333333333,\"#9c179e\"],[0.4444444444444444,\"#bd3786\"],[0.5555555555555556,\"#d8576b\"],[0.6666666666666666,\"#ed7953\"],[0.7777777777777778,\"#fb9f3a\"],[0.8888888888888888,\"#fdca26\"],[1.0,\"#f0f921\"]],\"type\":\"heatmapgl\"}],\"histogram\":[{\"marker\":{\"pattern\":{\"fillmode\":\"overlay\",\"size\":10,\"solidity\":0.2}},\"type\":\"histogram\"}],\"histogram2d\":[{\"colorbar\":{\"outlinewidth\":0,\"ticks\":\"\"},\"colorscale\":[[0.0,\"#0d0887\"],[0.1111111111111111,\"#46039f\"],[0.2222222222222222,\"#7201a8\"],[0.3333333333333333,\"#9c179e\"],[0.4444444444444444,\"#bd3786\"],[0.5555555555555556,\"#d8576b\"],[0.6666666666666666,\"#ed7953\"],[0.7777777777777778,\"#fb9f3a\"],[0.8888888888888888,\"#fdca26\"],[1.0,\"#f0f921\"]],\"type\":\"histogram2d\"}],\"histogram2dcontour\":[{\"colorbar\":{\"outlinewidth\":0,\"ticks\":\"\"},\"colorscale\":[[0.0,\"#0d0887\"],[0.1111111111111111,\"#46039f\"],[0.2222222222222222,\"#7201a8\"],[0.3333333333333333,\"#9c179e\"],[0.4444444444444444,\"#bd3786\"],[0.5555555555555556,\"#d8576b\"],[0.6666666666666666,\"#ed7953\"],[0.7777777777777778,\"#fb9f3a\"],[0.8888888888888888,\"#fdca26\"],[1.0,\"#f0f921\"]],\"type\":\"histogram2dcontour\"}],\"mesh3d\":[{\"colorbar\":{\"outlinewidth\":0,\"ticks\":\"\"},\"type\":\"mesh3d\"}],\"parcoords\":[{\"line\":{\"colorbar\":{\"outlinewidth\":0,\"ticks\":\"\"}},\"type\":\"parcoords\"}],\"pie\":[{\"automargin\":true,\"type\":\"pie\"}],\"scatter\":[{\"marker\":{\"colorbar\":{\"outlinewidth\":0,\"ticks\":\"\"}},\"type\":\"scatter\"}],\"scatter3d\":[{\"line\":{\"colorbar\":{\"outlinewidth\":0,\"ticks\":\"\"}},\"marker\":{\"colorbar\":{\"outlinewidth\":0,\"ticks\":\"\"}},\"type\":\"scatter3d\"}],\"scattercarpet\":[{\"marker\":{\"colorbar\":{\"outlinewidth\":0,\"ticks\":\"\"}},\"type\":\"scattercarpet\"}],\"scattergeo\":[{\"marker\":{\"colorbar\":{\"outlinewidth\":0,\"ticks\":\"\"}},\"type\":\"scattergeo\"}],\"scattergl\":[{\"marker\":{\"colorbar\":{\"outlinewidth\":0,\"ticks\":\"\"}},\"type\":\"scattergl\"}],\"scattermapbox\":[{\"marker\":{\"colorbar\":{\"outlinewidth\":0,\"ticks\":\"\"}},\"type\":\"scattermapbox\"}],\"scatterpolar\":[{\"marker\":{\"colorbar\":{\"outlinewidth\":0,\"ticks\":\"\"}},\"type\":\"scatterpolar\"}],\"scatterpolargl\":[{\"marker\":{\"colorbar\":{\"outlinewidth\":0,\"ticks\":\"\"}},\"type\":\"scatterpolargl\"}],\"scatterternary\":[{\"marker\":{\"colorbar\":{\"outlinewidth\":0,\"ticks\":\"\"}},\"type\":\"scatterternary\"}],\"surface\":[{\"colorbar\":{\"outlinewidth\":0,\"ticks\":\"\"},\"colorscale\":[[0.0,\"#0d0887\"],[0.1111111111111111,\"#46039f\"],[0.2222222222222222,\"#7201a8\"],[0.3333333333333333,\"#9c179e\"],[0.4444444444444444,\"#bd3786\"],[0.5555555555555556,\"#d8576b\"],[0.6666666666666666,\"#ed7953\"],[0.7777777777777778,\"#fb9f3a\"],[0.8888888888888888,\"#fdca26\"],[1.0,\"#f0f921\"]],\"type\":\"surface\"}],\"table\":[{\"cells\":{\"fill\":{\"color\":\"#EBF0F8\"},\"line\":{\"color\":\"white\"}},\"header\":{\"fill\":{\"color\":\"#C8D4E3\"},\"line\":{\"color\":\"white\"}},\"type\":\"table\"}]},\"layout\":{\"annotationdefaults\":{\"arrowcolor\":\"#2a3f5f\",\"arrowhead\":0,\"arrowwidth\":1},\"autotypenumbers\":\"strict\",\"coloraxis\":{\"colorbar\":{\"outlinewidth\":0,\"ticks\":\"\"}},\"colorscale\":{\"diverging\":[[0,\"#8e0152\"],[0.1,\"#c51b7d\"],[0.2,\"#de77ae\"],[0.3,\"#f1b6da\"],[0.4,\"#fde0ef\"],[0.5,\"#f7f7f7\"],[0.6,\"#e6f5d0\"],[0.7,\"#b8e186\"],[0.8,\"#7fbc41\"],[0.9,\"#4d9221\"],[1,\"#276419\"]],\"sequential\":[[0.0,\"#0d0887\"],[0.1111111111111111,\"#46039f\"],[0.2222222222222222,\"#7201a8\"],[0.3333333333333333,\"#9c179e\"],[0.4444444444444444,\"#bd3786\"],[0.5555555555555556,\"#d8576b\"],[0.6666666666666666,\"#ed7953\"],[0.7777777777777778,\"#fb9f3a\"],[0.8888888888888888,\"#fdca26\"],[1.0,\"#f0f921\"]],\"sequentialminus\":[[0.0,\"#0d0887\"],[0.1111111111111111,\"#46039f\"],[0.2222222222222222,\"#7201a8\"],[0.3333333333333333,\"#9c179e\"],[0.4444444444444444,\"#bd3786\"],[0.5555555555555556,\"#d8576b\"],[0.6666666666666666,\"#ed7953\"],[0.7777777777777778,\"#fb9f3a\"],[0.8888888888888888,\"#fdca26\"],[1.0,\"#f0f921\"]]},\"colorway\":[\"#636efa\",\"#EF553B\",\"#00cc96\",\"#ab63fa\",\"#FFA15A\",\"#19d3f3\",\"#FF6692\",\"#B6E880\",\"#FF97FF\",\"#FECB52\"],\"font\":{\"color\":\"#2a3f5f\"},\"geo\":{\"bgcolor\":\"white\",\"lakecolor\":\"white\",\"landcolor\":\"#E5ECF6\",\"showlakes\":true,\"showland\":true,\"subunitcolor\":\"white\"},\"hoverlabel\":{\"align\":\"left\"},\"hovermode\":\"closest\",\"mapbox\":{\"style\":\"light\"},\"paper_bgcolor\":\"white\",\"plot_bgcolor\":\"#E5ECF6\",\"polar\":{\"angularaxis\":{\"gridcolor\":\"white\",\"linecolor\":\"white\",\"ticks\":\"\"},\"bgcolor\":\"#E5ECF6\",\"radialaxis\":{\"gridcolor\":\"white\",\"linecolor\":\"white\",\"ticks\":\"\"}},\"scene\":{\"xaxis\":{\"backgroundcolor\":\"#E5ECF6\",\"gridcolor\":\"white\",\"gridwidth\":2,\"linecolor\":\"white\",\"showbackground\":true,\"ticks\":\"\",\"zerolinecolor\":\"white\"},\"yaxis\":{\"backgroundcolor\":\"#E5ECF6\",\"gridcolor\":\"white\",\"gridwidth\":2,\"linecolor\":\"white\",\"showbackground\":true,\"ticks\":\"\",\"zerolinecolor\":\"white\"},\"zaxis\":{\"backgroundcolor\":\"#E5ECF6\",\"gridcolor\":\"white\",\"gridwidth\":2,\"linecolor\":\"white\",\"showbackground\":true,\"ticks\":\"\",\"zerolinecolor\":\"white\"}},\"shapedefaults\":{\"line\":{\"color\":\"#2a3f5f\"}},\"ternary\":{\"aaxis\":{\"gridcolor\":\"white\",\"linecolor\":\"white\",\"ticks\":\"\"},\"baxis\":{\"gridcolor\":\"white\",\"linecolor\":\"white\",\"ticks\":\"\"},\"bgcolor\":\"#E5ECF6\",\"caxis\":{\"gridcolor\":\"white\",\"linecolor\":\"white\",\"ticks\":\"\"}},\"title\":{\"x\":0.05},\"xaxis\":{\"automargin\":true,\"gridcolor\":\"white\",\"linecolor\":\"white\",\"ticks\":\"\",\"title\":{\"standoff\":15},\"zerolinecolor\":\"white\",\"zerolinewidth\":2},\"yaxis\":{\"automargin\":true,\"gridcolor\":\"white\",\"linecolor\":\"white\",\"ticks\":\"\",\"title\":{\"standoff\":15},\"zerolinecolor\":\"white\",\"zerolinewidth\":2}}},\"legend\":{\"tracegroupgap\":0},\"margin\":{\"t\":60}},                        {\"responsive\": true}                    ).then(function(){\n",
              "                            \n",
              "var gd = document.getElementById('8010bc6e-13ff-4e47-aaa5-37889260e813');\n",
              "var x = new MutationObserver(function (mutations, observer) {{\n",
              "        var display = window.getComputedStyle(gd).display;\n",
              "        if (!display || display === 'none') {{\n",
              "            console.log([gd, 'removed!']);\n",
              "            Plotly.purge(gd);\n",
              "            observer.disconnect();\n",
              "        }}\n",
              "}});\n",
              "\n",
              "// Listen for the removal of the full notebook cells\n",
              "var notebookContainer = gd.closest('#notebook-container');\n",
              "if (notebookContainer) {{\n",
              "    x.observe(notebookContainer, {childList: true});\n",
              "}}\n",
              "\n",
              "// Listen for the clearing of the current output cell\n",
              "var outputEl = gd.closest('.output');\n",
              "if (outputEl) {{\n",
              "    x.observe(outputEl, {childList: true});\n",
              "}}\n",
              "\n",
              "                        })                };                            </script>        </div>\n",
              "</body>\n",
              "</html>"
            ]
          },
          "metadata": {}
        }
      ]
    },
    {
      "cell_type": "markdown",
      "source": [
        "## **Análise dos tipos de atributos.**"
      ],
      "metadata": {
        "id": "Q_4_5j4Vlz2j"
      }
    },
    {
      "cell_type": "code",
      "metadata": {
        "id": "wopAqivQXpqI",
        "colab": {
          "base_uri": "https://localhost:8080/"
        },
        "outputId": "f89929c9-9e2f-43b8-958b-9df28e899855"
      },
      "source": [
        "# object: strings\n",
        "# int64: inteiros\n",
        "# float64: reais\n",
        "# complex: complexos\n",
        "dados.dtypes"
      ],
      "execution_count": 99,
      "outputs": [
        {
          "output_type": "execute_result",
          "data": {
            "text/plain": [
              "Age                 int64\n",
              "Sex                object\n",
              "ChestPainType      object\n",
              "RestingBP           int64\n",
              "Cholesterol         int64\n",
              "FastingBS           int64\n",
              "RestingECG         object\n",
              "MaxHR               int64\n",
              "ExerciseAngina     object\n",
              "Oldpeak           float64\n",
              "ST_Slope           object\n",
              "HeartDisease        int64\n",
              "dtype: object"
            ]
          },
          "metadata": {},
          "execution_count": 99
        }
      ]
    },
    {
      "cell_type": "markdown",
      "metadata": {
        "id": "3lk5kf4eZ_sL"
      },
      "source": [
        "## **Valores Missing (NAN)**"
      ]
    },
    {
      "cell_type": "code",
      "metadata": {
        "id": "A24U7d5QYPaV",
        "colab": {
          "base_uri": "https://localhost:8080/"
        },
        "outputId": "12c25dd7-b68a-4f12-b7fd-4ae72e431fb8"
      },
      "source": [
        "# RELAÇÃO DA QUANTIDADE\n",
        "dados.isnull().sum()"
      ],
      "execution_count": 100,
      "outputs": [
        {
          "output_type": "execute_result",
          "data": {
            "text/plain": [
              "Age               0\n",
              "Sex               0\n",
              "ChestPainType     0\n",
              "RestingBP         0\n",
              "Cholesterol       0\n",
              "FastingBS         0\n",
              "RestingECG        0\n",
              "MaxHR             0\n",
              "ExerciseAngina    0\n",
              "Oldpeak           0\n",
              "ST_Slope          0\n",
              "HeartDisease      0\n",
              "dtype: int64"
            ]
          },
          "metadata": {},
          "execution_count": 100
        }
      ]
    },
    {
      "cell_type": "code",
      "metadata": {
        "id": "pnSPd6vJHqga"
      },
      "source": [
        "# EXCLUIR VALORES FALTANTES\n",
        "dados2 = dados.dropna()"
      ],
      "execution_count": 101,
      "outputs": []
    },
    {
      "cell_type": "code",
      "source": [
        "dados2.shape"
      ],
      "metadata": {
        "id": "mUVT1esD1vFX",
        "colab": {
          "base_uri": "https://localhost:8080/"
        },
        "outputId": "edd7eecb-777b-4bdd-a95c-be3004689d94"
      },
      "execution_count": 102,
      "outputs": [
        {
          "output_type": "execute_result",
          "data": {
            "text/plain": [
              "(918, 12)"
            ]
          },
          "metadata": {},
          "execution_count": 102
        }
      ]
    },
    {
      "cell_type": "code",
      "source": [
        "dados2.isnull().sum()"
      ],
      "metadata": {
        "id": "_GOFPDZEVA0t",
        "colab": {
          "base_uri": "https://localhost:8080/"
        },
        "outputId": "3559ddd6-bff7-43c6-e6ec-08a8eb6270b6"
      },
      "execution_count": 103,
      "outputs": [
        {
          "output_type": "execute_result",
          "data": {
            "text/plain": [
              "Age               0\n",
              "Sex               0\n",
              "ChestPainType     0\n",
              "RestingBP         0\n",
              "Cholesterol       0\n",
              "FastingBS         0\n",
              "RestingECG        0\n",
              "MaxHR             0\n",
              "ExerciseAngina    0\n",
              "Oldpeak           0\n",
              "ST_Slope          0\n",
              "HeartDisease      0\n",
              "dtype: int64"
            ]
          },
          "metadata": {},
          "execution_count": 103
        }
      ]
    },
    {
      "cell_type": "code",
      "metadata": {
        "id": "vhvpw4QdIPnb"
      },
      "source": [
        "# SUBSTITUIR OS VALORES MISSING PELA MÉDIA\n",
        "dados2['Age'].fillna(dados2['Age'].mean(), inplace=True)"
      ],
      "execution_count": 104,
      "outputs": []
    },
    {
      "cell_type": "code",
      "metadata": {
        "id": "WitNfrC6IzGI"
      },
      "source": [
        "# SUBSTITUIR OS VALORES MISSING POR QUALQUER OUTRO VALOR\n",
        "dados2['Age'].fillna(10, inplace=True)"
      ],
      "execution_count": 105,
      "outputs": []
    },
    {
      "cell_type": "markdown",
      "source": [
        "## **Análises Estatísticas Descritivas**"
      ],
      "metadata": {
        "id": "hInMVVjoqwbt"
      }
    },
    {
      "cell_type": "code",
      "source": [
        "dados.describe()"
      ],
      "metadata": {
        "id": "xeWzfTMao0pc",
        "colab": {
          "base_uri": "https://localhost:8080/",
          "height": 300
        },
        "outputId": "0c64578a-8a4a-4946-da8b-4d6261283c31"
      },
      "execution_count": 106,
      "outputs": [
        {
          "output_type": "execute_result",
          "data": {
            "text/plain": [
              "              Age   RestingBP  Cholesterol   FastingBS       MaxHR  \\\n",
              "count  918.000000  918.000000   918.000000  918.000000  918.000000   \n",
              "mean    53.510893  132.396514   198.799564    0.233115  136.809368   \n",
              "std      9.432617   18.514154   109.384145    0.423046   25.460334   \n",
              "min     28.000000    0.000000     0.000000    0.000000   60.000000   \n",
              "25%     47.000000  120.000000   173.250000    0.000000  120.000000   \n",
              "50%     54.000000  130.000000   223.000000    0.000000  138.000000   \n",
              "75%     60.000000  140.000000   267.000000    0.000000  156.000000   \n",
              "max     77.000000  200.000000   603.000000    1.000000  202.000000   \n",
              "\n",
              "          Oldpeak  HeartDisease  \n",
              "count  918.000000    918.000000  \n",
              "mean     0.887364      0.553377  \n",
              "std      1.066570      0.497414  \n",
              "min     -2.600000      0.000000  \n",
              "25%      0.000000      0.000000  \n",
              "50%      0.600000      1.000000  \n",
              "75%      1.500000      1.000000  \n",
              "max      6.200000      1.000000  "
            ],
            "text/html": [
              "\n",
              "  <div id=\"df-12c649dc-410c-421d-8563-556840fb72cd\">\n",
              "    <div class=\"colab-df-container\">\n",
              "      <div>\n",
              "<style scoped>\n",
              "    .dataframe tbody tr th:only-of-type {\n",
              "        vertical-align: middle;\n",
              "    }\n",
              "\n",
              "    .dataframe tbody tr th {\n",
              "        vertical-align: top;\n",
              "    }\n",
              "\n",
              "    .dataframe thead th {\n",
              "        text-align: right;\n",
              "    }\n",
              "</style>\n",
              "<table border=\"1\" class=\"dataframe\">\n",
              "  <thead>\n",
              "    <tr style=\"text-align: right;\">\n",
              "      <th></th>\n",
              "      <th>Age</th>\n",
              "      <th>RestingBP</th>\n",
              "      <th>Cholesterol</th>\n",
              "      <th>FastingBS</th>\n",
              "      <th>MaxHR</th>\n",
              "      <th>Oldpeak</th>\n",
              "      <th>HeartDisease</th>\n",
              "    </tr>\n",
              "  </thead>\n",
              "  <tbody>\n",
              "    <tr>\n",
              "      <th>count</th>\n",
              "      <td>918.000000</td>\n",
              "      <td>918.000000</td>\n",
              "      <td>918.000000</td>\n",
              "      <td>918.000000</td>\n",
              "      <td>918.000000</td>\n",
              "      <td>918.000000</td>\n",
              "      <td>918.000000</td>\n",
              "    </tr>\n",
              "    <tr>\n",
              "      <th>mean</th>\n",
              "      <td>53.510893</td>\n",
              "      <td>132.396514</td>\n",
              "      <td>198.799564</td>\n",
              "      <td>0.233115</td>\n",
              "      <td>136.809368</td>\n",
              "      <td>0.887364</td>\n",
              "      <td>0.553377</td>\n",
              "    </tr>\n",
              "    <tr>\n",
              "      <th>std</th>\n",
              "      <td>9.432617</td>\n",
              "      <td>18.514154</td>\n",
              "      <td>109.384145</td>\n",
              "      <td>0.423046</td>\n",
              "      <td>25.460334</td>\n",
              "      <td>1.066570</td>\n",
              "      <td>0.497414</td>\n",
              "    </tr>\n",
              "    <tr>\n",
              "      <th>min</th>\n",
              "      <td>28.000000</td>\n",
              "      <td>0.000000</td>\n",
              "      <td>0.000000</td>\n",
              "      <td>0.000000</td>\n",
              "      <td>60.000000</td>\n",
              "      <td>-2.600000</td>\n",
              "      <td>0.000000</td>\n",
              "    </tr>\n",
              "    <tr>\n",
              "      <th>25%</th>\n",
              "      <td>47.000000</td>\n",
              "      <td>120.000000</td>\n",
              "      <td>173.250000</td>\n",
              "      <td>0.000000</td>\n",
              "      <td>120.000000</td>\n",
              "      <td>0.000000</td>\n",
              "      <td>0.000000</td>\n",
              "    </tr>\n",
              "    <tr>\n",
              "      <th>50%</th>\n",
              "      <td>54.000000</td>\n",
              "      <td>130.000000</td>\n",
              "      <td>223.000000</td>\n",
              "      <td>0.000000</td>\n",
              "      <td>138.000000</td>\n",
              "      <td>0.600000</td>\n",
              "      <td>1.000000</td>\n",
              "    </tr>\n",
              "    <tr>\n",
              "      <th>75%</th>\n",
              "      <td>60.000000</td>\n",
              "      <td>140.000000</td>\n",
              "      <td>267.000000</td>\n",
              "      <td>0.000000</td>\n",
              "      <td>156.000000</td>\n",
              "      <td>1.500000</td>\n",
              "      <td>1.000000</td>\n",
              "    </tr>\n",
              "    <tr>\n",
              "      <th>max</th>\n",
              "      <td>77.000000</td>\n",
              "      <td>200.000000</td>\n",
              "      <td>603.000000</td>\n",
              "      <td>1.000000</td>\n",
              "      <td>202.000000</td>\n",
              "      <td>6.200000</td>\n",
              "      <td>1.000000</td>\n",
              "    </tr>\n",
              "  </tbody>\n",
              "</table>\n",
              "</div>\n",
              "      <button class=\"colab-df-convert\" onclick=\"convertToInteractive('df-12c649dc-410c-421d-8563-556840fb72cd')\"\n",
              "              title=\"Convert this dataframe to an interactive table.\"\n",
              "              style=\"display:none;\">\n",
              "        \n",
              "  <svg xmlns=\"http://www.w3.org/2000/svg\" height=\"24px\"viewBox=\"0 0 24 24\"\n",
              "       width=\"24px\">\n",
              "    <path d=\"M0 0h24v24H0V0z\" fill=\"none\"/>\n",
              "    <path d=\"M18.56 5.44l.94 2.06.94-2.06 2.06-.94-2.06-.94-.94-2.06-.94 2.06-2.06.94zm-11 1L8.5 8.5l.94-2.06 2.06-.94-2.06-.94L8.5 2.5l-.94 2.06-2.06.94zm10 10l.94 2.06.94-2.06 2.06-.94-2.06-.94-.94-2.06-.94 2.06-2.06.94z\"/><path d=\"M17.41 7.96l-1.37-1.37c-.4-.4-.92-.59-1.43-.59-.52 0-1.04.2-1.43.59L10.3 9.45l-7.72 7.72c-.78.78-.78 2.05 0 2.83L4 21.41c.39.39.9.59 1.41.59.51 0 1.02-.2 1.41-.59l7.78-7.78 2.81-2.81c.8-.78.8-2.07 0-2.86zM5.41 20L4 18.59l7.72-7.72 1.47 1.35L5.41 20z\"/>\n",
              "  </svg>\n",
              "      </button>\n",
              "      \n",
              "  <style>\n",
              "    .colab-df-container {\n",
              "      display:flex;\n",
              "      flex-wrap:wrap;\n",
              "      gap: 12px;\n",
              "    }\n",
              "\n",
              "    .colab-df-convert {\n",
              "      background-color: #E8F0FE;\n",
              "      border: none;\n",
              "      border-radius: 50%;\n",
              "      cursor: pointer;\n",
              "      display: none;\n",
              "      fill: #1967D2;\n",
              "      height: 32px;\n",
              "      padding: 0 0 0 0;\n",
              "      width: 32px;\n",
              "    }\n",
              "\n",
              "    .colab-df-convert:hover {\n",
              "      background-color: #E2EBFA;\n",
              "      box-shadow: 0px 1px 2px rgba(60, 64, 67, 0.3), 0px 1px 3px 1px rgba(60, 64, 67, 0.15);\n",
              "      fill: #174EA6;\n",
              "    }\n",
              "\n",
              "    [theme=dark] .colab-df-convert {\n",
              "      background-color: #3B4455;\n",
              "      fill: #D2E3FC;\n",
              "    }\n",
              "\n",
              "    [theme=dark] .colab-df-convert:hover {\n",
              "      background-color: #434B5C;\n",
              "      box-shadow: 0px 1px 3px 1px rgba(0, 0, 0, 0.15);\n",
              "      filter: drop-shadow(0px 1px 2px rgba(0, 0, 0, 0.3));\n",
              "      fill: #FFFFFF;\n",
              "    }\n",
              "  </style>\n",
              "\n",
              "      <script>\n",
              "        const buttonEl =\n",
              "          document.querySelector('#df-12c649dc-410c-421d-8563-556840fb72cd button.colab-df-convert');\n",
              "        buttonEl.style.display =\n",
              "          google.colab.kernel.accessAllowed ? 'block' : 'none';\n",
              "\n",
              "        async function convertToInteractive(key) {\n",
              "          const element = document.querySelector('#df-12c649dc-410c-421d-8563-556840fb72cd');\n",
              "          const dataTable =\n",
              "            await google.colab.kernel.invokeFunction('convertToInteractive',\n",
              "                                                     [key], {});\n",
              "          if (!dataTable) return;\n",
              "\n",
              "          const docLinkHtml = 'Like what you see? Visit the ' +\n",
              "            '<a target=\"_blank\" href=https://colab.research.google.com/notebooks/data_table.ipynb>data table notebook</a>'\n",
              "            + ' to learn more about interactive tables.';\n",
              "          element.innerHTML = '';\n",
              "          dataTable['output_type'] = 'display_data';\n",
              "          await google.colab.output.renderOutput(dataTable, element);\n",
              "          const docLink = document.createElement('div');\n",
              "          docLink.innerHTML = docLinkHtml;\n",
              "          element.appendChild(docLink);\n",
              "        }\n",
              "      </script>\n",
              "    </div>\n",
              "  </div>\n",
              "  "
            ]
          },
          "metadata": {},
          "execution_count": 106
        }
      ]
    },
    {
      "cell_type": "code",
      "source": [
        "dados.mode()"
      ],
      "metadata": {
        "id": "IicUhJrCo00k",
        "colab": {
          "base_uri": "https://localhost:8080/",
          "height": 81
        },
        "outputId": "92a49e50-14e0-40b3-a133-7637ab647b93"
      },
      "execution_count": 107,
      "outputs": [
        {
          "output_type": "execute_result",
          "data": {
            "text/plain": [
              "   Age Sex ChestPainType  RestingBP  Cholesterol  FastingBS RestingECG  MaxHR  \\\n",
              "0   54   M           ASY        120            0          0     Normal    150   \n",
              "\n",
              "  ExerciseAngina  Oldpeak ST_Slope  HeartDisease  \n",
              "0              N      0.0     Flat             1  "
            ],
            "text/html": [
              "\n",
              "  <div id=\"df-f3f65c6d-c8f9-4be5-88dc-a5dc5ac6a383\">\n",
              "    <div class=\"colab-df-container\">\n",
              "      <div>\n",
              "<style scoped>\n",
              "    .dataframe tbody tr th:only-of-type {\n",
              "        vertical-align: middle;\n",
              "    }\n",
              "\n",
              "    .dataframe tbody tr th {\n",
              "        vertical-align: top;\n",
              "    }\n",
              "\n",
              "    .dataframe thead th {\n",
              "        text-align: right;\n",
              "    }\n",
              "</style>\n",
              "<table border=\"1\" class=\"dataframe\">\n",
              "  <thead>\n",
              "    <tr style=\"text-align: right;\">\n",
              "      <th></th>\n",
              "      <th>Age</th>\n",
              "      <th>Sex</th>\n",
              "      <th>ChestPainType</th>\n",
              "      <th>RestingBP</th>\n",
              "      <th>Cholesterol</th>\n",
              "      <th>FastingBS</th>\n",
              "      <th>RestingECG</th>\n",
              "      <th>MaxHR</th>\n",
              "      <th>ExerciseAngina</th>\n",
              "      <th>Oldpeak</th>\n",
              "      <th>ST_Slope</th>\n",
              "      <th>HeartDisease</th>\n",
              "    </tr>\n",
              "  </thead>\n",
              "  <tbody>\n",
              "    <tr>\n",
              "      <th>0</th>\n",
              "      <td>54</td>\n",
              "      <td>M</td>\n",
              "      <td>ASY</td>\n",
              "      <td>120</td>\n",
              "      <td>0</td>\n",
              "      <td>0</td>\n",
              "      <td>Normal</td>\n",
              "      <td>150</td>\n",
              "      <td>N</td>\n",
              "      <td>0.0</td>\n",
              "      <td>Flat</td>\n",
              "      <td>1</td>\n",
              "    </tr>\n",
              "  </tbody>\n",
              "</table>\n",
              "</div>\n",
              "      <button class=\"colab-df-convert\" onclick=\"convertToInteractive('df-f3f65c6d-c8f9-4be5-88dc-a5dc5ac6a383')\"\n",
              "              title=\"Convert this dataframe to an interactive table.\"\n",
              "              style=\"display:none;\">\n",
              "        \n",
              "  <svg xmlns=\"http://www.w3.org/2000/svg\" height=\"24px\"viewBox=\"0 0 24 24\"\n",
              "       width=\"24px\">\n",
              "    <path d=\"M0 0h24v24H0V0z\" fill=\"none\"/>\n",
              "    <path d=\"M18.56 5.44l.94 2.06.94-2.06 2.06-.94-2.06-.94-.94-2.06-.94 2.06-2.06.94zm-11 1L8.5 8.5l.94-2.06 2.06-.94-2.06-.94L8.5 2.5l-.94 2.06-2.06.94zm10 10l.94 2.06.94-2.06 2.06-.94-2.06-.94-.94-2.06-.94 2.06-2.06.94z\"/><path d=\"M17.41 7.96l-1.37-1.37c-.4-.4-.92-.59-1.43-.59-.52 0-1.04.2-1.43.59L10.3 9.45l-7.72 7.72c-.78.78-.78 2.05 0 2.83L4 21.41c.39.39.9.59 1.41.59.51 0 1.02-.2 1.41-.59l7.78-7.78 2.81-2.81c.8-.78.8-2.07 0-2.86zM5.41 20L4 18.59l7.72-7.72 1.47 1.35L5.41 20z\"/>\n",
              "  </svg>\n",
              "      </button>\n",
              "      \n",
              "  <style>\n",
              "    .colab-df-container {\n",
              "      display:flex;\n",
              "      flex-wrap:wrap;\n",
              "      gap: 12px;\n",
              "    }\n",
              "\n",
              "    .colab-df-convert {\n",
              "      background-color: #E8F0FE;\n",
              "      border: none;\n",
              "      border-radius: 50%;\n",
              "      cursor: pointer;\n",
              "      display: none;\n",
              "      fill: #1967D2;\n",
              "      height: 32px;\n",
              "      padding: 0 0 0 0;\n",
              "      width: 32px;\n",
              "    }\n",
              "\n",
              "    .colab-df-convert:hover {\n",
              "      background-color: #E2EBFA;\n",
              "      box-shadow: 0px 1px 2px rgba(60, 64, 67, 0.3), 0px 1px 3px 1px rgba(60, 64, 67, 0.15);\n",
              "      fill: #174EA6;\n",
              "    }\n",
              "\n",
              "    [theme=dark] .colab-df-convert {\n",
              "      background-color: #3B4455;\n",
              "      fill: #D2E3FC;\n",
              "    }\n",
              "\n",
              "    [theme=dark] .colab-df-convert:hover {\n",
              "      background-color: #434B5C;\n",
              "      box-shadow: 0px 1px 3px 1px rgba(0, 0, 0, 0.15);\n",
              "      filter: drop-shadow(0px 1px 2px rgba(0, 0, 0, 0.3));\n",
              "      fill: #FFFFFF;\n",
              "    }\n",
              "  </style>\n",
              "\n",
              "      <script>\n",
              "        const buttonEl =\n",
              "          document.querySelector('#df-f3f65c6d-c8f9-4be5-88dc-a5dc5ac6a383 button.colab-df-convert');\n",
              "        buttonEl.style.display =\n",
              "          google.colab.kernel.accessAllowed ? 'block' : 'none';\n",
              "\n",
              "        async function convertToInteractive(key) {\n",
              "          const element = document.querySelector('#df-f3f65c6d-c8f9-4be5-88dc-a5dc5ac6a383');\n",
              "          const dataTable =\n",
              "            await google.colab.kernel.invokeFunction('convertToInteractive',\n",
              "                                                     [key], {});\n",
              "          if (!dataTable) return;\n",
              "\n",
              "          const docLinkHtml = 'Like what you see? Visit the ' +\n",
              "            '<a target=\"_blank\" href=https://colab.research.google.com/notebooks/data_table.ipynb>data table notebook</a>'\n",
              "            + ' to learn more about interactive tables.';\n",
              "          element.innerHTML = '';\n",
              "          dataTable['output_type'] = 'display_data';\n",
              "          await google.colab.output.renderOutput(dataTable, element);\n",
              "          const docLink = document.createElement('div');\n",
              "          docLink.innerHTML = docLinkHtml;\n",
              "          element.appendChild(docLink);\n",
              "        }\n",
              "      </script>\n",
              "    </div>\n",
              "  </div>\n",
              "  "
            ]
          },
          "metadata": {},
          "execution_count": 107
        }
      ]
    },
    {
      "cell_type": "markdown",
      "source": [
        "### **Tratando Valores Incoerentes**"
      ],
      "metadata": {
        "id": "zQaIneZJv-hU"
      }
    },
    {
      "cell_type": "markdown",
      "source": [
        "**Excluindo registro com pressão zero**"
      ],
      "metadata": {
        "id": "jir0Zznx5InP"
      }
    },
    {
      "cell_type": "code",
      "source": [
        "dados2 = dados.loc[dados.RestingBP != 0] "
      ],
      "metadata": {
        "id": "M2e5_PJK5V5X"
      },
      "execution_count": 108,
      "outputs": []
    },
    {
      "cell_type": "code",
      "source": [
        "dados2.shape"
      ],
      "metadata": {
        "id": "jcbGxzAx5ge2",
        "colab": {
          "base_uri": "https://localhost:8080/"
        },
        "outputId": "ddb78e8c-a547-4da9-b6ed-6866824044e6"
      },
      "execution_count": 109,
      "outputs": [
        {
          "output_type": "execute_result",
          "data": {
            "text/plain": [
              "(917, 12)"
            ]
          },
          "metadata": {},
          "execution_count": 109
        }
      ]
    },
    {
      "cell_type": "code",
      "source": [
        "dados2.describe()"
      ],
      "metadata": {
        "id": "FnpY9rf65qRw",
        "colab": {
          "base_uri": "https://localhost:8080/",
          "height": 0
        },
        "outputId": "cff462c0-02d5-407f-baab-33eb6f92c8fc"
      },
      "execution_count": 110,
      "outputs": [
        {
          "output_type": "execute_result",
          "data": {
            "text/plain": [
              "              Age   RestingBP  Cholesterol   FastingBS       MaxHR  \\\n",
              "count  917.000000  917.000000   917.000000  917.000000  917.000000   \n",
              "mean    53.509269  132.540894   199.016358    0.233370  136.789531   \n",
              "std      9.437636   17.999749   109.246330    0.423206   25.467129   \n",
              "min     28.000000   80.000000     0.000000    0.000000   60.000000   \n",
              "25%     47.000000  120.000000   174.000000    0.000000  120.000000   \n",
              "50%     54.000000  130.000000   223.000000    0.000000  138.000000   \n",
              "75%     60.000000  140.000000   267.000000    0.000000  156.000000   \n",
              "max     77.000000  200.000000   603.000000    1.000000  202.000000   \n",
              "\n",
              "          Oldpeak  HeartDisease  \n",
              "count  917.000000    917.000000  \n",
              "mean     0.886696      0.552890  \n",
              "std      1.066960      0.497466  \n",
              "min     -2.600000      0.000000  \n",
              "25%      0.000000      0.000000  \n",
              "50%      0.600000      1.000000  \n",
              "75%      1.500000      1.000000  \n",
              "max      6.200000      1.000000  "
            ],
            "text/html": [
              "\n",
              "  <div id=\"df-012ecceb-66d1-45dd-8587-e021d4dddce2\">\n",
              "    <div class=\"colab-df-container\">\n",
              "      <div>\n",
              "<style scoped>\n",
              "    .dataframe tbody tr th:only-of-type {\n",
              "        vertical-align: middle;\n",
              "    }\n",
              "\n",
              "    .dataframe tbody tr th {\n",
              "        vertical-align: top;\n",
              "    }\n",
              "\n",
              "    .dataframe thead th {\n",
              "        text-align: right;\n",
              "    }\n",
              "</style>\n",
              "<table border=\"1\" class=\"dataframe\">\n",
              "  <thead>\n",
              "    <tr style=\"text-align: right;\">\n",
              "      <th></th>\n",
              "      <th>Age</th>\n",
              "      <th>RestingBP</th>\n",
              "      <th>Cholesterol</th>\n",
              "      <th>FastingBS</th>\n",
              "      <th>MaxHR</th>\n",
              "      <th>Oldpeak</th>\n",
              "      <th>HeartDisease</th>\n",
              "    </tr>\n",
              "  </thead>\n",
              "  <tbody>\n",
              "    <tr>\n",
              "      <th>count</th>\n",
              "      <td>917.000000</td>\n",
              "      <td>917.000000</td>\n",
              "      <td>917.000000</td>\n",
              "      <td>917.000000</td>\n",
              "      <td>917.000000</td>\n",
              "      <td>917.000000</td>\n",
              "      <td>917.000000</td>\n",
              "    </tr>\n",
              "    <tr>\n",
              "      <th>mean</th>\n",
              "      <td>53.509269</td>\n",
              "      <td>132.540894</td>\n",
              "      <td>199.016358</td>\n",
              "      <td>0.233370</td>\n",
              "      <td>136.789531</td>\n",
              "      <td>0.886696</td>\n",
              "      <td>0.552890</td>\n",
              "    </tr>\n",
              "    <tr>\n",
              "      <th>std</th>\n",
              "      <td>9.437636</td>\n",
              "      <td>17.999749</td>\n",
              "      <td>109.246330</td>\n",
              "      <td>0.423206</td>\n",
              "      <td>25.467129</td>\n",
              "      <td>1.066960</td>\n",
              "      <td>0.497466</td>\n",
              "    </tr>\n",
              "    <tr>\n",
              "      <th>min</th>\n",
              "      <td>28.000000</td>\n",
              "      <td>80.000000</td>\n",
              "      <td>0.000000</td>\n",
              "      <td>0.000000</td>\n",
              "      <td>60.000000</td>\n",
              "      <td>-2.600000</td>\n",
              "      <td>0.000000</td>\n",
              "    </tr>\n",
              "    <tr>\n",
              "      <th>25%</th>\n",
              "      <td>47.000000</td>\n",
              "      <td>120.000000</td>\n",
              "      <td>174.000000</td>\n",
              "      <td>0.000000</td>\n",
              "      <td>120.000000</td>\n",
              "      <td>0.000000</td>\n",
              "      <td>0.000000</td>\n",
              "    </tr>\n",
              "    <tr>\n",
              "      <th>50%</th>\n",
              "      <td>54.000000</td>\n",
              "      <td>130.000000</td>\n",
              "      <td>223.000000</td>\n",
              "      <td>0.000000</td>\n",
              "      <td>138.000000</td>\n",
              "      <td>0.600000</td>\n",
              "      <td>1.000000</td>\n",
              "    </tr>\n",
              "    <tr>\n",
              "      <th>75%</th>\n",
              "      <td>60.000000</td>\n",
              "      <td>140.000000</td>\n",
              "      <td>267.000000</td>\n",
              "      <td>0.000000</td>\n",
              "      <td>156.000000</td>\n",
              "      <td>1.500000</td>\n",
              "      <td>1.000000</td>\n",
              "    </tr>\n",
              "    <tr>\n",
              "      <th>max</th>\n",
              "      <td>77.000000</td>\n",
              "      <td>200.000000</td>\n",
              "      <td>603.000000</td>\n",
              "      <td>1.000000</td>\n",
              "      <td>202.000000</td>\n",
              "      <td>6.200000</td>\n",
              "      <td>1.000000</td>\n",
              "    </tr>\n",
              "  </tbody>\n",
              "</table>\n",
              "</div>\n",
              "      <button class=\"colab-df-convert\" onclick=\"convertToInteractive('df-012ecceb-66d1-45dd-8587-e021d4dddce2')\"\n",
              "              title=\"Convert this dataframe to an interactive table.\"\n",
              "              style=\"display:none;\">\n",
              "        \n",
              "  <svg xmlns=\"http://www.w3.org/2000/svg\" height=\"24px\"viewBox=\"0 0 24 24\"\n",
              "       width=\"24px\">\n",
              "    <path d=\"M0 0h24v24H0V0z\" fill=\"none\"/>\n",
              "    <path d=\"M18.56 5.44l.94 2.06.94-2.06 2.06-.94-2.06-.94-.94-2.06-.94 2.06-2.06.94zm-11 1L8.5 8.5l.94-2.06 2.06-.94-2.06-.94L8.5 2.5l-.94 2.06-2.06.94zm10 10l.94 2.06.94-2.06 2.06-.94-2.06-.94-.94-2.06-.94 2.06-2.06.94z\"/><path d=\"M17.41 7.96l-1.37-1.37c-.4-.4-.92-.59-1.43-.59-.52 0-1.04.2-1.43.59L10.3 9.45l-7.72 7.72c-.78.78-.78 2.05 0 2.83L4 21.41c.39.39.9.59 1.41.59.51 0 1.02-.2 1.41-.59l7.78-7.78 2.81-2.81c.8-.78.8-2.07 0-2.86zM5.41 20L4 18.59l7.72-7.72 1.47 1.35L5.41 20z\"/>\n",
              "  </svg>\n",
              "      </button>\n",
              "      \n",
              "  <style>\n",
              "    .colab-df-container {\n",
              "      display:flex;\n",
              "      flex-wrap:wrap;\n",
              "      gap: 12px;\n",
              "    }\n",
              "\n",
              "    .colab-df-convert {\n",
              "      background-color: #E8F0FE;\n",
              "      border: none;\n",
              "      border-radius: 50%;\n",
              "      cursor: pointer;\n",
              "      display: none;\n",
              "      fill: #1967D2;\n",
              "      height: 32px;\n",
              "      padding: 0 0 0 0;\n",
              "      width: 32px;\n",
              "    }\n",
              "\n",
              "    .colab-df-convert:hover {\n",
              "      background-color: #E2EBFA;\n",
              "      box-shadow: 0px 1px 2px rgba(60, 64, 67, 0.3), 0px 1px 3px 1px rgba(60, 64, 67, 0.15);\n",
              "      fill: #174EA6;\n",
              "    }\n",
              "\n",
              "    [theme=dark] .colab-df-convert {\n",
              "      background-color: #3B4455;\n",
              "      fill: #D2E3FC;\n",
              "    }\n",
              "\n",
              "    [theme=dark] .colab-df-convert:hover {\n",
              "      background-color: #434B5C;\n",
              "      box-shadow: 0px 1px 3px 1px rgba(0, 0, 0, 0.15);\n",
              "      filter: drop-shadow(0px 1px 2px rgba(0, 0, 0, 0.3));\n",
              "      fill: #FFFFFF;\n",
              "    }\n",
              "  </style>\n",
              "\n",
              "      <script>\n",
              "        const buttonEl =\n",
              "          document.querySelector('#df-012ecceb-66d1-45dd-8587-e021d4dddce2 button.colab-df-convert');\n",
              "        buttonEl.style.display =\n",
              "          google.colab.kernel.accessAllowed ? 'block' : 'none';\n",
              "\n",
              "        async function convertToInteractive(key) {\n",
              "          const element = document.querySelector('#df-012ecceb-66d1-45dd-8587-e021d4dddce2');\n",
              "          const dataTable =\n",
              "            await google.colab.kernel.invokeFunction('convertToInteractive',\n",
              "                                                     [key], {});\n",
              "          if (!dataTable) return;\n",
              "\n",
              "          const docLinkHtml = 'Like what you see? Visit the ' +\n",
              "            '<a target=\"_blank\" href=https://colab.research.google.com/notebooks/data_table.ipynb>data table notebook</a>'\n",
              "            + ' to learn more about interactive tables.';\n",
              "          element.innerHTML = '';\n",
              "          dataTable['output_type'] = 'display_data';\n",
              "          await google.colab.output.renderOutput(dataTable, element);\n",
              "          const docLink = document.createElement('div');\n",
              "          docLink.innerHTML = docLinkHtml;\n",
              "          element.appendChild(docLink);\n",
              "        }\n",
              "      </script>\n",
              "    </div>\n",
              "  </div>\n",
              "  "
            ]
          },
          "metadata": {},
          "execution_count": 110
        }
      ]
    },
    {
      "cell_type": "markdown",
      "source": [
        "**Substituindo valores zeros do Colesterol pela média sem os zeros**"
      ],
      "metadata": {
        "id": "MpccJj0N5zEB"
      }
    },
    {
      "cell_type": "code",
      "source": [
        "dados2.Cholesterol.mean()"
      ],
      "metadata": {
        "id": "NMRvtWdny0_k",
        "colab": {
          "base_uri": "https://localhost:8080/"
        },
        "outputId": "86ca69b7-627d-44ed-c93d-c5be40e063c9"
      },
      "execution_count": 111,
      "outputs": [
        {
          "output_type": "execute_result",
          "data": {
            "text/plain": [
              "199.0163576881134"
            ]
          },
          "metadata": {},
          "execution_count": 111
        }
      ]
    },
    {
      "cell_type": "code",
      "source": [
        "dados2.Cholesterol.replace(0, np.NaN, inplace=True)"
      ],
      "metadata": {
        "id": "m1NBV5lIwOYR",
        "colab": {
          "base_uri": "https://localhost:8080/"
        },
        "outputId": "f4916fe0-a637-4449-800f-4f0b8ee3dba8"
      },
      "execution_count": 112,
      "outputs": [
        {
          "output_type": "stream",
          "name": "stderr",
          "text": [
            "/usr/local/lib/python3.7/dist-packages/pandas/core/generic.py:6619: SettingWithCopyWarning:\n",
            "\n",
            "\n",
            "A value is trying to be set on a copy of a slice from a DataFrame\n",
            "\n",
            "See the caveats in the documentation: https://pandas.pydata.org/pandas-docs/stable/user_guide/indexing.html#returning-a-view-versus-a-copy\n",
            "\n"
          ]
        }
      ]
    },
    {
      "cell_type": "code",
      "source": [
        "dados2.isnull().sum()"
      ],
      "metadata": {
        "id": "Ly8FaBBXziNg",
        "colab": {
          "base_uri": "https://localhost:8080/"
        },
        "outputId": "a6836fc3-509b-4ed7-a5c8-4373764f7b3f"
      },
      "execution_count": 113,
      "outputs": [
        {
          "output_type": "execute_result",
          "data": {
            "text/plain": [
              "Age                 0\n",
              "Sex                 0\n",
              "ChestPainType       0\n",
              "RestingBP           0\n",
              "Cholesterol       171\n",
              "FastingBS           0\n",
              "RestingECG          0\n",
              "MaxHR               0\n",
              "ExerciseAngina      0\n",
              "Oldpeak             0\n",
              "ST_Slope            0\n",
              "HeartDisease        0\n",
              "dtype: int64"
            ]
          },
          "metadata": {},
          "execution_count": 113
        }
      ]
    },
    {
      "cell_type": "code",
      "source": [
        "dados2.Cholesterol.mean()"
      ],
      "metadata": {
        "id": "RjG7bSiZ27RF",
        "colab": {
          "base_uri": "https://localhost:8080/"
        },
        "outputId": "4516bbc3-cbe0-4821-a454-85757de0a1ce"
      },
      "execution_count": 114,
      "outputs": [
        {
          "output_type": "execute_result",
          "data": {
            "text/plain": [
              "244.6353887399464"
            ]
          },
          "metadata": {},
          "execution_count": 114
        }
      ]
    },
    {
      "cell_type": "code",
      "source": [
        "# SUBSTITUIR OS VALORES MISSING PELA MÉDIA\n",
        "dados2['Cholesterol'].fillna(dados2['Cholesterol'].mean(), inplace=True)"
      ],
      "metadata": {
        "id": "PWXgQMSQ25PM",
        "colab": {
          "base_uri": "https://localhost:8080/"
        },
        "outputId": "b40200de-ef0d-4f65-8a37-e409fbf4fcdb"
      },
      "execution_count": 115,
      "outputs": [
        {
          "output_type": "stream",
          "name": "stderr",
          "text": [
            "/usr/local/lib/python3.7/dist-packages/pandas/core/generic.py:6392: SettingWithCopyWarning:\n",
            "\n",
            "\n",
            "A value is trying to be set on a copy of a slice from a DataFrame\n",
            "\n",
            "See the caveats in the documentation: https://pandas.pydata.org/pandas-docs/stable/user_guide/indexing.html#returning-a-view-versus-a-copy\n",
            "\n"
          ]
        }
      ]
    },
    {
      "cell_type": "code",
      "source": [
        "dados2.isnull().sum()"
      ],
      "metadata": {
        "id": "4CWcNeic7HpX",
        "colab": {
          "base_uri": "https://localhost:8080/"
        },
        "outputId": "b4a3f399-54eb-4b89-bfae-484732ac0c4d"
      },
      "execution_count": 116,
      "outputs": [
        {
          "output_type": "execute_result",
          "data": {
            "text/plain": [
              "Age               0\n",
              "Sex               0\n",
              "ChestPainType     0\n",
              "RestingBP         0\n",
              "Cholesterol       0\n",
              "FastingBS         0\n",
              "RestingECG        0\n",
              "MaxHR             0\n",
              "ExerciseAngina    0\n",
              "Oldpeak           0\n",
              "ST_Slope          0\n",
              "HeartDisease      0\n",
              "dtype: int64"
            ]
          },
          "metadata": {},
          "execution_count": 116
        }
      ]
    },
    {
      "cell_type": "code",
      "source": [
        "dados2.describe()"
      ],
      "metadata": {
        "id": "YnuSyz_83ITb",
        "colab": {
          "base_uri": "https://localhost:8080/",
          "height": 0
        },
        "outputId": "68bb523f-a4eb-4777-a51e-e92e6746660d"
      },
      "execution_count": 117,
      "outputs": [
        {
          "output_type": "execute_result",
          "data": {
            "text/plain": [
              "              Age   RestingBP  Cholesterol   FastingBS       MaxHR  \\\n",
              "count  917.000000  917.000000   917.000000  917.000000  917.000000   \n",
              "mean    53.509269  132.540894   244.635389    0.233370  136.789531   \n",
              "std      9.437636   17.999749    53.347125    0.423206   25.467129   \n",
              "min     28.000000   80.000000    85.000000    0.000000   60.000000   \n",
              "25%     47.000000  120.000000   214.000000    0.000000  120.000000   \n",
              "50%     54.000000  130.000000   244.635389    0.000000  138.000000   \n",
              "75%     60.000000  140.000000   267.000000    0.000000  156.000000   \n",
              "max     77.000000  200.000000   603.000000    1.000000  202.000000   \n",
              "\n",
              "          Oldpeak  HeartDisease  \n",
              "count  917.000000    917.000000  \n",
              "mean     0.886696      0.552890  \n",
              "std      1.066960      0.497466  \n",
              "min     -2.600000      0.000000  \n",
              "25%      0.000000      0.000000  \n",
              "50%      0.600000      1.000000  \n",
              "75%      1.500000      1.000000  \n",
              "max      6.200000      1.000000  "
            ],
            "text/html": [
              "\n",
              "  <div id=\"df-87b0bda7-8e13-4b2e-b3fb-422384f4b301\">\n",
              "    <div class=\"colab-df-container\">\n",
              "      <div>\n",
              "<style scoped>\n",
              "    .dataframe tbody tr th:only-of-type {\n",
              "        vertical-align: middle;\n",
              "    }\n",
              "\n",
              "    .dataframe tbody tr th {\n",
              "        vertical-align: top;\n",
              "    }\n",
              "\n",
              "    .dataframe thead th {\n",
              "        text-align: right;\n",
              "    }\n",
              "</style>\n",
              "<table border=\"1\" class=\"dataframe\">\n",
              "  <thead>\n",
              "    <tr style=\"text-align: right;\">\n",
              "      <th></th>\n",
              "      <th>Age</th>\n",
              "      <th>RestingBP</th>\n",
              "      <th>Cholesterol</th>\n",
              "      <th>FastingBS</th>\n",
              "      <th>MaxHR</th>\n",
              "      <th>Oldpeak</th>\n",
              "      <th>HeartDisease</th>\n",
              "    </tr>\n",
              "  </thead>\n",
              "  <tbody>\n",
              "    <tr>\n",
              "      <th>count</th>\n",
              "      <td>917.000000</td>\n",
              "      <td>917.000000</td>\n",
              "      <td>917.000000</td>\n",
              "      <td>917.000000</td>\n",
              "      <td>917.000000</td>\n",
              "      <td>917.000000</td>\n",
              "      <td>917.000000</td>\n",
              "    </tr>\n",
              "    <tr>\n",
              "      <th>mean</th>\n",
              "      <td>53.509269</td>\n",
              "      <td>132.540894</td>\n",
              "      <td>244.635389</td>\n",
              "      <td>0.233370</td>\n",
              "      <td>136.789531</td>\n",
              "      <td>0.886696</td>\n",
              "      <td>0.552890</td>\n",
              "    </tr>\n",
              "    <tr>\n",
              "      <th>std</th>\n",
              "      <td>9.437636</td>\n",
              "      <td>17.999749</td>\n",
              "      <td>53.347125</td>\n",
              "      <td>0.423206</td>\n",
              "      <td>25.467129</td>\n",
              "      <td>1.066960</td>\n",
              "      <td>0.497466</td>\n",
              "    </tr>\n",
              "    <tr>\n",
              "      <th>min</th>\n",
              "      <td>28.000000</td>\n",
              "      <td>80.000000</td>\n",
              "      <td>85.000000</td>\n",
              "      <td>0.000000</td>\n",
              "      <td>60.000000</td>\n",
              "      <td>-2.600000</td>\n",
              "      <td>0.000000</td>\n",
              "    </tr>\n",
              "    <tr>\n",
              "      <th>25%</th>\n",
              "      <td>47.000000</td>\n",
              "      <td>120.000000</td>\n",
              "      <td>214.000000</td>\n",
              "      <td>0.000000</td>\n",
              "      <td>120.000000</td>\n",
              "      <td>0.000000</td>\n",
              "      <td>0.000000</td>\n",
              "    </tr>\n",
              "    <tr>\n",
              "      <th>50%</th>\n",
              "      <td>54.000000</td>\n",
              "      <td>130.000000</td>\n",
              "      <td>244.635389</td>\n",
              "      <td>0.000000</td>\n",
              "      <td>138.000000</td>\n",
              "      <td>0.600000</td>\n",
              "      <td>1.000000</td>\n",
              "    </tr>\n",
              "    <tr>\n",
              "      <th>75%</th>\n",
              "      <td>60.000000</td>\n",
              "      <td>140.000000</td>\n",
              "      <td>267.000000</td>\n",
              "      <td>0.000000</td>\n",
              "      <td>156.000000</td>\n",
              "      <td>1.500000</td>\n",
              "      <td>1.000000</td>\n",
              "    </tr>\n",
              "    <tr>\n",
              "      <th>max</th>\n",
              "      <td>77.000000</td>\n",
              "      <td>200.000000</td>\n",
              "      <td>603.000000</td>\n",
              "      <td>1.000000</td>\n",
              "      <td>202.000000</td>\n",
              "      <td>6.200000</td>\n",
              "      <td>1.000000</td>\n",
              "    </tr>\n",
              "  </tbody>\n",
              "</table>\n",
              "</div>\n",
              "      <button class=\"colab-df-convert\" onclick=\"convertToInteractive('df-87b0bda7-8e13-4b2e-b3fb-422384f4b301')\"\n",
              "              title=\"Convert this dataframe to an interactive table.\"\n",
              "              style=\"display:none;\">\n",
              "        \n",
              "  <svg xmlns=\"http://www.w3.org/2000/svg\" height=\"24px\"viewBox=\"0 0 24 24\"\n",
              "       width=\"24px\">\n",
              "    <path d=\"M0 0h24v24H0V0z\" fill=\"none\"/>\n",
              "    <path d=\"M18.56 5.44l.94 2.06.94-2.06 2.06-.94-2.06-.94-.94-2.06-.94 2.06-2.06.94zm-11 1L8.5 8.5l.94-2.06 2.06-.94-2.06-.94L8.5 2.5l-.94 2.06-2.06.94zm10 10l.94 2.06.94-2.06 2.06-.94-2.06-.94-.94-2.06-.94 2.06-2.06.94z\"/><path d=\"M17.41 7.96l-1.37-1.37c-.4-.4-.92-.59-1.43-.59-.52 0-1.04.2-1.43.59L10.3 9.45l-7.72 7.72c-.78.78-.78 2.05 0 2.83L4 21.41c.39.39.9.59 1.41.59.51 0 1.02-.2 1.41-.59l7.78-7.78 2.81-2.81c.8-.78.8-2.07 0-2.86zM5.41 20L4 18.59l7.72-7.72 1.47 1.35L5.41 20z\"/>\n",
              "  </svg>\n",
              "      </button>\n",
              "      \n",
              "  <style>\n",
              "    .colab-df-container {\n",
              "      display:flex;\n",
              "      flex-wrap:wrap;\n",
              "      gap: 12px;\n",
              "    }\n",
              "\n",
              "    .colab-df-convert {\n",
              "      background-color: #E8F0FE;\n",
              "      border: none;\n",
              "      border-radius: 50%;\n",
              "      cursor: pointer;\n",
              "      display: none;\n",
              "      fill: #1967D2;\n",
              "      height: 32px;\n",
              "      padding: 0 0 0 0;\n",
              "      width: 32px;\n",
              "    }\n",
              "\n",
              "    .colab-df-convert:hover {\n",
              "      background-color: #E2EBFA;\n",
              "      box-shadow: 0px 1px 2px rgba(60, 64, 67, 0.3), 0px 1px 3px 1px rgba(60, 64, 67, 0.15);\n",
              "      fill: #174EA6;\n",
              "    }\n",
              "\n",
              "    [theme=dark] .colab-df-convert {\n",
              "      background-color: #3B4455;\n",
              "      fill: #D2E3FC;\n",
              "    }\n",
              "\n",
              "    [theme=dark] .colab-df-convert:hover {\n",
              "      background-color: #434B5C;\n",
              "      box-shadow: 0px 1px 3px 1px rgba(0, 0, 0, 0.15);\n",
              "      filter: drop-shadow(0px 1px 2px rgba(0, 0, 0, 0.3));\n",
              "      fill: #FFFFFF;\n",
              "    }\n",
              "  </style>\n",
              "\n",
              "      <script>\n",
              "        const buttonEl =\n",
              "          document.querySelector('#df-87b0bda7-8e13-4b2e-b3fb-422384f4b301 button.colab-df-convert');\n",
              "        buttonEl.style.display =\n",
              "          google.colab.kernel.accessAllowed ? 'block' : 'none';\n",
              "\n",
              "        async function convertToInteractive(key) {\n",
              "          const element = document.querySelector('#df-87b0bda7-8e13-4b2e-b3fb-422384f4b301');\n",
              "          const dataTable =\n",
              "            await google.colab.kernel.invokeFunction('convertToInteractive',\n",
              "                                                     [key], {});\n",
              "          if (!dataTable) return;\n",
              "\n",
              "          const docLinkHtml = 'Like what you see? Visit the ' +\n",
              "            '<a target=\"_blank\" href=https://colab.research.google.com/notebooks/data_table.ipynb>data table notebook</a>'\n",
              "            + ' to learn more about interactive tables.';\n",
              "          element.innerHTML = '';\n",
              "          dataTable['output_type'] = 'display_data';\n",
              "          await google.colab.output.renderOutput(dataTable, element);\n",
              "          const docLink = document.createElement('div');\n",
              "          docLink.innerHTML = docLinkHtml;\n",
              "          element.appendChild(docLink);\n",
              "        }\n",
              "      </script>\n",
              "    </div>\n",
              "  </div>\n",
              "  "
            ]
          },
          "metadata": {},
          "execution_count": 117
        }
      ]
    },
    {
      "cell_type": "code",
      "source": [
        "dados2.mode()"
      ],
      "metadata": {
        "id": "F13ag5Yr3Ky1",
        "colab": {
          "base_uri": "https://localhost:8080/",
          "height": 0
        },
        "outputId": "71d5b365-f001-495e-e81b-c9cc3680d4fb"
      },
      "execution_count": 118,
      "outputs": [
        {
          "output_type": "execute_result",
          "data": {
            "text/plain": [
              "   Age Sex ChestPainType  RestingBP  Cholesterol  FastingBS RestingECG  MaxHR  \\\n",
              "0   54   M           ASY        120   244.635389          0     Normal    150   \n",
              "\n",
              "  ExerciseAngina  Oldpeak ST_Slope  HeartDisease  \n",
              "0              N      0.0     Flat             1  "
            ],
            "text/html": [
              "\n",
              "  <div id=\"df-5fc6b8be-342c-48b5-92da-23daaf127952\">\n",
              "    <div class=\"colab-df-container\">\n",
              "      <div>\n",
              "<style scoped>\n",
              "    .dataframe tbody tr th:only-of-type {\n",
              "        vertical-align: middle;\n",
              "    }\n",
              "\n",
              "    .dataframe tbody tr th {\n",
              "        vertical-align: top;\n",
              "    }\n",
              "\n",
              "    .dataframe thead th {\n",
              "        text-align: right;\n",
              "    }\n",
              "</style>\n",
              "<table border=\"1\" class=\"dataframe\">\n",
              "  <thead>\n",
              "    <tr style=\"text-align: right;\">\n",
              "      <th></th>\n",
              "      <th>Age</th>\n",
              "      <th>Sex</th>\n",
              "      <th>ChestPainType</th>\n",
              "      <th>RestingBP</th>\n",
              "      <th>Cholesterol</th>\n",
              "      <th>FastingBS</th>\n",
              "      <th>RestingECG</th>\n",
              "      <th>MaxHR</th>\n",
              "      <th>ExerciseAngina</th>\n",
              "      <th>Oldpeak</th>\n",
              "      <th>ST_Slope</th>\n",
              "      <th>HeartDisease</th>\n",
              "    </tr>\n",
              "  </thead>\n",
              "  <tbody>\n",
              "    <tr>\n",
              "      <th>0</th>\n",
              "      <td>54</td>\n",
              "      <td>M</td>\n",
              "      <td>ASY</td>\n",
              "      <td>120</td>\n",
              "      <td>244.635389</td>\n",
              "      <td>0</td>\n",
              "      <td>Normal</td>\n",
              "      <td>150</td>\n",
              "      <td>N</td>\n",
              "      <td>0.0</td>\n",
              "      <td>Flat</td>\n",
              "      <td>1</td>\n",
              "    </tr>\n",
              "  </tbody>\n",
              "</table>\n",
              "</div>\n",
              "      <button class=\"colab-df-convert\" onclick=\"convertToInteractive('df-5fc6b8be-342c-48b5-92da-23daaf127952')\"\n",
              "              title=\"Convert this dataframe to an interactive table.\"\n",
              "              style=\"display:none;\">\n",
              "        \n",
              "  <svg xmlns=\"http://www.w3.org/2000/svg\" height=\"24px\"viewBox=\"0 0 24 24\"\n",
              "       width=\"24px\">\n",
              "    <path d=\"M0 0h24v24H0V0z\" fill=\"none\"/>\n",
              "    <path d=\"M18.56 5.44l.94 2.06.94-2.06 2.06-.94-2.06-.94-.94-2.06-.94 2.06-2.06.94zm-11 1L8.5 8.5l.94-2.06 2.06-.94-2.06-.94L8.5 2.5l-.94 2.06-2.06.94zm10 10l.94 2.06.94-2.06 2.06-.94-2.06-.94-.94-2.06-.94 2.06-2.06.94z\"/><path d=\"M17.41 7.96l-1.37-1.37c-.4-.4-.92-.59-1.43-.59-.52 0-1.04.2-1.43.59L10.3 9.45l-7.72 7.72c-.78.78-.78 2.05 0 2.83L4 21.41c.39.39.9.59 1.41.59.51 0 1.02-.2 1.41-.59l7.78-7.78 2.81-2.81c.8-.78.8-2.07 0-2.86zM5.41 20L4 18.59l7.72-7.72 1.47 1.35L5.41 20z\"/>\n",
              "  </svg>\n",
              "      </button>\n",
              "      \n",
              "  <style>\n",
              "    .colab-df-container {\n",
              "      display:flex;\n",
              "      flex-wrap:wrap;\n",
              "      gap: 12px;\n",
              "    }\n",
              "\n",
              "    .colab-df-convert {\n",
              "      background-color: #E8F0FE;\n",
              "      border: none;\n",
              "      border-radius: 50%;\n",
              "      cursor: pointer;\n",
              "      display: none;\n",
              "      fill: #1967D2;\n",
              "      height: 32px;\n",
              "      padding: 0 0 0 0;\n",
              "      width: 32px;\n",
              "    }\n",
              "\n",
              "    .colab-df-convert:hover {\n",
              "      background-color: #E2EBFA;\n",
              "      box-shadow: 0px 1px 2px rgba(60, 64, 67, 0.3), 0px 1px 3px 1px rgba(60, 64, 67, 0.15);\n",
              "      fill: #174EA6;\n",
              "    }\n",
              "\n",
              "    [theme=dark] .colab-df-convert {\n",
              "      background-color: #3B4455;\n",
              "      fill: #D2E3FC;\n",
              "    }\n",
              "\n",
              "    [theme=dark] .colab-df-convert:hover {\n",
              "      background-color: #434B5C;\n",
              "      box-shadow: 0px 1px 3px 1px rgba(0, 0, 0, 0.15);\n",
              "      filter: drop-shadow(0px 1px 2px rgba(0, 0, 0, 0.3));\n",
              "      fill: #FFFFFF;\n",
              "    }\n",
              "  </style>\n",
              "\n",
              "      <script>\n",
              "        const buttonEl =\n",
              "          document.querySelector('#df-5fc6b8be-342c-48b5-92da-23daaf127952 button.colab-df-convert');\n",
              "        buttonEl.style.display =\n",
              "          google.colab.kernel.accessAllowed ? 'block' : 'none';\n",
              "\n",
              "        async function convertToInteractive(key) {\n",
              "          const element = document.querySelector('#df-5fc6b8be-342c-48b5-92da-23daaf127952');\n",
              "          const dataTable =\n",
              "            await google.colab.kernel.invokeFunction('convertToInteractive',\n",
              "                                                     [key], {});\n",
              "          if (!dataTable) return;\n",
              "\n",
              "          const docLinkHtml = 'Like what you see? Visit the ' +\n",
              "            '<a target=\"_blank\" href=https://colab.research.google.com/notebooks/data_table.ipynb>data table notebook</a>'\n",
              "            + ' to learn more about interactive tables.';\n",
              "          element.innerHTML = '';\n",
              "          dataTable['output_type'] = 'display_data';\n",
              "          await google.colab.output.renderOutput(dataTable, element);\n",
              "          const docLink = document.createElement('div');\n",
              "          docLink.innerHTML = docLinkHtml;\n",
              "          element.appendChild(docLink);\n",
              "        }\n",
              "      </script>\n",
              "    </div>\n",
              "  </div>\n",
              "  "
            ]
          },
          "metadata": {},
          "execution_count": 118
        }
      ]
    },
    {
      "cell_type": "code",
      "source": [
        "sns.histplot(dados2, x='Cholesterol', bins=30, color=\"red\", kde=True, stat=\"count\");"
      ],
      "metadata": {
        "id": "flL2Yp0s3gFE",
        "colab": {
          "base_uri": "https://localhost:8080/",
          "height": 0
        },
        "outputId": "9f04e642-ddf9-47f7-9647-dbbffb74ae29"
      },
      "execution_count": 119,
      "outputs": [
        {
          "output_type": "display_data",
          "data": {
            "text/plain": [
              "<Figure size 432x288 with 1 Axes>"
            ],
            "image/png": "[encoded data removed]"
          },
          "metadata": {
            "needs_background": "light"
          }
        }
      ]
    },
    {
      "cell_type": "markdown",
      "source": [
        "### **Análise de Outliers**"
      ],
      "metadata": {
        "id": "XlVTyqCJsToU"
      }
    },
    {
      "cell_type": "code",
      "source": [
        "# Idade\n",
        "px.box(dados2, y='Age')"
      ],
      "metadata": {
        "id": "f_inRKsIr8Y3",
        "colab": {
          "base_uri": "https://localhost:8080/",
          "height": 0
        },
        "outputId": "763cbc34-066d-429a-e721-629c8134ff84"
      },
      "execution_count": 120,
      "outputs": [
        {
          "output_type": "display_data",
          "data": {
            "text/html": [
              "<html>\n",
              "<head><meta charset=\"utf-8\" /></head>\n",
              "<body>\n",
              "    <div>            <script src=\"https://cdnjs.cloudflare.com/ajax/libs/mathjax/2.7.5/MathJax.js?config=TeX-AMS-MML_SVG\"></script><script type=\"text/javascript\">if (window.MathJax) {MathJax.Hub.Config({SVG: {font: \"STIX-Web\"}});}</script>                <script type=\"text/javascript\">window.PlotlyConfig = {MathJaxConfig: 'local'};</script>\n",
              "        <script src=\"https://cdn.plot.ly/plotly-2.8.3.min.js\"></script>                <div id=\"3d50ad37-23ad-4318-98c1-f574136ecc00\" class=\"plotly-graph-div\" style=\"height:525px; width:100%;\"></div>            <script type=\"text/javascript\">                                    window.PLOTLYENV=window.PLOTLYENV || {};                                    if (document.getElementById(\"3d50ad37-23ad-4318-98c1-f574136ecc00\")) {                    Plotly.newPlot(                        \"3d50ad37-23ad-4318-98c1-f574136ecc00\",                        [{\"alignmentgroup\":\"True\",\"hovertemplate\":\"Age=%{y}<extra></extra>\",\"legendgroup\":\"\",\"marker\":{\"color\":\"#636efa\"},\"name\":\"\",\"notched\":false,\"offsetgroup\":\"\",\"orientation\":\"v\",\"showlegend\":false,\"x0\":\" \",\"xaxis\":\"x\",\"y\":[40,49,37,48,54,39,45,54,37,48,37,58,39,49,42,54,38,43,60,36,43,44,49,44,40,36,53,52,53,51,53,56,54,41,43,32,65,41,48,48,54,54,35,52,43,59,37,50,36,41,50,47,45,41,52,51,31,58,54,52,49,43,45,46,50,37,45,32,52,44,57,44,52,44,55,46,32,35,52,49,55,54,63,52,56,66,65,53,43,55,49,39,52,48,39,58,43,39,56,41,65,51,40,40,46,57,48,34,50,39,59,57,47,38,49,33,38,59,35,34,47,52,46,58,58,54,34,48,54,42,38,46,56,56,61,49,43,39,54,43,52,50,47,53,56,39,42,43,50,54,39,48,40,55,41,56,38,49,44,54,59,49,47,42,52,46,50,48,58,58,29,40,53,49,52,43,54,59,37,46,52,51,52,46,54,58,58,41,50,53,46,50,48,45,41,62,49,42,53,57,47,46,42,31,56,50,35,35,28,54,48,50,56,56,47,30,39,54,55,29,46,51,48,33,55,50,53,38,41,37,37,40,38,41,54,39,41,55,48,48,55,54,55,43,48,54,54,48,45,49,44,48,61,62,55,53,55,36,51,55,46,54,46,59,47,54,52,34,54,47,45,32,55,55,45,59,51,52,57,54,60,49,51,55,42,51,59,53,48,36,48,47,53,65,32,61,50,57,51,47,60,55,53,62,51,51,55,53,58,57,65,60,41,34,53,74,57,56,61,68,59,63,38,62,46,42,45,59,52,60,60,56,38,40,51,62,72,63,63,64,43,64,61,52,51,69,59,48,69,36,53,43,56,58,55,67,46,53,38,53,62,47,56,56,56,64,61,68,57,63,60,66,63,59,61,73,47,65,70,50,60,50,43,38,54,61,42,53,55,61,51,70,61,38,57,38,62,58,52,61,50,51,65,52,47,35,57,62,59,53,62,54,56,56,54,66,63,44,60,55,66,66,65,60,60,60,56,59,62,63,57,62,63,46,63,60,58,64,63,74,52,69,51,60,56,55,54,77,63,52,64,60,60,58,59,61,40,61,41,57,63,59,51,59,42,55,63,62,56,53,68,53,60,62,59,51,61,57,56,58,69,67,58,65,63,55,57,65,54,72,75,49,51,60,64,58,61,67,62,65,63,69,51,62,55,75,40,67,58,60,63,35,62,43,63,68,65,48,63,64,61,50,59,55,45,65,61,49,72,50,64,55,63,59,56,62,74,54,57,62,76,54,70,61,48,48,61,66,68,55,62,71,74,53,58,75,56,58,64,54,54,59,55,57,61,41,71,38,55,56,69,64,72,69,56,62,67,57,69,51,48,69,69,64,57,53,37,67,74,63,58,61,64,58,60,57,55,55,56,57,61,61,74,68,51,62,53,62,46,54,62,55,58,62,70,67,57,64,74,65,56,59,60,63,59,53,44,61,57,71,46,53,64,40,67,48,43,47,54,48,46,51,58,71,57,66,37,59,50,48,61,59,42,48,40,62,44,46,59,58,49,44,66,65,42,52,65,63,45,41,61,60,59,62,57,51,44,60,63,57,51,58,44,47,61,57,70,76,67,45,45,39,42,56,58,35,58,41,57,42,62,59,41,50,59,61,54,54,52,47,66,58,64,50,44,67,49,57,63,48,51,60,59,45,55,41,60,54,42,49,46,56,66,56,49,54,57,65,54,54,62,52,52,60,63,66,42,64,54,46,67,56,34,57,64,59,50,51,54,53,52,40,58,41,41,50,54,64,51,46,55,45,56,66,38,62,55,58,43,64,50,53,45,65,69,69,67,68,34,62,51,46,67,50,42,56,41,42,53,43,56,52,62,70,54,70,54,35,48,55,58,54,69,77,68,58,60,51,55,52,60,58,64,37,59,51,43,58,29,41,63,51,54,44,54,65,57,63,35,41,62,43,58,52,61,39,45,52,62,62,53,43,47,52,68,39,53,62,51,60,65,65,60,60,54,44,44,51,59,71,61,55,64,43,58,60,58,49,48,52,44,56,57,67,53,52,43,52,59,64,66,39,57,58,57,47,55,35,61,58,58,58,56,56,67,55,44,63,63,41,59,57,45,68,57,57,38],\"y0\":\" \",\"yaxis\":\"y\",\"type\":\"box\"}],                        {\"template\":{\"data\":{\"bar\":[{\"error_x\":{\"color\":\"#2a3f5f\"},\"error_y\":{\"color\":\"#2a3f5f\"},\"marker\":{\"line\":{\"color\":\"#E5ECF6\",\"width\":0.5},\"pattern\":{\"fillmode\":\"overlay\",\"size\":10,\"solidity\":0.2}},\"type\":\"bar\"}],\"barpolar\":[{\"marker\":{\"line\":{\"color\":\"#E5ECF6\",\"width\":0.5},\"pattern\":{\"fillmode\":\"overlay\",\"size\":10,\"solidity\":0.2}},\"type\":\"barpolar\"}],\"carpet\":[{\"aaxis\":{\"endlinecolor\":\"#2a3f5f\",\"gridcolor\":\"white\",\"linecolor\":\"white\",\"minorgridcolor\":\"white\",\"startlinecolor\":\"#2a3f5f\"},\"baxis\":{\"endlinecolor\":\"#2a3f5f\",\"gridcolor\":\"white\",\"linecolor\":\"white\",\"minorgridcolor\":\"white\",\"startlinecolor\":\"#2a3f5f\"},\"type\":\"carpet\"}],\"choropleth\":[{\"colorbar\":{\"outlinewidth\":0,\"ticks\":\"\"},\"type\":\"choropleth\"}],\"contour\":[{\"colorbar\":{\"outlinewidth\":0,\"ticks\":\"\"},\"colorscale\":[[0.0,\"#0d0887\"],[0.1111111111111111,\"#46039f\"],[0.2222222222222222,\"#7201a8\"],[0.3333333333333333,\"#9c179e\"],[0.4444444444444444,\"#bd3786\"],[0.5555555555555556,\"#d8576b\"],[0.6666666666666666,\"#ed7953\"],[0.7777777777777778,\"#fb9f3a\"],[0.8888888888888888,\"#fdca26\"],[1.0,\"#f0f921\"]],\"type\":\"contour\"}],\"contourcarpet\":[{\"colorbar\":{\"outlinewidth\":0,\"ticks\":\"\"},\"type\":\"contourcarpet\"}],\"heatmap\":[{\"colorbar\":{\"outlinewidth\":0,\"ticks\":\"\"},\"colorscale\":[[0.0,\"#0d0887\"],[0.1111111111111111,\"#46039f\"],[0.2222222222222222,\"#7201a8\"],[0.3333333333333333,\"#9c179e\"],[0.4444444444444444,\"#bd3786\"],[0.5555555555555556,\"#d8576b\"],[0.6666666666666666,\"#ed7953\"],[0.7777777777777778,\"#fb9f3a\"],[0.8888888888888888,\"#fdca26\"],[1.0,\"#f0f921\"]],\"type\":\"heatmap\"}],\"heatmapgl\":[{\"colorbar\":{\"outlinewidth\":0,\"ticks\":\"\"},\"colorscale\":[[0.0,\"#0d0887\"],[0.1111111111111111,\"#46039f\"],[0.2222222222222222,\"#7201a8\"],[0.3333333333333333,\"#9c179e\"],[0.4444444444444444,\"#bd3786\"],[0.5555555555555556,\"#d8576b\"],[0.6666666666666666,\"#ed7953\"],[0.7777777777777778,\"#fb9f3a\"],[0.8888888888888888,\"#fdca26\"],[1.0,\"#f0f921\"]],\"type\":\"heatmapgl\"}],\"histogram\":[{\"marker\":{\"pattern\":{\"fillmode\":\"overlay\",\"size\":10,\"solidity\":0.2}},\"type\":\"histogram\"}],\"histogram2d\":[{\"colorbar\":{\"outlinewidth\":0,\"ticks\":\"\"},\"colorscale\":[[0.0,\"#0d0887\"],[0.1111111111111111,\"#46039f\"],[0.2222222222222222,\"#7201a8\"],[0.3333333333333333,\"#9c179e\"],[0.4444444444444444,\"#bd3786\"],[0.5555555555555556,\"#d8576b\"],[0.6666666666666666,\"#ed7953\"],[0.7777777777777778,\"#fb9f3a\"],[0.8888888888888888,\"#fdca26\"],[1.0,\"#f0f921\"]],\"type\":\"histogram2d\"}],\"histogram2dcontour\":[{\"colorbar\":{\"outlinewidth\":0,\"ticks\":\"\"},\"colorscale\":[[0.0,\"#0d0887\"],[0.1111111111111111,\"#46039f\"],[0.2222222222222222,\"#7201a8\"],[0.3333333333333333,\"#9c179e\"],[0.4444444444444444,\"#bd3786\"],[0.5555555555555556,\"#d8576b\"],[0.6666666666666666,\"#ed7953\"],[0.7777777777777778,\"#fb9f3a\"],[0.8888888888888888,\"#fdca26\"],[1.0,\"#f0f921\"]],\"type\":\"histogram2dcontour\"}],\"mesh3d\":[{\"colorbar\":{\"outlinewidth\":0,\"ticks\":\"\"},\"type\":\"mesh3d\"}],\"parcoords\":[{\"line\":{\"colorbar\":{\"outlinewidth\":0,\"ticks\":\"\"}},\"type\":\"parcoords\"}],\"pie\":[{\"automargin\":true,\"type\":\"pie\"}],\"scatter\":[{\"marker\":{\"colorbar\":{\"outlinewidth\":0,\"ticks\":\"\"}},\"type\":\"scatter\"}],\"scatter3d\":[{\"line\":{\"colorbar\":{\"outlinewidth\":0,\"ticks\":\"\"}},\"marker\":{\"colorbar\":{\"outlinewidth\":0,\"ticks\":\"\"}},\"type\":\"scatter3d\"}],\"scattercarpet\":[{\"marker\":{\"colorbar\":{\"outlinewidth\":0,\"ticks\":\"\"}},\"type\":\"scattercarpet\"}],\"scattergeo\":[{\"marker\":{\"colorbar\":{\"outlinewidth\":0,\"ticks\":\"\"}},\"type\":\"scattergeo\"}],\"scattergl\":[{\"marker\":{\"colorbar\":{\"outlinewidth\":0,\"ticks\":\"\"}},\"type\":\"scattergl\"}],\"scattermapbox\":[{\"marker\":{\"colorbar\":{\"outlinewidth\":0,\"ticks\":\"\"}},\"type\":\"scattermapbox\"}],\"scatterpolar\":[{\"marker\":{\"colorbar\":{\"outlinewidth\":0,\"ticks\":\"\"}},\"type\":\"scatterpolar\"}],\"scatterpolargl\":[{\"marker\":{\"colorbar\":{\"outlinewidth\":0,\"ticks\":\"\"}},\"type\":\"scatterpolargl\"}],\"scatterternary\":[{\"marker\":{\"colorbar\":{\"outlinewidth\":0,\"ticks\":\"\"}},\"type\":\"scatterternary\"}],\"surface\":[{\"colorbar\":{\"outlinewidth\":0,\"ticks\":\"\"},\"colorscale\":[[0.0,\"#0d0887\"],[0.1111111111111111,\"#46039f\"],[0.2222222222222222,\"#7201a8\"],[0.3333333333333333,\"#9c179e\"],[0.4444444444444444,\"#bd3786\"],[0.5555555555555556,\"#d8576b\"],[0.6666666666666666,\"#ed7953\"],[0.7777777777777778,\"#fb9f3a\"],[0.8888888888888888,\"#fdca26\"],[1.0,\"#f0f921\"]],\"type\":\"surface\"}],\"table\":[{\"cells\":{\"fill\":{\"color\":\"#EBF0F8\"},\"line\":{\"color\":\"white\"}},\"header\":{\"fill\":{\"color\":\"#C8D4E3\"},\"line\":{\"color\":\"white\"}},\"type\":\"table\"}]},\"layout\":{\"annotationdefaults\":{\"arrowcolor\":\"#2a3f5f\",\"arrowhead\":0,\"arrowwidth\":1},\"autotypenumbers\":\"strict\",\"coloraxis\":{\"colorbar\":{\"outlinewidth\":0,\"ticks\":\"\"}},\"colorscale\":{\"diverging\":[[0,\"#8e0152\"],[0.1,\"#c51b7d\"],[0.2,\"#de77ae\"],[0.3,\"#f1b6da\"],[0.4,\"#fde0ef\"],[0.5,\"#f7f7f7\"],[0.6,\"#e6f5d0\"],[0.7,\"#b8e186\"],[0.8,\"#7fbc41\"],[0.9,\"#4d9221\"],[1,\"#276419\"]],\"sequential\":[[0.0,\"#0d0887\"],[0.1111111111111111,\"#46039f\"],[0.2222222222222222,\"#7201a8\"],[0.3333333333333333,\"#9c179e\"],[0.4444444444444444,\"#bd3786\"],[0.5555555555555556,\"#d8576b\"],[0.6666666666666666,\"#ed7953\"],[0.7777777777777778,\"#fb9f3a\"],[0.8888888888888888,\"#fdca26\"],[1.0,\"#f0f921\"]],\"sequentialminus\":[[0.0,\"#0d0887\"],[0.1111111111111111,\"#46039f\"],[0.2222222222222222,\"#7201a8\"],[0.3333333333333333,\"#9c179e\"],[0.4444444444444444,\"#bd3786\"],[0.5555555555555556,\"#d8576b\"],[0.6666666666666666,\"#ed7953\"],[0.7777777777777778,\"#fb9f3a\"],[0.8888888888888888,\"#fdca26\"],[1.0,\"#f0f921\"]]},\"colorway\":[\"#636efa\",\"#EF553B\",\"#00cc96\",\"#ab63fa\",\"#FFA15A\",\"#19d3f3\",\"#FF6692\",\"#B6E880\",\"#FF97FF\",\"#FECB52\"],\"font\":{\"color\":\"#2a3f5f\"},\"geo\":{\"bgcolor\":\"white\",\"lakecolor\":\"white\",\"landcolor\":\"#E5ECF6\",\"showlakes\":true,\"showland\":true,\"subunitcolor\":\"white\"},\"hoverlabel\":{\"align\":\"left\"},\"hovermode\":\"closest\",\"mapbox\":{\"style\":\"light\"},\"paper_bgcolor\":\"white\",\"plot_bgcolor\":\"#E5ECF6\",\"polar\":{\"angularaxis\":{\"gridcolor\":\"white\",\"linecolor\":\"white\",\"ticks\":\"\"},\"bgcolor\":\"#E5ECF6\",\"radialaxis\":{\"gridcolor\":\"white\",\"linecolor\":\"white\",\"ticks\":\"\"}},\"scene\":{\"xaxis\":{\"backgroundcolor\":\"#E5ECF6\",\"gridcolor\":\"white\",\"gridwidth\":2,\"linecolor\":\"white\",\"showbackground\":true,\"ticks\":\"\",\"zerolinecolor\":\"white\"},\"yaxis\":{\"backgroundcolor\":\"#E5ECF6\",\"gridcolor\":\"white\",\"gridwidth\":2,\"linecolor\":\"white\",\"showbackground\":true,\"ticks\":\"\",\"zerolinecolor\":\"white\"},\"zaxis\":{\"backgroundcolor\":\"#E5ECF6\",\"gridcolor\":\"white\",\"gridwidth\":2,\"linecolor\":\"white\",\"showbackground\":true,\"ticks\":\"\",\"zerolinecolor\":\"white\"}},\"shapedefaults\":{\"line\":{\"color\":\"#2a3f5f\"}},\"ternary\":{\"aaxis\":{\"gridcolor\":\"white\",\"linecolor\":\"white\",\"ticks\":\"\"},\"baxis\":{\"gridcolor\":\"white\",\"linecolor\":\"white\",\"ticks\":\"\"},\"bgcolor\":\"#E5ECF6\",\"caxis\":{\"gridcolor\":\"white\",\"linecolor\":\"white\",\"ticks\":\"\"}},\"title\":{\"x\":0.05},\"xaxis\":{\"automargin\":true,\"gridcolor\":\"white\",\"linecolor\":\"white\",\"ticks\":\"\",\"title\":{\"standoff\":15},\"zerolinecolor\":\"white\",\"zerolinewidth\":2},\"yaxis\":{\"automargin\":true,\"gridcolor\":\"white\",\"linecolor\":\"white\",\"ticks\":\"\",\"title\":{\"standoff\":15},\"zerolinecolor\":\"white\",\"zerolinewidth\":2}}},\"xaxis\":{\"anchor\":\"y\",\"domain\":[0.0,1.0]},\"yaxis\":{\"anchor\":\"x\",\"domain\":[0.0,1.0],\"title\":{\"text\":\"Age\"}},\"legend\":{\"tracegroupgap\":0},\"margin\":{\"t\":60},\"boxmode\":\"group\"},                        {\"responsive\": true}                    ).then(function(){\n",
              "                            \n",
              "var gd = document.getElementById('3d50ad37-23ad-4318-98c1-f574136ecc00');\n",
              "var x = new MutationObserver(function (mutations, observer) {{\n",
              "        var display = window.getComputedStyle(gd).display;\n",
              "        if (!display || display === 'none') {{\n",
              "            console.log([gd, 'removed!']);\n",
              "            Plotly.purge(gd);\n",
              "            observer.disconnect();\n",
              "        }}\n",
              "}});\n",
              "\n",
              "// Listen for the removal of the full notebook cells\n",
              "var notebookContainer = gd.closest('#notebook-container');\n",
              "if (notebookContainer) {{\n",
              "    x.observe(notebookContainer, {childList: true});\n",
              "}}\n",
              "\n",
              "// Listen for the clearing of the current output cell\n",
              "var outputEl = gd.closest('.output');\n",
              "if (outputEl) {{\n",
              "    x.observe(outputEl, {childList: true});\n",
              "}}\n",
              "\n",
              "                        })                };                            </script>        </div>\n",
              "</body>\n",
              "</html>"
            ]
          },
          "metadata": {}
        }
      ]
    },
    {
      "cell_type": "code",
      "source": [
        "# Pressão Sanguínea em Repouso\n",
        "px.box(dados2, y='RestingBP')"
      ],
      "metadata": {
        "id": "vDWRfsBqs2D7",
        "colab": {
          "base_uri": "https://localhost:8080/",
          "height": 0
        },
        "outputId": "e078a063-1bb6-47d4-8f95-328fa3332098"
      },
      "execution_count": 121,
      "outputs": [
        {
          "output_type": "display_data",
          "data": {
            "text/html": [
              "<html>\n",
              "<head><meta charset=\"utf-8\" /></head>\n",
              "<body>\n",
              "    <div>            <script src=\"https://cdnjs.cloudflare.com/ajax/libs/mathjax/2.7.5/MathJax.js?config=TeX-AMS-MML_SVG\"></script><script type=\"text/javascript\">if (window.MathJax) {MathJax.Hub.Config({SVG: {font: \"STIX-Web\"}});}</script>                <script type=\"text/javascript\">window.PlotlyConfig = {MathJaxConfig: 'local'};</script>\n",
              "        <script src=\"https://cdn.plot.ly/plotly-2.8.3.min.js\"></script>                <div id=\"ff91f894-7d72-428f-8ab1-ff452ee1ed99\" class=\"plotly-graph-div\" style=\"height:525px; width:100%;\"></div>            <script type=\"text/javascript\">                                    window.PLOTLYENV=window.PLOTLYENV || {};                                    if (document.getElementById(\"ff91f894-7d72-428f-8ab1-ff452ee1ed99\")) {                    Plotly.newPlot(                        \"ff91f894-7d72-428f-8ab1-ff452ee1ed99\",                        [{\"alignmentgroup\":\"True\",\"hovertemplate\":\"RestingBP=%{y}<extra></extra>\",\"legendgroup\":\"\",\"marker\":{\"color\":\"#636efa\"},\"name\":\"\",\"notched\":false,\"offsetgroup\":\"\",\"orientation\":\"v\",\"showlegend\":false,\"x0\":\" \",\"xaxis\":\"x\",\"y\":[140,160,130,138,150,120,130,110,140,120,130,136,120,140,115,120,110,120,100,120,100,120,124,150,130,130,124,120,113,125,145,130,125,130,150,125,140,110,120,150,150,130,150,140,120,130,120,140,112,110,130,120,140,130,130,160,120,130,150,112,100,150,140,120,110,120,132,110,160,150,140,130,120,120,140,150,118,140,140,130,110,120,150,160,150,140,170,140,120,140,110,130,120,160,110,130,142,160,120,125,130,130,150,120,118,140,120,150,140,190,130,150,140,140,130,100,120,130,120,140,135,125,110,180,130,120,130,108,120,120,145,110,170,150,130,115,120,120,140,150,160,140,160,140,120,110,120,120,120,130,130,100,130,120,120,155,110,140,130,160,140,128,160,120,140,140,140,140,135,140,120,140,140,140,140,140,140,140,130,130,130,130,140,110,160,160,130,120,120,180,180,170,130,135,125,160,120,150,120,130,110,120,160,100,130,150,120,110,130,125,106,140,130,130,150,170,110,120,140,140,130,160,120,120,120,145,120,92,120,130,130,130,120,112,140,120,120,140,160,160,145,200,160,120,160,120,120,122,130,130,135,120,125,140,145,120,130,150,150,122,140,120,120,130,140,160,130,98,130,130,120,105,140,120,180,180,135,170,180,130,120,150,130,110,140,110,140,120,133,120,110,140,130,115,95,105,145,110,110,110,160,140,125,120,95,120,115,130,115,95,155,125,125,115,80,145,105,140,130,145,125,100,105,115,100,105,110,125,95,130,115,115,100,95,130,120,160,150,140,95,100,110,110,130,120,135,120,115,137,110,120,140,120,130,120,145,115,120,115,105,160,160,155,120,120,200,150,135,140,150,135,150,185,135,125,160,155,160,140,120,160,115,115,110,120,150,145,130,140,160,140,115,130,150,160,135,140,170,165,200,160,130,145,135,110,120,140,115,110,160,150,180,125,125,130,155,140,130,132,142,110,120,150,180,120,160,126,140,110,133,128,120,170,110,126,152,116,120,130,138,128,130,128,130,120,136,130,124,160,122,144,140,120,136,154,120,125,134,104,139,136,122,128,131,134,120,132,152,124,126,138,154,141,131,178,132,110,130,170,126,140,142,120,134,139,110,140,140,136,120,170,130,137,142,142,132,146,160,135,136,130,140,132,158,136,136,106,120,110,136,160,123,112,122,130,150,150,102,96,130,120,144,124,150,130,144,139,131,143,133,143,116,110,125,130,133,150,130,110,138,104,138,170,140,132,132,142,112,139,172,120,144,145,155,150,160,137,137,134,133,132,140,135,144,141,150,130,110,158,128,140,150,160,142,137,139,146,156,145,131,140,122,142,141,180,124,118,140,140,136,100,190,130,160,130,122,133,120,130,130,140,120,155,134,114,160,144,158,134,127,135,122,140,120,130,115,124,128,120,120,130,110,140,150,135,142,140,134,128,112,140,140,110,140,120,130,115,112,132,130,138,120,112,110,128,160,120,170,144,130,140,160,130,122,152,124,130,101,126,140,118,110,160,150,136,128,140,140,130,105,138,120,174,120,150,130,120,150,145,150,140,136,118,108,120,120,156,140,106,142,104,94,120,120,146,120,150,130,110,148,128,178,126,150,140,130,124,110,125,110,120,100,140,120,108,120,130,165,130,124,100,150,140,112,180,110,158,135,120,134,120,200,150,130,120,122,152,160,125,160,120,136,134,117,108,112,140,120,150,142,152,125,118,132,145,138,140,125,192,123,112,110,132,112,112,120,108,130,130,105,140,128,120,178,120,150,130,128,110,180,110,130,138,138,160,140,100,120,118,138,140,150,125,129,120,134,110,102,130,130,132,108,140,160,140,145,108,126,124,135,100,110,140,125,118,125,125,140,160,152,102,105,125,130,170,125,122,128,130,130,135,94,120,120,110,135,150,130,138,135,130,132,150,118,145,118,115,128,130,160,138,120,138,120,180,140,130,140,140,130,110,155,140,145,120,130,112,110,150,160,150,132,140,150,120,130,120,130,110,172,120,140,140,160,128,138,132,128,134,170,146,138,154,130,110,130,128,122,148,114,170,125,130,120,152,132,120,140,124,120,164,140,110,144,130,130,138],\"y0\":\" \",\"yaxis\":\"y\",\"type\":\"box\"}],                        {\"template\":{\"data\":{\"bar\":[{\"error_x\":{\"color\":\"#2a3f5f\"},\"error_y\":{\"color\":\"#2a3f5f\"},\"marker\":{\"line\":{\"color\":\"#E5ECF6\",\"width\":0.5},\"pattern\":{\"fillmode\":\"overlay\",\"size\":10,\"solidity\":0.2}},\"type\":\"bar\"}],\"barpolar\":[{\"marker\":{\"line\":{\"color\":\"#E5ECF6\",\"width\":0.5},\"pattern\":{\"fillmode\":\"overlay\",\"size\":10,\"solidity\":0.2}},\"type\":\"barpolar\"}],\"carpet\":[{\"aaxis\":{\"endlinecolor\":\"#2a3f5f\",\"gridcolor\":\"white\",\"linecolor\":\"white\",\"minorgridcolor\":\"white\",\"startlinecolor\":\"#2a3f5f\"},\"baxis\":{\"endlinecolor\":\"#2a3f5f\",\"gridcolor\":\"white\",\"linecolor\":\"white\",\"minorgridcolor\":\"white\",\"startlinecolor\":\"#2a3f5f\"},\"type\":\"carpet\"}],\"choropleth\":[{\"colorbar\":{\"outlinewidth\":0,\"ticks\":\"\"},\"type\":\"choropleth\"}],\"contour\":[{\"colorbar\":{\"outlinewidth\":0,\"ticks\":\"\"},\"colorscale\":[[0.0,\"#0d0887\"],[0.1111111111111111,\"#46039f\"],[0.2222222222222222,\"#7201a8\"],[0.3333333333333333,\"#9c179e\"],[0.4444444444444444,\"#bd3786\"],[0.5555555555555556,\"#d8576b\"],[0.6666666666666666,\"#ed7953\"],[0.7777777777777778,\"#fb9f3a\"],[0.8888888888888888,\"#fdca26\"],[1.0,\"#f0f921\"]],\"type\":\"contour\"}],\"contourcarpet\":[{\"colorbar\":{\"outlinewidth\":0,\"ticks\":\"\"},\"type\":\"contourcarpet\"}],\"heatmap\":[{\"colorbar\":{\"outlinewidth\":0,\"ticks\":\"\"},\"colorscale\":[[0.0,\"#0d0887\"],[0.1111111111111111,\"#46039f\"],[0.2222222222222222,\"#7201a8\"],[0.3333333333333333,\"#9c179e\"],[0.4444444444444444,\"#bd3786\"],[0.5555555555555556,\"#d8576b\"],[0.6666666666666666,\"#ed7953\"],[0.7777777777777778,\"#fb9f3a\"],[0.8888888888888888,\"#fdca26\"],[1.0,\"#f0f921\"]],\"type\":\"heatmap\"}],\"heatmapgl\":[{\"colorbar\":{\"outlinewidth\":0,\"ticks\":\"\"},\"colorscale\":[[0.0,\"#0d0887\"],[0.1111111111111111,\"#46039f\"],[0.2222222222222222,\"#7201a8\"],[0.3333333333333333,\"#9c179e\"],[0.4444444444444444,\"#bd3786\"],[0.5555555555555556,\"#d8576b\"],[0.6666666666666666,\"#ed7953\"],[0.7777777777777778,\"#fb9f3a\"],[0.8888888888888888,\"#fdca26\"],[1.0,\"#f0f921\"]],\"type\":\"heatmapgl\"}],\"histogram\":[{\"marker\":{\"pattern\":{\"fillmode\":\"overlay\",\"size\":10,\"solidity\":0.2}},\"type\":\"histogram\"}],\"histogram2d\":[{\"colorbar\":{\"outlinewidth\":0,\"ticks\":\"\"},\"colorscale\":[[0.0,\"#0d0887\"],[0.1111111111111111,\"#46039f\"],[0.2222222222222222,\"#7201a8\"],[0.3333333333333333,\"#9c179e\"],[0.4444444444444444,\"#bd3786\"],[0.5555555555555556,\"#d8576b\"],[0.6666666666666666,\"#ed7953\"],[0.7777777777777778,\"#fb9f3a\"],[0.8888888888888888,\"#fdca26\"],[1.0,\"#f0f921\"]],\"type\":\"histogram2d\"}],\"histogram2dcontour\":[{\"colorbar\":{\"outlinewidth\":0,\"ticks\":\"\"},\"colorscale\":[[0.0,\"#0d0887\"],[0.1111111111111111,\"#46039f\"],[0.2222222222222222,\"#7201a8\"],[0.3333333333333333,\"#9c179e\"],[0.4444444444444444,\"#bd3786\"],[0.5555555555555556,\"#d8576b\"],[0.6666666666666666,\"#ed7953\"],[0.7777777777777778,\"#fb9f3a\"],[0.8888888888888888,\"#fdca26\"],[1.0,\"#f0f921\"]],\"type\":\"histogram2dcontour\"}],\"mesh3d\":[{\"colorbar\":{\"outlinewidth\":0,\"ticks\":\"\"},\"type\":\"mesh3d\"}],\"parcoords\":[{\"line\":{\"colorbar\":{\"outlinewidth\":0,\"ticks\":\"\"}},\"type\":\"parcoords\"}],\"pie\":[{\"automargin\":true,\"type\":\"pie\"}],\"scatter\":[{\"marker\":{\"colorbar\":{\"outlinewidth\":0,\"ticks\":\"\"}},\"type\":\"scatter\"}],\"scatter3d\":[{\"line\":{\"colorbar\":{\"outlinewidth\":0,\"ticks\":\"\"}},\"marker\":{\"colorbar\":{\"outlinewidth\":0,\"ticks\":\"\"}},\"type\":\"scatter3d\"}],\"scattercarpet\":[{\"marker\":{\"colorbar\":{\"outlinewidth\":0,\"ticks\":\"\"}},\"type\":\"scattercarpet\"}],\"scattergeo\":[{\"marker\":{\"colorbar\":{\"outlinewidth\":0,\"ticks\":\"\"}},\"type\":\"scattergeo\"}],\"scattergl\":[{\"marker\":{\"colorbar\":{\"outlinewidth\":0,\"ticks\":\"\"}},\"type\":\"scattergl\"}],\"scattermapbox\":[{\"marker\":{\"colorbar\":{\"outlinewidth\":0,\"ticks\":\"\"}},\"type\":\"scattermapbox\"}],\"scatterpolar\":[{\"marker\":{\"colorbar\":{\"outlinewidth\":0,\"ticks\":\"\"}},\"type\":\"scatterpolar\"}],\"scatterpolargl\":[{\"marker\":{\"colorbar\":{\"outlinewidth\":0,\"ticks\":\"\"}},\"type\":\"scatterpolargl\"}],\"scatterternary\":[{\"marker\":{\"colorbar\":{\"outlinewidth\":0,\"ticks\":\"\"}},\"type\":\"scatterternary\"}],\"surface\":[{\"colorbar\":{\"outlinewidth\":0,\"ticks\":\"\"},\"colorscale\":[[0.0,\"#0d0887\"],[0.1111111111111111,\"#46039f\"],[0.2222222222222222,\"#7201a8\"],[0.3333333333333333,\"#9c179e\"],[0.4444444444444444,\"#bd3786\"],[0.5555555555555556,\"#d8576b\"],[0.6666666666666666,\"#ed7953\"],[0.7777777777777778,\"#fb9f3a\"],[0.8888888888888888,\"#fdca26\"],[1.0,\"#f0f921\"]],\"type\":\"surface\"}],\"table\":[{\"cells\":{\"fill\":{\"color\":\"#EBF0F8\"},\"line\":{\"color\":\"white\"}},\"header\":{\"fill\":{\"color\":\"#C8D4E3\"},\"line\":{\"color\":\"white\"}},\"type\":\"table\"}]},\"layout\":{\"annotationdefaults\":{\"arrowcolor\":\"#2a3f5f\",\"arrowhead\":0,\"arrowwidth\":1},\"autotypenumbers\":\"strict\",\"coloraxis\":{\"colorbar\":{\"outlinewidth\":0,\"ticks\":\"\"}},\"colorscale\":{\"diverging\":[[0,\"#8e0152\"],[0.1,\"#c51b7d\"],[0.2,\"#de77ae\"],[0.3,\"#f1b6da\"],[0.4,\"#fde0ef\"],[0.5,\"#f7f7f7\"],[0.6,\"#e6f5d0\"],[0.7,\"#b8e186\"],[0.8,\"#7fbc41\"],[0.9,\"#4d9221\"],[1,\"#276419\"]],\"sequential\":[[0.0,\"#0d0887\"],[0.1111111111111111,\"#46039f\"],[0.2222222222222222,\"#7201a8\"],[0.3333333333333333,\"#9c179e\"],[0.4444444444444444,\"#bd3786\"],[0.5555555555555556,\"#d8576b\"],[0.6666666666666666,\"#ed7953\"],[0.7777777777777778,\"#fb9f3a\"],[0.8888888888888888,\"#fdca26\"],[1.0,\"#f0f921\"]],\"sequentialminus\":[[0.0,\"#0d0887\"],[0.1111111111111111,\"#46039f\"],[0.2222222222222222,\"#7201a8\"],[0.3333333333333333,\"#9c179e\"],[0.4444444444444444,\"#bd3786\"],[0.5555555555555556,\"#d8576b\"],[0.6666666666666666,\"#ed7953\"],[0.7777777777777778,\"#fb9f3a\"],[0.8888888888888888,\"#fdca26\"],[1.0,\"#f0f921\"]]},\"colorway\":[\"#636efa\",\"#EF553B\",\"#00cc96\",\"#ab63fa\",\"#FFA15A\",\"#19d3f3\",\"#FF6692\",\"#B6E880\",\"#FF97FF\",\"#FECB52\"],\"font\":{\"color\":\"#2a3f5f\"},\"geo\":{\"bgcolor\":\"white\",\"lakecolor\":\"white\",\"landcolor\":\"#E5ECF6\",\"showlakes\":true,\"showland\":true,\"subunitcolor\":\"white\"},\"hoverlabel\":{\"align\":\"left\"},\"hovermode\":\"closest\",\"mapbox\":{\"style\":\"light\"},\"paper_bgcolor\":\"white\",\"plot_bgcolor\":\"#E5ECF6\",\"polar\":{\"angularaxis\":{\"gridcolor\":\"white\",\"linecolor\":\"white\",\"ticks\":\"\"},\"bgcolor\":\"#E5ECF6\",\"radialaxis\":{\"gridcolor\":\"white\",\"linecolor\":\"white\",\"ticks\":\"\"}},\"scene\":{\"xaxis\":{\"backgroundcolor\":\"#E5ECF6\",\"gridcolor\":\"white\",\"gridwidth\":2,\"linecolor\":\"white\",\"showbackground\":true,\"ticks\":\"\",\"zerolinecolor\":\"white\"},\"yaxis\":{\"backgroundcolor\":\"#E5ECF6\",\"gridcolor\":\"white\",\"gridwidth\":2,\"linecolor\":\"white\",\"showbackground\":true,\"ticks\":\"\",\"zerolinecolor\":\"white\"},\"zaxis\":{\"backgroundcolor\":\"#E5ECF6\",\"gridcolor\":\"white\",\"gridwidth\":2,\"linecolor\":\"white\",\"showbackground\":true,\"ticks\":\"\",\"zerolinecolor\":\"white\"}},\"shapedefaults\":{\"line\":{\"color\":\"#2a3f5f\"}},\"ternary\":{\"aaxis\":{\"gridcolor\":\"white\",\"linecolor\":\"white\",\"ticks\":\"\"},\"baxis\":{\"gridcolor\":\"white\",\"linecolor\":\"white\",\"ticks\":\"\"},\"bgcolor\":\"#E5ECF6\",\"caxis\":{\"gridcolor\":\"white\",\"linecolor\":\"white\",\"ticks\":\"\"}},\"title\":{\"x\":0.05},\"xaxis\":{\"automargin\":true,\"gridcolor\":\"white\",\"linecolor\":\"white\",\"ticks\":\"\",\"title\":{\"standoff\":15},\"zerolinecolor\":\"white\",\"zerolinewidth\":2},\"yaxis\":{\"automargin\":true,\"gridcolor\":\"white\",\"linecolor\":\"white\",\"ticks\":\"\",\"title\":{\"standoff\":15},\"zerolinecolor\":\"white\",\"zerolinewidth\":2}}},\"xaxis\":{\"anchor\":\"y\",\"domain\":[0.0,1.0]},\"yaxis\":{\"anchor\":\"x\",\"domain\":[0.0,1.0],\"title\":{\"text\":\"RestingBP\"}},\"legend\":{\"tracegroupgap\":0},\"margin\":{\"t\":60},\"boxmode\":\"group\"},                        {\"responsive\": true}                    ).then(function(){\n",
              "                            \n",
              "var gd = document.getElementById('ff91f894-7d72-428f-8ab1-ff452ee1ed99');\n",
              "var x = new MutationObserver(function (mutations, observer) {{\n",
              "        var display = window.getComputedStyle(gd).display;\n",
              "        if (!display || display === 'none') {{\n",
              "            console.log([gd, 'removed!']);\n",
              "            Plotly.purge(gd);\n",
              "            observer.disconnect();\n",
              "        }}\n",
              "}});\n",
              "\n",
              "// Listen for the removal of the full notebook cells\n",
              "var notebookContainer = gd.closest('#notebook-container');\n",
              "if (notebookContainer) {{\n",
              "    x.observe(notebookContainer, {childList: true});\n",
              "}}\n",
              "\n",
              "// Listen for the clearing of the current output cell\n",
              "var outputEl = gd.closest('.output');\n",
              "if (outputEl) {{\n",
              "    x.observe(outputEl, {childList: true});\n",
              "}}\n",
              "\n",
              "                        })                };                            </script>        </div>\n",
              "</body>\n",
              "</html>"
            ]
          },
          "metadata": {}
        }
      ]
    },
    {
      "cell_type": "code",
      "source": [
        "# Colesterol\n",
        "px.box(dados2, y='Cholesterol')"
      ],
      "metadata": {
        "id": "aGTgKVbmsar8",
        "colab": {
          "base_uri": "https://localhost:8080/",
          "height": 0
        },
        "outputId": "0474dcb9-62f1-435e-ec9d-134f11da18b7"
      },
      "execution_count": 122,
      "outputs": [
        {
          "output_type": "display_data",
          "data": {
            "text/html": [
              "<html>\n",
              "<head><meta charset=\"utf-8\" /></head>\n",
              "<body>\n",
              "    <div>            <script src=\"https://cdnjs.cloudflare.com/ajax/libs/mathjax/2.7.5/MathJax.js?config=TeX-AMS-MML_SVG\"></script><script type=\"text/javascript\">if (window.MathJax) {MathJax.Hub.Config({SVG: {font: \"STIX-Web\"}});}</script>                <script type=\"text/javascript\">window.PlotlyConfig = {MathJaxConfig: 'local'};</script>\n",
              "        <script src=\"https://cdn.plot.ly/plotly-2.8.3.min.js\"></script>                <div id=\"8e601758-1926-48f8-9e24-db2efb1ac066\" class=\"plotly-graph-div\" style=\"height:525px; width:100%;\"></div>            <script type=\"text/javascript\">                                    window.PLOTLYENV=window.PLOTLYENV || {};                                    if (document.getElementById(\"8e601758-1926-48f8-9e24-db2efb1ac066\")) {                    Plotly.newPlot(                        \"8e601758-1926-48f8-9e24-db2efb1ac066\",                        [{\"alignmentgroup\":\"True\",\"hovertemplate\":\"Cholesterol=%{y}<extra></extra>\",\"legendgroup\":\"\",\"marker\":{\"color\":\"#636efa\"},\"name\":\"\",\"notched\":false,\"offsetgroup\":\"\",\"orientation\":\"v\",\"showlegend\":false,\"x0\":\" \",\"xaxis\":\"x\",\"y\":[289.0,180.0,283.0,214.0,195.0,339.0,237.0,208.0,207.0,284.0,211.0,164.0,204.0,234.0,211.0,273.0,196.0,201.0,248.0,267.0,223.0,184.0,201.0,288.0,215.0,209.0,260.0,284.0,468.0,188.0,518.0,167.0,224.0,172.0,186.0,254.0,306.0,250.0,177.0,227.0,230.0,294.0,264.0,259.0,175.0,318.0,223.0,216.0,340.0,289.0,233.0,205.0,224.0,245.0,180.0,194.0,270.0,213.0,365.0,342.0,253.0,254.0,224.0,277.0,202.0,260.0,297.0,225.0,246.0,412.0,265.0,215.0,182.0,218.0,268.0,163.0,529.0,167.0,100.0,206.0,277.0,238.0,223.0,196.0,213.0,139.0,263.0,216.0,291.0,229.0,208.0,307.0,210.0,329.0,182.0,263.0,207.0,147.0,85.0,269.0,275.0,179.0,392.0,466.0,186.0,260.0,254.0,214.0,129.0,241.0,188.0,255.0,276.0,297.0,207.0,246.0,282.0,338.0,160.0,156.0,248.0,272.0,240.0,393.0,230.0,246.0,161.0,163.0,230.0,228.0,292.0,202.0,388.0,230.0,294.0,265.0,215.0,241.0,166.0,247.0,331.0,341.0,291.0,243.0,279.0,273.0,198.0,249.0,168.0,603.0,215.0,159.0,275.0,270.0,291.0,342.0,190.0,185.0,290.0,195.0,264.0,212.0,263.0,196.0,225.0,272.0,231.0,238.0,222.0,179.0,243.0,235.0,320.0,187.0,266.0,288.0,216.0,287.0,194.0,238.0,225.0,224.0,404.0,238.0,312.0,211.0,251.0,237.0,328.0,285.0,280.0,209.0,245.0,192.0,184.0,193.0,297.0,268.0,246.0,308.0,249.0,230.0,147.0,219.0,184.0,215.0,308.0,257.0,132.0,216.0,263.0,288.0,276.0,219.0,226.0,237.0,280.0,217.0,196.0,263.0,222.0,303.0,195.0,298.0,256.0,264.0,195.0,117.0,295.0,173.0,315.0,281.0,275.0,250.0,309.0,200.0,336.0,295.0,355.0,193.0,326.0,198.0,292.0,266.0,268.0,171.0,237.0,275.0,219.0,341.0,491.0,260.0,292.0,271.0,248.0,274.0,394.0,160.0,200.0,320.0,275.0,221.0,231.0,126.0,193.0,305.0,298.0,220.0,242.0,235.0,225.0,198.0,201.0,220.0,295.0,213.0,160.0,223.0,347.0,253.0,246.0,222.0,220.0,344.0,358.0,190.0,169.0,181.0,308.0,166.0,211.0,257.0,182.0,244.6353887399464,244.6353887399464,244.6353887399464,244.6353887399464,244.6353887399464,244.6353887399464,244.6353887399464,244.6353887399464,244.6353887399464,244.6353887399464,244.6353887399464,244.6353887399464,244.6353887399464,244.6353887399464,244.6353887399464,244.6353887399464,244.6353887399464,244.6353887399464,244.6353887399464,244.6353887399464,244.6353887399464,244.6353887399464,244.6353887399464,244.6353887399464,244.6353887399464,244.6353887399464,244.6353887399464,244.6353887399464,244.6353887399464,244.6353887399464,244.6353887399464,244.6353887399464,244.6353887399464,244.6353887399464,244.6353887399464,244.6353887399464,244.6353887399464,244.6353887399464,244.6353887399464,244.6353887399464,244.6353887399464,244.6353887399464,244.6353887399464,244.6353887399464,244.6353887399464,244.6353887399464,244.6353887399464,244.6353887399464,244.6353887399464,244.6353887399464,244.6353887399464,244.6353887399464,244.6353887399464,244.6353887399464,244.6353887399464,244.6353887399464,244.6353887399464,244.6353887399464,244.6353887399464,244.6353887399464,244.6353887399464,244.6353887399464,244.6353887399464,244.6353887399464,244.6353887399464,244.6353887399464,244.6353887399464,244.6353887399464,244.6353887399464,244.6353887399464,244.6353887399464,244.6353887399464,244.6353887399464,244.6353887399464,244.6353887399464,244.6353887399464,244.6353887399464,244.6353887399464,244.6353887399464,244.6353887399464,244.6353887399464,244.6353887399464,244.6353887399464,244.6353887399464,244.6353887399464,244.6353887399464,244.6353887399464,244.6353887399464,244.6353887399464,244.6353887399464,244.6353887399464,244.6353887399464,244.6353887399464,244.6353887399464,244.6353887399464,244.6353887399464,244.6353887399464,244.6353887399464,244.6353887399464,244.6353887399464,244.6353887399464,244.6353887399464,244.6353887399464,244.6353887399464,244.6353887399464,244.6353887399464,244.6353887399464,244.6353887399464,244.6353887399464,244.6353887399464,244.6353887399464,244.6353887399464,244.6353887399464,244.6353887399464,244.6353887399464,244.6353887399464,244.6353887399464,244.6353887399464,244.6353887399464,244.6353887399464,244.6353887399464,244.6353887399464,244.6353887399464,260.0,209.0,218.0,228.0,213.0,244.6353887399464,236.0,244.6353887399464,244.6353887399464,267.0,166.0,244.6353887399464,244.6353887399464,244.6353887399464,244.6353887399464,220.0,177.0,236.0,244.6353887399464,244.6353887399464,244.6353887399464,244.6353887399464,244.6353887399464,244.6353887399464,244.6353887399464,244.6353887399464,244.6353887399464,186.0,100.0,228.0,244.6353887399464,171.0,230.0,244.6353887399464,244.6353887399464,281.0,244.6353887399464,203.0,244.6353887399464,244.6353887399464,244.6353887399464,244.6353887399464,244.6353887399464,277.0,244.6353887399464,233.0,244.6353887399464,244.6353887399464,240.0,244.6353887399464,244.6353887399464,153.0,224.0,244.6353887399464,244.6353887399464,244.6353887399464,316.0,244.6353887399464,244.6353887399464,218.0,244.6353887399464,311.0,244.6353887399464,244.6353887399464,244.6353887399464,270.0,244.6353887399464,244.6353887399464,217.0,214.0,214.0,252.0,220.0,214.0,203.0,244.6353887399464,339.0,216.0,276.0,458.0,241.0,384.0,297.0,248.0,308.0,208.0,227.0,210.0,245.0,225.0,240.0,244.6353887399464,198.0,195.0,267.0,161.0,258.0,244.6353887399464,244.6353887399464,195.0,235.0,244.6353887399464,305.0,223.0,282.0,349.0,160.0,160.0,236.0,312.0,283.0,142.0,211.0,218.0,306.0,186.0,252.0,222.0,244.6353887399464,244.6353887399464,258.0,202.0,197.0,204.0,113.0,274.0,192.0,298.0,272.0,220.0,200.0,261.0,181.0,260.0,220.0,221.0,216.0,175.0,219.0,310.0,208.0,232.0,273.0,203.0,182.0,274.0,204.0,270.0,292.0,171.0,221.0,289.0,217.0,223.0,110.0,193.0,123.0,210.0,282.0,170.0,369.0,173.0,289.0,152.0,208.0,216.0,271.0,244.0,285.0,243.0,240.0,219.0,237.0,165.0,213.0,287.0,258.0,256.0,186.0,264.0,185.0,226.0,203.0,207.0,284.0,337.0,310.0,254.0,258.0,254.0,300.0,170.0,310.0,333.0,139.0,223.0,385.0,254.0,322.0,564.0,261.0,263.0,269.0,177.0,256.0,239.0,293.0,407.0,234.0,226.0,235.0,234.0,303.0,149.0,311.0,203.0,211.0,199.0,229.0,245.0,303.0,204.0,288.0,275.0,243.0,295.0,230.0,265.0,229.0,228.0,215.0,326.0,200.0,256.0,207.0,273.0,180.0,222.0,223.0,209.0,233.0,197.0,218.0,211.0,149.0,197.0,246.0,225.0,315.0,205.0,417.0,195.0,234.0,198.0,166.0,178.0,249.0,281.0,126.0,305.0,226.0,240.0,233.0,276.0,261.0,319.0,242.0,243.0,260.0,354.0,245.0,197.0,223.0,309.0,208.0,199.0,209.0,236.0,218.0,198.0,270.0,214.0,201.0,244.0,208.0,270.0,306.0,243.0,221.0,330.0,266.0,206.0,212.0,275.0,302.0,234.0,313.0,244.0,141.0,237.0,269.0,289.0,254.0,274.0,222.0,258.0,177.0,160.0,327.0,235.0,305.0,304.0,295.0,271.0,249.0,288.0,226.0,283.0,188.0,286.0,274.0,360.0,273.0,201.0,267.0,196.0,201.0,230.0,269.0,212.0,226.0,246.0,232.0,177.0,277.0,249.0,210.0,207.0,212.0,271.0,233.0,213.0,283.0,282.0,230.0,167.0,224.0,268.0,250.0,219.0,267.0,303.0,256.0,204.0,217.0,308.0,193.0,228.0,231.0,244.0,262.0,259.0,211.0,325.0,254.0,197.0,236.0,282.0,234.0,254.0,299.0,211.0,182.0,294.0,298.0,231.0,254.0,196.0,240.0,409.0,172.0,265.0,246.0,315.0,184.0,233.0,394.0,269.0,239.0,174.0,309.0,282.0,255.0,250.0,248.0,214.0,239.0,304.0,277.0,300.0,258.0,299.0,289.0,298.0,318.0,240.0,309.0,250.0,288.0,245.0,213.0,216.0,204.0,204.0,252.0,227.0,258.0,220.0,239.0,254.0,168.0,330.0,183.0,203.0,263.0,341.0,283.0,186.0,307.0,219.0,260.0,255.0,231.0,164.0,234.0,177.0,257.0,325.0,274.0,321.0,264.0,268.0,308.0,253.0,248.0,269.0,185.0,282.0,188.0,219.0,290.0,175.0,212.0,302.0,243.0,353.0,335.0,247.0,340.0,206.0,284.0,266.0,229.0,199.0,263.0,294.0,192.0,286.0,216.0,223.0,247.0,204.0,204.0,227.0,278.0,220.0,232.0,197.0,335.0,253.0,205.0,192.0,203.0,318.0,225.0,220.0,221.0,240.0,212.0,342.0,169.0,187.0,197.0,157.0,176.0,241.0,264.0,193.0,131.0,236.0,175.0],\"y0\":\" \",\"yaxis\":\"y\",\"type\":\"box\"}],                        {\"template\":{\"data\":{\"bar\":[{\"error_x\":{\"color\":\"#2a3f5f\"},\"error_y\":{\"color\":\"#2a3f5f\"},\"marker\":{\"line\":{\"color\":\"#E5ECF6\",\"width\":0.5},\"pattern\":{\"fillmode\":\"overlay\",\"size\":10,\"solidity\":0.2}},\"type\":\"bar\"}],\"barpolar\":[{\"marker\":{\"line\":{\"color\":\"#E5ECF6\",\"width\":0.5},\"pattern\":{\"fillmode\":\"overlay\",\"size\":10,\"solidity\":0.2}},\"type\":\"barpolar\"}],\"carpet\":[{\"aaxis\":{\"endlinecolor\":\"#2a3f5f\",\"gridcolor\":\"white\",\"linecolor\":\"white\",\"minorgridcolor\":\"white\",\"startlinecolor\":\"#2a3f5f\"},\"baxis\":{\"endlinecolor\":\"#2a3f5f\",\"gridcolor\":\"white\",\"linecolor\":\"white\",\"minorgridcolor\":\"white\",\"startlinecolor\":\"#2a3f5f\"},\"type\":\"carpet\"}],\"choropleth\":[{\"colorbar\":{\"outlinewidth\":0,\"ticks\":\"\"},\"type\":\"choropleth\"}],\"contour\":[{\"colorbar\":{\"outlinewidth\":0,\"ticks\":\"\"},\"colorscale\":[[0.0,\"#0d0887\"],[0.1111111111111111,\"#46039f\"],[0.2222222222222222,\"#7201a8\"],[0.3333333333333333,\"#9c179e\"],[0.4444444444444444,\"#bd3786\"],[0.5555555555555556,\"#d8576b\"],[0.6666666666666666,\"#ed7953\"],[0.7777777777777778,\"#fb9f3a\"],[0.8888888888888888,\"#fdca26\"],[1.0,\"#f0f921\"]],\"type\":\"contour\"}],\"contourcarpet\":[{\"colorbar\":{\"outlinewidth\":0,\"ticks\":\"\"},\"type\":\"contourcarpet\"}],\"heatmap\":[{\"colorbar\":{\"outlinewidth\":0,\"ticks\":\"\"},\"colorscale\":[[0.0,\"#0d0887\"],[0.1111111111111111,\"#46039f\"],[0.2222222222222222,\"#7201a8\"],[0.3333333333333333,\"#9c179e\"],[0.4444444444444444,\"#bd3786\"],[0.5555555555555556,\"#d8576b\"],[0.6666666666666666,\"#ed7953\"],[0.7777777777777778,\"#fb9f3a\"],[0.8888888888888888,\"#fdca26\"],[1.0,\"#f0f921\"]],\"type\":\"heatmap\"}],\"heatmapgl\":[{\"colorbar\":{\"outlinewidth\":0,\"ticks\":\"\"},\"colorscale\":[[0.0,\"#0d0887\"],[0.1111111111111111,\"#46039f\"],[0.2222222222222222,\"#7201a8\"],[0.3333333333333333,\"#9c179e\"],[0.4444444444444444,\"#bd3786\"],[0.5555555555555556,\"#d8576b\"],[0.6666666666666666,\"#ed7953\"],[0.7777777777777778,\"#fb9f3a\"],[0.8888888888888888,\"#fdca26\"],[1.0,\"#f0f921\"]],\"type\":\"heatmapgl\"}],\"histogram\":[{\"marker\":{\"pattern\":{\"fillmode\":\"overlay\",\"size\":10,\"solidity\":0.2}},\"type\":\"histogram\"}],\"histogram2d\":[{\"colorbar\":{\"outlinewidth\":0,\"ticks\":\"\"},\"colorscale\":[[0.0,\"#0d0887\"],[0.1111111111111111,\"#46039f\"],[0.2222222222222222,\"#7201a8\"],[0.3333333333333333,\"#9c179e\"],[0.4444444444444444,\"#bd3786\"],[0.5555555555555556,\"#d8576b\"],[0.6666666666666666,\"#ed7953\"],[0.7777777777777778,\"#fb9f3a\"],[0.8888888888888888,\"#fdca26\"],[1.0,\"#f0f921\"]],\"type\":\"histogram2d\"}],\"histogram2dcontour\":[{\"colorbar\":{\"outlinewidth\":0,\"ticks\":\"\"},\"colorscale\":[[0.0,\"#0d0887\"],[0.1111111111111111,\"#46039f\"],[0.2222222222222222,\"#7201a8\"],[0.3333333333333333,\"#9c179e\"],[0.4444444444444444,\"#bd3786\"],[0.5555555555555556,\"#d8576b\"],[0.6666666666666666,\"#ed7953\"],[0.7777777777777778,\"#fb9f3a\"],[0.8888888888888888,\"#fdca26\"],[1.0,\"#f0f921\"]],\"type\":\"histogram2dcontour\"}],\"mesh3d\":[{\"colorbar\":{\"outlinewidth\":0,\"ticks\":\"\"},\"type\":\"mesh3d\"}],\"parcoords\":[{\"line\":{\"colorbar\":{\"outlinewidth\":0,\"ticks\":\"\"}},\"type\":\"parcoords\"}],\"pie\":[{\"automargin\":true,\"type\":\"pie\"}],\"scatter\":[{\"marker\":{\"colorbar\":{\"outlinewidth\":0,\"ticks\":\"\"}},\"type\":\"scatter\"}],\"scatter3d\":[{\"line\":{\"colorbar\":{\"outlinewidth\":0,\"ticks\":\"\"}},\"marker\":{\"colorbar\":{\"outlinewidth\":0,\"ticks\":\"\"}},\"type\":\"scatter3d\"}],\"scattercarpet\":[{\"marker\":{\"colorbar\":{\"outlinewidth\":0,\"ticks\":\"\"}},\"type\":\"scattercarpet\"}],\"scattergeo\":[{\"marker\":{\"colorbar\":{\"outlinewidth\":0,\"ticks\":\"\"}},\"type\":\"scattergeo\"}],\"scattergl\":[{\"marker\":{\"colorbar\":{\"outlinewidth\":0,\"ticks\":\"\"}},\"type\":\"scattergl\"}],\"scattermapbox\":[{\"marker\":{\"colorbar\":{\"outlinewidth\":0,\"ticks\":\"\"}},\"type\":\"scattermapbox\"}],\"scatterpolar\":[{\"marker\":{\"colorbar\":{\"outlinewidth\":0,\"ticks\":\"\"}},\"type\":\"scatterpolar\"}],\"scatterpolargl\":[{\"marker\":{\"colorbar\":{\"outlinewidth\":0,\"ticks\":\"\"}},\"type\":\"scatterpolargl\"}],\"scatterternary\":[{\"marker\":{\"colorbar\":{\"outlinewidth\":0,\"ticks\":\"\"}},\"type\":\"scatterternary\"}],\"surface\":[{\"colorbar\":{\"outlinewidth\":0,\"ticks\":\"\"},\"colorscale\":[[0.0,\"#0d0887\"],[0.1111111111111111,\"#46039f\"],[0.2222222222222222,\"#7201a8\"],[0.3333333333333333,\"#9c179e\"],[0.4444444444444444,\"#bd3786\"],[0.5555555555555556,\"#d8576b\"],[0.6666666666666666,\"#ed7953\"],[0.7777777777777778,\"#fb9f3a\"],[0.8888888888888888,\"#fdca26\"],[1.0,\"#f0f921\"]],\"type\":\"surface\"}],\"table\":[{\"cells\":{\"fill\":{\"color\":\"#EBF0F8\"},\"line\":{\"color\":\"white\"}},\"header\":{\"fill\":{\"color\":\"#C8D4E3\"},\"line\":{\"color\":\"white\"}},\"type\":\"table\"}]},\"layout\":{\"annotationdefaults\":{\"arrowcolor\":\"#2a3f5f\",\"arrowhead\":0,\"arrowwidth\":1},\"autotypenumbers\":\"strict\",\"coloraxis\":{\"colorbar\":{\"outlinewidth\":0,\"ticks\":\"\"}},\"colorscale\":{\"diverging\":[[0,\"#8e0152\"],[0.1,\"#c51b7d\"],[0.2,\"#de77ae\"],[0.3,\"#f1b6da\"],[0.4,\"#fde0ef\"],[0.5,\"#f7f7f7\"],[0.6,\"#e6f5d0\"],[0.7,\"#b8e186\"],[0.8,\"#7fbc41\"],[0.9,\"#4d9221\"],[1,\"#276419\"]],\"sequential\":[[0.0,\"#0d0887\"],[0.1111111111111111,\"#46039f\"],[0.2222222222222222,\"#7201a8\"],[0.3333333333333333,\"#9c179e\"],[0.4444444444444444,\"#bd3786\"],[0.5555555555555556,\"#d8576b\"],[0.6666666666666666,\"#ed7953\"],[0.7777777777777778,\"#fb9f3a\"],[0.8888888888888888,\"#fdca26\"],[1.0,\"#f0f921\"]],\"sequentialminus\":[[0.0,\"#0d0887\"],[0.1111111111111111,\"#46039f\"],[0.2222222222222222,\"#7201a8\"],[0.3333333333333333,\"#9c179e\"],[0.4444444444444444,\"#bd3786\"],[0.5555555555555556,\"#d8576b\"],[0.6666666666666666,\"#ed7953\"],[0.7777777777777778,\"#fb9f3a\"],[0.8888888888888888,\"#fdca26\"],[1.0,\"#f0f921\"]]},\"colorway\":[\"#636efa\",\"#EF553B\",\"#00cc96\",\"#ab63fa\",\"#FFA15A\",\"#19d3f3\",\"#FF6692\",\"#B6E880\",\"#FF97FF\",\"#FECB52\"],\"font\":{\"color\":\"#2a3f5f\"},\"geo\":{\"bgcolor\":\"white\",\"lakecolor\":\"white\",\"landcolor\":\"#E5ECF6\",\"showlakes\":true,\"showland\":true,\"subunitcolor\":\"white\"},\"hoverlabel\":{\"align\":\"left\"},\"hovermode\":\"closest\",\"mapbox\":{\"style\":\"light\"},\"paper_bgcolor\":\"white\",\"plot_bgcolor\":\"#E5ECF6\",\"polar\":{\"angularaxis\":{\"gridcolor\":\"white\",\"linecolor\":\"white\",\"ticks\":\"\"},\"bgcolor\":\"#E5ECF6\",\"radialaxis\":{\"gridcolor\":\"white\",\"linecolor\":\"white\",\"ticks\":\"\"}},\"scene\":{\"xaxis\":{\"backgroundcolor\":\"#E5ECF6\",\"gridcolor\":\"white\",\"gridwidth\":2,\"linecolor\":\"white\",\"showbackground\":true,\"ticks\":\"\",\"zerolinecolor\":\"white\"},\"yaxis\":{\"backgroundcolor\":\"#E5ECF6\",\"gridcolor\":\"white\",\"gridwidth\":2,\"linecolor\":\"white\",\"showbackground\":true,\"ticks\":\"\",\"zerolinecolor\":\"white\"},\"zaxis\":{\"backgroundcolor\":\"#E5ECF6\",\"gridcolor\":\"white\",\"gridwidth\":2,\"linecolor\":\"white\",\"showbackground\":true,\"ticks\":\"\",\"zerolinecolor\":\"white\"}},\"shapedefaults\":{\"line\":{\"color\":\"#2a3f5f\"}},\"ternary\":{\"aaxis\":{\"gridcolor\":\"white\",\"linecolor\":\"white\",\"ticks\":\"\"},\"baxis\":{\"gridcolor\":\"white\",\"linecolor\":\"white\",\"ticks\":\"\"},\"bgcolor\":\"#E5ECF6\",\"caxis\":{\"gridcolor\":\"white\",\"linecolor\":\"white\",\"ticks\":\"\"}},\"title\":{\"x\":0.05},\"xaxis\":{\"automargin\":true,\"gridcolor\":\"white\",\"linecolor\":\"white\",\"ticks\":\"\",\"title\":{\"standoff\":15},\"zerolinecolor\":\"white\",\"zerolinewidth\":2},\"yaxis\":{\"automargin\":true,\"gridcolor\":\"white\",\"linecolor\":\"white\",\"ticks\":\"\",\"title\":{\"standoff\":15},\"zerolinecolor\":\"white\",\"zerolinewidth\":2}}},\"xaxis\":{\"anchor\":\"y\",\"domain\":[0.0,1.0]},\"yaxis\":{\"anchor\":\"x\",\"domain\":[0.0,1.0],\"title\":{\"text\":\"Cholesterol\"}},\"legend\":{\"tracegroupgap\":0},\"margin\":{\"t\":60},\"boxmode\":\"group\"},                        {\"responsive\": true}                    ).then(function(){\n",
              "                            \n",
              "var gd = document.getElementById('8e601758-1926-48f8-9e24-db2efb1ac066');\n",
              "var x = new MutationObserver(function (mutations, observer) {{\n",
              "        var display = window.getComputedStyle(gd).display;\n",
              "        if (!display || display === 'none') {{\n",
              "            console.log([gd, 'removed!']);\n",
              "            Plotly.purge(gd);\n",
              "            observer.disconnect();\n",
              "        }}\n",
              "}});\n",
              "\n",
              "// Listen for the removal of the full notebook cells\n",
              "var notebookContainer = gd.closest('#notebook-container');\n",
              "if (notebookContainer) {{\n",
              "    x.observe(notebookContainer, {childList: true});\n",
              "}}\n",
              "\n",
              "// Listen for the clearing of the current output cell\n",
              "var outputEl = gd.closest('.output');\n",
              "if (outputEl) {{\n",
              "    x.observe(outputEl, {childList: true});\n",
              "}}\n",
              "\n",
              "                        })                };                            </script>        </div>\n",
              "</body>\n",
              "</html>"
            ]
          },
          "metadata": {}
        }
      ]
    },
    {
      "cell_type": "code",
      "source": [
        "# Frequência Cardíaca Máxima\n",
        "px.box(dados2, y='MaxHR')"
      ],
      "metadata": {
        "id": "N8vVrQHYtTO6",
        "colab": {
          "base_uri": "https://localhost:8080/",
          "height": 0
        },
        "outputId": "37386e2d-a813-4ce1-c873-9aef6f1f9e52"
      },
      "execution_count": 123,
      "outputs": [
        {
          "output_type": "display_data",
          "data": {
            "text/html": [
              "<html>\n",
              "<head><meta charset=\"utf-8\" /></head>\n",
              "<body>\n",
              "    <div>            <script src=\"https://cdnjs.cloudflare.com/ajax/libs/mathjax/2.7.5/MathJax.js?config=TeX-AMS-MML_SVG\"></script><script type=\"text/javascript\">if (window.MathJax) {MathJax.Hub.Config({SVG: {font: \"STIX-Web\"}});}</script>                <script type=\"text/javascript\">window.PlotlyConfig = {MathJaxConfig: 'local'};</script>\n",
              "        <script src=\"https://cdn.plot.ly/plotly-2.8.3.min.js\"></script>                <div id=\"4ed40013-f2f4-49a8-ad42-5d049bbb1ae5\" class=\"plotly-graph-div\" style=\"height:525px; width:100%;\"></div>            <script type=\"text/javascript\">                                    window.PLOTLYENV=window.PLOTLYENV || {};                                    if (document.getElementById(\"4ed40013-f2f4-49a8-ad42-5d049bbb1ae5\")) {                    Plotly.newPlot(                        \"4ed40013-f2f4-49a8-ad42-5d049bbb1ae5\",                        [{\"alignmentgroup\":\"True\",\"hovertemplate\":\"MaxHR=%{y}<extra></extra>\",\"legendgroup\":\"\",\"marker\":{\"color\":\"#636efa\"},\"name\":\"\",\"notched\":false,\"offsetgroup\":\"\",\"orientation\":\"v\",\"showlegend\":false,\"x0\":\" \",\"xaxis\":\"x\",\"y\":[172,156,98,108,122,170,170,142,130,120,142,99,145,140,137,150,166,165,125,160,142,142,164,150,138,178,112,118,127,145,130,114,122,130,154,155,87,142,148,130,130,100,168,170,120,120,168,170,184,170,121,98,122,150,140,170,153,140,134,96,174,175,144,125,145,130,144,184,82,170,145,135,150,115,128,116,130,150,138,170,160,154,115,165,125,94,112,142,155,110,160,140,148,92,180,140,138,160,140,144,115,100,130,152,124,140,110,168,135,106,124,92,125,150,135,150,170,130,185,180,170,139,140,110,150,110,190,175,140,152,130,150,122,124,120,175,175,146,118,130,94,125,158,155,150,132,155,176,160,125,120,100,150,140,160,150,150,130,100,130,119,96,174,150,140,175,140,118,100,160,160,188,162,172,134,135,105,150,150,90,120,150,124,140,130,92,110,138,110,120,120,116,160,110,180,116,132,136,116,98,150,150,146,150,100,140,180,140,185,140,110,140,128,164,98,170,150,137,150,170,112,150,125,185,137,150,140,134,170,184,158,167,129,142,140,160,118,136,99,102,155,142,143,118,103,137,150,150,130,120,135,115,115,152,96,130,150,172,120,155,165,138,115,125,145,175,110,150,91,145,140,165,130,134,180,100,150,126,126,155,135,122,160,160,170,120,140,132,156,180,138,135,148,93,127,110,139,131,92,149,149,150,120,123,126,127,155,120,138,182,154,110,176,154,141,123,148,121,77,136,175,109,166,128,133,128,138,119,82,130,143,82,179,144,170,134,114,154,149,145,122,114,113,120,104,130,115,128,104,125,120,140,100,100,92,125,113,95,128,115,72,124,99,148,97,140,117,120,120,86,63,108,98,115,105,121,118,122,157,156,99,120,145,156,155,105,99,135,83,145,60,92,115,120,98,150,143,105,122,70,110,163,67,128,120,130,100,72,94,122,78,150,103,98,110,90,112,127,140,149,99,120,105,140,141,157,140,117,120,120,148,86,84,125,120,118,124,106,111,116,180,129,125,140,120,124,117,110,105,110,122,118,133,123,131,80,165,86,111,118,84,117,107,128,160,125,130,97,161,106,130,140,122,130,120,139,108,148,123,110,118,125,106,112,128,180,144,135,140,102,108,145,127,110,140,69,148,130,130,140,138,140,138,112,131,112,80,150,110,126,88,153,150,120,160,132,120,110,121,128,135,120,117,150,144,113,135,127,109,128,115,102,140,135,122,119,130,112,100,122,120,105,129,120,139,162,100,140,135,73,86,108,116,160,118,112,122,124,102,137,141,154,126,160,115,128,115,105,110,119,109,135,130,112,126,120,110,119,110,130,159,84,126,116,120,122,165,122,94,133,110,150,130,113,140,100,136,127,98,96,123,98,112,151,96,108,128,138,126,154,137,100,135,93,109,160,141,105,121,140,142,142,170,154,161,111,180,145,159,125,120,155,144,178,129,180,181,143,159,139,152,157,165,130,150,138,170,140,126,150,138,125,150,186,181,163,179,156,134,165,126,177,120,114,125,184,157,179,175,168,125,96,143,103,173,142,169,171,150,112,186,152,149,152,140,163,143,116,142,147,148,179,173,178,105,130,111,168,126,178,140,145,163,128,164,169,109,108,168,118,151,156,133,162,175,71,163,124,147,166,143,157,162,138,117,153,161,170,162,162,144,133,114,103,139,116,88,151,152,163,99,169,158,160,169,132,178,96,165,160,172,144,192,168,132,182,163,125,195,95,160,114,173,172,179,158,167,122,149,172,111,170,162,165,182,154,155,130,161,154,159,152,152,174,131,146,125,115,174,106,122,147,163,163,194,150,158,122,173,162,105,147,157,112,160,125,156,156,175,161,122,158,151,162,151,171,141,173,145,178,160,154,131,187,159,166,165,131,202,172,172,154,147,170,126,127,174,132,182,132,97,136,162,190,146,140,185,161,146,145,160,120,156,172,150,182,143,160,142,144,158,148,155,142,113,188,153,123,157,162,137,132,158,171,172,132,160,171,168,162,173,153,148,108,115,169,143,156,162,155,152,152,164,131,143,179,130,174,161,140,146,144,163,169,150,166,144,144,136,182,90,123,132,141,115,174,173],\"y0\":\" \",\"yaxis\":\"y\",\"type\":\"box\"}],                        {\"template\":{\"data\":{\"bar\":[{\"error_x\":{\"color\":\"#2a3f5f\"},\"error_y\":{\"color\":\"#2a3f5f\"},\"marker\":{\"line\":{\"color\":\"#E5ECF6\",\"width\":0.5},\"pattern\":{\"fillmode\":\"overlay\",\"size\":10,\"solidity\":0.2}},\"type\":\"bar\"}],\"barpolar\":[{\"marker\":{\"line\":{\"color\":\"#E5ECF6\",\"width\":0.5},\"pattern\":{\"fillmode\":\"overlay\",\"size\":10,\"solidity\":0.2}},\"type\":\"barpolar\"}],\"carpet\":[{\"aaxis\":{\"endlinecolor\":\"#2a3f5f\",\"gridcolor\":\"white\",\"linecolor\":\"white\",\"minorgridcolor\":\"white\",\"startlinecolor\":\"#2a3f5f\"},\"baxis\":{\"endlinecolor\":\"#2a3f5f\",\"gridcolor\":\"white\",\"linecolor\":\"white\",\"minorgridcolor\":\"white\",\"startlinecolor\":\"#2a3f5f\"},\"type\":\"carpet\"}],\"choropleth\":[{\"colorbar\":{\"outlinewidth\":0,\"ticks\":\"\"},\"type\":\"choropleth\"}],\"contour\":[{\"colorbar\":{\"outlinewidth\":0,\"ticks\":\"\"},\"colorscale\":[[0.0,\"#0d0887\"],[0.1111111111111111,\"#46039f\"],[0.2222222222222222,\"#7201a8\"],[0.3333333333333333,\"#9c179e\"],[0.4444444444444444,\"#bd3786\"],[0.5555555555555556,\"#d8576b\"],[0.6666666666666666,\"#ed7953\"],[0.7777777777777778,\"#fb9f3a\"],[0.8888888888888888,\"#fdca26\"],[1.0,\"#f0f921\"]],\"type\":\"contour\"}],\"contourcarpet\":[{\"colorbar\":{\"outlinewidth\":0,\"ticks\":\"\"},\"type\":\"contourcarpet\"}],\"heatmap\":[{\"colorbar\":{\"outlinewidth\":0,\"ticks\":\"\"},\"colorscale\":[[0.0,\"#0d0887\"],[0.1111111111111111,\"#46039f\"],[0.2222222222222222,\"#7201a8\"],[0.3333333333333333,\"#9c179e\"],[0.4444444444444444,\"#bd3786\"],[0.5555555555555556,\"#d8576b\"],[0.6666666666666666,\"#ed7953\"],[0.7777777777777778,\"#fb9f3a\"],[0.8888888888888888,\"#fdca26\"],[1.0,\"#f0f921\"]],\"type\":\"heatmap\"}],\"heatmapgl\":[{\"colorbar\":{\"outlinewidth\":0,\"ticks\":\"\"},\"colorscale\":[[0.0,\"#0d0887\"],[0.1111111111111111,\"#46039f\"],[0.2222222222222222,\"#7201a8\"],[0.3333333333333333,\"#9c179e\"],[0.4444444444444444,\"#bd3786\"],[0.5555555555555556,\"#d8576b\"],[0.6666666666666666,\"#ed7953\"],[0.7777777777777778,\"#fb9f3a\"],[0.8888888888888888,\"#fdca26\"],[1.0,\"#f0f921\"]],\"type\":\"heatmapgl\"}],\"histogram\":[{\"marker\":{\"pattern\":{\"fillmode\":\"overlay\",\"size\":10,\"solidity\":0.2}},\"type\":\"histogram\"}],\"histogram2d\":[{\"colorbar\":{\"outlinewidth\":0,\"ticks\":\"\"},\"colorscale\":[[0.0,\"#0d0887\"],[0.1111111111111111,\"#46039f\"],[0.2222222222222222,\"#7201a8\"],[0.3333333333333333,\"#9c179e\"],[0.4444444444444444,\"#bd3786\"],[0.5555555555555556,\"#d8576b\"],[0.6666666666666666,\"#ed7953\"],[0.7777777777777778,\"#fb9f3a\"],[0.8888888888888888,\"#fdca26\"],[1.0,\"#f0f921\"]],\"type\":\"histogram2d\"}],\"histogram2dcontour\":[{\"colorbar\":{\"outlinewidth\":0,\"ticks\":\"\"},\"colorscale\":[[0.0,\"#0d0887\"],[0.1111111111111111,\"#46039f\"],[0.2222222222222222,\"#7201a8\"],[0.3333333333333333,\"#9c179e\"],[0.4444444444444444,\"#bd3786\"],[0.5555555555555556,\"#d8576b\"],[0.6666666666666666,\"#ed7953\"],[0.7777777777777778,\"#fb9f3a\"],[0.8888888888888888,\"#fdca26\"],[1.0,\"#f0f921\"]],\"type\":\"histogram2dcontour\"}],\"mesh3d\":[{\"colorbar\":{\"outlinewidth\":0,\"ticks\":\"\"},\"type\":\"mesh3d\"}],\"parcoords\":[{\"line\":{\"colorbar\":{\"outlinewidth\":0,\"ticks\":\"\"}},\"type\":\"parcoords\"}],\"pie\":[{\"automargin\":true,\"type\":\"pie\"}],\"scatter\":[{\"marker\":{\"colorbar\":{\"outlinewidth\":0,\"ticks\":\"\"}},\"type\":\"scatter\"}],\"scatter3d\":[{\"line\":{\"colorbar\":{\"outlinewidth\":0,\"ticks\":\"\"}},\"marker\":{\"colorbar\":{\"outlinewidth\":0,\"ticks\":\"\"}},\"type\":\"scatter3d\"}],\"scattercarpet\":[{\"marker\":{\"colorbar\":{\"outlinewidth\":0,\"ticks\":\"\"}},\"type\":\"scattercarpet\"}],\"scattergeo\":[{\"marker\":{\"colorbar\":{\"outlinewidth\":0,\"ticks\":\"\"}},\"type\":\"scattergeo\"}],\"scattergl\":[{\"marker\":{\"colorbar\":{\"outlinewidth\":0,\"ticks\":\"\"}},\"type\":\"scattergl\"}],\"scattermapbox\":[{\"marker\":{\"colorbar\":{\"outlinewidth\":0,\"ticks\":\"\"}},\"type\":\"scattermapbox\"}],\"scatterpolar\":[{\"marker\":{\"colorbar\":{\"outlinewidth\":0,\"ticks\":\"\"}},\"type\":\"scatterpolar\"}],\"scatterpolargl\":[{\"marker\":{\"colorbar\":{\"outlinewidth\":0,\"ticks\":\"\"}},\"type\":\"scatterpolargl\"}],\"scatterternary\":[{\"marker\":{\"colorbar\":{\"outlinewidth\":0,\"ticks\":\"\"}},\"type\":\"scatterternary\"}],\"surface\":[{\"colorbar\":{\"outlinewidth\":0,\"ticks\":\"\"},\"colorscale\":[[0.0,\"#0d0887\"],[0.1111111111111111,\"#46039f\"],[0.2222222222222222,\"#7201a8\"],[0.3333333333333333,\"#9c179e\"],[0.4444444444444444,\"#bd3786\"],[0.5555555555555556,\"#d8576b\"],[0.6666666666666666,\"#ed7953\"],[0.7777777777777778,\"#fb9f3a\"],[0.8888888888888888,\"#fdca26\"],[1.0,\"#f0f921\"]],\"type\":\"surface\"}],\"table\":[{\"cells\":{\"fill\":{\"color\":\"#EBF0F8\"},\"line\":{\"color\":\"white\"}},\"header\":{\"fill\":{\"color\":\"#C8D4E3\"},\"line\":{\"color\":\"white\"}},\"type\":\"table\"}]},\"layout\":{\"annotationdefaults\":{\"arrowcolor\":\"#2a3f5f\",\"arrowhead\":0,\"arrowwidth\":1},\"autotypenumbers\":\"strict\",\"coloraxis\":{\"colorbar\":{\"outlinewidth\":0,\"ticks\":\"\"}},\"colorscale\":{\"diverging\":[[0,\"#8e0152\"],[0.1,\"#c51b7d\"],[0.2,\"#de77ae\"],[0.3,\"#f1b6da\"],[0.4,\"#fde0ef\"],[0.5,\"#f7f7f7\"],[0.6,\"#e6f5d0\"],[0.7,\"#b8e186\"],[0.8,\"#7fbc41\"],[0.9,\"#4d9221\"],[1,\"#276419\"]],\"sequential\":[[0.0,\"#0d0887\"],[0.1111111111111111,\"#46039f\"],[0.2222222222222222,\"#7201a8\"],[0.3333333333333333,\"#9c179e\"],[0.4444444444444444,\"#bd3786\"],[0.5555555555555556,\"#d8576b\"],[0.6666666666666666,\"#ed7953\"],[0.7777777777777778,\"#fb9f3a\"],[0.8888888888888888,\"#fdca26\"],[1.0,\"#f0f921\"]],\"sequentialminus\":[[0.0,\"#0d0887\"],[0.1111111111111111,\"#46039f\"],[0.2222222222222222,\"#7201a8\"],[0.3333333333333333,\"#9c179e\"],[0.4444444444444444,\"#bd3786\"],[0.5555555555555556,\"#d8576b\"],[0.6666666666666666,\"#ed7953\"],[0.7777777777777778,\"#fb9f3a\"],[0.8888888888888888,\"#fdca26\"],[1.0,\"#f0f921\"]]},\"colorway\":[\"#636efa\",\"#EF553B\",\"#00cc96\",\"#ab63fa\",\"#FFA15A\",\"#19d3f3\",\"#FF6692\",\"#B6E880\",\"#FF97FF\",\"#FECB52\"],\"font\":{\"color\":\"#2a3f5f\"},\"geo\":{\"bgcolor\":\"white\",\"lakecolor\":\"white\",\"landcolor\":\"#E5ECF6\",\"showlakes\":true,\"showland\":true,\"subunitcolor\":\"white\"},\"hoverlabel\":{\"align\":\"left\"},\"hovermode\":\"closest\",\"mapbox\":{\"style\":\"light\"},\"paper_bgcolor\":\"white\",\"plot_bgcolor\":\"#E5ECF6\",\"polar\":{\"angularaxis\":{\"gridcolor\":\"white\",\"linecolor\":\"white\",\"ticks\":\"\"},\"bgcolor\":\"#E5ECF6\",\"radialaxis\":{\"gridcolor\":\"white\",\"linecolor\":\"white\",\"ticks\":\"\"}},\"scene\":{\"xaxis\":{\"backgroundcolor\":\"#E5ECF6\",\"gridcolor\":\"white\",\"gridwidth\":2,\"linecolor\":\"white\",\"showbackground\":true,\"ticks\":\"\",\"zerolinecolor\":\"white\"},\"yaxis\":{\"backgroundcolor\":\"#E5ECF6\",\"gridcolor\":\"white\",\"gridwidth\":2,\"linecolor\":\"white\",\"showbackground\":true,\"ticks\":\"\",\"zerolinecolor\":\"white\"},\"zaxis\":{\"backgroundcolor\":\"#E5ECF6\",\"gridcolor\":\"white\",\"gridwidth\":2,\"linecolor\":\"white\",\"showbackground\":true,\"ticks\":\"\",\"zerolinecolor\":\"white\"}},\"shapedefaults\":{\"line\":{\"color\":\"#2a3f5f\"}},\"ternary\":{\"aaxis\":{\"gridcolor\":\"white\",\"linecolor\":\"white\",\"ticks\":\"\"},\"baxis\":{\"gridcolor\":\"white\",\"linecolor\":\"white\",\"ticks\":\"\"},\"bgcolor\":\"#E5ECF6\",\"caxis\":{\"gridcolor\":\"white\",\"linecolor\":\"white\",\"ticks\":\"\"}},\"title\":{\"x\":0.05},\"xaxis\":{\"automargin\":true,\"gridcolor\":\"white\",\"linecolor\":\"white\",\"ticks\":\"\",\"title\":{\"standoff\":15},\"zerolinecolor\":\"white\",\"zerolinewidth\":2},\"yaxis\":{\"automargin\":true,\"gridcolor\":\"white\",\"linecolor\":\"white\",\"ticks\":\"\",\"title\":{\"standoff\":15},\"zerolinecolor\":\"white\",\"zerolinewidth\":2}}},\"xaxis\":{\"anchor\":\"y\",\"domain\":[0.0,1.0]},\"yaxis\":{\"anchor\":\"x\",\"domain\":[0.0,1.0],\"title\":{\"text\":\"MaxHR\"}},\"legend\":{\"tracegroupgap\":0},\"margin\":{\"t\":60},\"boxmode\":\"group\"},                        {\"responsive\": true}                    ).then(function(){\n",
              "                            \n",
              "var gd = document.getElementById('4ed40013-f2f4-49a8-ad42-5d049bbb1ae5');\n",
              "var x = new MutationObserver(function (mutations, observer) {{\n",
              "        var display = window.getComputedStyle(gd).display;\n",
              "        if (!display || display === 'none') {{\n",
              "            console.log([gd, 'removed!']);\n",
              "            Plotly.purge(gd);\n",
              "            observer.disconnect();\n",
              "        }}\n",
              "}});\n",
              "\n",
              "// Listen for the removal of the full notebook cells\n",
              "var notebookContainer = gd.closest('#notebook-container');\n",
              "if (notebookContainer) {{\n",
              "    x.observe(notebookContainer, {childList: true});\n",
              "}}\n",
              "\n",
              "// Listen for the clearing of the current output cell\n",
              "var outputEl = gd.closest('.output');\n",
              "if (outputEl) {{\n",
              "    x.observe(outputEl, {childList: true});\n",
              "}}\n",
              "\n",
              "                        })                };                            </script>        </div>\n",
              "</body>\n",
              "</html>"
            ]
          },
          "metadata": {}
        }
      ]
    },
    {
      "cell_type": "markdown",
      "metadata": {
        "id": "xJBO2DT_dykz"
      },
      "source": [
        "## **Salvando (Exportando) o Dataframe Tratado**"
      ]
    },
    {
      "cell_type": "code",
      "metadata": {
        "id": "lpVkk2e9XXuF"
      },
      "source": [
        "dados2.to_csv('heart_tratado.csv', sep=';', encoding='utf-8', index = False)"
      ],
      "execution_count": 124,
      "outputs": []
    }
  ]
}